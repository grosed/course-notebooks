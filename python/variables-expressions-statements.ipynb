{
 "cells": [
  {
   "cell_type": "markdown",
   "id": "479f4175",
   "metadata": {},
   "source": [
    "# Variables, expressions and statements"
   ]
  },
  {
   "cell_type": "markdown",
   "id": "5f175440",
   "metadata": {},
   "source": [
    "## Values and types"
   ]
  },
  {
   "cell_type": "markdown",
   "id": "92798038",
   "metadata": {},
   "source": [
    "A **value** is one of the basic things a program works with, like a letter or a number.  The values we have seen \n",
    "so far are 1, 2, and 'Hello, World!'."
   ]
  },
  {
   "cell_type": "markdown",
   "id": "09f05732",
   "metadata": {},
   "source": [
    "These values belong to different **types** :\n",
    "2 is an **integer**, and 'Hello, World!' is a **string**,\n",
    "so-called because it contains a ``string'' of letters.\n",
    "You (and the interpreter) can identify\n",
    "strings because they are enclosed in quotation marks.\n",
    "\n",
    "If you are not sure what type a value has, the interpreter can tell you."
   ]
  },
  {
   "cell_type": "code",
   "execution_count": 2,
   "id": "50de53de",
   "metadata": {},
   "outputs": [
    {
     "data": {
      "text/plain": [
       "str"
      ]
     },
     "execution_count": 2,
     "metadata": {},
     "output_type": "execute_result"
    }
   ],
   "source": [
    "type(\"hello world\")"
   ]
  },
  {
   "cell_type": "code",
   "execution_count": 3,
   "id": "86cdb84d",
   "metadata": {},
   "outputs": [
    {
     "data": {
      "text/plain": [
       "int"
      ]
     },
     "execution_count": 3,
     "metadata": {},
     "output_type": "execute_result"
    }
   ],
   "source": [
    "type(17)"
   ]
  },
  {
   "cell_type": "markdown",
   "id": "bf3c249a",
   "metadata": {},
   "source": [
    "Not surprisingly, strings belong to the type **str** and\n",
    "integers belong to the type **int**.  Less obviously, numbers\n",
    "with a decimal point belong to a type called **float**,\n",
    "because these numbers are represented in a\n",
    "format called **floating-point**."
   ]
  },
  {
   "cell_type": "markdown",
   "id": "17d170d7",
   "metadata": {},
   "source": [
    "type(3.2)"
   ]
  },
  {
   "cell_type": "markdown",
   "id": "a3b87870",
   "metadata": {},
   "source": [
    "What about values like '17' and '3.2'?\n",
    "They look like numbers, but they are in quotation marks like\n",
    "strings."
   ]
  },
  {
   "cell_type": "code",
   "execution_count": 4,
   "id": "65f500af",
   "metadata": {},
   "outputs": [
    {
     "data": {
      "text/plain": [
       "str"
      ]
     },
     "execution_count": 4,
     "metadata": {},
     "output_type": "execute_result"
    }
   ],
   "source": [
    "type('17')"
   ]
  },
  {
   "cell_type": "code",
   "execution_count": 5,
   "id": "4d611675",
   "metadata": {},
   "outputs": [
    {
     "data": {
      "text/plain": [
       "str"
      ]
     },
     "execution_count": 5,
     "metadata": {},
     "output_type": "execute_result"
    }
   ],
   "source": [
    "type('3.2')"
   ]
  },
  {
   "cell_type": "markdown",
   "id": "91a9569d",
   "metadata": {},
   "source": [
    "What about 1,000,000 ?  This is not a\n",
    "legal integer in Python, but it is legal :"
   ]
  },
  {
   "cell_type": "code",
   "execution_count": 6,
   "id": "2baa84c4",
   "metadata": {},
   "outputs": [
    {
     "data": {
      "text/plain": [
       "(1, 0, 0)"
      ]
     },
     "execution_count": 6,
     "metadata": {},
     "output_type": "execute_result"
    }
   ],
   "source": [
    "1,000,000"
   ]
  },
  {
   "cell_type": "markdown",
   "id": "76f10bc4",
   "metadata": {},
   "source": [
    "Python interprets 1,000,000 as a comma-separated sequence of integers.\n",
    "This is the first example we have seen of a **semantic error** : the code\n",
    "runs without producing an error message, but it doesn't do the\n",
    "``right'' thing."
   ]
  },
  {
   "cell_type": "markdown",
   "id": "e89d9c63",
   "metadata": {},
   "source": [
    "### Variable assignment"
   ]
  },
  {
   "cell_type": "markdown",
   "id": "5d34312f",
   "metadata": {},
   "source": [
    "One of the most powerful features of a programming language is the\n",
    "ability to manipulate **variables**.  A variable is a name that\n",
    "refers to a value.\n",
    "\n",
    "An **assignment statement** creates new variables and gives\n",
    "them values :"
   ]
  },
  {
   "cell_type": "code",
   "execution_count": 7,
   "id": "d2cd15da",
   "metadata": {},
   "outputs": [],
   "source": [
    "message = 'And now for something completely different'\n",
    "n = 17\n",
    "pi = 3.1415926535897932"
   ]
  },
  {
   "cell_type": "markdown",
   "id": "76b0c3d2",
   "metadata": {},
   "source": [
    "One way of representing this assignment is shown below. Note that the variable servers as a label for accessing a \n",
    "value."
   ]
  },
  {
   "cell_type": "markdown",
   "id": "692ed5a9",
   "metadata": {},
   "source": [
    "![title](figs/state2.png)\n"
   ]
  },
  {
   "cell_type": "code",
   "execution_count": null,
   "id": "b41cb399",
   "metadata": {},
   "outputs": [],
   "source": [
    "Variable names can be arbitrarily long.  They can contain\n",
    "both letters and numbers, but they have to begin with a letter.\n",
    "It is legal to use uppercase letters.\n",
    "\n",
    "The underscore character, \\verb\"_\", can appear in a name.\n",
    "It is often used in names with multiple words, such as\n",
    "\\verb\"my_name\" or \\verb\"airspeed_of_unladen_swallow\".\n",
    "\n",
    "If you give a variable an illegal name, you get a syntax error:"
   ]
  },
  {
   "cell_type": "code",
   "execution_count": 9,
   "id": "678d4641",
   "metadata": {},
   "outputs": [
    {
     "ename": "SyntaxError",
     "evalue": "invalid syntax (<ipython-input-9-ee59a172c534>, line 1)",
     "output_type": "error",
     "traceback": [
      "\u001b[0;36m  File \u001b[0;32m\"<ipython-input-9-ee59a172c534>\"\u001b[0;36m, line \u001b[0;32m1\u001b[0m\n\u001b[0;31m    76trombones = 'big parade'\u001b[0m\n\u001b[0m      ^\u001b[0m\n\u001b[0;31mSyntaxError\u001b[0m\u001b[0;31m:\u001b[0m invalid syntax\n"
     ]
    }
   ],
   "source": [
    "76trombones = 'big parade'"
   ]
  },
  {
   "cell_type": "code",
   "execution_count": 10,
   "id": "89a7b492",
   "metadata": {},
   "outputs": [
    {
     "ename": "SyntaxError",
     "evalue": "invalid syntax (<ipython-input-10-4d9f2740846f>, line 1)",
     "output_type": "error",
     "traceback": [
      "\u001b[0;36m  File \u001b[0;32m\"<ipython-input-10-4d9f2740846f>\"\u001b[0;36m, line \u001b[0;32m1\u001b[0m\n\u001b[0;31m    more@ = 1000000\u001b[0m\n\u001b[0m          ^\u001b[0m\n\u001b[0;31mSyntaxError\u001b[0m\u001b[0;31m:\u001b[0m invalid syntax\n"
     ]
    }
   ],
   "source": [
    "more@ = 1000000\n",
    "SyntaxError: invalid syntax"
   ]
  },
  {
   "cell_type": "code",
   "execution_count": 11,
   "id": "f31e20cb",
   "metadata": {},
   "outputs": [
    {
     "ename": "SyntaxError",
     "evalue": "invalid syntax (<ipython-input-11-73fc4ce1a15a>, line 1)",
     "output_type": "error",
     "traceback": [
      "\u001b[0;36m  File \u001b[0;32m\"<ipython-input-11-73fc4ce1a15a>\"\u001b[0;36m, line \u001b[0;32m1\u001b[0m\n\u001b[0;31m    class = 'Advanced Theoretical Zymurgy'\u001b[0m\n\u001b[0m          ^\u001b[0m\n\u001b[0;31mSyntaxError\u001b[0m\u001b[0;31m:\u001b[0m invalid syntax\n"
     ]
    }
   ],
   "source": [
    "class = 'Advanced Theoretical Zymurgy'"
   ]
  },
  {
   "cell_type": "markdown",
   "id": "4d42d70a",
   "metadata": {},
   "source": [
    "### Python Keywords"
   ]
  },
  {
   "cell_type": "markdown",
   "id": "04523b3c",
   "metadata": {},
   "source": [
    "It turns out that **class** is one of Python's **keywords**.  The\n",
    "interpreter uses keywords to recognise the structure of the program,\n",
    "and they cannot be used as variable names.\n",
    "\n",
    "Different versions of Python may have different keywords. \n",
    "Version 3.6.9 of CPython has the following :"
   ]
  },
  {
   "cell_type": "markdown",
   "id": "9a95bd6c",
   "metadata": {},
   "source": [
    "<tr><td>False</td>     <td>None</td>      <td>True</td>      <td>and</td>       <td>as</td>  </tr>\n",
    "<tr><td>assert</td>    <td>break</td>     <td>class</td>     <td>continue</td>  <td>def</td>  </tr>\n",
    "<tr><td>del</td>       <td>elif</td>      <td>else </td>     <td>except</td>    <td>finally </td> </tr>\n",
    "<tr><td>for</td>       <td>from</td>      <td>global</td>    <td>if</td>        <td>import</td>  </tr>\n",
    "<tr><td>in</td>       <td>is</td>        <td>lambda</td>    <td>nonlocal</td>  <td>not</td>  </tr>\n",
    "<tr><td>or</td>       <td>pass      <td>raise     <td>return    <td>try  </tr>\n",
    "<tr><td>while </td>    <td>with</td>      <td>yield</td>     </tr>"
   ]
  },
  {
   "cell_type": "markdown",
   "id": "5ebab4f5",
   "metadata": {},
   "source": [
    "**Operators** are special symbols that represent computations like\n",
    "addition and multiplication.  The values the operator is applied to\n",
    "are called **operands**.\n",
    "\n",
    "The operators +, \\-, \\*, / and \\**\n",
    "perform addition, subtraction, multiplication, division and\n",
    "exponentiation, as in the following examples:"
   ]
  },
  {
   "cell_type": "code",
   "execution_count": 15,
   "id": "ec17ec95",
   "metadata": {},
   "outputs": [
    {
     "data": {
      "text/plain": [
       "112"
      ]
     },
     "execution_count": 15,
     "metadata": {},
     "output_type": "execute_result"
    }
   ],
   "source": [
    "20+32\n",
    "hour = 6\n",
    "hour-1  \n",
    "minute = 12\n",
    "hour*60+minute   \n",
    "minute/60   \n",
    "5**2   \n",
    "(5+9)*(15-7)\n",
    "\n"
   ]
  },
  {
   "cell_type": "markdown",
   "id": "bf1d7cf1",
   "metadata": {},
   "source": [
    "\n",
    "### Expressions and statements\n"
   ]
  },
  {
   "cell_type": "markdown",
   "id": "3102fc9e",
   "metadata": {},
   "source": [
    "An **expression** is a combination of values, variables, and operators.\n",
    "A value all by itself is considered an expression, and so is\n",
    "a variable, so the following are all legal expressions"
   ]
  },
  {
   "cell_type": "code",
   "execution_count": 17,
   "id": "1d3dd4b3",
   "metadata": {},
   "outputs": [
    {
     "data": {
      "text/plain": [
       "128"
      ]
     },
     "execution_count": 17,
     "metadata": {},
     "output_type": "execute_result"
    }
   ],
   "source": [
    "x = 111\n",
    "x\n",
    "x + 17"
   ]
  },
  {
   "cell_type": "markdown",
   "id": "b9112c54",
   "metadata": {},
   "source": [
    "A **statement** is a unit of code that the Python interpreter can\n",
    "execute.  We have seen two kinds of statement: print and\n",
    "assignment.\n",
    "\n",
    "Technically an expression is also a statement, but it is probably\n",
    "simpler to think of them as different things.  The important difference\n",
    "is that an expression has a value; a statement does not."
   ]
  },
  {
   "cell_type": "markdown",
   "id": "aded2a33",
   "metadata": {},
   "source": [
    "### Python operators"
   ]
  },
  {
   "cell_type": "markdown",
   "id": "e3d5e5ae",
   "metadata": {},
   "source": [
    "Most versions of python provide the following operators :"
   ]
  },
  {
   "cell_type": "markdown",
   "id": "69cecb1f",
   "metadata": {},
   "source": [
    "<tr><td>+</td> <td>-</td> <td>*</td> <td>/</td> <td>%</td> <td>//</td> <td>**</td> <td>></td> <td><</td> <td>==</td> <td>!=</td> <td>>=</td>  <td><=</td> <td>and</td></tr>\n",
    "<tr><td>or</td> <td>not</td> <td>&</td> <td>|</td> <td>~</td> <td>^</td> <td>>></td> <td><<</td> <td>=</td> <td>+=</td> <td>-=</td> <td>*=</td> <td>/=</td></tr>\n",
    "<tr><td>%=</td> <td>//=</td> <td>**=</td> <td>&=</td> <td>|=</td>  <td>^=</td> <td>>>=</td> <td><<=</td> <td>is</td> <td>in</td></tr>\n",
    "<tr><td>is</td> <td>not</td></tr>  "
   ]
  },
  {
   "cell_type": "markdown",
   "id": "d74a76cd",
   "metadata": {},
   "source": [
    "Some binary operators are left right associative, some are right left. There is also a ternary operator ``if else''.\n",
    "Try the following exercise to learn more about some of the Python operators."
   ]
  },
  {
   "cell_type": "markdown",
   "id": "86093cd0",
   "metadata": {},
   "source": [
    "### Exercise 1\n",
    "\n",
    "Have guess as to what the output should be for these commands"
   ]
  },
  {
   "cell_type": "code",
   "execution_count": 21,
   "id": "565ccd02",
   "metadata": {
    "tags": [
     "hide-output"
    ]
   },
   "outputs": [
    {
     "data": {
      "text/plain": [
       "False"
      ]
     },
     "execution_count": 21,
     "metadata": {},
     "output_type": "execute_result"
    }
   ],
   "source": [
    "False and True"
   ]
  },
  {
   "cell_type": "code",
   "execution_count": 22,
   "id": "bb69e506",
   "metadata": {
    "tags": [
     "hide-output"
    ]
   },
   "outputs": [
    {
     "data": {
      "text/plain": [
       "0"
      ]
     },
     "execution_count": 22,
     "metadata": {},
     "output_type": "execute_result"
    }
   ],
   "source": [
    "0 and True"
   ]
  },
  {
   "cell_type": "code",
   "execution_count": 23,
   "id": "e81b4bc5",
   "metadata": {
    "tags": [
     "hide-output"
    ]
   },
   "outputs": [
    {
     "data": {
      "text/plain": [
       "True"
      ]
     },
     "execution_count": 23,
     "metadata": {},
     "output_type": "execute_result"
    }
   ],
   "source": [
    "1 and True"
   ]
  },
  {
   "cell_type": "code",
   "execution_count": 24,
   "id": "76b2362d",
   "metadata": {
    "tags": [
     "hide-output"
    ]
   },
   "outputs": [
    {
     "data": {
      "text/plain": [
       "0"
      ]
     },
     "execution_count": 24,
     "metadata": {},
     "output_type": "execute_result"
    }
   ],
   "source": [
    "1 and 0"
   ]
  },
  {
   "cell_type": "code",
   "execution_count": 25,
   "id": "fd9146d5",
   "metadata": {
    "tags": [
     "hide-output"
    ]
   },
   "outputs": [
    {
     "data": {
      "text/plain": [
       "1"
      ]
     },
     "execution_count": 25,
     "metadata": {},
     "output_type": "execute_result"
    }
   ],
   "source": [
    "1 and 1"
   ]
  },
  {
   "cell_type": "code",
   "execution_count": 26,
   "id": "f229b427",
   "metadata": {
    "tags": [
     "hide-output"
    ]
   },
   "outputs": [
    {
     "data": {
      "text/plain": [
       "3"
      ]
     },
     "execution_count": 26,
     "metadata": {},
     "output_type": "execute_result"
    }
   ],
   "source": [
    "1 and 3"
   ]
  },
  {
   "cell_type": "code",
   "execution_count": 27,
   "id": "3af4de29",
   "metadata": {
    "tags": [
     "hide-output"
    ]
   },
   "outputs": [
    {
     "data": {
      "text/plain": [
       "3"
      ]
     },
     "execution_count": 27,
     "metadata": {},
     "output_type": "execute_result"
    }
   ],
   "source": [
    "True and 3"
   ]
  },
  {
   "cell_type": "code",
   "execution_count": 28,
   "id": "0b38eff7",
   "metadata": {
    "tags": [
     "hide-output"
    ]
   },
   "outputs": [
    {
     "data": {
      "text/plain": [
       "True"
      ]
     },
     "execution_count": 28,
     "metadata": {},
     "output_type": "execute_result"
    }
   ],
   "source": [
    "3 and True"
   ]
  },
  {
   "cell_type": "code",
   "execution_count": 29,
   "id": "be373fdb",
   "metadata": {
    "tags": [
     "hide-output"
    ]
   },
   "outputs": [
    {
     "data": {
      "text/plain": [
       "3"
      ]
     },
     "execution_count": 29,
     "metadata": {},
     "output_type": "execute_result"
    }
   ],
   "source": [
    "5*2//3"
   ]
  },
  {
   "cell_type": "code",
   "execution_count": 30,
   "id": "b286234c",
   "metadata": {
    "tags": [
     "hide-output"
    ]
   },
   "outputs": [
    {
     "data": {
      "text/plain": [
       "0"
      ]
     },
     "execution_count": 30,
     "metadata": {},
     "output_type": "execute_result"
    }
   ],
   "source": [
    "5*(2//3)"
   ]
  },
  {
   "cell_type": "code",
   "execution_count": 31,
   "id": "0c06fe0c",
   "metadata": {
    "tags": [
     "hide-output"
    ]
   },
   "outputs": [
    {
     "data": {
      "text/plain": [
       "3"
      ]
     },
     "execution_count": 31,
     "metadata": {},
     "output_type": "execute_result"
    }
   ],
   "source": [
    "(5*2)//3"
   ]
  },
  {
   "cell_type": "code",
   "execution_count": null,
   "id": "11c358db",
   "metadata": {
    "tags": [
     "hide-output"
    ]
   },
   "outputs": [],
   "source": [
    "3**5**2"
   ]
  },
  {
   "cell_type": "code",
   "execution_count": 20,
   "id": "b6ec172d",
   "metadata": {
    "tags": [
     "hide-output"
    ]
   },
   "outputs": [
    {
     "data": {
      "text/plain": [
       "847288609443"
      ]
     },
     "execution_count": 20,
     "metadata": {},
     "output_type": "execute_result"
    }
   ],
   "source": [
    "3**(5**2)"
   ]
  },
  {
   "cell_type": "code",
   "execution_count": 32,
   "id": "56280d7c",
   "metadata": {
    "tags": [
     "hide-output"
    ]
   },
   "outputs": [
    {
     "data": {
      "text/plain": [
       "59049"
      ]
     },
     "execution_count": 32,
     "metadata": {},
     "output_type": "execute_result"
    }
   ],
   "source": [
    "(3**5)**2"
   ]
  },
  {
   "cell_type": "code",
   "execution_count": 33,
   "id": "580306bb",
   "metadata": {
    "tags": [
     "hide-output"
    ]
   },
   "outputs": [
    {
     "data": {
      "text/plain": [
       "2"
      ]
     },
     "execution_count": 33,
     "metadata": {},
     "output_type": "execute_result"
    }
   ],
   "source": [
    "2 if 1 < 2 else 3"
   ]
  },
  {
   "cell_type": "code",
   "execution_count": 35,
   "id": "425da214",
   "metadata": {
    "tags": [
     "hide-output"
    ]
   },
   "outputs": [],
   "source": [
    "a = 1"
   ]
  },
  {
   "cell_type": "code",
   "execution_count": 36,
   "id": "5e85460e",
   "metadata": {
    "tags": [
     "hide-output"
    ]
   },
   "outputs": [],
   "source": [
    "b = 1"
   ]
  },
  {
   "cell_type": "code",
   "execution_count": 37,
   "id": "3f554bba",
   "metadata": {
    "tags": [
     "hide-output"
    ]
   },
   "outputs": [
    {
     "data": {
      "text/plain": [
       "True"
      ]
     },
     "execution_count": 37,
     "metadata": {},
     "output_type": "execute_result"
    }
   ],
   "source": [
    "a == b"
   ]
  },
  {
   "cell_type": "code",
   "execution_count": 38,
   "id": "bb5053a2",
   "metadata": {
    "tags": [
     "hide-output"
    ]
   },
   "outputs": [
    {
     "data": {
      "text/plain": [
       "True"
      ]
     },
     "execution_count": 38,
     "metadata": {},
     "output_type": "execute_result"
    }
   ],
   "source": [
    "a is b"
   ]
  },
  {
   "cell_type": "code",
   "execution_count": 39,
   "id": "c1e7bfc8",
   "metadata": {
    "tags": [
     "hide-output"
    ]
   },
   "outputs": [],
   "source": [
    "a = 1000000"
   ]
  },
  {
   "cell_type": "code",
   "execution_count": 40,
   "id": "1f39966b",
   "metadata": {
    "tags": [
     "hide-output"
    ]
   },
   "outputs": [],
   "source": [
    "b = 1000000"
   ]
  },
  {
   "cell_type": "code",
   "execution_count": 41,
   "id": "efd4012b",
   "metadata": {
    "tags": [
     "hide-output"
    ]
   },
   "outputs": [
    {
     "data": {
      "text/plain": [
       "True"
      ]
     },
     "execution_count": 41,
     "metadata": {},
     "output_type": "execute_result"
    }
   ],
   "source": [
    "a == b"
   ]
  },
  {
   "cell_type": "code",
   "execution_count": 42,
   "id": "7cd1cb6d",
   "metadata": {
    "tags": [
     "hide-output"
    ]
   },
   "outputs": [
    {
     "data": {
      "text/plain": [
       "False"
      ]
     },
     "execution_count": 42,
     "metadata": {},
     "output_type": "execute_result"
    }
   ],
   "source": [
    "a is b"
   ]
  },
  {
   "cell_type": "code",
   "execution_count": 43,
   "id": "7c95ec3e",
   "metadata": {
    "tags": [
     "hide-output"
    ]
   },
   "outputs": [
    {
     "data": {
      "text/plain": [
       "True"
      ]
     },
     "execution_count": 43,
     "metadata": {},
     "output_type": "execute_result"
    }
   ],
   "source": [
    "a is not b"
   ]
  },
  {
   "cell_type": "code",
   "execution_count": 44,
   "id": "6d849fed",
   "metadata": {
    "tags": [
     "hide-output"
    ]
   },
   "outputs": [
    {
     "data": {
      "text/plain": [
       "False"
      ]
     },
     "execution_count": 44,
     "metadata": {},
     "output_type": "execute_result"
    }
   ],
   "source": [
    "a is (not b)"
   ]
  },
  {
   "cell_type": "code",
   "execution_count": null,
   "id": "bbbe09d0",
   "metadata": {},
   "outputs": [],
   "source": []
  },
  {
   "cell_type": "code",
   "execution_count": null,
   "id": "dba4bcfa",
   "metadata": {},
   "outputs": [],
   "source": []
  },
  {
   "cell_type": "code",
   "execution_count": null,
   "id": "627ba41c",
   "metadata": {},
   "outputs": [],
   "source": []
  }
 ],
 "metadata": {
  "celltoolbar": "Edit Metadata",
  "kernelspec": {
   "display_name": "Python 3",
   "language": "python",
   "name": "python3"
  },
  "language_info": {
   "codemirror_mode": {
    "name": "ipython",
    "version": 3
   },
   "file_extension": ".py",
   "mimetype": "text/x-python",
   "name": "python",
   "nbconvert_exporter": "python",
   "pygments_lexer": "ipython3",
   "version": "3.9.0"
  }
 },
 "nbformat": 4,
 "nbformat_minor": 5
}
