{
 "cells": [
  {
   "cell_type": "markdown",
   "id": "479f4175",
   "metadata": {},
   "source": [
    "# Variables, expressions and statements"
   ]
  },
  {
   "cell_type": "markdown",
   "id": "5f175440",
   "metadata": {},
   "source": [
    "## Values and types"
   ]
  },
  {
   "cell_type": "markdown",
   "id": "92798038",
   "metadata": {},
   "source": [
    "A **value** is one of the basic things a program works with, like a letter or a number. Python is no exception. Here are some values."
   ]
  },
  {
   "cell_type": "code",
   "execution_count": 1,
   "id": "d803933f",
   "metadata": {},
   "outputs": [
    {
     "data": {
      "text/plain": [
       "7"
      ]
     },
     "execution_count": 1,
     "metadata": {},
     "output_type": "execute_result"
    }
   ],
   "source": [
    "3.14\n",
    "\"hello world\"\n",
    "True\n",
    "7"
   ]
  },
  {
   "cell_type": "markdown",
   "id": "dfc7a28e",
   "metadata": {},
   "source": [
    "If you run the above cell using **ctrl-return** the output will be 7. If you want to output all of the values to the output cell, then you can use __print__."
   ]
  },
  {
   "cell_type": "code",
   "execution_count": 2,
   "id": "803410a3",
   "metadata": {},
   "outputs": [
    {
     "name": "stdout",
     "output_type": "stream",
     "text": [
      "3.14\n",
      "hello world\n",
      "True\n",
      "7\n"
     ]
    }
   ],
   "source": [
    "print(3.14)\n",
    "print(\"hello world\")\n",
    "print(True)\n",
    "print(7)"
   ]
  },
  {
   "cell_type": "markdown",
   "id": "09f05732",
   "metadata": {},
   "source": [
    "These values belong to different **types** :\n",
    "7 is an **integer**, and 'hello world!' is a **string**,\n",
    "so-called because it contains a \"string\" of letters.\n",
    "You (and the interpreter) can identify\n",
    "strings because they are enclosed in quotation marks.\n",
    "\n",
    "If you are not sure what type a value has, the interpreter can tell you."
   ]
  },
  {
   "cell_type": "code",
   "execution_count": 3,
   "id": "50de53de",
   "metadata": {},
   "outputs": [
    {
     "data": {
      "text/plain": [
       "str"
      ]
     },
     "execution_count": 3,
     "metadata": {},
     "output_type": "execute_result"
    }
   ],
   "source": [
    "type(\"hello world\")"
   ]
  },
  {
   "cell_type": "code",
   "execution_count": 4,
   "id": "86cdb84d",
   "metadata": {},
   "outputs": [
    {
     "data": {
      "text/plain": [
       "int"
      ]
     },
     "execution_count": 4,
     "metadata": {},
     "output_type": "execute_result"
    }
   ],
   "source": [
    "type(7)"
   ]
  },
  {
   "cell_type": "markdown",
   "id": "401ab99f",
   "metadata": {},
   "source": [
    "### <u>Exercise 1 </u>\n",
    "\n",
    "What is the type of 3.14 and True ?"
   ]
  },
  {
   "cell_type": "markdown",
   "id": "aaf46aff",
   "metadata": {},
   "source": [
    "### <u>Solution 1</u>"
   ]
  },
  {
   "cell_type": "code",
   "execution_count": 5,
   "id": "64f86207",
   "metadata": {
    "tags": [
     "hide-input",
     "hide-output"
    ]
   },
   "outputs": [
    {
     "name": "stdout",
     "output_type": "stream",
     "text": [
      "<class 'float'>\n",
      "<class 'bool'>\n"
     ]
    }
   ],
   "source": [
    "print(type(3.14))\n",
    "print(type(True))"
   ]
  },
  {
   "cell_type": "markdown",
   "id": "a3b87870",
   "metadata": {},
   "source": [
    "What about values like '17' and '3.2'?\n",
    "They look like numbers, but they are in quotation marks like\n",
    "strings."
   ]
  },
  {
   "cell_type": "code",
   "execution_count": 6,
   "id": "65f500af",
   "metadata": {},
   "outputs": [
    {
     "data": {
      "text/plain": [
       "str"
      ]
     },
     "execution_count": 6,
     "metadata": {},
     "output_type": "execute_result"
    }
   ],
   "source": [
    "type('17')"
   ]
  },
  {
   "cell_type": "code",
   "execution_count": 7,
   "id": "4d611675",
   "metadata": {},
   "outputs": [
    {
     "data": {
      "text/plain": [
       "str"
      ]
     },
     "execution_count": 7,
     "metadata": {},
     "output_type": "execute_result"
    }
   ],
   "source": [
    "type('3.2')"
   ]
  },
  {
   "cell_type": "markdown",
   "id": "91a9569d",
   "metadata": {},
   "source": [
    "What about 1,000,000 ? "
   ]
  },
  {
   "cell_type": "code",
   "execution_count": 8,
   "id": "2baa84c4",
   "metadata": {
    "tags": [
     "hide-output"
    ]
   },
   "outputs": [
    {
     "data": {
      "text/plain": [
       "(1, 0, 0)"
      ]
     },
     "execution_count": 8,
     "metadata": {},
     "output_type": "execute_result"
    }
   ],
   "source": [
    "1,000,000"
   ]
  },
  {
   "cell_type": "markdown",
   "id": "df94c925-1c71-42b7-8fb9-8eb4d28657a5",
   "metadata": {},
   "source": [
    "```{toggle}\n",
    "Python interprets 1,000,000 as a comma-separated sequence of integers.\n",
    "This is the first example we have seen of a **semantic error** : the code\n",
    "runs without producing an error message, but it doesn't do the\n",
    "\"correct\" thing. 1,000,000 s an example of a python __tuple__. More on that later.\n",
    "```"
   ]
  },
  {
   "cell_type": "markdown",
   "id": "91c5c828-3ecf-4a28-ab96-3c563ef07456",
   "metadata": {},
   "source": [
    "What is the type of 1,000,000 ?"
   ]
  },
  {
   "cell_type": "code",
   "execution_count": 11,
   "id": "fb19fd4b-500b-4d19-9453-83bfedb11cee",
   "metadata": {},
   "outputs": [
    {
     "data": {
      "text/plain": [
       "tuple"
      ]
     },
     "execution_count": 11,
     "metadata": {},
     "output_type": "execute_result"
    }
   ],
   "source": [
    "x = 1,000,000\n",
    "type(x)"
   ]
  },
  {
   "cell_type": "markdown",
   "id": "71bb3cc3-e168-4027-95e9-51ca029c1b6d",
   "metadata": {},
   "source": [
    "What is the result of executing \n",
    "```python\n",
    "type(1,000,000)\n",
    "```"
   ]
  },
  {
   "cell_type": "markdown",
   "id": "46b58540-593d-4745-ad01-5638997ce954",
   "metadata": {},
   "source": [
    "### <u>Exercise 2 </u>\n",
    "\n",
    "Come up with a one or two sentence description of what you think **type** means in the context of programming."
   ]
  },
  {
   "cell_type": "markdown",
   "id": "e89d9c63",
   "metadata": {},
   "source": [
    "## Variable assignment"
   ]
  },
  {
   "cell_type": "markdown",
   "id": "5d34312f",
   "metadata": {},
   "source": [
    "One of the most powerful features of a programming language is the\n",
    "ability to transform  representations. In python, representations are managed through the use of **variables**.  A variable is a name that\n",
    "refers to a value, or data structure, or \"representation of\" something..\n",
    "\n",
    "An **assignment statement** creates new variables and gives\n",
    "them values :"
   ]
  },
  {
   "cell_type": "code",
   "execution_count": 13,
   "id": "d2cd15da",
   "metadata": {},
   "outputs": [],
   "source": [
    "message = 'And now for something completely different'\n",
    "n = 17\n",
    "pi = 3.1415926535897932"
   ]
  },
  {
   "cell_type": "markdown",
   "id": "76b0c3d2",
   "metadata": {},
   "source": [
    "One way of representing this assignment is shown below. Note that the variable servers as a label for accessing a \n",
    "value."
   ]
  },
  {
   "cell_type": "markdown",
   "id": "692ed5a9",
   "metadata": {},
   "source": [
    "![title](figs/state2.png)\n"
   ]
  },
  {
   "cell_type": "markdown",
   "id": "c3ada4db",
   "metadata": {},
   "source": [
    "Variable names can be arbitrarily long.  They can contain\n",
    "both letters and numbers, but they have to begin with a letter.\n",
    "It is legal to use uppercase letters.\n",
    "\n",
    "The underscore character _ can appear in a name.\n",
    "It is often used in names with multiple words, such as\n",
    "\"my_name\" or \"airspeed_of_unladen_swallow\".\n",
    "\n",
    "If you give a variable an illegal name, you get a **syntax** error. Here are some examples."
   ]
  },
  {
   "cell_type": "code",
   "execution_count": 14,
   "id": "678d4641",
   "metadata": {},
   "outputs": [
    {
     "ename": "SyntaxError",
     "evalue": "invalid decimal literal (3381618747.py, line 1)",
     "output_type": "error",
     "traceback": [
      "  \u001b[36mCell\u001b[39m\u001b[36m \u001b[39m\u001b[32mIn[14]\u001b[39m\u001b[32m, line 1\u001b[39m\n\u001b[31m    \u001b[39m\u001b[31m76trombones = 'big parade'\u001b[39m\n     ^\n\u001b[31mSyntaxError\u001b[39m\u001b[31m:\u001b[39m invalid decimal literal\n"
     ]
    }
   ],
   "source": [
    "76trombones = 'big parade'"
   ]
  },
  {
   "cell_type": "code",
   "execution_count": 15,
   "id": "89a7b492",
   "metadata": {},
   "outputs": [
    {
     "ename": "SyntaxError",
     "evalue": "invalid syntax (2247590651.py, line 1)",
     "output_type": "error",
     "traceback": [
      "  \u001b[36mCell\u001b[39m\u001b[36m \u001b[39m\u001b[32mIn[15]\u001b[39m\u001b[32m, line 1\u001b[39m\n\u001b[31m    \u001b[39m\u001b[31mmore@ = 1000000\u001b[39m\n          ^\n\u001b[31mSyntaxError\u001b[39m\u001b[31m:\u001b[39m invalid syntax\n"
     ]
    }
   ],
   "source": [
    "more@ = 1000000\n",
    "SyntaxError: invalid syntax"
   ]
  },
  {
   "cell_type": "code",
   "execution_count": 16,
   "id": "f31e20cb",
   "metadata": {},
   "outputs": [
    {
     "ename": "SyntaxError",
     "evalue": "invalid syntax (3803549429.py, line 1)",
     "output_type": "error",
     "traceback": [
      "  \u001b[36mCell\u001b[39m\u001b[36m \u001b[39m\u001b[32mIn[16]\u001b[39m\u001b[32m, line 1\u001b[39m\n\u001b[31m    \u001b[39m\u001b[31mclass = 'Advanced Theoretical Zymurgy'\u001b[39m\n          ^\n\u001b[31mSyntaxError\u001b[39m\u001b[31m:\u001b[39m invalid syntax\n"
     ]
    }
   ],
   "source": [
    "class = 'Advanced Theoretical Zymurgy'"
   ]
  },
  {
   "cell_type": "markdown",
   "id": "4d42d70a",
   "metadata": {},
   "source": [
    "## Python Keywords"
   ]
  },
  {
   "cell_type": "markdown",
   "id": "04523b3c",
   "metadata": {},
   "source": [
    "It turns out that **class** is one of Python's **keywords**.  The\n",
    "interpreter uses keywords to recognise the structure of the program,\n",
    "and they cannot be used as variable names.\n",
    "\n",
    "Different versions of Python may have different keywords (note that there is no official standard for the Python language. Version **3.12.3** of **CPython** has the following keywords."
   ]
  },
  {
   "cell_type": "code",
   "execution_count": 4,
   "id": "7e7a28f1-5562-48ee-a63e-e58d246ea9c1",
   "metadata": {},
   "outputs": [
    {
     "name": "stdout",
     "output_type": "stream",
     "text": [
      "['False', 'None', 'True', 'and', 'as', 'assert', 'async', 'await', 'break', 'class', 'continue', 'def', 'del', 'elif', 'else', 'except', 'finally', 'for', 'from', 'global', 'if', 'import', 'in', 'is', 'lambda', 'nonlocal', 'not', 'or', 'pass', 'raise', 'return', 'try', 'while', 'with', 'yield']\n"
     ]
    }
   ],
   "source": [
    "import keyword\n",
    "\n",
    "print(keyword.kwlist)"
   ]
  },
  {
   "cell_type": "markdown",
   "id": "5afc206f-8882-4dc6-ab34-795af8b9cd46",
   "metadata": {},
   "source": [
    "\n",
    "## Expressions and statements\n"
   ]
  },
  {
   "cell_type": "markdown",
   "id": "a5c5a5c4-c41d-4a19-807e-282349164f9a",
   "metadata": {},
   "source": [
    "An **expression** is a combination of keywords, values, variables, and operators.\n",
    "A value all by itself is considered an expression, and so is\n",
    "a variable, so the following are all legal expressions."
   ]
  },
  {
   "cell_type": "code",
   "execution_count": 54,
   "id": "ec17ec95",
   "metadata": {},
   "outputs": [
    {
     "data": {
      "text/plain": [
       "112"
      ]
     },
     "execution_count": 54,
     "metadata": {},
     "output_type": "execute_result"
    }
   ],
   "source": [
    "20+32\n",
    "hour = 6\n",
    "hour-1  \n",
    "minute = 12\n",
    "hour*60+minute   \n",
    "minute/60   \n",
    "5**2   \n",
    "(5+9)*(15-7)"
   ]
  },
  {
   "cell_type": "markdown",
   "id": "aded2a33",
   "metadata": {},
   "source": [
    "## Python operators"
   ]
  },
  {
   "cell_type": "markdown",
   "id": "c4dcd817-886f-4563-b251-766b5059e89b",
   "metadata": {},
   "source": [
    "**Operators** are special symbols that represent computations like\n",
    "addition and multiplication.  The values the operator is applied to\n",
    "are called **operands**. Most versions of python provide the following operators. "
   ]
  },
  {
   "cell_type": "markdown",
   "id": "8938cbfc-05f5-4f11-ae63-187898fac184",
   "metadata": {},
   "source": [
    "|||||||||||\n",
    "|:-:|:-:|:-:|:-:|:-:|:-:|:-:|:-:|:-:|:-:|\n",
    "| + | - | * | / | % | // | ** | > | << | == |\n",
    "| != | > | >= | <= | and | or | not | & | \\| | ~ |\n",
    "| ^ | >> | << | = | += | -= | *= |  /= | %= | //= |\n",
    "| **= | &= | = | ^= | >>= | <<= | in | is  | not | "
   ]
  },
  {
   "cell_type": "markdown",
   "id": "d74a76cd",
   "metadata": {},
   "source": [
    "Some binary operators are left right associative, some are right left. There is also a ternary operator ``if else''.\n",
    "Try the following exercise to learn more about some of the Python operators."
   ]
  },
  {
   "cell_type": "markdown",
   "id": "86093cd0",
   "metadata": {},
   "source": [
    "### Exercise 3\n",
    "\n",
    "Have guess as to what the output should be for these expressions.\n"
   ]
  },
  {
   "cell_type": "code",
   "execution_count": 21,
   "id": "565ccd02",
   "metadata": {
    "tags": [
     "hide-output"
    ]
   },
   "outputs": [
    {
     "data": {
      "text/plain": [
       "False"
      ]
     },
     "execution_count": 21,
     "metadata": {},
     "output_type": "execute_result"
    }
   ],
   "source": [
    "False and True"
   ]
  },
  {
   "cell_type": "code",
   "execution_count": 22,
   "id": "bb69e506",
   "metadata": {
    "tags": [
     "hide-output"
    ]
   },
   "outputs": [
    {
     "data": {
      "text/plain": [
       "0"
      ]
     },
     "execution_count": 22,
     "metadata": {},
     "output_type": "execute_result"
    }
   ],
   "source": [
    "0 and True"
   ]
  },
  {
   "cell_type": "code",
   "execution_count": 23,
   "id": "e81b4bc5",
   "metadata": {
    "tags": [
     "hide-output"
    ]
   },
   "outputs": [
    {
     "data": {
      "text/plain": [
       "True"
      ]
     },
     "execution_count": 23,
     "metadata": {},
     "output_type": "execute_result"
    }
   ],
   "source": [
    "1 and True"
   ]
  },
  {
   "cell_type": "code",
   "execution_count": 24,
   "id": "76b2362d",
   "metadata": {
    "tags": [
     "hide-output"
    ]
   },
   "outputs": [
    {
     "data": {
      "text/plain": [
       "0"
      ]
     },
     "execution_count": 24,
     "metadata": {},
     "output_type": "execute_result"
    }
   ],
   "source": [
    "1 and 0"
   ]
  },
  {
   "cell_type": "code",
   "execution_count": 25,
   "id": "fd9146d5",
   "metadata": {
    "tags": [
     "hide-output"
    ]
   },
   "outputs": [
    {
     "data": {
      "text/plain": [
       "1"
      ]
     },
     "execution_count": 25,
     "metadata": {},
     "output_type": "execute_result"
    }
   ],
   "source": [
    "1 and 1"
   ]
  },
  {
   "cell_type": "code",
   "execution_count": 26,
   "id": "f229b427",
   "metadata": {
    "tags": [
     "hide-output"
    ]
   },
   "outputs": [
    {
     "data": {
      "text/plain": [
       "3"
      ]
     },
     "execution_count": 26,
     "metadata": {},
     "output_type": "execute_result"
    }
   ],
   "source": [
    "1 and 3"
   ]
  },
  {
   "cell_type": "code",
   "execution_count": 27,
   "id": "3af4de29",
   "metadata": {
    "tags": [
     "hide-output"
    ]
   },
   "outputs": [
    {
     "data": {
      "text/plain": [
       "3"
      ]
     },
     "execution_count": 27,
     "metadata": {},
     "output_type": "execute_result"
    }
   ],
   "source": [
    "True and 3"
   ]
  },
  {
   "cell_type": "code",
   "execution_count": 28,
   "id": "0b38eff7",
   "metadata": {
    "tags": [
     "hide-output"
    ]
   },
   "outputs": [
    {
     "data": {
      "text/plain": [
       "True"
      ]
     },
     "execution_count": 28,
     "metadata": {},
     "output_type": "execute_result"
    }
   ],
   "source": [
    "3 and True"
   ]
  },
  {
   "cell_type": "code",
   "execution_count": 29,
   "id": "be373fdb",
   "metadata": {
    "tags": [
     "hide-output"
    ]
   },
   "outputs": [
    {
     "data": {
      "text/plain": [
       "3"
      ]
     },
     "execution_count": 29,
     "metadata": {},
     "output_type": "execute_result"
    }
   ],
   "source": [
    "5*2//3"
   ]
  },
  {
   "cell_type": "code",
   "execution_count": 30,
   "id": "b286234c",
   "metadata": {
    "tags": [
     "hide-output"
    ]
   },
   "outputs": [
    {
     "data": {
      "text/plain": [
       "0"
      ]
     },
     "execution_count": 30,
     "metadata": {},
     "output_type": "execute_result"
    }
   ],
   "source": [
    "5*(2//3)"
   ]
  },
  {
   "cell_type": "code",
   "execution_count": 31,
   "id": "0c06fe0c",
   "metadata": {
    "tags": [
     "hide-output"
    ]
   },
   "outputs": [
    {
     "data": {
      "text/plain": [
       "3"
      ]
     },
     "execution_count": 31,
     "metadata": {},
     "output_type": "execute_result"
    }
   ],
   "source": [
    "(5*2)//3"
   ]
  },
  {
   "cell_type": "code",
   "execution_count": 9,
   "id": "11c358db",
   "metadata": {
    "tags": [
     "hide-output"
    ]
   },
   "outputs": [
    {
     "data": {
      "text/plain": [
       "847288609443"
      ]
     },
     "execution_count": 9,
     "metadata": {},
     "output_type": "execute_result"
    }
   ],
   "source": [
    "3**5**2"
   ]
  },
  {
   "cell_type": "code",
   "execution_count": 20,
   "id": "b6ec172d",
   "metadata": {
    "tags": [
     "hide-output"
    ]
   },
   "outputs": [
    {
     "data": {
      "text/plain": [
       "847288609443"
      ]
     },
     "execution_count": 20,
     "metadata": {},
     "output_type": "execute_result"
    }
   ],
   "source": [
    "3**(5**2)"
   ]
  },
  {
   "cell_type": "code",
   "execution_count": 10,
   "id": "56280d7c",
   "metadata": {
    "tags": [
     "hide-output"
    ]
   },
   "outputs": [
    {
     "data": {
      "text/plain": [
       "59049"
      ]
     },
     "execution_count": 10,
     "metadata": {},
     "output_type": "execute_result"
    }
   ],
   "source": [
    "(3**5)**2"
   ]
  },
  {
   "cell_type": "code",
   "execution_count": 33,
   "id": "580306bb",
   "metadata": {
    "tags": [
     "hide-output"
    ]
   },
   "outputs": [
    {
     "data": {
      "text/plain": [
       "2"
      ]
     },
     "execution_count": 33,
     "metadata": {},
     "output_type": "execute_result"
    }
   ],
   "source": [
    "2 if 1 < 2 else 3"
   ]
  },
  {
   "cell_type": "code",
   "execution_count": 11,
   "id": "425da214",
   "metadata": {
    "tags": [
     "hide-output"
    ]
   },
   "outputs": [],
   "source": [
    "a = 1"
   ]
  },
  {
   "cell_type": "code",
   "execution_count": 36,
   "id": "5e85460e",
   "metadata": {
    "tags": [
     "hide-output"
    ]
   },
   "outputs": [],
   "source": [
    "b = 1"
   ]
  },
  {
   "cell_type": "code",
   "execution_count": 37,
   "id": "3f554bba",
   "metadata": {
    "tags": [
     "hide-output"
    ]
   },
   "outputs": [
    {
     "data": {
      "text/plain": [
       "True"
      ]
     },
     "execution_count": 37,
     "metadata": {},
     "output_type": "execute_result"
    }
   ],
   "source": [
    "a == b"
   ]
  },
  {
   "cell_type": "code",
   "execution_count": 38,
   "id": "bb5053a2",
   "metadata": {
    "tags": [
     "hide-output"
    ]
   },
   "outputs": [
    {
     "data": {
      "text/plain": [
       "True"
      ]
     },
     "execution_count": 38,
     "metadata": {},
     "output_type": "execute_result"
    }
   ],
   "source": [
    "a is b"
   ]
  },
  {
   "cell_type": "code",
   "execution_count": 39,
   "id": "c1e7bfc8",
   "metadata": {
    "tags": [
     "hide-output"
    ]
   },
   "outputs": [],
   "source": [
    "a = 1000000"
   ]
  },
  {
   "cell_type": "code",
   "execution_count": 40,
   "id": "1f39966b",
   "metadata": {
    "tags": [
     "hide-output"
    ]
   },
   "outputs": [],
   "source": [
    "b = 1000000"
   ]
  },
  {
   "cell_type": "code",
   "execution_count": 41,
   "id": "efd4012b",
   "metadata": {
    "tags": [
     "hide-output"
    ]
   },
   "outputs": [
    {
     "data": {
      "text/plain": [
       "True"
      ]
     },
     "execution_count": 41,
     "metadata": {},
     "output_type": "execute_result"
    }
   ],
   "source": [
    "a == b"
   ]
  },
  {
   "cell_type": "code",
   "execution_count": 42,
   "id": "7cd1cb6d",
   "metadata": {
    "tags": [
     "hide-output"
    ]
   },
   "outputs": [
    {
     "data": {
      "text/plain": [
       "False"
      ]
     },
     "execution_count": 42,
     "metadata": {},
     "output_type": "execute_result"
    }
   ],
   "source": [
    "a is b"
   ]
  },
  {
   "cell_type": "code",
   "execution_count": 43,
   "id": "7c95ec3e",
   "metadata": {
    "tags": [
     "hide-output"
    ]
   },
   "outputs": [
    {
     "data": {
      "text/plain": [
       "True"
      ]
     },
     "execution_count": 43,
     "metadata": {},
     "output_type": "execute_result"
    }
   ],
   "source": [
    "a is not b"
   ]
  },
  {
   "cell_type": "code",
   "execution_count": 44,
   "id": "6d849fed",
   "metadata": {
    "tags": [
     "hide-output"
    ]
   },
   "outputs": [
    {
     "data": {
      "text/plain": [
       "False"
      ]
     },
     "execution_count": 44,
     "metadata": {},
     "output_type": "execute_result"
    }
   ],
   "source": [
    "a is (not b)"
   ]
  },
  {
   "cell_type": "code",
   "execution_count": 55,
   "id": "6e43151f-579d-40f8-94bc-2d5d01a9b24a",
   "metadata": {
    "tags": [
     "hide-output"
    ]
   },
   "outputs": [
    {
     "data": {
      "text/plain": [
       "7"
      ]
     },
     "execution_count": 55,
     "metadata": {},
     "output_type": "execute_result"
    }
   ],
   "source": [
    "x = 4\n",
    "x^3"
   ]
  },
  {
   "cell_type": "code",
   "execution_count": 56,
   "id": "74b295bc-135b-4928-9d78-ea3ca5a90880",
   "metadata": {
    "tags": [
     "hide-output"
    ]
   },
   "outputs": [
    {
     "data": {
      "text/plain": [
       "4"
      ]
     },
     "execution_count": 56,
     "metadata": {},
     "output_type": "execute_result"
    }
   ],
   "source": [
    "x = 17\n",
    "x >> 2"
   ]
  },
  {
   "cell_type": "markdown",
   "id": "47d44d2d",
   "metadata": {},
   "source": [
    "## Round of errors"
   ]
  },
  {
   "cell_type": "markdown",
   "id": "1a775bec",
   "metadata": {},
   "source": [
    "Computers have inexact arithmetic because of rounding errors. This is usually not a problem in computations, but in some cases it can cause unexpected results."
   ]
  },
  {
   "cell_type": "markdown",
   "id": "71189cf7",
   "metadata": {},
   "source": [
    "### <u>Exampe 1</u>"
   ]
  },
  {
   "cell_type": "code",
   "execution_count": 19,
   "id": "dba4bcfa",
   "metadata": {},
   "outputs": [
    {
     "name": "stdout",
     "output_type": "stream",
     "text": [
      "0.9999999999999999\n",
      "1.0\n"
     ]
    }
   ],
   "source": [
    "v1 = 1/49.0*49\n",
    "v2 = 1/51.0*51\n",
    "print(v1)\n",
    "print(v2)"
   ]
  },
  {
   "cell_type": "markdown",
   "id": "419b9bac",
   "metadata": {},
   "source": [
    "Much of the time this would not be an issue. However, never compare floats for equality !!"
   ]
  },
  {
   "cell_type": "code",
   "execution_count": 22,
   "id": "627ba41c",
   "metadata": {},
   "outputs": [
    {
     "name": "stdout",
     "output_type": "stream",
     "text": [
      "False\n"
     ]
    }
   ],
   "source": [
    "print(v1 == v2)"
   ]
  }
 ],
 "metadata": {
  "celltoolbar": "Edit Metadata",
  "kernelspec": {
   "display_name": "Python 3 (ipykernel)",
   "language": "python",
   "name": "python3"
  },
  "language_info": {
   "codemirror_mode": {
    "name": "ipython",
    "version": 3
   },
   "file_extension": ".py",
   "mimetype": "text/x-python",
   "name": "python",
   "nbconvert_exporter": "python",
   "pygments_lexer": "ipython3",
   "version": "3.12.3"
  }
 },
 "nbformat": 4,
 "nbformat_minor": 5
}
