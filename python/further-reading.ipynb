{
 "cells": [
  {
   "cell_type": "markdown",
   "id": "d28aa1de",
   "metadata": {},
   "source": [
    "# Further Reading"
   ]
  },
  {
   "cell_type": "markdown",
   "id": "e3f27020",
   "metadata": {},
   "source": [
    "This section lists some of the books that have been used as a source of material and ideas for this course. "
   ]
  },
  {
   "cell_type": "markdown",
   "id": "8fd8797e",
   "metadata": {},
   "source": [
    "## Python Data Science Handbook"
   ]
  },
  {
   "cell_type": "markdown",
   "id": "f5dd27f3",
   "metadata": {},
   "source": [
    "Provides a good overview of many of the most useful libraries for doing data science with python. In particular, it has comprehensive sections on __numpy__ and __pandas__. It also examines a number of popular techniques in machine learning with an emphasis on using __scikit-learn__.\n",
    "\n",
    "![title](figs/python-data-science-handbook.png)\n",
    "\n",
    "- Title : Python Data Science Handbook: Tools and Techniques for Developers: Essential Tools for Working with Data\n",
    "- Author : Jake VanderPlas\n",
    "- Publisher : O'Reilly Media; 1st edition (25 Mar. 2016)\n",
    "- Language : English\n",
    "- Paperback : 300 pages\n",
    "- ISBN-10 : 1491912057\n",
    "- ISBN-13 : 978-1491912058 \n",
    "\n",
    "[Lancaster One Search](https://ebookcentral.proquest.com/lib/lancaster/reader.action?docID=4746657)\n",
    "\n",
    "[Amazon](https://www.amazon.co.uk/Python-Data-Science-Handbook-Techniques/dp/1491912057/ref=sr_1_1?adgrpid=52651428225&dchild=1&gclid=CjwKCAjwq9mLBhB2EiwAuYdMtRWiWMM901GmSdCwEWeTCsPUq94_hES_lES79bGLgW8ENRJdJLxaMxoCzSYQAvD_BwE&hvadid=259080796227&hvdev=c&hvlocphy=1006854&hvnetw=g&hvqmt=e&hvrand=16448058338163239637&hvtargid=kwd-301085997793&hydadcr=17615_1817781&keywords=python+data+science+handbook&qid=1635147090&sr=8-1)\n",
    "\n",
    "\n"
   ]
  },
  {
   "cell_type": "markdown",
   "id": "db94c490",
   "metadata": {},
   "source": [
    "##  Python for Data Analysis\n",
    "\n",
    "Good introduction to the python language. A wide range of techniques for data cleansing and preprocessing are introduced. Includes NumPy and Pandas.\n",
    "\n",
    "\n",
    "\n",
    "![title](figs/python-for-data-analysis.png)\n",
    "\n",
    "- Title : Python for Data Analysis: Data Wrangling with Pandas, NumPy, and IPython\n",
    "- Author : Wes McKinney\n",
    "- Publisher : O'Reilly Media\n",
    "- Language : English\n",
    "- ISBN-13 : 978-1491957660\n",
    "\n",
    "\n",
    "[Lancaster One Search](https://onesearch.lancaster-university.uk/primo-explore/fulldisplay?docid=TN_cdi_askewsholts_vlebooks_9781491957639&context=PC&vid=LUL_VU1&lang=en_US&search_scope=LSCOP_44LAN_ALMA_DS&adaptor=primo_central_multiple_fe&tab=blended&query=any,contains,python%20for%20data%20analysis&offset=0)\n",
    "\n",
    "[amazon](https://www.amazon.co.uk/dp/B075X4LT6K/ref=dp_kinw_strp_1)"
   ]
  }
 ],
 "metadata": {
  "kernelspec": {
   "display_name": "Python 3",
   "language": "python",
   "name": "python3"
  },
  "language_info": {
   "codemirror_mode": {
    "name": "ipython",
    "version": 3
   },
   "file_extension": ".py",
   "mimetype": "text/x-python",
   "name": "python",
   "nbconvert_exporter": "python",
   "pygments_lexer": "ipython3",
   "version": "3.9.0"
  }
 },
 "nbformat": 4,
 "nbformat_minor": 5
}
