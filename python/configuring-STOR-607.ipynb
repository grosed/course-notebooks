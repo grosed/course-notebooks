{
 "cells": [
  {
   "cell_type": "markdown",
   "id": "4e2cf39e",
   "metadata": {
    "slideshow": {
     "slide_type": "slide"
    }
   },
   "source": [
    "# Configuring Windows for STOR-607"
   ]
  },
  {
   "cell_type": "markdown",
   "id": "7945e06b",
   "metadata": {},
   "source": [
    "## Background"
   ]
  },
  {
   "cell_type": "markdown",
   "id": "341d3bee",
   "metadata": {},
   "source": [
    "STOR-607 requires you to use a variety of different software. In particular, R, Python, and Gurobi. These notes will guide you through the steps necessary to install and configure this software on your STOR-i Windows laptop.  "
   ]
  },
  {
   "cell_type": "markdown",
   "id": "9a5c20ea",
   "metadata": {},
   "source": [
    "## Installing Python"
   ]
  },
  {
   "cell_type": "markdown",
   "id": "47faf0b3",
   "metadata": {},
   "source": [
    "There are many different Python interpreters (and compilers) available for running programs written in python. You may already be a Python user and be familiar with a particular system, version and development environment, such as [Spyder](https://www.spyder-ide.org/), [IDLE](https://realpython.com/python-idle/) , or [Atom](https://atom.io/). These systems usually install a version of python for you however, for STOR-607 (and STOR-601), we want to show you how to manage your own Python system independently. The advantage of this is that you can then be sure of which version of Python, and associated libraries, your software is dependent on. This can become very important when you want to share your work with other researchers and collaborators. To this end you will install [pyenv](https://github.com/pyenv/pyenv) to install and manage python interpreters and use python [venv](https://realpython.com/python-virtual-environments-a-primer/) to manage different projects.\n",
    "\n",
    "\n"
   ]
  },
  {
   "cell_type": "markdown",
   "id": "e266cd69",
   "metadata": {},
   "source": [
    "### Installing pyenv "
   ]
  },
  {
   "cell_type": "markdown",
   "id": "4fcc3fec",
   "metadata": {},
   "source": [
    "The easiest way to install __pyenv__ on your Windows system is to use the __powershell__. First, start the powershell from the Windows search box"
   ]
  },
  {
   "cell_type": "markdown",
   "id": "f5a7f8b4",
   "metadata": {},
   "source": [
    "<div>\n",
    "<img src=\"./images/start_powershell.jpg\" width=\"500\"/>\n",
    "</div>"
   ]
  },
  {
   "cell_type": "markdown",
   "id": "275f52b8",
   "metadata": {},
   "source": [
    "Once you have started the power shell it should look like."
   ]
  },
  {
   "cell_type": "markdown",
   "id": "85061386",
   "metadata": {},
   "source": [
    "<div>\n",
    "<img src=\"./images/powershell.jpg\" width=\"800\"/>\n",
    "</div>"
   ]
  },
  {
   "cell_type": "markdown",
   "id": "a84a295d",
   "metadata": {},
   "source": [
    "Now type\n",
    "\n",
    "c:\\Users\\<your username>\n",
    "    \n",
    "replacing <your username> with your LU username, and press return. On my laptop this looks like"
   ]
  },
  {
   "cell_type": "markdown",
   "id": "6c713866",
   "metadata": {},
   "source": [
    "<div>\n",
    "<img src=\"./images/change_directory.jpg\" width=\"800\"/>\n",
    "</div>"
   ]
  },
  {
   "cell_type": "markdown",
   "id": "1b9f8579",
   "metadata": {},
   "source": [
    "You are now ready to install pyenv. Copy the line below and paste it to the command prompt and press return."
   ]
  },
  {
   "cell_type": "markdown",
   "id": "28271766",
   "metadata": {},
   "source": [
    "Invoke-WebRequest -UseBasicParsing -Uri \"https://raw.githubusercontent.com/pyenv-win/pyenv-win/master/pyenv-win/install-pyenv-win.ps1\" -OutFile \"./install-pyenv-win.ps1\"; &\"./install-pyenv-win.ps1\""
   ]
  },
  {
   "cell_type": "markdown",
   "id": "215cb02b",
   "metadata": {},
   "source": [
    "Once the installation has finished close the powershell (do not worry if a few warning/error messages appear during installation)."
   ]
  },
  {
   "cell_type": "markdown",
   "id": "b925417d",
   "metadata": {},
   "source": [
    "### Installing a Python system using pyenv\n"
   ]
  },
  {
   "cell_type": "markdown",
   "id": "5b294838",
   "metadata": {},
   "source": [
    "__pyenv__ is not a Python system. It is a tool that allows you to install a variety of Python systems that are independent of each other. To see what Python systems are available for installation, start a powershell and type"
   ]
  },
  {
   "cell_type": "markdown",
   "id": "0839ed93",
   "metadata": {},
   "source": [
    "pyenv install --list"
   ]
  },
  {
   "cell_type": "markdown",
   "id": "9d8926a8",
   "metadata": {},
   "source": [
    "followed by return. This will produce output similar to the following"
   ]
  },
  {
   "cell_type": "markdown",
   "id": "3cb864a5",
   "metadata": {},
   "source": [
    "<div>\n",
    "<img src=\"./images/python_systems.jpg\" width=\"800\"/>\n",
    "</div>"
   ]
  },
  {
   "cell_type": "markdown",
   "id": "e3fcc905",
   "metadata": {},
   "source": [
    "The list is quite long !! To install a Python system type"
   ]
  },
  {
   "cell_type": "markdown",
   "id": "17fb2c65",
   "metadata": {},
   "source": [
    "pyenv install \\<python-system\\>"
   ]
  },
  {
   "cell_type": "markdown",
   "id": "bd6cff89",
   "metadata": {},
   "source": [
    "where \\<python-system\\> is the name/version of the Python system to be installed. For example, enter the follwing in a powershell."
   ]
  },
  {
   "cell_type": "markdown",
   "id": "ab4f26eb",
   "metadata": {},
   "source": [
    "pyenv install 3.10.6"
   ]
  },
  {
   "cell_type": "markdown",
   "id": "46351613",
   "metadata": {},
   "source": [
    "After the installation process has finished, type pyenv global, which should display something similar to "
   ]
  },
  {
   "cell_type": "markdown",
   "id": "9e6f5e4c",
   "metadata": {},
   "source": [
    "<div>\n",
    "<img src=\"./images/pyenv_global.jpg\" width=\"800\"/>\n",
    "</div>"
   ]
  },
  {
   "cell_type": "markdown",
   "id": "5c125e67",
   "metadata": {},
   "source": [
    "This output shows that Pyhton 3.10.6 is ready for use on your system. You can start a Python REPL (Read Evaluate Print Loop) by typing and entering python at the command prompt."
   ]
  },
  {
   "cell_type": "markdown",
   "id": "8fac5e1b",
   "metadata": {},
   "source": [
    "<div>\n",
    "<img src=\"./images/python_repl.jpg\" width=\"800\"/>\n",
    "</div>"
   ]
  },
  {
   "cell_type": "markdown",
   "id": "7e19b05a",
   "metadata": {},
   "source": [
    "### Using pyenv to mange multiple Python systems"
   ]
  },
  {
   "cell_type": "markdown",
   "id": "7ea49f79",
   "metadata": {},
   "source": [
    "The purpose of __pyenv__ is to make it easy to install, manage, and switch between multiple Python systems. For example, you can easily install an (old) Python 2 system."
   ]
  },
  {
   "cell_type": "code",
   "execution_count": null,
   "id": "ad4e4ebf",
   "metadata": {},
   "outputs": [],
   "source": [
    "pyenv install 2.5.1"
   ]
  },
  {
   "cell_type": "markdown",
   "id": "bcbcbe4a",
   "metadata": {},
   "source": [
    "<div>\n",
    "<img src=\"./images/pyenv_install.jpg\" width=\"800\"/>\n",
    "</div>"
   ]
  },
  {
   "cell_type": "markdown",
   "id": "dc60c35a",
   "metadata": {},
   "source": [
    "The shell commands shown below demonstrate how __pyenv__ can be used to list all of the available Python systems, change the default Python system, and check the version of the Python system that is associated with the Python command."
   ]
  },
  {
   "cell_type": "markdown",
   "id": "259cde89",
   "metadata": {},
   "source": [
    "<div>\n",
    "<img src=\"./images/pyenv_changing_python.jpg\" width=\"800\"/>\n",
    "</div>"
   ]
  },
  {
   "cell_type": "markdown",
   "id": "5d2c915a",
   "metadata": {},
   "source": [
    "More details on how to use __pyenv__ to manage your Python systems will be provided as part of the module STOR-601 which is scheduled for term 2."
   ]
  },
  {
   "cell_type": "markdown",
   "id": "7a940e3b",
   "metadata": {},
   "source": [
    "## Creating and using Python virtual environments"
   ]
  },
  {
   "cell_type": "markdown",
   "id": "f47dcb5f",
   "metadata": {},
   "source": [
    "As discussed previously, __pyenv__ is used to manage Python systems. Python __virtual environments__ are used to manage your different Python projects. In principle, each separate project should have its own Python environment. The point of this is that each project may be dependent on a different Python system, (as managed by __pyenv__). Perhaps more significantly, each of your Python projects may have dependencies on different version of various Python packages. All of this _project management_ can be managed using the Python utility __venv__. __venv__ is really quite easy to use, and, fortunately, plays very nicely with __pyenv__.\n"
   ]
  },
  {
   "cell_type": "markdown",
   "id": "e5f0dac7",
   "metadata": {},
   "source": [
    "### Creating a new Python virtual environment"
   ]
  },
  {
   "cell_type": "markdown",
   "id": "e5967a44",
   "metadata": {},
   "source": [
    "In what follows, a Python __virtual envoronment__ for STOR-607 will be created.\n",
    "\n",
    "Each virtual environment corresponds to a directory on the file system. Consequently, the first stepin creating a new vertual environment is to create a new directory."
   ]
  },
  {
   "cell_type": "markdown",
   "id": "197d6807",
   "metadata": {},
   "source": [
    "mkdir ~\\STOR-607\n",
    "<br>\n",
    "cd ~\\STOR-607"
   ]
  },
  {
   "cell_type": "markdown",
   "id": "bae9af5b",
   "metadata": {},
   "source": [
    "To create the new virtual enviroment, enter "
   ]
  },
  {
   "cell_type": "markdown",
   "id": "c9e60efb",
   "metadata": {},
   "source": [
    "python -m venv env"
   ]
  },
  {
   "cell_type": "markdown",
   "id": "54f5306c",
   "metadata": {},
   "source": [
    "The new virtual environment has now been created. The virtual environment consists of a complete copy of the Python system as set by pyenv global. This means that you can create different virtual environments for using different Python systems. To manage this, you have to activate a particular virtual environment each time you want to use it. To do this, change to the directory corresponding to the environment and enter "
   ]
  },
  {
   "cell_type": "markdown",
   "id": "c8624ca4",
   "metadata": {},
   "source": [
    ".\\env\\Scripts\\activate"
   ]
  },
  {
   "cell_type": "markdown",
   "id": "ead270a6",
   "metadata": {},
   "source": [
    "When you have done this you should notice that the command prompt has changed to indicate that you are now working in a specific virtual environment.\n",
    "\n",
    "The example powershell session shown below summarises the steps described above. "
   ]
  },
  {
   "cell_type": "markdown",
   "id": "1d8f662f",
   "metadata": {},
   "source": [
    "<div>\n",
    "<img src=\"./images/creating_virtual_environment.jpg\" width=\"800\"/>\n",
    "</div>"
   ]
  },
  {
   "cell_type": "markdown",
   "id": "0bb147c2",
   "metadata": {},
   "source": [
    "## Jupyter Notebook"
   ]
  },
  {
   "cell_type": "markdown",
   "id": "e5096f7d",
   "metadata": {},
   "source": [
    "### Background"
   ]
  },
  {
   "cell_type": "markdown",
   "id": "dff21e8a",
   "metadata": {},
   "source": [
    "There are many tools and software systems, such as Integrated Development Environments (IDE), debuggers, profilers, test environments, and so on,  that can help you develop, run, test, and deploy Python based software. In the case of IDEs, many of these use pyenv and virtual environments (or equivalent systems) to help you organise your projects and keep track of and manage your codes dependencies. As a STOR-i student you are encouraged to explore and find out about these tools and choose the ones that best suit your working practices, work flows, and research objectives.\n",
    "\n",
    "For the purposes of teaching methods that use Python on STOR-607 and STOR-601, Jupyter notebook is used. Jupyter Notebook is not an IDE - it is a notebook, and it is designed to allow Python code (and other types of code) to be seemlessly mixed with information communicated via HTML, markdown, LaTeX, and many other types of media, such as audio and video, and data streams. This makes it particular suitable for keeping track of your research ideas and developments, communicating your ideas to others, an quickly making reports in wide variety of formats suitable for hosting on github and the internet. All of this also makes Jupyter Notebook a useful environment for teaching and learning programming.\n"
   ]
  },
  {
   "cell_type": "markdown",
   "id": "c42d3006",
   "metadata": {},
   "source": [
    "### Installing Jupyter Notebook"
   ]
  },
  {
   "cell_type": "markdown",
   "id": "71e97cc2",
   "metadata": {},
   "source": [
    "Jupyter notebook is itself a Python module that creates and manipulates html to display and render your work in a web browser. As with many other useful Python modules, it can be installed directly from the online Python module repository PyPI (the \"Python Package Index\"). To do this, you can use the Python package manager __pip__.\n",
    "\n",
    "Since you will be using Jupyter notebook for parts of STOR-607, we will install it in your newly created STOR-607 virtual environment. \n",
    "\n",
    "Firstly, activate your STOR-607 virtual environment by starting a new powershell and entering the following commands."
   ]
  },
  {
   "cell_type": "markdown",
   "id": "a2a71d43",
   "metadata": {},
   "source": [
    "cd ~\\STOR-607\n",
    "<br>\n",
    ".\\env\\Scripts\\activate"
   ]
  },
  {
   "cell_type": "markdown",
   "id": "b917f374",
   "metadata": {},
   "source": [
    "Now install Jupyter notebook using Python and pip."
   ]
  },
  {
   "cell_type": "markdown",
   "id": "84c949c0",
   "metadata": {},
   "source": [
    "python -m pip install notebook"
   ]
  },
  {
   "cell_type": "markdown",
   "id": "fecdb1d7",
   "metadata": {},
   "source": [
    "The process described above is summarised in the powershell session shown below."
   ]
  },
  {
   "cell_type": "markdown",
   "id": "bfd319bb",
   "metadata": {},
   "source": [
    "<div>\n",
    "<img src=\"./images/installing_jupyter.jpg\" width=\"800\"/>\n",
    "</div>"
   ]
  },
  {
   "cell_type": "markdown",
   "id": "bdf953e6",
   "metadata": {},
   "source": [
    "Once Jupyter has been installed you can start it from a powershell (having activated your virtual environment) by typing "
   ]
  },
  {
   "cell_type": "markdown",
   "id": "82168fb3",
   "metadata": {},
   "source": [
    "jupyter notebook"
   ]
  },
  {
   "cell_type": "markdown",
   "id": "68329e0d",
   "metadata": {},
   "source": [
    "This command will start a new tab in a web browser (it will launch the browser if it is not already running) and you should see something similar to that displayed below."
   ]
  },
  {
   "cell_type": "markdown",
   "id": "a3d5247f",
   "metadata": {},
   "source": [
    "<div>\n",
    "<img src=\"./images/test_jupyter_python.jpg\" width=\"800\"/>\n",
    "</div>"
   ]
  },
  {
   "cell_type": "markdown",
   "id": "84d29517",
   "metadata": {
    "slideshow": {
     "slide_type": "slide"
    }
   },
   "source": [
    "## Installing and Configuring Gurobi "
   ]
  },
  {
   "cell_type": "markdown",
   "id": "d5499ce0",
   "metadata": {},
   "source": [
    "### What is Gurobi\n",
    "\n",
    "- Gurobi is a commercial solver for mixed integer linear and quadratic optimization problems\n",
    "- Free academics licences are available and do not have any limitations"
   ]
  },
  {
   "cell_type": "markdown",
   "id": "d4bb46f3",
   "metadata": {},
   "source": [
    "### How to use Gurobi?\n",
    "\n",
    "- Interactive shell\n",
    "- Interfaces in supported programming languages:\n",
    "    - C/C++\n",
    "    - .NET\n",
    "    - Java\n",
    "    - Python\n",
    "    - Matlab\n",
    "    - R\n",
    "    - Julia (third-party)"
   ]
  },
  {
   "cell_type": "markdown",
   "id": "66c58f93",
   "metadata": {},
   "source": [
    "### Why use Gurobi with a programming language?\n",
    "\n",
    "- Cannot easily change models in LP files\n",
    "- Models in AMLs cannot be easily incorporated into larger processes/algorithms (e.g. some changepoint algorithms involve solving linear programs)\n"
   ]
  },
  {
   "cell_type": "markdown",
   "id": "23666d00",
   "metadata": {},
   "source": [
    "### Why use Gurobi with Python?\n",
    "\n",
    "- Python is a high-level programming language with many packages for scientific computing\n",
    "- Python interface does not suffer from same limitations as API for other high-level languages (e.g. R and Matlab)"
   ]
  },
  {
   "cell_type": "markdown",
   "id": "6d332713",
   "metadata": {},
   "source": [
    "### Installation process"
   ]
  },
  {
   "cell_type": "markdown",
   "id": "f63159f1",
   "metadata": {},
   "source": [
    "The installation process for Gurobi and its Python API is in four parts.\n",
    "\n",
    "1. Create a Gurobi account\n",
    "2. Download and install the Gurobi Optimizer\n",
    "3. Create and install a Gurobi license\n",
    "4. Install the Gurobi Python API\n",
    "\n",
    "Instructions for steps 1 to 3 are available from the [Gurobi website](https://www.gurobi.com/products/gurobi-optimizer/)\n",
    "\n"
   ]
  },
  {
   "cell_type": "markdown",
   "id": "c0a4cf6a",
   "metadata": {},
   "source": [
    "#### Installing the Gurobi python API."
   ]
  },
  {
   "cell_type": "markdown",
   "id": "7f6ff63b",
   "metadata": {},
   "source": [
    "To install the Gurobi Python API, start the STOR-607 environment from a powershell, and launch jupyter notebook. Once the notebook has started, create a new Python kernel and execute the following commands in code cells."
   ]
  },
  {
   "cell_type": "markdown",
   "id": "2d6e9c7a",
   "metadata": {},
   "source": [
    "<div>\n",
    "<img src=\"./images/install_gurobipy.jpg\" width=\"800\"/>\n",
    "</div>"
   ]
  },
  {
   "cell_type": "markdown",
   "id": "79f5d083",
   "metadata": {},
   "source": [
    "### Test the Gurobi installation with a simple problem\n"
   ]
  },
  {
   "cell_type": "markdown",
   "id": "4d1dd0a6",
   "metadata": {},
   "source": [
    "\\begin{aligned}\n",
    "\\mathrm{minimize}\\ & 3 x + 2 y \\\\\n",
    "\\text{subject to } & x + y \\leq 8\\\\\n",
    "& x\\geq 0\\\\\n",
    "& y\\in \\{0,1\\}\n",
    "\\end{aligned}"
   ]
  },
  {
   "cell_type": "code",
   "execution_count": 1,
   "id": "698e98fd",
   "metadata": {},
   "outputs": [
    {
     "name": "stdout",
     "output_type": "stream",
     "text": [
      "Set parameter Username\n",
      "Academic license - for non-commercial use only - expires 2023-09-01\n",
      "Gurobi Optimizer version 9.5.2 build v9.5.2rc0 (win64)\n",
      "Thread count: 4 physical cores, 8 logical processors, using up to 8 threads\n",
      "Optimize a model with 1 rows, 2 columns and 2 nonzeros\n",
      "Model fingerprint: 0x94d84098\n",
      "Variable types: 1 continuous, 1 integer (1 binary)\n",
      "Coefficient statistics:\n",
      "  Matrix range     [1e+00, 1e+00]\n",
      "  Objective range  [2e+00, 3e+00]\n",
      "  Bounds range     [1e+00, 1e+00]\n",
      "  RHS range        [8e+00, 8e+00]\n",
      "Found heuristic solution: objective 24.0000000\n",
      "Presolve removed 1 rows and 2 columns\n",
      "Presolve time: 0.00s\n",
      "Presolve: All rows and columns removed\n",
      "\n",
      "Explored 0 nodes (0 simplex iterations) in 0.01 seconds (0.00 work units)\n",
      "Thread count was 1 (of 8 available processors)\n",
      "\n",
      "Solution count 1: 24 \n",
      "\n",
      "Optimal solution found (tolerance 1.00e-04)\n",
      "Best objective 2.400000000000e+01, best bound 2.400000000000e+01, gap 0.0000%\n"
     ]
    }
   ],
   "source": [
    "from gurobipy import *\n",
    "\n",
    "m = Model()\n",
    "\n",
    "x = m.addVar(name=\"x\")\n",
    "y = m.addVar(vtype='b', name=\"y\")\n",
    "m.addConstr(x + y <= 8, \"c0\")\n",
    "m.setObjective(3*x + 2*y, GRB.MAXIMIZE)\n",
    "\n",
    "m.optimize()"
   ]
  }
 ],
 "metadata": {
  "celltoolbar": "Slideshow",
  "kernelspec": {
   "display_name": "Python 3 (ipykernel)",
   "language": "python",
   "name": "python3"
  },
  "language_info": {
   "codemirror_mode": {
    "name": "ipython",
    "version": 3
   },
   "file_extension": ".py",
   "mimetype": "text/x-python",
   "name": "python",
   "nbconvert_exporter": "python",
   "pygments_lexer": "ipython3",
   "version": "3.10.6"
  },
  "toc": {
   "base_numbering": 1,
   "nav_menu": {},
   "number_sections": true,
   "sideBar": true,
   "skip_h1_title": false,
   "title_cell": "Table of Contents",
   "title_sidebar": "Contents",
   "toc_cell": false,
   "toc_position": {},
   "toc_section_display": true,
   "toc_window_display": false
  }
 },
 "nbformat": 4,
 "nbformat_minor": 5
}
