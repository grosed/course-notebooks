{
 "cells": [
  {
   "cell_type": "markdown",
   "id": "4e2cf39e",
   "metadata": {
    "slideshow": {
     "slide_type": "slide"
    }
   },
   "source": [
    "# Configuring Windows for STOR-607"
   ]
  },
  {
   "cell_type": "markdown",
   "id": "7945e06b",
   "metadata": {},
   "source": [
    "## Background"
   ]
  },
  {
   "cell_type": "markdown",
   "id": "341d3bee",
   "metadata": {},
   "source": [
    "STOR-607 requires you to use a variety of different software. In particular, R, Python, and Gurobi. These notes will guide you through the steps necessary to install and configure this software on your STOR-i Windows laptop.  "
   ]
  },
  {
   "cell_type": "markdown",
   "id": "9a5c20ea",
   "metadata": {},
   "source": [
    "## Installing Python"
   ]
  },
  {
   "cell_type": "markdown",
   "id": "47faf0b3",
   "metadata": {},
   "source": [
    "There are many different Python interpreters (and compilers) available for running programs written in python. You may already be a Python user and be familiar with a particular system, version and development environment, such as [Spyder](https://www.spyder-ide.org/), [IDLE](https://realpython.com/python-idle/) , or [Atom](https://atom.io/). These systems usually install a version of python for you however, for STOR-607 (and STOR-601), we want to show you how to manage your own Python system independently. The advantage of this is that you can then be sure of which version of Python, and associated libraries, your software is dependent on, which becomes very important when you want to share your work with other researchers and collaborators. To this end you will install [pyenv](https://github.com/pyenv/pyenv) to install and manage python interpreters and use python [venv](https://realpython.com/python-virtual-environments-a-primer/) to manage different projects.\n",
    "\n",
    "\n"
   ]
  },
  {
   "cell_type": "markdown",
   "id": "e266cd69",
   "metadata": {},
   "source": [
    "### Installing pyenv "
   ]
  },
  {
   "cell_type": "markdown",
   "id": "4fcc3fec",
   "metadata": {},
   "source": [
    "The easiest way to install __pyenv__ on your Windows system is to use the __powershell__. First, start the powershell from the Windows search box"
   ]
  },
  {
   "cell_type": "markdown",
   "id": "3a6174fe",
   "metadata": {},
   "source": [
    "<div>\n",
    "<img src=\"./images/start_powershell.jpg\" width=\"500\"/>\n",
    "</div>"
   ]
  },
  {
   "cell_type": "markdown",
   "id": "7b55c01e",
   "metadata": {},
   "source": [
    "Once you have started the power shell it should look like."
   ]
  },
  {
   "cell_type": "markdown",
   "id": "8510c761",
   "metadata": {},
   "source": [
    "<div>\n",
    "<img src=\"./images/powershell.jpg\" width=\"800\"/>\n",
    "</div>"
   ]
  },
  {
   "cell_type": "markdown",
   "id": "5a5376f1",
   "metadata": {},
   "source": [
    "Now type\n",
    "\n",
    "c:\\Users\\<your username>\n",
    "    \n",
    "replacing <your username> with your LU username, and press return. On my laptop this looks like"
   ]
  },
  {
   "cell_type": "markdown",
   "id": "a5d7bf98",
   "metadata": {},
   "source": [
    "<div>\n",
    "<img src=\"./images/change_directory.jpg\" width=\"800\"/>\n",
    "</div>"
   ]
  },
  {
   "cell_type": "markdown",
   "id": "957ff9ea",
   "metadata": {},
   "source": [
    "You are now ready to install pyenv. Copy the line below and paste it to the command prompt and press return."
   ]
  },
  {
   "cell_type": "markdown",
   "id": "82e7d59e",
   "metadata": {},
   "source": [
    "Invoke-WebRequest -UseBasicParsing -Uri \"https://raw.githubusercontent.com/pyenv-win/pyenv-win/master/pyenv-win/install-pyenv-win.ps1\" -OutFile \"./install-pyenv-win.ps1\"; &\"./install-pyenv-win.ps1\""
   ]
  },
  {
   "cell_type": "markdown",
   "id": "f92f77f6",
   "metadata": {},
   "source": [
    "Once the installation has finished close the powershell (do not worry if a few warning/error messages appear during installation)."
   ]
  },
  {
   "cell_type": "markdown",
   "id": "a6264d32",
   "metadata": {},
   "source": [
    "### Installing a Python system using pyenv\n"
   ]
  },
  {
   "cell_type": "markdown",
   "id": "18012625",
   "metadata": {},
   "source": [
    "__pyenv__ is not a Python system. It is a tool that allows you to install a variety of Python systems that are independent of each other. To see what Python systems are available for installation, start a powershell and type"
   ]
  },
  {
   "cell_type": "markdown",
   "id": "d92e0894",
   "metadata": {},
   "source": [
    "pyenv install --list"
   ]
  },
  {
   "cell_type": "markdown",
   "id": "968dbaa7",
   "metadata": {},
   "source": [
    "followed by return. This will produce output similar to the following"
   ]
  },
  {
   "cell_type": "markdown",
   "id": "d6255778",
   "metadata": {},
   "source": [
    "<div>\n",
    "<img src=\"./images/python_systems.jpg\" width=\"800\"/>\n",
    "</div>"
   ]
  },
  {
   "cell_type": "markdown",
   "id": "8ca6d143",
   "metadata": {},
   "source": [
    "The list is quite long !! To install a Python system type"
   ]
  },
  {
   "cell_type": "markdown",
   "id": "9270e1da",
   "metadata": {},
   "source": [
    "pyenv install \\<python-system\\>"
   ]
  },
  {
   "cell_type": "markdown",
   "id": "0827b748",
   "metadata": {},
   "source": [
    "where \\<python-system\\> is the name/version of the Python system to be installed. For example, enter the follwing in a powershell."
   ]
  },
  {
   "cell_type": "markdown",
   "id": "a271587a",
   "metadata": {},
   "source": [
    "pyenv install 3.10.6"
   ]
  },
  {
   "cell_type": "markdown",
   "id": "1f4fa046",
   "metadata": {},
   "source": [
    "After the installation process has finished, type pyenv global, which should display something similar to "
   ]
  },
  {
   "cell_type": "markdown",
   "id": "433ceb0c",
   "metadata": {},
   "source": [
    "<div>\n",
    "<img src=\"./images/pyenv_global.jpg\" width=\"800\"/>\n",
    "</div>"
   ]
  },
  {
   "cell_type": "markdown",
   "id": "4f06c6f7",
   "metadata": {},
   "source": [
    "This output shows that Pyhton 3.10.6 is ready for use on your system. You can start a Python REPL (Read Evaluate Print Loop) by typing and entering python at the command prompt."
   ]
  },
  {
   "cell_type": "markdown",
   "id": "ed7bb2f9",
   "metadata": {},
   "source": [
    "<div>\n",
    "<img src=\"./images/python_repl.jpg\" width=\"800\"/>\n",
    "</div>"
   ]
  },
  {
   "cell_type": "markdown",
   "id": "21401737",
   "metadata": {},
   "source": [
    "### Using pyenv to mange multiplePython systems"
   ]
  },
  {
   "cell_type": "code",
   "execution_count": null,
   "id": "4d71576e",
   "metadata": {},
   "outputs": [],
   "source": [
    "## Creating a "
   ]
  },
  {
   "cell_type": "code",
   "execution_count": null,
   "id": "2dc274a3",
   "metadata": {},
   "outputs": [],
   "source": []
  },
  {
   "cell_type": "markdown",
   "id": "7d465767",
   "metadata": {},
   "source": [
    "### Installing a version of Python with pyenv"
   ]
  },
  {
   "cell_type": "markdown",
   "id": "84d29517",
   "metadata": {
    "slideshow": {
     "slide_type": "slide"
    }
   },
   "source": [
    "## A sample shell"
   ]
  },
  {
   "cell_type": "markdown",
   "id": "9bc6c89d",
   "metadata": {},
   "source": [
    "<div>\n",
    "<img src=\"./images/start_powershell.jpg\" width=\"500\"/>\n",
    "</div>"
   ]
  }
 ],
 "metadata": {
  "celltoolbar": "Slideshow",
  "kernelspec": {
   "display_name": "Python 3 (ipykernel)",
   "language": "python",
   "name": "python3"
  },
  "language_info": {
   "codemirror_mode": {
    "name": "ipython",
    "version": 3
   },
   "file_extension": ".py",
   "mimetype": "text/x-python",
   "name": "python",
   "nbconvert_exporter": "python",
   "pygments_lexer": "ipython3",
   "version": "3.10.6"
  },
  "toc": {
   "base_numbering": 1,
   "nav_menu": {},
   "number_sections": true,
   "sideBar": true,
   "skip_h1_title": false,
   "title_cell": "Table of Contents",
   "title_sidebar": "Contents",
   "toc_cell": false,
   "toc_position": {},
   "toc_section_display": true,
   "toc_window_display": false
  }
 },
 "nbformat": 4,
 "nbformat_minor": 5
}
