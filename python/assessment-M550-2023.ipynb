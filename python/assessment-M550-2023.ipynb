{
 "cells": [
  {
   "cell_type": "markdown",
   "id": "ec590164",
   "metadata": {},
   "source": [
    "# Assessment"
   ]
  },
  {
   "cell_type": "markdown",
   "id": "12ad4629",
   "metadata": {},
   "source": [
    "## Overview"
   ]
  },
  {
   "cell_type": "markdown",
   "id": "c613d91b",
   "metadata": {},
   "source": [
    "This is the assessment for the M550 Python Module. It counts as 30% of your overall mark for M550.\n",
    "\n",
    "The assessment is to be undertaken in small groups and your work should be submitted in the form of a single jupyter notebook. Your should have already been assigned a group to work in - please contact the course coordinator if you have any issues regarding this.\n",
    "\n",
    "The submission date for this assessment is 15/11/2023. Your jupyter notebook should be emailed directly  to [daniel grose](mailto:dan.grose@lancaster.ac.uk) by 09:00 on this date (one copy per group).\n",
    "\n",
    "Before your results and feedback are returned you might be asked to have a short (approximately 5 minutes) individual online \"interview\" to discuss some aspects of your work. The outcome of this interview might impact on your overall individual score.\n",
    "\n",
    "The marks allocated to each part of the assessment are \n",
    "\n",
    "Part 1 - 5 marks \\\n",
    "Part 2 - 10 marks \\\n",
    "Part 3 - 10 marks \\\n",
    "Part 4 - 10 marks \\\n",
    "Part 5 - 15 marks \\\n",
    "Part 6 - 15 marks \\\n",
    "Part 7 - 20 marks \\\n",
    "Part 8 - 15 marks\n",
    "\n",
    "Total - __100 marks__\n",
    "\n",
    "To score full marks in the questions you must show all of your code and calculations, make good use of plots for visualising and summarising your data, discuss any limitations associated with your approach, and comment your code.\n",
    "The questions are \"exploratory\" in nature, so you are expected to reflect on what you are being asked to do and research the methods being developed. For example, in __Part 7__, you might choose to investigate what the effect of the quadrat size has on the power of the method for determining non randomness, or you might want to say something about how the likelihood of a obtaining a particular result might be quantified, and so on ....\n",
    "\n",
    "\n",
    "You can use the internet to search for examples of python code that may be useful, but do make reference to your sources. \n",
    "\n",
    "If you have any questions regarding the course and / or the assessment, please do not hesitate to contact me by [e-mail](mailto:dan.grose@lancaster.ac.uk)\n"
   ]
  },
  {
   "cell_type": "markdown",
   "id": "2fc1f4c1",
   "metadata": {},
   "source": [
    "## Part 1"
   ]
  },
  {
   "cell_type": "markdown",
   "id": "faa02cae",
   "metadata": {},
   "source": [
    "The following code uses the [numpy](https://numpy.org/doc/stable/index.html) library to generate a data frame of 100 points uniformly distributed in the unit square."
   ]
  },
  {
   "cell_type": "code",
   "execution_count": 1,
   "id": "56bf0377",
   "metadata": {},
   "outputs": [],
   "source": [
    "import numpy as np\n",
    "import pandas as pd\n",
    "uniform_data = pd.DataFrame({\"X\" : np.random.uniform(0,1,100),\"Y\" : np.random.uniform(0,1,100)})"
   ]
  },
  {
   "cell_type": "markdown",
   "id": "02dc7231",
   "metadata": {},
   "source": [
    "Using a suitable plot, visualise the data."
   ]
  },
  {
   "cell_type": "markdown",
   "id": "0790424d",
   "metadata": {},
   "source": [
    "## Part 2\n",
    "\n",
    "The distance between between two points $p_{i} = (x_{i},y_{i})$ and  $p_{j} = (x_{j},y_{j})$ can be calculated using the Euclidean distance as \n",
    "\n",
    "$d_{ij} = \\sqrt{(x_{i}-x_{j})^{2} + (y_{i}-y_{j})^{2}}$\n",
    "\n",
    "For a given point $p_{i} = (x_{i},y_{i})$, its nearest neighbour is the point $p_{j} = (x_{j},y_{j})$, $i \\neq j$, such that the distance $d_{ij}$ is the smallest amongst all distances from $p_{i}$ to all other points.\n",
    "\n",
    "Use Python to create a pandas data frame containing coordinates of random points along with a column containing the distance from each point to its nearest neighbour. Your data might be organised in a way something like that shown below\n",
    "\n",
    "\n",
    "\n",
    "| | x | y | d |\n",
    "|- | - | - | - |\n",
    "|0 |\t0.623908 \t|0.632107 |\t0.020188 |\n",
    "|1 |\t0.031473 |\t0.972909 |\t0.055497 |\n",
    "|2 |\t0.307875| \t0.505808 |\t0.039454 |\n",
    "|3 |\t0.773175 |\t0.807915 |\t0.064741 |\n",
    "|4 |\t0.208603 |\t0.902263 |\t0.017473 |\n",
    "|... |\t... |\t... |\t...|\n",
    "|95 |\t0.878250 |\t0.173126 |\t0.062597 |\n",
    "|96 |\t0.866103 |\t0.276347 |\t0.044193 |"
   ]
  },
  {
   "cell_type": "markdown",
   "id": "bebb8eff",
   "metadata": {},
   "source": [
    "## Part 3\n",
    "\n",
    "If n points are placed at random in a region with area $A$ then the expected value of the distance from each point to its nearest neighbour is given by [Clark and Evans (1954)](https://esajournals.onlinelibrary.wiley.com/doi/10.2307/1931034) as\n",
    "\n",
    "$E[d] = \\frac{\\sqrt{\\sigma}}{2}$\n",
    "\n",
    "where $d$ is the distance and $\\sigma = A/n$ is the population density. \n",
    "\n",
    "Using your result from __Part 2__, determine if your randomly generated data is consistent with this claim."
   ]
  },
  {
   "cell_type": "markdown",
   "id": "713682d7",
   "metadata": {},
   "source": [
    "## Part 4\n",
    "\n",
    "By repeatedly generating random data and calculating the mean nearest neighbour distances, determine approximate values $[a,b]$ for a 95% confidence interval of $E[d]$ in the unit square. \n",
    "\n",
    "Is your confidence interval centered on the value of $E[d]$ proposed by Clark and Evans ? If not, why might this be the case ? Does the confidence interval depend on the size of the random samples ? If so, how does it vary ?\n"
   ]
  },
  {
   "cell_type": "markdown",
   "id": "55b2b254",
   "metadata": {},
   "source": [
    "## Part 5\n",
    "\n",
    "Using __numpy__ or otherwise, generate some exampes of non-uniformly distributed points in the plane and see if the mean nearest neighbour distances are contained inside an appropriately determined 95% confidence interval.\n",
    "\n",
    "How good do you think the statistic proposed by Clark and Evans is for determining if spatial points are randomly distributed ?\n",
    "\n",
    "It is possible to create a non-random(pathological) data set that has a mean nearest neighbour distance equal to the Clarkand Evans statistic. Can you create/describe such a set of data ? \n",
    "\n"
   ]
  },
  {
   "cell_type": "markdown",
   "id": "08bf0f80",
   "metadata": {},
   "source": [
    "## Part 6\n",
    "\n",
    "The statistic proposed by Clark and Evans can be useful for determining non-randomness in spatial data, but it does not quantify how the data deviates from the assumption of randomness. The use of quadrat based methods can help describe how a spatial pattern is distributed.\n",
    "\n",
    "Typically, a quadrat based method uses a contiguous regular grid to \"bin\" the spatially distributed data into counts. If the bins are of equal size, and the data is randomly distributed in the region of the grid, then the counts $x$ in each bin would be expected to have a poisson distribution\n",
    "\n",
    "$P(x) = \\frac{{\\rm e}^{\\lambda}\\lambda^{x}}{x!}$\n",
    "\n",
    "\n",
    "For $N$ samples and a grid with area $S$ and quadrat area $A$ the value of $\\lambda$ is \n",
    "\n",
    "$\\lambda = N\\frac{A}{S}$\n",
    "\n",
    "\n",
    "Use Python to automate the process of generating the coordinates of the vertices of a $n$ by $m$ grid made up of rectangles of dimensions $\\delta x$,$\\delta y$.  Your data should be in a pandas data frame and each row should have two x coordinates and two y coordinates which define each quadrat in the grid. Your data frame might look something like the one shown below\n",
    "\n",
    "\n",
    "\n",
    "| | x0 | x1 | y0 | y1 |\n",
    "|- | - | - | - | - |\n",
    "|0 |0.0 |\t0.1 |\t0.0 |\t0.1|\n",
    "|1 \t|0.0 |\t0.1 |\t0.1 |\t0.2|\n",
    "|2 \t|0.0 |\t0.1 |\t0.2 |\t0.3|\n",
    "|3 \t|0.0 |\t0.1 |\t0.3 |\t0.4|\n",
    "|4 \t|0.0 |\t0.1 |\t0.4 |\t0.5|\n",
    "|... | \t... |\t... |\t...| \t...|\n",
    "|95 |\t0.9 |\t1.0 |\t0.5 |\t0.6|\n",
    "|96 |\t0.9 |\t1.0 |\t0.6 |\t0.7|\n",
    "|97 |\t0.9 |\t1.0 |\t0.7 |\t0.8|\n",
    "\n"
   ]
  },
  {
   "cell_type": "markdown",
   "id": "9482f4c2",
   "metadata": {},
   "source": [
    "## Part 7\n",
    "\n",
    "Using your result from __Part 6__ and some appropriately generated data, determine the counts for each quadrat in the grid and summarise your results in a data frame. Your data frame might look something like \n",
    "\n",
    "| | x0 | x1 | y0 | y1 | count |\n",
    "|- | - | - | - | - | - |\n",
    "|0 |0.0 |\t0.1 |\t0.0 |\t0.1| 0|\n",
    "|1 \t|0.0 |\t0.1 |\t0.1 |\t0.2| 2|\n",
    "|2 \t|0.0 |\t0.1 |\t0.2 |\t0.3| 0|\n",
    "|3 \t|0.0 |\t0.1 |\t0.3 |\t0.4| 0 |\n",
    "|4 \t|0.0 |\t0.1 |\t0.4 |\t0.5| 1|\n",
    "|... | \t... |\t... |\t...| \t...| ...|\n",
    "|95 |\t0.9 |\t1.0 |\t0.5 |\t0.6| 0|\n",
    "|96 |\t0.9 |\t1.0 |\t0.6 |\t0.7| 3|\n",
    "|97 |\t0.9 |\t1.0 |\t0.7 |\t0.8|2|\n",
    "\n",
    "Compare your \"count\" data with the appropriate poisson disribution. \n",
    "\n",
    "Explain how you would use your results to detect non random data. Would this quadrat based method detect non randomness in your \"pathological\" data from __Part 5__ ?\n",
    "\n",
    "Using appropriate visualisations and statistics compare and contrast the quadrat method with the approach proposed by Clark and Evans. "
   ]
  },
  {
   "cell_type": "markdown",
   "id": "f1446b87",
   "metadata": {},
   "source": [
    "## Part 8\n",
    "\n",
    "The data set __./data/trees.txt__ contains the (normalised) x y coordinates of the locations of a certain species of tree in a square region in a small wood. The data set is tab seperated.\n",
    "\n",
    "Using the methods you have developed in the previos parts of this assessment, investigate the claim that these trees are not randomly distributed. Write a short report describing your investigation and use your results to form a conclusion regarding the claim of non randomness. You can assume that the readership of your report has a statistical training, but it should also include an \"executive summary\" for non technically trained readers."
   ]
  }
 ],
 "metadata": {
  "kernelspec": {
   "display_name": "Python 3 (ipykernel)",
   "language": "python",
   "name": "python3"
  },
  "language_info": {
   "codemirror_mode": {
    "name": "ipython",
    "version": 3
   },
   "file_extension": ".py",
   "mimetype": "text/x-python",
   "name": "python",
   "nbconvert_exporter": "python",
   "pygments_lexer": "ipython3",
   "version": "3.9.9"
  }
 },
 "nbformat": 4,
 "nbformat_minor": 5
}
