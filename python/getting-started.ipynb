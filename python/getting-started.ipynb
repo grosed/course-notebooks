{
 "cells": [
  {
   "cell_type": "markdown",
   "id": "8685fda2",
   "metadata": {},
   "source": [
    "# Getting Started"
   ]
  },
  {
   "cell_type": "markdown",
   "id": "33586d09",
   "metadata": {},
   "source": [
    "To undertake this course you need access to a system with a suitable Python system installed and access to Jupyter Notebook. You will also need to download the [data files](http://mathsbox.com/M550-python/data.zip?dl=1) used in the examples, exercises, and assessment.\n",
    "\n",
    "You can also download the Jupyter notebooks for each chapter of this course from [here](http://mathsbox.com/M550-python/jupyter-notebooks.zip?dl=1). "
   ]
  },
  {
   "cell_type": "markdown",
   "id": "8da61b88",
   "metadata": {},
   "source": [
    "## Installing Python and Jupyter Notebook"
   ]
  },
  {
   "cell_type": "markdown",
   "id": "4cca7344",
   "metadata": {},
   "source": [
    "Python and Jupyter notebook can be installed on a LU Windows 10 PC using your LU account. Alternatively, you can install the software on your own Windows PC using your university account and AppsAnywhere."
   ]
  },
  {
   "cell_type": "markdown",
   "id": "873ce218",
   "metadata": {},
   "source": [
    "### Start AppsAnywhere"
   ]
  },
  {
   "cell_type": "code",
   "execution_count": 4,
   "id": "93f46511",
   "metadata": {
    "tags": [
     "hide-input"
    ]
   },
   "outputs": [
    {
     "data": {
      "text/html": [
       "<img src=\".\\images\\windows-start-apps-anywhere.JPG\" width=\"800\",height=\"300\">\n"
      ],
      "text/plain": [
       "<IPython.core.display.HTML object>"
      ]
     },
     "metadata": {},
     "output_type": "display_data"
    }
   ],
   "source": [
    "%%HTML\n",
    "<img src=\".\\images\\windows-start-apps-anywhere.JPG\" width=\"800\",height=\"300\">"
   ]
  },
  {
   "cell_type": "code",
   "execution_count": 3,
   "id": "5e276189",
   "metadata": {
    "tags": [
     "hide-input"
    ]
   },
   "outputs": [
    {
     "data": {
      "text/html": [
       "<img src=\".\\images\\apps-anywhere-windows.JPG\" width=\"800\",height=\"300\">\n"
      ],
      "text/plain": [
       "<IPython.core.display.HTML object>"
      ]
     },
     "metadata": {},
     "output_type": "display_data"
    }
   ],
   "source": [
    "%%HTML\n",
    "<img src=\".\\images\\apps-anywhere-windows.JPG\" width=\"800\",height=\"300\">"
   ]
  },
  {
   "cell_type": "markdown",
   "id": "c98a484d",
   "metadata": {},
   "source": [
    "### Install Anaconda"
   ]
  },
  {
   "cell_type": "code",
   "execution_count": 5,
   "id": "eeaf445b",
   "metadata": {
    "tags": [
     "hide-input"
    ]
   },
   "outputs": [
    {
     "data": {
      "text/html": [
       "<img src=\".\\images\\apps-anywhere-anaconda.JPG\" width=\"800\",height=\"300\">\n"
      ],
      "text/plain": [
       "<IPython.core.display.HTML object>"
      ]
     },
     "metadata": {},
     "output_type": "display_data"
    }
   ],
   "source": [
    "%%HTML\n",
    "<img src=\".\\images\\apps-anywhere-anaconda.JPG\" width=\"800\",height=\"300\">"
   ]
  },
  {
   "cell_type": "markdown",
   "id": "036d47e2",
   "metadata": {},
   "source": [
    "### Start Jupyter Notebook"
   ]
  },
  {
   "cell_type": "code",
   "execution_count": 6,
   "id": "051bf831",
   "metadata": {
    "tags": [
     "hide-input"
    ]
   },
   "outputs": [
    {
     "data": {
      "text/html": [
       "<img src=\".\\images\\windows-menu-anaconda.JPG\" width=\"800\",height=\"300\">\n"
      ],
      "text/plain": [
       "<IPython.core.display.HTML object>"
      ]
     },
     "metadata": {},
     "output_type": "display_data"
    }
   ],
   "source": [
    "%%HTML\n",
    "<img src=\".\\images\\windows-menu-anaconda.JPG\" width=\"800\",height=\"300\">"
   ]
  },
  {
   "cell_type": "code",
   "execution_count": 7,
   "id": "d21f95e1",
   "metadata": {
    "tags": [
     "hide-input"
    ]
   },
   "outputs": [
    {
     "data": {
      "text/html": [
       "<img src=\".\\images\\anaconda-jupyter-notebook.JPG\" width=\"800\",height=\"300\">\n"
      ],
      "text/plain": [
       "<IPython.core.display.HTML object>"
      ]
     },
     "metadata": {},
     "output_type": "display_data"
    }
   ],
   "source": [
    "%%HTML\n",
    "<img src=\".\\images\\anaconda-jupyter-notebook.JPG\" width=\"800\",height=\"300\">"
   ]
  }
 ],
 "metadata": {
  "celltoolbar": "Edit Metadata",
  "kernelspec": {
   "display_name": "Python 3 (ipykernel)",
   "language": "python",
   "name": "python3"
  },
  "language_info": {
   "codemirror_mode": {
    "name": "ipython",
    "version": 3
   },
   "file_extension": ".py",
   "mimetype": "text/x-python",
   "name": "python",
   "nbconvert_exporter": "python",
   "pygments_lexer": "ipython3",
   "version": "3.9.9"
  }
 },
 "nbformat": 4,
 "nbformat_minor": 5
}
