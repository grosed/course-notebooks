{
 "cells": [
  {
   "cell_type": "markdown",
   "id": "8685fda2",
   "metadata": {},
   "source": [
    "# Getting Started"
   ]
  },
  {
   "cell_type": "markdown",
   "id": "33586d09",
   "metadata": {},
   "source": [
    "To undertake this course you need access to a system with a suitable Python system installed and access to Jupyter Notebook. You will also need to download the data files used in the examples, exercises, and assessment.\n",
    "\n",
    "You can also download the Jupyter notebooks for each chapter of this course from [here](http://mathsbox.com/M550-python/course-notes.zip?dl=1). "
   ]
  },
  {
   "cell_type": "markdown",
   "id": "8da61b88",
   "metadata": {},
   "source": [
    "## Installing Python and Jupyter Notebook"
   ]
  },
  {
   "cell_type": "markdown",
   "id": "4cca7344",
   "metadata": {},
   "source": [
    "Python and Jupyter notebook can be installed on a LU Windows 10 PC using your LU account. Alternatively, you can install the software on your own Windows PC using your university account and AppsAnywhere."
   ]
  },
  {
   "cell_type": "markdown",
   "id": "873ce218",
   "metadata": {},
   "source": [
    "### Start AppsAnywhere"
   ]
  },
  {
   "cell_type": "code",
   "execution_count": 16,
   "id": "5e276189",
   "metadata": {
    "tags": [
     "hide-input"
    ]
   },
   "outputs": [
    {
     "data": {
      "text/html": [
       "<img src=\".\\images\\Screenshot from 2022-10-17 14-51-23.png\" width=\"500\",height=\"200\">\n"
      ],
      "text/plain": [
       "<IPython.core.display.HTML object>"
      ]
     },
     "metadata": {},
     "output_type": "display_data"
    }
   ],
   "source": [
    "%%HTML\n",
    "<img src=\".\\images\\Screenshot from 2022-10-17 14-51-23.png\" width=\"500\",height=\"200\">"
   ]
  },
  {
   "cell_type": "code",
   "execution_count": 17,
   "id": "7335466a",
   "metadata": {
    "tags": [
     "hide-input"
    ]
   },
   "outputs": [
    {
     "data": {
      "text/html": [
       "<img src=\".\\images\\Screenshot from 2022-10-17 14-52-03.png\" width=\"500\",height=\"200\">\n"
      ],
      "text/plain": [
       "<IPython.core.display.HTML object>"
      ]
     },
     "metadata": {},
     "output_type": "display_data"
    }
   ],
   "source": [
    "%%HTML\n",
    "<img src=\".\\images\\Screenshot from 2022-10-17 14-52-03.png\" width=\"500\",height=\"200\">"
   ]
  },
  {
   "cell_type": "code",
   "execution_count": 18,
   "id": "9df5cf3b",
   "metadata": {
    "tags": [
     "hide-input"
    ]
   },
   "outputs": [
    {
     "data": {
      "text/html": [
       "<img src=\".\\images\\Screenshot from 2022-10-17 14-52-37.png\" width=\"500\",height=\"200\">\n"
      ],
      "text/plain": [
       "<IPython.core.display.HTML object>"
      ]
     },
     "metadata": {},
     "output_type": "display_data"
    }
   ],
   "source": [
    "%%HTML\n",
    "<img src=\".\\images\\Screenshot from 2022-10-17 14-52-37.png\" width=\"500\",height=\"200\">"
   ]
  },
  {
   "cell_type": "markdown",
   "id": "d73178b8",
   "metadata": {},
   "source": [
    "### Search for and Launch Jupyter"
   ]
  },
  {
   "cell_type": "code",
   "execution_count": 19,
   "id": "4ae1cc99",
   "metadata": {
    "tags": [
     "hide-input"
    ]
   },
   "outputs": [
    {
     "data": {
      "text/html": [
       "<img src=\".\\images\\Screenshot from 2022-10-17 14-52-54.png\" width=\"500\",height=\"200\">\n"
      ],
      "text/plain": [
       "<IPython.core.display.HTML object>"
      ]
     },
     "metadata": {},
     "output_type": "display_data"
    }
   ],
   "source": [
    "%%HTML\n",
    "<img src=\".\\images\\Screenshot from 2022-10-17 14-52-54.png\" width=\"500\",height=\"200\">"
   ]
  },
  {
   "cell_type": "code",
   "execution_count": 20,
   "id": "02b61c3d",
   "metadata": {
    "tags": [
     "hide-input"
    ]
   },
   "outputs": [
    {
     "data": {
      "text/html": [
       "<img src=\".\\images\\Screenshot from 2022-10-17 14-54-39.png\" width=\"500\",height=\"200\">\n"
      ],
      "text/plain": [
       "<IPython.core.display.HTML object>"
      ]
     },
     "metadata": {},
     "output_type": "display_data"
    }
   ],
   "source": [
    "%%HTML\n",
    "<img src=\".\\images\\Screenshot from 2022-10-17 14-54-39.png\" width=\"500\",height=\"200\">"
   ]
  },
  {
   "cell_type": "markdown",
   "id": "47916a62",
   "metadata": {},
   "source": [
    "## Starting Jupyter Notebook"
   ]
  },
  {
   "cell_type": "markdown",
   "id": "55c3a72e",
   "metadata": {},
   "source": [
    "### Start a Windows Powershell"
   ]
  },
  {
   "cell_type": "code",
   "execution_count": 21,
   "id": "68c3fe48",
   "metadata": {
    "tags": [
     "hide-input"
    ]
   },
   "outputs": [
    {
     "data": {
      "text/html": [
       "<img src=\".\\images\\Screenshot from 2022-10-17 14-55-21.png\" width=\"500\",height=\"200\">\n"
      ],
      "text/plain": [
       "<IPython.core.display.HTML object>"
      ]
     },
     "metadata": {},
     "output_type": "display_data"
    }
   ],
   "source": [
    "%%HTML\n",
    "<img src=\".\\images\\Screenshot from 2022-10-17 14-55-21.png\" width=\"500\",height=\"200\">"
   ]
  },
  {
   "cell_type": "code",
   "execution_count": 22,
   "id": "8cd6d911",
   "metadata": {
    "tags": [
     "hide-input"
    ]
   },
   "outputs": [
    {
     "data": {
      "text/html": [
       "<img src=\".\\images\\Screenshot from 2022-10-17 14-55-45.png\" width=\"500\",height=\"200\">\n"
      ],
      "text/plain": [
       "<IPython.core.display.HTML object>"
      ]
     },
     "metadata": {},
     "output_type": "display_data"
    }
   ],
   "source": [
    "%%HTML\n",
    "<img src=\".\\images\\Screenshot from 2022-10-17 14-55-45.png\" width=\"500\",height=\"200\">"
   ]
  },
  {
   "cell_type": "markdown",
   "id": "2e3e871e",
   "metadata": {},
   "source": [
    "### Start Jupyter Notebook"
   ]
  },
  {
   "cell_type": "code",
   "execution_count": 23,
   "id": "1d565796",
   "metadata": {
    "tags": [
     "hide-input"
    ]
   },
   "outputs": [
    {
     "data": {
      "text/html": [
       "<img src=\".\\images\\Screenshot from 2022-10-17 14-56-30.png\" width=\"500\",height=\"200\">\n"
      ],
      "text/plain": [
       "<IPython.core.display.HTML object>"
      ]
     },
     "metadata": {},
     "output_type": "display_data"
    }
   ],
   "source": [
    "%%HTML\n",
    "<img src=\".\\images\\Screenshot from 2022-10-17 14-56-30.png\" width=\"500\",height=\"200\">"
   ]
  },
  {
   "cell_type": "markdown",
   "id": "f866b428",
   "metadata": {},
   "source": [
    "### Create a new Python kernel"
   ]
  },
  {
   "cell_type": "code",
   "execution_count": 24,
   "id": "c7f0ce46",
   "metadata": {
    "tags": [
     "hide-input"
    ]
   },
   "outputs": [
    {
     "data": {
      "text/html": [
       "<img src=\".\\images\\Screenshot from 2022-10-17 14-57-21.png\" width=\"500\",height=\"200\">\n"
      ],
      "text/plain": [
       "<IPython.core.display.HTML object>"
      ]
     },
     "metadata": {},
     "output_type": "display_data"
    }
   ],
   "source": [
    "%%HTML\n",
    "<img src=\".\\images\\Screenshot from 2022-10-17 14-57-21.png\" width=\"500\",height=\"200\">"
   ]
  },
  {
   "cell_type": "markdown",
   "id": "d60f5089",
   "metadata": {},
   "source": [
    "## Summary of Installing and Starting Jupyter Notebook"
   ]
  },
  {
   "cell_type": "markdown",
   "id": "e725cb5a",
   "metadata": {},
   "source": [
    "The following video summarises all of the steps shown in the previous two sections."
   ]
  },
  {
   "cell_type": "code",
   "execution_count": 14,
   "id": "5376aef3",
   "metadata": {
    "tags": [
     "hide-input"
    ]
   },
   "outputs": [
    {
     "data": {
      "text/html": [
       "<video width=\"950\" height=\"720\" controls>\n",
       "  <source src=\"./videos/apps-anywhere-install-jupyter.mp4\" type=\"video/mp4\">\n",
       "</video>\n"
      ],
      "text/plain": [
       "<IPython.core.display.HTML object>"
      ]
     },
     "metadata": {},
     "output_type": "display_data"
    }
   ],
   "source": [
    "%%HTML\n",
    "<video width=\"950\" height=\"720\" controls>\n",
    "  <source src=\"./videos/apps-anywhere-install-jupyter.mp4\" type=\"video/mp4\">\n",
    "</video>"
   ]
  },
  {
   "cell_type": "markdown",
   "id": "06018f81",
   "metadata": {},
   "source": [
    "## Downloading the data files"
   ]
  },
  {
   "cell_type": "markdown",
   "id": "5c684470",
   "metadata": {},
   "source": [
    "The data files used in this course can be downloaded from [here](http://mathsbox.com/M550-python/data.zip?dl=1).\n",
    "\n",
    "Make sure you unzip the _data.zip_ file into your home directory. On an LU Windows 10 PC, this will be your H: drive."
   ]
  },
  {
   "cell_type": "code",
   "execution_count": null,
   "id": "0d6c4352",
   "metadata": {},
   "outputs": [],
   "source": []
  }
 ],
 "metadata": {
  "celltoolbar": "Edit Metadata",
  "kernelspec": {
   "display_name": "Python 3 (ipykernel)",
   "language": "python",
   "name": "python3"
  },
  "language_info": {
   "codemirror_mode": {
    "name": "ipython",
    "version": 3
   },
   "file_extension": ".py",
   "mimetype": "text/x-python",
   "name": "python",
   "nbconvert_exporter": "python",
   "pygments_lexer": "ipython3",
   "version": "3.9.9"
  }
 },
 "nbformat": 4,
 "nbformat_minor": 5
}
