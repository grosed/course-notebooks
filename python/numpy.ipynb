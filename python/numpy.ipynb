{
 "cells": [
  {
   "cell_type": "markdown",
   "id": "830580a4",
   "metadata": {},
   "source": [
    "# Introduction to NumPy"
   ]
  },
  {
   "cell_type": "markdown",
   "id": "c9d57a7c",
   "metadata": {},
   "source": [
    "The content of this section is derived from the book \"Python data science hanbdbook\". Details of this book can be found  in the further reading section."
   ]
  },
  {
   "cell_type": "markdown",
   "id": "463231b0",
   "metadata": {},
   "source": [
    "[NumPy](https://numpy.org/) is a scientific computing library and is the defacto library for numerical analysis and linear algebra in python i.e. it is \"__Nu__merical __Py__thon\". It is a bit like __Matlab__ for python.  One of its\n",
    "primary features is the provision of efficient array data structures which are not particularly well supported in\n",
    "base python."
   ]
  },
  {
   "cell_type": "markdown",
   "id": "15cf031f",
   "metadata": {},
   "source": [
    "## Arrays using Python Lists"
   ]
  },
  {
   "cell_type": "markdown",
   "id": "239301bf",
   "metadata": {},
   "source": [
    "An array like structure can be created in python using lists."
   ]
  },
  {
   "cell_type": "markdown",
   "id": "89baa6f9",
   "metadata": {},
   "source": [
    "### <u>Example 1</u>"
   ]
  },
  {
   "cell_type": "code",
   "execution_count": 2,
   "id": "83a34e43",
   "metadata": {},
   "outputs": [
    {
     "name": "stdout",
     "output_type": "stream",
     "text": [
      "[[1, 2, 3], [4, 5, 6], [7, 8, 9], [10, 11, 12]]\n"
     ]
    }
   ],
   "source": [
    "A = [[1,2,3],[4,5,6],[7,8,9],[10,11,12]]\n",
    "print(A)"
   ]
  },
  {
   "cell_type": "code",
   "execution_count": 4,
   "id": "945dfabc",
   "metadata": {},
   "outputs": [
    {
     "data": {
      "text/plain": [
       "6"
      ]
     },
     "execution_count": 4,
     "metadata": {},
     "output_type": "execute_result"
    }
   ],
   "source": [
    "A[1][2]"
   ]
  },
  {
   "cell_type": "markdown",
   "id": "51fc7ea4",
   "metadata": {},
   "source": [
    "In python, arrays represented as lists or, in the multidimensianal setting, lists of lists of lists ..., have the advantage of being __inhomogenous__. However, when compared to arrays in other languages (which are commonly homogenous), they are not very efficient for __random access__. \n",
    "\n",
    "The following diagram shows a one dimensional array and the equivalent one dimensional list. Because an array is __contiguous__ in memory, (no gaps in between successive data elements) it is possible to access the data very quickly using simple arithmetic. However, in a list, to get to value 17, you would have to start at 23 and march forward 2 places visiting 3 on the way. As the list grows, this repeated starting at the beginning and moving on becomes very expensive. \n",
    "\n",
    "Python does come with an array type, but it is not particularly easy to use and is not well optimized for some of the more common array like operations.\n"
   ]
  },
  {
   "cell_type": "code",
   "execution_count": null,
   "id": "b21d5d73",
   "metadata": {},
   "outputs": [],
   "source": []
  },
  {
   "cell_type": "markdown",
   "id": "7f08cf7f",
   "metadata": {},
   "source": [
    "__array__\n",
    "![arrays vs lists](figs/array-list.png)\n",
    "__list__\n",
    "\n",
    "\n",
    "\n",
    "[source](https://dzone.com/storage/temp/895349-arraylist-linkedlistt.png)"
   ]
  },
  {
   "cell_type": "markdown",
   "id": "35f983cb",
   "metadata": {},
   "source": [
    "## NumPy arrays"
   ]
  },
  {
   "cell_type": "markdown",
   "id": "aada2f55",
   "metadata": {},
   "source": [
    "Installing numpy."
   ]
  },
  {
   "cell_type": "code",
   "execution_count": 6,
   "id": "b1155384",
   "metadata": {},
   "outputs": [
    {
     "name": "stdout",
     "output_type": "stream",
     "text": [
      "Requirement already satisfied: numpy in /home/grosedj/python-envs/M550/env/lib/python3.10/site-packages (1.21.2)\n",
      "\u001b[33mWARNING: You are using pip version 21.2.3; however, version 21.3.1 is available.\n",
      "You should consider upgrading via the '/home/grosedj/python-envs/M550/env/bin/python -m pip install --upgrade pip' command.\u001b[0m\n"
     ]
    }
   ],
   "source": [
    "! python -m pip install numpy"
   ]
  },
  {
   "cell_type": "markdown",
   "id": "ec639860",
   "metadata": {},
   "source": [
    "Importing the numpy package (note the use of an the \"alias\" __np__)."
   ]
  },
  {
   "cell_type": "code",
   "execution_count": 7,
   "id": "ccbf3bf2",
   "metadata": {},
   "outputs": [],
   "source": [
    "import numpy as np"
   ]
  },
  {
   "cell_type": "markdown",
   "id": "a23dfe4c",
   "metadata": {},
   "source": [
    "### <u>Exercise 1</u>\n",
    "\n",
    "Install and import the __numpy__ package."
   ]
  },
  {
   "cell_type": "markdown",
   "id": "d876519f",
   "metadata": {},
   "source": [
    "## Why NumPy Instead Of Python Lists?"
   ]
  },
  {
   "cell_type": "markdown",
   "id": "8816d5ef",
   "metadata": {},
   "source": [
    "In general, there seem to be four possible reasons to prefer NumPy arrays over lists in Python:\n",
    "- NumPy arrays are more compact than lists.\n",
    "- access in reading and writing items is faster with NumPy.\n",
    "- NumPy can be more convenient to work with, thanks to the fact that you get a lot of vector and matrix operations for free\n",
    "- NumPy can be more efficient to work with because they are implemented more efficiently."
   ]
  },
  {
   "cell_type": "markdown",
   "id": "3e0a5b53",
   "metadata": {},
   "source": [
    "## Creating and acessing NumPy arrays"
   ]
  },
  {
   "cell_type": "markdown",
   "id": "64a44210",
   "metadata": {},
   "source": [
    "### <u>Example 2 - creating NumPy array from a list</u>"
   ]
  },
  {
   "cell_type": "code",
   "execution_count": 127,
   "id": "594d28f0",
   "metadata": {},
   "outputs": [
    {
     "name": "stdout",
     "output_type": "stream",
     "text": [
      "[[1 2 3]\n",
      " [4 5 6]]\n"
     ]
    }
   ],
   "source": [
    "X = np.array([[1,2,3],[4,5,6]])\n",
    "print(X)"
   ]
  },
  {
   "cell_type": "markdown",
   "id": "ba90e03b",
   "metadata": {},
   "source": [
    "### <u>Exercise 2 - indexing tnto a NumPy array</u>\n",
    "\n",
    "What do you think the output of the following code will be ?\n"
   ]
  },
  {
   "cell_type": "code",
   "execution_count": 128,
   "id": "59ec9088",
   "metadata": {
    "tags": [
     "hide-input"
    ]
   },
   "outputs": [
    {
     "name": "stdout",
     "output_type": "stream",
     "text": [
      "4\n",
      "[4 5 6]\n",
      "4\n",
      "[[ 1  2 10]\n",
      " [ 4  5  6]]\n"
     ]
    }
   ],
   "source": [
    "print(X[1,0])\n",
    "print(X[1])\n",
    "print(X[1][0])\n",
    "X[0,2] = 10\n",
    "print(X)"
   ]
  },
  {
   "cell_type": "markdown",
   "id": "0f22d8f2",
   "metadata": {},
   "source": [
    "### <u>Exercise 3</u>\n",
    "\n",
    "Use __help__ function to find out about the following functions that can be used for initialising __NumPy__ arrays.\n",
    "\n",
    "- __ones__\n",
    "- __zeros__\n",
    "- __empty__\n",
    "\n"
   ]
  },
  {
   "cell_type": "code",
   "execution_count": 34,
   "id": "ccff301b",
   "metadata": {
    "tags": [
     "hide-input",
     "hide-output"
    ]
   },
   "outputs": [
    {
     "name": "stdout",
     "output_type": "stream",
     "text": [
      "Help on built-in function empty in module numpy:\n",
      "\n",
      "empty(...)\n",
      "    empty(shape, dtype=float, order='C', *, like=None)\n",
      "    \n",
      "    Return a new array of given shape and type, without initializing entries.\n",
      "    \n",
      "    Parameters\n",
      "    ----------\n",
      "    shape : int or tuple of int\n",
      "        Shape of the empty array, e.g., ``(2, 3)`` or ``2``.\n",
      "    dtype : data-type, optional\n",
      "        Desired output data-type for the array, e.g, `numpy.int8`. Default is\n",
      "        `numpy.float64`.\n",
      "    order : {'C', 'F'}, optional, default: 'C'\n",
      "        Whether to store multi-dimensional data in row-major\n",
      "        (C-style) or column-major (Fortran-style) order in\n",
      "        memory.\n",
      "    like : array_like\n",
      "        Reference object to allow the creation of arrays which are not\n",
      "        NumPy arrays. If an array-like passed in as ``like`` supports\n",
      "        the ``__array_function__`` protocol, the result will be defined\n",
      "        by it. In this case, it ensures the creation of an array object\n",
      "        compatible with that passed in via this argument.\n",
      "    \n",
      "        .. versionadded:: 1.20.0\n",
      "    \n",
      "    Returns\n",
      "    -------\n",
      "    out : ndarray\n",
      "        Array of uninitialized (arbitrary) data of the given shape, dtype, and\n",
      "        order.  Object arrays will be initialized to None.\n",
      "    \n",
      "    See Also\n",
      "    --------\n",
      "    empty_like : Return an empty array with shape and type of input.\n",
      "    ones : Return a new array setting values to one.\n",
      "    zeros : Return a new array setting values to zero.\n",
      "    full : Return a new array of given shape filled with value.\n",
      "    \n",
      "    \n",
      "    Notes\n",
      "    -----\n",
      "    `empty`, unlike `zeros`, does not set the array values to zero,\n",
      "    and may therefore be marginally faster.  On the other hand, it requires\n",
      "    the user to manually set all the values in the array, and should be\n",
      "    used with caution.\n",
      "    \n",
      "    Examples\n",
      "    --------\n",
      "    >>> np.empty([2, 2])\n",
      "    array([[ -9.74499359e+001,   6.69583040e-309],\n",
      "           [  2.13182611e-314,   3.06959433e-309]])         #uninitialized\n",
      "    \n",
      "    >>> np.empty([2, 2], dtype=int)\n",
      "    array([[-1073741821, -1067949133],\n",
      "           [  496041986,    19249760]])                     #uninitialized\n",
      "\n"
     ]
    }
   ],
   "source": [
    "help(np.empty)"
   ]
  },
  {
   "cell_type": "markdown",
   "id": "37a7289b",
   "metadata": {},
   "source": [
    "### <u>Exercise 4 - creating a NumPy array from scratch</u>\n",
    "\n",
    "Create a three dimensional numpy array with dimension 3,5,2 that contains floating point numbers. What do the contents look like ? How does this compare with using __zeros__ ? How you create the same array but for use with integer values ?"
   ]
  },
  {
   "cell_type": "code",
   "execution_count": 43,
   "id": "847f25f9",
   "metadata": {
    "tags": [
     "hide-input",
     "hide-output"
    ]
   },
   "outputs": [
    {
     "name": "stdout",
     "output_type": "stream",
     "text": [
      "[[4.64240782e-310 0.00000000e+000]\n",
      " [0.00000000e+000 0.00000000e+000]\n",
      " [6.94720202e-310 5.02034658e+175]\n",
      " [1.39493227e+165 6.59009028e-066]\n",
      " [6.44941158e-067 1.71730086e+185]]\n",
      "[[     93963382189312                   0]\n",
      " [                  0                   0]\n",
      " [1821345658565558272 7235419174270214779]\n",
      " [3919930717926079010 7363447183357796659]\n",
      " [7221912571268642100 3991932207196550456]]\n"
     ]
    }
   ],
   "source": [
    "X = np.empty((3,5,2))\n",
    "print(X[0])\n",
    "X = np.empty((3,5,2),dtype=\"int\")\n",
    "print(X[0])"
   ]
  },
  {
   "cell_type": "markdown",
   "id": "d6842b8f",
   "metadata": {},
   "source": [
    "__NumPy__ has many more basic types of data than base python. They typically map to the basic C types that they are built on."
   ]
  },
  {
   "cell_type": "markdown",
   "id": "4620b78d",
   "metadata": {},
   "source": [
    "<table class=\"table\">\n",
    "<colgroup>\n",
    "<col style=\"width: 33%\">\n",
    "<col style=\"width: 33%\">\n",
    "<col style=\"width: 33%\">\n",
    "</colgroup>\n",
    "<thead>\n",
    "<tr class=\"row-odd\"><th class=\"head\"><p>Numpy type</p></th>\n",
    "<th class=\"head\"><p>C type</p></th>\n",
    "<th class=\"head\"><p>Description</p></th>\n",
    "</tr>\n",
    "</thead>\n",
    "<tbody>\n",
    "<tr class=\"row-even\"><td><p><a class=\"reference internal\" href=\"../reference/arrays.scalars.html#numpy.bool_\" title=\"numpy.bool_\"><code class=\"xref py py-obj docutils literal notranslate\"><span class=\"pre\">numpy.bool_</span></code></a></p></td>\n",
    "<td><p><code class=\"docutils literal notranslate\"><span class=\"pre\">bool</span></code></p></td>\n",
    "<td><p>Boolean (True or False) stored as a byte</p></td>\n",
    "</tr>\n",
    "<tr class=\"row-odd\"><td><p><a class=\"reference internal\" href=\"../reference/arrays.scalars.html#numpy.byte\" title=\"numpy.byte\"><code class=\"xref py py-obj docutils literal notranslate\"><span class=\"pre\">numpy.byte</span></code></a></p></td>\n",
    "<td><p><code class=\"docutils literal notranslate\"><span class=\"pre\">signed</span> <span class=\"pre\">char</span></code></p></td>\n",
    "<td><p>Platform-defined</p></td>\n",
    "</tr>\n",
    "<tr class=\"row-even\"><td><p><a class=\"reference internal\" href=\"../reference/arrays.scalars.html#numpy.ubyte\" title=\"numpy.ubyte\"><code class=\"xref py py-obj docutils literal notranslate\"><span class=\"pre\">numpy.ubyte</span></code></a></p></td>\n",
    "<td><p><code class=\"docutils literal notranslate\"><span class=\"pre\">unsigned</span> <span class=\"pre\">char</span></code></p></td>\n",
    "<td><p>Platform-defined</p></td>\n",
    "</tr>\n",
    "<tr class=\"row-odd\"><td><p><a class=\"reference internal\" href=\"../reference/arrays.scalars.html#numpy.short\" title=\"numpy.short\"><code class=\"xref py py-obj docutils literal notranslate\"><span class=\"pre\">numpy.short</span></code></a></p></td>\n",
    "<td><p><code class=\"docutils literal notranslate\"><span class=\"pre\">short</span></code></p></td>\n",
    "<td><p>Platform-defined</p></td>\n",
    "</tr>\n",
    "<tr class=\"row-even\"><td><p><a class=\"reference internal\" href=\"../reference/arrays.scalars.html#numpy.ushort\" title=\"numpy.ushort\"><code class=\"xref py py-obj docutils literal notranslate\"><span class=\"pre\">numpy.ushort</span></code></a></p></td>\n",
    "<td><p><code class=\"docutils literal notranslate\"><span class=\"pre\">unsigned</span> <span class=\"pre\">short</span></code></p></td>\n",
    "<td><p>Platform-defined</p></td>\n",
    "</tr>\n",
    "<tr class=\"row-odd\"><td><p><a class=\"reference internal\" href=\"../reference/arrays.scalars.html#numpy.intc\" title=\"numpy.intc\"><code class=\"xref py py-obj docutils literal notranslate\"><span class=\"pre\">numpy.intc</span></code></a></p></td>\n",
    "<td><p><code class=\"docutils literal notranslate\"><span class=\"pre\">int</span></code></p></td>\n",
    "<td><p>Platform-defined</p></td>\n",
    "</tr>\n",
    "<tr class=\"row-even\"><td><p><a class=\"reference internal\" href=\"../reference/arrays.scalars.html#numpy.uintc\" title=\"numpy.uintc\"><code class=\"xref py py-obj docutils literal notranslate\"><span class=\"pre\">numpy.uintc</span></code></a></p></td>\n",
    "<td><p><code class=\"docutils literal notranslate\"><span class=\"pre\">unsigned</span> <span class=\"pre\">int</span></code></p></td>\n",
    "<td><p>Platform-defined</p></td>\n",
    "</tr>\n",
    "<tr class=\"row-odd\"><td><p><a class=\"reference internal\" href=\"../reference/arrays.scalars.html#numpy.int_\" title=\"numpy.int_\"><code class=\"xref py py-obj docutils literal notranslate\"><span class=\"pre\">numpy.int_</span></code></a></p></td>\n",
    "<td><p><code class=\"docutils literal notranslate\"><span class=\"pre\">long</span></code></p></td>\n",
    "<td><p>Platform-defined</p></td>\n",
    "</tr>\n",
    "<tr class=\"row-even\"><td><p><a class=\"reference internal\" href=\"../reference/arrays.scalars.html#numpy.uint\" title=\"numpy.uint\"><code class=\"xref py py-obj docutils literal notranslate\"><span class=\"pre\">numpy.uint</span></code></a></p></td>\n",
    "<td><p><code class=\"docutils literal notranslate\"><span class=\"pre\">unsigned</span> <span class=\"pre\">long</span></code></p></td>\n",
    "<td><p>Platform-defined</p></td>\n",
    "</tr>\n",
    "<tr class=\"row-odd\"><td><p><a class=\"reference internal\" href=\"../reference/arrays.scalars.html#numpy.longlong\" title=\"numpy.longlong\"><code class=\"xref py py-obj docutils literal notranslate\"><span class=\"pre\">numpy.longlong</span></code></a></p></td>\n",
    "<td><p><code class=\"docutils literal notranslate\"><span class=\"pre\">long</span> <span class=\"pre\">long</span></code></p></td>\n",
    "<td><p>Platform-defined</p></td>\n",
    "</tr>\n",
    "<tr class=\"row-even\"><td><p><a class=\"reference internal\" href=\"../reference/arrays.scalars.html#numpy.ulonglong\" title=\"numpy.ulonglong\"><code class=\"xref py py-obj docutils literal notranslate\"><span class=\"pre\">numpy.ulonglong</span></code></a></p></td>\n",
    "<td><p><code class=\"docutils literal notranslate\"><span class=\"pre\">unsigned</span> <span class=\"pre\">long</span> <span class=\"pre\">long</span></code></p></td>\n",
    "<td><p>Platform-defined</p></td>\n",
    "</tr>\n",
    "<tr class=\"row-odd\"><td><p><a class=\"reference internal\" href=\"../reference/arrays.scalars.html#numpy.half\" title=\"numpy.half\"><code class=\"xref py py-obj docutils literal notranslate\"><span class=\"pre\">numpy.half</span></code></a> / <a class=\"reference internal\" href=\"../reference/arrays.scalars.html#numpy.float16\" title=\"numpy.float16\"><code class=\"xref py py-obj docutils literal notranslate\"><span class=\"pre\">numpy.float16</span></code></a></p></td>\n",
    "<td></td>\n",
    "<td><p>Half precision float:\n",
    "sign bit, 5 bits exponent, 10 bits mantissa</p></td>\n",
    "</tr>\n",
    "<tr class=\"row-even\"><td><p><a class=\"reference internal\" href=\"../reference/arrays.scalars.html#numpy.single\" title=\"numpy.single\"><code class=\"xref py py-obj docutils literal notranslate\"><span class=\"pre\">numpy.single</span></code></a></p></td>\n",
    "<td><p><code class=\"docutils literal notranslate\"><span class=\"pre\">float</span></code></p></td>\n",
    "<td><p>Platform-defined single precision float:\n",
    "typically sign bit, 8 bits exponent, 23 bits mantissa</p></td>\n",
    "</tr>\n",
    "<tr class=\"row-odd\"><td><p><a class=\"reference internal\" href=\"../reference/arrays.scalars.html#numpy.double\" title=\"numpy.double\"><code class=\"xref py py-obj docutils literal notranslate\"><span class=\"pre\">numpy.double</span></code></a></p></td>\n",
    "<td><p><code class=\"docutils literal notranslate\"><span class=\"pre\">double</span></code></p></td>\n",
    "<td><p>Platform-defined double precision float:\n",
    "typically sign bit, 11 bits exponent, 52 bits mantissa.</p></td>\n",
    "</tr>\n",
    "<tr class=\"row-even\"><td><p><a class=\"reference internal\" href=\"../reference/arrays.scalars.html#numpy.longdouble\" title=\"numpy.longdouble\"><code class=\"xref py py-obj docutils literal notranslate\"><span class=\"pre\">numpy.longdouble</span></code></a></p></td>\n",
    "<td><p><code class=\"docutils literal notranslate\"><span class=\"pre\">long</span> <span class=\"pre\">double</span></code></p></td>\n",
    "<td><p>Platform-defined extended-precision float</p></td>\n",
    "</tr>\n",
    "<tr class=\"row-odd\"><td><p><a class=\"reference internal\" href=\"../reference/arrays.scalars.html#numpy.csingle\" title=\"numpy.csingle\"><code class=\"xref py py-obj docutils literal notranslate\"><span class=\"pre\">numpy.csingle</span></code></a></p></td>\n",
    "<td><p><code class=\"docutils literal notranslate\"><span class=\"pre\">float</span> <span class=\"pre\">complex</span></code></p></td>\n",
    "<td><p>Complex number, represented by two single-precision floats (real and imaginary components)</p></td>\n",
    "</tr>\n",
    "<tr class=\"row-even\"><td><p><a class=\"reference internal\" href=\"../reference/arrays.scalars.html#numpy.cdouble\" title=\"numpy.cdouble\"><code class=\"xref py py-obj docutils literal notranslate\"><span class=\"pre\">numpy.cdouble</span></code></a></p></td>\n",
    "<td><p><code class=\"docutils literal notranslate\"><span class=\"pre\">double</span> <span class=\"pre\">complex</span></code></p></td>\n",
    "<td><p>Complex number, represented by two double-precision floats (real and imaginary components).</p></td>\n",
    "</tr>\n",
    "<tr class=\"row-odd\"><td><p><a class=\"reference internal\" href=\"../reference/arrays.scalars.html#numpy.clongdouble\" title=\"numpy.clongdouble\"><code class=\"xref py py-obj docutils literal notranslate\"><span class=\"pre\">numpy.clongdouble</span></code></a></p></td>\n",
    "<td><p><code class=\"docutils literal notranslate\"><span class=\"pre\">long</span> <span class=\"pre\">double</span> <span class=\"pre\">complex</span></code></p></td>\n",
    "<td><p>Complex number, represented by two extended-precision floats (real and imaginary components).</p></td>\n",
    "</tr>\n",
    "</tbody>\n",
    "</table>"
   ]
  },
  {
   "cell_type": "markdown",
   "id": "efbe5112",
   "metadata": {},
   "source": [
    "## Slicing and accessing subarrays"
   ]
  },
  {
   "cell_type": "markdown",
   "id": "6bf4934b",
   "metadata": {},
   "source": [
    "Subarrays can be access using the format [start:stop:step]. "
   ]
  },
  {
   "cell_type": "markdown",
   "id": "b3d72027",
   "metadata": {},
   "source": [
    "### <u>Example 3 - slicing</u>"
   ]
  },
  {
   "cell_type": "code",
   "execution_count": 129,
   "id": "8624c3c2",
   "metadata": {},
   "outputs": [
    {
     "name": "stdout",
     "output_type": "stream",
     "text": [
      "[[1 2 3 4]\n",
      " [5 6 7 8]]\n"
     ]
    }
   ],
   "source": [
    "X = np.array([[1,2,3,4],[5,6,7,8],[9,10,11,12],[13,14,15,16]])\n",
    "print(X[0:2:1])"
   ]
  },
  {
   "cell_type": "markdown",
   "id": "16dca680",
   "metadata": {},
   "source": [
    "### <u>Exercise 5</u>\n",
    "\n",
    "Predict the output of the following code."
   ]
  },
  {
   "cell_type": "code",
   "execution_count": 53,
   "id": "79885212",
   "metadata": {
    "tags": [
     "hide-output"
    ]
   },
   "outputs": [
    {
     "name": "stdout",
     "output_type": "stream",
     "text": [
      "[[ 1  2  3  4]\n",
      " [ 9 10 11 12]]\n"
     ]
    }
   ],
   "source": [
    "print(X[0:3:2])"
   ]
  },
  {
   "cell_type": "code",
   "execution_count": 57,
   "id": "88fa3180",
   "metadata": {
    "tags": [
     "hide-output"
    ]
   },
   "outputs": [
    {
     "name": "stdout",
     "output_type": "stream",
     "text": [
      "[[1 2 3 4]\n",
      " [5 6 7 8]]\n"
     ]
    }
   ],
   "source": [
    "print(X[0:3:1][:2:1])"
   ]
  },
  {
   "cell_type": "code",
   "execution_count": 58,
   "id": "98ad017f",
   "metadata": {
    "tags": [
     "hide-output"
    ]
   },
   "outputs": [
    {
     "name": "stdout",
     "output_type": "stream",
     "text": [
      "[[1 2 3 4]]\n"
     ]
    }
   ],
   "source": [
    "print(X[0:3:1][:2:2])"
   ]
  },
  {
   "cell_type": "code",
   "execution_count": 59,
   "id": "e65f5db6",
   "metadata": {
    "tags": [
     "hide-output"
    ]
   },
   "outputs": [
    {
     "name": "stdout",
     "output_type": "stream",
     "text": [
      "[[1 2 3 4]]\n"
     ]
    }
   ],
   "source": [
    "print(X[:3:][:2:2])"
   ]
  },
  {
   "cell_type": "code",
   "execution_count": 63,
   "id": "cffa1568",
   "metadata": {
    "tags": [
     "hide-output"
    ]
   },
   "outputs": [
    {
     "name": "stdout",
     "output_type": "stream",
     "text": [
      "[[1]\n",
      " [5]\n",
      " [9]]\n"
     ]
    }
   ],
   "source": [
    "print(X[:3:,:2:2])"
   ]
  },
  {
   "cell_type": "code",
   "execution_count": 62,
   "id": "74554c16",
   "metadata": {
    "tags": [
     "hide-output"
    ]
   },
   "outputs": [
    {
     "name": "stdout",
     "output_type": "stream",
     "text": [
      "[[ 1  3]\n",
      " [ 9 11]]\n"
     ]
    }
   ],
   "source": [
    "print(X[::2,::2])"
   ]
  },
  {
   "cell_type": "code",
   "execution_count": 69,
   "id": "3a4121b1",
   "metadata": {
    "tags": [
     "hide-output"
    ]
   },
   "outputs": [
    {
     "name": "stdout",
     "output_type": "stream",
     "text": [
      "[[ 6  7]\n",
      " [10 11]]\n"
     ]
    }
   ],
   "source": [
    "print(X[1:3:,1:3:])"
   ]
  },
  {
   "cell_type": "code",
   "execution_count": 74,
   "id": "45eb3bd8",
   "metadata": {
    "tags": [
     "hide-output"
    ]
   },
   "outputs": [
    {
     "name": "stdout",
     "output_type": "stream",
     "text": [
      "[ 2  6 10 14]\n"
     ]
    }
   ],
   "source": [
    "print(X[:,1])"
   ]
  },
  {
   "cell_type": "code",
   "execution_count": 75,
   "id": "48b51870",
   "metadata": {
    "tags": [
     "hide-output"
    ]
   },
   "outputs": [
    {
     "name": "stdout",
     "output_type": "stream",
     "text": [
      "[5 6 7 8]\n"
     ]
    }
   ],
   "source": [
    "print(X[1,:])"
   ]
  },
  {
   "cell_type": "code",
   "execution_count": 70,
   "id": "c0ebe905",
   "metadata": {
    "tags": [
     "hide-output"
    ]
   },
   "outputs": [
    {
     "name": "stdout",
     "output_type": "stream",
     "text": [
      "[[ 1  2  3  4]\n",
      " [ 5  6  7  8]\n",
      " [ 9 10 20 12]\n",
      " [13 14 15 16]]\n"
     ]
    }
   ],
   "source": [
    "Z = X[1:3:,1:3:]\n",
    "Z[1,1] = 20\n",
    "print(X)"
   ]
  },
  {
   "cell_type": "markdown",
   "id": "d12a7ae8",
   "metadata": {},
   "source": [
    "Note that in the last example, Z is <u>__NOT__</u> a copy of the data inside X, it is a \"__view__\" on the data contained in X.\n",
    "You can create a copy using __copy__."
   ]
  },
  {
   "cell_type": "markdown",
   "id": "165ff5cd",
   "metadata": {},
   "source": [
    "### <u>Example 4 - copying</u>"
   ]
  },
  {
   "cell_type": "code",
   "execution_count": 72,
   "id": "e7c1b314",
   "metadata": {},
   "outputs": [
    {
     "name": "stdout",
     "output_type": "stream",
     "text": [
      "[[ 1  2  3  4]\n",
      " [ 5  6  7  8]\n",
      " [ 9 10 20 12]\n",
      " [13 14 15 16]]\n",
      "[[ 6  7]\n",
      " [10 50]]\n"
     ]
    }
   ],
   "source": [
    "Z = X[1:3:,1:3:].copy()\n",
    "Z[1,1] = 50\n",
    "print(X)\n",
    "print(Z)"
   ]
  },
  {
   "cell_type": "markdown",
   "id": "89130f8d",
   "metadata": {},
   "source": [
    "### <u>Exercise 6</u>\n",
    "\n",
    "Use __help__ to find out how to use the NumPy __reshape__, __concatenate__, __vstack__, and __hstack__  functions."
   ]
  },
  {
   "cell_type": "code",
   "execution_count": 80,
   "id": "06194bd6",
   "metadata": {
    "tags": [
     "hide-input",
     "hide-output"
    ]
   },
   "outputs": [
    {
     "name": "stdout",
     "output_type": "stream",
     "text": [
      "Help on function concatenate in module numpy:\n",
      "\n",
      "concatenate(...)\n",
      "    concatenate((a1, a2, ...), axis=0, out=None, dtype=None, casting=\"same_kind\")\n",
      "    \n",
      "    Join a sequence of arrays along an existing axis.\n",
      "    \n",
      "    Parameters\n",
      "    ----------\n",
      "    a1, a2, ... : sequence of array_like\n",
      "        The arrays must have the same shape, except in the dimension\n",
      "        corresponding to `axis` (the first, by default).\n",
      "    axis : int, optional\n",
      "        The axis along which the arrays will be joined.  If axis is None,\n",
      "        arrays are flattened before use.  Default is 0.\n",
      "    out : ndarray, optional\n",
      "        If provided, the destination to place the result. The shape must be\n",
      "        correct, matching that of what concatenate would have returned if no\n",
      "        out argument were specified.\n",
      "    dtype : str or dtype\n",
      "        If provided, the destination array will have this dtype. Cannot be\n",
      "        provided together with `out`.\n",
      "    \n",
      "        .. versionadded:: 1.20.0\n",
      "    \n",
      "    casting : {'no', 'equiv', 'safe', 'same_kind', 'unsafe'}, optional\n",
      "        Controls what kind of data casting may occur. Defaults to 'same_kind'.\n",
      "    \n",
      "        .. versionadded:: 1.20.0\n",
      "    \n",
      "    Returns\n",
      "    -------\n",
      "    res : ndarray\n",
      "        The concatenated array.\n",
      "    \n",
      "    See Also\n",
      "    --------\n",
      "    ma.concatenate : Concatenate function that preserves input masks.\n",
      "    array_split : Split an array into multiple sub-arrays of equal or\n",
      "                  near-equal size.\n",
      "    split : Split array into a list of multiple sub-arrays of equal size.\n",
      "    hsplit : Split array into multiple sub-arrays horizontally (column wise).\n",
      "    vsplit : Split array into multiple sub-arrays vertically (row wise).\n",
      "    dsplit : Split array into multiple sub-arrays along the 3rd axis (depth).\n",
      "    stack : Stack a sequence of arrays along a new axis.\n",
      "    block : Assemble arrays from blocks.\n",
      "    hstack : Stack arrays in sequence horizontally (column wise).\n",
      "    vstack : Stack arrays in sequence vertically (row wise).\n",
      "    dstack : Stack arrays in sequence depth wise (along third dimension).\n",
      "    column_stack : Stack 1-D arrays as columns into a 2-D array.\n",
      "    \n",
      "    Notes\n",
      "    -----\n",
      "    When one or more of the arrays to be concatenated is a MaskedArray,\n",
      "    this function will return a MaskedArray object instead of an ndarray,\n",
      "    but the input masks are *not* preserved. In cases where a MaskedArray\n",
      "    is expected as input, use the ma.concatenate function from the masked\n",
      "    array module instead.\n",
      "    \n",
      "    Examples\n",
      "    --------\n",
      "    >>> a = np.array([[1, 2], [3, 4]])\n",
      "    >>> b = np.array([[5, 6]])\n",
      "    >>> np.concatenate((a, b), axis=0)\n",
      "    array([[1, 2],\n",
      "           [3, 4],\n",
      "           [5, 6]])\n",
      "    >>> np.concatenate((a, b.T), axis=1)\n",
      "    array([[1, 2, 5],\n",
      "           [3, 4, 6]])\n",
      "    >>> np.concatenate((a, b), axis=None)\n",
      "    array([1, 2, 3, 4, 5, 6])\n",
      "    \n",
      "    This function will not preserve masking of MaskedArray inputs.\n",
      "    \n",
      "    >>> a = np.ma.arange(3)\n",
      "    >>> a[1] = np.ma.masked\n",
      "    >>> b = np.arange(2, 5)\n",
      "    >>> a\n",
      "    masked_array(data=[0, --, 2],\n",
      "                 mask=[False,  True, False],\n",
      "           fill_value=999999)\n",
      "    >>> b\n",
      "    array([2, 3, 4])\n",
      "    >>> np.concatenate([a, b])\n",
      "    masked_array(data=[0, 1, 2, 2, 3, 4],\n",
      "                 mask=False,\n",
      "           fill_value=999999)\n",
      "    >>> np.ma.concatenate([a, b])\n",
      "    masked_array(data=[0, --, 2, 2, 3, 4],\n",
      "                 mask=[False,  True, False, False, False, False],\n",
      "           fill_value=999999)\n",
      "\n"
     ]
    }
   ],
   "source": [
    "help(np.concatenate)"
   ]
  },
  {
   "cell_type": "code",
   "execution_count": null,
   "id": "052433fc",
   "metadata": {},
   "outputs": [],
   "source": [
    "The shape of a NumPy array can be found quite easily."
   ]
  },
  {
   "cell_type": "code",
   "execution_count": 102,
   "id": "3f7521b4",
   "metadata": {},
   "outputs": [
    {
     "name": "stdout",
     "output_type": "stream",
     "text": [
      "(4, 4)\n"
     ]
    }
   ],
   "source": [
    "print(X.shape)"
   ]
  },
  {
   "cell_type": "markdown",
   "id": "66fa5f28",
   "metadata": {},
   "source": [
    "## Random numbers."
   ]
  },
  {
   "cell_type": "markdown",
   "id": "8065592a",
   "metadata": {},
   "source": [
    "The NumPy library is more than an array library. For example, it offers random number generation."
   ]
  },
  {
   "cell_type": "markdown",
   "id": "c8df075e",
   "metadata": {},
   "source": [
    "### <u>Example 5 - uniform random numbers</u>"
   ]
  },
  {
   "cell_type": "code",
   "execution_count": 82,
   "id": "b0dff0bc",
   "metadata": {},
   "outputs": [
    {
     "data": {
      "text/plain": [
       "array([[0.3150833 , 0.33404232],\n",
       "       [0.44625496, 0.54454593],\n",
       "       [0.56114458, 0.14973511]])"
      ]
     },
     "execution_count": 82,
     "metadata": {},
     "output_type": "execute_result"
    }
   ],
   "source": [
    "np.random.rand(3,2)"
   ]
  },
  {
   "cell_type": "markdown",
   "id": "d172f0a4",
   "metadata": {},
   "source": [
    "### <u>Exercise 7</u>\n",
    "\n",
    "Use __help(np.random))__ to find out about random number generation in NumPy. Generate large matrices of random numbers from some of these distributions."
   ]
  },
  {
   "cell_type": "code",
   "execution_count": 85,
   "id": "64fce176",
   "metadata": {
    "tags": [
     "hide-input",
     "hide-output"
    ]
   },
   "outputs": [
    {
     "name": "stdout",
     "output_type": "stream",
     "text": [
      "Help on built-in function rand:\n",
      "\n",
      "rand(...) method of numpy.random.mtrand.RandomState instance\n",
      "    rand(d0, d1, ..., dn)\n",
      "    \n",
      "    Random values in a given shape.\n",
      "    \n",
      "    .. note::\n",
      "        This is a convenience function for users porting code from Matlab,\n",
      "        and wraps `random_sample`. That function takes a\n",
      "        tuple to specify the size of the output, which is consistent with\n",
      "        other NumPy functions like `numpy.zeros` and `numpy.ones`.\n",
      "    \n",
      "    Create an array of the given shape and populate it with\n",
      "    random samples from a uniform distribution\n",
      "    over ``[0, 1)``.\n",
      "    \n",
      "    Parameters\n",
      "    ----------\n",
      "    d0, d1, ..., dn : int, optional\n",
      "        The dimensions of the returned array, must be non-negative.\n",
      "        If no argument is given a single Python float is returned.\n",
      "    \n",
      "    Returns\n",
      "    -------\n",
      "    out : ndarray, shape ``(d0, d1, ..., dn)``\n",
      "        Random values.\n",
      "    \n",
      "    See Also\n",
      "    --------\n",
      "    random\n",
      "    \n",
      "    Examples\n",
      "    --------\n",
      "    >>> np.random.rand(3,2)\n",
      "    array([[ 0.14022471,  0.96360618],  #random\n",
      "           [ 0.37601032,  0.25528411],  #random\n",
      "           [ 0.49313049,  0.94909878]]) #random\n",
      "\n"
     ]
    }
   ],
   "source": [
    "help(np.random.rand)"
   ]
  },
  {
   "cell_type": "code",
   "execution_count": 107,
   "id": "4cd48acf",
   "metadata": {
    "tags": [
     "hide-input",
     "hide-output"
    ]
   },
   "outputs": [
    {
     "name": "stdout",
     "output_type": "stream",
     "text": [
      "[[0.93725918 0.06203331 0.83580012 0.03160988 0.7798329  0.30640705\n",
      "  0.7414987  0.99160143 0.14266476]\n",
      " [0.95206452 0.14178445 0.09118578 0.17457443 0.76104316 0.28949847\n",
      "  0.29942323 0.07608373 0.05289887]\n",
      " [0.25530272 0.66924424 0.28340527 0.71735581 0.30488826 0.30623068\n",
      "  0.47408782 0.70436219 0.58647558]\n",
      " [0.26812957 0.87237088 0.51070945 0.53435651 0.73995196 0.75998788\n",
      "  0.58319684 0.65992788 0.70158033]\n",
      " [0.24103802 0.19956387 0.74662767 0.84646724 0.12328907 0.26932249\n",
      "  0.38748918 0.72313705 0.40867608]\n",
      " [0.63366512 0.05276984 0.1132461  0.08810961 0.320329   0.31010316\n",
      "  0.64176265 0.22798977 0.95000039]\n",
      " [0.45652143 0.00195218 0.2580788  0.87617122 0.41812466 0.96003646\n",
      "  0.85651487 0.51288647 0.98163307]\n",
      " [0.7487736  0.90593057 0.34325887 0.79687955 0.57725936 0.76379036\n",
      "  0.73959716 0.75815155 0.50633209]\n",
      " [0.60686795 0.98670865 0.01420011 0.23918258 0.77386063 0.12878113\n",
      "  0.37959095 0.14720258 0.7509649 ]]\n"
     ]
    }
   ],
   "source": [
    "X = np.random.rand(1000,1000)\n",
    "print(X[1:10,1:10])"
   ]
  },
  {
   "cell_type": "markdown",
   "id": "5bf9c4cb",
   "metadata": {},
   "source": [
    "### <u>Exercise 8</u>\n",
    "\n",
    "Write a function that calculates the sine of each value one of the large matrices you generated for excercise 7."
   ]
  },
  {
   "cell_type": "code",
   "execution_count": 108,
   "id": "41c72f41",
   "metadata": {
    "tags": [
     "hide-input",
     "hide-output"
    ]
   },
   "outputs": [
    {
     "name": "stdout",
     "output_type": "stream",
     "text": [
      "[[0.80593856 0.06199353 0.7418333  0.03160461 0.70316061 0.30163499\n",
      "  0.6753939  0.8369036  0.14218131]\n",
      " [0.81461467 0.14130988 0.09105946 0.17368905 0.68967719 0.2854716\n",
      "  0.29496915 0.07601035 0.0528742 ]\n",
      " [0.25253833 0.62039343 0.27962669 0.65739445 0.30018659 0.30146683\n",
      "  0.45652706 0.64754793 0.55342899]\n",
      " [0.26492831 0.76585559 0.48879629 0.50928736 0.67425243 0.68891266\n",
      "  0.55069517 0.61305988 0.64542558]\n",
      " [0.23871077 0.19824188 0.67916739 0.74894416 0.12297697 0.26607841\n",
      "  0.37786494 0.66173988 0.39739478]\n",
      " [0.59210231 0.05274536 0.1130042  0.08799565 0.31487884 0.30515688\n",
      "  0.59860833 0.22601977 0.81341573]\n",
      " [0.44082845 0.00195218 0.25522345 0.76829373 0.40604739 0.81921248\n",
      "  0.75556414 0.49069436 0.83140592]\n",
      " [0.6807409  0.78699961 0.33655763 0.71517857 0.54572944 0.69166388\n",
      "  0.67399037 0.68758045 0.48497282]\n",
      " [0.57029747 0.83421552 0.01419964 0.23690855 0.69890163 0.12842546\n",
      "  0.37054057 0.14667154 0.68234445]]\n"
     ]
    }
   ],
   "source": [
    "from math import sin\n",
    "def matsin(X) :\n",
    "    (n,m) = X.shape\n",
    "    Y = np.empty((n,m))\n",
    "    for i in range(n) :\n",
    "        for j in range(m) :\n",
    "            Y[i,j] = sin(X[i,j])\n",
    "    return(Y)\n",
    "\n",
    "Y = matsin(X)\n",
    "print(Y[1:10,1:10])"
   ]
  },
  {
   "cell_type": "code",
   "execution_count": null,
   "id": "ff1a7e66",
   "metadata": {},
   "outputs": [],
   "source": [
    "It is possibe to measure how long code takes to run using %timeit."
   ]
  },
  {
   "cell_type": "markdown",
   "id": "198e3ea3",
   "metadata": {},
   "source": [
    "### <u>Example 6 - %timeit</u>"
   ]
  },
  {
   "cell_type": "code",
   "execution_count": 112,
   "id": "87f15363",
   "metadata": {},
   "outputs": [
    {
     "name": "stdout",
     "output_type": "stream",
     "text": [
      "250 ms ± 6.47 ms per loop (mean ± std. dev. of 7 runs, 1 loop each)\n"
     ]
    }
   ],
   "source": [
    "%timeit matsin(X)"
   ]
  },
  {
   "cell_type": "markdown",
   "id": "2aa82234",
   "metadata": {},
   "source": [
    "## NumPy UFuncs"
   ]
  },
  {
   "cell_type": "markdown",
   "id": "2d01c52e",
   "metadata": {},
   "source": [
    "NumPy’s ufuncs can be used to make repeated calculations on array elements much more efficient. ufuncs apply use vectorization to undertake large numbers of operations using fast compiled C code without having to call the underlying C functions repeatedly. This can make things much faster."
   ]
  },
  {
   "cell_type": "markdown",
   "id": "c10cae09",
   "metadata": {},
   "source": [
    "### <u>Exercise 9</u>\n",
    "\n",
    "Use %timeit to find out how long the following python code takes to run. Compare it to the reuslts you obtained from exercise 8. "
   ]
  },
  {
   "cell_type": "code",
   "execution_count": 113,
   "id": "97c6c29f",
   "metadata": {},
   "outputs": [
    {
     "name": "stdout",
     "output_type": "stream",
     "text": [
      "8.88 ms ± 112 µs per loop (mean ± std. dev. of 7 runs, 100 loops each)\n"
     ]
    }
   ],
   "source": [
    "%timeit Y = np.sin(X)"
   ]
  },
  {
   "cell_type": "markdown",
   "id": "b23c623f",
   "metadata": {},
   "source": [
    "There are lots of ufuncs in NumPy. They include various operators for example. \n"
   ]
  },
  {
   "cell_type": "markdown",
   "id": "dba3d18f",
   "metadata": {},
   "source": [
    "\n",
    "### <u>Example 7</u>"
   ]
  },
  {
   "cell_type": "code",
   "execution_count": 117,
   "id": "617d9841",
   "metadata": {},
   "outputs": [],
   "source": [
    "Y = X + X\n",
    "Y = 2*X\n",
    "Y = X*X\n"
   ]
  },
  {
   "cell_type": "markdown",
   "id": "2439354c",
   "metadata": {},
   "source": [
    "Note that the * is <u>__NOT__</u> matrix multiplication. For this you have to use the __matmul__ function. "
   ]
  }
 ],
 "metadata": {
  "celltoolbar": "Edit Metadata",
  "kernelspec": {
   "display_name": "Python 3 (ipykernel)",
   "language": "python",
   "name": "python3"
  },
  "language_info": {
   "codemirror_mode": {
    "name": "ipython",
    "version": 3
   },
   "file_extension": ".py",
   "mimetype": "text/x-python",
   "name": "python",
   "nbconvert_exporter": "python",
   "pygments_lexer": "ipython3",
   "version": "3.9.9"
  }
 },
 "nbformat": 4,
 "nbformat_minor": 5
}
