{
 "cells": [
  {
   "cell_type": "code",
   "execution_count": null,
   "id": "1daf978f-9bd4-4d42-aa71-72a1f6053dd8",
   "metadata": {},
   "outputs": [],
   "source": []
  },
  {
   "cell_type": "code",
   "execution_count": null,
   "id": "16e977dc-c935-4801-be39-8d59cbe6291e",
   "metadata": {},
   "outputs": [],
   "source": []
  },
  {
   "cell_type": "code",
   "execution_count": null,
   "id": "228025bb-b4fb-4be3-87c1-25e994870f36",
   "metadata": {},
   "outputs": [],
   "source": []
  },
  {
   "cell_type": "code",
   "execution_count": 8,
   "id": "9b460383-66d4-4ddf-8d6e-179bf497ef09",
   "metadata": {},
   "outputs": [],
   "source": [
    "def classA(x) :\n",
    "    data = 3.14\n",
    "    def method1(y) :\n",
    "        nonlocal data\n",
    "        return _data + x + y\n",
    "    return closure\n",
    "\n"
   ]
  },
  {
   "cell_type": "code",
   "execution_count": 9,
   "id": "ed7ccd2e-13d1-4b2d-9e92-fc5d02bdc408",
   "metadata": {},
   "outputs": [
    {
     "data": {
      "text/plain": [
       "15.14"
      ]
     },
     "execution_count": 9,
     "metadata": {},
     "output_type": "execute_result"
    }
   ],
   "source": [
    "A1 = _class(5)\n",
    "A1(7)"
   ]
  },
  {
   "cell_type": "code",
   "execution_count": 11,
   "id": "6327b58f-541a-421f-87b8-fb5d3fca6829",
   "metadata": {},
   "outputs": [
    {
     "data": {
      "text/plain": [
       "function"
      ]
     },
     "execution_count": 11,
     "metadata": {},
     "output_type": "execute_result"
    }
   ],
   "source": [
    "type(A1)"
   ]
  },
  {
   "cell_type": "code",
   "execution_count": 5,
   "id": "07b513c9-a5f3-46d6-995b-f3d8c5b84bc4",
   "metadata": {},
   "outputs": [],
   "source": [
    "def classB() :\n",
    "    call_log = []\n",
    "    def log(x) :\n",
    "        nonlocal call_log\n",
    "        call_log.append(x)\n",
    "    def report() :\n",
    "        nonlocal call_log\n",
    "        return call_log\n",
    "    return log,report\n",
    "    \n",
    "    "
   ]
  },
  {
   "cell_type": "code",
   "execution_count": 6,
   "id": "39bca3ae-5975-42bd-8880-9e6f61a68690",
   "metadata": {},
   "outputs": [],
   "source": [
    "B1_log,B1_report = classB()"
   ]
  },
  {
   "cell_type": "code",
   "execution_count": 7,
   "id": "8981d052-6ea9-4fcd-b8fe-7732b50042a9",
   "metadata": {},
   "outputs": [
    {
     "data": {
      "text/plain": [
       "[3, 'hello']"
      ]
     },
     "execution_count": 7,
     "metadata": {},
     "output_type": "execute_result"
    }
   ],
   "source": [
    "B1_log(3)\n",
    "B1_log(\"hello\")\n",
    "B1_report()"
   ]
  },
  {
   "cell_type": "code",
   "execution_count": 14,
   "id": "dcba34ae-31c6-4ad2-8a99-6a8cec792d16",
   "metadata": {},
   "outputs": [],
   "source": [
    "def classA(x) :\n",
    "    log,report = classB()\n",
    "    data = 3.14\n",
    "    def method(y) :\n",
    "        nonlocal data,log\n",
    "        log(y)\n",
    "        return data + x + y\n",
    "    return method,report"
   ]
  },
  {
   "cell_type": "code",
   "execution_count": 15,
   "id": "ec0dacbf-0f1d-464f-bbc1-82f33c8b4269",
   "metadata": {},
   "outputs": [],
   "source": [
    "A1_method,A1_report = classA(3.14)\n"
   ]
  },
  {
   "cell_type": "code",
   "execution_count": 16,
   "id": "c0b74bfa-0ff7-4870-8edd-1c1d8b4e5499",
   "metadata": {},
   "outputs": [
    {
     "data": {
      "text/plain": [
       "13.280000000000001"
      ]
     },
     "execution_count": 16,
     "metadata": {},
     "output_type": "execute_result"
    }
   ],
   "source": [
    "A1_method(2)\n",
    "A1_method(7)"
   ]
  },
  {
   "cell_type": "code",
   "execution_count": 17,
   "id": "53d81015-1818-4c8f-8f3b-3ea619686a8c",
   "metadata": {},
   "outputs": [
    {
     "data": {
      "text/plain": [
       "[2, 7]"
      ]
     },
     "execution_count": 17,
     "metadata": {},
     "output_type": "execute_result"
    }
   ],
   "source": [
    "A1_report()"
   ]
  },
  {
   "cell_type": "code",
   "execution_count": 12,
   "id": "3ad41197-c72b-4623-90aa-acb0ec40e51e",
   "metadata": {},
   "outputs": [
    {
     "data": {
      "text/plain": [
       "'_class.<locals>._closure'"
      ]
     },
     "execution_count": 12,
     "metadata": {},
     "output_type": "execute_result"
    }
   ],
   "source": [
    "A1.__qualname__"
   ]
  },
  {
   "cell_type": "code",
   "execution_count": null,
   "id": "81c1a432-9df0-4b2f-bb78-2205ddd2e3c7",
   "metadata": {},
   "outputs": [],
   "source": []
  },
  {
   "cell_type": "code",
   "execution_count": 20,
   "id": "bf45e3b1-b7c2-48e7-85f9-cfb282fc3f18",
   "metadata": {},
   "outputs": [],
   "source": [
    "def type(g) :\n",
    "    print(\"hello\")"
   ]
  },
  {
   "cell_type": "code",
   "execution_count": 21,
   "id": "e971177a-9cb6-477e-bad3-a8c63a0ba6f1",
   "metadata": {},
   "outputs": [
    {
     "name": "stdout",
     "output_type": "stream",
     "text": [
      "hello\n"
     ]
    }
   ],
   "source": [
    "type(5)"
   ]
  }
 ],
 "metadata": {
  "kernelspec": {
   "display_name": "Python 3 (ipykernel)",
   "language": "python",
   "name": "python3"
  },
  "language_info": {
   "codemirror_mode": {
    "name": "ipython",
    "version": 3
   },
   "file_extension": ".py",
   "mimetype": "text/x-python",
   "name": "python",
   "nbconvert_exporter": "python",
   "pygments_lexer": "ipython3",
   "version": "3.11.4"
  }
 },
 "nbformat": 4,
 "nbformat_minor": 5
}
