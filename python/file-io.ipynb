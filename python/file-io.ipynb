{
 "cells": [
  {
   "cell_type": "markdown",
   "id": "strategic-helmet",
   "metadata": {},
   "source": [
    "# Reading and writing data to files\n",
    "\n",
    "(c) 2021 [Daniel Grose](mailto:dan.grose@lancaster.ac.uk) "
   ]
  },
  {
   "cell_type": "markdown",
   "id": "b2d30148",
   "metadata": {},
   "source": [
    "## Open and read the contents of a csv file line by line."
   ]
  },
  {
   "cell_type": "markdown",
   "id": "21f71823",
   "metadata": {},
   "source": [
    "Import the csv library. This is certainly not the only library that could be used, but it is simple and robust\n",
    "for text files in a csv format."
   ]
  },
  {
   "cell_type": "code",
   "execution_count": 1,
   "id": "bibliographic-headline",
   "metadata": {},
   "outputs": [],
   "source": [
    "import csv"
   ]
  },
  {
   "cell_type": "markdown",
   "id": "53f1ef45",
   "metadata": {},
   "source": [
    "If necessary, find out where your data files are stored using shell commands from within Jupyter"
   ]
  },
  {
   "cell_type": "code",
   "execution_count": 2,
   "id": "080f5634",
   "metadata": {},
   "outputs": [
    {
     "name": "stdout",
     "output_type": "stream",
     "text": [
      "/home/grosedj/python-envs/M550/python\r\n"
     ]
    }
   ],
   "source": [
    "!pwd"
   ]
  },
  {
   "cell_type": "markdown",
   "id": "alternate-chrome",
   "metadata": {},
   "source": [
    "Have a look at the file. This assumes you are using unix."
   ]
  },
  {
   "cell_type": "code",
   "execution_count": 4,
   "id": "complex-price",
   "metadata": {},
   "outputs": [
    {
     "name": "stdout",
     "output_type": "stream",
     "text": [
      "100,2,3\r\n",
      "200,4,1\r\n",
      "300,6,7\r\n",
      "400,2,3"
     ]
    }
   ],
   "source": [
    "!head csv-data-1.csv"
   ]
  },
  {
   "cell_type": "markdown",
   "id": "previous-acoustic",
   "metadata": {},
   "source": [
    "So, three columns of integers - put each column into a list."
   ]
  },
  {
   "cell_type": "code",
   "execution_count": 6,
   "id": "peaceful-consequence",
   "metadata": {},
   "outputs": [
    {
     "name": "stdout",
     "output_type": "stream",
     "text": [
      "['100', '200', '300', '400'] ['2', '4', '6', '2'] ['3', '1', '7', '3']\n"
     ]
    }
   ],
   "source": [
    "# open the file\n",
    "with open('csv-data-1.csv',mode='r') as csv_file :\n",
    "    # create a reader - this allows a delimiter to be specified and used\n",
    "    csv_reader = csv.reader(csv_file, delimiter=',')\n",
    "    # do not know how many rows - so initialise some empty lists\n",
    "    C1 = []\n",
    "    C2 = []\n",
    "    C3 = []\n",
    "    # read each row of the file ...\n",
    "    for row in csv_reader :\n",
    "        # .. and put the data into the lists\n",
    "        C1.append(row[0])\n",
    "        C2.append(row[1])\n",
    "        C3.append(row[2])\n",
    "\n",
    "# have a look\n",
    "print(C1,C2,C3)  "
   ]
  },
  {
   "cell_type": "markdown",
   "id": "sudden-party",
   "metadata": {},
   "source": [
    "Note - the data are strings !! Need to conver to appropriate type. For example ..."
   ]
  },
  {
   "cell_type": "code",
   "execution_count": 7,
   "id": "promising-wildlife",
   "metadata": {},
   "outputs": [
    {
     "name": "stdout",
     "output_type": "stream",
     "text": [
      "[100, 200, 300, 400] [2, 4, 6, 2] [3, 1, 7, 3]\n"
     ]
    }
   ],
   "source": [
    "C1 = [int(x) for x in C1]\n",
    "C2 = [int(x) for x in C2]\n",
    "C3 = [int(x) for x in C3]\n",
    "print(C1,C2,C3)"
   ]
  },
  {
   "cell_type": "markdown",
   "id": "0286b19a",
   "metadata": {},
   "source": [
    "## Writing a csv file a few lines at a time"
   ]
  },
  {
   "cell_type": "code",
   "execution_count": 8,
   "id": "166ed776",
   "metadata": {},
   "outputs": [],
   "source": [
    "with open('csv-out-file.csv', mode='w') as csv_out_file:\n",
    "    # csv_file_writer = csv.writer(csv_out_file, delimiter=',', quotechar='\"', quoting=csv.QUOTE_MINIMAL)\n",
    "    csv_file_writer = csv.writer(csv_out_file, delimiter=',')\n",
    "    csv_file_writer.writerow([1,2,3,4])\n",
    "    csv_file_writer.writerow([5,6,7,8])\n"
   ]
  },
  {
   "cell_type": "markdown",
   "id": "ff7aecf4",
   "metadata": {},
   "source": [
    "## Reading a csv file a few lines at a time"
   ]
  },
  {
   "cell_type": "code",
   "execution_count": 10,
   "id": "b01a2b00",
   "metadata": {},
   "outputs": [
    {
     "name": "stdout",
     "output_type": "stream",
     "text": [
      "['100', '2', '3']\n",
      "['200', '4', '1']\n"
     ]
    }
   ],
   "source": [
    "csv_file = open('csv-data-1.csv','r')\n",
    "csv_reader = csv.reader(csv_file, delimiter=',')\n",
    "line = next(csv_reader)\n",
    "print(line)\n",
    "line = next(csv_reader)\n",
    "print(line)\n",
    "csv_file.close()"
   ]
  },
  {
   "cell_type": "markdown",
   "id": "de4a31d0",
   "metadata": {},
   "source": [
    "### <u>Exercise 1</u>\n",
    "\n",
    "Create a csv file containing three columns of data with random data. Write at least a hundred rows."
   ]
  },
  {
   "cell_type": "markdown",
   "id": "2441dc9c",
   "metadata": {},
   "source": [
    "### <u>Exercise 2</u>\n",
    "\n",
    "Read the data from the file you created in exercise 1"
   ]
  },
  {
   "cell_type": "markdown",
   "id": "bcbf8182",
   "metadata": {},
   "source": [
    "### <u>Exercise 3</u>\n",
    "\n",
    "Read the first fifty rows of your file from exercise 1, writing the values to a new file as you proceed, \n",
    "but only if all values in the row are less than 0.8"
   ]
  },
  {
   "cell_type": "markdown",
   "id": "b0693645",
   "metadata": {},
   "source": [
    "### <u>Exercise 4</u>\n",
    "\n",
    "What is the purpose of the **with** statement ?\n",
    "\n",
    "What is the purpose of the **close** method ?\n",
    "\n",
    "What are the **'r'** and **'w'** values for ?"
   ]
  }
 ],
 "metadata": {
  "kernelspec": {
   "display_name": "Python 3",
   "language": "python",
   "name": "python3"
  },
  "language_info": {
   "codemirror_mode": {
    "name": "ipython",
    "version": 3
   },
   "file_extension": ".py",
   "mimetype": "text/x-python",
   "name": "python",
   "nbconvert_exporter": "python",
   "pygments_lexer": "ipython3",
   "version": "3.10.0"
  }
 },
 "nbformat": 4,
 "nbformat_minor": 5
}
