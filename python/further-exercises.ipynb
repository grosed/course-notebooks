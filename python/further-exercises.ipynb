{
 "cells": [
  {
   "cell_type": "markdown",
   "id": "cb0d044b",
   "metadata": {},
   "source": [
    "# Further Exercises"
   ]
  },
  {
   "cell_type": "markdown",
   "id": "0d87b04f",
   "metadata": {},
   "source": [
    "## Section 1"
   ]
  },
  {
   "cell_type": "markdown",
   "id": "682856b0",
   "metadata": {},
   "source": [
    "### <u>Exercise 1</u>\n",
    "\n",
    "Using NumPy, generate a sequence of 2d points drawn uniformly from the unit square."
   ]
  },
  {
   "cell_type": "markdown",
   "id": "0cda6cb7",
   "metadata": {},
   "source": [
    "### <u>Exercise 2</u>\n",
    "\n",
    "Create a square array containing the distances between all possible pairs of points you generated in Exercise 1."
   ]
  },
  {
   "cell_type": "markdown",
   "id": "78fb578a",
   "metadata": {},
   "source": [
    "### <u>Exercise 3</u>\n",
    "\n",
    "Use your solution to Exercise 2 to find the nearest neighbouring point for all the points you generated in Exercise 1."
   ]
  },
  {
   "cell_type": "markdown",
   "id": "4ff1b44b",
   "metadata": {},
   "source": [
    "### <u>Exercise 4</u>\n",
    "\n",
    "For a 1000 points how long would it take to repeat Exercises 1, 2, and 3 1000 times ?"
   ]
  },
  {
   "cell_type": "markdown",
   "id": "de34f638",
   "metadata": {},
   "source": [
    "### <u>Exercise 5</u>\n",
    "\n",
    "Generate two samples from a normal distribution using NumPy. Use different parameters for each distribution."
   ]
  },
  {
   "cell_type": "markdown",
   "id": "0773d148",
   "metadata": {},
   "source": [
    "### <u>Exercise 6</u>\n",
    "\n",
    "Find a suitable test in scipy.stats to see if the data you obtained in Exercise 5 is drawn from the same distribution."
   ]
  },
  {
   "cell_type": "markdown",
   "id": "fe8f0e25",
   "metadata": {},
   "source": [
    "### <u>Exercise 7</u>\n",
    "\n",
    "Same as exercise 7, but use a non parametric test."
   ]
  },
  {
   "cell_type": "markdown",
   "id": "b1b3d97d",
   "metadata": {},
   "source": [
    "### <u>Exercise 8</u>\n",
    "\n",
    "Draw data from mutiple normal distributions and bin them into small squares on a grid of your choosing."
   ]
  },
  {
   "cell_type": "markdown",
   "id": "a384540f",
   "metadata": {},
   "source": [
    "### <u>Exercise 9</u>\n",
    "\n",
    "Use your data from Exercise 8 to create an annotated heatmap simialr to that in the [plotnine gallery](https://plotnine.readthedocs.io/en/stable/generated/plotnine.geoms.geom_tile.html#annotated-heatmap)."
   ]
  }
 ],
 "metadata": {
  "kernelspec": {
   "display_name": "Python 3",
   "language": "python",
   "name": "python3"
  },
  "language_info": {
   "codemirror_mode": {
    "name": "ipython",
    "version": 3
   },
   "file_extension": ".py",
   "mimetype": "text/x-python",
   "name": "python",
   "nbconvert_exporter": "python",
   "pygments_lexer": "ipython3",
   "version": "3.9.0"
  }
 },
 "nbformat": 4,
 "nbformat_minor": 5
}
