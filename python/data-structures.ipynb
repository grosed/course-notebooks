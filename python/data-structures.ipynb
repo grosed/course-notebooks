{
 "cells": [
  {
   "cell_type": "markdown",
   "id": "c7d6e79c",
   "metadata": {},
   "source": [
    "# Data structures"
   ]
  },
  {
   "cell_type": "markdown",
   "id": "460cb803",
   "metadata": {},
   "source": [
    "## Sorting again"
   ]
  },
  {
   "cell_type": "markdown",
   "id": "ace97ebc",
   "metadata": {},
   "source": [
    "A list, $X$ say, can be sorted whenever python has access to a way of evaluating the expression $a < b$ where \n",
    "$a,b \\in X$. The \"ordering\" $<$ should be transative and total."
   ]
  },
  {
   "cell_type": "code",
   "execution_count": 1,
   "id": "10e203d5",
   "metadata": {},
   "outputs": [
    {
     "name": "stdout",
     "output_type": "stream",
     "text": [
      "['edgar', 'dijkstra', 'donald', 'knuth', 'ada', 'lovelace']\n",
      "['ada', 'dijkstra', 'donald', 'edgar', 'knuth', 'lovelace']\n"
     ]
    }
   ],
   "source": [
    "X = [\"edsger\",\"dijkstra\",\"donald\",\"knuth\",\"ada\",\"lovelace\"]\n",
    "print(X)\n",
    "X.sort()\n",
    "print(X)"
   ]
  },
  {
   "cell_type": "markdown",
   "id": "7a991801",
   "metadata": {},
   "source": [
    "### Exercise 1\n",
    "\n",
    "Experiment with bisect and the list X. Does it work as you would expect ?"
   ]
  },
  {
   "cell_type": "code",
   "execution_count": 14,
   "id": "cd1ef83d",
   "metadata": {
    "tags": [
     "hide-input",
     "hide-output"
    ]
   },
   "outputs": [
    {
     "name": "stdout",
     "output_type": "stream",
     "text": [
      "5\n",
      "2\n"
     ]
    }
   ],
   "source": [
    "from bisect import bisect_right as br\n",
    "from bisect import bisect_left as bl\n",
    "Y = [1,2,3,4,5]\n",
    "print(bl(X,\"knuti\"))\n",
    "print(bl(Y,2.9))\n"
   ]
  },
  {
   "cell_type": "markdown",
   "id": "54785bc3",
   "metadata": {},
   "source": [
    "## Sorting and tuples"
   ]
  },
  {
   "cell_type": "markdown",
   "id": "ad4afa36",
   "metadata": {},
   "source": [
    "It is not always clear at first what the $<$ operator is that is being used by **sort**. For examples, how does $<$ get applied to tuples ? If you are not sure what a tuple is, have a look at the chapter \"Python tuples from scratch !!!\". Bear in mind, tuples are immutable. To see this, have a look at the following code."
   ]
  },
  {
   "cell_type": "code",
   "execution_count": 60,
   "id": "1a536348",
   "metadata": {
    "tags": [
     "hide-output"
    ]
   },
   "outputs": [
    {
     "name": "stdout",
     "output_type": "stream",
     "text": [
      "fred\n",
      "[1, 2, 3, 4]\n"
     ]
    },
    {
     "ename": "TypeError",
     "evalue": "'tuple' object does not support item assignment",
     "output_type": "error",
     "traceback": [
      "\u001b[0;31m---------------------------------------------------------------------------\u001b[0m",
      "\u001b[0;31mTypeError\u001b[0m                                 Traceback (most recent call last)",
      "\u001b[0;32m<ipython-input-60-da605538e1fd>\u001b[0m in \u001b[0;36m<module>\u001b[0;34m\u001b[0m\n\u001b[1;32m      2\u001b[0m \u001b[0mprint\u001b[0m\u001b[0;34m(\u001b[0m\u001b[0mA\u001b[0m\u001b[0;34m[\u001b[0m\u001b[0;36m0\u001b[0m\u001b[0;34m]\u001b[0m\u001b[0;34m)\u001b[0m\u001b[0;34m\u001b[0m\u001b[0;34m\u001b[0m\u001b[0m\n\u001b[1;32m      3\u001b[0m \u001b[0mprint\u001b[0m\u001b[0;34m(\u001b[0m\u001b[0mA\u001b[0m\u001b[0;34m[\u001b[0m\u001b[0;36m1\u001b[0m\u001b[0;34m]\u001b[0m\u001b[0;34m)\u001b[0m\u001b[0;34m\u001b[0m\u001b[0;34m\u001b[0m\u001b[0m\n\u001b[0;32m----> 4\u001b[0;31m \u001b[0mA\u001b[0m\u001b[0;34m[\u001b[0m\u001b[0;36m0\u001b[0m\u001b[0;34m]\u001b[0m \u001b[0;34m=\u001b[0m \u001b[0;34m(\u001b[0m\u001b[0;34m\"mildred\"\u001b[0m\u001b[0;34m,\u001b[0m\u001b[0;36m3\u001b[0m\u001b[0;34m*\u001b[0m\u001b[0;34m[\u001b[0m\u001b[0;36m1\u001b[0m\u001b[0;34m,\u001b[0m\u001b[0;36m2\u001b[0m\u001b[0;34m]\u001b[0m\u001b[0;34m)\u001b[0m\u001b[0;34m\u001b[0m\u001b[0;34m\u001b[0m\u001b[0m\n\u001b[0m",
      "\u001b[0;31mTypeError\u001b[0m: 'tuple' object does not support item assignment"
     ]
    }
   ],
   "source": [
    "A = (\"fred\",[1,2,3,4])\n",
    "print(A[0])\n",
    "print(A[1])\n",
    "A[0] = (\"mildred\",3*[1,2]) "
   ]
  },
  {
   "cell_type": "markdown",
   "id": "324ec525",
   "metadata": {},
   "source": [
    "Note that a useful way of accessing elements from a tuple, particularly when you are only interested in some of the values,\n",
    "is demonstrated below."
   ]
  },
  {
   "cell_type": "code",
   "execution_count": 63,
   "id": "38348f23",
   "metadata": {},
   "outputs": [
    {
     "name": "stdout",
     "output_type": "stream",
     "text": [
      "3.15\n"
     ]
    }
   ],
   "source": [
    "X = (\"a\",[1,2,3],3.15,(\"fred\",True))\n",
    "_,_,pi,_ = X\n",
    "print(pi)"
   ]
  },
  {
   "cell_type": "markdown",
   "id": "614746cb",
   "metadata": {},
   "source": [
    "### Exercise 2 \n",
    "\n",
    "Does the following code  work as you would expect ? Can you describe how the tuples are being sorted ? Experiment with some \n",
    "tuples and $<$ to find out."
   ]
  },
  {
   "cell_type": "code",
   "execution_count": 22,
   "id": "db847398",
   "metadata": {
    "tags": [
     "hide-output"
    ]
   },
   "outputs": [
    {
     "data": {
      "text/plain": [
       "[('dijkstra', 'edsger', 'nl', 1930),\n",
       " ('knuth', 'donald', 'us', 1938),\n",
       " ('lovelace', 'ada', 'uk', 1815)]"
      ]
     },
     "execution_count": 22,
     "metadata": {},
     "output_type": "execute_result"
    }
   ],
   "source": [
    "X = [(\"knuth\",\"donald\",\"us\",1938),(\"dijkstra\",\"edsger\",\"nl\",1930),(\"lovelace\",\"ada\",\"uk\",1815)]\n",
    "X.sort()\n",
    "X"
   ]
  },
  {
   "cell_type": "code",
   "execution_count": 74,
   "id": "4c3ec631",
   "metadata": {
    "tags": [
     "hide-output"
    ]
   },
   "outputs": [
    {
     "data": {
      "text/plain": [
       "True"
      ]
     },
     "execution_count": 74,
     "metadata": {},
     "output_type": "execute_result"
    }
   ],
   "source": [
    "A = (1,3,7)\n",
    "B = (2,5,9)\n",
    "A < B"
   ]
  },
  {
   "cell_type": "code",
   "execution_count": 66,
   "id": "82992b5a",
   "metadata": {
    "tags": [
     "hide-output"
    ]
   },
   "outputs": [
    {
     "data": {
      "text/plain": [
       "False"
      ]
     },
     "execution_count": 66,
     "metadata": {},
     "output_type": "execute_result"
    }
   ],
   "source": [
    "B = (1,2,9)\n",
    "A < B"
   ]
  },
  {
   "cell_type": "markdown",
   "id": "d6dc7ccb",
   "metadata": {},
   "source": [
    "### Exercise 3\n",
    "\n",
    "Can you describe what this function does ? What is the expected input data structure ? If you are not sure,\n",
    "have a look "
   ]
  },
  {
   "cell_type": "code",
   "execution_count": 24,
   "id": "77257be6",
   "metadata": {},
   "outputs": [],
   "source": [
    "def first_name(x) :\n",
    "    _,first,_,_ = x\n",
    "    return first\n"
   ]
  },
  {
   "cell_type": "markdown",
   "id": "1eeb55dd",
   "metadata": {},
   "source": [
    "### Exercise 4\n",
    "\n",
    "Can you predict the output of the following code ?"
   ]
  },
  {
   "cell_type": "code",
   "execution_count": 27,
   "id": "3a3a6c09",
   "metadata": {
    "tags": [
     "hide-output"
    ]
   },
   "outputs": [
    {
     "data": {
      "text/plain": [
       "[('lovelace', 'ada', 'uk', 1815),\n",
       " ('knuth', 'donald', 'us', 1938),\n",
       " ('dijkstra', 'edsger', 'nl', 1930)]"
      ]
     },
     "execution_count": 27,
     "metadata": {},
     "output_type": "execute_result"
    }
   ],
   "source": [
    "X = [(\"knuth\",\"donald\",\"us\",1938),(\"dijkstra\",\"edsger\",\"nl\",1930),(\"lovelace\",\"ada\",\"uk\",1815)]\n",
    "X.sort(key=first_name)\n",
    "X"
   ]
  },
  {
   "cell_type": "markdown",
   "id": "0353a50e",
   "metadata": {},
   "source": [
    "### Exercise 5 \n",
    "\n",
    "Can **bisect** employ a key ?"
   ]
  },
  {
   "cell_type": "markdown",
   "id": "edd0bb25",
   "metadata": {},
   "source": [
    "## Lists again"
   ]
  },
  {
   "cell_type": "markdown",
   "id": "11cf8681",
   "metadata": {},
   "source": [
    "Getting a value by its position in a list (indexing) is an $\\mathcal{O}(1)$ operation. "
   ]
  },
  {
   "cell_type": "markdown",
   "id": "9d21e81f",
   "metadata": {},
   "source": [
    "### Exercise 6\n",
    "\n",
    "Use *help* to find out what the **list.index** function does. What is **self** ? "
   ]
  },
  {
   "cell_type": "code",
   "execution_count": 69,
   "id": "5a1aa9ab",
   "metadata": {
    "tags": [
     "hide-input",
     "hide-output"
    ]
   },
   "outputs": [
    {
     "name": "stdout",
     "output_type": "stream",
     "text": [
      "Help on method_descriptor in list:\n",
      "\n",
      "list.index = index(self, value, start=0, stop=9223372036854775807, /)\n",
      "    Return first index of value.\n",
      "    \n",
      "    Raises ValueError if the value is not present.\n",
      "\n"
     ]
    }
   ],
   "source": [
    "help(\"list.index\")\n"
   ]
  },
  {
   "cell_type": "markdown",
   "id": "e0ca5f20",
   "metadata": {},
   "source": [
    "**self** refers to the value of the variable on the left hand side of the ."
   ]
  },
  {
   "cell_type": "markdown",
   "id": "95929793",
   "metadata": {},
   "source": [
    "### Exercise 7\n",
    "\n",
    "What is the complexity of **index** for the list data structure ? Write some experimental code to find out (the list does not have to contain strings)."
   ]
  },
  {
   "cell_type": "markdown",
   "id": "6b42b68b",
   "metadata": {},
   "source": [
    "Concatenating and appending lists is $\\mathcal{O}(1)$. To insert an item within a list you can use **insert**. \n"
   ]
  },
  {
   "cell_type": "markdown",
   "id": "761b9853",
   "metadata": {},
   "source": [
    "Use **help** to find  out how to use insert. What is the compexity of **insert** ?"
   ]
  },
  {
   "cell_type": "markdown",
   "id": "bfd6e840",
   "metadata": {},
   "source": [
    "### Exercise 8 \n",
    "Given the list"
   ]
  },
  {
   "cell_type": "code",
   "execution_count": 39,
   "id": "51a0e811",
   "metadata": {},
   "outputs": [],
   "source": [
    "X = [(\"knuth\",\"donald\",\"us\",1938),(\"dijkstra\",\"edsger\",\"nl\",1930),(\"lovelace\",\"ada\",\"uk\",1815)]"
   ]
  },
  {
   "cell_type": "markdown",
   "id": "d4fd70a3",
   "metadata": {},
   "source": [
    "How would you look up dijkstra and find his first name ?"
   ]
  },
  {
   "cell_type": "markdown",
   "id": "d848f2a4",
   "metadata": {},
   "source": [
    "So - lists are undoubtedly a useful data structure - but they have some limitations. Can you list some things \n",
    "that lists are good at and some things they are not."
   ]
  },
  {
   "cell_type": "markdown",
   "id": "b2ad568c",
   "metadata": {},
   "source": [
    "## Dictionaries"
   ]
  },
  {
   "cell_type": "markdown",
   "id": "0dacdf40",
   "metadata": {},
   "source": [
    "Dictionaries are sometimes refered to as maps, or hash maps, or associative arrays. Here is an example of how\n",
    "to create and insert items in a dictionary."
   ]
  },
  {
   "cell_type": "code",
   "execution_count": 49,
   "id": "25e38e65",
   "metadata": {},
   "outputs": [],
   "source": [
    "cumbric_english = {} # an empty dictionary\n",
    "cumbric_english[\"yan\"] = \"one\"\n",
    "cumbric_english[\"tethra\"] = \"three\"\n",
    "cumbric_english[\"blaen\"] = \"end, point, summit; source of river\"\n"
   ]
  },
  {
   "cell_type": "code",
   "execution_count": null,
   "id": "1ba459cd",
   "metadata": {},
   "outputs": [],
   "source": [
    "To find or retrieve a value .."
   ]
  },
  {
   "cell_type": "code",
   "execution_count": 50,
   "id": "a1ec25de",
   "metadata": {},
   "outputs": [
    {
     "data": {
      "text/plain": [
       "'one'"
      ]
     },
     "execution_count": 50,
     "metadata": {},
     "output_type": "execute_result"
    }
   ],
   "source": [
    "cumbric_english[\"yan\"]"
   ]
  },
  {
   "cell_type": "code",
   "execution_count": null,
   "id": "a2ed5a77",
   "metadata": {},
   "outputs": [],
   "source": [
    "Dictionaries map keys to values. They are inhomogenous."
   ]
  },
  {
   "cell_type": "code",
   "execution_count": 53,
   "id": "312045bb",
   "metadata": {},
   "outputs": [],
   "source": [
    "dic = {}\n",
    "dic[\"IB12047842\"] = (107.82,\"XH\",(\"Fraud\",True))\n",
    "dic[(\"a\",1)] = [1,2,3,4]"
   ]
  },
  {
   "cell_type": "markdown",
   "id": "4b7c655b",
   "metadata": {},
   "source": [
    "### Exercise 9\n",
    "\n",
    "Can dictionaries have duplicate keys ? Can they have duplicate values ? Are dictionaries functions ? (Explain your answer). Can you sort a dictionary ? "
   ]
  },
  {
   "cell_type": "markdown",
   "id": "0bbb4fbc",
   "metadata": {},
   "source": [
    "### Exercise 10\n",
    "\n",
    "What is the complexity of adding an element to a dictionary. What is the complexity of retreiving a value from a \n",
    "dictionary using a key ? "
   ]
  },
  {
   "cell_type": "markdown",
   "id": "13087207",
   "metadata": {},
   "source": [
    "You can use strings, tuples, integers and real valued numbers for keys in a dictionary. Can you use a list ? If not, what do you think it is about lists that means they cannot be used as a key in a dictionary ? "
   ]
  },
  {
   "cell_type": "code",
   "execution_count": null,
   "id": "567b5402",
   "metadata": {},
   "outputs": [],
   "source": [
    "Give some example use cases for a dictionary that are relevant to statistics."
   ]
  },
  {
   "cell_type": "code",
   "execution_count": null,
   "id": "4dd6ce1a",
   "metadata": {},
   "outputs": [],
   "source": [
    "What is the complexity of your algorithm in terms of the k ?\n"
   ]
  },
  {
   "cell_type": "code",
   "execution_count": null,
   "id": "de82f3ae",
   "metadata": {},
   "outputs": [],
   "source": []
  }
 ],
 "metadata": {
  "celltoolbar": "Edit Metadata",
  "kernelspec": {
   "display_name": "Python 3 (ipykernel)",
   "language": "python",
   "name": "python3"
  },
  "language_info": {
   "codemirror_mode": {
    "name": "ipython",
    "version": 3
   },
   "file_extension": ".py",
   "mimetype": "text/x-python",
   "name": "python",
   "nbconvert_exporter": "python",
   "pygments_lexer": "ipython3",
   "version": "3.9.9"
  }
 },
 "nbformat": 4,
 "nbformat_minor": 5
}
