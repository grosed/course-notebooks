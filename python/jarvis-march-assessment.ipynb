{
 "cells": [
  {
   "cell_type": "markdown",
   "id": "2b878b39",
   "metadata": {},
   "source": [
    "# Assessment"
   ]
  },
  {
   "cell_type": "markdown",
   "id": "90366727",
   "metadata": {},
   "source": [
    "To complete the assignment you will need to submit all the source code\n",
    "necessary to recreate your working program in the form of a (single) Jupyter notebook. You can add other features to your notebook e.g. markdown, LaTeX, figures/pictures, references, URLs, and so on as appropriate."
   ]
  },
  {
   "cell_type": "markdown",
   "id": "10973ab8",
   "metadata": {},
   "source": [
    "## Background"
   ]
  },
  {
   "cell_type": "markdown",
   "id": "84b9da6d",
   "metadata": {},
   "source": [
    "The following pseudo code describes an algorithm for finding the complex\n",
    "hull of a set of points in the plane. It has been taken verbatim from an\n",
    "source that is not referenced (deliberately) in this assessment material. It is\n",
    "an example of the kind of pseudo code that is commonly provided as part of\n",
    "an academic publication or software specification."
   ]
  },
  {
   "cell_type": "markdown",
   "id": "17e52775",
   "metadata": {},
   "source": [
    "### Jarvis March Algorithm"
   ]
  },
  {
   "cell_type": "markdown",
   "id": "130d7fc5",
   "metadata": {},
   "source": [
    "S is a set of points in a plane. p,q and r are in S.\n",
    "1. Initialise p as leftmost point.\n",
    "2. Do following while we do not come back to the first (or leftmost) point. \\\n",
    "    (a) The next point q is the point such that the triplet (p, q, r) is\n",
    "counterclockwise for any other point r. \\\n",
    "    (b) next[p] = q (Store q as next of p in the output convex hull). \\\n",
    "    (c) p = q (Set p as q for next iteration)."
   ]
  },
  {
   "cell_type": "markdown",
   "id": "23e9813d",
   "metadata": {},
   "source": [
    "## Assessment"
   ]
  },
  {
   "cell_type": "markdown",
   "id": "3a1ba221",
   "metadata": {},
   "source": [
    "The assignment will assessed using the following allocation of marks.\n",
    "- Source code that can be run in a Python 3.9 system. (20)\n",
    "- Resulting program produces correct output for each of the four data\n",
    "sets provided. (10)\n",
    "- Unambiguous pseudo code that is significantly different from that provided using a journal quality format. (10)\n",
    "- Description of relative merits of the two version of pseudo code. (10)\n",
    "- Sensible and correct argument for your assessment of the computational\n",
    "complexity of your implementation of the algorithm. (10)\n",
    "- Bonus marks (40). Here are some examples of what these marks might be awarded for : \n",
    "    - Making use of Python classes where appropriate. \n",
    "    - Use of comment and docstrings to describe your code.\n",
    "    - Use of markup to describe, expalain, and provide examples of your code.\n",
    "    - Benchmarking code (i.e. tining it for different inputs.\n",
    "    - Adding tests to demonstrate the correctness of your code for a range of inputs (which should include \n",
    "      pathological (edge) cases.\n",
    "    - Any other things you can think of that might improve your code with respect to the 5 Rs."
   ]
  },
  {
   "cell_type": "markdown",
   "id": "46892b16",
   "metadata": {},
   "source": [
    "## Further Information\n",
    "\n",
    "For information on the 5Rs see this [paper](https://www.frontiersin.org/articles/10.3389/fninf.2017.00069/full) and/or this [presentation](https://prezi.com/view/UFn6tMCwgPK4YHf3VrlH/).\n",
    "\n",
    "For information on basic computational geometry see chapter 33 of this [book](https://onesearch.lancaster-university.uk/primo-explore/fulldisplay?docid=44LAN_ALMA_DS5193137780001221&context=L&vid=LUL_VU1&lang=en_US&search_scope=LSCOP_44LAN_ALMA_DS&adaptor=Local%20Search%20Engine&isFrbr=true&tab=blended&query=any,contains,intoduction%20to%20algorithms&sortby=date&facet=frbrgroupid,include,3377962173&offset=0) "
   ]
  }
 ],
 "metadata": {
  "kernelspec": {
   "display_name": "Python 3 (ipykernel)",
   "language": "python",
   "name": "python3"
  },
  "language_info": {
   "codemirror_mode": {
    "name": "ipython",
    "version": 3
   },
   "file_extension": ".py",
   "mimetype": "text/x-python",
   "name": "python",
   "nbconvert_exporter": "python",
   "pygments_lexer": "ipython3",
   "version": "3.9.9"
  }
 },
 "nbformat": 4,
 "nbformat_minor": 5
}
