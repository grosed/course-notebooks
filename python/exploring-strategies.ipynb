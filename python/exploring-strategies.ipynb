{
 "cells": [
  {
   "cell_type": "markdown",
   "id": "neural-avenue",
   "metadata": {},
   "source": [
    "Do some housekeeping. What version of python is being used ?"
   ]
  },
  {
   "cell_type": "code",
   "execution_count": 24,
   "id": "attended-mapping",
   "metadata": {},
   "outputs": [
    {
     "name": "stdout",
     "output_type": "stream",
     "text": [
      "3.9.0 (default, Dec  8 2020, 13:23:03) \n",
      "[GCC 10.2.0]\n"
     ]
    }
   ],
   "source": [
    "import sys\n",
    "print(sys.version)"
   ]
  },
  {
   "cell_type": "markdown",
   "id": "earlier-preparation",
   "metadata": {},
   "source": [
    "*What form should a strategy take ? Is it a function ? If so - what arguments are required ? \n",
    "Develop some ideas below.*"
   ]
  },
  {
   "cell_type": "code",
   "execution_count": null,
   "id": "ideal-malpractice",
   "metadata": {},
   "outputs": [],
   "source": []
  },
  {
   "cell_type": "markdown",
   "id": "stunning-asset",
   "metadata": {},
   "source": [
    "A simple strategy - end turn after a threshold turn score has been acheived.\n",
    "\n",
    "Parameters :\n",
    "\n",
    "1. Sa = accumulated score\n",
    "2. St = turn score\n",
    "3. So = opponet score\n",
    "4. blind = opponents score this round is not known\n",
    "5. target = target score\n",
    "6. return = True if play False otherwise\n",
    "\n",
    "Here are two examples of this kind of strategy"
   ]
  },
  {
   "cell_type": "code",
   "execution_count": 68,
   "id": "universal-amount",
   "metadata": {},
   "outputs": [],
   "source": [
    "def threshold6(Sa,St,So,blind,target) :\n",
    "    return True if St < 6 else False"
   ]
  },
  {
   "cell_type": "code",
   "execution_count": 69,
   "id": "distant-sharp",
   "metadata": {},
   "outputs": [],
   "source": [
    "def threshold10(Sa,St,So,blind,target) :\n",
    "    return True if St < 10 else False"
   ]
  },
  {
   "cell_type": "markdown",
   "id": "random-prevention",
   "metadata": {},
   "source": [
    "How should these be compared ? Write some code to play them against each other. What is required ? How do you generate random numbers using python ?"
   ]
  },
  {
   "cell_type": "markdown",
   "id": "functional-finance",
   "metadata": {},
   "source": [
    "Scipy is a python library that provides (amongst other things) many statistical functions e.g. densities, CDFs, \n",
    "hypothesis testing and so on. It also has mathods for producing random numbers. For example, for generating random\n",
    "integers see https://docs.scipy.org/doc//numpy-1.10.4/reference/routines.random.html"
   ]
  },
  {
   "cell_type": "markdown",
   "id": "intelligent-solution",
   "metadata": {},
   "source": [
    "<p> What does the following line do ? Why not just use pip ? </p>"
   ]
  },
  {
   "cell_type": "code",
   "execution_count": 27,
   "id": "combined-delicious",
   "metadata": {},
   "outputs": [
    {
     "name": "stdout",
     "output_type": "stream",
     "text": [
      "Requirement already satisfied: numpy in /home/grosedj/python-envs/further-python/env/lib/python3.9/site-packages (1.20.1)\n",
      "\u001b[33mWARNING: You are using pip version 20.2.3; however, version 21.0.1 is available.\n",
      "You should consider upgrading via the '/home/grosedj/python-envs/further-python/env/bin/python -m pip install --upgrade pip' command.\u001b[0m\n"
     ]
    }
   ],
   "source": [
    "!python -m pip install numpy"
   ]
  },
  {
   "cell_type": "code",
   "execution_count": 28,
   "id": "bridal-crown",
   "metadata": {
    "slideshow": {
     "slide_type": "-"
    }
   },
   "outputs": [],
   "source": [
    "import numpy as np"
   ]
  },
  {
   "cell_type": "markdown",
   "id": "studied-gamma",
   "metadata": {},
   "source": [
    "<p> What did the previous line do ? </p>"
   ]
  },
  {
   "cell_type": "code",
   "execution_count": 29,
   "id": "spiritual-questionnaire",
   "metadata": {},
   "outputs": [
    {
     "data": {
      "text/plain": [
       "2"
      ]
     },
     "execution_count": 29,
     "metadata": {},
     "output_type": "execute_result"
    }
   ],
   "source": [
    "np.random.randint(1,6)"
   ]
  },
  {
   "cell_type": "markdown",
   "id": "electrical-triple",
   "metadata": {},
   "source": [
    "Why is the **np.random** bit needed in the above example ? Is there a way making this simpler to use ? "
   ]
  },
  {
   "cell_type": "code",
   "execution_count": null,
   "id": "aerial-horizon",
   "metadata": {},
   "outputs": [],
   "source": [
    "target = 100\n",
    "A_wins = 0\n",
    "B_wins = 0\n",
    "for round in range(1000) :\n",
    "    Sa1 = 0\n",
    "    Sa2 = 0\n",
    "    St1 = 0\n",
    "    St2 = 0\n",
    " \n",
    "    while(Sa1 < 100 and Sa2 < 100) :\n",
    "        St1 = 0\n",
    "        while threshold10(Sa1,St1,Sa2,True,target) :\n",
    "            roll = np.random.randint(1,6)\n",
    "            if roll == 1 :\n",
    "                St1 = 0\n",
    "                break\n",
    "            St1 = St1 + roll\n",
    "            Sa1 = Sa1 + St1\n",
    "        if Sa1 >= 100 :\n",
    "            A_wins = A_wins + 1\n",
    "            break\n",
    "        St2 = 0\n",
    "        while threshold6(Sa2,St2,Sa1,False,target) :\n",
    "            roll = np.random.randint(1,6)\n",
    "            if roll == 1 :\n",
    "                St2 = 0\n",
    "                break\n",
    "            St2 = St2 + roll\n",
    "            Sa2 = Sa2 + St2\n",
    "        if Sa2 >= 100 :\n",
    "            B_wins = B_wins + 1\n",
    "            break\n",
    "\n",
    "print(A_wins,B_wins)"
   ]
  },
  {
   "cell_type": "markdown",
   "id": "suspended-sending",
   "metadata": {},
   "source": [
    "Does which player goes first make a difference ? "
   ]
  },
  {
   "cell_type": "markdown",
   "id": "psychological-parts",
   "metadata": {},
   "source": [
    "What effect does changing the threshold have ?"
   ]
  },
  {
   "cell_type": "markdown",
   "id": "atmospheric-scholar",
   "metadata": {},
   "source": [
    "What is the best choice parameter for the threshold strategy ?"
   ]
  },
  {
   "cell_type": "markdown",
   "id": "previous-government",
   "metadata": {},
   "source": [
    "Does the best choice of parameter depend on the target score ?"
   ]
  },
  {
   "cell_type": "markdown",
   "id": "together-notice",
   "metadata": {},
   "source": [
    "Is your code good enough to answer these questions ? Do you think the code needs \n",
    "refactoring / changing in anyway ? If so, in what ways could this be done ?"
   ]
  }
 ],
 "metadata": {
  "kernelspec": {
   "display_name": "Python 3 (ipykernel)",
   "language": "python",
   "name": "python3"
  },
  "language_info": {
   "codemirror_mode": {
    "name": "ipython",
    "version": 3
   },
   "file_extension": ".py",
   "mimetype": "text/x-python",
   "name": "python",
   "nbconvert_exporter": "python",
   "pygments_lexer": "ipython3",
   "version": "3.9.9"
  }
 },
 "nbformat": 4,
 "nbformat_minor": 5
}
