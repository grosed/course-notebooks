{
 "cells": [
  {
   "cell_type": "markdown",
   "id": "brazilian-receiver",
   "metadata": {},
   "source": [
    "## Some ideas from functional programming"
   ]
  },
  {
   "cell_type": "code",
   "execution_count": null,
   "id": "reasonable-orlando",
   "metadata": {},
   "outputs": [],
   "source": []
  },
  {
   "cell_type": "markdown",
   "id": "technical-saskatchewan",
   "metadata": {},
   "source": [
    "### Higher Order Programming"
   ]
  },
  {
   "cell_type": "markdown",
   "id": "spatial-saver",
   "metadata": {},
   "source": [
    "#### ..., or, \"_functions are data_\""
   ]
  },
  {
   "cell_type": "markdown",
   "id": "meaningful-updating",
   "metadata": {},
   "source": [
    "Some functions ..."
   ]
  },
  {
   "cell_type": "code",
   "execution_count": 1,
   "id": "adjusted-telescope",
   "metadata": {},
   "outputs": [],
   "source": [
    "def f(x) :\n",
    "    return 2*x\n",
    "\n",
    "def g(x) :\n",
    "    return x**3\n"
   ]
  },
  {
   "cell_type": "markdown",
   "id": "together-auckland",
   "metadata": {},
   "source": [
    "*How would you compose these functions together* ? "
   ]
  },
  {
   "cell_type": "markdown",
   "id": "blessed-vancouver",
   "metadata": {},
   "source": [
    "Maybe like this ..."
   ]
  },
  {
   "cell_type": "code",
   "execution_count": 2,
   "id": "numerical-cause",
   "metadata": {},
   "outputs": [
    {
     "data": {
      "text/plain": [
       "54"
      ]
     },
     "execution_count": 2,
     "metadata": {},
     "output_type": "execute_result"
    }
   ],
   "source": [
    "x = 3\n",
    "f(g(x))"
   ]
  },
  {
   "cell_type": "markdown",
   "id": "focal-matthew",
   "metadata": {},
   "source": [
    "Hang on though - isn't the composition of two functions just another function (i.e not a value) ?"
   ]
  },
  {
   "cell_type": "code",
   "execution_count": 3,
   "id": "peripheral-authentication",
   "metadata": {},
   "outputs": [],
   "source": [
    "def compose(f,g) :\n",
    "    def h(x) :\n",
    "        return(f(g(x)))\n",
    "    return(h)\n",
    "\n",
    "    "
   ]
  },
  {
   "cell_type": "code",
   "execution_count": 4,
   "id": "coastal-interest",
   "metadata": {},
   "outputs": [
    {
     "data": {
      "text/plain": [
       "54"
      ]
     },
     "execution_count": 4,
     "metadata": {},
     "output_type": "execute_result"
    }
   ],
   "source": [
    "fg = compose(f,g) # fg is a function\n",
    "fg(x)"
   ]
  },
  {
   "cell_type": "markdown",
   "id": "altered-warehouse",
   "metadata": {},
   "source": [
    "_Can you explain in a few sentences what the **compose** function above does, and also how it does it ?_"
   ]
  },
  {
   "cell_type": "markdown",
   "id": "catholic-toner",
   "metadata": {},
   "source": [
    "\n",
    "The **compose** function exploits the following basic features of a functional programming\n",
    "\n",
    "1. Functions can be passed to functions and returned from functions\n",
    "2. Functions can be created inside other functions (**closures**)\n",
    "\n",
    "It takes two functions, f and g, as arguments and uses these to create a new function, h, which takes a single \n",
    "argument, x, and returns f(g(x)). The function h is returned by the compose function. Note that this new function\n",
    "h stores (or \"remembers\") the functions f ang for when thay are needed.\n",
    "\n",
    "Programming languages that allow functions to be created, assigned, and moved around a program in the same way as \n",
    "data is are often referred to  as **higher order** programming languages. Some other examples of **higher order** \n",
    "programming langues are\n",
    "\n",
    "1. R\n",
    "2. Haskell\n",
    "3. C++\n",
    "4. Lisp\n",
    "5. Perl\n",
    "6. Java\n",
    "7. Scala\n",
    "8. Perl\n",
    "9. PHP\n",
    "10. Clojure\n",
    "11. Prolog\n",
    "12. Julia\n"
   ]
  },
  {
   "cell_type": "markdown",
   "id": "fourth-railway",
   "metadata": {},
   "source": [
    "```{note}\n",
    ":class: dropdown\n",
    "The note body will be hidden!\n",
    "```"
   ]
  },
  {
   "cell_type": "markdown",
   "id": "fifty-cause",
   "metadata": {},
   "source": [
    "### Map, Filter, Reduce, Lambdas."
   ]
  },
  {
   "cell_type": "markdown",
   "id": "legitimate-adult",
   "metadata": {},
   "source": [
    "Python comes with some useful functional programming tools "
   ]
  },
  {
   "cell_type": "code",
   "execution_count": 5,
   "id": "damaged-paris",
   "metadata": {
    "jupyter": {
     "source_hidden": true
    }
   },
   "outputs": [
    {
     "data": {
      "text/plain": [
       "[0.8414709848078965, 0.9092974268256817, 0.1411200080598672]"
      ]
     },
     "execution_count": 5,
     "metadata": {},
     "output_type": "execute_result"
    }
   ],
   "source": [
    "from math import sin\n",
    "list(map(sin,[1,2,3]))\n"
   ]
  },
  {
   "cell_type": "markdown",
   "id": "interior-italian",
   "metadata": {},
   "source": [
    "_Can you explain what **map** does ? Why is the **list** function used here ? Does the **map** concept extend to functions with more than one argument ? Can you provide an example of this ? How would you add two lists together using **map** ?_"
   ]
  },
  {
   "cell_type": "markdown",
   "id": "surprised-muslim",
   "metadata": {},
   "source": [
    "Python provides a convenient means of creating one line functions, called lambdas ..."
   ]
  },
  {
   "cell_type": "code",
   "execution_count": 6,
   "id": "electric-digit",
   "metadata": {},
   "outputs": [
    {
     "data": {
      "text/plain": [
       "8"
      ]
     },
     "execution_count": 6,
     "metadata": {},
     "output_type": "execute_result"
    }
   ],
   "source": [
    "add = lambda x,y : x + y\n",
    "add(3,5)"
   ]
  },
  {
   "cell_type": "markdown",
   "id": "thirty-biography",
   "metadata": {},
   "source": [
    "... and they can be anonymous ..."
   ]
  },
  {
   "cell_type": "code",
   "execution_count": 7,
   "id": "mounted-brown",
   "metadata": {},
   "outputs": [
    {
     "data": {
      "text/plain": [
       "[5, 7, 9]"
      ]
     },
     "execution_count": 7,
     "metadata": {},
     "output_type": "execute_result"
    }
   ],
   "source": [
    "list(map(lambda x,y : x + y,[1,2,3],[4,5,6]))"
   ]
  },
  {
   "cell_type": "markdown",
   "id": "strategic-energy",
   "metadata": {},
   "source": [
    "... which, as the above example shows, means that they can be useful when used with map. They are also useful in \n",
    "conjunction with **filter**."
   ]
  },
  {
   "cell_type": "code",
   "execution_count": 8,
   "id": "respiratory-final",
   "metadata": {},
   "outputs": [
    {
     "data": {
      "text/plain": [
       "[3, 4, 6]"
      ]
     },
     "execution_count": 8,
     "metadata": {},
     "output_type": "execute_result"
    }
   ],
   "source": [
    "list(filter(lambda x : x > 2 and x != 5,[1,2,3,4,5,6]))"
   ]
  },
  {
   "cell_type": "markdown",
   "id": "iraqi-taylor",
   "metadata": {},
   "source": [
    "_Can you explain what **filter** does ?_"
   ]
  },
  {
   "cell_type": "markdown",
   "id": "secure-bones",
   "metadata": {},
   "source": [
    "A third method, **reduce**, is often used in conjunction with **map** and **filter**, but it comes in a seperate library."
   ]
  },
  {
   "cell_type": "code",
   "execution_count": 9,
   "id": "peripheral-gross",
   "metadata": {},
   "outputs": [],
   "source": [
    "from functools import reduce"
   ]
  },
  {
   "cell_type": "code",
   "execution_count": 10,
   "id": "existing-copying",
   "metadata": {},
   "outputs": [
    {
     "data": {
      "text/plain": [
       "720"
      ]
     },
     "execution_count": 10,
     "metadata": {},
     "output_type": "execute_result"
    }
   ],
   "source": [
    "reduce(lambda x,y : x*y,[1,2,3,4,5,6])"
   ]
  },
  {
   "cell_type": "markdown",
   "id": "clear-satisfaction",
   "metadata": {},
   "source": [
    "Here is a map like example implemented using a list comprehension"
   ]
  },
  {
   "cell_type": "code",
   "execution_count": 11,
   "id": "therapeutic-diploma",
   "metadata": {},
   "outputs": [
    {
     "data": {
      "text/plain": [
       "[0.8414709848078965, 0.9092974268256817, 0.1411200080598672]"
      ]
     },
     "execution_count": 11,
     "metadata": {},
     "output_type": "execute_result"
    }
   ],
   "source": [
    "[sin(x) for x in [1,2,3]]"
   ]
  },
  {
   "cell_type": "markdown",
   "id": "toxic-sentence",
   "metadata": {},
   "source": [
    "_How would you use a list comprehension to add the contents of two lists ?_"
   ]
  },
  {
   "cell_type": "code",
   "execution_count": 12,
   "id": "strange-madness",
   "metadata": {},
   "outputs": [
    {
     "data": {
      "text/plain": [
       "[5, 7, 9]"
      ]
     },
     "execution_count": 12,
     "metadata": {},
     "output_type": "execute_result"
    }
   ],
   "source": [
    "[x + y for x,y in zip([1,2,3],[4,5,6])]"
   ]
  },
  {
   "cell_type": "markdown",
   "id": "danish-departure",
   "metadata": {},
   "source": [
    "_Which do you prefer, a **map** or a list comprehension ? Why ?_ "
   ]
  },
  {
   "cell_type": "markdown",
   "id": "knowing-heaven",
   "metadata": {},
   "source": [
    "Back to **compose**. What if there are more then two functions to compose together ?"
   ]
  },
  {
   "cell_type": "code",
   "execution_count": 13,
   "id": "operating-sound",
   "metadata": {},
   "outputs": [],
   "source": [
    "def compose(*functions):\n",
    "    return reduce(lambda f, g: lambda x: f(g(x)), functions, lambda x: x)"
   ]
  },
  {
   "cell_type": "code",
   "execution_count": 14,
   "id": "suffering-sequence",
   "metadata": {},
   "outputs": [
    {
     "data": {
      "text/plain": [
       "-0.39828817883405304"
      ]
     },
     "execution_count": 14,
     "metadata": {},
     "output_type": "execute_result"
    }
   ],
   "source": [
    "from math import pi\n",
    "h = compose(sin,g,f)\n",
    "h(pi/2)"
   ]
  },
  {
   "cell_type": "markdown",
   "id": "preceding-championship",
   "metadata": {},
   "source": [
    "_Dose **compose** compose left to right or right to left ?_"
   ]
  },
  {
   "cell_type": "markdown",
   "id": "czech-conditioning",
   "metadata": {},
   "source": [
    "### Partial application, ... or binding, ... or Currying."
   ]
  },
  {
   "cell_type": "markdown",
   "id": "demanding-stake",
   "metadata": {},
   "source": [
    "<div class = figure>\n",
    "    <img src=\"./../images/haskell.jpg\" style=\"float:left\">\n",
    "    <img src=\"./../images/curry.jpeg\" width=\"500\">\n",
    "</div>"
   ]
  },
  {
   "cell_type": "markdown",
   "id": "bulgarian-auditor",
   "metadata": {},
   "source": [
    "_How would you compose the following function with **sin**, **g** and **f** when k = 5 ?_"
   ]
  },
  {
   "cell_type": "code",
   "execution_count": 15,
   "id": "critical-commander",
   "metadata": {},
   "outputs": [],
   "source": [
    "def pow(x,k=2) :\n",
    "    return(x**k)"
   ]
  },
  {
   "cell_type": "code",
   "execution_count": 16,
   "id": "incoming-ethernet",
   "metadata": {},
   "outputs": [],
   "source": [
    "from functools import partial"
   ]
  },
  {
   "cell_type": "code",
   "execution_count": 17,
   "id": "dense-semester",
   "metadata": {},
   "outputs": [
    {
     "data": {
      "text/plain": [
       "-0.2867462840181752"
      ]
     },
     "execution_count": 17,
     "metadata": {},
     "output_type": "execute_result"
    }
   ],
   "source": [
    "pow5 = partial(pow,k=5)\n",
    "h = compose(sin,g,f,pow5)\n",
    "h(pi/2)"
   ]
  },
  {
   "cell_type": "markdown",
   "id": "connected-poison",
   "metadata": {},
   "source": [
    "... or anomynously ..."
   ]
  },
  {
   "cell_type": "code",
   "execution_count": 18,
   "id": "adaptive-horse",
   "metadata": {},
   "outputs": [
    {
     "data": {
      "text/plain": [
       "-0.2867462840181752"
      ]
     },
     "execution_count": 18,
     "metadata": {},
     "output_type": "execute_result"
    }
   ],
   "source": [
    "h = compose(sin,g,f,partial(pow,k=5))\n",
    "h(pi/2)"
   ]
  },
  {
   "cell_type": "markdown",
   "id": "biblical-arthritis",
   "metadata": {},
   "source": [
    "### Some other useful functional programming paradigms.\n"
   ]
  },
  {
   "cell_type": "markdown",
   "id": "running-emphasis",
   "metadata": {},
   "source": [
    "**Pipes** provide another way of expressing function **composition**. One implementation is\n",
    "https://pypi.org/project/pipetools/"
   ]
  },
  {
   "cell_type": "code",
   "execution_count": 19,
   "id": "developed-exemption",
   "metadata": {},
   "outputs": [
    {
     "name": "stdout",
     "output_type": "stream",
     "text": [
      "Requirement already satisfied: pipetools in /home/grosedj/python-envs/further-python/env/lib/python3.9/site-packages (0.3.6)\n",
      "Requirement already satisfied: setuptools>=0.6b1 in /home/grosedj/python-envs/further-python/env/lib/python3.9/site-packages (from pipetools) (49.2.1)\n",
      "\u001b[33mWARNING: You are using pip version 20.2.3; however, version 21.0.1 is available.\n",
      "You should consider upgrading via the '/home/grosedj/python-envs/further-python/env/bin/python -m pip install --upgrade pip' command.\u001b[0m\n"
     ]
    }
   ],
   "source": [
    "!python -m pip install pipetools"
   ]
  },
  {
   "cell_type": "code",
   "execution_count": 20,
   "id": "necessary-shore",
   "metadata": {},
   "outputs": [
    {
     "data": {
      "text/plain": [
       "-0.39828817883405304"
      ]
     },
     "execution_count": 20,
     "metadata": {},
     "output_type": "execute_result"
    }
   ],
   "source": [
    "from pipetools import pipe\n",
    "h = pipe | f | g | sin\n",
    "h(pi/2)"
   ]
  },
  {
   "cell_type": "markdown",
   "id": "civilian-style",
   "metadata": {},
   "source": [
    "Notice the order in which the \"piped\" or \"composed\" functions are combined. **pipetools** also helps when currying and composition are used together. Notice how the **X** acts as a placeholder for the argument for **h**. Can you see how the brackets imply currying ?"
   ]
  },
  {
   "cell_type": "code",
   "execution_count": 21,
   "id": "artistic-taiwan",
   "metadata": {},
   "outputs": [
    {
     "data": {
      "text/plain": [
       "-0.2867462840181752"
      ]
     },
     "execution_count": 21,
     "metadata": {},
     "output_type": "execute_result"
    }
   ],
   "source": [
    "from pipetools import X\n",
    "h = pipe | (pow,X,5) | f | g | sin \n",
    "h(pi/2)"
   ]
  },
  {
   "cell_type": "markdown",
   "id": "ecological-emergency",
   "metadata": {},
   "source": [
    "However, you do not need the **X** if it is the first argument that is curried (bound, partially applied)."
   ]
  },
  {
   "cell_type": "code",
   "execution_count": 22,
   "id": "armed-bench",
   "metadata": {},
   "outputs": [
    {
     "data": {
      "text/plain": [
       "283"
      ]
     },
     "execution_count": 22,
     "metadata": {},
     "output_type": "execute_result"
    }
   ],
   "source": [
    "h = pipe | (map,pow) | (filter,lambda x : x > 4) | (reduce,lambda x,y : x+y)\n",
    "h([1,2,3,4],[1,2,3,4])"
   ]
  },
  {
   "cell_type": "markdown",
   "id": "rising-virtue",
   "metadata": {},
   "source": [
    "_Does the use of pipetools change your preference between list comprehensions and **map**, **reduce**, and \n",
    "**filter** ?_"
   ]
  },
  {
   "cell_type": "markdown",
   "id": "african-natural",
   "metadata": {},
   "source": [
    "## Summary\n",
    "\n",
    "Python supports **Higher Order Programming** which means that\n",
    "\n",
    "1. Functions can be passed to functions and returned from functions\n",
    "2. Functions can be created inside other functions (**closures**)\n",
    "3. Simple functions can be created using **lambdas** which can also be anonymous\n",
    "\n",
    "These features can be used to provide \n",
    "\n",
    "1. Composition\n",
    "2. Currying (or binding, or partial application)\n",
    "3. Pipes\n",
    "\n",
    "Python also provides \n",
    "1. **map**\n",
    "2. **filter**\n",
    "3. **reduce**\n",
    "\n",
    "These are particular useful when used in conjunction with **composition**, **pipes** and **currying**\n",
    "\n",
    "A functional programming style, when used well, can result in ...\n",
    "1. Less code\n",
    "2. Code that is easier to read\n",
    "3. Code that communicates its intent\n",
    "4. Code that \"looks like the algorithm\"\n",
    "\n",
    ".. which, in turn, can help in achieving \n",
    "\n",
    "1. _**Replicability**_\n",
    "2. _**Reproducability**_\n",
    "3. _**Repeatability**_\n",
    "4. _**Re-usability**_\n",
    "5. _**Re-runability**_"
   ]
  },
  {
   "cell_type": "code",
   "execution_count": 23,
   "id": "opened-being",
   "metadata": {},
   "outputs": [
    {
     "name": "stdout",
     "output_type": "stream",
     "text": [
      "\u001b[32m[I 11:01:04 InstallContribNbextensionsApp]\u001b[m jupyter contrib nbextension install --user\n",
      "\u001b[32m[I 11:01:04 InstallContribNbextensionsApp]\u001b[m Installing jupyter_contrib_nbextensions nbextension files to jupyter data directory\n",
      "\u001b[32m[I 11:01:04 InstallContribNbextensionsApp]\u001b[m Installing /home/grosedj/python-envs/further-python/env/lib/python3.9/site-packages/jupyter_contrib_nbextensions/nbextensions/python-markdown -> python-markdown\n",
      "\u001b[32m[I 11:01:04 InstallContribNbextensionsApp]\u001b[m Up to date: /home/grosedj/.local/share/jupyter/nbextensions/python-markdown/untrusted.png\n",
      "\u001b[32m[I 11:01:04 InstallContribNbextensionsApp]\u001b[m Up to date: /home/grosedj/.local/share/jupyter/nbextensions/python-markdown/readme.md\n",
      "\u001b[32m[I 11:01:04 InstallContribNbextensionsApp]\u001b[m Up to date: /home/grosedj/.local/share/jupyter/nbextensions/python-markdown/python-markdown-post.png\n",
      "\u001b[32m[I 11:01:04 InstallContribNbextensionsApp]\u001b[m Up to date: /home/grosedj/.local/share/jupyter/nbextensions/python-markdown/python-markdown.png\n",
      "\u001b[32m[I 11:01:04 InstallContribNbextensionsApp]\u001b[m Up to date: /home/grosedj/.local/share/jupyter/nbextensions/python-markdown/python-markdown-pre.png\n",
      "\u001b[32m[I 11:01:04 InstallContribNbextensionsApp]\u001b[m Up to date: /home/grosedj/.local/share/jupyter/nbextensions/python-markdown/trusted.png\n",
      "\u001b[32m[I 11:01:04 InstallContribNbextensionsApp]\u001b[m Up to date: /home/grosedj/.local/share/jupyter/nbextensions/python-markdown/main.css\n",
      "\u001b[32m[I 11:01:04 InstallContribNbextensionsApp]\u001b[m Up to date: /home/grosedj/.local/share/jupyter/nbextensions/python-markdown/main.js\n",
      "\u001b[32m[I 11:01:04 InstallContribNbextensionsApp]\u001b[m Up to date: /home/grosedj/.local/share/jupyter/nbextensions/python-markdown/python-markdown.yaml\n",
      "\u001b[32m[I 11:01:04 InstallContribNbextensionsApp]\u001b[m - Validating: \u001b[32mOK\u001b[0m\n",
      "\u001b[32m[I 11:01:04 InstallContribNbextensionsApp]\u001b[m Installing /home/grosedj/python-envs/further-python/env/lib/python3.9/site-packages/jupyter_contrib_nbextensions/nbextensions/nbTranslate -> nbTranslate\n",
      "\u001b[32m[I 11:01:04 InstallContribNbextensionsApp]\u001b[m Up to date: /home/grosedj/.local/share/jupyter/nbextensions/nbTranslate/demo1.gif\n",
      "\u001b[32m[I 11:01:04 InstallContribNbextensionsApp]\u001b[m Up to date: /home/grosedj/.local/share/jupyter/nbextensions/nbTranslate/mutils.js\n",
      "\u001b[32m[I 11:01:04 InstallContribNbextensionsApp]\u001b[m Up to date: /home/grosedj/.local/share/jupyter/nbextensions/nbTranslate/languages.js\n",
      "\u001b[32m[I 11:01:04 InstallContribNbextensionsApp]\u001b[m Up to date: /home/grosedj/.local/share/jupyter/nbextensions/nbTranslate/demo2.gif\n",
      "\u001b[32m[I 11:01:04 InstallContribNbextensionsApp]\u001b[m Up to date: /home/grosedj/.local/share/jupyter/nbextensions/nbTranslate/nbTranslate.yaml\n",
      "\u001b[32m[I 11:01:04 InstallContribNbextensionsApp]\u001b[m Up to date: /home/grosedj/.local/share/jupyter/nbextensions/nbTranslate/README.md\n",
      "\u001b[32m[I 11:01:04 InstallContribNbextensionsApp]\u001b[m Up to date: /home/grosedj/.local/share/jupyter/nbextensions/nbTranslate/main.js\n",
      "\u001b[32m[I 11:01:04 InstallContribNbextensionsApp]\u001b[m Up to date: /home/grosedj/.local/share/jupyter/nbextensions/nbTranslate/nbTranslate.js\n",
      "\u001b[32m[I 11:01:04 InstallContribNbextensionsApp]\u001b[m - Validating: \u001b[32mOK\u001b[0m\n",
      "\u001b[32m[I 11:01:04 InstallContribNbextensionsApp]\u001b[m Installing /home/grosedj/python-envs/further-python/env/lib/python3.9/site-packages/jupyter_contrib_nbextensions/nbextensions/notify -> notify\n",
      "\u001b[32m[I 11:01:04 InstallContribNbextensionsApp]\u001b[m Up to date: /home/grosedj/.local/share/jupyter/nbextensions/notify/readme.md\n",
      "\u001b[32m[I 11:01:04 InstallContribNbextensionsApp]\u001b[m Up to date: /home/grosedj/.local/share/jupyter/nbextensions/notify/notify.mp3\n",
      "\u001b[32m[I 11:01:04 InstallContribNbextensionsApp]\u001b[m Up to date: /home/grosedj/.local/share/jupyter/nbextensions/notify/notify.yaml\n",
      "\u001b[32m[I 11:01:04 InstallContribNbextensionsApp]\u001b[m Up to date: /home/grosedj/.local/share/jupyter/nbextensions/notify/notify.js\n",
      "\u001b[32m[I 11:01:04 InstallContribNbextensionsApp]\u001b[m Up to date: /home/grosedj/.local/share/jupyter/nbextensions/notify/notification.png\n",
      "\u001b[32m[I 11:01:04 InstallContribNbextensionsApp]\u001b[m - Validating: \u001b[32mOK\u001b[0m\n",
      "\u001b[32m[I 11:01:04 InstallContribNbextensionsApp]\u001b[m Installing /home/grosedj/python-envs/further-python/env/lib/python3.9/site-packages/jupyter_contrib_nbextensions/nbextensions/table_beautifier -> table_beautifier\n",
      "\u001b[32m[I 11:01:04 InstallContribNbextensionsApp]\u001b[m Up to date: /home/grosedj/.local/share/jupyter/nbextensions/table_beautifier/table_beautifier.yaml\n",
      "\u001b[32m[I 11:01:04 InstallContribNbextensionsApp]\u001b[m Up to date: /home/grosedj/.local/share/jupyter/nbextensions/table_beautifier/README.md\n",
      "\u001b[32m[I 11:01:04 InstallContribNbextensionsApp]\u001b[m Up to date: /home/grosedj/.local/share/jupyter/nbextensions/table_beautifier/main.css\n",
      "\u001b[32m[I 11:01:04 InstallContribNbextensionsApp]\u001b[m Up to date: /home/grosedj/.local/share/jupyter/nbextensions/table_beautifier/main.js\n",
      "\u001b[32m[I 11:01:04 InstallContribNbextensionsApp]\u001b[m - Validating: \u001b[32mOK\u001b[0m\n",
      "\u001b[32m[I 11:01:04 InstallContribNbextensionsApp]\u001b[m Installing /home/grosedj/python-envs/further-python/env/lib/python3.9/site-packages/jupyter_contrib_nbextensions/nbextensions/execution_dependencies -> execution_dependencies\n",
      "\u001b[32m[I 11:01:04 InstallContribNbextensionsApp]\u001b[m Up to date: /home/grosedj/.local/share/jupyter/nbextensions/execution_dependencies/execution_dependencies.js\n",
      "\u001b[32m[I 11:01:04 InstallContribNbextensionsApp]\u001b[m Up to date: /home/grosedj/.local/share/jupyter/nbextensions/execution_dependencies/README.md\n",
      "\u001b[32m[I 11:01:04 InstallContribNbextensionsApp]\u001b[m Up to date: /home/grosedj/.local/share/jupyter/nbextensions/execution_dependencies/execution_dependencies.yml\n",
      "\u001b[32m[I 11:01:04 InstallContribNbextensionsApp]\u001b[m - Validating: \u001b[32mOK\u001b[0m\n",
      "\u001b[32m[I 11:01:04 InstallContribNbextensionsApp]\u001b[m Installing /home/grosedj/python-envs/further-python/env/lib/python3.9/site-packages/jupyter_contrib_nbextensions/nbextensions/qtconsole -> qtconsole\n",
      "\u001b[32m[I 11:01:04 InstallContribNbextensionsApp]\u001b[m Up to date: /home/grosedj/.local/share/jupyter/nbextensions/qtconsole/qtconsole.yaml\n",
      "\u001b[32m[I 11:01:04 InstallContribNbextensionsApp]\u001b[m Up to date: /home/grosedj/.local/share/jupyter/nbextensions/qtconsole/README.md\n",
      "\u001b[32m[I 11:01:04 InstallContribNbextensionsApp]\u001b[m Up to date: /home/grosedj/.local/share/jupyter/nbextensions/qtconsole/qtconsole.js\n",
      "\u001b[32m[I 11:01:04 InstallContribNbextensionsApp]\u001b[m - Validating: \u001b[32mOK\u001b[0m\n",
      "\u001b[32m[I 11:01:04 InstallContribNbextensionsApp]\u001b[m Installing /home/grosedj/python-envs/further-python/env/lib/python3.9/site-packages/jupyter_contrib_nbextensions/nbextensions/autoscroll -> autoscroll\n",
      "\u001b[32m[I 11:01:04 InstallContribNbextensionsApp]\u001b[m Up to date: /home/grosedj/.local/share/jupyter/nbextensions/autoscroll/autoscroll.yaml\n",
      "\u001b[32m[I 11:01:04 InstallContribNbextensionsApp]\u001b[m Up to date: /home/grosedj/.local/share/jupyter/nbextensions/autoscroll/README.md\n",
      "\u001b[32m[I 11:01:04 InstallContribNbextensionsApp]\u001b[m Up to date: /home/grosedj/.local/share/jupyter/nbextensions/autoscroll/icon.png\n",
      "\u001b[32m[I 11:01:04 InstallContribNbextensionsApp]\u001b[m Up to date: /home/grosedj/.local/share/jupyter/nbextensions/autoscroll/main.js\n",
      "\u001b[32m[I 11:01:04 InstallContribNbextensionsApp]\u001b[m - Validating: \u001b[32mOK\u001b[0m\n",
      "\u001b[32m[I 11:01:04 InstallContribNbextensionsApp]\u001b[m Installing /home/grosedj/python-envs/further-python/env/lib/python3.9/site-packages/jupyter_contrib_nbextensions/nbextensions/keyboard_shortcut_editor -> keyboard_shortcut_editor\n",
      "\u001b[32m[I 11:01:04 InstallContribNbextensionsApp]\u001b[m Up to date: /home/grosedj/.local/share/jupyter/nbextensions/keyboard_shortcut_editor/keyboard_shortcut_editor.yaml\n",
      "\u001b[32m[I 11:01:04 InstallContribNbextensionsApp]\u001b[m Up to date: /home/grosedj/.local/share/jupyter/nbextensions/keyboard_shortcut_editor/readme_dropdown.png\n",
      "\u001b[32m[I 11:01:04 InstallContribNbextensionsApp]\u001b[m Up to date: /home/grosedj/.local/share/jupyter/nbextensions/keyboard_shortcut_editor/readme_menu_item.png\n",
      "\u001b[32m[I 11:01:04 InstallContribNbextensionsApp]\u001b[m Up to date: /home/grosedj/.local/share/jupyter/nbextensions/keyboard_shortcut_editor/readme_undefined_key.png\n",
      "\u001b[32m[I 11:01:04 InstallContribNbextensionsApp]\u001b[m Up to date: /home/grosedj/.local/share/jupyter/nbextensions/keyboard_shortcut_editor/readme_shortcut_editor_success.png\n",
      "\u001b[32m[I 11:01:04 InstallContribNbextensionsApp]\u001b[m Up to date: /home/grosedj/.local/share/jupyter/nbextensions/keyboard_shortcut_editor/readme_shortcut_editor_blank.png\n",
      "\u001b[32m[I 11:01:04 InstallContribNbextensionsApp]\u001b[m Up to date: /home/grosedj/.local/share/jupyter/nbextensions/keyboard_shortcut_editor/readme_comma.png\n",
      "\u001b[32m[I 11:01:04 InstallContribNbextensionsApp]\u001b[m Up to date: /home/grosedj/.local/share/jupyter/nbextensions/keyboard_shortcut_editor/kse_components.js\n",
      "\u001b[32m[I 11:01:04 InstallContribNbextensionsApp]\u001b[m Up to date: /home/grosedj/.local/share/jupyter/nbextensions/keyboard_shortcut_editor/README.md\n",
      "\u001b[32m[I 11:01:04 InstallContribNbextensionsApp]\u001b[m Up to date: /home/grosedj/.local/share/jupyter/nbextensions/keyboard_shortcut_editor/icon.png\n",
      "\u001b[32m[I 11:01:04 InstallContribNbextensionsApp]\u001b[m Up to date: /home/grosedj/.local/share/jupyter/nbextensions/keyboard_shortcut_editor/readme_reset_disabled.png\n",
      "\u001b[32m[I 11:01:04 InstallContribNbextensionsApp]\u001b[m Up to date: /home/grosedj/.local/share/jupyter/nbextensions/keyboard_shortcut_editor/main.css\n",
      "\u001b[32m[I 11:01:04 InstallContribNbextensionsApp]\u001b[m Up to date: /home/grosedj/.local/share/jupyter/nbextensions/keyboard_shortcut_editor/main.js\n",
      "\u001b[32m[I 11:01:04 InstallContribNbextensionsApp]\u001b[m Up to date: /home/grosedj/.local/share/jupyter/nbextensions/keyboard_shortcut_editor/readme_conflict.png\n",
      "\u001b[32m[I 11:01:04 InstallContribNbextensionsApp]\u001b[m Up to date: /home/grosedj/.local/share/jupyter/nbextensions/keyboard_shortcut_editor/quickhelp_shim.js\n",
      "\u001b[32m[I 11:01:04 InstallContribNbextensionsApp]\u001b[m Up to date: /home/grosedj/.local/share/jupyter/nbextensions/keyboard_shortcut_editor/readme_add_new_link.png\n",
      "\u001b[32m[I 11:01:04 InstallContribNbextensionsApp]\u001b[m Up to date: /home/grosedj/.local/share/jupyter/nbextensions/keyboard_shortcut_editor/readme_add_new_select_action.png\n",
      "\u001b[32m[I 11:01:04 InstallContribNbextensionsApp]\u001b[m - Validating: \u001b[32mOK\u001b[0m\n",
      "\u001b[32m[I 11:01:04 InstallContribNbextensionsApp]\u001b[m Installing /home/grosedj/python-envs/further-python/env/lib/python3.9/site-packages/jupyter_contrib_nbextensions/nbextensions/hide_input_all -> hide_input_all\n",
      "\u001b[32m[I 11:01:04 InstallContribNbextensionsApp]\u001b[m Up to date: /home/grosedj/.local/share/jupyter/nbextensions/hide_input_all/readme.md\n",
      "\u001b[32m[I 11:01:04 InstallContribNbextensionsApp]\u001b[m Up to date: /home/grosedj/.local/share/jupyter/nbextensions/hide_input_all/hide_input_all_show.png\n",
      "\u001b[32m[I 11:01:04 InstallContribNbextensionsApp]\u001b[m Up to date: /home/grosedj/.local/share/jupyter/nbextensions/hide_input_all/hide_input_all_hide.png\n",
      "\u001b[32m[I 11:01:04 InstallContribNbextensionsApp]\u001b[m Up to date: /home/grosedj/.local/share/jupyter/nbextensions/hide_input_all/icon.png\n",
      "\u001b[32m[I 11:01:04 InstallContribNbextensionsApp]\u001b[m Up to date: /home/grosedj/.local/share/jupyter/nbextensions/hide_input_all/main.js\n",
      "\u001b[32m[I 11:01:04 InstallContribNbextensionsApp]\u001b[m Up to date: /home/grosedj/.local/share/jupyter/nbextensions/hide_input_all/hide_input_all.yaml\n",
      "\u001b[32m[I 11:01:04 InstallContribNbextensionsApp]\u001b[m - Validating: \u001b[32mOK\u001b[0m\n",
      "\u001b[32m[I 11:01:04 InstallContribNbextensionsApp]\u001b[m Installing /home/grosedj/python-envs/further-python/env/lib/python3.9/site-packages/jupyter_contrib_nbextensions/nbextensions/select_keymap -> select_keymap\n",
      "\u001b[32m[I 11:01:04 InstallContribNbextensionsApp]\u001b[m Up to date: /home/grosedj/.local/share/jupyter/nbextensions/select_keymap/select_keymap.yaml\n",
      "\u001b[32m[I 11:01:04 InstallContribNbextensionsApp]\u001b[m Up to date: /home/grosedj/.local/share/jupyter/nbextensions/select_keymap/select_keymap.png\n",
      "\u001b[32m[I 11:01:04 InstallContribNbextensionsApp]\u001b[m Up to date: /home/grosedj/.local/share/jupyter/nbextensions/select_keymap/README.md\n",
      "\u001b[32m[I 11:01:04 InstallContribNbextensionsApp]\u001b[m Up to date: /home/grosedj/.local/share/jupyter/nbextensions/select_keymap/main.js\n",
      "\u001b[32m[I 11:01:04 InstallContribNbextensionsApp]\u001b[m - Validating: \u001b[32mOK\u001b[0m\n",
      "\u001b[32m[I 11:01:04 InstallContribNbextensionsApp]\u001b[m Installing /home/grosedj/python-envs/further-python/env/lib/python3.9/site-packages/jupyter_contrib_nbextensions/nbextensions/zenmode -> zenmode\n",
      "\u001b[32m[I 11:01:04 InstallContribNbextensionsApp]\u001b[m Up to date: /home/grosedj/.local/share/jupyter/nbextensions/zenmode/zenmode.yaml\n",
      "\u001b[32m[I 11:01:04 InstallContribNbextensionsApp]\u001b[m Up to date: /home/grosedj/.local/share/jupyter/nbextensions/zenmode/README.md\n",
      "\u001b[32m[I 11:01:04 InstallContribNbextensionsApp]\u001b[m Up to date: /home/grosedj/.local/share/jupyter/nbextensions/zenmode/main.css\n",
      "\u001b[32m[I 11:01:04 InstallContribNbextensionsApp]\u001b[m Up to date: /home/grosedj/.local/share/jupyter/nbextensions/zenmode/main.js\n",
      "\u001b[32m[I 11:01:04 InstallContribNbextensionsApp]\u001b[m Up to date: /home/grosedj/.local/share/jupyter/nbextensions/zenmode/images/back3.jpg\n"
     ]
    },
    {
     "name": "stdout",
     "output_type": "stream",
     "text": [
      "\u001b[32m[I 11:01:04 InstallContribNbextensionsApp]\u001b[m Up to date: /home/grosedj/.local/share/jupyter/nbextensions/zenmode/images/back21.jpg\r\n",
      "\u001b[32m[I 11:01:04 InstallContribNbextensionsApp]\u001b[m Up to date: /home/grosedj/.local/share/jupyter/nbextensions/zenmode/images/back12.jpg\r\n",
      "\u001b[32m[I 11:01:04 InstallContribNbextensionsApp]\u001b[m Up to date: /home/grosedj/.local/share/jupyter/nbextensions/zenmode/images/back2.jpg\r\n",
      "\u001b[32m[I 11:01:04 InstallContribNbextensionsApp]\u001b[m Up to date: /home/grosedj/.local/share/jupyter/nbextensions/zenmode/images/back11.jpg\r\n",
      "\u001b[32m[I 11:01:04 InstallContribNbextensionsApp]\u001b[m Up to date: /home/grosedj/.local/share/jupyter/nbextensions/zenmode/images/ipynblogo1.png\r\n",
      "\u001b[32m[I 11:01:04 InstallContribNbextensionsApp]\u001b[m Up to date: /home/grosedj/.local/share/jupyter/nbextensions/zenmode/images/back22.jpg\r\n",
      "\u001b[32m[I 11:01:04 InstallContribNbextensionsApp]\u001b[m Up to date: /home/grosedj/.local/share/jupyter/nbextensions/zenmode/images/ipynblogo0.png\r\n",
      "\u001b[32m[I 11:01:04 InstallContribNbextensionsApp]\u001b[m Up to date: /home/grosedj/.local/share/jupyter/nbextensions/zenmode/images/back1.jpg\r\n",
      "\u001b[32m[I 11:01:04 InstallContribNbextensionsApp]\u001b[m - Validating: \u001b[32mOK\u001b[0m\r\n",
      "\u001b[32m[I 11:01:04 InstallContribNbextensionsApp]\u001b[m Installing /home/grosedj/python-envs/further-python/env/lib/python3.9/site-packages/jupyter_contrib_nbextensions/nbextensions/livemdpreview -> livemdpreview\r\n",
      "\u001b[32m[I 11:01:04 InstallContribNbextensionsApp]\u001b[m Up to date: /home/grosedj/.local/share/jupyter/nbextensions/livemdpreview/livemdpreview.yml\r\n",
      "\u001b[32m[I 11:01:04 InstallContribNbextensionsApp]\u001b[m Up to date: /home/grosedj/.local/share/jupyter/nbextensions/livemdpreview/livemdpreview.js\r\n",
      "\u001b[32m[I 11:01:04 InstallContribNbextensionsApp]\u001b[m - Validating: \u001b[32mOK\u001b[0m\r\n",
      "\u001b[32m[I 11:01:04 InstallContribNbextensionsApp]\u001b[m Installing /home/grosedj/python-envs/further-python/env/lib/python3.9/site-packages/jupyter_contrib_nbextensions/nbextensions/cell_filter -> cell_filter\r\n",
      "\u001b[32m[I 11:01:04 InstallContribNbextensionsApp]\u001b[m Up to date: /home/grosedj/.local/share/jupyter/nbextensions/cell_filter/cell_filter.yml\r\n",
      "\u001b[32m[I 11:01:04 InstallContribNbextensionsApp]\u001b[m Up to date: /home/grosedj/.local/share/jupyter/nbextensions/cell_filter/README.md\r\n",
      "\u001b[32m[I 11:01:04 InstallContribNbextensionsApp]\u001b[m Up to date: /home/grosedj/.local/share/jupyter/nbextensions/cell_filter/cell_filter.js\r\n",
      "\u001b[32m[I 11:01:04 InstallContribNbextensionsApp]\u001b[m - Validating: \u001b[32mOK\u001b[0m\r\n",
      "\u001b[32m[I 11:01:04 InstallContribNbextensionsApp]\u001b[m Installing /home/grosedj/python-envs/further-python/env/lib/python3.9/site-packages/jupyter_contrib_nbextensions/nbextensions/exercise -> exercise\r\n",
      "\u001b[32m[I 11:01:04 InstallContribNbextensionsApp]\u001b[m Up to date: /home/grosedj/.local/share/jupyter/nbextensions/exercise/readme.md\r\n",
      "\u001b[32m[I 11:01:04 InstallContribNbextensionsApp]\u001b[m Up to date: /home/grosedj/.local/share/jupyter/nbextensions/exercise/history.md\r\n",
      "\u001b[32m[I 11:01:04 InstallContribNbextensionsApp]\u001b[m Up to date: /home/grosedj/.local/share/jupyter/nbextensions/exercise/exercise.yaml\r\n",
      "\u001b[32m[I 11:01:04 InstallContribNbextensionsApp]\u001b[m Up to date: /home/grosedj/.local/share/jupyter/nbextensions/exercise/icon.png\r\n",
      "\u001b[32m[I 11:01:04 InstallContribNbextensionsApp]\u001b[m Up to date: /home/grosedj/.local/share/jupyter/nbextensions/exercise/main.css\r\n",
      "\u001b[32m[I 11:01:04 InstallContribNbextensionsApp]\u001b[m Up to date: /home/grosedj/.local/share/jupyter/nbextensions/exercise/main.js\r\n",
      "\u001b[32m[I 11:01:04 InstallContribNbextensionsApp]\u001b[m Up to date: /home/grosedj/.local/share/jupyter/nbextensions/exercise/image.gif\r\n",
      "\u001b[32m[I 11:01:04 InstallContribNbextensionsApp]\u001b[m - Validating: \u001b[32mOK\u001b[0m\r\n",
      "\u001b[32m[I 11:01:04 InstallContribNbextensionsApp]\u001b[m Installing /home/grosedj/python-envs/further-python/env/lib/python3.9/site-packages/jupyter_contrib_nbextensions/nbextensions/tree-filter -> tree-filter\r\n",
      "\u001b[32m[I 11:01:04 InstallContribNbextensionsApp]\u001b[m Up to date: /home/grosedj/.local/share/jupyter/nbextensions/tree-filter/index.js\r\n",
      "\u001b[32m[I 11:01:04 InstallContribNbextensionsApp]\u001b[m Up to date: /home/grosedj/.local/share/jupyter/nbextensions/tree-filter/readme.md\r\n",
      "\u001b[32m[I 11:01:04 InstallContribNbextensionsApp]\u001b[m Up to date: /home/grosedj/.local/share/jupyter/nbextensions/tree-filter/demo.gif\r\n",
      "\u001b[32m[I 11:01:04 InstallContribNbextensionsApp]\u001b[m Up to date: /home/grosedj/.local/share/jupyter/nbextensions/tree-filter/tree-filter.yaml\r\n",
      "\u001b[32m[I 11:01:04 InstallContribNbextensionsApp]\u001b[m - Validating: \u001b[32mOK\u001b[0m\r\n",
      "\u001b[32m[I 11:01:04 InstallContribNbextensionsApp]\u001b[m Installing /home/grosedj/python-envs/further-python/env/lib/python3.9/site-packages/jupyter_contrib_nbextensions/nbextensions/ruler -> ruler\r\n",
      "\u001b[32m[I 11:01:04 InstallContribNbextensionsApp]\u001b[m Up to date: /home/grosedj/.local/share/jupyter/nbextensions/ruler/ruler.yaml\r\n",
      "\u001b[32m[I 11:01:04 InstallContribNbextensionsApp]\u001b[m Up to date: /home/grosedj/.local/share/jupyter/nbextensions/ruler/readme.md\r\n",
      "\u001b[32m[I 11:01:04 InstallContribNbextensionsApp]\u001b[m Up to date: /home/grosedj/.local/share/jupyter/nbextensions/ruler/ruler_editor.yaml\r\n",
      "\u001b[32m[I 11:01:04 InstallContribNbextensionsApp]\u001b[m Up to date: /home/grosedj/.local/share/jupyter/nbextensions/ruler/edit.js\r\n",
      "\u001b[32m[I 11:01:04 InstallContribNbextensionsApp]\u001b[m Up to date: /home/grosedj/.local/share/jupyter/nbextensions/ruler/icon.png\r\n",
      "\u001b[32m[I 11:01:04 InstallContribNbextensionsApp]\u001b[m Up to date: /home/grosedj/.local/share/jupyter/nbextensions/ruler/main.js\r\n",
      "\u001b[32m[I 11:01:04 InstallContribNbextensionsApp]\u001b[m - Validating: \u001b[32mOK\u001b[0m\r\n",
      "\u001b[32m[I 11:01:04 InstallContribNbextensionsApp]\u001b[m Installing /home/grosedj/python-envs/further-python/env/lib/python3.9/site-packages/jupyter_contrib_nbextensions/nbextensions/ruler -> ruler\r\n",
      "\u001b[32m[I 11:01:04 InstallContribNbextensionsApp]\u001b[m Up to date: /home/grosedj/.local/share/jupyter/nbextensions/ruler/ruler.yaml\r\n",
      "\u001b[32m[I 11:01:04 InstallContribNbextensionsApp]\u001b[m Up to date: /home/grosedj/.local/share/jupyter/nbextensions/ruler/readme.md\r\n",
      "\u001b[32m[I 11:01:04 InstallContribNbextensionsApp]\u001b[m Up to date: /home/grosedj/.local/share/jupyter/nbextensions/ruler/ruler_editor.yaml\r\n",
      "\u001b[32m[I 11:01:04 InstallContribNbextensionsApp]\u001b[m Up to date: /home/grosedj/.local/share/jupyter/nbextensions/ruler/edit.js\r\n",
      "\u001b[32m[I 11:01:04 InstallContribNbextensionsApp]\u001b[m Up to date: /home/grosedj/.local/share/jupyter/nbextensions/ruler/icon.png\r\n",
      "\u001b[32m[I 11:01:04 InstallContribNbextensionsApp]\u001b[m Up to date: /home/grosedj/.local/share/jupyter/nbextensions/ruler/main.js\r\n",
      "\u001b[32m[I 11:01:04 InstallContribNbextensionsApp]\u001b[m - Validating: \u001b[32mOK\u001b[0m\r\n",
      "\u001b[32m[I 11:01:04 InstallContribNbextensionsApp]\u001b[m Installing /home/grosedj/python-envs/further-python/env/lib/python3.9/site-packages/jupyter_contrib_nbextensions/nbextensions/exercise2 -> exercise2\r\n",
      "\u001b[32m[I 11:01:04 InstallContribNbextensionsApp]\u001b[m Up to date: /home/grosedj/.local/share/jupyter/nbextensions/exercise2/readme.md\r\n",
      "\u001b[32m[I 11:01:04 InstallContribNbextensionsApp]\u001b[m Up to date: /home/grosedj/.local/share/jupyter/nbextensions/exercise2/exercise2.yaml\r\n",
      "\u001b[32m[I 11:01:04 InstallContribNbextensionsApp]\u001b[m Up to date: /home/grosedj/.local/share/jupyter/nbextensions/exercise2/icon.png\r\n",
      "\u001b[32m[I 11:01:04 InstallContribNbextensionsApp]\u001b[m Up to date: /home/grosedj/.local/share/jupyter/nbextensions/exercise2/main.css\r\n",
      "\u001b[32m[I 11:01:04 InstallContribNbextensionsApp]\u001b[m Up to date: /home/grosedj/.local/share/jupyter/nbextensions/exercise2/main.js\r\n",
      "\u001b[32m[I 11:01:04 InstallContribNbextensionsApp]\u001b[m Up to date: /home/grosedj/.local/share/jupyter/nbextensions/exercise2/image.gif\r\n",
      "\u001b[32m[I 11:01:04 InstallContribNbextensionsApp]\u001b[m - Validating: \u001b[32mOK\u001b[0m\r\n",
      "\u001b[32m[I 11:01:04 InstallContribNbextensionsApp]\u001b[m Installing /home/grosedj/python-envs/further-python/env/lib/python3.9/site-packages/jupyter_contrib_nbextensions/nbextensions/limit_output -> limit_output\r\n",
      "\u001b[32m[I 11:01:04 InstallContribNbextensionsApp]\u001b[m Up to date: /home/grosedj/.local/share/jupyter/nbextensions/limit_output/limit-output.yaml\r\n",
      "\u001b[32m[I 11:01:04 InstallContribNbextensionsApp]\u001b[m Up to date: /home/grosedj/.local/share/jupyter/nbextensions/limit_output/readme.md\r\n",
      "\u001b[32m[I 11:01:04 InstallContribNbextensionsApp]\u001b[m Up to date: /home/grosedj/.local/share/jupyter/nbextensions/limit_output/icon.png\r\n",
      "\u001b[32m[I 11:01:04 InstallContribNbextensionsApp]\u001b[m Up to date: /home/grosedj/.local/share/jupyter/nbextensions/limit_output/main.js\r\n",
      "\u001b[32m[I 11:01:04 InstallContribNbextensionsApp]\u001b[m - Validating: \u001b[32mOK\u001b[0m\r\n",
      "\u001b[32m[I 11:01:04 InstallContribNbextensionsApp]\u001b[m Installing /home/grosedj/python-envs/further-python/env/lib/python3.9/site-packages/jupyter_contrib_nbextensions/nbextensions/datestamper -> datestamper\r\n",
      "\u001b[32m[I 11:01:04 InstallContribNbextensionsApp]\u001b[m Up to date: /home/grosedj/.local/share/jupyter/nbextensions/datestamper/main.yaml\r\n",
      "\u001b[32m[I 11:01:04 InstallContribNbextensionsApp]\u001b[m Up to date: /home/grosedj/.local/share/jupyter/nbextensions/datestamper/readme.md\r\n",
      "\u001b[32m[I 11:01:04 InstallContribNbextensionsApp]\u001b[m Up to date: /home/grosedj/.local/share/jupyter/nbextensions/datestamper/icon.png\r\n",
      "\u001b[32m[I 11:01:04 InstallContribNbextensionsApp]\u001b[m Up to date: /home/grosedj/.local/share/jupyter/nbextensions/datestamper/main.js\r\n",
      "\u001b[32m[I 11:01:04 InstallContribNbextensionsApp]\u001b[m - Validating: \u001b[32mOK\u001b[0m\r\n",
      "\u001b[32m[I 11:01:04 InstallContribNbextensionsApp]\u001b[m Installing /home/grosedj/python-envs/further-python/env/lib/python3.9/site-packages/jupyter_contrib_nbextensions/nbextensions/codemirror_mode_extensions -> codemirror_mode_extensions\r\n",
      "\u001b[32m[I 11:01:04 InstallContribNbextensionsApp]\u001b[m Up to date: /home/grosedj/.local/share/jupyter/nbextensions/codemirror_mode_extensions/codemirror_mode_extensions.yaml\r\n",
      "\u001b[32m[I 11:01:04 InstallContribNbextensionsApp]\u001b[m Up to date: /home/grosedj/.local/share/jupyter/nbextensions/codemirror_mode_extensions/main.js\r\n",
      "\u001b[32m[I 11:01:04 InstallContribNbextensionsApp]\u001b[m - Validating: \u001b[32mOK\u001b[0m\r\n",
      "\u001b[32m[I 11:01:04 InstallContribNbextensionsApp]\u001b[m Installing /home/grosedj/python-envs/further-python/env/lib/python3.9/site-packages/jupyter_contrib_nbextensions/nbextensions/contrib_nbextensions_help_item -> contrib_nbextensions_help_item\r\n",
      "\u001b[32m[I 11:01:04 InstallContribNbextensionsApp]\u001b[m Up to date: /home/grosedj/.local/share/jupyter/nbextensions/contrib_nbextensions_help_item/contrib_nbextensions_help_item.yaml\r\n",
      "\u001b[32m[I 11:01:04 InstallContribNbextensionsApp]\u001b[m Up to date: /home/grosedj/.local/share/jupyter/nbextensions/contrib_nbextensions_help_item/README.md\r\n",
      "\u001b[32m[I 11:01:04 InstallContribNbextensionsApp]\u001b[m Up to date: /home/grosedj/.local/share/jupyter/nbextensions/contrib_nbextensions_help_item/main.js\r\n",
      "\u001b[32m[I 11:01:04 InstallContribNbextensionsApp]\u001b[m - Validating: \u001b[32mOK\u001b[0m\r\n",
      "\u001b[32m[I 11:01:04 InstallContribNbextensionsApp]\u001b[m Installing /home/grosedj/python-envs/further-python/env/lib/python3.9/site-packages/jupyter_contrib_nbextensions/nbextensions/snippets_menu -> snippets_menu\r\n",
      "\u001b[32m[I 11:01:04 InstallContribNbextensionsApp]\u001b[m Up to date: /home/grosedj/.local/share/jupyter/nbextensions/snippets_menu/readme.md\r\n",
      "\u001b[32m[I 11:01:04 InstallContribNbextensionsApp]\u001b[m Up to date: /home/grosedj/.local/share/jupyter/nbextensions/snippets_menu/examples_for_custom.js\r\n",
      "\u001b[32m[I 11:01:04 InstallContribNbextensionsApp]\u001b[m Up to date: /home/grosedj/.local/share/jupyter/nbextensions/snippets_menu/snippets_submenu_python.js\r\n",
      "\u001b[32m[I 11:01:04 InstallContribNbextensionsApp]\u001b[m Up to date: /home/grosedj/.local/share/jupyter/nbextensions/snippets_menu/thumbnail.png\r\n",
      "\u001b[32m[I 11:01:04 InstallContribNbextensionsApp]\u001b[m Up to date: /home/grosedj/.local/share/jupyter/nbextensions/snippets_menu/snippets_menu.css\r\n",
      "\u001b[32m[I 11:01:04 InstallContribNbextensionsApp]\u001b[m Up to date: /home/grosedj/.local/share/jupyter/nbextensions/snippets_menu/screenshot3.png\r\n",
      "\u001b[32m[I 11:01:04 InstallContribNbextensionsApp]\u001b[m Up to date: /home/grosedj/.local/share/jupyter/nbextensions/snippets_menu/screenshot1.png\r\n",
      "\u001b[32m[I 11:01:04 InstallContribNbextensionsApp]\u001b[m Up to date: /home/grosedj/.local/share/jupyter/nbextensions/snippets_menu/snippets_submenu_markdown.js\r\n",
      "\u001b[32m[I 11:01:04 InstallContribNbextensionsApp]\u001b[m Up to date: /home/grosedj/.local/share/jupyter/nbextensions/snippets_menu/config.yaml\r\n",
      "\u001b[32m[I 11:01:04 InstallContribNbextensionsApp]\u001b[m Up to date: /home/grosedj/.local/share/jupyter/nbextensions/snippets_menu/main.js\r\n",
      "\u001b[32m[I 11:01:04 InstallContribNbextensionsApp]\u001b[m Up to date: /home/grosedj/.local/share/jupyter/nbextensions/snippets_menu/screenshot2.png\r\n",
      "\u001b[32m[I 11:01:04 InstallContribNbextensionsApp]\u001b[m Up to date: /home/grosedj/.local/share/jupyter/nbextensions/snippets_menu/snippets_submenus_python/python_regex.js\r\n",
      "\u001b[32m[I 11:01:04 InstallContribNbextensionsApp]\u001b[m Up to date: /home/grosedj/.local/share/jupyter/nbextensions/snippets_menu/snippets_submenus_python/sympy.js\r\n",
      "\u001b[32m[I 11:01:04 InstallContribNbextensionsApp]\u001b[m Up to date: /home/grosedj/.local/share/jupyter/nbextensions/snippets_menu/snippets_submenus_python/scipy_constants.js\r\n",
      "\u001b[32m[I 11:01:04 InstallContribNbextensionsApp]\u001b[m Up to date: /home/grosedj/.local/share/jupyter/nbextensions/snippets_menu/snippets_submenus_python/python.js\r\n",
      "\u001b[32m[I 11:01:04 InstallContribNbextensionsApp]\u001b[m Up to date: /home/grosedj/.local/share/jupyter/nbextensions/snippets_menu/snippets_submenus_python/numba.js\r\n",
      "\u001b[32m[I 11:01:04 InstallContribNbextensionsApp]\u001b[m Up to date: /home/grosedj/.local/share/jupyter/nbextensions/snippets_menu/snippets_submenus_python/sympy_functions.js\r\n",
      "\u001b[32m[I 11:01:04 InstallContribNbextensionsApp]\u001b[m Up to date: /home/grosedj/.local/share/jupyter/nbextensions/snippets_menu/snippets_submenus_python/pandas.js\r\n",
      "\u001b[32m[I 11:01:04 InstallContribNbextensionsApp]\u001b[m Up to date: /home/grosedj/.local/share/jupyter/nbextensions/snippets_menu/snippets_submenus_python/matplotlib.js\r\n",
      "\u001b[32m[I 11:01:04 InstallContribNbextensionsApp]\u001b[m Up to date: /home/grosedj/.local/share/jupyter/nbextensions/snippets_menu/snippets_submenus_python/h5py.js\r\n",
      "\u001b[32m[I 11:01:04 InstallContribNbextensionsApp]\u001b[m Up to date: /home/grosedj/.local/share/jupyter/nbextensions/snippets_menu/snippets_submenus_python/scipy.js\r\n",
      "\u001b[32m[I 11:01:04 InstallContribNbextensionsApp]\u001b[m Up to date: /home/grosedj/.local/share/jupyter/nbextensions/snippets_menu/snippets_submenus_python/scipy_special.js\r\n",
      "\u001b[32m[I 11:01:04 InstallContribNbextensionsApp]\u001b[m Up to date: /home/grosedj/.local/share/jupyter/nbextensions/snippets_menu/snippets_submenus_python/astropy.js\r\n",
      "\u001b[32m[I 11:01:04 InstallContribNbextensionsApp]\u001b[m Up to date: /home/grosedj/.local/share/jupyter/nbextensions/snippets_menu/snippets_submenus_python/numpy.js\r\n",
      "\u001b[32m[I 11:01:04 InstallContribNbextensionsApp]\u001b[m Up to date: /home/grosedj/.local/share/jupyter/nbextensions/snippets_menu/snippets_submenus_python/numpy_polynomial.js\r\n",
      "\u001b[32m[I 11:01:04 InstallContribNbextensionsApp]\u001b[m Up to date: /home/grosedj/.local/share/jupyter/nbextensions/snippets_menu/snippets_submenus_python/numpy_ufuncs.js\r\n",
      "\u001b[32m[I 11:01:04 InstallContribNbextensionsApp]\u001b[m Up to date: /home/grosedj/.local/share/jupyter/nbextensions/snippets_menu/snippets_submenus_python/sympy_assumptions.js\r\n",
      "\u001b[32m[I 11:01:04 InstallContribNbextensionsApp]\u001b[m - Validating: \u001b[32mOK\u001b[0m\r\n",
      "\u001b[32m[I 11:01:04 InstallContribNbextensionsApp]\u001b[m Installing /home/grosedj/python-envs/further-python/env/lib/python3.9/site-packages/jupyter_contrib_nbextensions/nbextensions/export_embedded -> export_embedded\r\n",
      "\u001b[32m[I 11:01:04 InstallContribNbextensionsApp]\u001b[m Up to date: /home/grosedj/.local/share/jupyter/nbextensions/export_embedded/readme.md\r\n",
      "\u001b[32m[I 11:01:04 InstallContribNbextensionsApp]\u001b[m Up to date: /home/grosedj/.local/share/jupyter/nbextensions/export_embedded/icon.png\r\n",
      "\u001b[32m[I 11:01:04 InstallContribNbextensionsApp]\u001b[m Up to date: /home/grosedj/.local/share/jupyter/nbextensions/export_embedded/main.js\r\n",
      "\u001b[32m[I 11:01:04 InstallContribNbextensionsApp]\u001b[m Up to date: /home/grosedj/.local/share/jupyter/nbextensions/export_embedded/export_embedded.yaml\r\n",
      "\u001b[32m[I 11:01:04 InstallContribNbextensionsApp]\u001b[m - Validating: \u001b[32mOK\u001b[0m\r\n",
      "\u001b[32m[I 11:01:04 InstallContribNbextensionsApp]\u001b[m Installing /home/grosedj/python-envs/further-python/env/lib/python3.9/site-packages/jupyter_contrib_nbextensions/nbextensions/execute_time -> execute_time\r\n",
      "\u001b[32m[I 11:01:04 InstallContribNbextensionsApp]\u001b[m Up to date: /home/grosedj/.local/share/jupyter/nbextensions/execute_time/execution-timings-box.png\r\n",
      "\u001b[32m[I 11:01:04 InstallContribNbextensionsApp]\u001b[m Up to date: /home/grosedj/.local/share/jupyter/nbextensions/execute_time/execution-timings-menu.png\r\n",
      "\u001b[32m[I 11:01:04 InstallContribNbextensionsApp]\u001b[m Up to date: /home/grosedj/.local/share/jupyter/nbextensions/execute_time/readme.md\r\n",
      "\u001b[32m[I 11:01:04 InstallContribNbextensionsApp]\u001b[m Up to date: /home/grosedj/.local/share/jupyter/nbextensions/execute_time/ExecuteTime.css\r\n",
      "\u001b[32m[I 11:01:04 InstallContribNbextensionsApp]\u001b[m Up to date: /home/grosedj/.local/share/jupyter/nbextensions/execute_time/ExecuteTime.js\r\n",
      "\u001b[32m[I 11:01:04 InstallContribNbextensionsApp]\u001b[m Up to date: /home/grosedj/.local/share/jupyter/nbextensions/execute_time/ExecuteTime.yaml\r\n",
      "\u001b[32m[I 11:01:04 InstallContribNbextensionsApp]\u001b[m Up to date: /home/grosedj/.local/share/jupyter/nbextensions/execute_time/icon.png\r\n",
      "\u001b[32m[I 11:01:04 InstallContribNbextensionsApp]\u001b[m - Validating: \u001b[32mOK\u001b[0m\r\n",
      "\u001b[32m[I 11:01:04 InstallContribNbextensionsApp]\u001b[m Installing /home/grosedj/python-envs/further-python/env/lib/python3.9/site-packages/jupyter_contrib_nbextensions/nbextensions/snippets -> snippets\r\n",
      "\u001b[32m[I 11:01:04 InstallContribNbextensionsApp]\u001b[m Up to date: /home/grosedj/.local/share/jupyter/nbextensions/snippets/snippets.json\r\n",
      "\u001b[32m[I 11:01:04 InstallContribNbextensionsApp]\u001b[m Up to date: /home/grosedj/.local/share/jupyter/nbextensions/snippets/snippets.yaml\r\n",
      "\u001b[32m[I 11:01:04 InstallContribNbextensionsApp]\u001b[m Up to date: /home/grosedj/.local/share/jupyter/nbextensions/snippets/README.md\r\n",
      "\u001b[32m[I 11:01:04 InstallContribNbextensionsApp]\u001b[m Up to date: /home/grosedj/.local/share/jupyter/nbextensions/snippets/main.js\r\n",
      "\u001b[32m[I 11:01:04 InstallContribNbextensionsApp]\u001b[m Up to date: /home/grosedj/.local/share/jupyter/nbextensions/snippets/snippets-demo.gif\r\n",
      "\u001b[32m[I 11:01:04 InstallContribNbextensionsApp]\u001b[m - Validating: \u001b[32mOK\u001b[0m\r\n",
      "\u001b[32m[I 11:01:04 InstallContribNbextensionsApp]\u001b[m Installing /home/grosedj/python-envs/further-python/env/lib/python3.9/site-packages/jupyter_contrib_nbextensions/nbextensions/varInspector -> varInspector\r\n",
      "\u001b[32m[I 11:01:04 InstallContribNbextensionsApp]\u001b[m Up to date: /home/grosedj/.local/share/jupyter/nbextensions/varInspector/demo.gif\r\n",
      "\u001b[32m[I 11:01:04 InstallContribNbextensionsApp]\u001b[m Up to date: /home/grosedj/.local/share/jupyter/nbextensions/varInspector/varInspector.yaml\r\n",
      "\u001b[32m[I 11:01:04 InstallContribNbextensionsApp]\u001b[m Up to date: /home/grosedj/.local/share/jupyter/nbextensions/varInspector/var_list.py\r\n",
      "\u001b[32m[I 11:01:04 InstallContribNbextensionsApp]\u001b[m Up to date: /home/grosedj/.local/share/jupyter/nbextensions/varInspector/jquery.tablesorter.min.js\r\n",
      "\u001b[32m[I 11:01:04 InstallContribNbextensionsApp]\u001b[m Up to date: /home/grosedj/.local/share/jupyter/nbextensions/varInspector/tablesorter_LICENSE.txt\r\n",
      "\u001b[32m[I 11:01:04 InstallContribNbextensionsApp]\u001b[m Up to date: /home/grosedj/.local/share/jupyter/nbextensions/varInspector/README.md\r\n",
      "\u001b[32m[I 11:01:04 InstallContribNbextensionsApp]\u001b[m Up to date: /home/grosedj/.local/share/jupyter/nbextensions/varInspector/icon.png\r\n",
      "\u001b[32m[I 11:01:04 InstallContribNbextensionsApp]\u001b[m Up to date: /home/grosedj/.local/share/jupyter/nbextensions/varInspector/var_list.r\r\n",
      "\u001b[32m[I 11:01:04 InstallContribNbextensionsApp]\u001b[m Up to date: /home/grosedj/.local/share/jupyter/nbextensions/varInspector/main.css\r\n",
      "\u001b[32m[I 11:01:04 InstallContribNbextensionsApp]\u001b[m Up to date: /home/grosedj/.local/share/jupyter/nbextensions/varInspector/main.js\r\n",
      "\u001b[32m[I 11:01:04 InstallContribNbextensionsApp]\u001b[m Up to date: /home/grosedj/.local/share/jupyter/nbextensions/varInspector/__pycache__/var_list.cpython-39.pyc\r\n",
      "\u001b[32m[I 11:01:04 InstallContribNbextensionsApp]\u001b[m - Validating: \u001b[32mOK\u001b[0m\r\n",
      "\u001b[32m[I 11:01:04 InstallContribNbextensionsApp]\u001b[m Installing /home/grosedj/python-envs/further-python/env/lib/python3.9/site-packages/jupyter_contrib_nbextensions/nbextensions/runtools -> runtools\r\n",
      "\u001b[32m[I 11:01:04 InstallContribNbextensionsApp]\u001b[m Up to date: /home/grosedj/.local/share/jupyter/nbextensions/runtools/runtools_execute.png\r\n",
      "\u001b[32m[I 11:01:04 InstallContribNbextensionsApp]\u001b[m Up to date: /home/grosedj/.local/share/jupyter/nbextensions/runtools/readme.md\r\n",
      "\u001b[32m[I 11:01:04 InstallContribNbextensionsApp]\u001b[m Up to date: /home/grosedj/.local/share/jupyter/nbextensions/runtools/runtools_lock.png\r\n",
      "\u001b[32m[I 11:01:04 InstallContribNbextensionsApp]\u001b[m Up to date: /home/grosedj/.local/share/jupyter/nbextensions/runtools/demo.gif\r\n",
      "\u001b[32m[I 11:01:04 InstallContribNbextensionsApp]\u001b[m Up to date: /home/grosedj/.local/share/jupyter/nbextensions/runtools/annotations.odg\r\n",
      "\u001b[32m[I 11:01:04 InstallContribNbextensionsApp]\u001b[m Up to date: /home/grosedj/.local/share/jupyter/nbextensions/runtools/runtools.yaml\r\n",
      "\u001b[32m[I 11:01:04 InstallContribNbextensionsApp]\u001b[m Up to date: /home/grosedj/.local/share/jupyter/nbextensions/runtools/cellstate.js\r\n",
      "\u001b[32m[I 11:01:04 InstallContribNbextensionsApp]\u001b[m Up to date: /home/grosedj/.local/share/jupyter/nbextensions/runtools/runtools_marker.png\r\n",
      "\u001b[32m[I 11:01:04 InstallContribNbextensionsApp]\u001b[m Up to date: /home/grosedj/.local/share/jupyter/nbextensions/runtools/icon.png\r\n",
      "\u001b[32m[I 11:01:04 InstallContribNbextensionsApp]\u001b[m Up to date: /home/grosedj/.local/share/jupyter/nbextensions/runtools/gutter.css\r\n",
      "\u001b[32m[I 11:01:04 InstallContribNbextensionsApp]\u001b[m Up to date: /home/grosedj/.local/share/jupyter/nbextensions/runtools/main.css\r\n",
      "\u001b[32m[I 11:01:04 InstallContribNbextensionsApp]\u001b[m Up to date: /home/grosedj/.local/share/jupyter/nbextensions/runtools/main.js\r\n",
      "\u001b[32m[I 11:01:04 InstallContribNbextensionsApp]\u001b[m Up to date: /home/grosedj/.local/share/jupyter/nbextensions/runtools/runtools_show_hide.png\r\n",
      "\u001b[32m[I 11:01:04 InstallContribNbextensionsApp]\u001b[m Up to date: /home/grosedj/.local/share/jupyter/nbextensions/runtools/runtools_nb.png\r\n",
      "\u001b[32m[I 11:01:04 InstallContribNbextensionsApp]\u001b[m - Validating: \u001b[32mOK\u001b[0m\r\n",
      "\u001b[32m[I 11:01:04 InstallContribNbextensionsApp]\u001b[m Installing /home/grosedj/python-envs/further-python/env/lib/python3.9/site-packages/jupyter_contrib_nbextensions/nbextensions/comment-uncomment -> comment-uncomment\r\n",
      "\u001b[32m[I 11:01:04 InstallContribNbextensionsApp]\u001b[m Up to date: /home/grosedj/.local/share/jupyter/nbextensions/comment-uncomment/readme.md\r\n",
      "\u001b[32m[I 11:01:04 InstallContribNbextensionsApp]\u001b[m Up to date: /home/grosedj/.local/share/jupyter/nbextensions/comment-uncomment/comment-uncomment.yaml\r\n",
      "\u001b[32m[I 11:01:04 InstallContribNbextensionsApp]\u001b[m Up to date: /home/grosedj/.local/share/jupyter/nbextensions/comment-uncomment/icon.png\r\n",
      "\u001b[32m[I 11:01:04 InstallContribNbextensionsApp]\u001b[m Up to date: /home/grosedj/.local/share/jupyter/nbextensions/comment-uncomment/main.js\r\n",
      "\u001b[32m[I 11:01:04 InstallContribNbextensionsApp]\u001b[m - Validating: \u001b[32mOK\u001b[0m\r\n",
      "\u001b[32m[I 11:01:04 InstallContribNbextensionsApp]\u001b[m Installing /home/grosedj/python-envs/further-python/env/lib/python3.9/site-packages/jupyter_contrib_nbextensions/nbextensions/scroll_down -> scroll_down\r\n",
      "\u001b[32m[I 11:01:04 InstallContribNbextensionsApp]\u001b[m Up to date: /home/grosedj/.local/share/jupyter/nbextensions/scroll_down/readme.md\r\n",
      "\u001b[32m[I 11:01:04 InstallContribNbextensionsApp]\u001b[m Up to date: /home/grosedj/.local/share/jupyter/nbextensions/scroll_down/config.yaml\r\n",
      "\u001b[32m[I 11:01:04 InstallContribNbextensionsApp]\u001b[m Up to date: /home/grosedj/.local/share/jupyter/nbextensions/scroll_down/icon.png\r\n",
      "\u001b[32m[I 11:01:04 InstallContribNbextensionsApp]\u001b[m Up to date: /home/grosedj/.local/share/jupyter/nbextensions/scroll_down/main.js\r\n",
      "\u001b[32m[I 11:01:04 InstallContribNbextensionsApp]\u001b[m - Validating: \u001b[32mOK\u001b[0m\r\n",
      "\u001b[32m[I 11:01:04 InstallContribNbextensionsApp]\u001b[m Installing /home/grosedj/python-envs/further-python/env/lib/python3.9/site-packages/jupyter_contrib_nbextensions/nbextensions/gist_it -> gist_it\r\n",
      "\u001b[32m[I 11:01:04 InstallContribNbextensionsApp]\u001b[m Up to date: /home/grosedj/.local/share/jupyter/nbextensions/gist_it/readme.md\r\n",
      "\u001b[32m[I 11:01:04 InstallContribNbextensionsApp]\u001b[m Up to date: /home/grosedj/.local/share/jupyter/nbextensions/gist_it/gist_it.yaml\r\n",
      "\u001b[32m[I 11:01:04 InstallContribNbextensionsApp]\u001b[m Up to date: /home/grosedj/.local/share/jupyter/nbextensions/gist_it/icon.png\r\n",
      "\u001b[32m[I 11:01:04 InstallContribNbextensionsApp]\u001b[m Up to date: /home/grosedj/.local/share/jupyter/nbextensions/gist_it/main.js\r\n",
      "\u001b[32m[I 11:01:04 InstallContribNbextensionsApp]\u001b[m - Validating: \u001b[32mOK\u001b[0m\r\n",
      "\u001b[32m[I 11:01:04 InstallContribNbextensionsApp]\u001b[m Installing /home/grosedj/python-envs/further-python/env/lib/python3.9/site-packages/jupyter_contrib_nbextensions/nbextensions/init_cell -> init_cell\r\n",
      "\u001b[32m[I 11:01:04 InstallContribNbextensionsApp]\u001b[m Up to date: /home/grosedj/.local/share/jupyter/nbextensions/init_cell/init_cell.yaml\r\n",
      "\u001b[32m[I 11:01:04 InstallContribNbextensionsApp]\u001b[m Up to date: /home/grosedj/.local/share/jupyter/nbextensions/init_cell/cell_toolbar_menu.png\r\n",
      "\u001b[32m[I 11:01:04 InstallContribNbextensionsApp]\u001b[m Up to date: /home/grosedj/.local/share/jupyter/nbextensions/init_cell/README.md\r\n",
      "\u001b[32m[I 11:01:04 InstallContribNbextensionsApp]\u001b[m Up to date: /home/grosedj/.local/share/jupyter/nbextensions/init_cell/icon.png\r\n",
      "\u001b[32m[I 11:01:04 InstallContribNbextensionsApp]\u001b[m Up to date: /home/grosedj/.local/share/jupyter/nbextensions/init_cell/main.js\r\n",
      "\u001b[32m[I 11:01:04 InstallContribNbextensionsApp]\u001b[m - Validating: \u001b[32mOK\u001b[0m\r\n",
      "\u001b[32m[I 11:01:04 InstallContribNbextensionsApp]\u001b[m Installing /home/grosedj/python-envs/further-python/env/lib/python3.9/site-packages/jupyter_contrib_nbextensions/nbextensions/code_font_size -> code_font_size\r\n",
      "\u001b[32m[I 11:01:04 InstallContribNbextensionsApp]\u001b[m Up to date: /home/grosedj/.local/share/jupyter/nbextensions/code_font_size/code_font_size.js\r\n",
      "\u001b[32m[I 11:01:04 InstallContribNbextensionsApp]\u001b[m Up to date: /home/grosedj/.local/share/jupyter/nbextensions/code_font_size/README.md\r\n",
      "\u001b[32m[I 11:01:04 InstallContribNbextensionsApp]\u001b[m Up to date: /home/grosedj/.local/share/jupyter/nbextensions/code_font_size/code_font_size.yaml\r\n",
      "\u001b[32m[I 11:01:04 InstallContribNbextensionsApp]\u001b[m - Validating: \u001b[32mOK\u001b[0m\r\n",
      "\u001b[32m[I 11:01:04 InstallContribNbextensionsApp]\u001b[m Installing /home/grosedj/python-envs/further-python/env/lib/python3.9/site-packages/jupyter_contrib_nbextensions/nbextensions/toc2 -> toc2\r\n",
      "\u001b[32m[I 11:01:04 InstallContribNbextensionsApp]\u001b[m Up to date: /home/grosedj/.local/share/jupyter/nbextensions/toc2/toc2.js\r\n",
      "\u001b[32m[I 11:01:04 InstallContribNbextensionsApp]\u001b[m Up to date: /home/grosedj/.local/share/jupyter/nbextensions/toc2/demo.gif\r\n",
      "\u001b[32m[I 11:01:04 InstallContribNbextensionsApp]\u001b[m Up to date: /home/grosedj/.local/share/jupyter/nbextensions/toc2/demo3.gif\r\n",
      "\u001b[32m[I 11:01:04 InstallContribNbextensionsApp]\u001b[m Up to date: /home/grosedj/.local/share/jupyter/nbextensions/toc2/demo_dark.png\r\n",
      "\u001b[32m[I 11:01:04 InstallContribNbextensionsApp]\u001b[m Up to date: /home/grosedj/.local/share/jupyter/nbextensions/toc2/demo2.gif\r\n",
      "\u001b[32m[I 11:01:04 InstallContribNbextensionsApp]\u001b[m Up to date: /home/grosedj/.local/share/jupyter/nbextensions/toc2/README.md\r\n",
      "\u001b[32m[I 11:01:04 InstallContribNbextensionsApp]\u001b[m Up to date: /home/grosedj/.local/share/jupyter/nbextensions/toc2/image.png\r\n",
      "\u001b[32m[I 11:01:04 InstallContribNbextensionsApp]\u001b[m Up to date: /home/grosedj/.local/share/jupyter/nbextensions/toc2/icon.png\r\n",
      "\u001b[32m[I 11:01:04 InstallContribNbextensionsApp]\u001b[m Up to date: /home/grosedj/.local/share/jupyter/nbextensions/toc2/toc2.yaml\r\n",
      "\u001b[32m[I 11:01:04 InstallContribNbextensionsApp]\u001b[m Up to date: /home/grosedj/.local/share/jupyter/nbextensions/toc2/main.css\r\n",
      "\u001b[32m[I 11:01:04 InstallContribNbextensionsApp]\u001b[m Up to date: /home/grosedj/.local/share/jupyter/nbextensions/toc2/main.js\r\n",
      "\u001b[32m[I 11:01:04 InstallContribNbextensionsApp]\u001b[m - Validating: \u001b[32mOK\u001b[0m\r\n",
      "\u001b[32m[I 11:01:04 InstallContribNbextensionsApp]\u001b[m Installing /home/grosedj/python-envs/further-python/env/lib/python3.9/site-packages/jupyter_contrib_nbextensions/nbextensions/navigation-hotkeys -> navigation-hotkeys\r\n",
      "\u001b[32m[I 11:01:04 InstallContribNbextensionsApp]\u001b[m Up to date: /home/grosedj/.local/share/jupyter/nbextensions/navigation-hotkeys/hotkeys.yaml\r\n",
      "\u001b[32m[I 11:01:04 InstallContribNbextensionsApp]\u001b[m Up to date: /home/grosedj/.local/share/jupyter/nbextensions/navigation-hotkeys/readme.md\r\n",
      "\u001b[32m[I 11:01:04 InstallContribNbextensionsApp]\u001b[m Up to date: /home/grosedj/.local/share/jupyter/nbextensions/navigation-hotkeys/icon.png\r\n",
      "\u001b[32m[I 11:01:04 InstallContribNbextensionsApp]\u001b[m Up to date: /home/grosedj/.local/share/jupyter/nbextensions/navigation-hotkeys/main.js\r\n",
      "\u001b[32m[I 11:01:04 InstallContribNbextensionsApp]\u001b[m - Validating: \u001b[32mOK\u001b[0m\r\n",
      "\u001b[32m[I 11:01:04 InstallContribNbextensionsApp]\u001b[m Installing /home/grosedj/python-envs/further-python/env/lib/python3.9/site-packages/jupyter_contrib_nbextensions/nbextensions/toggle_all_line_numbers -> toggle_all_line_numbers\r\n",
      "\u001b[32m[I 11:01:04 InstallContribNbextensionsApp]\u001b[m Up to date: /home/grosedj/.local/share/jupyter/nbextensions/toggle_all_line_numbers/main.yaml\r\n",
      "\u001b[32m[I 11:01:04 InstallContribNbextensionsApp]\u001b[m Up to date: /home/grosedj/.local/share/jupyter/nbextensions/toggle_all_line_numbers/readme.md\r\n",
      "\u001b[32m[I 11:01:04 InstallContribNbextensionsApp]\u001b[m Up to date: /home/grosedj/.local/share/jupyter/nbextensions/toggle_all_line_numbers/icon.png\r\n",
      "\u001b[32m[I 11:01:04 InstallContribNbextensionsApp]\u001b[m Up to date: /home/grosedj/.local/share/jupyter/nbextensions/toggle_all_line_numbers/main.js\r\n",
      "\u001b[32m[I 11:01:04 InstallContribNbextensionsApp]\u001b[m - Validating: \u001b[32mOK\u001b[0m\r\n",
      "\u001b[32m[I 11:01:04 InstallContribNbextensionsApp]\u001b[m Installing /home/grosedj/python-envs/further-python/env/lib/python3.9/site-packages/jupyter_contrib_nbextensions/nbextensions/move_selected_cells -> move_selected_cells\r\n",
      "\u001b[32m[I 11:01:04 InstallContribNbextensionsApp]\u001b[m Up to date: /home/grosedj/.local/share/jupyter/nbextensions/move_selected_cells/move_selected_cells.yaml\r\n",
      "\u001b[32m[I 11:01:04 InstallContribNbextensionsApp]\u001b[m Up to date: /home/grosedj/.local/share/jupyter/nbextensions/move_selected_cells/README.md\r\n",
      "\u001b[32m[I 11:01:04 InstallContribNbextensionsApp]\u001b[m Up to date: /home/grosedj/.local/share/jupyter/nbextensions/move_selected_cells/main.js\r\n",
      "\u001b[32m[I 11:01:04 InstallContribNbextensionsApp]\u001b[m - Validating: \u001b[32mOK\u001b[0m\r\n",
      "\u001b[32m[I 11:01:04 InstallContribNbextensionsApp]\u001b[m Installing /home/grosedj/python-envs/further-python/env/lib/python3.9/site-packages/jupyter_contrib_nbextensions/nbextensions/addbefore -> addbefore\r\n",
      "\u001b[32m[I 11:01:04 InstallContribNbextensionsApp]\u001b[m Up to date: /home/grosedj/.local/share/jupyter/nbextensions/addbefore/readme.md\r\n",
      "\u001b[32m[I 11:01:04 InstallContribNbextensionsApp]\u001b[m Up to date: /home/grosedj/.local/share/jupyter/nbextensions/addbefore/addbefore.yaml\r\n",
      "\u001b[32m[I 11:01:04 InstallContribNbextensionsApp]\u001b[m Up to date: /home/grosedj/.local/share/jupyter/nbextensions/addbefore/icon.png\r\n",
      "\u001b[32m[I 11:01:04 InstallContribNbextensionsApp]\u001b[m Up to date: /home/grosedj/.local/share/jupyter/nbextensions/addbefore/main.js\r\n",
      "\u001b[32m[I 11:01:04 InstallContribNbextensionsApp]\u001b[m - Validating: \u001b[32mOK\u001b[0m\r\n",
      "\u001b[32m[I 11:01:04 InstallContribNbextensionsApp]\u001b[m Installing /home/grosedj/python-envs/further-python/env/lib/python3.9/site-packages/jupyter_contrib_nbextensions/nbextensions/autosavetime -> autosavetime\r\n",
      "\u001b[32m[I 11:01:04 InstallContribNbextensionsApp]\u001b[m Up to date: /home/grosedj/.local/share/jupyter/nbextensions/autosavetime/autosavetime.yaml\r\n",
      "\u001b[32m[I 11:01:04 InstallContribNbextensionsApp]\u001b[m Up to date: /home/grosedj/.local/share/jupyter/nbextensions/autosavetime/README.md\r\n",
      "\u001b[32m[I 11:01:04 InstallContribNbextensionsApp]\u001b[m Up to date: /home/grosedj/.local/share/jupyter/nbextensions/autosavetime/icon.png\r\n",
      "\u001b[32m[I 11:01:04 InstallContribNbextensionsApp]\u001b[m Up to date: /home/grosedj/.local/share/jupyter/nbextensions/autosavetime/main.js\r\n",
      "\u001b[32m[I 11:01:04 InstallContribNbextensionsApp]\u001b[m - Validating: \u001b[32mOK\u001b[0m\r\n",
      "\u001b[32m[I 11:01:04 InstallContribNbextensionsApp]\u001b[m Installing /home/grosedj/python-envs/further-python/env/lib/python3.9/site-packages/jupyter_contrib_nbextensions/nbextensions/hide_input -> hide_input\r\n",
      "\u001b[32m[I 11:01:04 InstallContribNbextensionsApp]\u001b[m Up to date: /home/grosedj/.local/share/jupyter/nbextensions/hide_input/readme.md\r\n",
      "\u001b[32m[I 11:01:04 InstallContribNbextensionsApp]\u001b[m Up to date: /home/grosedj/.local/share/jupyter/nbextensions/hide_input/hide-input.yaml\r\n",
      "\u001b[32m[I 11:01:04 InstallContribNbextensionsApp]\u001b[m Up to date: /home/grosedj/.local/share/jupyter/nbextensions/hide_input/icon.png\r\n",
      "\u001b[32m[I 11:01:04 InstallContribNbextensionsApp]\u001b[m Up to date: /home/grosedj/.local/share/jupyter/nbextensions/hide_input/main.js\r\n",
      "\u001b[32m[I 11:01:04 InstallContribNbextensionsApp]\u001b[m - Validating: \u001b[32mOK\u001b[0m\r\n",
      "\u001b[32m[I 11:01:04 InstallContribNbextensionsApp]\u001b[m Installing /home/grosedj/python-envs/further-python/env/lib/python3.9/site-packages/jupyter_contrib_nbextensions/nbextensions/code_prettify -> code_prettify\r\n",
      "\u001b[32m[I 11:01:04 InstallContribNbextensionsApp]\u001b[m Up to date: /home/grosedj/.local/share/jupyter/nbextensions/code_prettify/code_prettify.js\r\n",
      "\u001b[32m[I 11:01:04 InstallContribNbextensionsApp]\u001b[m Up to date: /home/grosedj/.local/share/jupyter/nbextensions/code_prettify/demo-jv.gif\r\n",
      "\u001b[32m[I 11:01:04 InstallContribNbextensionsApp]\u001b[m Up to date: /home/grosedj/.local/share/jupyter/nbextensions/code_prettify/README_2to3.md\r\n",
      "\u001b[32m[I 11:01:04 InstallContribNbextensionsApp]\u001b[m Up to date: /home/grosedj/.local/share/jupyter/nbextensions/code_prettify/README_isort.md\r\n",
      "\u001b[32m[I 11:01:04 InstallContribNbextensionsApp]\u001b[m Up to date: /home/grosedj/.local/share/jupyter/nbextensions/code_prettify/2to3.js\r\n",
      "\u001b[32m[I 11:01:04 InstallContribNbextensionsApp]\u001b[m Up to date: /home/grosedj/.local/share/jupyter/nbextensions/code_prettify/demo-py.gif\r\n",
      "\u001b[32m[I 11:01:04 InstallContribNbextensionsApp]\u001b[m Up to date: /home/grosedj/.local/share/jupyter/nbextensions/code_prettify/README_code_prettify.md\r\n",
      "\u001b[32m[I 11:01:04 InstallContribNbextensionsApp]\u001b[m Up to date: /home/grosedj/.local/share/jupyter/nbextensions/code_prettify/demo-R.gif\r\n",
      "\u001b[32m[I 11:01:04 InstallContribNbextensionsApp]\u001b[m Up to date: /home/grosedj/.local/share/jupyter/nbextensions/code_prettify/README_autopep8.md\r\n",
      "\u001b[32m[I 11:01:04 InstallContribNbextensionsApp]\u001b[m Up to date: /home/grosedj/.local/share/jupyter/nbextensions/code_prettify/isort.yaml\r\n",
      "\u001b[32m[I 11:01:04 InstallContribNbextensionsApp]\u001b[m Up to date: /home/grosedj/.local/share/jupyter/nbextensions/code_prettify/code_prettify.yaml\r\n",
      "\u001b[32m[I 11:01:04 InstallContribNbextensionsApp]\u001b[m Up to date: /home/grosedj/.local/share/jupyter/nbextensions/code_prettify/2to3.yaml\r\n",
      "\u001b[32m[I 11:01:04 InstallContribNbextensionsApp]\u001b[m Up to date: /home/grosedj/.local/share/jupyter/nbextensions/code_prettify/kernel_exec_on_cell.js\r\n",
      "\u001b[32m[I 11:01:04 InstallContribNbextensionsApp]\u001b[m Up to date: /home/grosedj/.local/share/jupyter/nbextensions/code_prettify/README.md\r\n",
      "\u001b[32m[I 11:01:04 InstallContribNbextensionsApp]\u001b[m Up to date: /home/grosedj/.local/share/jupyter/nbextensions/code_prettify/demo_2to3.gif\r\n",
      "\u001b[32m[I 11:01:04 InstallContribNbextensionsApp]\u001b[m Up to date: /home/grosedj/.local/share/jupyter/nbextensions/code_prettify/autopep8.js\r\n",
      "\u001b[32m[I 11:01:04 InstallContribNbextensionsApp]\u001b[m Up to date: /home/grosedj/.local/share/jupyter/nbextensions/code_prettify/isort.js\r\n",
      "\u001b[32m[I 11:01:04 InstallContribNbextensionsApp]\u001b[m Up to date: /home/grosedj/.local/share/jupyter/nbextensions/code_prettify/autopep8.yaml\r\n",
      "\u001b[32m[I 11:01:04 InstallContribNbextensionsApp]\u001b[m - Validating: \u001b[32mOK\u001b[0m\r\n",
      "\u001b[32m[I 11:01:04 InstallContribNbextensionsApp]\u001b[m Installing /home/grosedj/python-envs/further-python/env/lib/python3.9/site-packages/jupyter_contrib_nbextensions/nbextensions/code_prettify -> code_prettify\r\n",
      "\u001b[32m[I 11:01:04 InstallContribNbextensionsApp]\u001b[m Up to date: /home/grosedj/.local/share/jupyter/nbextensions/code_prettify/code_prettify.js\r\n",
      "\u001b[32m[I 11:01:04 InstallContribNbextensionsApp]\u001b[m Up to date: /home/grosedj/.local/share/jupyter/nbextensions/code_prettify/demo-jv.gif\r\n",
      "\u001b[32m[I 11:01:04 InstallContribNbextensionsApp]\u001b[m Up to date: /home/grosedj/.local/share/jupyter/nbextensions/code_prettify/README_2to3.md\r\n",
      "\u001b[32m[I 11:01:04 InstallContribNbextensionsApp]\u001b[m Up to date: /home/grosedj/.local/share/jupyter/nbextensions/code_prettify/README_isort.md\r\n",
      "\u001b[32m[I 11:01:04 InstallContribNbextensionsApp]\u001b[m Up to date: /home/grosedj/.local/share/jupyter/nbextensions/code_prettify/2to3.js\r\n",
      "\u001b[32m[I 11:01:04 InstallContribNbextensionsApp]\u001b[m Up to date: /home/grosedj/.local/share/jupyter/nbextensions/code_prettify/demo-py.gif\r\n",
      "\u001b[32m[I 11:01:04 InstallContribNbextensionsApp]\u001b[m Up to date: /home/grosedj/.local/share/jupyter/nbextensions/code_prettify/README_code_prettify.md\r\n",
      "\u001b[32m[I 11:01:04 InstallContribNbextensionsApp]\u001b[m Up to date: /home/grosedj/.local/share/jupyter/nbextensions/code_prettify/demo-R.gif\r\n",
      "\u001b[32m[I 11:01:04 InstallContribNbextensionsApp]\u001b[m Up to date: /home/grosedj/.local/share/jupyter/nbextensions/code_prettify/README_autopep8.md\r\n",
      "\u001b[32m[I 11:01:04 InstallContribNbextensionsApp]\u001b[m Up to date: /home/grosedj/.local/share/jupyter/nbextensions/code_prettify/isort.yaml\r\n",
      "\u001b[32m[I 11:01:04 InstallContribNbextensionsApp]\u001b[m Up to date: /home/grosedj/.local/share/jupyter/nbextensions/code_prettify/code_prettify.yaml\r\n",
      "\u001b[32m[I 11:01:04 InstallContribNbextensionsApp]\u001b[m Up to date: /home/grosedj/.local/share/jupyter/nbextensions/code_prettify/2to3.yaml\r\n",
      "\u001b[32m[I 11:01:04 InstallContribNbextensionsApp]\u001b[m Up to date: /home/grosedj/.local/share/jupyter/nbextensions/code_prettify/kernel_exec_on_cell.js\r\n",
      "\u001b[32m[I 11:01:04 InstallContribNbextensionsApp]\u001b[m Up to date: /home/grosedj/.local/share/jupyter/nbextensions/code_prettify/README.md\r\n",
      "\u001b[32m[I 11:01:04 InstallContribNbextensionsApp]\u001b[m Up to date: /home/grosedj/.local/share/jupyter/nbextensions/code_prettify/demo_2to3.gif\r\n",
      "\u001b[32m[I 11:01:04 InstallContribNbextensionsApp]\u001b[m Up to date: /home/grosedj/.local/share/jupyter/nbextensions/code_prettify/autopep8.js\r\n",
      "\u001b[32m[I 11:01:04 InstallContribNbextensionsApp]\u001b[m Up to date: /home/grosedj/.local/share/jupyter/nbextensions/code_prettify/isort.js\r\n",
      "\u001b[32m[I 11:01:04 InstallContribNbextensionsApp]\u001b[m Up to date: /home/grosedj/.local/share/jupyter/nbextensions/code_prettify/autopep8.yaml\r\n",
      "\u001b[32m[I 11:01:04 InstallContribNbextensionsApp]\u001b[m - Validating: \u001b[32mOK\u001b[0m\r\n",
      "\u001b[32m[I 11:01:04 InstallContribNbextensionsApp]\u001b[m Installing /home/grosedj/python-envs/further-python/env/lib/python3.9/site-packages/jupyter_contrib_nbextensions/nbextensions/code_prettify -> code_prettify\r\n",
      "\u001b[32m[I 11:01:04 InstallContribNbextensionsApp]\u001b[m Up to date: /home/grosedj/.local/share/jupyter/nbextensions/code_prettify/code_prettify.js\r\n",
      "\u001b[32m[I 11:01:04 InstallContribNbextensionsApp]\u001b[m Up to date: /home/grosedj/.local/share/jupyter/nbextensions/code_prettify/demo-jv.gif\r\n",
      "\u001b[32m[I 11:01:04 InstallContribNbextensionsApp]\u001b[m Up to date: /home/grosedj/.local/share/jupyter/nbextensions/code_prettify/README_2to3.md\r\n",
      "\u001b[32m[I 11:01:04 InstallContribNbextensionsApp]\u001b[m Up to date: /home/grosedj/.local/share/jupyter/nbextensions/code_prettify/README_isort.md\r\n",
      "\u001b[32m[I 11:01:04 InstallContribNbextensionsApp]\u001b[m Up to date: /home/grosedj/.local/share/jupyter/nbextensions/code_prettify/2to3.js\r\n",
      "\u001b[32m[I 11:01:04 InstallContribNbextensionsApp]\u001b[m Up to date: /home/grosedj/.local/share/jupyter/nbextensions/code_prettify/demo-py.gif\r\n",
      "\u001b[32m[I 11:01:04 InstallContribNbextensionsApp]\u001b[m Up to date: /home/grosedj/.local/share/jupyter/nbextensions/code_prettify/README_code_prettify.md\r\n",
      "\u001b[32m[I 11:01:04 InstallContribNbextensionsApp]\u001b[m Up to date: /home/grosedj/.local/share/jupyter/nbextensions/code_prettify/demo-R.gif\r\n",
      "\u001b[32m[I 11:01:04 InstallContribNbextensionsApp]\u001b[m Up to date: /home/grosedj/.local/share/jupyter/nbextensions/code_prettify/README_autopep8.md\r\n",
      "\u001b[32m[I 11:01:04 InstallContribNbextensionsApp]\u001b[m Up to date: /home/grosedj/.local/share/jupyter/nbextensions/code_prettify/isort.yaml\r\n",
      "\u001b[32m[I 11:01:04 InstallContribNbextensionsApp]\u001b[m Up to date: /home/grosedj/.local/share/jupyter/nbextensions/code_prettify/code_prettify.yaml\r\n",
      "\u001b[32m[I 11:01:04 InstallContribNbextensionsApp]\u001b[m Up to date: /home/grosedj/.local/share/jupyter/nbextensions/code_prettify/2to3.yaml\r\n",
      "\u001b[32m[I 11:01:04 InstallContribNbextensionsApp]\u001b[m Up to date: /home/grosedj/.local/share/jupyter/nbextensions/code_prettify/kernel_exec_on_cell.js\r\n",
      "\u001b[32m[I 11:01:04 InstallContribNbextensionsApp]\u001b[m Up to date: /home/grosedj/.local/share/jupyter/nbextensions/code_prettify/README.md\r\n",
      "\u001b[32m[I 11:01:04 InstallContribNbextensionsApp]\u001b[m Up to date: /home/grosedj/.local/share/jupyter/nbextensions/code_prettify/demo_2to3.gif\r\n",
      "\u001b[32m[I 11:01:04 InstallContribNbextensionsApp]\u001b[m Up to date: /home/grosedj/.local/share/jupyter/nbextensions/code_prettify/autopep8.js\r\n",
      "\u001b[32m[I 11:01:04 InstallContribNbextensionsApp]\u001b[m Up to date: /home/grosedj/.local/share/jupyter/nbextensions/code_prettify/isort.js\r\n",
      "\u001b[32m[I 11:01:04 InstallContribNbextensionsApp]\u001b[m Up to date: /home/grosedj/.local/share/jupyter/nbextensions/code_prettify/autopep8.yaml\r\n",
      "\u001b[32m[I 11:01:04 InstallContribNbextensionsApp]\u001b[m - Validating: \u001b[32mOK\u001b[0m\r\n",
      "\u001b[32m[I 11:01:04 InstallContribNbextensionsApp]\u001b[m Installing /home/grosedj/python-envs/further-python/env/lib/python3.9/site-packages/jupyter_contrib_nbextensions/nbextensions/code_prettify -> code_prettify\r\n",
      "\u001b[32m[I 11:01:04 InstallContribNbextensionsApp]\u001b[m Up to date: /home/grosedj/.local/share/jupyter/nbextensions/code_prettify/code_prettify.js\r\n",
      "\u001b[32m[I 11:01:04 InstallContribNbextensionsApp]\u001b[m Up to date: /home/grosedj/.local/share/jupyter/nbextensions/code_prettify/demo-jv.gif\r\n",
      "\u001b[32m[I 11:01:04 InstallContribNbextensionsApp]\u001b[m Up to date: /home/grosedj/.local/share/jupyter/nbextensions/code_prettify/README_2to3.md\r\n",
      "\u001b[32m[I 11:01:04 InstallContribNbextensionsApp]\u001b[m Up to date: /home/grosedj/.local/share/jupyter/nbextensions/code_prettify/README_isort.md\r\n",
      "\u001b[32m[I 11:01:04 InstallContribNbextensionsApp]\u001b[m Up to date: /home/grosedj/.local/share/jupyter/nbextensions/code_prettify/2to3.js\r\n",
      "\u001b[32m[I 11:01:04 InstallContribNbextensionsApp]\u001b[m Up to date: /home/grosedj/.local/share/jupyter/nbextensions/code_prettify/demo-py.gif\r\n",
      "\u001b[32m[I 11:01:04 InstallContribNbextensionsApp]\u001b[m Up to date: /home/grosedj/.local/share/jupyter/nbextensions/code_prettify/README_code_prettify.md\r\n",
      "\u001b[32m[I 11:01:04 InstallContribNbextensionsApp]\u001b[m Up to date: /home/grosedj/.local/share/jupyter/nbextensions/code_prettify/demo-R.gif\r\n",
      "\u001b[32m[I 11:01:04 InstallContribNbextensionsApp]\u001b[m Up to date: /home/grosedj/.local/share/jupyter/nbextensions/code_prettify/README_autopep8.md\r\n",
      "\u001b[32m[I 11:01:04 InstallContribNbextensionsApp]\u001b[m Up to date: /home/grosedj/.local/share/jupyter/nbextensions/code_prettify/isort.yaml\r\n",
      "\u001b[32m[I 11:01:04 InstallContribNbextensionsApp]\u001b[m Up to date: /home/grosedj/.local/share/jupyter/nbextensions/code_prettify/code_prettify.yaml\r\n",
      "\u001b[32m[I 11:01:04 InstallContribNbextensionsApp]\u001b[m Up to date: /home/grosedj/.local/share/jupyter/nbextensions/code_prettify/2to3.yaml\r\n",
      "\u001b[32m[I 11:01:04 InstallContribNbextensionsApp]\u001b[m Up to date: /home/grosedj/.local/share/jupyter/nbextensions/code_prettify/kernel_exec_on_cell.js\r\n",
      "\u001b[32m[I 11:01:04 InstallContribNbextensionsApp]\u001b[m Up to date: /home/grosedj/.local/share/jupyter/nbextensions/code_prettify/README.md\r\n",
      "\u001b[32m[I 11:01:04 InstallContribNbextensionsApp]\u001b[m Up to date: /home/grosedj/.local/share/jupyter/nbextensions/code_prettify/demo_2to3.gif\r\n",
      "\u001b[32m[I 11:01:04 InstallContribNbextensionsApp]\u001b[m Up to date: /home/grosedj/.local/share/jupyter/nbextensions/code_prettify/autopep8.js\r\n",
      "\u001b[32m[I 11:01:04 InstallContribNbextensionsApp]\u001b[m Up to date: /home/grosedj/.local/share/jupyter/nbextensions/code_prettify/isort.js\r\n",
      "\u001b[32m[I 11:01:04 InstallContribNbextensionsApp]\u001b[m Up to date: /home/grosedj/.local/share/jupyter/nbextensions/code_prettify/autopep8.yaml\r\n",
      "\u001b[32m[I 11:01:04 InstallContribNbextensionsApp]\u001b[m - Validating: \u001b[32mOK\u001b[0m\r\n",
      "\u001b[32m[I 11:01:04 InstallContribNbextensionsApp]\u001b[m Installing /home/grosedj/python-envs/further-python/env/lib/python3.9/site-packages/jupyter_contrib_nbextensions/nbextensions/rubberband -> rubberband\r\n",
      "\u001b[32m[I 11:01:04 InstallContribNbextensionsApp]\u001b[m Up to date: /home/grosedj/.local/share/jupyter/nbextensions/rubberband/readme.md\r\n",
      "\u001b[32m[I 11:01:04 InstallContribNbextensionsApp]\u001b[m Up to date: /home/grosedj/.local/share/jupyter/nbextensions/rubberband/rubberband.yaml\r\n",
      "\u001b[32m[I 11:01:04 InstallContribNbextensionsApp]\u001b[m Up to date: /home/grosedj/.local/share/jupyter/nbextensions/rubberband/icon.png\r\n",
      "\u001b[32m[I 11:01:04 InstallContribNbextensionsApp]\u001b[m Up to date: /home/grosedj/.local/share/jupyter/nbextensions/rubberband/main.css\r\n",
      "\u001b[32m[I 11:01:04 InstallContribNbextensionsApp]\u001b[m Up to date: /home/grosedj/.local/share/jupyter/nbextensions/rubberband/main.js\r\n",
      "\u001b[32m[I 11:01:04 InstallContribNbextensionsApp]\u001b[m - Validating: \u001b[32mOK\u001b[0m\r\n",
      "\u001b[32m[I 11:01:04 InstallContribNbextensionsApp]\u001b[m Installing /home/grosedj/python-envs/further-python/env/lib/python3.9/site-packages/jupyter_contrib_nbextensions/nbextensions/splitcell -> splitcell\r\n",
      "\u001b[32m[I 11:01:04 InstallContribNbextensionsApp]\u001b[m Up to date: /home/grosedj/.local/share/jupyter/nbextensions/splitcell/readme.md\r\n",
      "\u001b[32m[I 11:01:04 InstallContribNbextensionsApp]\u001b[m Up to date: /home/grosedj/.local/share/jupyter/nbextensions/splitcell/splitcell.yaml\r\n",
      "\u001b[32m[I 11:01:04 InstallContribNbextensionsApp]\u001b[m Up to date: /home/grosedj/.local/share/jupyter/nbextensions/splitcell/splitcell.js\r\n",
      "\u001b[32m[I 11:01:04 InstallContribNbextensionsApp]\u001b[m Up to date: /home/grosedj/.local/share/jupyter/nbextensions/splitcell/icon.png\r\n",
      "\u001b[32m[I 11:01:04 InstallContribNbextensionsApp]\u001b[m - Validating: \u001b[32mOK\u001b[0m\r\n",
      "\u001b[32m[I 11:01:04 InstallContribNbextensionsApp]\u001b[m Installing /home/grosedj/python-envs/further-python/env/lib/python3.9/site-packages/jupyter_contrib_nbextensions/nbextensions/spellchecker -> spellchecker\r\n",
      "\u001b[32m[I 11:01:04 InstallContribNbextensionsApp]\u001b[m Up to date: /home/grosedj/.local/share/jupyter/nbextensions/spellchecker/screenshot.png\r\n",
      "\u001b[32m[I 11:01:04 InstallContribNbextensionsApp]\u001b[m Up to date: /home/grosedj/.local/share/jupyter/nbextensions/spellchecker/download_new_dict.py\r\n",
      "\u001b[32m[I 11:01:04 InstallContribNbextensionsApp]\u001b[m Up to date: /home/grosedj/.local/share/jupyter/nbextensions/spellchecker/README.md\r\n",
      "\u001b[32m[I 11:01:04 InstallContribNbextensionsApp]\u001b[m Up to date: /home/grosedj/.local/share/jupyter/nbextensions/spellchecker/config.yaml\r\n",
      "\u001b[32m[I 11:01:04 InstallContribNbextensionsApp]\u001b[m Up to date: /home/grosedj/.local/share/jupyter/nbextensions/spellchecker/main.css\r\n",
      "\u001b[32m[I 11:01:04 InstallContribNbextensionsApp]\u001b[m Up to date: /home/grosedj/.local/share/jupyter/nbextensions/spellchecker/main.js\r\n",
      "\u001b[32m[I 11:01:04 InstallContribNbextensionsApp]\u001b[m Up to date: /home/grosedj/.local/share/jupyter/nbextensions/spellchecker/__pycache__/download_new_dict.cpython-39.pyc\r\n",
      "\u001b[32m[I 11:01:04 InstallContribNbextensionsApp]\u001b[m Up to date: /home/grosedj/.local/share/jupyter/nbextensions/spellchecker/typo/typo.js\r\n",
      "\u001b[32m[I 11:01:04 InstallContribNbextensionsApp]\u001b[m Up to date: /home/grosedj/.local/share/jupyter/nbextensions/spellchecker/typo/LICENSE.txt\r\n",
      "\u001b[32m[I 11:01:04 InstallContribNbextensionsApp]\u001b[m - Validating: \u001b[32mOK\u001b[0m\r\n",
      "\u001b[32m[I 11:01:04 InstallContribNbextensionsApp]\u001b[m Installing /home/grosedj/python-envs/further-python/env/lib/python3.9/site-packages/jupyter_contrib_nbextensions/nbextensions/skill -> skill\r\n",
      "\u001b[32m[I 11:01:04 InstallContribNbextensionsApp]\u001b[m Up to date: /home/grosedj/.local/share/jupyter/nbextensions/skill/skill.js\r\n",
      "\u001b[32m[I 11:01:04 InstallContribNbextensionsApp]\u001b[m Up to date: /home/grosedj/.local/share/jupyter/nbextensions/skill/skill.yaml\r\n",
      "\u001b[32m[I 11:01:04 InstallContribNbextensionsApp]\u001b[m Up to date: /home/grosedj/.local/share/jupyter/nbextensions/skill/README.md\r\n",
      "\u001b[32m[I 11:01:04 InstallContribNbextensionsApp]\u001b[m Up to date: /home/grosedj/.local/share/jupyter/nbextensions/skill/main.js\r\n",
      "\u001b[32m[I 11:01:04 InstallContribNbextensionsApp]\u001b[m - Validating: \u001b[32mOK\u001b[0m\r\n",
      "\u001b[32m[I 11:01:04 InstallContribNbextensionsApp]\u001b[m Installing /home/grosedj/python-envs/further-python/env/lib/python3.9/site-packages/jupyter_contrib_nbextensions/nbextensions/codefolding -> codefolding\r\n",
      "\u001b[32m[I 11:01:04 InstallContribNbextensionsApp]\u001b[m Up to date: /home/grosedj/.local/share/jupyter/nbextensions/codefolding/magic-unfolded.png\r\n",
      "\u001b[32m[I 11:01:04 InstallContribNbextensionsApp]\u001b[m Up to date: /home/grosedj/.local/share/jupyter/nbextensions/codefolding/readme.md\r\n",
      "\u001b[32m[I 11:01:04 InstallContribNbextensionsApp]\u001b[m Up to date: /home/grosedj/.local/share/jupyter/nbextensions/codefolding/firstline-fold.js\r\n",
      "\u001b[32m[I 11:01:04 InstallContribNbextensionsApp]\u001b[m Up to date: /home/grosedj/.local/share/jupyter/nbextensions/codefolding/foldgutter.css\r\n",
      "\u001b[32m[I 11:01:04 InstallContribNbextensionsApp]\u001b[m Up to date: /home/grosedj/.local/share/jupyter/nbextensions/codefolding/codefolding_indent_folded_2.png\r\n",
      "\u001b[32m[I 11:01:04 InstallContribNbextensionsApp]\u001b[m Up to date: /home/grosedj/.local/share/jupyter/nbextensions/codefolding/magic-folded.png\r\n",
      "\u001b[32m[I 11:01:04 InstallContribNbextensionsApp]\u001b[m Up to date: /home/grosedj/.local/share/jupyter/nbextensions/codefolding/edit.js\r\n",
      "\u001b[32m[I 11:01:04 InstallContribNbextensionsApp]\u001b[m Up to date: /home/grosedj/.local/share/jupyter/nbextensions/codefolding/icon.png\r\n",
      "\u001b[32m[I 11:01:04 InstallContribNbextensionsApp]\u001b[m Up to date: /home/grosedj/.local/share/jupyter/nbextensions/codefolding/magic-fold.js\r\n",
      "\u001b[32m[I 11:01:04 InstallContribNbextensionsApp]\u001b[m Up to date: /home/grosedj/.local/share/jupyter/nbextensions/codefolding/codefolding_indent_unfolded.png\r\n",
      "\u001b[32m[I 11:01:04 InstallContribNbextensionsApp]\u001b[m Up to date: /home/grosedj/.local/share/jupyter/nbextensions/codefolding/codefolding_indent_folded_1.png\r\n",
      "\u001b[32m[I 11:01:04 InstallContribNbextensionsApp]\u001b[m Up to date: /home/grosedj/.local/share/jupyter/nbextensions/codefolding/main.js\r\n",
      "\u001b[32m[I 11:01:04 InstallContribNbextensionsApp]\u001b[m Up to date: /home/grosedj/.local/share/jupyter/nbextensions/codefolding/codefolding_firstline_unfolded.png\r\n",
      "\u001b[32m[I 11:01:04 InstallContribNbextensionsApp]\u001b[m Up to date: /home/grosedj/.local/share/jupyter/nbextensions/codefolding/codefolding.yaml\r\n",
      "\u001b[32m[I 11:01:04 InstallContribNbextensionsApp]\u001b[m Up to date: /home/grosedj/.local/share/jupyter/nbextensions/codefolding/codefolding_editor.png\r\n",
      "\u001b[32m[I 11:01:04 InstallContribNbextensionsApp]\u001b[m Up to date: /home/grosedj/.local/share/jupyter/nbextensions/codefolding/codefolding_editor.yaml\r\n",
      "\u001b[32m[I 11:01:04 InstallContribNbextensionsApp]\u001b[m Up to date: /home/grosedj/.local/share/jupyter/nbextensions/codefolding/codefolding_firstline_folded.png\r\n",
      "\u001b[32m[I 11:01:04 InstallContribNbextensionsApp]\u001b[m - Validating: \u001b[32mOK\u001b[0m\r\n",
      "\u001b[32m[I 11:01:04 InstallContribNbextensionsApp]\u001b[m Installing /home/grosedj/python-envs/further-python/env/lib/python3.9/site-packages/jupyter_contrib_nbextensions/nbextensions/codefolding -> codefolding\r\n",
      "\u001b[32m[I 11:01:04 InstallContribNbextensionsApp]\u001b[m Up to date: /home/grosedj/.local/share/jupyter/nbextensions/codefolding/magic-unfolded.png\r\n",
      "\u001b[32m[I 11:01:04 InstallContribNbextensionsApp]\u001b[m Up to date: /home/grosedj/.local/share/jupyter/nbextensions/codefolding/readme.md\r\n",
      "\u001b[32m[I 11:01:04 InstallContribNbextensionsApp]\u001b[m Up to date: /home/grosedj/.local/share/jupyter/nbextensions/codefolding/firstline-fold.js\r\n",
      "\u001b[32m[I 11:01:04 InstallContribNbextensionsApp]\u001b[m Up to date: /home/grosedj/.local/share/jupyter/nbextensions/codefolding/foldgutter.css\r\n",
      "\u001b[32m[I 11:01:04 InstallContribNbextensionsApp]\u001b[m Up to date: /home/grosedj/.local/share/jupyter/nbextensions/codefolding/codefolding_indent_folded_2.png\r\n",
      "\u001b[32m[I 11:01:04 InstallContribNbextensionsApp]\u001b[m Up to date: /home/grosedj/.local/share/jupyter/nbextensions/codefolding/magic-folded.png\r\n",
      "\u001b[32m[I 11:01:04 InstallContribNbextensionsApp]\u001b[m Up to date: /home/grosedj/.local/share/jupyter/nbextensions/codefolding/edit.js\r\n",
      "\u001b[32m[I 11:01:04 InstallContribNbextensionsApp]\u001b[m Up to date: /home/grosedj/.local/share/jupyter/nbextensions/codefolding/icon.png\r\n",
      "\u001b[32m[I 11:01:04 InstallContribNbextensionsApp]\u001b[m Up to date: /home/grosedj/.local/share/jupyter/nbextensions/codefolding/magic-fold.js\r\n",
      "\u001b[32m[I 11:01:04 InstallContribNbextensionsApp]\u001b[m Up to date: /home/grosedj/.local/share/jupyter/nbextensions/codefolding/codefolding_indent_unfolded.png\r\n",
      "\u001b[32m[I 11:01:04 InstallContribNbextensionsApp]\u001b[m Up to date: /home/grosedj/.local/share/jupyter/nbextensions/codefolding/codefolding_indent_folded_1.png\r\n",
      "\u001b[32m[I 11:01:04 InstallContribNbextensionsApp]\u001b[m Up to date: /home/grosedj/.local/share/jupyter/nbextensions/codefolding/main.js\r\n",
      "\u001b[32m[I 11:01:04 InstallContribNbextensionsApp]\u001b[m Up to date: /home/grosedj/.local/share/jupyter/nbextensions/codefolding/codefolding_firstline_unfolded.png\r\n",
      "\u001b[32m[I 11:01:04 InstallContribNbextensionsApp]\u001b[m Up to date: /home/grosedj/.local/share/jupyter/nbextensions/codefolding/codefolding.yaml\r\n",
      "\u001b[32m[I 11:01:04 InstallContribNbextensionsApp]\u001b[m Up to date: /home/grosedj/.local/share/jupyter/nbextensions/codefolding/codefolding_editor.png\r\n",
      "\u001b[32m[I 11:01:04 InstallContribNbextensionsApp]\u001b[m Up to date: /home/grosedj/.local/share/jupyter/nbextensions/codefolding/codefolding_editor.yaml\r\n",
      "\u001b[32m[I 11:01:04 InstallContribNbextensionsApp]\u001b[m Up to date: /home/grosedj/.local/share/jupyter/nbextensions/codefolding/codefolding_firstline_folded.png\r\n",
      "\u001b[32m[I 11:01:04 InstallContribNbextensionsApp]\u001b[m - Validating: \u001b[32mOK\u001b[0m\r\n",
      "\u001b[32m[I 11:01:04 InstallContribNbextensionsApp]\u001b[m Installing /home/grosedj/python-envs/further-python/env/lib/python3.9/site-packages/jupyter_contrib_nbextensions/nbextensions/freeze -> freeze\r\n",
      "\u001b[32m[I 11:01:04 InstallContribNbextensionsApp]\u001b[m Up to date: /home/grosedj/.local/share/jupyter/nbextensions/freeze/readme.md\r\n",
      "\u001b[32m[I 11:01:04 InstallContribNbextensionsApp]\u001b[m Up to date: /home/grosedj/.local/share/jupyter/nbextensions/freeze/config.yaml\r\n",
      "\u001b[32m[I 11:01:04 InstallContribNbextensionsApp]\u001b[m Up to date: /home/grosedj/.local/share/jupyter/nbextensions/freeze/icon.png\r\n",
      "\u001b[32m[I 11:01:04 InstallContribNbextensionsApp]\u001b[m Up to date: /home/grosedj/.local/share/jupyter/nbextensions/freeze/main.js\r\n",
      "\u001b[32m[I 11:01:04 InstallContribNbextensionsApp]\u001b[m - Validating: \u001b[32mOK\u001b[0m\r\n",
      "\u001b[32m[I 11:01:04 InstallContribNbextensionsApp]\u001b[m Installing /home/grosedj/python-envs/further-python/env/lib/python3.9/site-packages/jupyter_contrib_nbextensions/nbextensions/load_tex_macros -> load_tex_macros\r\n",
      "\u001b[32m[I 11:01:04 InstallContribNbextensionsApp]\u001b[m Up to date: /home/grosedj/.local/share/jupyter/nbextensions/load_tex_macros/readme.md\r\n",
      "\u001b[32m[I 11:01:04 InstallContribNbextensionsApp]\u001b[m Up to date: /home/grosedj/.local/share/jupyter/nbextensions/load_tex_macros/load_tex_macros.yaml\r\n",
      "\u001b[32m[I 11:01:04 InstallContribNbextensionsApp]\u001b[m Up to date: /home/grosedj/.local/share/jupyter/nbextensions/load_tex_macros/icon.png\r\n",
      "\u001b[32m[I 11:01:04 InstallContribNbextensionsApp]\u001b[m Up to date: /home/grosedj/.local/share/jupyter/nbextensions/load_tex_macros/main.js\r\n",
      "\u001b[32m[I 11:01:04 InstallContribNbextensionsApp]\u001b[m - Validating: \u001b[32mOK\u001b[0m\r\n",
      "\u001b[32m[I 11:01:04 InstallContribNbextensionsApp]\u001b[m Installing /home/grosedj/python-envs/further-python/env/lib/python3.9/site-packages/jupyter_contrib_nbextensions/nbextensions/hide_header -> hide_header\r\n",
      "\u001b[32m[I 11:01:04 InstallContribNbextensionsApp]\u001b[m Up to date: /home/grosedj/.local/share/jupyter/nbextensions/hide_header/README.md\r\n",
      "\u001b[32m[I 11:01:04 InstallContribNbextensionsApp]\u001b[m Up to date: /home/grosedj/.local/share/jupyter/nbextensions/hide_header/hide_header.yaml\r\n",
      "\u001b[32m[I 11:01:04 InstallContribNbextensionsApp]\u001b[m Up to date: /home/grosedj/.local/share/jupyter/nbextensions/hide_header/main.js\r\n",
      "\u001b[32m[I 11:01:04 InstallContribNbextensionsApp]\u001b[m - Validating: \u001b[32mOK\u001b[0m\r\n",
      "\u001b[32m[I 11:01:04 InstallContribNbextensionsApp]\u001b[m Installing /home/grosedj/python-envs/further-python/env/lib/python3.9/site-packages/jupyter_contrib_nbextensions/nbextensions/hinterland -> hinterland\r\n",
      "\u001b[32m[I 11:01:04 InstallContribNbextensionsApp]\u001b[m Up to date: /home/grosedj/.local/share/jupyter/nbextensions/hinterland/hinterland.js\r\n"
     ]
    },
    {
     "name": "stdout",
     "output_type": "stream",
     "text": [
      "\u001b[32m[I 11:01:04 InstallContribNbextensionsApp]\u001b[m Up to date: /home/grosedj/.local/share/jupyter/nbextensions/hinterland/README.md\r\n",
      "\u001b[32m[I 11:01:04 InstallContribNbextensionsApp]\u001b[m Up to date: /home/grosedj/.local/share/jupyter/nbextensions/hinterland/hinterland.yaml\r\n",
      "\u001b[32m[I 11:01:04 InstallContribNbextensionsApp]\u001b[m - Validating: \u001b[32mOK\u001b[0m\r\n",
      "\u001b[32m[I 11:01:04 InstallContribNbextensionsApp]\u001b[m Installing /home/grosedj/python-envs/further-python/env/lib/python3.9/site-packages/jupyter_contrib_nbextensions/nbextensions/scratchpad -> scratchpad\r\n",
      "\u001b[32m[I 11:01:04 InstallContribNbextensionsApp]\u001b[m Up to date: /home/grosedj/.local/share/jupyter/nbextensions/scratchpad/LICENSE\r\n",
      "\u001b[32m[I 11:01:04 InstallContribNbextensionsApp]\u001b[m Up to date: /home/grosedj/.local/share/jupyter/nbextensions/scratchpad/demo.gif\r\n",
      "\u001b[32m[I 11:01:04 InstallContribNbextensionsApp]\u001b[m Up to date: /home/grosedj/.local/share/jupyter/nbextensions/scratchpad/scratchpad.css\r\n",
      "\u001b[32m[I 11:01:04 InstallContribNbextensionsApp]\u001b[m Up to date: /home/grosedj/.local/share/jupyter/nbextensions/scratchpad/README.md\r\n",
      "\u001b[32m[I 11:01:04 InstallContribNbextensionsApp]\u001b[m Up to date: /home/grosedj/.local/share/jupyter/nbextensions/scratchpad/main.js\r\n",
      "\u001b[32m[I 11:01:04 InstallContribNbextensionsApp]\u001b[m Up to date: /home/grosedj/.local/share/jupyter/nbextensions/scratchpad/scratchpad.yaml\r\n",
      "\u001b[32m[I 11:01:04 InstallContribNbextensionsApp]\u001b[m - Validating: \u001b[32mOK\u001b[0m\r\n",
      "\u001b[32m[I 11:01:04 InstallContribNbextensionsApp]\u001b[m Installing /home/grosedj/python-envs/further-python/env/lib/python3.9/site-packages/jupyter_contrib_nbextensions/nbextensions/printview -> printview\r\n",
      "\u001b[32m[I 11:01:04 InstallContribNbextensionsApp]\u001b[m Up to date: /home/grosedj/.local/share/jupyter/nbextensions/printview/printview-button.png\r\n",
      "\u001b[32m[I 11:01:04 InstallContribNbextensionsApp]\u001b[m Up to date: /home/grosedj/.local/share/jupyter/nbextensions/printview/readme.md\r\n",
      "\u001b[32m[I 11:01:04 InstallContribNbextensionsApp]\u001b[m Up to date: /home/grosedj/.local/share/jupyter/nbextensions/printview/icon.png\r\n",
      "\u001b[32m[I 11:01:04 InstallContribNbextensionsApp]\u001b[m Up to date: /home/grosedj/.local/share/jupyter/nbextensions/printview/main.js\r\n",
      "\u001b[32m[I 11:01:04 InstallContribNbextensionsApp]\u001b[m Up to date: /home/grosedj/.local/share/jupyter/nbextensions/printview/printview.yaml\r\n",
      "\u001b[32m[I 11:01:04 InstallContribNbextensionsApp]\u001b[m - Validating: \u001b[32mOK\u001b[0m\r\n",
      "\u001b[32m[I 11:01:04 InstallContribNbextensionsApp]\u001b[m Installing /home/grosedj/python-envs/further-python/env/lib/python3.9/site-packages/jupyter_contrib_nbextensions/nbextensions/collapsible_headings -> collapsible_headings\r\n",
      "\u001b[32m[I 11:01:04 InstallContribNbextensionsApp]\u001b[m Up to date: /home/grosedj/.local/share/jupyter/nbextensions/collapsible_headings/readme.md\r\n",
      "\u001b[32m[I 11:01:04 InstallContribNbextensionsApp]\u001b[m Up to date: /home/grosedj/.local/share/jupyter/nbextensions/collapsible_headings/screenshot.png\r\n",
      "\u001b[32m[I 11:01:04 InstallContribNbextensionsApp]\u001b[m Up to date: /home/grosedj/.local/share/jupyter/nbextensions/collapsible_headings/collapsible_headings.yaml\r\n",
      "\u001b[32m[I 11:01:04 InstallContribNbextensionsApp]\u001b[m Up to date: /home/grosedj/.local/share/jupyter/nbextensions/collapsible_headings/icon.png\r\n",
      "\u001b[32m[I 11:01:04 InstallContribNbextensionsApp]\u001b[m Up to date: /home/grosedj/.local/share/jupyter/nbextensions/collapsible_headings/main.css\r\n",
      "\u001b[32m[I 11:01:04 InstallContribNbextensionsApp]\u001b[m Up to date: /home/grosedj/.local/share/jupyter/nbextensions/collapsible_headings/main.js\r\n",
      "\u001b[32m[I 11:01:04 InstallContribNbextensionsApp]\u001b[m - Validating: \u001b[32mOK\u001b[0m\r\n",
      "\u001b[32m[I 11:01:04 InstallContribNbextensionsApp]\u001b[m Installing /home/grosedj/python-envs/further-python/env/lib/python3.9/site-packages/jupyter_contrib_nbextensions/nbextensions/highlighter -> highlighter\r\n",
      "\u001b[32m[I 11:01:04 InstallContribNbextensionsApp]\u001b[m Up to date: /home/grosedj/.local/share/jupyter/nbextensions/highlighter/highlighter.yaml\r\n",
      "\u001b[32m[I 11:01:04 InstallContribNbextensionsApp]\u001b[m Up to date: /home/grosedj/.local/share/jupyter/nbextensions/highlighter/readme.md\r\n",
      "\u001b[32m[I 11:01:04 InstallContribNbextensionsApp]\u001b[m Up to date: /home/grosedj/.local/share/jupyter/nbextensions/highlighter/export_highlights.pdf\r\n",
      "\u001b[32m[I 11:01:04 InstallContribNbextensionsApp]\u001b[m Up to date: /home/grosedj/.local/share/jupyter/nbextensions/highlighter/tst_highlights.tex\r\n",
      "\u001b[32m[I 11:01:04 InstallContribNbextensionsApp]\u001b[m Up to date: /home/grosedj/.local/share/jupyter/nbextensions/highlighter/tst_highlights.pdf\r\n",
      "\u001b[32m[I 11:01:04 InstallContribNbextensionsApp]\u001b[m Up to date: /home/grosedj/.local/share/jupyter/nbextensions/highlighter/demo_highlighter.ipynb\r\n",
      "\u001b[32m[I 11:01:04 InstallContribNbextensionsApp]\u001b[m Up to date: /home/grosedj/.local/share/jupyter/nbextensions/highlighter/export_highlights.html\r\n",
      "\u001b[32m[I 11:01:04 InstallContribNbextensionsApp]\u001b[m Up to date: /home/grosedj/.local/share/jupyter/nbextensions/highlighter/highlighter.css\r\n",
      "\u001b[32m[I 11:01:04 InstallContribNbextensionsApp]\u001b[m Up to date: /home/grosedj/.local/share/jupyter/nbextensions/highlighter/export_highlights.tex\r\n",
      "\u001b[32m[I 11:01:04 InstallContribNbextensionsApp]\u001b[m Up to date: /home/grosedj/.local/share/jupyter/nbextensions/highlighter/demo_highlighter.html\r\n",
      "\u001b[32m[I 11:01:04 InstallContribNbextensionsApp]\u001b[m Up to date: /home/grosedj/.local/share/jupyter/nbextensions/highlighter/tst_highlights.ipynb\r\n",
      "\u001b[32m[I 11:01:04 InstallContribNbextensionsApp]\u001b[m Up to date: /home/grosedj/.local/share/jupyter/nbextensions/highlighter/highlighter.js\r\n",
      "\u001b[32m[I 11:01:04 InstallContribNbextensionsApp]\u001b[m Up to date: /home/grosedj/.local/share/jupyter/nbextensions/highlighter/export_highlights.ipynb\r\n",
      "\u001b[32m[I 11:01:04 InstallContribNbextensionsApp]\u001b[m Up to date: /home/grosedj/.local/share/jupyter/nbextensions/highlighter/icon.png\r\n",
      "\u001b[32m[I 11:01:04 InstallContribNbextensionsApp]\u001b[m Up to date: /home/grosedj/.local/share/jupyter/nbextensions/highlighter/tst_highlights.html\r\n",
      "\u001b[32m[I 11:01:04 InstallContribNbextensionsApp]\u001b[m Up to date: /home/grosedj/.local/share/jupyter/nbextensions/highlighter/image.gif\r\n",
      "\u001b[32m[I 11:01:04 InstallContribNbextensionsApp]\u001b[m - Validating: \u001b[32mOK\u001b[0m\r\n",
      "\u001b[32m[I 11:01:04 InstallContribNbextensionsApp]\u001b[m Installing /home/grosedj/python-envs/further-python/env/lib/python3.9/site-packages/jupyter_contrib_nbextensions/nbextensions/equation-numbering -> equation-numbering\r\n",
      "\u001b[32m[I 11:01:04 InstallContribNbextensionsApp]\u001b[m Up to date: /home/grosedj/.local/share/jupyter/nbextensions/equation-numbering/readme.md\r\n",
      "\u001b[32m[I 11:01:04 InstallContribNbextensionsApp]\u001b[m Up to date: /home/grosedj/.local/share/jupyter/nbextensions/equation-numbering/button.png\r\n",
      "\u001b[32m[I 11:01:04 InstallContribNbextensionsApp]\u001b[m Up to date: /home/grosedj/.local/share/jupyter/nbextensions/equation-numbering/info.yaml\r\n",
      "\u001b[32m[I 11:01:04 InstallContribNbextensionsApp]\u001b[m Up to date: /home/grosedj/.local/share/jupyter/nbextensions/equation-numbering/icon.png\r\n",
      "\u001b[32m[I 11:01:04 InstallContribNbextensionsApp]\u001b[m Up to date: /home/grosedj/.local/share/jupyter/nbextensions/equation-numbering/main.js\r\n",
      "\u001b[32m[I 11:01:04 InstallContribNbextensionsApp]\u001b[m - Validating: \u001b[32mOK\u001b[0m\r\n",
      "\u001b[32m[I 11:01:04 InstallContribNbextensionsApp]\u001b[m Installing /home/grosedj/python-envs/further-python/env/lib/python3.9/site-packages/jupyter_contrib_nbextensions/nbextensions/skip-traceback -> skip-traceback\r\n",
      "\u001b[32m[I 11:01:04 InstallContribNbextensionsApp]\u001b[m Up to date: /home/grosedj/.local/share/jupyter/nbextensions/skip-traceback/readme.md\r\n",
      "\u001b[32m[I 11:01:04 InstallContribNbextensionsApp]\u001b[m Up to date: /home/grosedj/.local/share/jupyter/nbextensions/skip-traceback/traceback.png\r\n",
      "\u001b[32m[I 11:01:04 InstallContribNbextensionsApp]\u001b[m Up to date: /home/grosedj/.local/share/jupyter/nbextensions/skip-traceback/skip-traceback.png\r\n",
      "\u001b[32m[I 11:01:04 InstallContribNbextensionsApp]\u001b[m Up to date: /home/grosedj/.local/share/jupyter/nbextensions/skip-traceback/skip-traceback.yaml\r\n",
      "\u001b[32m[I 11:01:04 InstallContribNbextensionsApp]\u001b[m Up to date: /home/grosedj/.local/share/jupyter/nbextensions/skip-traceback/icon.png\r\n",
      "\u001b[32m[I 11:01:04 InstallContribNbextensionsApp]\u001b[m Up to date: /home/grosedj/.local/share/jupyter/nbextensions/skip-traceback/main.js\r\n",
      "\u001b[32m[I 11:01:04 InstallContribNbextensionsApp]\u001b[m - Validating: \u001b[32mOK\u001b[0m\r\n",
      "\u001b[32m[I 11:01:04 InstallContribNbextensionsApp]\u001b[m Installing /home/grosedj/python-envs/further-python/env/lib/python3.9/site-packages/jupyter_contrib_nbextensions/nbextensions/help_panel -> help_panel\r\n",
      "\u001b[32m[I 11:01:04 InstallContribNbextensionsApp]\u001b[m Up to date: /home/grosedj/.local/share/jupyter/nbextensions/help_panel/readme.md\r\n",
      "\u001b[32m[I 11:01:04 InstallContribNbextensionsApp]\u001b[m Up to date: /home/grosedj/.local/share/jupyter/nbextensions/help_panel/help_panel.css\r\n",
      "\u001b[32m[I 11:01:04 InstallContribNbextensionsApp]\u001b[m Up to date: /home/grosedj/.local/share/jupyter/nbextensions/help_panel/help_panel.yaml\r\n",
      "\u001b[32m[I 11:01:04 InstallContribNbextensionsApp]\u001b[m Up to date: /home/grosedj/.local/share/jupyter/nbextensions/help_panel/help_panel_ext_fullscreen.png\r\n",
      "\u001b[32m[I 11:01:04 InstallContribNbextensionsApp]\u001b[m Up to date: /home/grosedj/.local/share/jupyter/nbextensions/help_panel/icon.png\r\n",
      "\u001b[32m[I 11:01:04 InstallContribNbextensionsApp]\u001b[m Up to date: /home/grosedj/.local/share/jupyter/nbextensions/help_panel/help_panel.js\r\n",
      "\u001b[32m[I 11:01:04 InstallContribNbextensionsApp]\u001b[m Up to date: /home/grosedj/.local/share/jupyter/nbextensions/help_panel/help_panel_ext.png\r\n",
      "\u001b[32m[I 11:01:04 InstallContribNbextensionsApp]\u001b[m Up to date: /home/grosedj/.local/share/jupyter/nbextensions/help_panel/img/handle-v.png\r\n",
      "\u001b[32m[I 11:01:04 InstallContribNbextensionsApp]\u001b[m - Validating: \u001b[32mOK\u001b[0m\r\n",
      "\u001b[32m[I 11:01:04 InstallContribNbextensionsApp]\u001b[m Installing /home/grosedj/python-envs/further-python/env/lib/python3.9/site-packages/jupyter_highlight_selected_word/static/highlight_selected_word -> highlight_selected_word\r\n",
      "\u001b[32m[I 11:01:04 InstallContribNbextensionsApp]\u001b[m Up to date: /home/grosedj/.local/share/jupyter/nbextensions/highlight_selected_word/README.md\r\n",
      "\u001b[32m[I 11:01:04 InstallContribNbextensionsApp]\u001b[m Up to date: /home/grosedj/.local/share/jupyter/nbextensions/highlight_selected_word/main.js\r\n",
      "\u001b[32m[I 11:01:04 InstallContribNbextensionsApp]\u001b[m Up to date: /home/grosedj/.local/share/jupyter/nbextensions/highlight_selected_word/configurator.yaml\r\n",
      "\u001b[32m[I 11:01:04 InstallContribNbextensionsApp]\u001b[m - Validating: \u001b[32mOK\u001b[0m\r\n",
      "\u001b[32m[I 11:01:04 InstallContribNbextensionsApp]\u001b[m Installing /home/grosedj/python-envs/further-python/env/lib/python3.9/site-packages/latex_envs/static -> latex_envs\r\n",
      "\u001b[32m[I 11:01:04 InstallContribNbextensionsApp]\u001b[m Up to date: /home/grosedj/.local/share/jupyter/nbextensions/latex_envs/bibInNb4.js\r\n",
      "\u001b[32m[I 11:01:04 InstallContribNbextensionsApp]\u001b[m Up to date: /home/grosedj/.local/share/jupyter/nbextensions/latex_envs/latex_envs.css\r\n",
      "\u001b[32m[I 11:01:04 InstallContribNbextensionsApp]\u001b[m Up to date: /home/grosedj/.local/share/jupyter/nbextensions/latex_envs/envsLatex.js\r\n",
      "\u001b[32m[I 11:01:04 InstallContribNbextensionsApp]\u001b[m Up to date: /home/grosedj/.local/share/jupyter/nbextensions/latex_envs/main_toolbar.png\r\n",
      "\u001b[32m[I 11:01:04 InstallContribNbextensionsApp]\u001b[m Up to date: /home/grosedj/.local/share/jupyter/nbextensions/latex_envs/initNb.js\r\n",
      "\u001b[32m[I 11:01:04 InstallContribNbextensionsApp]\u001b[m Up to date: /home/grosedj/.local/share/jupyter/nbextensions/latex_envs/envsLatex.json\r\n",
      "\u001b[32m[I 11:01:04 InstallContribNbextensionsApp]\u001b[m Up to date: /home/grosedj/.local/share/jupyter/nbextensions/latex_envs/latex_envs.yaml\r\n",
      "\u001b[32m[I 11:01:04 InstallContribNbextensionsApp]\u001b[m Up to date: /home/grosedj/.local/share/jupyter/nbextensions/latex_envs/thmsInNb4.js\r\n",
      "\u001b[32m[I 11:01:04 InstallContribNbextensionsApp]\u001b[m Up to date: /home/grosedj/.local/share/jupyter/nbextensions/latex_envs/example_user_envs.json\r\n",
      "\u001b[32m[I 11:01:04 InstallContribNbextensionsApp]\u001b[m Up to date: /home/grosedj/.local/share/jupyter/nbextensions/latex_envs/README.md\r\n",
      "\u001b[32m[I 11:01:04 InstallContribNbextensionsApp]\u001b[m Up to date: /home/grosedj/.local/share/jupyter/nbextensions/latex_envs/example.png\r\n",
      "\u001b[32m[I 11:01:04 InstallContribNbextensionsApp]\u001b[m Up to date: /home/grosedj/.local/share/jupyter/nbextensions/latex_envs/icon.png\r\n",
      "\u001b[32m[I 11:01:04 InstallContribNbextensionsApp]\u001b[m Up to date: /home/grosedj/.local/share/jupyter/nbextensions/latex_envs/latex_envs.js\r\n",
      "\u001b[32m[I 11:01:04 InstallContribNbextensionsApp]\u001b[m Up to date: /home/grosedj/.local/share/jupyter/nbextensions/latex_envs/bibtex2.js\r\n",
      "\u001b[32m[I 11:01:04 InstallContribNbextensionsApp]\u001b[m Up to date: /home/grosedj/.local/share/jupyter/nbextensions/latex_envs/configuration_toolbar.png\r\n",
      "\u001b[32m[I 11:01:04 InstallContribNbextensionsApp]\u001b[m Up to date: /home/grosedj/.local/share/jupyter/nbextensions/latex_envs/doc/latex_env_doc.html\r\n",
      "\u001b[32m[I 11:01:04 InstallContribNbextensionsApp]\u001b[m Up to date: /home/grosedj/.local/share/jupyter/nbextensions/latex_envs/doc/biblio_ipython.bib\r\n",
      "\u001b[32m[I 11:01:04 InstallContribNbextensionsApp]\u001b[m Up to date: /home/grosedj/.local/share/jupyter/nbextensions/latex_envs/doc/documentation.tex\r\n",
      "\u001b[32m[I 11:01:04 InstallContribNbextensionsApp]\u001b[m Up to date: /home/grosedj/.local/share/jupyter/nbextensions/latex_envs/doc/config_toolbar.png\r\n",
      "\u001b[32m[I 11:01:04 InstallContribNbextensionsApp]\u001b[m Up to date: /home/grosedj/.local/share/jupyter/nbextensions/latex_envs/doc/main_toolbar.png\r\n",
      "\u001b[32m[I 11:01:04 InstallContribNbextensionsApp]\u001b[m Up to date: /home/grosedj/.local/share/jupyter/nbextensions/latex_envs/doc/header.tex\r\n",
      "\u001b[32m[I 11:01:04 InstallContribNbextensionsApp]\u001b[m Up to date: /home/grosedj/.local/share/jupyter/nbextensions/latex_envs/doc/IEEEtran.bst\r\n",
      "\u001b[32m[I 11:01:04 InstallContribNbextensionsApp]\u001b[m Up to date: /home/grosedj/.local/share/jupyter/nbextensions/latex_envs/doc/latex_env_doc.tex\r\n",
      "\u001b[32m[I 11:01:04 InstallContribNbextensionsApp]\u001b[m Up to date: /home/grosedj/.local/share/jupyter/nbextensions/latex_envs/doc/README.md\r\n",
      "\u001b[32m[I 11:01:04 InstallContribNbextensionsApp]\u001b[m Up to date: /home/grosedj/.local/share/jupyter/nbextensions/latex_envs/doc/example.png\r\n",
      "\u001b[32m[I 11:01:04 InstallContribNbextensionsApp]\u001b[m Up to date: /home/grosedj/.local/share/jupyter/nbextensions/latex_envs/doc/Toggles.png\r\n",
      "\u001b[32m[I 11:01:04 InstallContribNbextensionsApp]\u001b[m Up to date: /home/grosedj/.local/share/jupyter/nbextensions/latex_envs/doc/LaTeX_envs_menu.png\r\n",
      "\u001b[32m[I 11:01:04 InstallContribNbextensionsApp]\u001b[m Up to date: /home/grosedj/.local/share/jupyter/nbextensions/latex_envs/doc/documentation.pdf\r\n",
      "\u001b[32m[I 11:01:04 InstallContribNbextensionsApp]\u001b[m Up to date: /home/grosedj/.local/share/jupyter/nbextensions/latex_envs/doc/latex_env_doc.ipynb\r\n",
      "\u001b[32m[I 11:01:04 InstallContribNbextensionsApp]\u001b[m Up to date: /home/grosedj/.local/share/jupyter/nbextensions/latex_envs/doc/configuration_toolbar.png\r\n",
      "\u001b[32m[I 11:01:04 InstallContribNbextensionsApp]\u001b[m Up to date: /home/grosedj/.local/share/jupyter/nbextensions/latex_envs/doc/latex_env_doc_files/latex_env_doc_50_0.png\r\n",
      "\u001b[32m[I 11:01:04 InstallContribNbextensionsApp]\u001b[m Up to date: /home/grosedj/.local/share/jupyter/nbextensions/latex_envs/doc/latex_env_doc_files/latex_env_doc_27_2.png\r\n",
      "\u001b[32m[I 11:01:04 InstallContribNbextensionsApp]\u001b[m Up to date: /home/grosedj/.local/share/jupyter/nbextensions/latex_envs/doc/latex_env_doc_files/latex_env_doc_48_0.png\r\n",
      "\u001b[32m[I 11:01:04 InstallContribNbextensionsApp]\u001b[m Up to date: /home/grosedj/.local/share/jupyter/nbextensions/latex_envs/doc/latex_env_doc_files/latex_env_doc_52_0.png\r\n",
      "\u001b[32m[I 11:01:04 InstallContribNbextensionsApp]\u001b[m Up to date: /home/grosedj/.local/share/jupyter/nbextensions/latex_envs/doc/latex_env_doc_files/latex_env_doc_23_2.png\r\n",
      "\u001b[32m[I 11:01:04 InstallContribNbextensionsApp]\u001b[m Up to date: /home/grosedj/.local/share/jupyter/nbextensions/latex_envs/doc/latex_env_doc_files/latex_env_doc_24_2.png\r\n",
      "\u001b[32m[I 11:01:04 InstallContribNbextensionsApp]\u001b[m Up to date: /home/grosedj/.local/share/jupyter/nbextensions/latex_envs/doc/latex_env_doc_files/latex_env_doc_43_0.png\r\n",
      "\u001b[32m[I 11:01:04 InstallContribNbextensionsApp]\u001b[m Up to date: /home/grosedj/.local/share/jupyter/nbextensions/latex_envs/doc/latex_env_doc_files/latex_env_doc_26_2.png\r\n",
      "\u001b[32m[I 11:01:04 InstallContribNbextensionsApp]\u001b[m Up to date: /home/grosedj/.local/share/jupyter/nbextensions/latex_envs/doc/latex_env_doc_files/latex_env_doc_41_0.png\r\n",
      "\u001b[32m[I 11:01:04 InstallContribNbextensionsApp]\u001b[m Up to date: /home/grosedj/.local/share/jupyter/nbextensions/latex_envs/doc/latex_env_doc_files/latex_env_doc_49_0.png\r\n",
      "\u001b[32m[I 11:01:04 InstallContribNbextensionsApp]\u001b[m Up to date: /home/grosedj/.local/share/jupyter/nbextensions/latex_envs/doc/latex_env_doc_files/latex_env_doc_47_0.png\r\n",
      "\u001b[32m[I 11:01:04 InstallContribNbextensionsApp]\u001b[m Up to date: /home/grosedj/.local/share/jupyter/nbextensions/latex_envs/doc/latex_env_doc_files/latex_env_doc_45_0.png\r\n",
      "\u001b[32m[I 11:01:04 InstallContribNbextensionsApp]\u001b[m Up to date: /home/grosedj/.local/share/jupyter/nbextensions/latex_envs/doc/latex_env_doc_files/latex_env_doc_42_0.png\r\n",
      "\u001b[32m[I 11:01:04 InstallContribNbextensionsApp]\u001b[m Up to date: /home/grosedj/.local/share/jupyter/nbextensions/latex_envs/doc/latex_env_doc_files/latex_env_doc_44_0.png\r\n",
      "\u001b[32m[I 11:01:04 InstallContribNbextensionsApp]\u001b[m Up to date: /home/grosedj/.local/share/jupyter/nbextensions/latex_envs/doc/latex_env_doc_files/latex_env_doc_51_0.png\r\n",
      "\u001b[32m[I 11:01:04 InstallContribNbextensionsApp]\u001b[m Up to date: /home/grosedj/.local/share/jupyter/nbextensions/latex_envs/doc/latex_env_doc_files/latex_env_doc_46_0.png\r\n",
      "\u001b[32m[I 11:01:04 InstallContribNbextensionsApp]\u001b[m Up to date: /home/grosedj/.local/share/jupyter/nbextensions/latex_envs/doc/.ipynb_checkpoints/latex_env_doc-checkpoint.ipynb\r\n",
      "\u001b[32m[I 11:01:04 InstallContribNbextensionsApp]\u001b[m - Validating: \u001b[32mOK\u001b[0m\r\n",
      "\u001b[32m[I 11:01:04 InstallContribNbextensionsApp]\u001b[m Installing jupyter_contrib_nbextensions items to config in /home/grosedj/.jupyter\r\n",
      "Enabling: jupyter_nbextensions_configurator\r\n",
      "- Writing config: /home/grosedj/.jupyter\r\n",
      "    - Validating...\r\n",
      "      jupyter_nbextensions_configurator 0.4.1 \u001b[32mOK\u001b[0m\r\n",
      "Enabling notebook nbextension nbextensions_configurator/config_menu/main...\r\n",
      "Enabling tree nbextension nbextensions_configurator/tree_tab/main...\r\n",
      "\u001b[32m[I 11:01:04 InstallContribNbextensionsApp]\u001b[m Enabling notebook extension contrib_nbextensions_help_item/main...\r\n",
      "\u001b[32m[I 11:01:04 InstallContribNbextensionsApp]\u001b[m       - Validating: \u001b[32mOK\u001b[0m\r\n",
      "\u001b[32m[I 11:01:04 InstallContribNbextensionsApp]\u001b[m - Editing config: /home/grosedj/.jupyter/jupyter_nbconvert_config.json\r\n",
      "\u001b[32m[I 11:01:04 InstallContribNbextensionsApp]\u001b[m --  Configuring nbconvert template path\r\n",
      "\u001b[32m[I 11:01:04 InstallContribNbextensionsApp]\u001b[m --  Configuring nbconvert preprocessors\r\n",
      "\u001b[32m[I 11:01:04 InstallContribNbextensionsApp]\u001b[m - Writing config: /home/grosedj/.jupyter/jupyter_nbconvert_config.json\r\n",
      "\u001b[32m[I 11:01:04 InstallContribNbextensionsApp]\u001b[m --  Writing updated config file /home/grosedj/.jupyter/jupyter_nbconvert_config.json\r\n"
     ]
    }
   ],
   "source": [
    "!jupyter contrib nbextension install --user"
   ]
  },
  {
   "cell_type": "code",
   "execution_count": null,
   "id": "recreational-destiny",
   "metadata": {},
   "outputs": [],
   "source": []
  },
  {
   "cell_type": "code",
   "execution_count": null,
   "id": "painted-reform",
   "metadata": {},
   "outputs": [],
   "source": []
  },
  {
   "cell_type": "code",
   "execution_count": null,
   "id": "adult-joseph",
   "metadata": {},
   "outputs": [],
   "source": []
  },
  {
   "cell_type": "code",
   "execution_count": null,
   "id": "further-clinic",
   "metadata": {},
   "outputs": [],
   "source": []
  }
 ],
 "metadata": {
  "celltoolbar": "Edit Metadata",
  "kernelspec": {
   "display_name": "Python 3",
   "language": "python",
   "name": "python3"
  },
  "language_info": {
   "codemirror_mode": {
    "name": "ipython",
    "version": 3
   },
   "file_extension": ".py",
   "mimetype": "text/x-python",
   "name": "python",
   "nbconvert_exporter": "python",
   "pygments_lexer": "ipython3",
   "version": "3.9.0"
  }
 },
 "nbformat": 4,
 "nbformat_minor": 5
}
