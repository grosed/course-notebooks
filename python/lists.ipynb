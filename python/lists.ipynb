{
 "cells": [
  {
   "cell_type": "markdown",
   "id": "5cfdfa1e",
   "metadata": {},
   "source": [
    "# Lists"
   ]
  },
  {
   "cell_type": "markdown",
   "id": "466c9966",
   "metadata": {},
   "source": [
    "## A list is a sequence"
   ]
  },
  {
   "cell_type": "markdown",
   "id": "6a56de3e",
   "metadata": {},
   "source": [
    "A  python **list** is a sequence of values which can be of any (and mixed)  type. The values in\n",
    "a list are called **elements** or sometimes **items**. There are several ways to create a new list; the simplest is to\n",
    "enclose the elements in square brackets \\[ \\]."
   ]
  },
  {
   "cell_type": "code",
   "execution_count": 26,
   "id": "42474c31",
   "metadata": {},
   "outputs": [
    {
     "data": {
      "text/plain": [
       "[10, 20, 30, 40]"
      ]
     },
     "execution_count": 26,
     "metadata": {},
     "output_type": "execute_result"
    }
   ],
   "source": [
    "[10, 20, 30, 40]"
   ]
  },
  {
   "cell_type": "code",
   "execution_count": 27,
   "id": "ed488de9",
   "metadata": {},
   "outputs": [
    {
     "data": {
      "text/plain": [
       "['crunchy frog', 'ram bladder', 'lark vomit']"
      ]
     },
     "execution_count": 27,
     "metadata": {},
     "output_type": "execute_result"
    }
   ],
   "source": [
    "['crunchy frog', 'ram bladder', 'lark vomit']"
   ]
  },
  {
   "cell_type": "markdown",
   "id": "222a5e67",
   "metadata": {},
   "source": [
    "The first example is a list of four integers.  The second is a list of\n",
    "three strings.  The elements of a list don't have to be the same type.\n",
    "The following list contains a string, a float, an integer, and\n",
    "another list. "
   ]
  },
  {
   "cell_type": "code",
   "execution_count": 28,
   "id": "9410e623",
   "metadata": {},
   "outputs": [
    {
     "data": {
      "text/plain": [
       "['hello', 3.14, 42, [True, 2.71]]"
      ]
     },
     "execution_count": 28,
     "metadata": {},
     "output_type": "execute_result"
    }
   ],
   "source": [
    "[\"hello\",3.14,42,[True,2.71]]"
   ]
  },
  {
   "cell_type": "markdown",
   "id": "0c576090",
   "metadata": {},
   "source": [
    "A list within another list is often referred to as being **nested** list. Data structures, such as lists, which can contain their own __type__ are called __recursive__ data structures. "
   ]
  },
  {
   "cell_type": "markdown",
   "id": "b1ce52f0",
   "metadata": {},
   "source": [
    "A list that contains no elements is\n",
    "called an empty list; you can create one with empty\n",
    "brackets, \\[ \\]."
   ]
  },
  {
   "cell_type": "code",
   "execution_count": 29,
   "id": "e544be7a",
   "metadata": {},
   "outputs": [
    {
     "data": {
      "text/plain": [
       "[]"
      ]
     },
     "execution_count": 29,
     "metadata": {},
     "output_type": "execute_result"
    }
   ],
   "source": [
    "[]"
   ]
  },
  {
   "cell_type": "markdown",
   "id": "d2c80f63",
   "metadata": {},
   "source": [
    "As you might expect, you can assign list values to variables."
   ]
  },
  {
   "cell_type": "code",
   "execution_count": 30,
   "id": "45d653cc",
   "metadata": {},
   "outputs": [],
   "source": [
    "cheeses = ['Cheddar', 'Edam', 'Gouda']\n",
    "numbers = [17, 123]\n",
    "empty = []"
   ]
  },
  {
   "cell_type": "markdown",
   "id": "45f4621e",
   "metadata": {},
   "source": [
    "## Accessing and manipulating  lists"
   ]
  },
  {
   "cell_type": "markdown",
   "id": "670ece3a",
   "metadata": {},
   "source": [
    "The syntax for accessing the elements of a list is the the bracket operator.  The\n",
    "expression inside the brackets specifies the index which start at 0.\n"
   ]
  },
  {
   "cell_type": "code",
   "execution_count": 31,
   "id": "4a1d0f5b",
   "metadata": {},
   "outputs": [
    {
     "name": "stdout",
     "output_type": "stream",
     "text": [
      "Cheddar\n"
     ]
    }
   ],
   "source": [
    "print(cheeses[0])"
   ]
  },
  {
   "cell_type": "markdown",
   "id": "f40f1167",
   "metadata": {},
   "source": [
    "This behaviour is similar to that of Python strings. For example,"
   ]
  },
  {
   "cell_type": "code",
   "execution_count": 33,
   "id": "7f62664e",
   "metadata": {},
   "outputs": [
    {
     "data": {
      "text/plain": [
       "'o'"
      ]
     },
     "execution_count": 33,
     "metadata": {},
     "output_type": "execute_result"
    }
   ],
   "source": [
    "msg = \"hello world\"\n",
    "msg[0]\n",
    "msg[7]"
   ]
  },
  {
   "cell_type": "markdown",
   "id": "40984478",
   "metadata": {},
   "source": [
    "When the bracket operator appears\n",
    "on the left side of an assignment, it identifies the element of the\n",
    "list that will be assigned."
   ]
  },
  {
   "cell_type": "code",
   "execution_count": 34,
   "id": "48c55e2a",
   "metadata": {},
   "outputs": [
    {
     "name": "stdout",
     "output_type": "stream",
     "text": [
      "[17, 5]\n"
     ]
    }
   ],
   "source": [
    "numbers = [17, 123]\n",
    "numbers[1] = 5\n",
    "print(numbers)"
   ]
  },
  {
   "cell_type": "markdown",
   "id": "49ec2ef4",
   "metadata": {},
   "source": [
    "The one-th element of **numbers**, which\n",
    "used to be 123, is now 5.\n",
    "However, this is not the case for a string."
   ]
  },
  {
   "cell_type": "code",
   "execution_count": 35,
   "id": "297db779",
   "metadata": {},
   "outputs": [
    {
     "ename": "TypeError",
     "evalue": "'str' object does not support item assignment",
     "output_type": "error",
     "traceback": [
      "\u001b[0;31m---------------------------------------------------------------------------\u001b[0m",
      "\u001b[0;31mTypeError\u001b[0m                                 Traceback (most recent call last)",
      "\u001b[0;32m<ipython-input-35-eeb94fc0a62d>\u001b[0m in \u001b[0;36m<module>\u001b[0;34m\u001b[0m\n\u001b[0;32m----> 1\u001b[0;31m \u001b[0mmsg\u001b[0m\u001b[0;34m[\u001b[0m\u001b[0;36m2\u001b[0m\u001b[0;34m]\u001b[0m \u001b[0;34m=\u001b[0m \u001b[0;34m\"a\"\u001b[0m\u001b[0;34m\u001b[0m\u001b[0;34m\u001b[0m\u001b[0m\n\u001b[0m",
      "\u001b[0;31mTypeError\u001b[0m: 'str' object does not support item assignment"
     ]
    }
   ],
   "source": [
    "msg[2] = \"a\""
   ]
  },
  {
   "cell_type": "markdown",
   "id": "03605765",
   "metadata": {},
   "source": [
    "This reflects the fact that in Python lists are __\"mutable\"__ (can be modified), and strings are \"__immutable\"__ (cannot be modified). To modify an existing string you have\n",
    "to create a new one from the old using a function - this is not the case for lists."
   ]
  },
  {
   "cell_type": "markdown",
   "id": "adbabc3d",
   "metadata": {},
   "source": [
    "### <u>Exercise 1</u>\n",
    "\n",
    "Create a string and assign it to a variable. Now make a new string that is the concatenation of the original and assign it to a new variable."
   ]
  },
  {
   "cell_type": "code",
   "execution_count": 1,
   "id": "5d04f005",
   "metadata": {
    "tags": [
     "hide-input",
     "hide-output"
    ]
   },
   "outputs": [
    {
     "name": "stdout",
     "output_type": "stream",
     "text": [
      "hello world\n"
     ]
    }
   ],
   "source": [
    "s1 = \"hello\"\n",
    "s2 = s1 + \" world\"\n",
    "print(s2)"
   ]
  },
  {
   "cell_type": "markdown",
   "id": "21ea447f",
   "metadata": {},
   "source": [
    "You can think of a list as a relationship between indices and\n",
    "elements.  This relationship is called a **mapping**; each index\n",
    "\"__maps to\"__ one of the elements."
   ]
  },
  {
   "cell_type": "markdown",
   "id": "fef3b517",
   "metadata": {},
   "source": [
    "![title](figs/liststate.png)"
   ]
  },
  {
   "cell_type": "markdown",
   "id": "8bc4bfa4",
   "metadata": {},
   "source": [
    "Lists are represented by boxes with the word ``list'' outside\n",
    "and the elements of the list inside.  **cheeses** refers to\n",
    "a list with three elements indexed 0, 1 and 2.\n",
    "**numbers** contains two elements; the diagram shows that the\n",
    "value of the second element has been reassigned from 123 to 5.\n",
    "**empty** refers to a list with no elements."
   ]
  },
  {
   "cell_type": "markdown",
   "id": "42da1966",
   "metadata": {},
   "source": [
    "List indices work the same way as string indices:\n",
    "\n",
    "\n",
    "\n",
    "- Any integer expression can be used as an index.\n",
    "\n",
    "- If you try to read or write an element that does not exist, you\n",
    "get an **IndexError**.\n",
    "\n",
    "- If an index has a negative value, it counts backward from the\n",
    "end of the list.\n",
    "\n",
    "The ___in___ operator can be used to fond if an element is in a list.\n"
   ]
  },
  {
   "cell_type": "code",
   "execution_count": 36,
   "id": "0427e8c1",
   "metadata": {},
   "outputs": [],
   "source": [
    "cheeses = ['Cheddar', 'Edam', 'Gouda']"
   ]
  },
  {
   "cell_type": "code",
   "execution_count": 37,
   "id": "097c146f",
   "metadata": {},
   "outputs": [
    {
     "data": {
      "text/plain": [
       "True"
      ]
     },
     "execution_count": 37,
     "metadata": {},
     "output_type": "execute_result"
    }
   ],
   "source": [
    "'Edam' in cheeses"
   ]
  },
  {
   "cell_type": "code",
   "execution_count": 38,
   "id": "86231e49",
   "metadata": {},
   "outputs": [
    {
     "data": {
      "text/plain": [
       "False"
      ]
     },
     "execution_count": 38,
     "metadata": {},
     "output_type": "execute_result"
    }
   ],
   "source": [
    "'Brie' in cheeses"
   ]
  },
  {
   "cell_type": "markdown",
   "id": "0b2c401c",
   "metadata": {},
   "source": [
    "## List operations"
   ]
  },
  {
   "cell_type": "markdown",
   "id": "dd0ecc78",
   "metadata": {},
   "source": [
    "\n",
    "The **+** operator concatenates lists."
   ]
  },
  {
   "cell_type": "code",
   "execution_count": 39,
   "id": "a78941bc",
   "metadata": {},
   "outputs": [
    {
     "name": "stdout",
     "output_type": "stream",
     "text": [
      "[1, 2, 3, 4, 5, 6]\n"
     ]
    }
   ],
   "source": [
    "a = [1, 2, 3]\n",
    "b = [4, 5, 6]\n",
    "c = a + b\n",
    "print(c)"
   ]
  },
  {
   "cell_type": "markdown",
   "id": "6ae8cde1",
   "metadata": {},
   "source": [
    "### Exercise 1\n",
    "\n",
    "Find out what the **\\*** operator does with lists."
   ]
  },
  {
   "cell_type": "markdown",
   "id": "282d25a9",
   "metadata": {},
   "source": [
    "### Solution 1"
   ]
  },
  {
   "cell_type": "code",
   "execution_count": 40,
   "id": "790176da",
   "metadata": {
    "tags": [
     "hide-input",
     "hide-output"
    ]
   },
   "outputs": [
    {
     "data": {
      "text/plain": [
       "[1, 2, 3, 1, 2, 3, 1, 2, 3]"
      ]
     },
     "execution_count": 40,
     "metadata": {},
     "output_type": "execute_result"
    }
   ],
   "source": [
    "[0] * 4\n",
    "[1, 2, 3] * 3"
   ]
  },
  {
   "cell_type": "markdown",
   "id": "a2c0ba93",
   "metadata": {},
   "source": [
    "There is a \"__slice\"\"__ operator for lists."
   ]
  },
  {
   "cell_type": "code",
   "execution_count": 42,
   "id": "765613e3",
   "metadata": {},
   "outputs": [],
   "source": [
    "t = ['a', 'b', 'c', 'd', 'e', 'f']"
   ]
  },
  {
   "cell_type": "code",
   "execution_count": 43,
   "id": "cf966225",
   "metadata": {},
   "outputs": [
    {
     "data": {
      "text/plain": [
       "['b', 'c']"
      ]
     },
     "execution_count": 43,
     "metadata": {},
     "output_type": "execute_result"
    }
   ],
   "source": [
    "t[1:3]"
   ]
  },
  {
   "cell_type": "code",
   "execution_count": 44,
   "id": "fbe9e964",
   "metadata": {},
   "outputs": [
    {
     "data": {
      "text/plain": [
       "['a', 'b', 'c', 'd']"
      ]
     },
     "execution_count": 44,
     "metadata": {},
     "output_type": "execute_result"
    }
   ],
   "source": [
    "t[:4]"
   ]
  },
  {
   "cell_type": "code",
   "execution_count": 45,
   "id": "6edf00f1",
   "metadata": {},
   "outputs": [
    {
     "data": {
      "text/plain": [
       "['d', 'e', 'f']"
      ]
     },
     "execution_count": 45,
     "metadata": {},
     "output_type": "execute_result"
    }
   ],
   "source": [
    "t[3:]"
   ]
  },
  {
   "cell_type": "markdown",
   "id": "2f9bab0a",
   "metadata": {},
   "source": [
    "If you omit the first index, the slice starts at the beginning.\n",
    "If you omit the second, the slice goes to the end.  So if you\n",
    "omit both, the slice is a copy of the whole list."
   ]
  },
  {
   "cell_type": "code",
   "execution_count": 46,
   "id": "f8b4bf38",
   "metadata": {},
   "outputs": [
    {
     "data": {
      "text/plain": [
       "['a', 'b', 'c', 'd', 'e', 'f']"
      ]
     },
     "execution_count": 46,
     "metadata": {},
     "output_type": "execute_result"
    }
   ],
   "source": [
    "t[:]"
   ]
  },
  {
   "cell_type": "markdown",
   "id": "398977be",
   "metadata": {},
   "source": [
    "Since lists are mutable, it is often useful to make a copy\n",
    "before performing operations that fold, spindle or mutilate\n",
    "lists. A slice operator on the left side of an assignment\n",
    "can update multiple elements."
   ]
  },
  {
   "cell_type": "code",
   "execution_count": 47,
   "id": "8fe4da4a",
   "metadata": {},
   "outputs": [
    {
     "name": "stdout",
     "output_type": "stream",
     "text": [
      "['a', 'x', 'y', 'd', 'e', 'f']\n"
     ]
    }
   ],
   "source": [
    "t[1:3] = ['x', 'y']\n",
    "print(t)"
   ]
  },
  {
   "cell_type": "markdown",
   "id": "b9cf8b0e",
   "metadata": {},
   "source": [
    "You can add elements to a list by squeezing them into an empty slice."
   ]
  },
  {
   "cell_type": "code",
   "execution_count": 48,
   "id": "d257e70d",
   "metadata": {},
   "outputs": [
    {
     "name": "stdout",
     "output_type": "stream",
     "text": [
      "['a', 'b', 'c', 'd', 'e', 'f']\n"
     ]
    }
   ],
   "source": [
    "t = ['a', 'd', 'e', 'f']\n",
    "t[1:1] = ['b', 'c']\n",
    "print(t)"
   ]
  },
  {
   "cell_type": "markdown",
   "id": "8b57e054",
   "metadata": {},
   "source": [
    "And you can remove elements from a list by assigning the empty list to\n",
    "them."
   ]
  },
  {
   "cell_type": "code",
   "execution_count": 51,
   "id": "b9cdf55e",
   "metadata": {},
   "outputs": [],
   "source": [
    "t = ['a', 'b', 'c', 'd', 'e', 'f']"
   ]
  },
  {
   "cell_type": "code",
   "execution_count": 52,
   "id": "aa8d8460",
   "metadata": {},
   "outputs": [],
   "source": [
    "t[1:3] = []"
   ]
  },
  {
   "cell_type": "code",
   "execution_count": 53,
   "id": "2644a5e1",
   "metadata": {},
   "outputs": [
    {
     "name": "stdout",
     "output_type": "stream",
     "text": [
      "['a', 'd', 'e', 'f']\n"
     ]
    }
   ],
   "source": [
    "print(t)"
   ]
  },
  {
   "cell_type": "markdown",
   "id": "f41a0513",
   "metadata": {},
   "source": [
    "## List methods"
   ]
  },
  {
   "cell_type": "markdown",
   "id": "69d4f933",
   "metadata": {},
   "source": [
    "Python provides methods that operate on lists.  For example,\n",
    "**append** adds a new element to the end of a list."
   ]
  },
  {
   "cell_type": "code",
   "execution_count": 55,
   "id": "9b40d00d",
   "metadata": {},
   "outputs": [
    {
     "name": "stdout",
     "output_type": "stream",
     "text": [
      "['a', 'b', 'c', 'd']\n"
     ]
    }
   ],
   "source": [
    "t = ['a', 'b', 'c']\n",
    "t.append('d')\n",
    "print(t)"
   ]
  },
  {
   "cell_type": "markdown",
   "id": "25561253",
   "metadata": {},
   "source": [
    "**extend** takes a list as an argument and appends all of\n",
    "the elements. The following example leaves **t2** unmodified."
   ]
  },
  {
   "cell_type": "code",
   "execution_count": 56,
   "id": "b3816c6f",
   "metadata": {},
   "outputs": [
    {
     "name": "stdout",
     "output_type": "stream",
     "text": [
      "['d', 'e']\n"
     ]
    }
   ],
   "source": [
    "t1 = ['a', 'b', 'c']\n",
    "t2 = ['d', 'e']\n",
    "t1.extend(t2)\n",
    "print(t2)"
   ]
  },
  {
   "cell_type": "markdown",
   "id": "6269f6de",
   "metadata": {},
   "source": [
    "**sort** arranges the elements of the list from low to high."
   ]
  },
  {
   "cell_type": "code",
   "execution_count": 8,
   "id": "b31a1c10",
   "metadata": {},
   "outputs": [
    {
     "name": "stdout",
     "output_type": "stream",
     "text": [
      "['a', 'b', 'c', 'd', 'e']\n"
     ]
    }
   ],
   "source": [
    "t = ['d', 'c', 'e', 'b', 'a']\n",
    "t.sort()\n",
    "print(t)"
   ]
  },
  {
   "cell_type": "markdown",
   "id": "e633a528",
   "metadata": {},
   "source": [
    "List methods are all void; they modify the list and return **None**.\n"
   ]
  },
  {
   "cell_type": "markdown",
   "id": "65e8646a",
   "metadata": {},
   "source": [
    "### Exercise 2\n",
    "\n",
    "What does the follwing code do ?"
   ]
  },
  {
   "cell_type": "code",
   "execution_count": 9,
   "id": "c7469cd7",
   "metadata": {
    "tags": [
     "hide-output"
    ]
   },
   "outputs": [],
   "source": [
    "t = t.sort()"
   ]
  },
  {
   "cell_type": "code",
   "execution_count": 11,
   "id": "74502bf0",
   "metadata": {
    "tags": [
     "hide-output"
    ]
   },
   "outputs": [
    {
     "name": "stdout",
     "output_type": "stream",
     "text": [
      "None\n"
     ]
    }
   ],
   "source": [
    "print(t)"
   ]
  },
  {
   "cell_type": "markdown",
   "id": "519b668c",
   "metadata": {},
   "source": [
    "## Aliasing"
   ]
  },
  {
   "cell_type": "markdown",
   "id": "c9b367d8",
   "metadata": {},
   "source": [
    "If **a** refers to an object and you assign **b = a**,\n",
    "then both variables refer to the same object."
   ]
  },
  {
   "cell_type": "code",
   "execution_count": 13,
   "id": "83b6724c",
   "metadata": {},
   "outputs": [
    {
     "data": {
      "text/plain": [
       "True"
      ]
     },
     "execution_count": 13,
     "metadata": {},
     "output_type": "execute_result"
    }
   ],
   "source": [
    "a = [1, 2, 3]\n",
    "b = a\n",
    "b is a"
   ]
  },
  {
   "cell_type": "markdown",
   "id": "83033e6d",
   "metadata": {},
   "source": [
    "The state diagram for this is."
   ]
  },
  {
   "cell_type": "markdown",
   "id": "a2497177",
   "metadata": {},
   "source": [
    "![title](figs/list3.png)"
   ]
  },
  {
   "cell_type": "markdown",
   "id": "77185560",
   "metadata": {},
   "source": [
    "### Exercise 3\n",
    "\n",
    "What does the python keyword **is** do ?"
   ]
  },
  {
   "cell_type": "markdown",
   "id": "c7cd0b4f",
   "metadata": {},
   "source": [
    "### Exercise 4\n",
    "\n",
    "What do you think the output of the follwing code is ?"
   ]
  },
  {
   "cell_type": "code",
   "execution_count": 14,
   "id": "c4d8920c",
   "metadata": {
    "tags": [
     "hide-output"
    ]
   },
   "outputs": [
    {
     "name": "stdout",
     "output_type": "stream",
     "text": [
      "True\n",
      "False\n"
     ]
    }
   ],
   "source": [
    "b = [1,2,3]\n",
    "print(b == a)\n",
    "print(b is a)"
   ]
  },
  {
   "cell_type": "markdown",
   "id": "7fad746f",
   "metadata": {},
   "source": [
    "### Exercise 5\n",
    "\n",
    "What would the state diagram look like now ?"
   ]
  },
  {
   "cell_type": "markdown",
   "id": "bb6e3ddf",
   "metadata": {},
   "source": [
    "The association of a variable with an object is called a **reference**.  \n",
    "In the state diagram, there are two references to the same\n",
    "**object**, in this case, a list. An object with more than one reference has more\n",
    "than one name, so we say that the object is **aliased**. If the aliased object is mutable, changes made with one alias affect the other:\n"
   ]
  },
  {
   "cell_type": "code",
   "execution_count": 15,
   "id": "a3dd960a",
   "metadata": {},
   "outputs": [
    {
     "name": "stdout",
     "output_type": "stream",
     "text": [
      "[17, 2, 3]\n"
     ]
    }
   ],
   "source": [
    "a = [1,2,3]\n",
    "b = a\n",
    "b[0] = 17\n",
    "print(a)"
   ]
  },
  {
   "cell_type": "markdown",
   "id": "62b153b6",
   "metadata": {},
   "source": [
    "Although this behavior can be useful, it is error-prone.  In general,\n",
    "it is safer to avoid aliasing when you are working with mutable\n",
    "objects. For immutable objects like strings, aliasing is not as much of a\n",
    "problem. "
   ]
  },
  {
   "cell_type": "markdown",
   "id": "f2d4c193",
   "metadata": {},
   "source": [
    "## Functions and aliasing"
   ]
  },
  {
   "cell_type": "code",
   "execution_count": 64,
   "id": "2828ec09",
   "metadata": {},
   "outputs": [],
   "source": [
    "def delete_head(t):\n",
    "    del t[0]"
   ]
  },
  {
   "cell_type": "code",
   "execution_count": 16,
   "id": "f4ae12de",
   "metadata": {},
   "outputs": [
    {
     "ename": "NameError",
     "evalue": "name 'delete_head' is not defined",
     "output_type": "error",
     "traceback": [
      "\u001b[0;31m---------------------------------------------------------------------------\u001b[0m",
      "\u001b[0;31mNameError\u001b[0m                                 Traceback (most recent call last)",
      "\u001b[0;32m/tmp/ipykernel_90992/2410107871.py\u001b[0m in \u001b[0;36m<module>\u001b[0;34m\u001b[0m\n\u001b[1;32m      1\u001b[0m \u001b[0mletters\u001b[0m \u001b[0;34m=\u001b[0m \u001b[0;34m[\u001b[0m\u001b[0;34m'a'\u001b[0m\u001b[0;34m,\u001b[0m \u001b[0;34m'b'\u001b[0m\u001b[0;34m,\u001b[0m \u001b[0;34m'c'\u001b[0m\u001b[0;34m]\u001b[0m\u001b[0;34m\u001b[0m\u001b[0;34m\u001b[0m\u001b[0m\n\u001b[0;32m----> 2\u001b[0;31m \u001b[0mdelete_head\u001b[0m\u001b[0;34m(\u001b[0m\u001b[0mletters\u001b[0m\u001b[0;34m)\u001b[0m\u001b[0;34m\u001b[0m\u001b[0;34m\u001b[0m\u001b[0m\n\u001b[0m\u001b[1;32m      3\u001b[0m \u001b[0mprint\u001b[0m\u001b[0;34m(\u001b[0m\u001b[0mletters\u001b[0m\u001b[0;34m)\u001b[0m\u001b[0;34m\u001b[0m\u001b[0;34m\u001b[0m\u001b[0m\n",
      "\u001b[0;31mNameError\u001b[0m: name 'delete_head' is not defined"
     ]
    }
   ],
   "source": [
    "letters = ['a', 'b', 'c']\n",
    "delete_head(letters)\n",
    "print(letters)"
   ]
  },
  {
   "cell_type": "markdown",
   "id": "2ac4cc72",
   "metadata": {},
   "source": [
    "The parameter **t** and the variable **letters** are\n",
    "aliases for the same object.  This can be visualised using a stack diagram."
   ]
  },
  {
   "cell_type": "markdown",
   "id": "efdb73a7",
   "metadata": {},
   "source": [
    "![title](figs/stack5.png)"
   ]
  },
  {
   "cell_type": "markdown",
   "id": "1afdf9bf",
   "metadata": {},
   "source": [
    "## Pick an idiom and stick with it."
   ]
  },
  {
   "cell_type": "markdown",
   "id": "e539cb0a",
   "metadata": {},
   "source": [
    "Part of the problem with lists is that there are too many\n",
    "ways to do things.  For example, to remove an element from\n",
    "a list, you can use **pop**, **remove**, **del**,\n",
    "or even a **slice** assignment."
   ]
  },
  {
   "cell_type": "markdown",
   "id": "ecaa52f4",
   "metadata": {},
   "source": [
    "## Exercise 6\n",
    "\n",
    "What will the ouput of the following code be ?"
   ]
  },
  {
   "cell_type": "code",
   "execution_count": 66,
   "id": "4893b80d",
   "metadata": {
    "tags": [
     "hide-output"
    ]
   },
   "outputs": [
    {
     "name": "stdout",
     "output_type": "stream",
     "text": [
      "[1, 2, 3, 4, 3]\n",
      "[1, 2, 3, 4, 3, 3]\n"
     ]
    }
   ],
   "source": [
    "t = [1,2,3,4]\n",
    "x = 3\n",
    "t.append(x)\n",
    "print(t)\n",
    "t = t + [x]\n",
    "print(t)"
   ]
  },
  {
   "cell_type": "code",
   "execution_count": null,
   "id": "b5324a67",
   "metadata": {},
   "outputs": [],
   "source": []
  },
  {
   "cell_type": "markdown",
   "id": "ec80b6d2",
   "metadata": {},
   "source": [
    "## Exercise 7\n",
    "\n",
    "What will the ouput of the following code be ?"
   ]
  },
  {
   "cell_type": "code",
   "execution_count": 67,
   "id": "bc647845",
   "metadata": {
    "tags": [
     "hide-output"
    ]
   },
   "outputs": [
    {
     "name": "stdout",
     "output_type": "stream",
     "text": [
      "[1, 2, 3, 4, [3]]\n",
      "None\n"
     ]
    },
    {
     "ename": "TypeError",
     "evalue": "unsupported operand type(s) for +: 'NoneType' and 'list'",
     "output_type": "error",
     "traceback": [
      "\u001b[0;31m---------------------------------------------------------------------------\u001b[0m",
      "\u001b[0;31mTypeError\u001b[0m                                 Traceback (most recent call last)",
      "\u001b[0;32m<ipython-input-67-1668ad4e2719>\u001b[0m in \u001b[0;36m<module>\u001b[0;34m\u001b[0m\n\u001b[1;32m      5\u001b[0m \u001b[0mt\u001b[0m \u001b[0;34m=\u001b[0m \u001b[0mt\u001b[0m\u001b[0;34m.\u001b[0m\u001b[0mappend\u001b[0m\u001b[0;34m(\u001b[0m\u001b[0mx\u001b[0m\u001b[0;34m)\u001b[0m\u001b[0;34m\u001b[0m\u001b[0;34m\u001b[0m\u001b[0m\n\u001b[1;32m      6\u001b[0m \u001b[0mprint\u001b[0m\u001b[0;34m(\u001b[0m\u001b[0mt\u001b[0m\u001b[0;34m)\u001b[0m\u001b[0;34m\u001b[0m\u001b[0;34m\u001b[0m\u001b[0m\n\u001b[0;32m----> 7\u001b[0;31m \u001b[0mt\u001b[0m \u001b[0;34m+\u001b[0m \u001b[0;34m[\u001b[0m\u001b[0mx\u001b[0m\u001b[0;34m]\u001b[0m\u001b[0;34m\u001b[0m\u001b[0;34m\u001b[0m\u001b[0m\n\u001b[0m\u001b[1;32m      8\u001b[0m \u001b[0mprint\u001b[0m\u001b[0;34m(\u001b[0m\u001b[0mt\u001b[0m\u001b[0;34m)\u001b[0m\u001b[0;34m\u001b[0m\u001b[0;34m\u001b[0m\u001b[0m\n\u001b[1;32m      9\u001b[0m \u001b[0mt\u001b[0m \u001b[0;34m=\u001b[0m \u001b[0mt\u001b[0m \u001b[0;34m+\u001b[0m \u001b[0mx\u001b[0m\u001b[0;34m\u001b[0m\u001b[0;34m\u001b[0m\u001b[0m\n",
      "\u001b[0;31mTypeError\u001b[0m: unsupported operand type(s) for +: 'NoneType' and 'list'"
     ]
    }
   ],
   "source": [
    "t = [1,2,3,4]\n",
    "x = 3\n",
    "t.append([x]) \n",
    "print(t)\n",
    "t = t.append(x)\n",
    "print(t)\n",
    "t + [x]\n",
    "print(t)\n",
    "t = t + x\n",
    "print(t)"
   ]
  },
  {
   "cell_type": "markdown",
   "id": "35c0ef5b",
   "metadata": {},
   "source": [
    "After a while, you will probably find a way of working with lists that suits you best, but try and stick to just one way of doing a particular operation in your code. This will help with debugging and help communicate the intent of your code more effectively."
   ]
  }
 ],
 "metadata": {
  "celltoolbar": "Edit Metadata",
  "kernelspec": {
   "display_name": "Python 3 (ipykernel)",
   "language": "python",
   "name": "python3"
  },
  "language_info": {
   "codemirror_mode": {
    "name": "ipython",
    "version": 3
   },
   "file_extension": ".py",
   "mimetype": "text/x-python",
   "name": "python",
   "nbconvert_exporter": "python",
   "pygments_lexer": "ipython3",
   "version": "3.9.9"
  }
 },
 "nbformat": 4,
 "nbformat_minor": 5
}
