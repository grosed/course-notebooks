{
 "cells": [
  {
   "cell_type": "markdown",
   "metadata": {
    "slideshow": {
     "slide_type": "slide"
    }
   },
   "source": [
    "# Introduction to Gurobi in Python\n",
    "## By Jamie Fairbrother"
   ]
  },
  {
   "cell_type": "markdown",
   "metadata": {},
   "source": [
    "## Optimization software"
   ]
  },
  {
   "cell_type": "markdown",
   "metadata": {
    "slideshow": {
     "slide_type": "slide"
    }
   },
   "source": [
    "## What is Gurobi\n",
    "\n",
    "- Gurobi is a commercial solver for mixed integer linear and quadratic optimization problems\n",
    "- Free academics licences are available and do not have any limitations"
   ]
  },
  {
   "cell_type": "markdown",
   "metadata": {
    "slideshow": {
     "slide_type": "slide"
    }
   },
   "source": [
    "## How to use Gurobi?\n",
    "\n",
    "- Interactive shell\n",
    "- Interfaces in supported programming languages:\n",
    "    - C/C++\n",
    "    - .NET\n",
    "    - Java\n",
    "    - Python\n",
    "    - Matlab\n",
    "    - R\n",
    "    - Julia (third-party)"
   ]
  },
  {
   "cell_type": "markdown",
   "metadata": {
    "slideshow": {
     "slide_type": "slide"
    }
   },
   "source": [
    "## Why use Gurobi with a programming language?\n",
    "\n",
    "- Cannot easily change models in LP files\n",
    "- Models in AMLs cannot be easily incorporated into larger processes/algorithms (e.g. some changepoint algorithms involve solving linear programs)\n",
    "- Some complex solution algorithms can only be implemented in a programming language"
   ]
  },
  {
   "cell_type": "markdown",
   "metadata": {},
   "source": [
    "## Why use Gurobi with Python?\n",
    "\n",
    "- Python is a high-level programming language with many packages for scientific computing\n",
    "- Python interface does not suffer from same limitations as API for other high-level languages (e.g. R and Matlab)"
   ]
  },
  {
   "cell_type": "markdown",
   "metadata": {
    "slideshow": {
     "slide_type": "slide"
    }
   },
   "source": [
    "## An example program\n",
    "\n",
    "\\begin{aligned}\n",
    "\\mathrm{minimize}\\ & 3 x + 2 y \\\\\n",
    "\\text{subject to } & x + y \\leq 8\\\\\n",
    "& x\\geq 0\\\\\n",
    "& y\\in \\{0,1\\}\n",
    "\\end{aligned}"
   ]
  },
  {
   "cell_type": "code",
   "execution_count": 2,
   "metadata": {},
   "outputs": [
    {
     "ename": "ImportError",
     "evalue": "libgurobi90.so: cannot open shared object file: No such file or directory",
     "output_type": "error",
     "traceback": [
      "\u001b[0;31m---------------------------------------------------------------------------\u001b[0m",
      "\u001b[0;31mImportError\u001b[0m                               Traceback (most recent call last)",
      "\u001b[0;32m<ipython-input-2-2c02a1bf9452>\u001b[0m in \u001b[0;36m<module>\u001b[0;34m\u001b[0m\n\u001b[0;32m----> 1\u001b[0;31m \u001b[0;32mfrom\u001b[0m \u001b[0mgurobipy\u001b[0m \u001b[0;32mimport\u001b[0m \u001b[0;34m*\u001b[0m\u001b[0;34m\u001b[0m\u001b[0;34m\u001b[0m\u001b[0m\n\u001b[0m\u001b[1;32m      2\u001b[0m \u001b[0;34m\u001b[0m\u001b[0m\n\u001b[1;32m      3\u001b[0m \u001b[0mm\u001b[0m \u001b[0;34m=\u001b[0m \u001b[0mModel\u001b[0m\u001b[0;34m(\u001b[0m\u001b[0;34m)\u001b[0m\u001b[0;34m\u001b[0m\u001b[0;34m\u001b[0m\u001b[0m\n\u001b[1;32m      4\u001b[0m \u001b[0;34m\u001b[0m\u001b[0m\n\u001b[1;32m      5\u001b[0m \u001b[0mx\u001b[0m \u001b[0;34m=\u001b[0m \u001b[0mm\u001b[0m\u001b[0;34m.\u001b[0m\u001b[0maddVar\u001b[0m\u001b[0;34m(\u001b[0m\u001b[0mname\u001b[0m\u001b[0;34m=\u001b[0m\u001b[0;34m\"x\"\u001b[0m\u001b[0;34m)\u001b[0m\u001b[0;34m\u001b[0m\u001b[0;34m\u001b[0m\u001b[0m\n",
      "\u001b[0;32m/usr/local/lib/python3.6/dist-packages/gurobipy/__init__.py\u001b[0m in \u001b[0;36m<module>\u001b[0;34m\u001b[0m\n\u001b[0;32m----> 1\u001b[0;31m \u001b[0;32mfrom\u001b[0m \u001b[0;34m.\u001b[0m\u001b[0mgurobipy\u001b[0m \u001b[0;32mimport\u001b[0m \u001b[0;34m*\u001b[0m\u001b[0;34m\u001b[0m\u001b[0;34m\u001b[0m\u001b[0m\n\u001b[0m",
      "\u001b[0;31mImportError\u001b[0m: libgurobi90.so: cannot open shared object file: No such file or directory"
     ]
    }
   ],
   "source": [
    "from gurobipy import *\n",
    "\n",
    "m = Model()\n",
    "\n",
    "x = m.addVar(name=\"x\")\n",
    "y = m.addVar(vtype='b', name=\"y\")\n",
    "m.addConstr(x + y <= 8, \"c0\")\n",
    "m.setObjective(3*x + 2*y, GRB.MAXIMIZE)\n",
    "\n",
    "m.optimize()"
   ]
  },
  {
   "cell_type": "markdown",
   "metadata": {
    "slideshow": {
     "slide_type": "subslide"
    }
   },
   "source": [
    "### Process\n",
    "\n",
    "1. Initialise `Model` object\n",
    "2. Construct problem variables\n",
    "3. Construct problem constraints\n",
    "4. Set objective\n",
    "5. Optimize\n",
    "6. Extract solution"
   ]
  },
  {
   "cell_type": "markdown",
   "metadata": {
    "slideshow": {
     "slide_type": "slide"
    }
   },
   "source": [
    "# Initialising Model\n",
    "\n",
    "- A `Model` contains all the data associated with an optimization model.\n",
    "- It can be initialised with no arguments or optionally a `name` argument"
   ]
  },
  {
   "cell_type": "code",
   "execution_count": 2,
   "metadata": {},
   "outputs": [
    {
     "data": {
      "text/plain": [
       "<gurobi.Model Continuous instance Example: 0 constrs, 0 vars, No parameter changes>"
      ]
     },
     "execution_count": 2,
     "metadata": {},
     "output_type": "execute_result"
    }
   ],
   "source": [
    "from gurobipy import Model, GRB\n",
    "\n",
    "model = Model('Example')\n",
    "model"
   ]
  },
  {
   "cell_type": "markdown",
   "metadata": {
    "slideshow": {
     "slide_type": "slide"
    }
   },
   "source": [
    "# Constructing Problem Variables\n",
    "\n",
    "- Individual variables can constructed with single from a model object using the `addVar` method\n",
    "- This has the following main optional keyword arguments:\n",
    "    - `name`: name of variable\n",
    "    - `lb`: Lower bound for new variable (default 0)\n",
    "    - `ub`: Upper bound for new variable\n",
    "    - `vtype`: type of decision.\n",
    "        Allowed options are 'C' for continuous (default), 'B' for binary, 'I' for integer, 'S' for semi-integer, 'N' for semi-integer\n",
    "    - `obj`: co-efficient of variable in objective"
   ]
  },
  {
   "cell_type": "code",
   "execution_count": 3,
   "metadata": {},
   "outputs": [],
   "source": [
    "x = model.addVar(vtype='B') # Add single binary variable\n",
    "model.update()"
   ]
  },
  {
   "cell_type": "code",
   "execution_count": 4,
   "metadata": {},
   "outputs": [],
   "source": [
    "y = model.addVar(name='y') # Add single continuous non-negative varible"
   ]
  },
  {
   "cell_type": "markdown",
   "metadata": {},
   "source": [
    "To create a free variable, you have to set the lower bound explicitly to minus infinity:"
   ]
  },
  {
   "cell_type": "code",
   "execution_count": 5,
   "metadata": {},
   "outputs": [],
   "source": [
    "z=model.addVar(lb=-GRB.INFINITY)"
   ]
  },
  {
   "cell_type": "markdown",
   "metadata": {
    "slideshow": {
     "slide_type": "slide"
    }
   },
   "source": [
    "## Adding groups of variables\n",
    "- When creating structured models one typically needs to create blocks of variables over one or more indices.\n",
    "- One can do this by simply by creating variables over a loop and assigning the result to a dictionary (or some other collection):"
   ]
  },
  {
   "cell_type": "code",
   "execution_count": 6,
   "metadata": {},
   "outputs": [],
   "source": [
    "x = dict()\n",
    "for i in range(5):\n",
    "    for j in range(i, 5):\n",
    "        x[i,j] = model.addVar()"
   ]
  },
  {
   "cell_type": "markdown",
   "metadata": {},
   "source": [
    "Alternatively, one can use the `addVars` method to add multiple variables with a single function call. This takes the same optional arguments as `addVar`."
   ]
  },
  {
   "cell_type": "code",
   "execution_count": 7,
   "metadata": {},
   "outputs": [],
   "source": [
    "x = m.addVars(3, lb=-GRB.INFINITY) # Create block of 3 free variables\n",
    "y = m.addVars(5, 4, vtype='i') # Create 5x4 block of variables"
   ]
  },
  {
   "cell_type": "code",
   "execution_count": 8,
   "metadata": {},
   "outputs": [],
   "source": [
    "z = m.addVars((i,j) for i in range(5) for j in range(i,5))"
   ]
  },
  {
   "cell_type": "markdown",
   "metadata": {
    "slideshow": {
     "slide_type": "slide"
    }
   },
   "source": [
    "# Adding constraints\n",
    "\n",
    "- Individual constraints can be added using the `addConstr` method of `Model`\n",
    "- Operator overloading allows one to build constraints from problem variables in an intuitive way:\n",
    "- `name` keyword argument can be used to provide a name to the constraint"
   ]
  },
  {
   "cell_type": "code",
   "execution_count": 9,
   "metadata": {},
   "outputs": [
    {
     "data": {
      "text/plain": [
       "<gurobi.Constr *Awaiting Model Update*>"
      ]
     },
     "execution_count": 9,
     "metadata": {},
     "output_type": "execute_result"
    }
   ],
   "source": [
    "m = Model()\n",
    "x = m.addVar()\n",
    "y = m.addVar()\n",
    "z = m.addVar()\n",
    "m.addConstr(x + y <= 1)\n",
    "m.addConstr(2*z + x == 2, name='Cons2')"
   ]
  },
  {
   "cell_type": "markdown",
   "metadata": {},
   "source": [
    "### Warning\n",
    "- `==` operator not `=` is used to create an equality constraint\n",
    "- A constraint can only have a single comparison operator, that is, we cannot write expressions such as:\n",
    "```\n",
    "2 <= 2*x + 3*y <= 7\n",
    "```"
   ]
  },
  {
   "cell_type": "markdown",
   "metadata": {},
   "source": [
    "## Quicksum and using expressions\n",
    "\n",
    "To create a constraint which sums over a block of variables, we can use the `quicksum` function:"
   ]
  },
  {
   "cell_type": "code",
   "execution_count": 10,
   "metadata": {},
   "outputs": [
    {
     "data": {
      "text/plain": [
       "<gurobi.Constr *Awaiting Model Update*>"
      ]
     },
     "execution_count": 10,
     "metadata": {},
     "output_type": "execute_result"
    }
   ],
   "source": [
    "from gurobipy import quicksum\n",
    "\n",
    "m = Model()\n",
    "x = m.addVars(10) # Block of 10 non-negative variables\n",
    "m.addConstr(quicksum(x) == 5.0)"
   ]
  },
  {
   "cell_type": "markdown",
   "metadata": {},
   "source": [
    "Expressions can be created outside of constraints for reuse"
   ]
  },
  {
   "cell_type": "code",
   "execution_count": 11,
   "metadata": {},
   "outputs": [
    {
     "data": {
      "text/plain": [
       "<gurobi.Constr *Awaiting Model Update*>"
      ]
     },
     "execution_count": 11,
     "metadata": {},
     "output_type": "execute_result"
    }
   ],
   "source": [
    "expr = quicksum(i * x[i] for i in range(10))\n",
    "m.addConstr(expr <= 20)"
   ]
  },
  {
   "cell_type": "markdown",
   "metadata": {},
   "source": [
    "Like variables, groups of constraints can be added using `for` loops, or using the `addConstrs` method of `Model`.\n",
    "The following code creates the constraints:\n",
    "\n",
    "\\begin{aligned}\n",
    "x_i &\\leq i \\qquad \\text{for } i = 1,\\ldots,10\\\\\n",
    "\\sum_{i=1}^{10} y_{ij} &= 1 \\qquad \\text{for } j = 1,\\ldots,10\n",
    "\\end{aligned}"
   ]
  },
  {
   "cell_type": "code",
   "execution_count": 12,
   "metadata": {},
   "outputs": [
    {
     "data": {
      "text/plain": [
       "{0: <gurobi.Constr *Awaiting Model Update*>,\n",
       " 1: <gurobi.Constr *Awaiting Model Update*>,\n",
       " 2: <gurobi.Constr *Awaiting Model Update*>,\n",
       " 3: <gurobi.Constr *Awaiting Model Update*>,\n",
       " 4: <gurobi.Constr *Awaiting Model Update*>,\n",
       " 5: <gurobi.Constr *Awaiting Model Update*>,\n",
       " 6: <gurobi.Constr *Awaiting Model Update*>,\n",
       " 7: <gurobi.Constr *Awaiting Model Update*>,\n",
       " 8: <gurobi.Constr *Awaiting Model Update*>,\n",
       " 9: <gurobi.Constr *Awaiting Model Update*>}"
      ]
     },
     "execution_count": 12,
     "metadata": {},
     "output_type": "execute_result"
    }
   ],
   "source": [
    "y = m.addVars(10, 10) # Block of 10x10 non-negative variables\n",
    "m.addConstrs(x[i] <= i for i in range(10))\n",
    "m.addConstrs((quicksum(y[i,j] for i in range(10)) == 1.0 for j in range(10)), name=\"group_cons\")"
   ]
  },
  {
   "cell_type": "markdown",
   "metadata": {},
   "source": [
    "# Setting the objective and setting model parameters\n",
    "\n",
    "Setting the objective is done via the `setObjective` method of `Model`. This takes arguments an expression to optimize and the `sense` of the objective. This latter argument can take the values `GRB.MINIMIZE` for a minimization, and `GRB.MAXIMIZE` for a maximization."
   ]
  },
  {
   "cell_type": "code",
   "execution_count": 13,
   "metadata": {},
   "outputs": [],
   "source": [
    "m.setObjective(quicksum(x) + quicksum(y), GRB.MAXIMIZE)"
   ]
  },
  {
   "cell_type": "markdown",
   "metadata": {},
   "source": [
    "The behaviour of the solver can be configured through `Model` parameters. These can be set in two ways:"
   ]
  },
  {
   "cell_type": "code",
   "execution_count": 14,
   "metadata": {},
   "outputs": [
    {
     "name": "stdout",
     "output_type": "stream",
     "text": [
      "Changed value of parameter TimeLimit to 90.0\n",
      "   Prev: inf  Min: 0.0  Max: inf  Default: inf\n"
     ]
    }
   ],
   "source": [
    "model.setParam(\"TimeLimit\", 90) # Set TimeLimit for solve to 90 seconds"
   ]
  },
  {
   "cell_type": "code",
   "execution_count": 15,
   "metadata": {},
   "outputs": [
    {
     "name": "stdout",
     "output_type": "stream",
     "text": [
      "Parameter TimeLimit unchanged\n",
      "   Value: 90.0  Min: 0.0  Max: inf  Default: inf\n"
     ]
    }
   ],
   "source": [
    "model.Params.TimeLimit = 90"
   ]
  },
  {
   "cell_type": "markdown",
   "metadata": {},
   "source": [
    "There are many options available. The following are commonly used:\n",
    "- `MIPGap`: relative optimality gap at which to terminate optimization (default is 1e-4)\n",
    "- `OutputFlag`: Enables (value 1) or disables (value 0) printing of progress of optimization to screen (default is 1)\n",
    "- `Threads`: Number of threads to use in optimization (defaults to number of available processors)\n",
    "\n",
    "A full list of available parameters can be found here: https://www.gurobi.com/documentation/9.0/refman/parameters.html#sec:Parameters"
   ]
  },
  {
   "cell_type": "markdown",
   "metadata": {},
   "source": [
    "# Optimizing and extracting solution\n",
    "\n",
    "The model can now be solved using the `optimize` method:"
   ]
  },
  {
   "cell_type": "code",
   "execution_count": 18,
   "metadata": {},
   "outputs": [
    {
     "name": "stdout",
     "output_type": "stream",
     "text": [
      "Gurobi Optimizer version 9.0.0 build v9.0.0rc2 (linux64)\n",
      "Optimize a model with 22 rows, 110 columns and 129 nonzeros\n",
      "Model fingerprint: 0xaa5fb82f\n",
      "Coefficient statistics:\n",
      "  Matrix range     [1e+00, 9e+00]\n",
      "  Objective range  [1e+00, 1e+00]\n",
      "  Bounds range     [0e+00, 0e+00]\n",
      "  RHS range        [1e+00, 2e+01]\n",
      "Presolve removed 20 rows and 101 columns\n",
      "Presolve time: 0.01s\n",
      "Presolved: 2 rows, 9 columns, 18 nonzeros\n",
      "\n",
      "Iteration    Objective       Primal Inf.    Dual Inf.      Time\n",
      "       0    1.5000000e+01   1.510395e+01   0.000000e+00      0s\n",
      "       8    1.5000000e+01   0.000000e+00   0.000000e+00      0s\n",
      "\n",
      "Solved in 8 iterations and 0.02 seconds\n",
      "Optimal objective  1.500000000e+01\n"
     ]
    }
   ],
   "source": [
    "m.optimize()"
   ]
  },
  {
   "cell_type": "markdown",
   "metadata": {},
   "source": [
    "Although from the output we can see that the problem solved to optimality in this case, for cases where the solver is not being used interactively, it is important to check the `status` of the model after `optimize` has been called:"
   ]
  },
  {
   "cell_type": "code",
   "execution_count": 19,
   "metadata": {},
   "outputs": [
    {
     "data": {
      "text/plain": [
       "2"
      ]
     },
     "execution_count": 19,
     "metadata": {},
     "output_type": "execute_result"
    }
   ],
   "source": [
    "m.status"
   ]
  },
  {
   "cell_type": "markdown",
   "metadata": {},
   "source": [
    "In this case `2` means that an optimal solution was found.\n",
    "This is not the only case to consider however. \n",
    "It is possible the solver found the model to be infeasible, or was unable to find an optimal solution for some other reason.\n",
    "The possible codes can be found at https://www.gurobi.com/documentation/9.0/refman/optimization_status_codes.html.\n",
    "\n",
    "If the problem solved to optimality, or the solver found a solution, the solution and objective value can be extracted as follows:"
   ]
  },
  {
   "cell_type": "code",
   "execution_count": 20,
   "metadata": {},
   "outputs": [
    {
     "data": {
      "text/plain": [
       "15.0"
      ]
     },
     "execution_count": 20,
     "metadata": {},
     "output_type": "execute_result"
    }
   ],
   "source": [
    "m.objVal # optimal objective value"
   ]
  },
  {
   "cell_type": "code",
   "execution_count": 21,
   "metadata": {},
   "outputs": [
    {
     "data": {
      "text/plain": [
       "{0: 0.0,\n",
       " 1: 0.0,\n",
       " 2: 2.0,\n",
       " 3: 0.6666666666666666,\n",
       " 4: 0.0,\n",
       " 5: 0.0,\n",
       " 6: 2.3333333333333335,\n",
       " 7: 0.0,\n",
       " 8: 0.0,\n",
       " 9: 0.0}"
      ]
     },
     "execution_count": 21,
     "metadata": {},
     "output_type": "execute_result"
    }
   ],
   "source": [
    "x_val = m.getAttr('x', x)\n",
    "x_val"
   ]
  },
  {
   "cell_type": "code",
   "execution_count": null,
   "metadata": {},
   "outputs": [],
   "source": []
  }
 ],
 "metadata": {
  "celltoolbar": "Slideshow",
  "kernelspec": {
   "display_name": "Python 3 (ipykernel)",
   "language": "python",
   "name": "python3"
  },
  "language_info": {
   "codemirror_mode": {
    "name": "ipython",
    "version": 3
   },
   "file_extension": ".py",
   "mimetype": "text/x-python",
   "name": "python",
   "nbconvert_exporter": "python",
   "pygments_lexer": "ipython3",
   "version": "3.10.6"
  },
  "toc": {
   "base_numbering": 1,
   "nav_menu": {},
   "number_sections": true,
   "sideBar": true,
   "skip_h1_title": false,
   "title_cell": "Table of Contents",
   "title_sidebar": "Contents",
   "toc_cell": false,
   "toc_position": {},
   "toc_section_display": true,
   "toc_window_display": false
  }
 },
 "nbformat": 4,
 "nbformat_minor": 2
}
