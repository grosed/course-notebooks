{
 "cells": [
  {
   "cell_type": "markdown",
   "id": "ee2f5537",
   "metadata": {},
   "source": [
    "# Functions"
   ]
  },
  {
   "cell_type": "markdown",
   "id": "9a9da775",
   "metadata": {},
   "source": [
    "## Function calls"
   ]
  },
  {
   "cell_type": "markdown",
   "id": "37587973",
   "metadata": {},
   "source": [
    "In the context of programming, a **function** is a named sequence of\n",
    "statements that performs a computation.  When you define a function,\n",
    "you specify the name and the sequence of statements.  Later, you can\n",
    "\"call\" the function by name. \n",
    "\n",
    "We have already seen one example of a **function call** :"
   ]
  },
  {
   "cell_type": "code",
   "execution_count": 35,
   "id": "f35fcaff",
   "metadata": {},
   "outputs": [
    {
     "data": {
      "text/plain": [
       "int"
      ]
     },
     "execution_count": 35,
     "metadata": {},
     "output_type": "execute_result"
    }
   ],
   "source": [
    "type(32)"
   ]
  },
  {
   "cell_type": "markdown",
   "id": "9d5de4fb",
   "metadata": {},
   "source": [
    "The name of the function is **type**.  The expression in parentheses\n",
    "is called the **argument** of the function.  The result, for this\n",
    "function, is the type of the argument.\n",
    "\n",
    "It is common to say that a function __\"takes\"__ an argument and __\"returns\"__\n",
    "a result.  The result is called the __return value__."
   ]
  },
  {
   "cell_type": "markdown",
   "id": "2ac05e37",
   "metadata": {},
   "source": [
    "## Conversion functions "
   ]
  },
  {
   "cell_type": "markdown",
   "id": "5564fb16",
   "metadata": {},
   "source": [
    "Python has functions which help you convert between the different python types."
   ]
  },
  {
   "cell_type": "markdown",
   "id": "93fdd3a4",
   "metadata": {},
   "source": [
    "### <u>Example 1</u>"
   ]
  },
  {
   "cell_type": "markdown",
   "id": "b4ab1ee0",
   "metadata": {},
   "source": [
    "The following code will not work."
   ]
  },
  {
   "cell_type": "code",
   "execution_count": 5,
   "id": "1702e4fe",
   "metadata": {},
   "outputs": [
    {
     "ename": "TypeError",
     "evalue": "can't multiply sequence by non-int of type 'float'",
     "output_type": "error",
     "traceback": [
      "\u001b[0;31m---------------------------------------------------------------------------\u001b[0m",
      "\u001b[0;31mTypeError\u001b[0m                                 Traceback (most recent call last)",
      "\u001b[0;32m/tmp/ipykernel_87467/688267819.py\u001b[0m in \u001b[0;36m<module>\u001b[0;34m\u001b[0m\n\u001b[1;32m      2\u001b[0m \u001b[0mx\u001b[0m \u001b[0;34m=\u001b[0m \u001b[0;36m3.14\u001b[0m\u001b[0;34m\u001b[0m\u001b[0;34m\u001b[0m\u001b[0m\n\u001b[1;32m      3\u001b[0m \u001b[0my\u001b[0m \u001b[0;34m=\u001b[0m \u001b[0;34m\"5.6\"\u001b[0m\u001b[0;34m\u001b[0m\u001b[0;34m\u001b[0m\u001b[0m\n\u001b[0;32m----> 4\u001b[0;31m \u001b[0mprint\u001b[0m\u001b[0;34m(\u001b[0m\u001b[0mx\u001b[0m\u001b[0;34m*\u001b[0m\u001b[0my\u001b[0m\u001b[0;34m)\u001b[0m\u001b[0;34m\u001b[0m\u001b[0;34m\u001b[0m\u001b[0m\n\u001b[0m",
      "\u001b[0;31mTypeError\u001b[0m: can't multiply sequence by non-int of type 'float'"
     ]
    }
   ],
   "source": [
    "# this will not work ...\n",
    "x = 3.14\n",
    "y = \"5.6\"\n",
    "print(x*y)"
   ]
  },
  {
   "cell_type": "markdown",
   "id": "ba35114c-45fd-45cc-8db3-61f04d8b814b",
   "metadata": {},
   "source": [
    "But there is  \"fix\"."
   ]
  },
  {
   "cell_type": "code",
   "execution_count": 4,
   "id": "d08c106f",
   "metadata": {},
   "outputs": [
    {
     "name": "stdout",
     "output_type": "stream",
     "text": [
      "17.584\n"
     ]
    }
   ],
   "source": [
    "# ... but it can be fixed\n",
    "y = float(y)\n",
    "print(x*y)"
   ]
  },
  {
   "cell_type": "markdown",
   "id": "0cb79127",
   "metadata": {},
   "source": [
    "### <u>Example 2</u>"
   ]
  },
  {
   "cell_type": "code",
   "execution_count": 33,
   "id": "ae15acd5",
   "metadata": {},
   "outputs": [
    {
     "name": "stdout",
     "output_type": "stream",
     "text": [
      "pi = 3.14159\n"
     ]
    }
   ],
   "source": [
    "z = \"pi = \" + str(3.14159)\n",
    "print(z)"
   ]
  },
  {
   "cell_type": "markdown",
   "id": "7d26c18e",
   "metadata": {},
   "source": [
    "### <u>Example 3</u>"
   ]
  },
  {
   "cell_type": "code",
   "execution_count": 34,
   "id": "ac372e88",
   "metadata": {},
   "outputs": [
    {
     "name": "stdout",
     "output_type": "stream",
     "text": [
      "(1+2j)\n",
      "(-3+4j)\n"
     ]
    }
   ],
   "source": [
    "z1 = complex(1,2)\n",
    "print(z1)\n",
    "print(z1*z1)"
   ]
  },
  {
   "cell_type": "markdown",
   "id": "e0b84fd5",
   "metadata": {},
   "source": [
    "As example 3 demonstrates, the conversion functions also provide a way of __\"initialising\"__ some of the more complex python types. "
   ]
  },
  {
   "cell_type": "markdown",
   "id": "7147a798",
   "metadata": {},
   "source": [
    "## Defining new functions"
   ]
  },
  {
   "cell_type": "markdown",
   "id": "135f4dbb",
   "metadata": {},
   "source": [
    "A **function definition** specifies the name of a new function and\n",
    "the sequence of statements that execute when the function is called."
   ]
  },
  {
   "cell_type": "code",
   "execution_count": 39,
   "id": "debdd7d4",
   "metadata": {},
   "outputs": [],
   "source": [
    "def f(x) :\n",
    "    y = 1/(1+x)\n",
    "    return y\n"
   ]
  },
  {
   "cell_type": "markdown",
   "id": "dc3ebfb1",
   "metadata": {},
   "source": [
    "**def** is a keyword that indicates that this is a function\n",
    "definition.  The name of the function is **f**.  The\n",
    "rules for function names are the same as for variable names: letters,\n",
    "numbers and some punctuation marks are legal, but the first character\n",
    "can't be a number.  You can't use a keyword as the name of a function,\n",
    "and you should avoid having a variable and a function with the same\n",
    "name.\n",
    "\n",
    "The **x** in the parenthesis is an argument that is passed to the function. A function can have a comma separated list\n",
    "of arguments."
   ]
  },
  {
   "cell_type": "code",
   "execution_count": 35,
   "id": "b18bfd74",
   "metadata": {},
   "outputs": [],
   "source": [
    "def g(x,n) :\n",
    "    y = 1/(1+x)**n\n",
    "    return y"
   ]
  },
  {
   "cell_type": "markdown",
   "id": "d355e054",
   "metadata": {},
   "source": [
    "The **body** of the function is indented with a **tab**, (or **4 spaces**), to show it is part of the function. The return statement \n",
    "contains an expression which is what the function evaluates to when it is used. "
   ]
  },
  {
   "cell_type": "code",
   "execution_count": 41,
   "id": "80e9f5c8",
   "metadata": {},
   "outputs": [
    {
     "data": {
      "text/plain": [
       "0.003492943259127733"
      ]
     },
     "execution_count": 41,
     "metadata": {},
     "output_type": "execute_result"
    }
   ],
   "source": [
    "g(2.1,5)"
   ]
  },
  {
   "cell_type": "markdown",
   "id": "ce908f6e",
   "metadata": {},
   "source": [
    "### <u>Exercise 1</u>\n",
    "\n",
    "What is the **type** of **g** ?"
   ]
  },
  {
   "cell_type": "markdown",
   "id": "f9e5a49a",
   "metadata": {},
   "source": [
    "### Solution 1"
   ]
  },
  {
   "cell_type": "code",
   "execution_count": 42,
   "id": "ba3a87f3",
   "metadata": {
    "tags": [
     "hide-output",
     "hide-input"
    ]
   },
   "outputs": [
    {
     "data": {
      "text/plain": [
       "function"
      ]
     },
     "execution_count": 42,
     "metadata": {},
     "output_type": "execute_result"
    }
   ],
   "source": [
    "type(g)"
   ]
  },
  {
   "cell_type": "markdown",
   "id": "8831eba2",
   "metadata": {},
   "source": [
    "The __arguments__ of a function are variables that name each __argument__. \n",
    "These can be used explicity when using a function.\n"
   ]
  },
  {
   "cell_type": "code",
   "execution_count": 43,
   "id": "23e10155",
   "metadata": {},
   "outputs": [],
   "source": [
    "def f(a,b,c) :\n",
    "    return(a+2*b+3*c)"
   ]
  },
  {
   "cell_type": "markdown",
   "id": "4fcc2423",
   "metadata": {},
   "source": [
    "### <u>Exercise 2</u>\n",
    "\n",
    "Predict the output of the follwing code."
   ]
  },
  {
   "cell_type": "code",
   "execution_count": 44,
   "id": "6fd87322",
   "metadata": {
    "tags": [
     "hide-output"
    ]
   },
   "outputs": [
    {
     "data": {
      "text/plain": [
       "14"
      ]
     },
     "execution_count": 44,
     "metadata": {},
     "output_type": "execute_result"
    }
   ],
   "source": [
    "f(1,2,3)"
   ]
  },
  {
   "cell_type": "code",
   "execution_count": 45,
   "id": "8da73902",
   "metadata": {
    "tags": [
     "hide-output"
    ]
   },
   "outputs": [
    {
     "data": {
      "text/plain": [
       "14"
      ]
     },
     "execution_count": 45,
     "metadata": {},
     "output_type": "execute_result"
    }
   ],
   "source": [
    "f(a=1,b=2,c=3)"
   ]
  },
  {
   "cell_type": "code",
   "execution_count": 46,
   "id": "be65e322",
   "metadata": {
    "tags": [
     "hide-output"
    ]
   },
   "outputs": [
    {
     "data": {
      "text/plain": [
       "14"
      ]
     },
     "execution_count": 46,
     "metadata": {},
     "output_type": "execute_result"
    }
   ],
   "source": [
    "f(a=1,c=3,b=2)"
   ]
  },
  {
   "cell_type": "code",
   "execution_count": 47,
   "id": "87830474",
   "metadata": {
    "tags": [
     "hide-output"
    ]
   },
   "outputs": [
    {
     "data": {
      "text/plain": [
       "14"
      ]
     },
     "execution_count": 47,
     "metadata": {},
     "output_type": "execute_result"
    }
   ],
   "source": [
    "f(1,2,c=3)"
   ]
  },
  {
   "cell_type": "code",
   "execution_count": 48,
   "id": "9fc03a35",
   "metadata": {
    "tags": [
     "hide-output"
    ]
   },
   "outputs": [
    {
     "ename": "SyntaxError",
     "evalue": "positional argument follows keyword argument (<ipython-input-48-6cd2a3b71e21>, line 1)",
     "output_type": "error",
     "traceback": [
      "\u001b[0;36m  File \u001b[0;32m\"<ipython-input-48-6cd2a3b71e21>\"\u001b[0;36m, line \u001b[0;32m1\u001b[0m\n\u001b[0;31m    f(1,c=3,2)\u001b[0m\n\u001b[0m             ^\u001b[0m\n\u001b[0;31mSyntaxError\u001b[0m\u001b[0;31m:\u001b[0m positional argument follows keyword argument\n"
     ]
    }
   ],
   "source": [
    "f(1,c=3,2)"
   ]
  },
  {
   "cell_type": "markdown",
   "id": "db2ef27f",
   "metadata": {},
   "source": [
    "## Functions and scope"
   ]
  },
  {
   "cell_type": "markdown",
   "id": "6da55999",
   "metadata": {},
   "source": [
    "Consider the following python code"
   ]
  },
  {
   "cell_type": "code",
   "execution_count": 49,
   "id": "ef2f4eb5",
   "metadata": {},
   "outputs": [],
   "source": [
    "def f(x,y,z) :\n",
    "    a = 1\n",
    "    b = 2\n",
    "    c = 3\n",
    "    return(a*x+b*y+c*z)"
   ]
  },
  {
   "cell_type": "code",
   "execution_count": 50,
   "id": "45e966cd",
   "metadata": {},
   "outputs": [
    {
     "ename": "NameError",
     "evalue": "name 'a' is not defined",
     "output_type": "error",
     "traceback": [
      "\u001b[0;31m---------------------------------------------------------------------------\u001b[0m",
      "\u001b[0;31mNameError\u001b[0m                                 Traceback (most recent call last)",
      "\u001b[0;32m<ipython-input-50-aeb7dbfeb3ff>\u001b[0m in \u001b[0;36m<module>\u001b[0;34m\u001b[0m\n\u001b[1;32m      1\u001b[0m \u001b[0mf\u001b[0m\u001b[0;34m(\u001b[0m\u001b[0;36m1\u001b[0m\u001b[0;34m,\u001b[0m\u001b[0;36m2\u001b[0m\u001b[0;34m,\u001b[0m\u001b[0;36m3\u001b[0m\u001b[0;34m)\u001b[0m\u001b[0;34m\u001b[0m\u001b[0;34m\u001b[0m\u001b[0m\n\u001b[0;32m----> 2\u001b[0;31m \u001b[0mprint\u001b[0m\u001b[0;34m(\u001b[0m\u001b[0ma\u001b[0m\u001b[0;34m)\u001b[0m\u001b[0;34m\u001b[0m\u001b[0;34m\u001b[0m\u001b[0m\n\u001b[0m",
      "\u001b[0;31mNameError\u001b[0m: name 'a' is not defined"
     ]
    }
   ],
   "source": [
    "f(1,2,3)\n",
    "print(a)"
   ]
  },
  {
   "cell_type": "markdown",
   "id": "f98414e0",
   "metadata": {},
   "source": [
    "The function appears to work ok, but the print statement does not. This is because variables declared in a function are local to that function. This is typically\n",
    "stated as ___the variable a is contained in the scope of the function f___.\n",
    "However, the following will work :"
   ]
  },
  {
   "cell_type": "code",
   "execution_count": 51,
   "id": "acb9c4fa",
   "metadata": {},
   "outputs": [
    {
     "name": "stdout",
     "output_type": "stream",
     "text": [
      "5\n"
     ]
    }
   ],
   "source": [
    "a = 5\n",
    "def f(x,y,z) :\n",
    "    a = 1\n",
    "    b = 2\n",
    "    c = 3\n",
    "    return(a*x+b*y+c*z)\n",
    "f(1,2,3)\n",
    "print(a)"
   ]
  },
  {
   "cell_type": "markdown",
   "id": "d4d17f74",
   "metadata": {},
   "source": [
    "### <u>Exercise 3</u>\n",
    "\n",
    "What would you expect the output of the following code to be ?"
   ]
  },
  {
   "cell_type": "code",
   "execution_count": 52,
   "id": "f2b80e33",
   "metadata": {
    "tags": [
     "hide-output"
    ]
   },
   "outputs": [
    {
     "name": "stdout",
     "output_type": "stream",
     "text": [
      "False\n",
      "False\n"
     ]
    }
   ],
   "source": [
    "val = False\n",
    "\n",
    "def exercise3():\n",
    "    val = True\n",
    "    \n",
    "print(val)\n",
    "exercise3()\n",
    "print(val)"
   ]
  },
  {
   "cell_type": "markdown",
   "id": "25304f4d",
   "metadata": {},
   "source": [
    "The exercise3 function creates a *_new_* local\n",
    "variable named **val** and assigns it the value TRUE.  This local variable goes away when\n",
    "the function ends, and has no effect on the global variable.\n",
    "\n",
    "\n",
    "To reassign a global variable inside a function you have to\n",
    "__\"declare\"__ the **global** variable before you use it:"
   ]
  },
  {
   "cell_type": "code",
   "execution_count": 53,
   "id": "661fde8d",
   "metadata": {},
   "outputs": [
    {
     "name": "stdout",
     "output_type": "stream",
     "text": [
      "False\n",
      "True\n"
     ]
    }
   ],
   "source": [
    "def exercise3():\n",
    "    global val\n",
    "    val = True\n",
    "\n",
    "val = False\n",
    "print(val)\n",
    "exercise3()\n",
    "print(val)"
   ]
  },
  {
   "cell_type": "markdown",
   "id": "3929c257",
   "metadata": {},
   "source": [
    "### <u>Exercise 4</u>\n",
    "\n",
    "The following code shows one way of obtaining the real and imaginary parts of a complex number. \n",
    "\n"
   ]
  },
  {
   "cell_type": "code",
   "execution_count": 17,
   "id": "2ff36995",
   "metadata": {},
   "outputs": [
    {
     "name": "stdout",
     "output_type": "stream",
     "text": [
      "2.0\n",
      "3.0\n"
     ]
    }
   ],
   "source": [
    "z = 2 + 3j\n",
    "print(z.real)\n",
    "print(z.imag)"
   ]
  },
  {
   "cell_type": "markdown",
   "id": "c4b75aa9",
   "metadata": {},
   "source": [
    "Write a function to determine the conjugate of a complex number. "
   ]
  },
  {
   "cell_type": "code",
   "execution_count": 32,
   "id": "2187110a",
   "metadata": {
    "tags": [
     "hide-input",
     "hide-output"
    ]
   },
   "outputs": [
    {
     "name": "stdout",
     "output_type": "stream",
     "text": [
      "(2-3j)\n"
     ]
    }
   ],
   "source": [
    "def conjugate(z) :\n",
    "    return(z.real - z.imag*(0+1j))\n",
    "print(conjugate(z))"
   ]
  },
  {
   "cell_type": "markdown",
   "id": "c57866d2",
   "metadata": {},
   "source": [
    "## Higher order programming"
   ]
  },
  {
   "cell_type": "markdown",
   "id": "483c0bb4",
   "metadata": {},
   "source": [
    "In Python, as in some other programming languages, functions have a specific type and can be used like ordinary variables. For example, the following\n",
    "is valid, (and sensible), python (try it)."
   ]
  },
  {
   "cell_type": "code",
   "execution_count": 13,
   "id": "6539fadd",
   "metadata": {},
   "outputs": [
    {
     "name": "stdout",
     "output_type": "stream",
     "text": [
      "14\n",
      "<class 'function'>\n",
      "<class 'function'>\n",
      "True\n"
     ]
    }
   ],
   "source": [
    "def f(x,y,z) :\n",
    "    return(x+2*y+3*z)\n",
    "\n",
    "g = f\n",
    "print(g(1,2,3))\n",
    "print(type(f))\n",
    "print(type(g))\n",
    "print(g==f)"
   ]
  },
  {
   "cell_type": "markdown",
   "id": "b0279942",
   "metadata": {},
   "source": [
    "Given the above definition of **f**, the following is also valid."
   ]
  },
  {
   "cell_type": "code",
   "execution_count": 14,
   "id": "effa56b9",
   "metadata": {},
   "outputs": [],
   "source": [
    "def h(x,func) :\n",
    "    return(3*func(2*x,2,3))\n"
   ]
  },
  {
   "cell_type": "markdown",
   "id": "aeaf6488",
   "metadata": {},
   "source": [
    "### <u>Exercise 5</u>\n",
    "\n",
    "What is the output of the following code ?"
   ]
  },
  {
   "cell_type": "code",
   "execution_count": 15,
   "id": "fc00c77b",
   "metadata": {
    "tags": [
     "hide-output"
    ]
   },
   "outputs": [
    {
     "name": "stdout",
     "output_type": "stream",
     "text": [
      "57\n"
     ]
    }
   ],
   "source": [
    "print(h(3,f))"
   ]
  },
  {
   "cell_type": "markdown",
   "id": "e8152e97",
   "metadata": {},
   "source": [
    "So, functions have type, can be assigned to variables, and passed to functions."
   ]
  },
  {
   "cell_type": "markdown",
   "id": "75309e6a",
   "metadata": {},
   "source": [
    "## Closures"
   ]
  },
  {
   "cell_type": "markdown",
   "id": "600901fb",
   "metadata": {},
   "source": [
    "In Python, (and most other languages that support higher order programming), functions can \n",
    "be defined inside other functions. Such a function is called a **closure**."
   ]
  },
  {
   "cell_type": "code",
   "execution_count": 36,
   "id": "58d62f10",
   "metadata": {
    "tags": [
     "hide-output"
    ]
   },
   "outputs": [
    {
     "data": {
      "text/plain": [
       "6"
      ]
     },
     "execution_count": 36,
     "metadata": {},
     "output_type": "execute_result"
    }
   ],
   "source": [
    "def f() :\n",
    "    def g(x) :\n",
    "        return(2*x)\n",
    "    return(g)\n",
    "\n",
    "h = f()\n",
    "h(3)"
   ]
  },
  {
   "cell_type": "markdown",
   "id": "6ef50744",
   "metadata": {},
   "source": [
    "The following example makes clearer what the value of closures might be. Try it out and check it works."
   ]
  },
  {
   "cell_type": "code",
   "execution_count": 37,
   "id": "ad3f6299",
   "metadata": {
    "tags": [
     "hide-output"
    ]
   },
   "outputs": [
    {
     "name": "stdout",
     "output_type": "stream",
     "text": [
      "0.9525741268224334\n"
     ]
    }
   ],
   "source": [
    "import math\n",
    "\n",
    "def logistic_function(k,x0,L) :\n",
    "    def logistic(x) :\n",
    "        res = math.exp(-k*(x-x0))\n",
    "        res += 1\n",
    "        res = L/res\n",
    "        return(res)\n",
    "    return(logistic)\n",
    "\n",
    "f = logistic_function(1,0,1)\n",
    "print(f(3))"
   ]
  },
  {
   "cell_type": "markdown",
   "id": "90388c0f",
   "metadata": {},
   "source": [
    "### <u>Exercise 7</u>\n",
    "\n",
    "What do you think the utility of the code in the previous exercise might be ? "
   ]
  },
  {
   "cell_type": "markdown",
   "id": "f141dc28-31b5-4569-b2be-5e32dfd47326",
   "metadata": {},
   "source": [
    "### <u>Exercise 8</u>"
   ]
  },
  {
   "cell_type": "markdown",
   "id": "c3f9a85c-9cef-4ac4-a130-9698d688fa1b",
   "metadata": {},
   "source": [
    "Consider the following code. "
   ]
  },
  {
   "cell_type": "code",
   "execution_count": 6,
   "id": "18e52933",
   "metadata": {},
   "outputs": [],
   "source": [
    "def agent() :\n",
    "    sum = 0\n",
    "    def agent_object(x) :\n",
    "        nonlocal sum\n",
    "        sum += x\n",
    "        return sum\n",
    "    return agent_object"
   ]
  },
  {
   "cell_type": "code",
   "execution_count": null,
   "id": "34baf1a6-91bc-409d-97f4-10e4e5e76ccc",
   "metadata": {},
   "outputs": [],
   "source": [
    "Now predict what the following code will do."
   ]
  },
  {
   "cell_type": "code",
   "execution_count": 10,
   "id": "a713137a-061a-4950-bbc9-338c9812aafd",
   "metadata": {
    "tags": [
     "hide-output"
    ]
   },
   "outputs": [
    {
     "name": "stdout",
     "output_type": "stream",
     "text": [
      "3\n",
      "2\n",
      "5\n"
     ]
    }
   ],
   "source": [
    "agent_A = agent()\n",
    "agent_B = agent()\n",
    "\n",
    "print(agent_A(3))\n",
    "print(agent_A(-1))\n",
    "print(agent_B(5))\n",
    "\n"
   ]
  },
  {
   "cell_type": "markdown",
   "id": "ec2673a4-911f-4e45-8625-0ca466b83507",
   "metadata": {},
   "source": [
    "What happens if you remove the **nonlocal** keyword from the **agent_object** function ?"
   ]
  },
  {
   "cell_type": "markdown",
   "id": "1a465f20-91c3-4430-86ec-a1f6b8bd9bb6",
   "metadata": {},
   "source": [
    "## Accessing functions from python libraries using import"
   ]
  },
  {
   "cell_type": "markdown",
   "id": "16635d51-5b40-4e3e-99f5-9788d65bd643",
   "metadata": {},
   "source": [
    "A library in python is a collection \n",
    "of functions, classes, and data that are organised in a group of files specific way. Using this specific way to \n",
    "organise the files allows them to be loaded into another python program using the **import** directive. There\n",
    "are several ways that this can be done, each with its own advantages. The following example is perhaps\n",
    "the simplest (but not particularly efficient) way of accessing the contents of a python library."
   ]
  },
  {
   "cell_type": "code",
   "execution_count": 59,
   "id": "da5307d9",
   "metadata": {},
   "outputs": [],
   "source": [
    "import math"
   ]
  },
  {
   "cell_type": "markdown",
   "id": "df08a9f2-1f10-492f-bba4-2a3ced3a6c7a",
   "metadata": {},
   "source": [
    "This imports the **math** package and all of its functions, classes, data and global variables. For example, the math package has the function **sin**. Try running the following python \n",
    "code to see what it does. "
   ]
  },
  {
   "cell_type": "code",
   "execution_count": 60,
   "id": "d1182f7e",
   "metadata": {
    "tags": [
     "hide-output"
    ]
   },
   "outputs": [
    {
     "name": "stdout",
     "output_type": "stream",
     "text": [
      "0.9356160015533859\n"
     ]
    }
   ],
   "source": [
    "x = 1.21\n",
    "y = math.sin(x)\n",
    "print(y)"
   ]
  },
  {
   "cell_type": "markdown",
   "id": "aae011e2-6091-4e7f-9989-ce23c776afa8",
   "metadata": {},
   "source": [
    "Notice how the function **sin** is used. The \".\"\" between **math** and **sin** indicates that the \n",
    "sin function is in the **math** library. You can get information on a library by using the python **help** \n",
    "function."
   ]
  },
  {
   "cell_type": "code",
   "execution_count": 61,
   "id": "14563cec",
   "metadata": {
    "tags": [
     "hide-output"
    ]
   },
   "outputs": [
    {
     "name": "stdout",
     "output_type": "stream",
     "text": [
      "Help on module math:\n",
      "\n",
      "NAME\n",
      "    math\n",
      "\n",
      "MODULE REFERENCE\n",
      "    https://docs.python.org/3.9/library/math\n",
      "    \n",
      "    The following documentation is automatically generated from the Python\n",
      "    source files.  It may be incomplete, incorrect or include features that\n",
      "    are considered implementation detail and may vary between Python\n",
      "    implementations.  When in doubt, consult the module reference at the\n",
      "    location listed above.\n",
      "\n",
      "DESCRIPTION\n",
      "    This module provides access to the mathematical functions\n",
      "    defined by the C standard.\n",
      "\n",
      "FUNCTIONS\n",
      "    acos(x, /)\n",
      "        Return the arc cosine (measured in radians) of x.\n",
      "        \n",
      "        The result is between 0 and pi.\n",
      "    \n",
      "    acosh(x, /)\n",
      "        Return the inverse hyperbolic cosine of x.\n",
      "    \n",
      "    asin(x, /)\n",
      "        Return the arc sine (measured in radians) of x.\n",
      "        \n",
      "        The result is between -pi/2 and pi/2.\n",
      "    \n",
      "    asinh(x, /)\n",
      "        Return the inverse hyperbolic sine of x.\n",
      "    \n",
      "    atan(x, /)\n",
      "        Return the arc tangent (measured in radians) of x.\n",
      "        \n",
      "        The result is between -pi/2 and pi/2.\n",
      "    \n",
      "    atan2(y, x, /)\n",
      "        Return the arc tangent (measured in radians) of y/x.\n",
      "        \n",
      "        Unlike atan(y/x), the signs of both x and y are considered.\n",
      "    \n",
      "    atanh(x, /)\n",
      "        Return the inverse hyperbolic tangent of x.\n",
      "    \n",
      "    ceil(x, /)\n",
      "        Return the ceiling of x as an Integral.\n",
      "        \n",
      "        This is the smallest integer >= x.\n",
      "    \n",
      "    comb(n, k, /)\n",
      "        Number of ways to choose k items from n items without repetition and without order.\n",
      "        \n",
      "        Evaluates to n! / (k! * (n - k)!) when k <= n and evaluates\n",
      "        to zero when k > n.\n",
      "        \n",
      "        Also called the binomial coefficient because it is equivalent\n",
      "        to the coefficient of k-th term in polynomial expansion of the\n",
      "        expression (1 + x)**n.\n",
      "        \n",
      "        Raises TypeError if either of the arguments are not integers.\n",
      "        Raises ValueError if either of the arguments are negative.\n",
      "    \n",
      "    copysign(x, y, /)\n",
      "        Return a float with the magnitude (absolute value) of x but the sign of y.\n",
      "        \n",
      "        On platforms that support signed zeros, copysign(1.0, -0.0)\n",
      "        returns -1.0.\n",
      "    \n",
      "    cos(x, /)\n",
      "        Return the cosine of x (measured in radians).\n",
      "    \n",
      "    cosh(x, /)\n",
      "        Return the hyperbolic cosine of x.\n",
      "    \n",
      "    degrees(x, /)\n",
      "        Convert angle x from radians to degrees.\n",
      "    \n",
      "    dist(p, q, /)\n",
      "        Return the Euclidean distance between two points p and q.\n",
      "        \n",
      "        The points should be specified as sequences (or iterables) of\n",
      "        coordinates.  Both inputs must have the same dimension.\n",
      "        \n",
      "        Roughly equivalent to:\n",
      "            sqrt(sum((px - qx) ** 2.0 for px, qx in zip(p, q)))\n",
      "    \n",
      "    erf(x, /)\n",
      "        Error function at x.\n",
      "    \n",
      "    erfc(x, /)\n",
      "        Complementary error function at x.\n",
      "    \n",
      "    exp(x, /)\n",
      "        Return e raised to the power of x.\n",
      "    \n",
      "    expm1(x, /)\n",
      "        Return exp(x)-1.\n",
      "        \n",
      "        This function avoids the loss of precision involved in the direct evaluation of exp(x)-1 for small x.\n",
      "    \n",
      "    fabs(x, /)\n",
      "        Return the absolute value of the float x.\n",
      "    \n",
      "    factorial(x, /)\n",
      "        Find x!.\n",
      "        \n",
      "        Raise a ValueError if x is negative or non-integral.\n",
      "    \n",
      "    floor(x, /)\n",
      "        Return the floor of x as an Integral.\n",
      "        \n",
      "        This is the largest integer <= x.\n",
      "    \n",
      "    fmod(x, y, /)\n",
      "        Return fmod(x, y), according to platform C.\n",
      "        \n",
      "        x % y may differ.\n",
      "    \n",
      "    frexp(x, /)\n",
      "        Return the mantissa and exponent of x, as pair (m, e).\n",
      "        \n",
      "        m is a float and e is an int, such that x = m * 2.**e.\n",
      "        If x is 0, m and e are both 0.  Else 0.5 <= abs(m) < 1.0.\n",
      "    \n",
      "    fsum(seq, /)\n",
      "        Return an accurate floating point sum of values in the iterable seq.\n",
      "        \n",
      "        Assumes IEEE-754 floating point arithmetic.\n",
      "    \n",
      "    gamma(x, /)\n",
      "        Gamma function at x.\n",
      "    \n",
      "    gcd(*integers)\n",
      "        Greatest Common Divisor.\n",
      "    \n",
      "    hypot(...)\n",
      "        hypot(*coordinates) -> value\n",
      "        \n",
      "        Multidimensional Euclidean distance from the origin to a point.\n",
      "        \n",
      "        Roughly equivalent to:\n",
      "            sqrt(sum(x**2 for x in coordinates))\n",
      "        \n",
      "        For a two dimensional point (x, y), gives the hypotenuse\n",
      "        using the Pythagorean theorem:  sqrt(x*x + y*y).\n",
      "        \n",
      "        For example, the hypotenuse of a 3/4/5 right triangle is:\n",
      "        \n",
      "            >>> hypot(3.0, 4.0)\n",
      "            5.0\n",
      "    \n",
      "    isclose(a, b, *, rel_tol=1e-09, abs_tol=0.0)\n",
      "        Determine whether two floating point numbers are close in value.\n",
      "        \n",
      "          rel_tol\n",
      "            maximum difference for being considered \"close\", relative to the\n",
      "            magnitude of the input values\n",
      "          abs_tol\n",
      "            maximum difference for being considered \"close\", regardless of the\n",
      "            magnitude of the input values\n",
      "        \n",
      "        Return True if a is close in value to b, and False otherwise.\n",
      "        \n",
      "        For the values to be considered close, the difference between them\n",
      "        must be smaller than at least one of the tolerances.\n",
      "        \n",
      "        -inf, inf and NaN behave similarly to the IEEE 754 Standard.  That\n",
      "        is, NaN is not close to anything, even itself.  inf and -inf are\n",
      "        only close to themselves.\n",
      "    \n",
      "    isfinite(x, /)\n",
      "        Return True if x is neither an infinity nor a NaN, and False otherwise.\n",
      "    \n",
      "    isinf(x, /)\n",
      "        Return True if x is a positive or negative infinity, and False otherwise.\n",
      "    \n",
      "    isnan(x, /)\n",
      "        Return True if x is a NaN (not a number), and False otherwise.\n",
      "    \n",
      "    isqrt(n, /)\n",
      "        Return the integer part of the square root of the input.\n",
      "    \n",
      "    lcm(*integers)\n",
      "        Least Common Multiple.\n",
      "    \n",
      "    ldexp(x, i, /)\n",
      "        Return x * (2**i).\n",
      "        \n",
      "        This is essentially the inverse of frexp().\n",
      "    \n",
      "    lgamma(x, /)\n",
      "        Natural logarithm of absolute value of Gamma function at x.\n",
      "    \n",
      "    log(...)\n",
      "        log(x, [base=math.e])\n",
      "        Return the logarithm of x to the given base.\n",
      "        \n",
      "        If the base not specified, returns the natural logarithm (base e) of x.\n",
      "    \n",
      "    log10(x, /)\n",
      "        Return the base 10 logarithm of x.\n",
      "    \n",
      "    log1p(x, /)\n",
      "        Return the natural logarithm of 1+x (base e).\n",
      "        \n",
      "        The result is computed in a way which is accurate for x near zero.\n",
      "    \n",
      "    log2(x, /)\n",
      "        Return the base 2 logarithm of x.\n",
      "    \n",
      "    modf(x, /)\n",
      "        Return the fractional and integer parts of x.\n",
      "        \n",
      "        Both results carry the sign of x and are floats.\n",
      "    \n",
      "    nextafter(x, y, /)\n",
      "        Return the next floating-point value after x towards y.\n",
      "    \n",
      "    perm(n, k=None, /)\n",
      "        Number of ways to choose k items from n items without repetition and with order.\n",
      "        \n",
      "        Evaluates to n! / (n - k)! when k <= n and evaluates\n",
      "        to zero when k > n.\n",
      "        \n",
      "        If k is not specified or is None, then k defaults to n\n",
      "        and the function returns n!.\n",
      "        \n",
      "        Raises TypeError if either of the arguments are not integers.\n",
      "        Raises ValueError if either of the arguments are negative.\n",
      "    \n",
      "    pow(x, y, /)\n",
      "        Return x**y (x to the power of y).\n",
      "    \n",
      "    prod(iterable, /, *, start=1)\n",
      "        Calculate the product of all the elements in the input iterable.\n",
      "        \n",
      "        The default start value for the product is 1.\n",
      "        \n",
      "        When the iterable is empty, return the start value.  This function is\n",
      "        intended specifically for use with numeric values and may reject\n",
      "        non-numeric types.\n",
      "    \n",
      "    radians(x, /)\n",
      "        Convert angle x from degrees to radians.\n",
      "    \n",
      "    remainder(x, y, /)\n",
      "        Difference between x and the closest integer multiple of y.\n",
      "        \n",
      "        Return x - n*y where n*y is the closest integer multiple of y.\n",
      "        In the case where x is exactly halfway between two multiples of\n",
      "        y, the nearest even value of n is used. The result is always exact.\n",
      "    \n",
      "    sin(x, /)\n",
      "        Return the sine of x (measured in radians).\n",
      "    \n",
      "    sinh(x, /)\n",
      "        Return the hyperbolic sine of x.\n",
      "    \n",
      "    sqrt(x, /)\n",
      "        Return the square root of x.\n",
      "    \n",
      "    tan(x, /)\n",
      "        Return the tangent of x (measured in radians).\n",
      "    \n",
      "    tanh(x, /)\n",
      "        Return the hyperbolic tangent of x.\n",
      "    \n",
      "    trunc(x, /)\n",
      "        Truncates the Real x to the nearest Integral toward 0.\n",
      "        \n",
      "        Uses the __trunc__ magic method.\n",
      "    \n",
      "    ulp(x, /)\n",
      "        Return the value of the least significant bit of the float x.\n",
      "\n",
      "DATA\n",
      "    e = 2.718281828459045\n",
      "    inf = inf\n",
      "    nan = nan\n",
      "    pi = 3.141592653589793\n",
      "    tau = 6.283185307179586\n",
      "\n",
      "FILE\n",
      "    /home/grosedj/.pyenv/versions/3.9.0/lib/python3.9/lib-dynload/math.cpython-39-x86_64-linux-gnu.so\n",
      "\n",
      "\n"
     ]
    }
   ],
   "source": [
    "help(\"math\")"
   ]
  },
  {
   "cell_type": "markdown",
   "id": "3879773f-ee1b-48a1-a9b6-80e22e43e622",
   "metadata": {},
   "source": [
    "Notice that the name of the library is in quotation marks. You can also use **help** to get help on\n",
    "the functions in the library."
   ]
  },
  {
   "cell_type": "code",
   "execution_count": 62,
   "id": "5a6d857e",
   "metadata": {
    "tags": [
     "hide-output"
    ]
   },
   "outputs": [
    {
     "name": "stdout",
     "output_type": "stream",
     "text": [
      "Help on built-in function tan in math:\n",
      "\n",
      "math.tan = tan(x, /)\n",
      "    Return the tangent of x (measured in radians).\n",
      "\n"
     ]
    }
   ],
   "source": [
    "help(\"math.tan\")"
   ]
  },
  {
   "cell_type": "markdown",
   "id": "7320a595-33b1-43a0-a316-92d78978dd85",
   "metadata": {},
   "source": [
    "You can also import just specific parts of a library and use them without the \".\". "
   ]
  },
  {
   "cell_type": "code",
   "execution_count": 63,
   "id": "a1a0364b",
   "metadata": {},
   "outputs": [],
   "source": [
    "from math import tan"
   ]
  },
  {
   "cell_type": "code",
   "execution_count": 64,
   "id": "6595b750",
   "metadata": {},
   "outputs": [
    {
     "name": "stdout",
     "output_type": "stream",
     "text": [
      "2.650324594970601\n"
     ]
    }
   ],
   "source": [
    "y = tan(x)\n",
    "print(y)"
   ]
  },
  {
   "cell_type": "markdown",
   "id": "7264fab3-606f-4e0b-861f-a21d3474a747",
   "metadata": {},
   "source": [
    "When importing a function you can also rename it."
   ]
  },
  {
   "cell_type": "code",
   "execution_count": 65,
   "id": "8866b892",
   "metadata": {},
   "outputs": [],
   "source": [
    "from math import atan as arctan"
   ]
  },
  {
   "cell_type": "code",
   "execution_count": 66,
   "id": "e1efecc1",
   "metadata": {},
   "outputs": [
    {
     "name": "stdout",
     "output_type": "stream",
     "text": [
      "1.21\n"
     ]
    }
   ],
   "source": [
    "z = arctan(y)\n",
    "print(z)\n"
   ]
  },
  {
   "cell_type": "markdown",
   "id": "d3acd336-9141-42cd-a3f4-0a5a8a771853",
   "metadata": {},
   "source": [
    "### <u>Exercise 9</u>\n",
    "\n",
    "Import the **random** library and use help to discover some of its functions. Pick some of the functions and\n",
    "experiment with them.\n",
    "\n",
    "In particular, see if you can \n",
    "- generate a random number in the interval [0,1]\n",
    "- set a random seed\n",
    "- generate a random integer in the interval [10,20]"
   ]
  },
  {
   "cell_type": "code",
   "execution_count": 23,
   "id": "5e6b444d-a878-4fb4-a1f1-fca3c0c1ee06",
   "metadata": {
    "tags": [
     "hide-output"
    ]
   },
   "outputs": [
    {
     "name": "stdout",
     "output_type": "stream",
     "text": [
      "0.4032058394752237 : 12\n"
     ]
    }
   ],
   "source": [
    "import random\n",
    "random.seed(1969)\n",
    "x = random.random()\n",
    "a = random.randint(10,20)\n",
    "print(str(x) + \" : \" + str(a))"
   ]
  }
 ],
 "metadata": {
  "celltoolbar": "Edit Metadata",
  "kernelspec": {
   "display_name": "Python 3 (ipykernel)",
   "language": "python",
   "name": "python3"
  },
  "language_info": {
   "codemirror_mode": {
    "name": "ipython",
    "version": 3
   },
   "file_extension": ".py",
   "mimetype": "text/x-python",
   "name": "python",
   "nbconvert_exporter": "python",
   "pygments_lexer": "ipython3",
   "version": "3.12.3"
  }
 },
 "nbformat": 4,
 "nbformat_minor": 5
}
