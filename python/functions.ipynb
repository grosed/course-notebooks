{
 "cells": [
  {
   "cell_type": "markdown",
   "id": "ee2f5537",
   "metadata": {},
   "source": [
    "# Functions"
   ]
  },
  {
   "cell_type": "markdown",
   "id": "9a9da775",
   "metadata": {},
   "source": [
    "## Function calls"
   ]
  },
  {
   "cell_type": "markdown",
   "id": "37587973",
   "metadata": {},
   "source": [
    "In the context of programming, a **function** is a named sequence of\n",
    "statements that performs a computation.  When you define a function,\n",
    "you specify the name and the sequence of statements.  Later, you can\n",
    "\"call\" the function by name. \n",
    "\n",
    "We have already seen one example of a **function call** :"
   ]
  },
  {
   "cell_type": "code",
   "execution_count": 35,
   "id": "f35fcaff",
   "metadata": {},
   "outputs": [
    {
     "data": {
      "text/plain": [
       "int"
      ]
     },
     "execution_count": 35,
     "metadata": {},
     "output_type": "execute_result"
    }
   ],
   "source": [
    "type(32)"
   ]
  },
  {
   "cell_type": "markdown",
   "id": "9d5de4fb",
   "metadata": {},
   "source": [
    "The name of the function is **type**.  The expression in parentheses\n",
    "is called the **argument** of the function.  The result, for this\n",
    "function, is the type of the argument.\n",
    "\n",
    "It is common to say that a function __\"takes\"__ an argument and __\"returns\"__\n",
    "a result.  The result is called the __return value__."
   ]
  },
  {
   "cell_type": "markdown",
   "id": "2ac05e37",
   "metadata": {},
   "source": [
    "## Conversion functions "
   ]
  },
  {
   "cell_type": "markdown",
   "id": "5564fb16",
   "metadata": {},
   "source": [
    "Python has functions which help you convert between the different python types."
   ]
  },
  {
   "cell_type": "markdown",
   "id": "93fdd3a4",
   "metadata": {},
   "source": [
    "### <u>Example 1</u>"
   ]
  },
  {
   "cell_type": "markdown",
   "id": "b4ab1ee0",
   "metadata": {},
   "source": [
    "The following code will not work."
   ]
  },
  {
   "cell_type": "code",
   "execution_count": 5,
   "id": "1702e4fe",
   "metadata": {},
   "outputs": [
    {
     "ename": "TypeError",
     "evalue": "can't multiply sequence by non-int of type 'float'",
     "output_type": "error",
     "traceback": [
      "\u001b[0;31m---------------------------------------------------------------------------\u001b[0m",
      "\u001b[0;31mTypeError\u001b[0m                                 Traceback (most recent call last)",
      "\u001b[0;32m/tmp/ipykernel_87467/688267819.py\u001b[0m in \u001b[0;36m<module>\u001b[0;34m\u001b[0m\n\u001b[1;32m      2\u001b[0m \u001b[0mx\u001b[0m \u001b[0;34m=\u001b[0m \u001b[0;36m3.14\u001b[0m\u001b[0;34m\u001b[0m\u001b[0;34m\u001b[0m\u001b[0m\n\u001b[1;32m      3\u001b[0m \u001b[0my\u001b[0m \u001b[0;34m=\u001b[0m \u001b[0;34m\"5.6\"\u001b[0m\u001b[0;34m\u001b[0m\u001b[0;34m\u001b[0m\u001b[0m\n\u001b[0;32m----> 4\u001b[0;31m \u001b[0mprint\u001b[0m\u001b[0;34m(\u001b[0m\u001b[0mx\u001b[0m\u001b[0;34m*\u001b[0m\u001b[0my\u001b[0m\u001b[0;34m)\u001b[0m\u001b[0;34m\u001b[0m\u001b[0;34m\u001b[0m\u001b[0m\n\u001b[0m",
      "\u001b[0;31mTypeError\u001b[0m: can't multiply sequence by non-int of type 'float'"
     ]
    }
   ],
   "source": [
    "# this will not work ...\n",
    "x = 3.14\n",
    "y = \"5.6\"\n",
    "print(x*y)"
   ]
  },
  {
   "cell_type": "markdown",
   "id": "ba35114c-45fd-45cc-8db3-61f04d8b814b",
   "metadata": {},
   "source": [
    "But there is  \"fix\"."
   ]
  },
  {
   "cell_type": "code",
   "execution_count": 4,
   "id": "d08c106f",
   "metadata": {},
   "outputs": [
    {
     "name": "stdout",
     "output_type": "stream",
     "text": [
      "17.584\n"
     ]
    }
   ],
   "source": [
    "# ... but it can be fixed\n",
    "y = float(y)\n",
    "print(x*y)"
   ]
  },
  {
   "cell_type": "markdown",
   "id": "0cb79127",
   "metadata": {},
   "source": [
    "### <u>Example 2</u>"
   ]
  },
  {
   "cell_type": "code",
   "execution_count": 33,
   "id": "ae15acd5",
   "metadata": {},
   "outputs": [
    {
     "name": "stdout",
     "output_type": "stream",
     "text": [
      "pi = 3.14159\n"
     ]
    }
   ],
   "source": [
    "z = \"pi = \" + str(3.14159)\n",
    "print(z)"
   ]
  },
  {
   "cell_type": "markdown",
   "id": "7d26c18e",
   "metadata": {},
   "source": [
    "### <u>Example 3</u>"
   ]
  },
  {
   "cell_type": "code",
   "execution_count": 34,
   "id": "ac372e88",
   "metadata": {},
   "outputs": [
    {
     "name": "stdout",
     "output_type": "stream",
     "text": [
      "(1+2j)\n",
      "(-3+4j)\n"
     ]
    }
   ],
   "source": [
    "z1 = complex(1,2)\n",
    "print(z1)\n",
    "print(z1*z1)"
   ]
  },
  {
   "cell_type": "markdown",
   "id": "e0b84fd5",
   "metadata": {},
   "source": [
    "As example 3 demonstrates, the conversion functions also provide a way of __\"initialising\"__ some of the more complex python types. "
   ]
  },
  {
   "cell_type": "markdown",
   "id": "144b88b2-320c-4861-820f-7afbc1b0fc9c",
   "metadata": {},
   "source": [
    "## Importing useful functions"
   ]
  },
  {
   "cell_type": "markdown",
   "id": "3b8cb4ef-c359-469b-a79f-3d03d40231a9",
   "metadata": {},
   "source": [
    "A module in python is a collection \n",
    "of functions, classes, and data that are organised in a group of files specific way. Using this specific way to \n",
    "organise the files allows them to be loaded into another python program using the **import** directive. There\n",
    "are several ways that this can be done, each with its own advantages. The following examples are perhaps\n",
    "the simplest (but not particularly efficient) way of accessing the contents of a python library."
   ]
  },
  {
   "cell_type": "code",
   "execution_count": 1,
   "id": "b6e8762a-608d-47d2-8d84-186467a89405",
   "metadata": {},
   "outputs": [
    {
     "name": "stdout",
     "output_type": "stream",
     "text": [
      "0.9092974268256817\n"
     ]
    }
   ],
   "source": [
    "import math\n",
    "\n",
    "x = 2\n",
    "y = math.sin(x)\n",
    "print(y)"
   ]
  },
  {
   "cell_type": "code",
   "execution_count": 3,
   "id": "2646189f-0e1c-4525-9c63-b6acd5b69f53",
   "metadata": {},
   "outputs": [
    {
     "name": "stdout",
     "output_type": "stream",
     "text": [
      "[3, 1, 2, 4]\n"
     ]
    }
   ],
   "source": [
    "import random\n",
    "\n",
    "random.seed(0)\n",
    "x = [1,2,3,4]\n",
    "random.shuffle(x)\n",
    "print(x)"
   ]
  },
  {
   "cell_type": "markdown",
   "id": "b2c82bd9-f259-4d5e-8b45-f3707d2ed2fd",
   "metadata": {},
   "source": [
    "Notice how a module is imported using **import** "
   ]
  },
  {
   "cell_type": "markdown",
   "id": "837655ca-e86c-4cb8-8c8f-2475cde423a8",
   "metadata": {},
   "source": [
    "## Point of Departure\n",
    "\n",
    "- There are several ways in which **import** can be used. Do some online research and find some examples and try and use them.\n",
    "- Use the **help** function to find out what is in the **math** module. The help you use the **help** function try executing \n",
    "```python\n",
    "help(\"help\")\n",
    "```"
   ]
  },
  {
   "cell_type": "markdown",
   "id": "7147a798",
   "metadata": {},
   "source": [
    "## Defining new functions"
   ]
  },
  {
   "cell_type": "markdown",
   "id": "135f4dbb",
   "metadata": {},
   "source": [
    "A **function definition** specifies the name of a new function and\n",
    "the sequence of statements that execute when the function is called."
   ]
  },
  {
   "cell_type": "code",
   "execution_count": 39,
   "id": "debdd7d4",
   "metadata": {},
   "outputs": [],
   "source": [
    "def f(x) :\n",
    "    y = 1/(1+x)\n",
    "    return y\n"
   ]
  },
  {
   "cell_type": "markdown",
   "id": "dc3ebfb1",
   "metadata": {},
   "source": [
    "**def** is a keyword that indicates that this is a function\n",
    "definition.  The name of the function is **f**.  The\n",
    "rules for function names are the same as for variable names: letters,\n",
    "numbers and some punctuation marks are legal, but the first character\n",
    "can't be a number.  You can't use a keyword as the name of a function,\n",
    "and you should avoid having a variable and a function with the same\n",
    "name.\n",
    "\n",
    "The **x** in the parenthesis is an argument that is passed to the function. A function can have a comma separated list\n",
    "of arguments."
   ]
  },
  {
   "cell_type": "code",
   "execution_count": 35,
   "id": "b18bfd74",
   "metadata": {},
   "outputs": [],
   "source": [
    "def g(x,n) :\n",
    "    y = 1/(1+x)**n\n",
    "    return y"
   ]
  },
  {
   "cell_type": "markdown",
   "id": "d355e054",
   "metadata": {},
   "source": [
    "The **body** of the function is indented with a **tab**, (or **4 spaces**), to show it is part of the function. The return statement \n",
    "contains an expression which is what the function evaluates to when it is used. "
   ]
  },
  {
   "cell_type": "code",
   "execution_count": 41,
   "id": "80e9f5c8",
   "metadata": {},
   "outputs": [
    {
     "data": {
      "text/plain": [
       "0.003492943259127733"
      ]
     },
     "execution_count": 41,
     "metadata": {},
     "output_type": "execute_result"
    }
   ],
   "source": [
    "g(2.1,5)"
   ]
  },
  {
   "cell_type": "markdown",
   "id": "ce908f6e",
   "metadata": {},
   "source": [
    "### <u>Exercise 1</u>\n",
    "\n",
    "What is the **type** of **g** ?"
   ]
  },
  {
   "cell_type": "markdown",
   "id": "f9e5a49a",
   "metadata": {},
   "source": [
    "### Solution 1"
   ]
  },
  {
   "cell_type": "code",
   "execution_count": 42,
   "id": "ba3a87f3",
   "metadata": {
    "tags": [
     "hide-output",
     "hide-input"
    ]
   },
   "outputs": [
    {
     "data": {
      "text/plain": [
       "function"
      ]
     },
     "execution_count": 42,
     "metadata": {},
     "output_type": "execute_result"
    }
   ],
   "source": [
    "type(g)"
   ]
  },
  {
   "cell_type": "markdown",
   "id": "8831eba2",
   "metadata": {},
   "source": [
    "The __arguments__ of a function are variables that name each __argument__. \n",
    "These can be used explicity when using a function.\n"
   ]
  },
  {
   "cell_type": "code",
   "execution_count": 43,
   "id": "23e10155",
   "metadata": {},
   "outputs": [],
   "source": [
    "def f(a,b,c) :\n",
    "    return(a+2*b+3*c)"
   ]
  },
  {
   "cell_type": "markdown",
   "id": "4fcc2423",
   "metadata": {},
   "source": [
    "### <u>Exercise 2</u>\n",
    "\n",
    "Predict the output of the follwing code."
   ]
  },
  {
   "cell_type": "code",
   "execution_count": 44,
   "id": "6fd87322",
   "metadata": {
    "tags": [
     "hide-output"
    ]
   },
   "outputs": [
    {
     "data": {
      "text/plain": [
       "14"
      ]
     },
     "execution_count": 44,
     "metadata": {},
     "output_type": "execute_result"
    }
   ],
   "source": [
    "f(1,2,3)"
   ]
  },
  {
   "cell_type": "code",
   "execution_count": 45,
   "id": "8da73902",
   "metadata": {
    "tags": [
     "hide-output"
    ]
   },
   "outputs": [
    {
     "data": {
      "text/plain": [
       "14"
      ]
     },
     "execution_count": 45,
     "metadata": {},
     "output_type": "execute_result"
    }
   ],
   "source": [
    "f(a=1,b=2,c=3)"
   ]
  },
  {
   "cell_type": "code",
   "execution_count": 46,
   "id": "be65e322",
   "metadata": {
    "tags": [
     "hide-output"
    ]
   },
   "outputs": [
    {
     "data": {
      "text/plain": [
       "14"
      ]
     },
     "execution_count": 46,
     "metadata": {},
     "output_type": "execute_result"
    }
   ],
   "source": [
    "f(a=1,c=3,b=2)"
   ]
  },
  {
   "cell_type": "code",
   "execution_count": 47,
   "id": "87830474",
   "metadata": {
    "tags": [
     "hide-output"
    ]
   },
   "outputs": [
    {
     "data": {
      "text/plain": [
       "14"
      ]
     },
     "execution_count": 47,
     "metadata": {},
     "output_type": "execute_result"
    }
   ],
   "source": [
    "f(1,2,c=3)"
   ]
  },
  {
   "cell_type": "code",
   "execution_count": 48,
   "id": "9fc03a35",
   "metadata": {
    "tags": [
     "hide-output"
    ]
   },
   "outputs": [
    {
     "ename": "SyntaxError",
     "evalue": "positional argument follows keyword argument (<ipython-input-48-6cd2a3b71e21>, line 1)",
     "output_type": "error",
     "traceback": [
      "\u001b[0;36m  File \u001b[0;32m\"<ipython-input-48-6cd2a3b71e21>\"\u001b[0;36m, line \u001b[0;32m1\u001b[0m\n\u001b[0;31m    f(1,c=3,2)\u001b[0m\n\u001b[0m             ^\u001b[0m\n\u001b[0;31mSyntaxError\u001b[0m\u001b[0;31m:\u001b[0m positional argument follows keyword argument\n"
     ]
    }
   ],
   "source": [
    "f(1,c=3,2)"
   ]
  },
  {
   "cell_type": "markdown",
   "id": "db2ef27f",
   "metadata": {},
   "source": [
    "## Functions and scope"
   ]
  },
  {
   "cell_type": "markdown",
   "id": "6da55999",
   "metadata": {},
   "source": [
    "Consider the following python code"
   ]
  },
  {
   "cell_type": "code",
   "execution_count": 49,
   "id": "ef2f4eb5",
   "metadata": {},
   "outputs": [],
   "source": [
    "def f(x,y,z) :\n",
    "    a = 1\n",
    "    b = 2\n",
    "    c = 3\n",
    "    return(a*x+b*y+c*z)"
   ]
  },
  {
   "cell_type": "code",
   "execution_count": 50,
   "id": "45e966cd",
   "metadata": {},
   "outputs": [
    {
     "ename": "NameError",
     "evalue": "name 'a' is not defined",
     "output_type": "error",
     "traceback": [
      "\u001b[0;31m---------------------------------------------------------------------------\u001b[0m",
      "\u001b[0;31mNameError\u001b[0m                                 Traceback (most recent call last)",
      "\u001b[0;32m<ipython-input-50-aeb7dbfeb3ff>\u001b[0m in \u001b[0;36m<module>\u001b[0;34m\u001b[0m\n\u001b[1;32m      1\u001b[0m \u001b[0mf\u001b[0m\u001b[0;34m(\u001b[0m\u001b[0;36m1\u001b[0m\u001b[0;34m,\u001b[0m\u001b[0;36m2\u001b[0m\u001b[0;34m,\u001b[0m\u001b[0;36m3\u001b[0m\u001b[0;34m)\u001b[0m\u001b[0;34m\u001b[0m\u001b[0;34m\u001b[0m\u001b[0m\n\u001b[0;32m----> 2\u001b[0;31m \u001b[0mprint\u001b[0m\u001b[0;34m(\u001b[0m\u001b[0ma\u001b[0m\u001b[0;34m)\u001b[0m\u001b[0;34m\u001b[0m\u001b[0;34m\u001b[0m\u001b[0m\n\u001b[0m",
      "\u001b[0;31mNameError\u001b[0m: name 'a' is not defined"
     ]
    }
   ],
   "source": [
    "f(1,2,3)\n",
    "print(a)"
   ]
  },
  {
   "cell_type": "markdown",
   "id": "f98414e0",
   "metadata": {},
   "source": [
    "The function appears to work ok, but the print statement does not. This is because variables declared in a function are local to that function. This is typically\n",
    "stated as ___the variable a is contained in the scope of the function f___.\n",
    "However, the following will work :"
   ]
  },
  {
   "cell_type": "code",
   "execution_count": 51,
   "id": "acb9c4fa",
   "metadata": {},
   "outputs": [
    {
     "name": "stdout",
     "output_type": "stream",
     "text": [
      "5\n"
     ]
    }
   ],
   "source": [
    "a = 5\n",
    "def f(x,y,z) :\n",
    "    a = 1\n",
    "    b = 2\n",
    "    c = 3\n",
    "    return(a*x+b*y+c*z)\n",
    "f(1,2,3)\n",
    "print(a)"
   ]
  },
  {
   "cell_type": "markdown",
   "id": "d4d17f74",
   "metadata": {},
   "source": [
    "### <u>Exercise 3</u>\n",
    "\n",
    "What would you expect the output of the following code to be ?"
   ]
  },
  {
   "cell_type": "code",
   "execution_count": 52,
   "id": "f2b80e33",
   "metadata": {
    "tags": [
     "hide-output"
    ]
   },
   "outputs": [
    {
     "name": "stdout",
     "output_type": "stream",
     "text": [
      "False\n",
      "False\n"
     ]
    }
   ],
   "source": [
    "val = False\n",
    "\n",
    "def exercise3():\n",
    "    val = True\n",
    "    \n",
    "print(val)\n",
    "exercise3()\n",
    "print(val)"
   ]
  },
  {
   "cell_type": "markdown",
   "id": "25304f4d",
   "metadata": {},
   "source": [
    "The exercise3 function creates a *_new_* local\n",
    "variable named **val** and assigns it the value TRUE.  This local variable goes away when\n",
    "the function ends, and has no effect on the global variable.\n",
    "\n",
    "\n",
    "To reassign a global variable inside a function you have to\n",
    "__\"declare\"__ the **global** variable before you use it:"
   ]
  },
  {
   "cell_type": "code",
   "execution_count": 53,
   "id": "661fde8d",
   "metadata": {},
   "outputs": [
    {
     "name": "stdout",
     "output_type": "stream",
     "text": [
      "False\n",
      "True\n"
     ]
    }
   ],
   "source": [
    "def exercise3():\n",
    "    global val\n",
    "    val = True\n",
    "\n",
    "val = False\n",
    "print(val)\n",
    "exercise3()\n",
    "print(val)"
   ]
  },
  {
   "cell_type": "markdown",
   "id": "d98a0e7c-0d13-4856-890c-54268683eb95",
   "metadata": {},
   "source": [
    "**Yukk !!** .... Discuss."
   ]
  },
  {
   "cell_type": "markdown",
   "id": "3929c257",
   "metadata": {},
   "source": [
    "### <u>Exercise 4</u>\n",
    "\n",
    "The following code shows one way of obtaining the real and imaginary parts of a complex number. \n",
    "\n"
   ]
  },
  {
   "cell_type": "code",
   "execution_count": 17,
   "id": "2ff36995",
   "metadata": {},
   "outputs": [
    {
     "name": "stdout",
     "output_type": "stream",
     "text": [
      "2.0\n",
      "3.0\n"
     ]
    }
   ],
   "source": [
    "z = 2 + 3j\n",
    "print(z.real)\n",
    "print(z.imag)"
   ]
  },
  {
   "cell_type": "markdown",
   "id": "c4b75aa9",
   "metadata": {},
   "source": [
    "Write a function to determine the conjugate of a complex number. "
   ]
  },
  {
   "cell_type": "code",
   "execution_count": 32,
   "id": "2187110a",
   "metadata": {
    "tags": [
     "hide-input",
     "hide-output"
    ]
   },
   "outputs": [
    {
     "name": "stdout",
     "output_type": "stream",
     "text": [
      "(2-3j)\n"
     ]
    }
   ],
   "source": [
    "def conjugate(z) :\n",
    "    return(z.real - z.imag*(0+1j))\n",
    "print(conjugate(z))"
   ]
  },
  {
   "cell_type": "markdown",
   "id": "c57866d2",
   "metadata": {},
   "source": [
    "## Higher order programming"
   ]
  },
  {
   "cell_type": "markdown",
   "id": "483c0bb4",
   "metadata": {},
   "source": [
    "In Python, as in some other programming languages, functions have a specific type and can be used like ordinary variables. For example, the following\n",
    "is valid, (and sensible), python (try it)."
   ]
  },
  {
   "cell_type": "code",
   "execution_count": 13,
   "id": "6539fadd",
   "metadata": {},
   "outputs": [
    {
     "name": "stdout",
     "output_type": "stream",
     "text": [
      "14\n",
      "<class 'function'>\n",
      "<class 'function'>\n",
      "True\n"
     ]
    }
   ],
   "source": [
    "def f(x,y,z) :\n",
    "    return(x+2*y+3*z)\n",
    "\n",
    "g = f\n",
    "print(g(1,2,3))\n",
    "print(type(f))\n",
    "print(type(g))\n",
    "print(g==f)"
   ]
  },
  {
   "cell_type": "markdown",
   "id": "b0279942",
   "metadata": {},
   "source": [
    "Given the above definition of **f**, the following is also valid."
   ]
  },
  {
   "cell_type": "code",
   "execution_count": 14,
   "id": "effa56b9",
   "metadata": {},
   "outputs": [],
   "source": [
    "def h(x,func) :\n",
    "    return(3*func(2*x,2,3))\n"
   ]
  },
  {
   "cell_type": "markdown",
   "id": "aeaf6488",
   "metadata": {},
   "source": [
    "### <u>Exercise 5</u>\n",
    "\n",
    "What is the output of the following code ?"
   ]
  },
  {
   "cell_type": "code",
   "execution_count": 15,
   "id": "fc00c77b",
   "metadata": {
    "tags": [
     "hide-output"
    ]
   },
   "outputs": [
    {
     "name": "stdout",
     "output_type": "stream",
     "text": [
      "57\n"
     ]
    }
   ],
   "source": [
    "print(h(3,f))"
   ]
  },
  {
   "cell_type": "markdown",
   "id": "e8152e97",
   "metadata": {},
   "source": [
    "So, functions have type, can be assigned to variables, and passed to functions."
   ]
  },
  {
   "cell_type": "markdown",
   "id": "75309e6a",
   "metadata": {},
   "source": [
    "## Closures"
   ]
  },
  {
   "cell_type": "markdown",
   "id": "600901fb",
   "metadata": {},
   "source": [
    "In Python, (and most other languages that support higher order programming), functions can \n",
    "be defined inside other functions. Such a function is called a **closure**."
   ]
  },
  {
   "cell_type": "code",
   "execution_count": 36,
   "id": "58d62f10",
   "metadata": {
    "tags": [
     "hide-output"
    ]
   },
   "outputs": [
    {
     "data": {
      "text/plain": [
       "6"
      ]
     },
     "execution_count": 36,
     "metadata": {},
     "output_type": "execute_result"
    }
   ],
   "source": [
    "def f() :\n",
    "    def g(x) :\n",
    "        return(2*x)\n",
    "    return(g)\n",
    "\n",
    "h = f()\n",
    "h(3)"
   ]
  },
  {
   "cell_type": "markdown",
   "id": "6ef50744",
   "metadata": {},
   "source": [
    "The following example makes clearer what the value of closures might be. Try it out and check it works."
   ]
  },
  {
   "cell_type": "code",
   "execution_count": 37,
   "id": "ad3f6299",
   "metadata": {
    "tags": [
     "hide-output"
    ]
   },
   "outputs": [
    {
     "name": "stdout",
     "output_type": "stream",
     "text": [
      "0.9525741268224334\n"
     ]
    }
   ],
   "source": [
    "import math\n",
    "\n",
    "def logistic_function(k,x0,L) :\n",
    "    def logistic(x) :\n",
    "        res = math.exp(-k*(x-x0))\n",
    "        res += 1\n",
    "        res = L/res\n",
    "        return(res)\n",
    "    return(logistic)\n",
    "\n",
    "f = logistic_function(1,0,1)\n",
    "print(f(3))"
   ]
  },
  {
   "cell_type": "markdown",
   "id": "90388c0f",
   "metadata": {},
   "source": [
    "### <u>Exercise 7</u>\n",
    "\n",
    "What do you think the utility of the code in the previous exercise might be ? "
   ]
  },
  {
   "cell_type": "markdown",
   "id": "f141dc28-31b5-4569-b2be-5e32dfd47326",
   "metadata": {},
   "source": [
    "### <u>Exercise 8</u>"
   ]
  },
  {
   "cell_type": "markdown",
   "id": "c3f9a85c-9cef-4ac4-a130-9698d688fa1b",
   "metadata": {},
   "source": [
    "Consider the following code. "
   ]
  },
  {
   "cell_type": "code",
   "execution_count": 8,
   "id": "18e52933",
   "metadata": {},
   "outputs": [],
   "source": [
    "def agent() :\n",
    "    sum = 0\n",
    "    def agent_object(x) :\n",
    "        nonlocal sum\n",
    "        sum += x\n",
    "        return sum\n",
    "    return agent_object"
   ]
  },
  {
   "cell_type": "code",
   "execution_count": null,
   "id": "34baf1a6-91bc-409d-97f4-10e4e5e76ccc",
   "metadata": {},
   "outputs": [],
   "source": [
    "Now predict what the following code will do."
   ]
  },
  {
   "cell_type": "code",
   "execution_count": 9,
   "id": "a713137a-061a-4950-bbc9-338c9812aafd",
   "metadata": {
    "tags": [
     "hide-output"
    ]
   },
   "outputs": [
    {
     "name": "stdout",
     "output_type": "stream",
     "text": [
      "3\n",
      "2\n",
      "5\n"
     ]
    }
   ],
   "source": [
    "agent_A = agent()\n",
    "agent_B = agent()\n",
    "\n",
    "print(agent_A(3))\n",
    "print(agent_A(-1))\n",
    "print(agent_B(5))\n",
    "\n"
   ]
  },
  {
   "cell_type": "markdown",
   "id": "ec2673a4-911f-4e45-8625-0ca466b83507",
   "metadata": {},
   "source": [
    "What happens if you remove the **nonlocal** keyword from the **agent_object** function ? Do you think this is good or bad ?"
   ]
  },
  {
   "cell_type": "markdown",
   "id": "371a9ad4-ee9d-4762-83b6-e14659032039",
   "metadata": {},
   "source": [
    "## Recursion"
   ]
  },
  {
   "cell_type": "markdown",
   "id": "940bf5a7-361c-4982-afba-9a2ae7728455",
   "metadata": {},
   "source": [
    "Functions can \"call\" themselves. Here is a simple example."
   ]
  },
  {
   "cell_type": "code",
   "execution_count": 9,
   "id": "9502469a-8112-43ad-b9fe-abc0c626c3e9",
   "metadata": {},
   "outputs": [
    {
     "data": {
      "text/plain": [
       "10"
      ]
     },
     "execution_count": 9,
     "metadata": {},
     "output_type": "execute_result"
    }
   ],
   "source": [
    "def rsum(l,sum = 0) :\n",
    "    if l == [] :\n",
    "        return sum\n",
    "    return rsum(l[1:],sum + l[0])\n",
    "\n",
    "\n",
    "rsum([1,2,3,4])\n",
    "    "
   ]
  },
  {
   "cell_type": "markdown",
   "id": "80080628-06ab-4fad-9569-0ec4007c58a5",
   "metadata": {},
   "source": [
    "### <u>Exercise 9</u>"
   ]
  },
  {
   "cell_type": "markdown",
   "id": "7d7007a5-5096-4917-9443-a4cde176552a",
   "metadata": {},
   "source": [
    "- What limitations, if any, does **rsum** have ?\n",
    "- Are there any efficiency issues ? Is so, how might you mitigate them ?\n",
    "- Rewrite the rsum function in a way that does not use recursion \n"
   ]
  },
  {
   "cell_type": "markdown",
   "id": "fff03878-be69-4421-9788-0ed6d2251e00",
   "metadata": {},
   "source": [
    "## Functions and iteration"
   ]
  },
  {
   "cell_type": "markdown",
   "id": "55a0d91b-4cba-46ea-94bc-c6ac38987d34",
   "metadata": {},
   "source": [
    "Functions can be used to create iterators. For example, here is a function used to create an iterator that produces a Fibonacci sequence. Not the use of the **yield** directive."
   ]
  },
  {
   "cell_type": "code",
   "execution_count": 20,
   "id": "08a8cfbb-54d7-42ef-89e3-1d159fb4d957",
   "metadata": {},
   "outputs": [],
   "source": [
    "def ifib(a,b,n) :\n",
    "    for i in range(n) :\n",
    "        c = a + b\n",
    "        a = b\n",
    "        b = c\n",
    "        yield c\n",
    "    return"
   ]
  },
  {
   "cell_type": "code",
   "execution_count": 21,
   "id": "819e270c-ce77-4099-9f0c-bf900bb81d9f",
   "metadata": {},
   "outputs": [
    {
     "name": "stdout",
     "output_type": "stream",
     "text": [
      "2\n",
      "3\n",
      "5\n",
      "8\n",
      "13\n",
      "21\n",
      "34\n",
      "55\n",
      "89\n",
      "144\n"
     ]
    }
   ],
   "source": [
    "for i in ifib(1,1,10) :\n",
    "    print(i)\n",
    "        "
   ]
  },
  {
   "cell_type": "code",
   "execution_count": null,
   "id": "7bdb1c16-0494-4418-9f92-d37b48004977",
   "metadata": {},
   "outputs": [],
   "source": []
  },
  {
   "cell_type": "code",
   "execution_count": 22,
   "id": "f358a102-726f-4e4f-bbd0-6dfb98c17957",
   "metadata": {},
   "outputs": [
    {
     "name": "stdout",
     "output_type": "stream",
     "text": [
      "2\n",
      "3\n",
      "5\n",
      "8\n"
     ]
    }
   ],
   "source": [
    "it = ifib(1,1,10)\n",
    "print(next(it))\n",
    "print(next(it))\n",
    "print(next(it))\n",
    "print(next(it))"
   ]
  },
  {
   "cell_type": "markdown",
   "id": "01a086e2-1cb3-4438-b6da-85740fa3f721",
   "metadata": {},
   "source": [
    "Recursive functions can also be used to construct iterators using  **yield from**. "
   ]
  },
  {
   "cell_type": "markdown",
   "id": "bca93f15-58c4-42e9-a6b1-f767e78bf157",
   "metadata": {},
   "source": [
    "### <u>Exercise 10</u>"
   ]
  },
  {
   "cell_type": "markdown",
   "id": "578ab70d-34ab-484a-b080-bd6c55d93cdd",
   "metadata": {},
   "source": [
    "- Have a look at [this article](https://www.designgurus.io/answers/detail/is-there-any-way-to-mix-recursion-and-the-yield-statement) relating to the use of **yield from** in recursice functions. \n",
    "\n",
    "- Re-implement the **ifib** function using recursion."
   ]
  }
 ],
 "metadata": {
  "celltoolbar": "Edit Metadata",
  "kernelspec": {
   "display_name": "Python 3 (ipykernel)",
   "language": "python",
   "name": "python3"
  },
  "language_info": {
   "codemirror_mode": {
    "name": "ipython",
    "version": 3
   },
   "file_extension": ".py",
   "mimetype": "text/x-python",
   "name": "python",
   "nbconvert_exporter": "python",
   "pygments_lexer": "ipython3",
   "version": "3.11.4"
  }
 },
 "nbformat": 4,
 "nbformat_minor": 5
}
