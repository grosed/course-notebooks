{
 "cells": [
  {
   "cell_type": "markdown",
   "id": "b6762a72",
   "metadata": {},
   "source": [
    "# More Data Structures"
   ]
  },
  {
   "cell_type": "markdown",
   "id": "3d1a72f7",
   "metadata": {},
   "source": [
    "## Summarising the basic python data structures"
   ]
  },
  {
   "cell_type": "markdown",
   "id": "c76ab773",
   "metadata": {},
   "source": [
    "Here are some of the more commonly used python **data structures**"
   ]
  },
  {
   "cell_type": "markdown",
   "id": "3c944f00",
   "metadata": {},
   "source": [
    "### set"
   ]
  },
  {
   "cell_type": "code",
   "execution_count": 1,
   "id": "d31ca7fa",
   "metadata": {},
   "outputs": [
    {
     "name": "stdout",
     "output_type": "stream",
     "text": [
      "{1, 2, 3, 5, 7}\n"
     ]
    }
   ],
   "source": [
    "S = {1,2,7,3,2,5}\n",
    "print(S)"
   ]
  },
  {
   "cell_type": "markdown",
   "id": "d3ae065a",
   "metadata": {},
   "source": [
    "### list"
   ]
  },
  {
   "cell_type": "code",
   "execution_count": 2,
   "id": "b27ecffe",
   "metadata": {},
   "outputs": [
    {
     "name": "stdout",
     "output_type": "stream",
     "text": [
      "[1, 2, 7, 3, 2, 5]\n"
     ]
    }
   ],
   "source": [
    "L = [1,2,7,3,2,5]\n",
    "print(L)"
   ]
  },
  {
   "cell_type": "markdown",
   "id": "279129e5",
   "metadata": {},
   "source": [
    "### dictionary"
   ]
  },
  {
   "cell_type": "code",
   "execution_count": 3,
   "id": "d03829e4",
   "metadata": {},
   "outputs": [
    {
     "name": "stdout",
     "output_type": "stream",
     "text": [
      "{'first': 1, 'second': 2, 'third': 7, 'fourth': 3, 'fifth': 2, 'sixth': 5}\n"
     ]
    }
   ],
   "source": [
    "D = {\"first\" : 1,\"second\" : 2,\"third\" : 7,\"fourth\" : 3,\"fifth\" : 2,\"sixth\" : 5}\n",
    "print(D)"
   ]
  },
  {
   "cell_type": "markdown",
   "id": "9c8bef00",
   "metadata": {},
   "source": [
    "### tuple"
   ]
  },
  {
   "cell_type": "code",
   "execution_count": 4,
   "id": "8eb65582",
   "metadata": {},
   "outputs": [
    {
     "name": "stdout",
     "output_type": "stream",
     "text": [
      "(1, 2, 7, 3, 2, 5)\n"
     ]
    }
   ],
   "source": [
    "T = (1,2,7,3,2,5)\n",
    "print(T)"
   ]
  },
  {
   "cell_type": "markdown",
   "id": "a406abba",
   "metadata": {},
   "source": [
    "In what way(s) could these data structures be characterised ? Here is one possibility. It characterises the data structures according to what methods can be (meaningfully) applied to them. "
   ]
  },
  {
   "cell_type": "markdown",
   "id": "2df3ef91",
   "metadata": {},
   "source": [
    "| method | list | dictionary | set | tuple |\n",
    "|-------:|:-----|:-----------:|:----|:------|\n",
    "| sort      |      |         |    &check;   |     |\n",
    "| add      |      |            |     |       |\n",
    "| append      |      |            |     |       |\n",
    "| bisect      |      |            |     |       |\n",
    "| remove      |      |            |     |       |\n",
    "| pop      |      |            |     |       |\n",
    "\n"
   ]
  },
  {
   "cell_type": "markdown",
   "id": "efa35002",
   "metadata": {},
   "source": [
    "## Exercise 1\n",
    "\n",
    "Complete the above table. Bear in mind, the method name is meant to be descriptive. The actual method (or technique) you use in python to achieve it may not have this name. \n",
    "\n"
   ]
  },
  {
   "cell_type": "markdown",
   "id": "a8a28e59-20d0-42f5-a822-abdb5af7aa85",
   "metadata": {},
   "source": [
    "## Exercise 2\n",
    "\n",
    "Try and think of a use case for each one of the data structures listed above."
   ]
  },
  {
   "cell_type": "markdown",
   "id": "449dfd33",
   "metadata": {},
   "source": [
    "## Exercise 3\n",
    "\n",
    "Can you provide a \"_mathematical_\" description of these data structures ?"
   ]
  },
  {
   "cell_type": "markdown",
   "id": "cadd1ae7-0c89-47c0-93ae-119d39f62ff8",
   "metadata": {},
   "source": [
    "## Exercise 4"
   ]
  },
  {
   "cell_type": "markdown",
   "id": "ce94990a-b6a2-4040-8b8d-394d89f6b160",
   "metadata": {},
   "source": [
    "Here is a less commonly used data structure."
   ]
  },
  {
   "cell_type": "code",
   "execution_count": 5,
   "id": "532acc6d",
   "metadata": {
    "tags": [
     "hide-input",
     "hide-output"
    ]
   },
   "outputs": [
    {
     "name": "stdout",
     "output_type": "stream",
     "text": [
      "Collecting sortedcontainers\n",
      "  Using cached sortedcontainers-2.4.0-py2.py3-none-any.whl.metadata (10 kB)\n",
      "Using cached sortedcontainers-2.4.0-py2.py3-none-any.whl (29 kB)\n",
      "Installing collected packages: sortedcontainers\n",
      "Successfully installed sortedcontainers-2.4.0\n"
     ]
    }
   ],
   "source": [
    "!python3 -m pip install sortedcontainers"
   ]
  },
  {
   "cell_type": "code",
   "execution_count": 6,
   "id": "9c168525-10de-43f5-b9ac-5cc494bbe1f9",
   "metadata": {},
   "outputs": [
    {
     "name": "stdout",
     "output_type": "stream",
     "text": [
      "7\n",
      "2\n"
     ]
    }
   ],
   "source": [
    "from sortedcontainers import SortedList\n",
    "L = [1,2,7,3,2,5]\n",
    "print(L[2])\n",
    "SL = SortedList([1,2,7,3,2,5])\n",
    "print(SL[2])"
   ]
  },
  {
   "cell_type": "markdown",
   "id": "984e8e4e-e932-47db-914a-e172bc319f33",
   "metadata": {},
   "source": [
    "Find out what \"methods\" a **SortedList** has."
   ]
  },
  {
   "cell_type": "markdown",
   "id": "ea5eb5c8-19a6-4d7b-ad5b-55d130547868",
   "metadata": {},
   "source": [
    "What is the difference between a SortedList and a standard python list ?"
   ]
  },
  {
   "cell_type": "markdown",
   "id": "0940110b-d441-414d-af27-6e6f38189059",
   "metadata": {},
   "source": [
    "Can you think of a scenario in which a **SortedList** would be preferable to an ordinary **list** ?"
   ]
  },
  {
   "cell_type": "markdown",
   "id": "238093bb-5a4b-431e-91b8-5b467e481b0b",
   "metadata": {},
   "source": [
    "Can you think of a scenario in which an ordinary **list** is preferable to a **SortedList** ?"
   ]
  },
  {
   "cell_type": "markdown",
   "id": "c1b41eb3-6ff8-4f4b-8efc-16d5624d8ce6",
   "metadata": {},
   "source": [
    "Have a look at some of the other data structures available in the **sortedcontainers** library."
   ]
  },
  {
   "cell_type": "markdown",
   "id": "8e7baf18-14f8-4ed0-b4b4-2bd44ce02edf",
   "metadata": {},
   "source": [
    "## Point of Departure"
   ]
  },
  {
   "cell_type": "markdown",
   "id": "1b759cc8-5b33-4b79-ac5c-829983352b6a",
   "metadata": {},
   "source": [
    "How would you explain to someone with a mathematical background (but limited knowledge of computer science) what a **data stucture** is ?"
   ]
  }
 ],
 "metadata": {
  "celltoolbar": "Edit Metadata",
  "kernelspec": {
   "display_name": "Python 3 (ipykernel)",
   "language": "python",
   "name": "python3"
  },
  "language_info": {
   "codemirror_mode": {
    "name": "ipython",
    "version": 3
   },
   "file_extension": ".py",
   "mimetype": "text/x-python",
   "name": "python",
   "nbconvert_exporter": "python",
   "pygments_lexer": "ipython3",
   "version": "3.12.3"
  }
 },
 "nbformat": 4,
 "nbformat_minor": 5
}
