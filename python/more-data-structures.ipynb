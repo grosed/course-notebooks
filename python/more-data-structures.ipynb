{
 "cells": [
  {
   "cell_type": "markdown",
   "id": "b6762a72",
   "metadata": {},
   "source": [
    "# More Data Structures"
   ]
  },
  {
   "cell_type": "markdown",
   "id": "3d1a72f7",
   "metadata": {},
   "source": [
    "## Summarising the basic python data structures"
   ]
  },
  {
   "cell_type": "markdown",
   "id": "c76ab773",
   "metadata": {},
   "source": [
    "Here are the basic python data structures  again"
   ]
  },
  {
   "cell_type": "markdown",
   "id": "3c944f00",
   "metadata": {},
   "source": [
    "### set"
   ]
  },
  {
   "cell_type": "code",
   "execution_count": 30,
   "id": "d31ca7fa",
   "metadata": {},
   "outputs": [
    {
     "name": "stdout",
     "output_type": "stream",
     "text": [
      "{1, 2, 3, 5, 7}\n"
     ]
    }
   ],
   "source": [
    "S = {1,2,7,3,2,5}\n",
    "print(S)"
   ]
  },
  {
   "cell_type": "markdown",
   "id": "d3ae065a",
   "metadata": {},
   "source": [
    "### list"
   ]
  },
  {
   "cell_type": "code",
   "execution_count": 14,
   "id": "b27ecffe",
   "metadata": {},
   "outputs": [
    {
     "name": "stdout",
     "output_type": "stream",
     "text": [
      "[1, 2, 7, 3, 2, 5]\n"
     ]
    }
   ],
   "source": [
    "L = [1,2,7,3,2,5]\n",
    "print(L)"
   ]
  },
  {
   "cell_type": "markdown",
   "id": "279129e5",
   "metadata": {},
   "source": [
    "### dictionary"
   ]
  },
  {
   "cell_type": "code",
   "execution_count": 25,
   "id": "d03829e4",
   "metadata": {},
   "outputs": [
    {
     "name": "stdout",
     "output_type": "stream",
     "text": [
      "{'first': 1, 'second': 2, 'third': 7, 'fourth': 3, 'fifth': 2, 'sixth': 5}\n"
     ]
    }
   ],
   "source": [
    "D = {\"first\" : 1,\"second\" : 2,\"third\" : 7,\"fourth\" : 3,\"fifth\" : 2,\"sixth\" : 5}\n",
    "print(D)"
   ]
  },
  {
   "cell_type": "markdown",
   "id": "9c8bef00",
   "metadata": {},
   "source": [
    "### tuple"
   ]
  },
  {
   "cell_type": "code",
   "execution_count": 29,
   "id": "8eb65582",
   "metadata": {},
   "outputs": [
    {
     "name": "stdout",
     "output_type": "stream",
     "text": [
      "(1, 2, 7, 3, 2, 5)\n"
     ]
    }
   ],
   "source": [
    "T = (1,2,7,3,2,5)\n",
    "print(T)"
   ]
  },
  {
   "cell_type": "markdown",
   "id": "a406abba",
   "metadata": {},
   "source": [
    "In what way(s) could these data structures be characterised ? Here is one possibility. It characterises the data structures according to what methods can be (meaningfully) applied to them. "
   ]
  },
  {
   "cell_type": "markdown",
   "id": "2df3ef91",
   "metadata": {},
   "source": [
    "| method | list | dictionary | set | tuple |\n",
    "|-------:|:-----|:-----------:|:----|:------|\n",
    "| sort      |      |         |    &check;   |     |\n",
    "| add      |      |            |     |       |\n",
    "| append      |      |            |     |       |\n",
    "| bisect      |      |            |     |       |\n",
    "| remove      |      |            |     |       |\n",
    "| pop      |      |            |     |       |\n",
    "\n"
   ]
  },
  {
   "cell_type": "markdown",
   "id": "efa35002",
   "metadata": {},
   "source": [
    "### Exercise 1\n",
    "\n",
    "Complete the above table. Bear in mind, the method name is meant to be descriptive. The actual method (or technique) you use in python to acheive it may not have this name. \n",
    "\n"
   ]
  },
  {
   "cell_type": "markdown",
   "id": "449dfd33",
   "metadata": {},
   "source": [
    "## Challenge 1\n",
    "\n",
    "Replace each tick in the table from exercise 1 with the complexity of the method. "
   ]
  },
  {
   "cell_type": "markdown",
   "id": "defe51a6",
   "metadata": {},
   "source": [
    "## Sorted data structures"
   ]
  },
  {
   "cell_type": "markdown",
   "id": "4156e151",
   "metadata": {},
   "source": [
    "Sometimes you may encounter an algorithm which requires a data structure that does not fit the characterisation\n",
    "provided by table 1. For example, which data structure(s) did you use for exercises 2, 3, and 4 in the \n",
    "Moving Windows chapter ? Are you happy with the worst case complexity you acheived for each of your solutions ?\n",
    "If so, which ones are you not happy with ? \n",
    "\n",
    "Fortunately, there are more data structures available, but they are not part of most standard python distributions. Quite often, these data structures seem quite familiar and just seem to have some extra methods available. So why are they not in standard python ? \n",
    "\n",
    "The answer comes back to the table you compiled in challenge 1. The inclusion of additional methods comes with a cost. Part of the cost is that the complexity of some of the methods changes, and for the worse. You have to have a good reason to use them - they are not \"off the shelf\" solutions for most problems. They provide well considered trade offs in terms of complexity which make them suitable for certain, perhaps more specialist, types of problems.\n",
    "\n",
    "The types of data structures which extend the standard ones are often refered to as augmented data structures. One\n",
    "useful family of augmented data structures are called \"sorted\" containers. They organise the data using an order operator $<$ to provide a trade off between the time required to add or remove data, and the time required\n",
    "to find data. This is acheived by efficiently keeping the data sorted each time data is added or removed."
   ]
  },
  {
   "cell_type": "markdown",
   "id": "d6943677",
   "metadata": {},
   "source": [
    "### Exercise 2\n",
    "\n",
    "Install the sorted containers library from PyPI using pip."
   ]
  },
  {
   "cell_type": "markdown",
   "id": "529abc2e",
   "metadata": {},
   "source": [
    "### Solution 2"
   ]
  },
  {
   "cell_type": "code",
   "execution_count": 61,
   "id": "532acc6d",
   "metadata": {
    "tags": [
     "hide-input",
     "hide-output"
    ]
   },
   "outputs": [
    {
     "name": "stdout",
     "output_type": "stream",
     "text": [
      "Requirement already satisfied: sortedcontainers in /home/grosedj/python-envs/further-python-env/env/lib/python3.9/site-packages (2.3.0)\n",
      "\u001b[33mWARNING: You are using pip version 20.2.3; however, version 21.0.1 is available.\n",
      "You should consider upgrading via the '/home/grosedj/python-envs/further-python-env/env/bin/python3 -m pip install --upgrade pip' command.\u001b[0m\n"
     ]
    }
   ],
   "source": [
    "!python3 -m pip install sortedcontainers"
   ]
  },
  {
   "cell_type": "markdown",
   "id": "fcf433ef",
   "metadata": {},
   "source": [
    "### Example 1 \n",
    "\n",
    "The following example takes a quick look at the SortedList data structure."
   ]
  },
  {
   "cell_type": "code",
   "execution_count": 93,
   "id": "90e928f0",
   "metadata": {},
   "outputs": [
    {
     "name": "stdout",
     "output_type": "stream",
     "text": [
      "7\n",
      "2\n"
     ]
    }
   ],
   "source": [
    "from sortedcontainers import SortedList\n",
    "L = [1,2,7,3,2,5]\n",
    "print(L[2])\n",
    "SL = SortedList([1,2,7,3,2,5])\n",
    "print(SL[2])"
   ]
  },
  {
   "cell_type": "markdown",
   "id": "f9c3a935",
   "metadata": {},
   "source": [
    "### Exercise 3\n",
    "\n",
    "Find out how to add data to sorted list ?"
   ]
  },
  {
   "cell_type": "markdown",
   "id": "17e487fe",
   "metadata": {},
   "source": [
    "### Solution 3"
   ]
  },
  {
   "cell_type": "code",
   "execution_count": 94,
   "id": "49e2e704",
   "metadata": {
    "tags": [
     "hide-input",
     "hide-output"
    ]
   },
   "outputs": [
    {
     "name": "stdout",
     "output_type": "stream",
     "text": [
      "SortedList([1, 2, 2, 3, 4, 5, 7])\n"
     ]
    }
   ],
   "source": [
    "SL.add(4)\n",
    "print(SL)"
   ]
  },
  {
   "cell_type": "markdown",
   "id": "39d6b54a",
   "metadata": {},
   "source": [
    "### Exercise 4"
   ]
  },
  {
   "cell_type": "code",
   "execution_count": 89,
   "id": "7cf1bf1c",
   "metadata": {
    "tags": [
     "hide-input"
    ]
   },
   "outputs": [
    {
     "data": {
      "text/html": [
       "Use the following <a href=\"http://www.grantjenks.com/docs/sortedcontainers/index.html\">link</a> to find out what methods\n",
       "the SortedList data structure supports.\n"
      ],
      "text/plain": [
       "<IPython.core.display.HTML object>"
      ]
     },
     "metadata": {},
     "output_type": "display_data"
    }
   ],
   "source": [
    "%%html\n",
    "Use the following <a href=\"http://www.grantjenks.com/docs/sortedcontainers/index.html\">link</a> to find out what methods\n",
    "the SortedList data supports and add the SortedList data structure to your table from exercise 1."
   ]
  },
  {
   "cell_type": "markdown",
   "id": "80ebd6c5",
   "metadata": {},
   "source": [
    "### Exercise 5\n",
    "Can you use a SortedList to reduce the complexity of your solution to exercise 3 in the \"Moving Windows\" chapter ?"
   ]
  },
  {
   "cell_type": "markdown",
   "id": "8627e23b",
   "metadata": {},
   "source": [
    "## Assessment\n",
    "\n",
    "This question requires that you have access to the **sortedcontainers** library available from PyPI.\n",
    "\n",
    "a) Enter the worst case complexity for each method in Table 1. Leave the cell blank\n",
    "if the method is not supported by the data structure.\n",
    "\n",
    "\n",
    "Table 1 \n",
    "\n",
    "| method | list | dictionary | set | tuple | sorted list | sorted dictionary | sorted set |\n",
    "|-------:|:-----|:-----------:|:----|:------| :------| :------| :------|\n",
    "| sort      |      |         | |     | | | |\n",
    "| add      |      |            |     |       | | | |\n",
    "| append      |      |            |     |       | | | |\n",
    "| bisect      |      |            |     |       | | | |\n",
    "| remove      |      |            |     |       | | | |\n",
    "| pop      |      |            |     |       | | | |\n",
    "\n",
    "b) For each data structure in Table 1 provide a _**short**_ description of a simple use case that exploits a feature of\n",
    "that particular data structure. In each case, justify the choice of the data structure in relation to the use case. \n",
    "\n",
    "c) Can you change the way **SortedList** keeps its data sorted ? If so, give a short example of how this can be \n",
    "acheived."
   ]
  },
  {
   "cell_type": "markdown",
   "id": "5954c5b0",
   "metadata": {},
   "source": [
    "## Assessment\n",
    "\n",
    "a) Where possible, use the SortedList container to improve the worst case run time complexity for your solutions\n",
    "to part a) of the Assessment section in the \"Moving Windows\" chapter. When it is not possible, explain why you think this is the case. [20]\n",
    "\n",
    "b) For each of your solutions in part a), use suitable data in conjunction with **matplotlib** to demonstrate how the complexity of your solution compares to the one you obtained in part Aa of the Assessment section of the \"Moving Windows\" chapter. [15]\n"
   ]
  }
 ],
 "metadata": {
  "celltoolbar": "Edit Metadata",
  "kernelspec": {
   "display_name": "Python 3 (ipykernel)",
   "language": "python",
   "name": "python3"
  },
  "language_info": {
   "codemirror_mode": {
    "name": "ipython",
    "version": 3
   },
   "file_extension": ".py",
   "mimetype": "text/x-python",
   "name": "python",
   "nbconvert_exporter": "python",
   "pygments_lexer": "ipython3",
   "version": "3.9.9"
  }
 },
 "nbformat": 4,
 "nbformat_minor": 5
}
