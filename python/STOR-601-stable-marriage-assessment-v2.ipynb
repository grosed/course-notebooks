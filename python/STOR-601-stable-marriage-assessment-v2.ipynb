{
 "cells": [
  {
   "cell_type": "markdown",
   "id": "70e1f10f-ffb4-4e95-8f49-ab88c260a881",
   "metadata": {},
   "source": [
    "# STOR-601 Introductory Python - Assessment"
   ]
  },
  {
   "cell_type": "markdown",
   "id": "bdf6abf8-c176-4b69-ac20-f2e27a73c954",
   "metadata": {},
   "source": [
    "## Overview"
   ]
  },
  {
   "cell_type": "markdown",
   "id": "69d011d6-08e6-4fc7-96e4-fa0ef1636e1d",
   "metadata": {},
   "source": [
    "This is the assessment for the STOR-601 Introductory Python Module.\n",
    "\n",
    "The submission date for this assessment is 05/02/2024. Your submission should be in the form of a jupyter notebook made available for download via your github account. Please send details of your github repository to [daniel grose](mailto:dan.grose@lancaster.ac.uk) by 09:00 on the submission date. Alternatively, send me an invite via github - my github name is __grosed__. \n",
    "\n",
    "The assessment is marked out of 100 and the scores assigned to each task are indicated in the task descriptions. \n",
    "\n",
    "A number of discretionary marks (10) have been reserved for rewarding the quality of your work. You can gain these marks by, for example, providing additional markup in your notebook to support your solutions to the tasks, using appropriate charts and tables to summarise your data, providing links to external references, providing simple tests for your functions, and so on. You may also choose to use additional material in support of your notebook, for example, files containing python source code. If this is the case, these materials must also be available from your github repository. Some of the discretionary marks might also be awarded for examples of particularly \"pythonesque\" code. To get an idea of what this means try executing \n",
    "\n",
    "```python\n",
    "import this\n",
    "```\n",
    "in a code cell.\n",
    "\n",
    "Please feel free to you use and extend any of the examples from the course notes and use resources available online where appropriate. However, it is important that your solution to Task 7 is your own work and reflects your own judgements as how to best implement the \"fundamental algorithm\" in python.  \n",
    "\n",
    "Before your results and feedback are returned you might be asked to have a short (approximately 5 minutes) individual online \"interview\" to discuss some aspects of your work. The outcome of this interview might impact on your overall individual score.\n"
   ]
  },
  {
   "cell_type": "markdown",
   "id": "ca767c5a-fc6f-463e-9589-8c0839d85fb5",
   "metadata": {},
   "source": [
    "## <u>Task 1</u>\n",
    "\n",
    "Read Lecture 1 of [Stable Marriage and Its Relation to Other Combinatorial Problems](https://ebookcentral.proquest.com/lib/lancaster/detail.action?docID=4908424) up to and including the fifth paragraph on page 4.\n",
    "\n",
    "For n men and n women, provide an upperbound for the maximum number of stable matchings ?\n",
    "\n",
    "__Marks__ [2]\n",
    "\n"
   ]
  },
  {
   "cell_type": "markdown",
   "id": "2d1dedbd-84e9-4a01-8608-31e9d3747c98",
   "metadata": {},
   "source": [
    "## <u>Task 2</u>\n",
    "\n",
    "Given the definitions on page 1 of [Stable Marriage and Its Relation to Other Combinatorial Problems](https://ebookcentral.proquest.com/lib/lancaster/detail.action?docID=4908424) consider the computatinal problem -\n",
    "\n",
    "__IS_STABLE__ - Given a pair of preference tables and a matching determine if the matching is stable.\n",
    "\n",
    "### Part a) \n",
    "Write a python program that solves the computational problem __IS_STABLE__.\n",
    "\n",
    "### Part b) \n",
    "Describe any data structures that you chose to use in __part b)__ and justify your choice.\n",
    "\n",
    "### Part c) \n",
    "Given n women (men) what is the computational complexity of your solution to __part b)__ ?\n",
    "\n",
    "**Note** - If you are unsure about how to determine the computational complexity of an algorithm/program using asymptotic analysis read [Cormen et al](https://ebookcentral.proquest.com/lib/lancaster/detail.action?docID=6925615&pq-origsite=primo) sections 3.1 and 3.2.   \n",
    "\n",
    "__Marks__ [10]"
   ]
  },
  {
   "cell_type": "markdown",
   "id": "8b740aae-07a3-40d8-ad90-9f7722e96bb6",
   "metadata": {},
   "source": [
    "## <u>Task 3</u>\n",
    "\n",
    "Given the definitions on page 1 of [Stable Marriage and Its Relation to Other Combinatorial Problems](https://ebookcentral.proquest.com/lib/lancaster/detail.action?docID=4908424) consider the computational problem -\n",
    "\n",
    "__STABLE_MATCHINGS__ - Given a pair of preference tables find all stable matchings\n",
    "\n",
    "### Part a) \n",
    "Write a python program that solves the computational problem __STABLE__MATCHINGS__.\n",
    "\n",
    "### Part b) \n",
    "Describe any data structures that you chose to use in __part b)__ and justify your choice.\n",
    "\n",
    "### Part c) \n",
    "Given n women (men) what is the computational complexity of your solution to __part b)__ ?\n",
    "\n",
    "__Marks__ [15]\n"
   ]
  },
  {
   "cell_type": "markdown",
   "id": "af116ce7",
   "metadata": {},
   "source": [
    "## <u>Task 4</u>\n",
    "\n",
    "Write a python function which takes two lists of distinct and mutually disjoint symbols (of the same length) and which  produces a pair of random preference tables as output. \n",
    "\n",
    "You may find the following code example useful.\n",
    "\n",
    "```python\n",
    "import random\n",
    "random.sample(range(1,10),6)\n",
    "```\n",
    "\n",
    "__Marks__ [5]"
   ]
  },
  {
   "cell_type": "markdown",
   "id": "7e858b04-556e-4c3e-843f-6feeadac061e",
   "metadata": {},
   "source": [
    "## <u>Task 5</u>\n",
    "\n",
    "Provide some supporting material that might improve the **Replicability** your solutions to **Task 2** and **Task 3**. You might want to look at this short [presentation](https://prezi.com/view/nf1JVpHcx5MldSibqCFs/) , particular the section on the 5Rs.\n",
    "\n",
    "__Marks__ [10]"
   ]
  },
  {
   "cell_type": "markdown",
   "id": "df70a8c4-5350-4dec-9071-30e505bdefdd",
   "metadata": {},
   "source": [
    "## <u>Task 6</u>\n",
    "\n",
    "Use your solutions to __Task 4__ to determine how the execution time of your implementations of  __IS_STABLE__ and __STABLE_MATCHINGS__ varies with the size of the preference table. Is this relationship consistent with your expectations ? Justify your reasoning with reference to your implementation of the algorithm and your experimental observations.  \n",
    "\n",
    "You may find the following code example useful.\n",
    "\n",
    "``` python\n",
    "import time\n",
    "start = time.perf_counter()\n",
    "for i in range(1000000) :\n",
    "    x = 2\n",
    "end = time.perf_counter()   \n",
    "print(end-start)\n",
    "```\n",
    "\n",
    "__Marks__ [5]"
   ]
  },
  {
   "cell_type": "markdown",
   "id": "46714157-f059-4ead-8754-a823bef6c8f5",
   "metadata": {},
   "source": [
    "## <u>Task 7</u>\n",
    "\n",
    "Read lecture 2 of [Stable Marriage and Its Relation to Other Combinatorial Problems](https://ebookcentral.proquest.com/lib/lancaster/detail.action?docID=4908424) up to and including the fourth paragraph on page 12.\n",
    "\n",
    "### Part a)\n",
    "\n",
    "Explain how you could include the \"very undesirable\" imaginary  man introduced on page 9 into your representation of the preference tables.\n",
    "\n",
    "### Part b)\n",
    "\n",
    "Implement the fundamental algorithm described on page 9 as a Python function. Your function should take a (compatible) pair of preference tables as input and produce a (stable) matching as an output. \n",
    "\n",
    "### Part c) \n",
    "\n",
    "Analyse your implementation of the fundamental algorithm with respect to computational complexity making reference to how you employ your chosen python data structures.\n",
    "\n",
    "\n",
    "__Marks__ [23]"
   ]
  },
  {
   "cell_type": "markdown",
   "id": "a4047eeb-ba7a-409b-906b-1b60f3178577",
   "metadata": {},
   "source": [
    "## <u>Task 8</u>\n",
    "\n",
    "Some colleagues wish to use your python code to study a problem that involves solving the Stable Marriage Problem. They represent their preference tables using pandas data frames. Here is how they represent the male preference table from page 1 of [Stable Marriage and Its Relation to Other Combinatorial Problems](https://ebookcentral.proquest.com/lib/lancaster/detail.action?docID=4908424) \n",
    "\n",
    "```python\n",
    "import pandas as pd\n",
    "\n",
    "H_preference_table = pd.DataFrame({\"Anatole\" : [\"cunegonde\",\"brigitte\",\"donatienne\",\"antoinette\"],\n",
    "                                   \"Barnabe\" : [\"brigitte\",\"antoinette\",\"cunegonde\",\"donatienne\"],\n",
    "                                   \"Camille\" : [\"brigitte\",\"donatienne\",\"antoinette\",\"cunegonde\"],\n",
    "                                   \"Dominique\" : [\"cunegonde\",\"antoinette\",\"donatienne\",\"brigitte\"]                              \n",
    "                                })\n",
    "```\n",
    "\n",
    "They also represent matchings using pandas data frames. Here is the way the represent the stable solution given on page 2 of  [Stable Marriage and Its Relation to Other Combinatorial Problems](https://ebookcentral.proquest.com/lib/lancaster/detail.action?docID=4908424)\n",
    "\n",
    "```python\n",
    "matching = pd.DataFrame({\"Men\" : [\"Anatole\",\"Barnabe\",\"Camille\",\"Dominique\"],\n",
    "                         \"Women\" : [\"donatienne\",\"antoinette\",\"brigitte\",\"cunegonde\"]                          \n",
    "                                })\n",
    "```\n",
    "\n",
    "\n",
    "Implement a function which accepts a pair of compatible preference tables and returns a matching using pandas data frames such as those shown above. \n",
    "\n",
    "__Marks__ [10]"
   ]
  },
  {
   "cell_type": "markdown",
   "id": "8affc412-1662-4d35-b13f-4c543e2dba8b",
   "metadata": {},
   "source": [
    "## <u>Task 9</u>\n",
    "\n",
    "Describe how you might use your solution to **Task 4** to create some tests for your python code. Provide some further functions that could be used for testing your code and indicate how they should be used. Which of the 5Rs are improved by adding these tests ?\n",
    "\n",
    "\n",
    "__Marks__ [10]"
   ]
  },
  {
   "cell_type": "markdown",
   "id": "5c388349-ab21-4f6e-b8db-80787d6e7e79",
   "metadata": {},
   "source": [
    "## <u>Task 10</u>\n",
    "\n",
    "Discretionary marks awarded for the overall quality of your code, solutions, reporting and insights, along with any techniques, methods and materials which support the concept of the [5 Rs](https://prezi.com/view/SiZvi92iA2deKRYljZ7u/) and particularly \"pythonesque\" code.   \n",
    "\n",
    "__Marks__ [10]"
   ]
  }
 ],
 "metadata": {
  "kernelspec": {
   "display_name": "Python 3 (ipykernel)",
   "language": "python",
   "name": "python3"
  },
  "language_info": {
   "codemirror_mode": {
    "name": "ipython",
    "version": 3
   },
   "file_extension": ".py",
   "mimetype": "text/x-python",
   "name": "python",
   "nbconvert_exporter": "python",
   "pygments_lexer": "ipython3",
   "version": "3.9.9"
  }
 },
 "nbformat": 4,
 "nbformat_minor": 5
}
