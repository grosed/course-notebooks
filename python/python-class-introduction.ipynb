{
 "cells": [
  {
   "cell_type": "markdown",
   "id": "874a49f6",
   "metadata": {},
   "source": [
    "# Python Classes - a brief introduction"
   ]
  },
  {
   "cell_type": "markdown",
   "id": "5e7dd937",
   "metadata": {},
   "source": [
    "Python provides some common, versatile, general purpose data structures. Additional data structures can be found in various Python packages, such as Pandas, numpy, and collections.\n",
    "\n",
    "New data structures can be built from these general purpose data structures by combining them in different ways and adding new methods. One way to do this would be to create a dictionary whose keys are used to access the different parts and methods of the new data structure. "
   ]
  },
  {
   "cell_type": "markdown",
   "id": "a1077997",
   "metadata": {},
   "source": [
    "## New data structures from old"
   ]
  },
  {
   "cell_type": "markdown",
   "id": "395bfb39",
   "metadata": {},
   "source": [
    "### Example -1 A point data structure - take 1"
   ]
  },
  {
   "cell_type": "code",
   "execution_count": 15,
   "id": "5f34eb56",
   "metadata": {},
   "outputs": [],
   "source": [
    "def point_add(a,b) :\n",
    "    return {\"x\" : a[\"x\"] + b[\"x\"],\"y\" : a[\"y\"] + b[\"y\"]}\n",
    "    "
   ]
  },
  {
   "cell_type": "code",
   "execution_count": 16,
   "id": "6c167f8b",
   "metadata": {},
   "outputs": [
    {
     "name": "stdout",
     "output_type": "stream",
     "text": [
      "2.14  :  3.71\n"
     ]
    }
   ],
   "source": [
    "a = {\"x\" : 3.14,\"y\" : 2.71}\n",
    "b = {\"x\" : -1, \"y\" : 1}\n",
    "c = point_add(a,b)\n",
    "print(c[\"x\"], \" : \",c[\"y\"])"
   ]
  },
  {
   "cell_type": "code",
   "execution_count": 26,
   "id": "9c71d879",
   "metadata": {},
   "outputs": [
    {
     "data": {
      "text/plain": [
       "dict"
      ]
     },
     "execution_count": 26,
     "metadata": {},
     "output_type": "execute_result"
    }
   ],
   "source": [
    "type(c)"
   ]
  },
  {
   "cell_type": "markdown",
   "id": "e29b4b56",
   "metadata": {},
   "source": [
    "However, Python provides a specific means of combining other Python objects together."
   ]
  },
  {
   "cell_type": "markdown",
   "id": "a3efa8b4",
   "metadata": {},
   "source": [
    "### Example - 2 A point data structure - take 2"
   ]
  },
  {
   "cell_type": "code",
   "execution_count": 30,
   "id": "e3b1994d",
   "metadata": {},
   "outputs": [],
   "source": [
    "class point :\n",
    "    x = None\n",
    "    y = None"
   ]
  },
  {
   "cell_type": "code",
   "execution_count": 2,
   "id": "51dd99d1",
   "metadata": {},
   "outputs": [],
   "source": [
    "p_1 = point()"
   ]
  },
  {
   "cell_type": "code",
   "execution_count": 3,
   "id": "5c772b94",
   "metadata": {},
   "outputs": [
    {
     "data": {
      "text/plain": [
       "__main__.point"
      ]
     },
     "execution_count": 3,
     "metadata": {},
     "output_type": "execute_result"
    }
   ],
   "source": [
    "type(p_1)"
   ]
  },
  {
   "cell_type": "code",
   "execution_count": 17,
   "id": "ca0df020",
   "metadata": {},
   "outputs": [],
   "source": [
    "p_1.x"
   ]
  },
  {
   "cell_type": "code",
   "execution_count": 18,
   "id": "a9f36b1f",
   "metadata": {},
   "outputs": [],
   "source": [
    "p_1.y"
   ]
  },
  {
   "cell_type": "code",
   "execution_count": 20,
   "id": "a3b0ad85",
   "metadata": {},
   "outputs": [],
   "source": [
    "p_1.x = 3"
   ]
  },
  {
   "cell_type": "code",
   "execution_count": 21,
   "id": "32b6519e",
   "metadata": {},
   "outputs": [],
   "source": [
    "p_1.y = 4"
   ]
  },
  {
   "cell_type": "code",
   "execution_count": 22,
   "id": "3508dc06",
   "metadata": {},
   "outputs": [
    {
     "data": {
      "text/plain": [
       "3"
      ]
     },
     "execution_count": 22,
     "metadata": {},
     "output_type": "execute_result"
    }
   ],
   "source": [
    "p_1.x"
   ]
  },
  {
   "cell_type": "code",
   "execution_count": 23,
   "id": "9baae432",
   "metadata": {},
   "outputs": [
    {
     "data": {
      "text/plain": [
       "4"
      ]
     },
     "execution_count": 23,
     "metadata": {},
     "output_type": "execute_result"
    }
   ],
   "source": [
    "p_2.y"
   ]
  },
  {
   "cell_type": "markdown",
   "id": "3f68bfbb",
   "metadata": {},
   "source": [
    "### Exercise - 1\n",
    "\n",
    "Discuss the differences between Examples 1 and 2"
   ]
  },
  {
   "cell_type": "markdown",
   "id": "9c2ab09b",
   "metadata": {},
   "source": [
    "A Python __class__ can also contain functions. Of course it can  - functions are data !!"
   ]
  },
  {
   "cell_type": "markdown",
   "id": "480d08b0",
   "metadata": {},
   "source": [
    "## Member functions"
   ]
  },
  {
   "cell_type": "markdown",
   "id": "3c3186dc",
   "metadata": {},
   "source": [
    "### Example 3 "
   ]
  },
  {
   "cell_type": "code",
   "execution_count": 49,
   "id": "8cc8abc2",
   "metadata": {},
   "outputs": [],
   "source": [
    "class point :\n",
    "    x = None\n",
    "    y = None\n",
    "    def add(a,b) :\n",
    "        c = point()\n",
    "        c.x = a.x + b.x\n",
    "        c.y = a.y = b.y\n",
    "        return c"
   ]
  },
  {
   "cell_type": "code",
   "execution_count": 50,
   "id": "6fb8476f",
   "metadata": {},
   "outputs": [
    {
     "data": {
      "text/plain": [
       "4"
      ]
     },
     "execution_count": 50,
     "metadata": {},
     "output_type": "execute_result"
    }
   ],
   "source": [
    "p_1 = point()\n",
    "p_1.x = 1\n",
    "p_1.y = 2\n",
    "p_2 = point()\n",
    "p_2.x = 3\n",
    "p_2.y = 4\n",
    "p_3 = point.add(p_1,p_2) \n",
    "p_3.x"
   ]
  },
  {
   "cell_type": "code",
   "execution_count": 25,
   "id": "4c1b57f0",
   "metadata": {},
   "outputs": [
    {
     "data": {
      "text/plain": [
       "3"
      ]
     },
     "execution_count": 25,
     "metadata": {},
     "output_type": "execute_result"
    }
   ],
   "source": [
    "p_2.x"
   ]
  },
  {
   "cell_type": "markdown",
   "id": "4cac79ff",
   "metadata": {},
   "source": [
    "A Python __class__ also has some special functions which you can overide. These start and and with a doulbe underscore."
   ]
  },
  {
   "cell_type": "markdown",
   "id": "48386407",
   "metadata": {},
   "source": [
    "### Example 4 - A constructor"
   ]
  },
  {
   "cell_type": "code",
   "execution_count": 48,
   "id": "f626e8c0",
   "metadata": {},
   "outputs": [],
   "source": [
    "class point :\n",
    "    x = None\n",
    "    y = None\n",
    "    def add(a,b) :\n",
    "        c = point()\n",
    "        c.x = a.x + b.x\n",
    "        c.y = a.y = b.y\n",
    "        return c\n",
    "    def __init__(self,x = 0.0,y = 0.0) :\n",
    "        self.x = x\n",
    "        self.y = y\n"
   ]
  },
  {
   "cell_type": "code",
   "execution_count": 39,
   "id": "39c25140",
   "metadata": {},
   "outputs": [],
   "source": [
    "p_4 = point(5,6)"
   ]
  },
  {
   "cell_type": "code",
   "execution_count": 40,
   "id": "5496599d",
   "metadata": {},
   "outputs": [
    {
     "data": {
      "text/plain": [
       "5"
      ]
     },
     "execution_count": 40,
     "metadata": {},
     "output_type": "execute_result"
    }
   ],
   "source": [
    "p_4.x"
   ]
  },
  {
   "cell_type": "markdown",
   "id": "4961504a",
   "metadata": {},
   "source": [
    "### Example 5 - Print"
   ]
  },
  {
   "cell_type": "code",
   "execution_count": 53,
   "id": "00c74c07",
   "metadata": {},
   "outputs": [],
   "source": [
    "class point :\n",
    "    x = None\n",
    "    y = None\n",
    "    def add(a,b) :\n",
    "        c = point()\n",
    "        c.x = a.x + b.x\n",
    "        c.y = a.y = b.y\n",
    "        return c\n",
    "    def __init__(self,x = 0.0,y = 0.0) :\n",
    "        self.x = x\n",
    "        self.y = y\n",
    "    def print(a) :\n",
    "        print(\"(\",a.x,\",\",a.y,\")\")"
   ]
  },
  {
   "cell_type": "code",
   "execution_count": 45,
   "id": "c780d6d3",
   "metadata": {},
   "outputs": [
    {
     "name": "stdout",
     "output_type": "stream",
     "text": [
      "( 1 , 2 )\n"
     ]
    }
   ],
   "source": [
    "p_5 = point(1,2)\n",
    "point.print(p_5)"
   ]
  },
  {
   "cell_type": "markdown",
   "id": "f7a6eb5a",
   "metadata": {},
   "source": [
    "### Exercise 2\n",
    "\n",
    "What happens if you use point.print to print something other than a point ?"
   ]
  },
  {
   "cell_type": "code",
   "execution_count": 46,
   "id": "c97335c5",
   "metadata": {},
   "outputs": [
    {
     "ename": "AttributeError",
     "evalue": "'str' object has no attribute 'x'",
     "output_type": "error",
     "traceback": [
      "\u001b[0;31m---------------------------------------------------------------------------\u001b[0m",
      "\u001b[0;31mAttributeError\u001b[0m                            Traceback (most recent call last)",
      "Cell \u001b[0;32mIn [46], line 1\u001b[0m\n\u001b[0;32m----> 1\u001b[0m \u001b[43mpoint\u001b[49m\u001b[38;5;241;43m.\u001b[39;49m\u001b[43mprint\u001b[49m\u001b[43m(\u001b[49m\u001b[38;5;124;43m\"\u001b[39;49m\u001b[38;5;124;43mhello\u001b[39;49m\u001b[38;5;124;43m\"\u001b[39;49m\u001b[43m)\u001b[49m\n",
      "Cell \u001b[0;32mIn [44], line 13\u001b[0m, in \u001b[0;36mpoint.print\u001b[0;34m(a)\u001b[0m\n\u001b[1;32m     12\u001b[0m \u001b[38;5;28;01mdef\u001b[39;00m \u001b[38;5;21mprint\u001b[39m(a) :\n\u001b[0;32m---> 13\u001b[0m     \u001b[38;5;28mprint\u001b[39m(\u001b[38;5;124m\"\u001b[39m\u001b[38;5;124m(\u001b[39m\u001b[38;5;124m\"\u001b[39m,\u001b[43ma\u001b[49m\u001b[38;5;241;43m.\u001b[39;49m\u001b[43mx\u001b[49m,\u001b[38;5;124m\"\u001b[39m\u001b[38;5;124m,\u001b[39m\u001b[38;5;124m\"\u001b[39m,a\u001b[38;5;241m.\u001b[39my,\u001b[38;5;124m\"\u001b[39m\u001b[38;5;124m)\u001b[39m\u001b[38;5;124m\"\u001b[39m)\n",
      "\u001b[0;31mAttributeError\u001b[0m: 'str' object has no attribute 'x'"
     ]
    }
   ],
   "source": [
    "point.print(\"hello\")"
   ]
  },
  {
   "cell_type": "markdown",
   "id": "21ebdef9",
   "metadata": {},
   "source": [
    "### Example 6 - Print (take 2)"
   ]
  },
  {
   "cell_type": "code",
   "execution_count": 58,
   "id": "f2a45fb2",
   "metadata": {},
   "outputs": [],
   "source": [
    "class point :\n",
    "    x = None\n",
    "    y = None\n",
    "    def add(a,b) :\n",
    "        c = point()\n",
    "        c.x = a.x + b.x\n",
    "        c.y = a.y = b.y\n",
    "        return  c\n",
    "    def __init__(self,x = 0.0,y = 0.0) :\n",
    "        self.x = x\n",
    "        self.y = y\n",
    "        \n",
    "    def print(self) :\n",
    "        print(\"(\",self.x,\",\",self.y,\")\")"
   ]
  },
  {
   "cell_type": "code",
   "execution_count": 54,
   "id": "53d12d66",
   "metadata": {},
   "outputs": [
    {
     "name": "stdout",
     "output_type": "stream",
     "text": [
      "( 7 , -5 )\n"
     ]
    }
   ],
   "source": [
    "p_6 = point(7,-5)\n",
    "p_6.print()"
   ]
  },
  {
   "cell_type": "markdown",
   "id": "d71bebfb",
   "metadata": {},
   "source": [
    "### Exercise 3\n",
    "\n",
    "What is __self__ ?"
   ]
  },
  {
   "cell_type": "markdown",
   "id": "27de5716",
   "metadata": {},
   "source": [
    "###  Exercise 4\n",
    "\n",
    "Compare and contrast the two versions of __print__ in Examples 5 and 6"
   ]
  },
  {
   "cell_type": "markdown",
   "id": "45b3255d",
   "metadata": {},
   "source": [
    "### Exerise 5 \n",
    "\n",
    "Implement a function to determine the Euclidean distance between two points."
   ]
  },
  {
   "cell_type": "markdown",
   "id": "e66647ec",
   "metadata": {},
   "source": [
    "### Exerise 6\n",
    "\n",
    "Implement a member function to determine the Euclidean distance between two points."
   ]
  },
  {
   "cell_type": "markdown",
   "id": "f2e7270a",
   "metadata": {},
   "source": [
    "### Exercise 7\n",
    "\n",
    "Implement a class to represent a straight line (in the plane)."
   ]
  },
  {
   "cell_type": "markdown",
   "id": "83952100",
   "metadata": {},
   "source": [
    "### Exercise 8\n",
    "\n",
    "Other than any member functions, what are the differences between the __point__ type and your __line__ type ?"
   ]
  },
  {
   "cell_type": "markdown",
   "id": "06f85027",
   "metadata": {},
   "source": [
    "### Exercise 9\n",
    "\n",
    "Other than any member functions, what things are common to the __point__ type and your __line__ type ?"
   ]
  },
  {
   "cell_type": "markdown",
   "id": "8b395111",
   "metadata": {},
   "source": [
    "### Exercise 10 \n",
    "\n",
    "Implement a __class__ to represent a line segment (in the plane)."
   ]
  },
  {
   "cell_type": "markdown",
   "id": "d9581b38",
   "metadata": {},
   "source": [
    "### Exercise 11\n",
    "\n",
    "Write a function, or a member function, (or both), which determines the angle between two line segments.\n",
    "\n"
   ]
  }
 ],
 "metadata": {
  "kernelspec": {
   "display_name": "Python 3 (ipykernel)",
   "language": "python",
   "name": "python3"
  },
  "language_info": {
   "codemirror_mode": {
    "name": "ipython",
    "version": 3
   },
   "file_extension": ".py",
   "mimetype": "text/x-python",
   "name": "python",
   "nbconvert_exporter": "python",
   "pygments_lexer": "ipython3",
   "version": "3.9.9"
  }
 },
 "nbformat": 4,
 "nbformat_minor": 5
}
