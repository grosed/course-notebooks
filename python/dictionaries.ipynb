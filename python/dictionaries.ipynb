{
 "cells": [
  {
   "cell_type": "markdown",
   "id": "d96f4244",
   "metadata": {},
   "source": [
    "# Dictionaries"
   ]
  },
  {
   "cell_type": "markdown",
   "id": "f951f11f",
   "metadata": {},
   "source": [
    "A **dictionary** is like a list, but more general.  In a list,\n",
    "the indices have to be integers; in a dictionary they can\n",
    "be (almost) any type.\n",
    "\n",
    "You can think of a dictionary as a mapping between a set of indices\n",
    "(which are called **keys**) and a set of __values__.  Each key maps to a\n",
    "__value__.  The association of a key and a value is called a **key-value pair** or sometimes an __item__.\n",
    "\n",
    "As an example, we'll build a dictionary that maps from English\n",
    "to Spanish words, so the keys and the values are all strings.\n",
    "\n",
    "A empty dictionary can be created using the **dict** function\n"
   ]
  },
  {
   "cell_type": "code",
   "execution_count": 1,
   "id": "f2e1ca55",
   "metadata": {},
   "outputs": [],
   "source": [
    "D = dict()"
   ]
  },
  {
   "cell_type": "markdown",
   "id": "1707a043",
   "metadata": {},
   "source": [
    "or just by using {}"
   ]
  },
  {
   "cell_type": "code",
   "execution_count": 2,
   "id": "337331e1",
   "metadata": {},
   "outputs": [],
   "source": [
    "D = {}"
   ]
  },
  {
   "cell_type": "markdown",
   "id": "0d771a5b",
   "metadata": {},
   "source": [
    "key value pairs can be added to dictionary using []."
   ]
  },
  {
   "cell_type": "code",
   "execution_count": 3,
   "id": "33868208",
   "metadata": {},
   "outputs": [],
   "source": [
    "D[\"esdger\"] = \"dijksta\"\n",
    "D[\"ada\"] = \"lovelace\""
   ]
  },
  {
   "cell_type": "markdown",
   "id": "506680fc",
   "metadata": {},
   "source": [
    "A value can be found in a dictionary using the key"
   ]
  },
  {
   "cell_type": "code",
   "execution_count": 4,
   "id": "2a6022ae",
   "metadata": {},
   "outputs": [
    {
     "data": {
      "text/plain": [
       "'lovelace'"
      ]
     },
     "execution_count": 4,
     "metadata": {},
     "output_type": "execute_result"
    }
   ],
   "source": [
    "D[\"ada\"]"
   ]
  },
  {
   "cell_type": "markdown",
   "id": "10eda12a",
   "metadata": {},
   "source": [
    "and the value can be changed."
   ]
  },
  {
   "cell_type": "code",
   "execution_count": 5,
   "id": "f1c8a5d9",
   "metadata": {},
   "outputs": [
    {
     "name": "stdout",
     "output_type": "stream",
     "text": [
      "{'esdger': 'dijksta', 'ada': 'Byron'}\n"
     ]
    }
   ],
   "source": [
    "D[\"ada\"] = \"Byron\"\n",
    "print(D)"
   ]
  },
  {
   "cell_type": "markdown",
   "id": "669d912c",
   "metadata": {},
   "source": [
    "### <u>Exercise 1</u>\n",
    "\n",
    "Do dictionary keys have to be of the same type ?"
   ]
  },
  {
   "cell_type": "markdown",
   "id": "a25fd708",
   "metadata": {},
   "source": [
    "### <u>Solution 1</u>"
   ]
  },
  {
   "cell_type": "code",
   "execution_count": 6,
   "id": "8eaaeca1",
   "metadata": {
    "tags": [
     "hide-input",
     "hide-output"
    ]
   },
   "outputs": [],
   "source": [
    "D[3.1] = \"pi\""
   ]
  },
  {
   "cell_type": "markdown",
   "id": "b8d324e9",
   "metadata": {},
   "source": [
    "### <u>Exercise 2</u>\n",
    "\n",
    "Do dictionary values have to be of the same type ?"
   ]
  },
  {
   "cell_type": "markdown",
   "id": "45043b7a",
   "metadata": {},
   "source": [
    "### <u>Solution 2</u>"
   ]
  },
  {
   "cell_type": "code",
   "execution_count": 7,
   "id": "d100b8e4",
   "metadata": {
    "tags": [
     "hide-input",
     "hide-output"
    ]
   },
   "outputs": [],
   "source": [
    "D[2.1] = 7.2"
   ]
  },
  {
   "cell_type": "markdown",
   "id": "df2f7d5d",
   "metadata": {},
   "source": [
    "### <u>Exercise 3</u>\n",
    "\n",
    "Do dictionary values have to be unique ?"
   ]
  },
  {
   "cell_type": "code",
   "execution_count": 8,
   "id": "e8ceaaf2",
   "metadata": {
    "tags": [
     "hide-input",
     "hide-output"
    ]
   },
   "outputs": [],
   "source": [
    "D[2.2] = 7.1"
   ]
  },
  {
   "cell_type": "markdown",
   "id": "4c6a1236",
   "metadata": {},
   "source": [
    "### <u>Exercise 4</u>\n",
    "\n",
    "What types can be used as keys in a dictionary ? Experiment and find out."
   ]
  },
  {
   "cell_type": "markdown",
   "id": "6bd53060",
   "metadata": {},
   "source": [
    "Dictionaries can be created with content using {:}"
   ]
  },
  {
   "cell_type": "code",
   "execution_count": 9,
   "id": "7ec49512",
   "metadata": {},
   "outputs": [
    {
     "name": "stdout",
     "output_type": "stream",
     "text": [
      "{1: 3, 'a': (1, True)}\n"
     ]
    }
   ],
   "source": [
    "DD = {1 : 3,\"a\" : (1,True)}\n",
    "print(DD)"
   ]
  },
  {
   "cell_type": "markdown",
   "id": "e18c7c15",
   "metadata": {},
   "source": [
    "The **in** operator can be used to find if a value is in sequence, be it a **list**, **tuple**, or **dictionary**.\n"
   ]
  },
  {
   "cell_type": "code",
   "execution_count": 10,
   "id": "21712408",
   "metadata": {},
   "outputs": [
    {
     "data": {
      "text/plain": [
       "True"
      ]
     },
     "execution_count": 10,
     "metadata": {},
     "output_type": "execute_result"
    }
   ],
   "source": [
    "L = [1,2,3]\n",
    "2 in L\n"
   ]
  },
  {
   "cell_type": "code",
   "execution_count": 11,
   "id": "0ee9cccd",
   "metadata": {},
   "outputs": [
    {
     "data": {
      "text/plain": [
       "False"
      ]
     },
     "execution_count": 11,
     "metadata": {},
     "output_type": "execute_result"
    }
   ],
   "source": [
    "T = (1,\"hello\",True)\n",
    "False in T"
   ]
  },
  {
   "cell_type": "markdown",
   "id": "4a39707b",
   "metadata": {},
   "source": [
    "In a dictionary, **in** operates on the **keys**, not the **values**."
   ]
  },
  {
   "cell_type": "code",
   "execution_count": 12,
   "id": "d01e6c56",
   "metadata": {},
   "outputs": [
    {
     "data": {
      "text/plain": [
       "True"
      ]
     },
     "execution_count": 12,
     "metadata": {},
     "output_type": "execute_result"
    }
   ],
   "source": [
    "D = {\"a\" : 1,(2,3) : True}\n",
    "(2,3) in D"
   ]
  },
  {
   "cell_type": "markdown",
   "id": "150bc2cd",
   "metadata": {},
   "source": [
    "The **in** operator uses different algorithms for lists and\n",
    "dictionaries.  For lists, it uses a search algorithm. As the list gets longer, the search time gets\n",
    "longer in direct proportion to the size of the list.  For dictionaries, Python uses an\n",
    "algorithm called a __hashtable__ that has a remarkable property: the\n",
    "**in** operator takes about the same amount of time no matter how\n",
    "many items there are in a dictionary."
   ]
  },
  {
   "cell_type": "markdown",
   "id": "508840cc",
   "metadata": {},
   "source": [
    "### <u>Exercise 5</u>\n",
    "\n",
    "Install the numpy library using *pip*. "
   ]
  },
  {
   "cell_type": "markdown",
   "id": "6903a95c",
   "metadata": {},
   "source": [
    "### <u>Solution 5</u> "
   ]
  },
  {
   "cell_type": "code",
   "execution_count": 5,
   "id": "46f0d2c7",
   "metadata": {
    "tags": [
     "hide-input",
     "hide-output"
    ]
   },
   "outputs": [
    {
     "name": "stdout",
     "output_type": "stream",
     "text": [
      "Collecting numpy\n",
      "  Downloading numpy-1.21.2-cp310-cp310-manylinux_2_17_x86_64.manylinux2014_x86_64.whl (15.9 MB)\n",
      "\u001b[K     |████████████████████████████████| 15.9 MB 7.0 MB/s eta 0:00:01\n",
      "\u001b[?25hInstalling collected packages: numpy\n",
      "Successfully installed numpy-1.21.2\n",
      "\u001b[33mWARNING: You are using pip version 21.2.3; however, version 21.3 is available.\n",
      "You should consider upgrading via the '/home/grosedj/.pyenv/versions/3.10.0/bin/python -m pip install --upgrade pip' command.\u001b[0m\n"
     ]
    }
   ],
   "source": [
    "!python -m pip install numpy"
   ]
  },
  {
   "cell_type": "markdown",
   "id": "7d0f9f6e",
   "metadata": {},
   "source": [
    "### <u>Exercise 6</u>\n",
    "\n",
    "import the numpy library. Use **help** to find out about the **poisson** function in the **random** module of \n",
    "**numpy**. Note - the __numpy__ library is discussed in more detail in a seperate chapter."
   ]
  },
  {
   "cell_type": "markdown",
   "id": "9a4d7254",
   "metadata": {},
   "source": [
    "### <u>Solition 6</u>"
   ]
  },
  {
   "cell_type": "code",
   "execution_count": 6,
   "id": "cc5fc04a",
   "metadata": {
    "tags": [
     "hide-input",
     "hide-output"
    ]
   },
   "outputs": [
    {
     "name": "stdout",
     "output_type": "stream",
     "text": [
      "Help on built-in function poisson in numpy.random:\n",
      "\n",
      "numpy.random.poisson = poisson(...) method of numpy.random.mtrand.RandomState instance\n",
      "    poisson(lam=1.0, size=None)\n",
      "    \n",
      "    Draw samples from a Poisson distribution.\n",
      "    \n",
      "    The Poisson distribution is the limit of the binomial distribution\n",
      "    for large N.\n",
      "    \n",
      "    .. note::\n",
      "        New code should use the ``poisson`` method of a ``default_rng()``\n",
      "        instance instead; please see the :ref:`random-quick-start`.\n",
      "    \n",
      "    Parameters\n",
      "    ----------\n",
      "    lam : float or array_like of floats\n",
      "        Expected number of events occurring in a fixed-time interval,\n",
      "        must be >= 0. A sequence must be broadcastable over the requested\n",
      "        size.\n",
      "    size : int or tuple of ints, optional\n",
      "        Output shape.  If the given shape is, e.g., ``(m, n, k)``, then\n",
      "        ``m * n * k`` samples are drawn.  If size is ``None`` (default),\n",
      "        a single value is returned if ``lam`` is a scalar. Otherwise,\n",
      "        ``np.array(lam).size`` samples are drawn.\n",
      "    \n",
      "    Returns\n",
      "    -------\n",
      "    out : ndarray or scalar\n",
      "        Drawn samples from the parameterized Poisson distribution.\n",
      "    \n",
      "    See Also\n",
      "    --------\n",
      "    Generator.poisson: which should be used for new code.\n",
      "    \n",
      "    Notes\n",
      "    -----\n",
      "    The Poisson distribution\n",
      "    \n",
      "    .. math:: f(k; \\lambda)=\\frac{\\lambda^k e^{-\\lambda}}{k!}\n",
      "    \n",
      "    For events with an expected separation :math:`\\lambda` the Poisson\n",
      "    distribution :math:`f(k; \\lambda)` describes the probability of\n",
      "    :math:`k` events occurring within the observed\n",
      "    interval :math:`\\lambda`.\n",
      "    \n",
      "    Because the output is limited to the range of the C int64 type, a\n",
      "    ValueError is raised when `lam` is within 10 sigma of the maximum\n",
      "    representable value.\n",
      "    \n",
      "    References\n",
      "    ----------\n",
      "    .. [1] Weisstein, Eric W. \"Poisson Distribution.\"\n",
      "           From MathWorld--A Wolfram Web Resource.\n",
      "           http://mathworld.wolfram.com/PoissonDistribution.html\n",
      "    .. [2] Wikipedia, \"Poisson distribution\",\n",
      "           https://en.wikipedia.org/wiki/Poisson_distribution\n",
      "    \n",
      "    Examples\n",
      "    --------\n",
      "    Draw samples from the distribution:\n",
      "    \n",
      "    >>> import numpy as np\n",
      "    >>> s = np.random.poisson(5, 10000)\n",
      "    \n",
      "    Display histogram of the sample:\n",
      "    \n",
      "    >>> import matplotlib.pyplot as plt\n",
      "    >>> count, bins, ignored = plt.hist(s, 14, density=True)\n",
      "    >>> plt.show()\n",
      "    \n",
      "    Draw each 100 values for lambda 100 and 500:\n",
      "    \n",
      "    >>> s = np.random.poisson(lam=(100., 500.), size=(100, 2))\n",
      "\n"
     ]
    }
   ],
   "source": [
    "import numpy\n",
    "help(\"numpy.random.poisson\")"
   ]
  },
  {
   "cell_type": "markdown",
   "id": "16b08e78",
   "metadata": {},
   "source": [
    "### <u>Exercise 7</u>\n",
    "\n",
    "Generate a sample of size 100 from a poisson distribution with $\\lambda = 2$."
   ]
  },
  {
   "cell_type": "markdown",
   "id": "cbe9c388",
   "metadata": {},
   "source": [
    "### <u>Solution 7</u>"
   ]
  },
  {
   "cell_type": "code",
   "execution_count": 8,
   "id": "df1531eb",
   "metadata": {
    "tags": [
     "hide-input",
     "hide-output"
    ]
   },
   "outputs": [
    {
     "name": "stdout",
     "output_type": "stream",
     "text": [
      "[6 2 1 1 3 0 3 2 4 7 6 4 1 1 4 4 2 1 5 4 2 2 1 2 3 2 3 2 3 3 2 3 1 2 1 2 0\n",
      " 2 2 3 4 3 0 1 2 2 0 0 1 3 3 1 2 4 0 5 1 3 1 5 0 4 4 2 3 0 5 0 0 2 3 1 1 2\n",
      " 2 1 3 4 1 1 3 4 0 1 3 3 3 1 3 0 4 0 1 3 1 2 5 1 2 4]\n"
     ]
    }
   ],
   "source": [
    "S = numpy.random.poisson(2,100)\n",
    "print(S)"
   ]
  },
  {
   "cell_type": "markdown",
   "id": "e14db166",
   "metadata": {},
   "source": [
    "### <u>Exercise 8</u>\n",
    "\n",
    "Write a function that uses a dictionary to \"bin\" a sample of size $n$ drawn from a poisson distribution with rate $\\lambda$."
   ]
  },
  {
   "cell_type": "markdown",
   "id": "ad126fe7",
   "metadata": {},
   "source": [
    "### <u>Solution 8</u>"
   ]
  },
  {
   "cell_type": "code",
   "execution_count": 11,
   "id": "36bdda0a",
   "metadata": {
    "tags": [
     "hide-input",
     "hide-output"
    ]
   },
   "outputs": [
    {
     "data": {
      "text/plain": [
       "{2: 3, 3: 1, 0: 1, 4: 3, 1: 1, 5: 1}"
      ]
     },
     "execution_count": 11,
     "metadata": {},
     "output_type": "execute_result"
    }
   ],
   "source": [
    "def bin(n,lam) :\n",
    "    D = {}\n",
    "    S = numpy.random.poisson(lam,n)\n",
    "    for s in S :\n",
    "        if s not in D:\n",
    "            D[s] = 1\n",
    "        else:\n",
    "            D[s] += 1\n",
    "    return D\n",
    "\n",
    "bin(10,3)"
   ]
  }
 ],
 "metadata": {
  "celltoolbar": "Edit Metadata",
  "kernelspec": {
   "display_name": "Python 3 (ipykernel)",
   "language": "python",
   "name": "python3"
  },
  "language_info": {
   "codemirror_mode": {
    "name": "ipython",
    "version": 3
   },
   "file_extension": ".py",
   "mimetype": "text/x-python",
   "name": "python",
   "nbconvert_exporter": "python",
   "pygments_lexer": "ipython3",
   "version": "3.9.9"
  }
 },
 "nbformat": 4,
 "nbformat_minor": 5
}
