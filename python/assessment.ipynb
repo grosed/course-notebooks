{
 "cells": [
  {
   "cell_type": "markdown",
   "id": "420b2729",
   "metadata": {},
   "source": [
    "# Assessment\n"
   ]
  },
  {
   "cell_type": "markdown",
   "id": "012a0e20",
   "metadata": {},
   "source": [
    "This document contains the assessed component for STOR-601 module **\"Scientific Computing with Python\"**. "
   ]
  },
  {
   "cell_type": "markdown",
   "id": "b1105772",
   "metadata": {},
   "source": [
    "## Instructions\n",
    "\n",
    "### What can/cannot be used\n",
    "\n",
    "\n",
    "To achieve the tasks in this assessment you can use :\n",
    "\n",
    "- Any of the code you wrote during the course and any of the examples provided in the course materials\n",
    "- Any standard python data structures and functions\n",
    "- The **matplotlib** library\n",
    "- The **numpy** library\n",
    "- The **sortedcontainers** library\n",
    "- Any other librarues availableas part of **SciPy**\n",
    "\n",
    "If you want other libraries then please check there suiatable with  \n",
    "[Daniel Grose](mailto:dan.grose@lancaster.ac.uk) first.\n",
    "\n",
    "However, you should not use :\n",
    "\n",
    "- Any code that is **NOT** python 3 \n",
    "- Any code that is not open source. (If it has a copyright, check you can use it) \n",
    "\n",
    "You can use code examples from other sources, but a complete solution to a task that has \n",
    "only minor differences to a published solution will be considered plagiarism. Be sensible.\n",
    "\n",
    "## Submitting the assessment\n",
    "\n",
    "Your assessment should be submitted as a Jupyter Notebook. You can use any of the notebooks used to create the course material. Your notebook must include your name, data of submission, and each of the Task details from this document should be placed above each of your solution to the Task. Your notebook should be e-mailed directly to  \n",
    "[Daniel Grose](mailto:dan.grose@lancaster.ac.uk)\n",
    "\n",
    "The submission date for this assignment is 30/04/2021\n",
    "\n",
    "## Advice\n",
    "\n",
    "The marks for each component of each task are shown in square brackets. In some of the tasks you have to provide descriptions, justifictions and supporting material such as charts, figures and possibly some simple analysis. In such cases some of the marks will be allocated according to how __creative__ and __novel__ your answers are. Try and make as good as use as you can of the facilities supported by Jupyter Notebooks. For example, LaTeX, markdown, charts, html etc."
   ]
  },
  {
   "cell_type": "markdown",
   "id": "a89cc65c",
   "metadata": {},
   "source": [
    "## Task 1\n",
    "\n",
    "\n",
    "a) Write a python function that accepts two sorted lists of n numbers as arguments and returns the value of the median of the combined data from both lists. [5]\n",
    "\n",
    "b) Determine how the time taken for your function to calculate the median varies with n. Demonstrate this visually using matplotlib. [5]\n",
    "\n",
    "c) What is the complexity of the algorithm you used in part a) ? [2]\n",
    "\n",
    "d) Is it possible to write a function for part a) that has better than O(n) worst case complexity ? Research this problem, and if it is possible, write a python function that realises better than O(n) worst case complexity. If you think that it is not possible, then write a short explanation as to why this is so. [5]\n",
    "\n",
    "Note - if your answer to part a) is better then O(n) worst case, then this constitutes an answer to part d) as well.\n"
   ]
  },
  {
   "cell_type": "markdown",
   "id": "13ba3421",
   "metadata": {},
   "source": [
    "## Task 2\n",
    "\n",
    "a) Write methods for calculating the following statistics on a moving window of length $K$\n",
    "\n",
    "i) max [3]\n",
    "\n",
    "ii) min [3]\n",
    "\n",
    "iii) mean [3]\n",
    "\n",
    "iv) median [3]\n",
    "\n",
    "v) standard deviation [3]\n",
    "\n",
    "vi) median absolute deviation [6]\n",
    "\n",
    "You functions should take a list as an argument and return a list and can use any standard python functions (such as **min**) if you wish. However, you can _**only**_ use the types of data structures described in the Appendix\n",
    "i.e. lists, strings, tuples, dictionaries, and sets. You can also use the array data structure from the **numpy** library if you wish.\n",
    "\n",
    "\n",
    "b) Augment your methods from part a) to implement padding using \n",
    "\n",
    "i) pad zero [3]\n",
    "\n",
    "ii) pad value [3]\n",
    "\n",
    "\n",
    "c) Generate some random sequences (of your choice) that include \"outliers\" and use them to visualise\n",
    "your methods developed in parts a) and 2b) with matplotlib. Use at least two distributions from the numpy package. Marks will be awarded for creativity both with respect to the structure of the data and the features in \n",
    "the plots. [10]\n",
    "\n",
    "\n",
    "d) In terms of $K$ (i.e not considering the length of the data $N$) determine the worst case complexity for each \n",
    "of your methods from part a). You should quote the complexity using \"Big O\" notation. Justify your answers \n",
    "using timing data produced using your methods and summarise this data graphically. Make sure you account\n",
    "for variation in the run time due to the structure of the data and random fluctuations in the avaialibity\n",
    "of CPU allocation on your computer system. [15]"
   ]
  },
  {
   "cell_type": "markdown",
   "id": "5d35bbfd",
   "metadata": {},
   "source": [
    "## Task 3\n",
    "\n",
    "This question requires that you have access to the **sortedcontainers** library available from PyPI.\n",
    "\n",
    "a) Enter the worst case complexity for each method in Table 1. Leave the cell blank\n",
    "if the method is not supported by the data structure.\n",
    "\n",
    "\n",
    "Table 1 \n",
    "\n",
    "| method | list | dictionary | set | tuple | sorted list | sorted dictionary | sorted set |\n",
    "|-------:|:-----|:-----------:|:----|:------| :------| :------| :------|\n",
    "| sort      |      |         | |     | | | |\n",
    "| add      |      |            |     |       | | | |\n",
    "| append      |      |            |     |       | | | |\n",
    "| bisect      |      |            |     |       | | | |\n",
    "| remove      |      |            |     |       | | | |\n",
    "| pop      |      |            |     |       | | | |\n",
    "\n",
    "b) For each data structure in Table 1 provide a _**short**_ description of a simple use case that exploits a feature of\n",
    "that particular data structure. In each case, justify the choice of the data structure in relation to the use case. [10]\n",
    "\n",
    "c) Can you change the way **SortedList** keeps its data sorted ? If so, give a short example of how this can be \n",
    "acheived. [5]"
   ]
  },
  {
   "cell_type": "markdown",
   "id": "fa075bad",
   "metadata": {},
   "source": [
    "## Task 4\n",
    "\n",
    "a) Where possible, use the SortedList container to improve the worst case run time complexity for your solutions to Task 2 part a). Where this is not possible, explain why you think this to be the case. [20]\n",
    "\n",
    "b) For each of your solutions in part a), use suitable data in conjunction with matplotlib to demonstrate how the complexity of your solution compares to the one you obtained in Task 2 part a). [15]\n"
   ]
  },
  {
   "cell_type": "markdown",
   "id": "3de885db",
   "metadata": {},
   "source": [
    "## Task 5\n",
    "\n",
    "a) Write a python function to generate a list of data corresponding to $n$ samples of $X_{i}^{2}$where $X_{i}$ is distributed according to $X_{i} \\sim \\mathcal{N}(0,\\sigma_{1}) +  \\lambda B(1,p)$ for $a \\leq i \\leq b$ and $X_{i} \\sim \\mathcal{N}(0,\\sigma_{2}) +  \\lambda B(1,p)$ otherwise. Your function should accept $n$, $\\sigma_{1}$, $\\sigma_{2}$, $\\lambda$, $p$, $a$, and $b$ as parameters. Here, $\\mathcal{N}(\\mu,\\sigma)$ indicates a normal distribution and $B(n,p)$ a binomial distibution. [5]\n",
    "\n",
    "b) Use **matplotlib** to visualise some examples of the output from your solution to part a) [5]\n",
    "\n",
    "c) \n",
    "\n",
    "(i) Use your solutions from Task 2 part a) to develop a method for predicting $a$ and $b$ from data produced by your solution to\n",
    "part a). [10]\n",
    "\n",
    "(ii) Provide an example showing how your method is used. [2]\n",
    "\n",
    "(iii) Describe how the size of the sliding window effects the prediction of $a$ and $b$ ? [15]\n",
    "\n",
    "(iv) Describe how the parameters in your solution to part a) effect the ability of your solution to a) (i) to\n",
    "predict $a$ and $b$. [15]\n",
    "\n",
    "Note 1 - Your answers to part c) (iii) and c) (iv) can include plots, code examples, analysis, and so on. Be _creative_. \n"
   ]
  }
 ],
 "metadata": {
  "kernelspec": {
   "display_name": "Python 3",
   "language": "python",
   "name": "python3"
  },
  "language_info": {
   "codemirror_mode": {
    "name": "ipython",
    "version": 3
   },
   "file_extension": ".py",
   "mimetype": "text/x-python",
   "name": "python",
   "nbconvert_exporter": "python",
   "pygments_lexer": "ipython3",
   "version": "3.9.0"
  }
 },
 "nbformat": 4,
 "nbformat_minor": 5
}
