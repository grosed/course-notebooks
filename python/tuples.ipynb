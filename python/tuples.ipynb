{
 "cells": [
  {
   "cell_type": "markdown",
   "id": "153ec0ea",
   "metadata": {},
   "source": [
    "# Tuples"
   ]
  },
  {
   "cell_type": "markdown",
   "id": "4c0b792f",
   "metadata": {},
   "source": [
    "A tuple is a sequence of values.  The values can be any type, and\n",
    "they are indexed by integers, so in that respect tuples are a lot\n",
    "like lists.  The important difference is that tuples are immutable.\n",
    "\n",
    "Syntactically, a tuple is a comma-separated list of values:"
   ]
  },
  {
   "cell_type": "code",
   "execution_count": 1,
   "id": "e2caee57",
   "metadata": {},
   "outputs": [
    {
     "name": "stdout",
     "output_type": "stream",
     "text": [
      "('a', 'b', 'c', 'd', 'e')\n"
     ]
    }
   ],
   "source": [
    "t = 'a', 'b', 'c', 'd', 'e'\n",
    "print(t)"
   ]
  },
  {
   "cell_type": "markdown",
   "id": "1a6a749e",
   "metadata": {},
   "source": [
    "Although it is not necessary, it is common to enclose tuples in\n",
    "parentheses."
   ]
  },
  {
   "cell_type": "code",
   "execution_count": 2,
   "id": "c6aa40b1",
   "metadata": {},
   "outputs": [],
   "source": [
    " t = ('a', 'b', 'c', 'd', 'e')"
   ]
  },
  {
   "cell_type": "markdown",
   "id": "c4508cbb",
   "metadata": {},
   "source": [
    "To create a tuple with a single element, you have to include a final\n",
    "comma."
   ]
  },
  {
   "cell_type": "code",
   "execution_count": 3,
   "id": "dbb3d84e",
   "metadata": {},
   "outputs": [
    {
     "data": {
      "text/plain": [
       "tuple"
      ]
     },
     "execution_count": 3,
     "metadata": {},
     "output_type": "execute_result"
    }
   ],
   "source": [
    "t = 'a',\n",
    "type(t)"
   ]
  },
  {
   "cell_type": "markdown",
   "id": "8f9950c5",
   "metadata": {},
   "source": [
    "A value in parentheses is not a tuple."
   ]
  },
  {
   "cell_type": "code",
   "execution_count": 4,
   "id": "a12a24c0",
   "metadata": {},
   "outputs": [
    {
     "data": {
      "text/plain": [
       "str"
      ]
     },
     "execution_count": 4,
     "metadata": {},
     "output_type": "execute_result"
    }
   ],
   "source": [
    "t = ('a')\n",
    "type(t)"
   ]
  },
  {
   "cell_type": "markdown",
   "id": "2b43a787",
   "metadata": {},
   "source": [
    "Another way to create a tuple is the built-in function **tuple**.\n",
    "With no argument, it creates an empty tuple."
   ]
  },
  {
   "cell_type": "code",
   "execution_count": 5,
   "id": "d04f9984",
   "metadata": {},
   "outputs": [
    {
     "name": "stdout",
     "output_type": "stream",
     "text": [
      "()\n"
     ]
    }
   ],
   "source": [
    "t = tuple()\n",
    "print(t)"
   ]
  },
  {
   "cell_type": "markdown",
   "id": "6bc58c29",
   "metadata": {},
   "source": [
    "If the argument is a sequence (string, list or tuple), the result\n",
    "is a tuple with the elements of the sequence."
   ]
  },
  {
   "cell_type": "code",
   "execution_count": 6,
   "id": "b4f0df90",
   "metadata": {},
   "outputs": [
    {
     "name": "stdout",
     "output_type": "stream",
     "text": [
      "('b', 'l', 'e', 'n', 'c', 'a', 't', 'h', 'r', 'a')\n"
     ]
    }
   ],
   "source": [
    "t = tuple('blencathra')\n",
    "print(t)"
   ]
  },
  {
   "cell_type": "markdown",
   "id": "d2f7022d",
   "metadata": {},
   "source": [
    "Because **tuple** is the name of a built-in function, you should\n",
    "avoid using it as a variable name. Most list operators also work on tuples.  The bracket operator\n",
    "indexes an element."
   ]
  },
  {
   "cell_type": "code",
   "execution_count": 7,
   "id": "db1c366f",
   "metadata": {},
   "outputs": [
    {
     "name": "stdout",
     "output_type": "stream",
     "text": [
      "a\n"
     ]
    }
   ],
   "source": [
    "t = ('a', 'b', 'c', 'd', 'e')\n",
    "print(t[0])"
   ]
  },
  {
   "cell_type": "markdown",
   "id": "d5455e93",
   "metadata": {},
   "source": [
    "And the slice operator selects a range of elements."
   ]
  },
  {
   "cell_type": "code",
   "execution_count": 8,
   "id": "903bb74b",
   "metadata": {},
   "outputs": [
    {
     "name": "stdout",
     "output_type": "stream",
     "text": [
      "('b', 'c')\n"
     ]
    }
   ],
   "source": [
    "print(t[1:3])"
   ]
  },
  {
   "cell_type": "markdown",
   "id": "811812b4",
   "metadata": {},
   "source": [
    "But if you try to modify one of the elements of the tuple, you get\n",
    "an error."
   ]
  },
  {
   "cell_type": "code",
   "execution_count": 9,
   "id": "aade27b2",
   "metadata": {},
   "outputs": [
    {
     "ename": "TypeError",
     "evalue": "'tuple' object does not support item assignment",
     "output_type": "error",
     "traceback": [
      "\u001b[0;31m---------------------------------------------------------------------------\u001b[0m",
      "\u001b[0;31mTypeError\u001b[0m                                 Traceback (most recent call last)",
      "\u001b[0;32m<ipython-input-9-7e674cdf20e6>\u001b[0m in \u001b[0;36m<module>\u001b[0;34m\u001b[0m\n\u001b[0;32m----> 1\u001b[0;31m \u001b[0mt\u001b[0m\u001b[0;34m[\u001b[0m\u001b[0;36m0\u001b[0m\u001b[0;34m]\u001b[0m \u001b[0;34m=\u001b[0m \u001b[0;34m'A'\u001b[0m\u001b[0;34m\u001b[0m\u001b[0;34m\u001b[0m\u001b[0m\n\u001b[0m",
      "\u001b[0;31mTypeError\u001b[0m: 'tuple' object does not support item assignment"
     ]
    }
   ],
   "source": [
    "t[0] = 'A'"
   ]
  },
  {
   "cell_type": "markdown",
   "id": "1229dd77",
   "metadata": {},
   "source": [
    "You can't modify the elements of a tuple, but you can replace\n",
    "one tuple with another."
   ]
  },
  {
   "cell_type": "code",
   "execution_count": null,
   "id": "8dfaee36",
   "metadata": {},
   "outputs": [],
   "source": [
    "t = ('A',) + t[1:]\n",
    "print(t)"
   ]
  },
  {
   "cell_type": "markdown",
   "id": "cae89866",
   "metadata": {},
   "source": [
    "It is often useful to swap the values of two variables.\n",
    "With conventional assignments, you have to use a temporary\n",
    "variable.  For example, to swap **a** and **b**."
   ]
  },
  {
   "cell_type": "code",
   "execution_count": null,
   "id": "dbf99dc2",
   "metadata": {},
   "outputs": [],
   "source": [
    "a = 1\n",
    "b = 3"
   ]
  },
  {
   "cell_type": "code",
   "execution_count": null,
   "id": "88475b54",
   "metadata": {},
   "outputs": [],
   "source": [
    "temp = a\n",
    "a = b\n",
    "b = temp"
   ]
  },
  {
   "cell_type": "markdown",
   "id": "1b0a6479",
   "metadata": {},
   "source": [
    "This solution is cumbersome, **tuple assignment** is more elegant."
   ]
  },
  {
   "cell_type": "code",
   "execution_count": null,
   "id": "a956a939",
   "metadata": {},
   "outputs": [],
   "source": [
    "a, b = b, a"
   ]
  },
  {
   "cell_type": "markdown",
   "id": "7c9e7478",
   "metadata": {},
   "source": [
    "The left side is a tuple of variables; the right side is a tuple of\n",
    "expressions.  Each value is assigned to its respective variable.  \n",
    "All the expressions on the right side are evaluated before any\n",
    "of the assignments.\n",
    "\n",
    "The number of variables on the left and the number of\n",
    "values on the right have to be the same."
   ]
  },
  {
   "cell_type": "code",
   "execution_count": 4,
   "id": "fd47de60",
   "metadata": {},
   "outputs": [
    {
     "ename": "SyntaxError",
     "evalue": "invalid syntax. Perhaps you forgot a comma? (2249272864.py, line 1)",
     "output_type": "error",
     "traceback": [
      "\u001b[0;36m  File \u001b[0;32m\"/tmp/ipykernel_113398/2249272864.py\"\u001b[0;36m, line \u001b[0;32m1\u001b[0m\n\u001b[0;31m    More generally, the right side can be any kind of sequence\u001b[0m\n\u001b[0m                                                   ^\u001b[0m\n\u001b[0;31mSyntaxError\u001b[0m\u001b[0;31m:\u001b[0m invalid syntax. Perhaps you forgot a comma?\n"
     ]
    }
   ],
   "source": [
    "More generally, the right side can be any kind of sequence\n",
    "(string, list or tuple).  For example, to split an email address\n",
    "into a user name and a domain, you could write."
   ]
  },
  {
   "cell_type": "code",
   "execution_count": 1,
   "id": "e4ddc807",
   "metadata": {},
   "outputs": [
    {
     "name": "stdout",
     "output_type": "stream",
     "text": [
      "monty\n",
      "python.org\n"
     ]
    }
   ],
   "source": [
    "addr = 'monty@python.org'\n",
    "uname, domain = addr.split('@')\n",
    "print(uname)\n",
    "print(domain)"
   ]
  },
  {
   "cell_type": "markdown",
   "id": "be5a99d8",
   "metadata": {},
   "source": [
    "### <u>Exercise 1</u>\n",
    "\n",
    "Strictly speaking, python functions can only return a single value. Write a function to demonstrate how tuples can be used in this \n",
    "context."
   ]
  },
  {
   "cell_type": "markdown",
   "id": "c4420d66",
   "metadata": {},
   "source": [
    "### <u>Solution 1</u>"
   ]
  },
  {
   "cell_type": "code",
   "execution_count": 2,
   "id": "7289f86c",
   "metadata": {
    "tags": [
     "hide-input",
     "hide-output"
    ]
   },
   "outputs": [
    {
     "name": "stdout",
     "output_type": "stream",
     "text": [
      "(1.5, 5.0)\n"
     ]
    }
   ],
   "source": [
    "def line(p1,p2) :\n",
    "    a,b = p1\n",
    "    c,d = p2\n",
    "    return ((d-b)/(c-a),(d*(c-a)-b*(d-b))/(c-a))\n",
    "print(line((1,2),(5,8)))"
   ]
  },
  {
   "cell_type": "markdown",
   "id": "09dbfe13",
   "metadata": {},
   "source": [
    "### <u>Exercise 2</u>\n",
    "\n",
    "What would you think if someone said a python function can only take a single argument ?"
   ]
  },
  {
   "cell_type": "markdown",
   "id": "2dd40906",
   "metadata": {},
   "source": [
    "## Gather and scatter"
   ]
  },
  {
   "cell_type": "markdown",
   "id": "424b1cf9",
   "metadata": {},
   "source": [
    "\n",
    "Functions can take a variable number of arguments.  A parameter\n",
    "name that begins with * **gathers** arguments into\n",
    "a tuple.  For example."
   ]
  },
  {
   "cell_type": "code",
   "execution_count": 13,
   "id": "e99c138a",
   "metadata": {},
   "outputs": [
    {
     "name": "stdout",
     "output_type": "stream",
     "text": [
      "1\n",
      "2\n",
      "hello\n"
     ]
    }
   ],
   "source": [
    "def f(*vals) :\n",
    "    for val in vals :\n",
    "        print(val)\n",
    "        \n",
    "f(1,2,\"hello\")"
   ]
  },
  {
   "cell_type": "markdown",
   "id": "20522967",
   "metadata": {},
   "source": [
    "The compliment of **gather** is **scatter**. For example."
   ]
  },
  {
   "cell_type": "code",
   "execution_count": null,
   "id": "b8769437",
   "metadata": {},
   "outputs": [],
   "source": [
    "def g(a,b) :\n",
    "    return a + b\n",
    "\n",
    "t = (1,3)\n",
    "g(*t)"
   ]
  },
  {
   "cell_type": "markdown",
   "id": "5822b09c",
   "metadata": {},
   "source": [
    "Many of the built-in functions use\n",
    "variable-length argument tuples.  For example, **max**\n",
    "and **min** can take any number of arguments."
   ]
  },
  {
   "cell_type": "code",
   "execution_count": null,
   "id": "3c90ecab",
   "metadata": {},
   "outputs": [],
   "source": [
    "max(1,2,3,2,-1)\n",
    "max(7,-3)"
   ]
  },
  {
   "cell_type": "markdown",
   "id": "8fdd1971",
   "metadata": {},
   "source": [
    "### <u>Exercise 3</u>\n",
    "Write a function that takes an arbitary number of numerical values and returns both the maximium and minimum value\n",
    "of the arguments.\n",
    "\n"
   ]
  },
  {
   "cell_type": "markdown",
   "id": "24b2dcd0",
   "metadata": {},
   "source": [
    "### <u>Soliution 3</u>"
   ]
  },
  {
   "cell_type": "code",
   "execution_count": null,
   "id": "d3b8f12c",
   "metadata": {
    "tags": [
     "hide-input",
     "hide-output"
    ]
   },
   "outputs": [],
   "source": [
    "def maxmin(*vals) :\n",
    "    return max(vals),min(vals)\n",
    "\n",
    "maxmin(1,2,3,2,5,0,-9)"
   ]
  },
  {
   "cell_type": "markdown",
   "id": "c4a52c4e",
   "metadata": {},
   "source": [
    "## Lists and tuples"
   ]
  },
  {
   "cell_type": "markdown",
   "id": "eb3f8608",
   "metadata": {},
   "source": [
    "**zip** is a built-in function that takes two or more sequences and\n",
    "__\"zips\"__ them into a *iterator* of tuples where each tuple contains one\n",
    "element from each sequence. "
   ]
  },
  {
   "cell_type": "code",
   "execution_count": 7,
   "id": "21346c88",
   "metadata": {},
   "outputs": [
    {
     "name": "stdout",
     "output_type": "stream",
     "text": [
      "<zip object at 0x7f8a65ae1380>\n"
     ]
    }
   ],
   "source": [
    "x = [1,2,3,4]\n",
    "y = [\"a\",\"b\",\"c\",\"d\"]\n",
    "z = zip(x,y)\n",
    "print(z)"
   ]
  },
  {
   "cell_type": "markdown",
   "id": "78a7a4f2",
   "metadata": {},
   "source": [
    "The iterator can be converted to a **list** using list."
   ]
  },
  {
   "cell_type": "code",
   "execution_count": 8,
   "id": "a2c30f97",
   "metadata": {},
   "outputs": [
    {
     "data": {
      "text/plain": [
       "[(1, 'a'), (2, 'b'), (3, 'c'), (4, 'd')]"
      ]
     },
     "execution_count": 8,
     "metadata": {},
     "output_type": "execute_result"
    }
   ],
   "source": [
    "list(z)"
   ]
  },
  {
   "cell_type": "markdown",
   "id": "15ba4259",
   "metadata": {},
   "source": [
    "An **iterator** can be used in a loop directly though."
   ]
  },
  {
   "cell_type": "code",
   "execution_count": 10,
   "id": "63683a0d",
   "metadata": {},
   "outputs": [],
   "source": [
    "for val in z :\n",
    "    print(val)\n"
   ]
  },
  {
   "cell_type": "markdown",
   "id": "573f3a2a",
   "metadata": {},
   "source": [
    "Notice though that, as it stands, the above code does not work. That is because the **iterator** has already been \n",
    "consumed by the **list** function. "
   ]
  },
  {
   "cell_type": "code",
   "execution_count": 11,
   "id": "17ec227f",
   "metadata": {},
   "outputs": [
    {
     "name": "stdout",
     "output_type": "stream",
     "text": [
      "(1, 'a')\n",
      "(2, 'b')\n",
      "(3, 'c')\n",
      "(4, 'd')\n"
     ]
    }
   ],
   "source": [
    "z = zip(x,y)\n",
    "for val in z :\n",
    "    print(val)"
   ]
  },
  {
   "cell_type": "markdown",
   "id": "66e7b993",
   "metadata": {},
   "source": [
    "**zip** can be useful in conjunction with list comprehensions."
   ]
  },
  {
   "cell_type": "markdown",
   "id": "8526577e",
   "metadata": {},
   "source": [
    "### <u>Exercise 4</u>\n",
    "\n",
    "What would you expect the following code to do ?"
   ]
  },
  {
   "cell_type": "code",
   "execution_count": 12,
   "id": "71e6ebef",
   "metadata": {
    "tags": [
     "hide-output"
    ]
   },
   "outputs": [
    {
     "name": "stdout",
     "output_type": "stream",
     "text": [
      "[15, 18, 21, 24]\n"
     ]
    }
   ],
   "source": [
    "\n",
    "X = [1,2,3,4]\n",
    "Y = [5,6,7,8]\n",
    "Z = [9,10,11,12]\n",
    "S = [x + y + z for x,y,z in zip(X,Y,Z)]\n",
    "print(S)"
   ]
  }
 ],
 "metadata": {
  "celltoolbar": "Edit Metadata",
  "kernelspec": {
   "display_name": "Python 3 (ipykernel)",
   "language": "python",
   "name": "python3"
  },
  "language_info": {
   "codemirror_mode": {
    "name": "ipython",
    "version": 3
   },
   "file_extension": ".py",
   "mimetype": "text/x-python",
   "name": "python",
   "nbconvert_exporter": "python",
   "pygments_lexer": "ipython3",
   "version": "3.9.9"
  }
 },
 "nbformat": 4,
 "nbformat_minor": 5
}
