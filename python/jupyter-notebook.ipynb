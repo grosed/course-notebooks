{
 "cells": [
  {
   "cell_type": "markdown",
   "id": "relevant-cedar",
   "metadata": {},
   "source": [
    "## Getting to grips with Jupyter Notebook"
   ]
  },
  {
   "cell_type": "markdown",
   "id": "least-cooperation",
   "metadata": {},
   "source": [
    "This webpage has a good summary of the most commonly used shortcuts for introducing html markup into your\n",
    "jupyter notebook\n",
    "https://medium.com/analytics-vidhya/the-ultimate-markdown-guide-for-jupyter-notebook-d5e5abf728fd"
   ]
  }
 ],
 "metadata": {
  "kernelspec": {
   "display_name": "Python 3",
   "language": "python",
   "name": "python3"
  },
  "language_info": {
   "codemirror_mode": {
    "name": "ipython",
    "version": 3
   },
   "file_extension": ".py",
   "mimetype": "text/x-python",
   "name": "python",
   "nbconvert_exporter": "python",
   "pygments_lexer": "ipython3",
   "version": "3.10.0"
  }
 },
 "nbformat": 4,
 "nbformat_minor": 5
}
