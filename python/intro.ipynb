{
 "cells": [
  {
   "cell_type": "markdown",
   "id": "6b14e987",
   "metadata": {},
   "source": [
    "# <u>Welcome to the STOR-601 Introductory Python Module</u>"
   ]
  },
  {
   "cell_type": "markdown",
   "id": "276fb12f",
   "metadata": {},
   "source": [
    "## The course\n",
    "\n",
    "This course is an introduction to python programming for statistics and data science. Since it is an introductory course it does not cover every aspect of the python programming system. \n",
    "\n",
    "Initially, the course focuses on the python language. The later sessions then introduce python libraries that are particularly useful for statistics and data science. \n",
    "\n",
    "The material is presented using jupyter notebooks and jupyter book. You can learn more about jupyter [here](https://jupyter-notebook.readthedocs.io/en/stable/)\n",
    "\n",
    "The approach to teaching is hands on. You are expected to try as many exercises as you can. The jupyter notebooks for the course can be downloaded and extended with your own notes, examples, and ideas."
   ]
  },
  {
   "cell_type": "markdown",
   "id": "a442416e",
   "metadata": {},
   "source": [
    "## Course contacts\n",
    "\n",
    "[Daniel Grose](mailto:dan.grose@lancaster.ac.uk) - Lecturer\n"
   ]
  },
  {
   "cell_type": "markdown",
   "id": "60666c97",
   "metadata": {},
   "source": [
    "## Sessions\n",
    "\n",
    "- __Session 1__\n",
    "    - Wednesday 11/01/2023\n",
    "    - Lab 2 PSC\n",
    "    - 13:00 - 15:00\n",
    "- __Session 2__\n",
    "    - Thursday 12/01/2023\n",
    "    - Lab 1 PSC\n",
    "    - 10:00 - 12:00\n",
    "- __Session 3__\n",
    "    - Friday 13/01/2023\n",
    "    - Lab 1 PSC\n",
    "    - 10:00 - 12:00\n",
    "\n"
   ]
  },
  {
   "cell_type": "markdown",
   "id": "dfc528cb",
   "metadata": {},
   "source": [
    "## Assessment\n",
    "- One piece of assessed work\n",
    "- Issued in session 3 (13/01/2023)\n",
    "- Due 16:00 on 03/02/2023\n",
    "- Submitted as jupyter notebook"
   ]
  },
  {
   "cell_type": "markdown",
   "id": "f73b7d5f",
   "metadata": {},
   "source": [
    "## Approach to learning\n",
    "- Single jupyter book for course notes\n",
    "- Course notes designed to accompany the sessions\n",
    "- Each chapter is a jupyter notebook\n",
    "- Each notebook can be downloaded and annotated by you\n",
    "- Course notes have lots of examples and exercises"
   ]
  },
  {
   "cell_type": "markdown",
   "id": "4f23c285",
   "metadata": {},
   "source": [
    "## Why Python ?\n",
    "- Easy to learn\n",
    "- Versatile\n",
    "- Syntax is easy to read\n",
    "- Lots of open source libraries\n",
    "- Used for more than statistics and data science\n",
    "- Easy to integrate into larger systems"
   ]
  },
  {
   "cell_type": "markdown",
   "id": "d4e9306c",
   "metadata": {},
   "source": [
    "## Outcomes"
   ]
  },
  {
   "cell_type": "markdown",
   "id": "9b35d05c",
   "metadata": {},
   "source": [
    "### Session 1 - The basics\n",
    "\n",
    "- Variables and expressions\n",
    "- Functions\n",
    "- Importing libraries\n",
    "- Installing libraries\n",
    "- Lists\n",
    "- if, elif, and else\n",
    "- for, while\n",
    "- Tuples\n",
    "- Dictionaries\n",
    "- File input and output"
   ]
  },
  {
   "cell_type": "markdown",
   "id": "f7a565ce",
   "metadata": {},
   "source": [
    "### Session 2\n",
    "- numpy\n",
    "- pandas\n",
    "- matplotlib\n",
    "- statisitics with scipy"
   ]
  },
  {
   "cell_type": "markdown",
   "id": "2c99990e",
   "metadata": {},
   "source": [
    "### Session 3\n",
    "- ggplot\n",
    "- libraries for data science"
   ]
  }
 ],
 "metadata": {
  "kernelspec": {
   "display_name": "Python 3 (ipykernel)",
   "language": "python",
   "name": "python3"
  },
  "language_info": {
   "codemirror_mode": {
    "name": "ipython",
    "version": 3
   },
   "file_extension": ".py",
   "mimetype": "text/x-python",
   "name": "python",
   "nbconvert_exporter": "python",
   "pygments_lexer": "ipython3",
   "version": "3.9.9"
  }
 },
 "nbformat": 4,
 "nbformat_minor": 5
}
