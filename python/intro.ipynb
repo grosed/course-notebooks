{
 "cells": [
  {
   "cell_type": "markdown",
   "id": "6b14e987",
   "metadata": {},
   "source": [
    "# <u>Welcome to the M550 Python Module</u>"
   ]
  },
  {
   "cell_type": "markdown",
   "id": "276fb12f",
   "metadata": {},
   "source": [
    "## The course\n",
    "\n",
    "This course is an introduction to python programming for statistics and data science. Since it is an introductory course it does not cover every aspect of the python programming system. \n",
    "\n",
    "Initially, the course focuses on data manipulation and analysis with Python. This is then followed with an overview of the main parts of the Python programming language, which is then is used to create some example \"scientific work flows\".  \n",
    "\n",
    "The material is presented using jupyter notebooks and jupyter book. You can learn more about jupyter [here](https://jupyter-notebook.readthedocs.io/en/stable/).\n",
    "\n",
    "The approach to teaching is hands on. You are expected to try as many exercises as you can. The jupyter notebooks for the course can be downloaded and extended with your own notes, examples, and ideas."
   ]
  },
  {
   "cell_type": "markdown",
   "id": "a442416e",
   "metadata": {},
   "source": [
    "## Course contacts\n",
    "\n",
    "[Daniel Grose](mailto:dan.grose@lancaster.ac.uk) - Lecturer"
   ]
  },
  {
   "cell_type": "markdown",
   "id": "60666c97",
   "metadata": {},
   "source": [
    "## Sessions\n",
    "\n",
    "- Weeks 2, 3, and 4\n",
    "- Room Fylde C17\n",
    "- 09:00 - 11:00"
   ]
  },
  {
   "cell_type": "markdown",
   "id": "dfc528cb",
   "metadata": {},
   "source": [
    "## Assessment\n",
    "- One piece of assessed work\n",
    "- Assessment undertaken in small groups (3-4 per group)\n",
    "- Marks for both individual and group contributions\n",
    "- Issued in session 3 (01/11/2022)\n",
    "- Due two weeks later (15/11/2021)\n",
    "- Submitted as jupyter notebooks (one per individual and one for the group)\n",
    "- Counts 30% of the overall assessment for M550"
   ]
  },
  {
   "cell_type": "markdown",
   "id": "f73b7d5f",
   "metadata": {},
   "source": [
    "## Approach to learning\n",
    "- Single jupyter book for course notes\n",
    "- Course notes designed to accompany the sessions\n",
    "- Each chapter is a jupyter notebook\n",
    "- Each notebook can be downloaded and annotated by you\n",
    "- Course notes have lots of examples and exercises"
   ]
  },
  {
   "cell_type": "markdown",
   "id": "4f23c285",
   "metadata": {},
   "source": [
    "## Why Python ?\n",
    "- Easy to learn\n",
    "- Versatile\n",
    "- Syntax is easy to read\n",
    "- Lots of open source libraries\n",
    "- Used for more than statistics and data science\n",
    "- Easy to integrate into larger systems"
   ]
  },
  {
   "cell_type": "markdown",
   "id": "d4e9306c",
   "metadata": {},
   "source": [
    "## Outcomes"
   ]
  },
  {
   "cell_type": "markdown",
   "id": "9b35d05c",
   "metadata": {},
   "source": [
    "### Session 1 - Using Python for data manipulation and analysis\n",
    "\n",
    "- Installing jupyter\n",
    "- Using jupyter\n",
    "- Manipulating Data using __pandas__\n",
    "- Modelling data using __statsmodels__\n",
    "- Hypothesis testing using __scipy__\n",
    "- Simulation using __numpy__\n"
   ]
  },
  {
   "cell_type": "markdown",
   "id": "f7a565ce",
   "metadata": {},
   "source": [
    "### Session 2 - Basic Python programming\n",
    "- Variables and expressions\n",
    "- Functions\n",
    "- Lists\n",
    "- if, elif, and else\n",
    "- for, while\n",
    "- Tuples\n",
    "- Dictionaries"
   ]
  },
  {
   "cell_type": "markdown",
   "id": "2c99990e",
   "metadata": {},
   "source": [
    "### Session 3 - Automating data manipulation and analysis with Python\n",
    "\n",
    "- Building work flows\n",
    "- Useful python modules for data science\n",
    "- Details and overview of the assessment\n"
   ]
  }
 ],
 "metadata": {
  "kernelspec": {
   "display_name": "Python 3 (ipykernel)",
   "language": "python",
   "name": "python3"
  },
  "language_info": {
   "codemirror_mode": {
    "name": "ipython",
    "version": 3
   },
   "file_extension": ".py",
   "mimetype": "text/x-python",
   "name": "python",
   "nbconvert_exporter": "python",
   "pygments_lexer": "ipython3",
   "version": "3.9.9"
  }
 },
 "nbformat": 4,
 "nbformat_minor": 5
}
