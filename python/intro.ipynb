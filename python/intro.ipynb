{
 "cells": [
  {
   "cell_type": "markdown",
   "id": "6b14e987",
   "metadata": {},
   "source": [
    "# <u>Welcome to the STOR-601 Introductory Python Module</u>"
   ]
  },
  {
   "cell_type": "markdown",
   "id": "64f27ba0-77dc-484a-ab41-85bd6138fd72",
   "metadata": {},
   "source": [
    "## What is it ?\n",
    "\n",
    "This course is an introduction to python programming for statistics and data science. Since it is an introductory course it does not cover every aspect of the python programming system. "
   ]
  },
  {
   "cell_type": "markdown",
   "id": "cddc6e59-7f6f-4187-bb9a-895ea6e4fbad",
   "metadata": {},
   "source": [
    "## Why are we doing it ?\n",
    "\n",
    "It is designed to provide you with sufficient knowledge and ability to access the python material used for the STOR-601 modules and is a pre-requisite for studying STOR-609 in term 2. "
   ]
  },
  {
   "cell_type": "markdown",
   "id": "e866b85d-e139-432b-bfa5-5a474c686030",
   "metadata": {
    "jp-MarkdownHeadingCollapsed": true
   },
   "source": [
    "## How does the course work ?\n",
    "\n",
    "The material is presented using jupyter notebooks and jupyter book. You can learn more about jupyter [here](https://jupyter-notebook.readthedocs.io/en/stable/)\n"
   ]
  },
  {
   "cell_type": "markdown",
   "id": "42a5ccac-9e81-4da7-bf3c-18d39c326f2f",
   "metadata": {},
   "source": [
    "## What course materials are there ? \n",
    "\n",
    "- Single jupyter book for course notes\n",
    "- Course notes designed to accompany the sessions\n",
    "- Each chapter is a jupyter notebook\n",
    "- Each notebook can be downloaded and annotated by you\n",
    "- Course notes have lots of examples and exercises"
   ]
  },
  {
   "cell_type": "markdown",
   "id": "4bc641a9-622b-4a96-8259-2ce4eee6ef64",
   "metadata": {},
   "source": [
    "## Course prerequisites\n",
    "\n",
    "- Some experience of programming but not necessarily using python.\n",
    "- A STOR-i laptop capable of running python (version 3.12.0 or better), jupyter notebook, and spyder.\n",
    "- Access to the [course notes and materials](http://www.mathsbox.com/introductory-python/intro.html)"
   ]
  },
  {
   "cell_type": "markdown",
   "id": "e99b827a-6cd0-4e7c-b2b2-a36a2d15eb06",
   "metadata": {},
   "source": [
    "## Why Python ?\n",
    "\n",
    "- Easy to learn\n",
    "- Versatile\n",
    "- Syntax is easy to read\n",
    "- Lots of open source libraries\n",
    "- Used for more than statistics and data science\n",
    "- Easy to integrate into larger systems"
   ]
  },
  {
   "cell_type": "markdown",
   "id": "67147f5b-0820-48cb-a820-957cbcc7af1c",
   "metadata": {},
   "source": [
    "## Why not Python ?\n",
    "\n",
    "- Dynamically typed\n",
    "- Few and poor compilers\n",
    "- Very easy to introduce subtle design errors"
   ]
  },
  {
   "cell_type": "markdown",
   "id": "24354da9-6e85-4ad8-b1ed-2fb436d5c30f",
   "metadata": {},
   "source": [
    "## Outcomes\n",
    "\n",
    "After studying this course you should have a basic working knowledge of, and the ability to program python using \n",
    "\n",
    "- basic data types\n",
    "- lists\n",
    "- functions\n",
    "- conditional expressions\n",
    "- iteration\n",
    "- tuples\n",
    "- dictionaries\n",
    "- sets, sorted lists, deques\n",
    "- classes"
   ]
  },
  {
   "cell_type": "markdown",
   "id": "a442416e",
   "metadata": {},
   "source": [
    "## Course contact\n",
    "\n",
    "[Jamie Fairbrother](mailto:j.fairbrother@lancaster.ac.uk) - Lecturer \\\n",
    "[Daniel Grose](mailto:dan.grose@lancaster.ac.uk) - Research Fellow\n"
   ]
  },
  {
   "cell_type": "markdown",
   "id": "60666c97",
   "metadata": {},
   "source": [
    "## Sessions\n",
    "\n",
    "- __Session 1__\n",
    "    - Monday 29/09/2025\n",
    "    - PSC Lab 1\n",
    "    - 15:30 - 17:00\n",
    "- __Session 2__\n",
    "    - Tuesday 30/09/2025\n",
    "    - PSC Lab 1\n",
    "    - 11:30 - 12:30\n",
    "-  __Session 3__\n",
    "    - Tuesday 30/09/2025\n",
    "    - PSC Lab 1\n",
    "    - 15:30 - 17:00\n",
    "- __Session 4__\n",
    "    - Wednesday 01/10/2025\n",
    "    - PSC Lab 1\n",
    "    - 10:45 - 12:45\n",
    "\n"
   ]
  }
 ],
 "metadata": {
  "kernelspec": {
   "display_name": "Python 3 (ipykernel)",
   "language": "python",
   "name": "python3"
  },
  "language_info": {
   "codemirror_mode": {
    "name": "ipython",
    "version": 3
   },
   "file_extension": ".py",
   "mimetype": "text/x-python",
   "name": "python",
   "nbconvert_exporter": "python",
   "pygments_lexer": "ipython3",
   "version": "3.11.4"
  }
 },
 "nbformat": 4,
 "nbformat_minor": 5
}
