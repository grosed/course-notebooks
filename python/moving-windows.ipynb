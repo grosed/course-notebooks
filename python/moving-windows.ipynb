{
 "cells": [
  {
   "cell_type": "markdown",
   "id": "e16fb650",
   "metadata": {},
   "source": [
    "# Moving windows"
   ]
  },
  {
   "cell_type": "markdown",
   "id": "5d228fa9",
   "metadata": {},
   "source": [
    "Calculating a statistic or processing data in a moving window has many applications. What is a \"moving\" or \"sliding\" window in the context of data analysis ?"
   ]
  },
  {
   "cell_type": "markdown",
   "id": "5ed3fd82",
   "metadata": {
    "tags": [
     "hide-output"
    ]
   },
   "source": [
    "The main idea of a moving window is to compute statistics\n",
    "in the vicinity of a given data sample by defining a **window** which\n",
    "includes the sample itself as well as some specified number of samples\n",
    "before and after the sample in question. \n",
    "\n",
    "For a sample $x_i$, we define a window $W_i^{H,J}$ as\n",
    "$W_i^{H,J} = \\left\\{ x_{i-H}, \\dots, x_i, \\dots, x_{i+J} \\right\\}$\n",
    "\n",
    "\n",
    "The parameters $H$ and $J$ are non-negative integers specifying\n",
    "the number of samples to include before and after the sample $x_i$.\n",
    "\n",
    "\n",
    "Statistics such as the mean and standard deviation of the window $W_i^{H,J}$\n",
    "may be computed, and then the window is shifted forward by one sample to\n",
    "focus on $x_{i+1}$. \n",
    "\n",
    "The total number of samples in the window is\n",
    "$K = H + J + 1$. \n",
    "\n",
    "To define a symmetric window centered on $x_i$,\n",
    "one would set $H = J = \\left\\lfloor K / 2 \\right\\rfloor$.\n"
   ]
  },
  {
   "cell_type": "markdown",
   "id": "8c670392",
   "metadata": {},
   "source": [
    "### Exercise 1\n",
    "\n",
    "Give some examples of how moving windows might be relevant in statistics.\n"
   ]
  },
  {
   "cell_type": "markdown",
   "id": "718f967a",
   "metadata": {},
   "source": [
    "### Exercise 2\n",
    "\n",
    "Generate a list of random numbers of length n and calculate a \"moving\" mean of length k over the data.\n",
    "You might find the Appendix entry on \"list slicing\" useful."
   ]
  },
  {
   "cell_type": "markdown",
   "id": "044c62c8",
   "metadata": {},
   "source": [
    "### Exercise 3\n",
    "\n",
    "Same as 2 but calculate the maximum (or minimum). You can use functions provided by python if you wish.\n"
   ]
  },
  {
   "cell_type": "markdown",
   "id": "4fe03c75",
   "metadata": {},
   "source": [
    "### Exercise 4\n",
    "\n",
    "Same as 3, but calculate the median. "
   ]
  },
  {
   "cell_type": "markdown",
   "id": "b8d4f831",
   "metadata": {},
   "source": [
    "## Random variables with Numpy"
   ]
  },
  {
   "cell_type": "markdown",
   "id": "d52e6e97",
   "metadata": {},
   "source": [
    "The **numpy** library provides some functions for generating random variables from distributions that are not \n",
    "available in the random module. Here is an example."
   ]
  },
  {
   "cell_type": "code",
   "execution_count": 3,
   "id": "f0106f98",
   "metadata": {},
   "outputs": [
    {
     "data": {
      "text/plain": [
       "0"
      ]
     },
     "execution_count": 3,
     "metadata": {},
     "output_type": "execute_result"
    }
   ],
   "source": [
    "from numpy.random import poisson\n",
    "poisson(lam=1.0, size=None)"
   ]
  },
  {
   "cell_type": "markdown",
   "id": "73a5e84a",
   "metadata": {},
   "source": [
    "### Exercise 5\n",
    "\n",
    "Have a look at the section \"Other 2D plot styles\" in tha matplotlib chapter and plot a histogram of data drawn from\n",
    "a poisson distribution using **numpy**"
   ]
  },
  {
   "cell_type": "markdown",
   "id": "5e211bcc",
   "metadata": {},
   "source": [
    "### Exercise 6\n",
    "\n",
    "Use numpy to generate a list of random numbers drawn from the exponential distribution."
   ]
  },
  {
   "cell_type": "markdown",
   "id": "ca8024a8",
   "metadata": {},
   "source": [
    "### Exercise 7\n",
    "\n",
    "Create a random sequence of uniformly distributed values in $[0,1]$ augmented with added noise that produces outliers\n",
    "with probability 0.05 that have a magnitude that is exponentialy distributed. Plot some examples of such seqences\n",
    "with different parameters usng matplotlib."
   ]
  },
  {
   "cell_type": "markdown",
   "id": "3b0fa11e",
   "metadata": {},
   "source": [
    "### Exercise 8\n",
    "\n",
    "Use your solutions to exercises 2, 3 and 4 to plot the moving mean, median, minimum and maximum using your \n",
    "data from 7."
   ]
  },
  {
   "cell_type": "markdown",
   "id": "17ae590e",
   "metadata": {},
   "source": [
    "## More on moving windows"
   ]
  },
  {
   "cell_type": "markdown",
   "id": "d5d4f715",
   "metadata": {},
   "source": [
    "How do you account for the data at the ends of a moving window ? There are several ways of doing this, but two commonly used (and simple)\n",
    "methods are:"
   ]
  },
  {
   "cell_type": "markdown",
   "id": "e7973438",
   "metadata": {},
   "source": [
    "### Padding"
   ]
  },
  {
   "cell_type": "markdown",
   "id": "10ef299a",
   "metadata": {},
   "source": [
    "**Pad Zero** constructs a full window of length $K$ \n",
    "      by inserting zeros into the window near the signal end points. Effectively,\n",
    "      the input signal is modified to\n",
    "      \n",
    "      \n",
    "$\\tilde{x} = \\{ \\underbrace{0, \\dots, 0}_{H \\textrm{ zeros}}, x_1, x_2, \\dots, x_{n-1}, x_n, \\underbrace{0, \\dots, 0}_{J \\textrm{ zeros} } \\}$\n",
    "\n",
    "\n",
    "to ensure a well-defined window for all $x_i$."
   ]
  },
  {
   "cell_type": "markdown",
   "id": "f8543564",
   "metadata": {},
   "source": [
    "**Pad Value** constructs a full window of length $K$  \n",
    "by padding the window with the first and last sample in the input signal.\n",
    "Effectively, the input signal is modified to\n",
    "\n",
    "$\\tilde{x} = \\{ \\underbrace{x_1, \\dots, x_1}_{H}, x_1, x_2, \\dots, x_{n-1}, x_n, \\underbrace{x_n, \\dots, x_n}_{J} \\}$\n",
    "\n"
   ]
  },
  {
   "cell_type": "markdown",
   "id": "ca995ac9",
   "metadata": {},
   "source": [
    "## Assessment\n",
    "\n",
    "a) Write methods for calculating the following statistics on a moving window of length $K$\n",
    "\n",
    "i) max [3]\n",
    "\n",
    "ii) min [3]\n",
    "\n",
    "iii) mean [3]\n",
    "\n",
    "iv) median [3]\n",
    "\n",
    "v) standard deviation [3]\n",
    "\n",
    "vi) median absolute deviation [6]\n",
    "\n",
    "You functions should take a list as an argument and return a list and can use any standard python functions (such as **min**) if you wish. However, you can _**only**_ use the types of data structures described in the Appendix\n",
    "i.e. lists, strings, tuples, dictionaries, and sets. You can also use the array data structure from the **numpy** library if you wish.\n",
    "\n",
    "\n",
    "b) Augment your methods from part a) to implement padding using \n",
    "\n",
    "i) pad zero [3]\n",
    "\n",
    "ii) pad value [3]\n",
    "\n",
    "\n",
    "c) Generate some random sequences (of your choice) that include \"outliers\" and use them to visualise\n",
    "your methods developed in parts a) and 2b) with matplotlib. Use at least two distributions from the numpy package. Marks will be awarded for creativity both with respect to the structure of the data and the features in \n",
    "the plots. [10]\n",
    "\n",
    "\n",
    "d) In terms of $K$ (i.e not considering the length of the data $N$) determine the worst case complexity for each \n",
    "of your methods from part a). You should quote the complexity using \"Big O\" notation. Justify your answers \n",
    "using timing data produced using your methods and summarise this data graphically. Make sure you account\n",
    "for variation in the run time due to the structure of the data and random fluctuations in the avaialibity\n",
    "of CPU allocation on your computer system. [15]"
   ]
  }
 ],
 "metadata": {
  "celltoolbar": "Edit Metadata",
  "kernelspec": {
   "display_name": "Python 3 (ipykernel)",
   "language": "python",
   "name": "python3"
  },
  "language_info": {
   "codemirror_mode": {
    "name": "ipython",
    "version": 3
   },
   "file_extension": ".py",
   "mimetype": "text/x-python",
   "name": "python",
   "nbconvert_exporter": "python",
   "pygments_lexer": "ipython3",
   "version": "3.9.9"
  }
 },
 "nbformat": 4,
 "nbformat_minor": 5
}
