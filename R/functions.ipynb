{
 "cells": [
  {
   "cell_type": "markdown",
   "metadata": {},
   "source": [
    "# Functions"
   ]
  },
  {
   "cell_type": "markdown",
   "metadata": {},
   "source": [
    "## Using functions"
   ]
  },
  {
   "cell_type": "markdown",
   "metadata": {},
   "source": [
    "R comes with many many functions, and an ever growing and readily available collection of packages extends this number even further. You can get information on a function by using the __help__ function. You can also see the _\"code\"_ of the function."
   ]
  },
  {
   "cell_type": "markdown",
   "metadata": {},
   "source": [
    "### <u>Example 1</u> - Viewing a functions code using the functions name\n",
    "\n",
    "The function code for the __ls__ (list) function can just be printed using __print__."
   ]
  },
  {
   "cell_type": "code",
   "execution_count": 1,
   "metadata": {},
   "outputs": [
    {
     "name": "stdout",
     "output_type": "stream",
     "text": [
      "function (name, pos = -1L, envir = as.environment(pos), all.names = FALSE, \n",
      "    pattern, sorted = TRUE) \n",
      "{\n",
      "    if (!missing(name)) {\n",
      "        pos <- tryCatch(name, error = function(e) e)\n",
      "        if (inherits(pos, \"error\")) {\n",
      "            name <- substitute(name)\n",
      "            if (!is.character(name)) \n",
      "                name <- deparse(name)\n",
      "            warning(gettextf(\"%s converted to character string\", \n",
      "                sQuote(name)), domain = NA)\n",
      "            pos <- name\n",
      "        }\n",
      "    }\n",
      "    all.names <- .Internal(ls(envir, all.names, sorted))\n",
      "    if (!missing(pattern)) {\n",
      "        if ((ll <- length(grep(\"[\", pattern, fixed = TRUE))) && \n",
      "            ll != length(grep(\"]\", pattern, fixed = TRUE))) {\n",
      "            if (pattern == \"[\") {\n",
      "                pattern <- \"\\\\[\"\n",
      "                warning(\"replaced regular expression pattern '[' by  '\\\\\\\\['\")\n",
      "            }\n",
      "            else if (length(grep(\"[^\\\\\\\\]\\\\[<-\", pattern))) {\n",
      "                pattern <- sub(\"\\\\[<-\", \"\\\\\\\\\\\\[<-\", pattern)\n",
      "                warning(\"replaced '[<-' by '\\\\\\\\[<-' in regular expression pattern\")\n",
      "            }\n",
      "        }\n",
      "        grep(pattern, all.names, value = TRUE)\n",
      "    }\n",
      "    else all.names\n",
      "}\n",
      "<bytecode: 0x563ba164c570>\n",
      "<environment: namespace:base>\n"
     ]
    }
   ],
   "source": [
    "print(ls)"
   ]
  },
  {
   "cell_type": "markdown",
   "metadata": {},
   "source": [
    "### <u>Example 2</u> - Viewing a functions code using __page__\n",
    "\n",
    "A similar effect can be achieved using the __page__ function."
   ]
  },
  {
   "cell_type": "code",
   "execution_count": 2,
   "metadata": {},
   "outputs": [],
   "source": [
    "page(ls)"
   ]
  },
  {
   "cell_type": "markdown",
   "metadata": {},
   "source": [
    "A function can be _\"called\"_ in several ways. "
   ]
  },
  {
   "cell_type": "markdown",
   "metadata": {},
   "source": [
    "### <u>Example 3</u> - Calling a function\n",
    "\n",
    "Functions are usually just called using there name along with appropriate comma seperated arguments in parenthesis _i.e_ __()__. "
   ]
  },
  {
   "cell_type": "code",
   "execution_count": 3,
   "metadata": {},
   "outputs": [
    {
     "data": {
      "text/html": [
       "0.909297426825682"
      ],
      "text/latex": [
       "0.909297426825682"
      ],
      "text/markdown": [
       "0.909297426825682"
      ],
      "text/plain": [
       "[1] 0.9092974"
      ]
     },
     "metadata": {},
     "output_type": "display_data"
    }
   ],
   "source": [
    "x<-2\n",
    "sin(x)"
   ]
  },
  {
   "cell_type": "markdown",
   "metadata": {},
   "source": [
    "### <u>Example 4</u> - Calling a function using \" \"\n",
    "\n",
    "A function can be also called by quoting its name. This is only usually seen in conjunction with functional programming techniques or occasional to change the format for using binary operators, such as __+__ and __*__. "
   ]
  },
  {
   "cell_type": "code",
   "execution_count": 4,
   "metadata": {},
   "outputs": [
    {
     "data": {
      "text/html": [
       "0.909297426825682"
      ],
      "text/latex": [
       "0.909297426825682"
      ],
      "text/markdown": [
       "0.909297426825682"
      ],
      "text/plain": [
       "[1] 0.9092974"
      ]
     },
     "metadata": {},
     "output_type": "display_data"
    }
   ],
   "source": [
    "\"sin\"(x)"
   ]
  },
  {
   "cell_type": "markdown",
   "metadata": {},
   "source": [
    "Note - almost everything in R is a __variable__ or a __function__. Don't believe me ?"
   ]
  },
  {
   "cell_type": "markdown",
   "metadata": {},
   "source": [
    "### <u>Example 5</u> - Calling binary operators using \" \""
   ]
  },
  {
   "cell_type": "code",
   "execution_count": 5,
   "metadata": {},
   "outputs": [
    {
     "name": "stdout",
     "output_type": "stream",
     "text": [
      "[1] 3.14\n",
      "[1] 2.17\n"
     ]
    }
   ],
   "source": [
    "\"<-\"(x,3.14)\n",
    "print(x)\n",
    "\"=\"(x,2.17)\n",
    "print(x)"
   ]
  },
  {
   "cell_type": "markdown",
   "metadata": {},
   "source": [
    "### <u>Example 6</u> - All operators are functions."
   ]
  },
  {
   "cell_type": "code",
   "execution_count": 6,
   "metadata": {},
   "outputs": [
    {
     "data": {
      "text/html": [
       "3"
      ],
      "text/latex": [
       "3"
      ],
      "text/markdown": [
       "3"
      ],
      "text/plain": [
       "[1] 3"
      ]
     },
     "metadata": {},
     "output_type": "display_data"
    }
   ],
   "source": [
    "X<-c(1,2,3,4)\n",
    "\"[\"(X,3)"
   ]
  },
  {
   "cell_type": "markdown",
   "metadata": {},
   "source": [
    "### <u>Example 7</u> - __help__ is a function"
   ]
  },
  {
   "cell_type": "code",
   "execution_count": 7,
   "metadata": {},
   "outputs": [],
   "source": [
    "\"help\"(help)"
   ]
  },
  {
   "cell_type": "markdown",
   "metadata": {},
   "source": [
    "## Creating your own functions"
   ]
  },
  {
   "cell_type": "markdown",
   "metadata": {},
   "source": [
    "Of course, you can create your own functions. The general structure of an R function definition is"
   ]
  },
  {
   "cell_type": "markdown",
   "metadata": {},
   "source": [
    "    function(arguments)\n",
    "        {\n",
    "           statements\n",
    "           return(statement)\n",
    "        }"
   ]
  },
  {
   "cell_type": "markdown",
   "metadata": {},
   "source": [
    "where __arguments__ is a comma separated list of argument names that can be used in the __statements__ that make up the definition of the function, and statement is a valid R expression. \n",
    "\n",
    "A __function__ definition can be assigned to a __variable__ and the function used through using the variable."
   ]
  },
  {
   "cell_type": "markdown",
   "metadata": {},
   "source": [
    "### <u>Example 8</u> - A simple function definition"
   ]
  },
  {
   "cell_type": "code",
   "execution_count": 8,
   "metadata": {},
   "outputs": [
    {
     "data": {
      "text/html": [
       "12"
      ],
      "text/latex": [
       "12"
      ],
      "text/markdown": [
       "12"
      ],
      "text/plain": [
       "[1] 12"
      ]
     },
     "metadata": {},
     "output_type": "display_data"
    }
   ],
   "source": [
    "add<-function(x,y)\n",
    "    {\n",
    "      z <- x+y\n",
    "      return(z)\n",
    "    }\n",
    "\n",
    "add(5,7)"
   ]
  },
  {
   "cell_type": "markdown",
   "metadata": {},
   "source": [
    "However, functions can be used __anonymously__."
   ]
  },
  {
   "cell_type": "markdown",
   "metadata": {},
   "source": [
    "### <u>Example 9</u> - An __anonymous__ function"
   ]
  },
  {
   "cell_type": "code",
   "execution_count": 9,
   "metadata": {},
   "outputs": [
    {
     "data": {
      "text/html": [
       "9"
      ],
      "text/latex": [
       "9"
      ],
      "text/markdown": [
       "9"
      ],
      "text/plain": [
       "[1] 9"
      ]
     },
     "metadata": {},
     "output_type": "display_data"
    }
   ],
   "source": [
    "(function(x,y) { return(x+y) })(4,5)"
   ]
  },
  {
   "cell_type": "markdown",
   "metadata": {},
   "source": [
    "This __anonymous__ style of function definition is useful in conjunction with __Map__ and __Reduce__, as will be seen later.\n",
    "\n",
    "A function does not have to have a __return__ statement. If it does not, value of the last R expression to be evaluated is _returned_ by the function."
   ]
  },
  {
   "cell_type": "markdown",
   "metadata": {},
   "source": [
    "### <u>Example 10</u> - Implicit __return__"
   ]
  },
  {
   "cell_type": "code",
   "execution_count": 10,
   "metadata": {},
   "outputs": [
    {
     "data": {
      "text/html": [
       "15"
      ],
      "text/latex": [
       "15"
      ],
      "text/markdown": [
       "15"
      ],
      "text/plain": [
       "[1] 15"
      ]
     },
     "metadata": {},
     "output_type": "display_data"
    }
   ],
   "source": [
    "add<-function(x,y)\n",
    "    {\n",
    "      x+y\n",
    "    }\n",
    "\n",
    "add(6,9)"
   ]
  },
  {
   "cell_type": "markdown",
   "metadata": {},
   "source": [
    "Nor do all functions have to have a pair of {}s."
   ]
  },
  {
   "cell_type": "markdown",
   "metadata": {},
   "source": [
    "### <u>Example 11</u> - No {}s"
   ]
  },
  {
   "cell_type": "code",
   "execution_count": 11,
   "metadata": {},
   "outputs": [
    {
     "data": {
      "text/html": [
       "14"
      ],
      "text/latex": [
       "14"
      ],
      "text/markdown": [
       "14"
      ],
      "text/plain": [
       "[1] 14"
      ]
     },
     "metadata": {},
     "output_type": "display_data"
    }
   ],
   "source": [
    "add<-function(x,y) x+y\n",
    "\n",
    "add(12,2)"
   ]
  },
  {
   "cell_type": "markdown",
   "metadata": {},
   "source": [
    "However, using a __return__ statement and {}s makes the intent of your code much clearer.\n",
    "\n",
    "A function can have an __anonymous__ variable, which can be useful in __anomynous__ functions."
   ]
  },
  {
   "cell_type": "markdown",
   "metadata": {},
   "source": [
    "### <u>Example 12</u> - __anonymous__ variable"
   ]
  },
  {
   "cell_type": "code",
   "execution_count": 12,
   "metadata": {},
   "outputs": [
    {
     "data": {
      "text/html": [
       "1.8414709848079"
      ],
      "text/latex": [
       "1.8414709848079"
      ],
      "text/markdown": [
       "1.8414709848079"
      ],
      "text/plain": [
       "[1] 1.841471"
      ]
     },
     "metadata": {},
     "output_type": "display_data"
    }
   ],
   "source": [
    "f<-function(.)\n",
    "    {\n",
    "       return(sin(.) + .)\n",
    "    }\n",
    "\n",
    "f(1)\n"
   ]
  },
  {
   "cell_type": "markdown",
   "metadata": {},
   "source": [
    "## Default argument values"
   ]
  },
  {
   "cell_type": "markdown",
   "metadata": {},
   "source": [
    "Function arguments can have default values."
   ]
  },
  {
   "cell_type": "markdown",
   "metadata": {},
   "source": [
    "### <u>Example 13</u> - Default arguments"
   ]
  },
  {
   "cell_type": "code",
   "execution_count": 13,
   "metadata": {},
   "outputs": [
    {
     "data": {
      "text/html": [
       "14"
      ],
      "text/latex": [
       "14"
      ],
      "text/markdown": [
       "14"
      ],
      "text/plain": [
       "[1] 14"
      ]
     },
     "metadata": {},
     "output_type": "display_data"
    }
   ],
   "source": [
    "f<-function(x,y,z=2)\n",
    "    {\n",
    "       return(x+2*y+3*z)\n",
    "    }\n",
    "\n",
    "f(2,3)"
   ]
  },
  {
   "cell_type": "markdown",
   "metadata": {},
   "source": [
    "And arguments can be _explicitly assigned_. This can make your code quite clear."
   ]
  },
  {
   "cell_type": "code",
   "execution_count": 14,
   "metadata": {},
   "outputs": [
    {
     "data": {
      "text/html": [
       "29"
      ],
      "text/latex": [
       "29"
      ],
      "text/markdown": [
       "29"
      ],
      "text/plain": [
       "[1] 29"
      ]
     },
     "metadata": {},
     "output_type": "display_data"
    }
   ],
   "source": [
    "f(x=2,y=3,z=7)"
   ]
  },
  {
   "cell_type": "markdown",
   "metadata": {},
   "source": [
    "And means that you can swap the order."
   ]
  },
  {
   "cell_type": "code",
   "execution_count": 20,
   "metadata": {},
   "outputs": [
    {
     "data": {
      "text/html": [
       "29"
      ],
      "text/latex": [
       "29"
      ],
      "text/markdown": [
       "29"
      ],
      "text/plain": [
       "[1] 29"
      ]
     },
     "metadata": {},
     "output_type": "display_data"
    }
   ],
   "source": [
    "f(y=3,z=7,x=2)"
   ]
  },
  {
   "cell_type": "markdown",
   "metadata": {},
   "source": [
    "But be careful !!"
   ]
  },
  {
   "cell_type": "code",
   "execution_count": 21,
   "metadata": {},
   "outputs": [],
   "source": [
    "f<-function(x=3,y,z=2)\n",
    "    {\n",
    "       return(x+2*y+3*z)\n",
    "    }"
   ]
  },
  {
   "cell_type": "markdown",
   "metadata": {
    "tags": [
     "hide-output"
    ]
   },
   "source": [
    "### <u>Exercise 1</u>\n",
    "What do you expect the output of the following code examples to be ?"
   ]
  },
  {
   "cell_type": "code",
   "execution_count": 17,
   "metadata": {
    "tags": [
     "hide-output"
    ]
   },
   "outputs": [
    {
     "data": {
      "text/html": [
       "13"
      ],
      "text/latex": [
       "13"
      ],
      "text/markdown": [
       "13"
      ],
      "text/plain": [
       "[1] 13"
      ]
     },
     "metadata": {},
     "output_type": "display_data"
    }
   ],
   "source": [
    "f(y=2)"
   ]
  },
  {
   "cell_type": "code",
   "execution_count": 22,
   "metadata": {
    "tags": [
     "hide-output"
    ]
   },
   "outputs": [
    {
     "ename": "ERROR",
     "evalue": "Error in f(2): argument \"y\" is missing, with no default\n",
     "output_type": "error",
     "traceback": [
      "Error in f(2): argument \"y\" is missing, with no default\nTraceback:\n",
      "1. f(2)"
     ]
    }
   ],
   "source": [
    "f(2)"
   ]
  },
  {
   "cell_type": "code",
   "execution_count": 23,
   "metadata": {
    "tags": [
     "hide-output"
    ]
   },
   "outputs": [
    {
     "data": {
      "text/html": [
       "32"
      ],
      "text/latex": [
       "32"
      ],
      "text/markdown": [
       "32"
      ],
      "text/plain": [
       "[1] 32"
      ]
     },
     "metadata": {},
     "output_type": "display_data"
    }
   ],
   "source": [
    "f(z=6,4,5)"
   ]
  },
  {
   "cell_type": "markdown",
   "metadata": {},
   "source": [
    "## Higher Order Functions"
   ]
  },
  {
   "cell_type": "markdown",
   "metadata": {},
   "source": [
    "Functions can take functions as arguments. When they do, they are some times referred to as _higher order functions_."
   ]
  },
  {
   "cell_type": "markdown",
   "metadata": {},
   "source": [
    "### <u>Exercise 2</u>\n",
    "\n",
    "What will the following code do ?"
   ]
  },
  {
   "cell_type": "code",
   "execution_count": 24,
   "metadata": {
    "tags": [
     "hide-output"
    ]
   },
   "outputs": [
    {
     "data": {
      "text/html": [
       "-0.958924274663138"
      ],
      "text/latex": [
       "-0.958924274663138"
      ],
      "text/markdown": [
       "-0.958924274663138"
      ],
      "text/plain": [
       "[1] -0.9589243"
      ]
     },
     "metadata": {},
     "output_type": "display_data"
    }
   ],
   "source": [
    "g<-function(f)\n",
    "    {\n",
    "       return(f(5))\n",
    "    }\n",
    "\n",
    "g(sin)"
   ]
  },
  {
   "cell_type": "markdown",
   "metadata": {},
   "source": [
    "Functions can also return functions that are defined within another function. Functions that do this are often referred to as __closures__."
   ]
  },
  {
   "cell_type": "markdown",
   "metadata": {},
   "source": [
    "### <u>Exercise 3</u>\n",
    "\n",
    "What will the following code do ?"
   ]
  },
  {
   "cell_type": "code",
   "execution_count": 25,
   "metadata": {
    "tags": [
     "hide-output"
    ]
   },
   "outputs": [
    {
     "name": "stdout",
     "output_type": "stream",
     "text": [
      "function(y)\n",
      "           {\n",
      "              return(x+2*y)\n",
      "           }\n",
      "<environment: 0x563ba523fbc8>\n",
      "[1] 13\n"
     ]
    }
   ],
   "source": [
    "h<-function(x)\n",
    "    {\n",
    "       g<-function(y)\n",
    "           {\n",
    "              return(x+2*y)\n",
    "           }\n",
    "       return(g)\n",
    "    }\n",
    "\n",
    "a<-h(3)\n",
    "print(a)\n",
    "\n",
    "print(a(5))"
   ]
  },
  {
   "cell_type": "markdown",
   "metadata": {},
   "source": [
    "### <u>Exercise 4</u> \n",
    "\n",
    "Can you think of any use cases for closures ?\n"
   ]
  },
  {
   "cell_type": "markdown",
   "metadata": {},
   "source": [
    "### <u>Example 13</u> - Closures"
   ]
  },
  {
   "cell_type": "markdown",
   "metadata": {},
   "source": [
    "You can be quite terse with closures. The following is equivalent to the function in exercise 3."
   ]
  },
  {
   "cell_type": "code",
   "execution_count": 26,
   "metadata": {},
   "outputs": [],
   "source": [
    "h <- function(x) function(y) x + 2*y"
   ]
  },
  {
   "cell_type": "markdown",
   "metadata": {},
   "source": [
    "Using __anonymous__ functions with __Map__ and __Reduce__ can be very expressive of your codes intent, because puts everything on one line."
   ]
  },
  {
   "cell_type": "markdown",
   "metadata": {},
   "source": [
    "### <u>Example 14</u> Anonymous functions with __Map__ and __Reduce__"
   ]
  },
  {
   "cell_type": "code",
   "execution_count": 27,
   "metadata": {},
   "outputs": [
    {
     "name": "stdout",
     "output_type": "stream",
     "text": [
      "[[1]]\n",
      "[1] 1.408795\n",
      "\n",
      "[[2]]\n",
      "[1] 2.829638\n",
      "\n",
      "[[3]]\n",
      "[1] 1.648925\n",
      "\n",
      "[[4]]\n",
      "[1] -1.047803\n",
      "\n"
     ]
    }
   ],
   "source": [
    "X<-list(1,2,3,4)\n",
    "Y<-list(5,6,7,8)\n",
    "Z<-Map(function(x,y) sin(x)+2*cos(y),X,Y)\n",
    "print(Z)"
   ]
  },
  {
   "cell_type": "markdown",
   "metadata": {},
   "source": [
    "### <u>Exercise 5</u>\n",
    "\n",
    "Write some example code that uses anonymous functions with Map and Reduce combined together in one expression."
   ]
  },
  {
   "cell_type": "code",
   "execution_count": 28,
   "metadata": {
    "tags": [
     "hide-output",
     "hide-input"
    ]
   },
   "outputs": [
    {
     "name": "stdout",
     "output_type": "stream",
     "text": [
      "[1] -2.021965\n"
     ]
    }
   ],
   "source": [
    "X<-list(1,2,3,4)\n",
    "Y<-list(5,6,7,8)\n",
    "Z<-Reduce(function(a,b) a-b,Map(function(x,y) sin(x)+2*cos(y),X,Y))\n",
    "print(Z)"
   ]
  },
  {
   "cell_type": "markdown",
   "metadata": {},
   "source": [
    "### <u>Exercise 6</u>\n",
    "\n",
    "Write some code that is equivalent to the above but using some combination of __for__, __repeat__, and/or __while__."
   ]
  },
  {
   "cell_type": "markdown",
   "metadata": {},
   "source": [
    "## Variable scope and functions"
   ]
  },
  {
   "cell_type": "markdown",
   "metadata": {},
   "source": [
    "In programming, the _scope_ of a variable (or object) describes where in an overall program the variable is \"visible\". This is to understand as it can easily lead to \"mysterious\" bugs if not controlled properly."
   ]
  },
  {
   "cell_type": "markdown",
   "metadata": {},
   "source": [
    "### <u>Exercise 7</u>\n",
    "\n",
    "For each of the following code examples, predict what the output will be."
   ]
  },
  {
   "cell_type": "code",
   "execution_count": 29,
   "metadata": {
    "tags": [
     "hide-output"
    ]
   },
   "outputs": [
    {
     "data": {
      "text/html": [
       "10"
      ],
      "text/latex": [
       "10"
      ],
      "text/markdown": [
       "10"
      ],
      "text/plain": [
       "[1] 10"
      ]
     },
     "metadata": {},
     "output_type": "display_data"
    },
    {
     "data": {
      "text/html": [
       "30"
      ],
      "text/latex": [
       "30"
      ],
      "text/markdown": [
       "30"
      ],
      "text/plain": [
       "[1] 30"
      ]
     },
     "metadata": {},
     "output_type": "display_data"
    }
   ],
   "source": [
    "a <- 2\n",
    "f <- function(x)\n",
    "    {\n",
    "       return(a*x)    \n",
    "    }\n",
    "f(5)\n",
    "a<-6\n",
    "f(5)"
   ]
  },
  {
   "cell_type": "code",
   "execution_count": 30,
   "metadata": {
    "tags": [
     "hide-output"
    ]
   },
   "outputs": [
    {
     "data": {
      "text/html": [
       "35"
      ],
      "text/latex": [
       "35"
      ],
      "text/markdown": [
       "35"
      ],
      "text/plain": [
       "[1] 35"
      ]
     },
     "metadata": {},
     "output_type": "display_data"
    },
    {
     "name": "stdout",
     "output_type": "stream",
     "text": [
      "[1] 2\n"
     ]
    }
   ],
   "source": [
    "a <- 2\n",
    "f <- function(x)\n",
    "    {\n",
    "       a <- 7\n",
    "       return(a*x)    \n",
    "    }\n",
    "f(5)\n",
    "print(a)"
   ]
  },
  {
   "cell_type": "code",
   "execution_count": 31,
   "metadata": {
    "tags": [
     "hide-output"
    ]
   },
   "outputs": [
    {
     "data": {
      "text/html": [
       "35"
      ],
      "text/latex": [
       "35"
      ],
      "text/markdown": [
       "35"
      ],
      "text/plain": [
       "[1] 35"
      ]
     },
     "metadata": {},
     "output_type": "display_data"
    },
    {
     "name": "stdout",
     "output_type": "stream",
     "text": [
      "[1] 7\n"
     ]
    }
   ],
   "source": [
    "a <- 2\n",
    "f <- function(x)\n",
    "    {\n",
    "       a <<- 7\n",
    "       return(a*x)    \n",
    "    }\n",
    "f(5)\n",
    "print(a)"
   ]
  },
  {
   "cell_type": "markdown",
   "metadata": {},
   "source": [
    "### <u>Exercise 8</u>\n",
    "\n",
    "Using just a few sentences, can you describe _why_ the output is what is as it is in each of the code examples in exercise 7."
   ]
  },
  {
   "cell_type": "markdown",
   "metadata": {},
   "source": [
    "## Currying functions"
   ]
  },
  {
   "cell_type": "markdown",
   "metadata": {},
   "source": [
    "__Sound alikes__.\n",
    "\n",
    "Curry -  a popular dish | Curry - a computer scientist\n",
    "- | - \n",
    "![alt](HaskellBCurry.jpg) | ![alt](curry.jpeg)"
   ]
  },
  {
   "cell_type": "markdown",
   "metadata": {},
   "source": [
    "One use of __closures__ is to \"freeze\" the value(s) of one or more arguments of a function. This can be useful when passing functions to other functions and is often required when using, for example, optimisers to maximise likelihood functions. "
   ]
  },
  {
   "cell_type": "markdown",
   "metadata": {},
   "source": [
    "### <u>Example 15</u>"
   ]
  },
  {
   "cell_type": "code",
   "execution_count": 32,
   "metadata": {},
   "outputs": [],
   "source": [
    "# Function to be optimised with respect to x for a given set of paramaters a,b, and c\n",
    "g <- function(x,a,b,c)\n",
    "       {\n",
    "          return(a*x*x+b*x+c)\n",
    "       }\n",
    "\n",
    "a <- 4\n",
    "b <- 3\n",
    "c <- 1\n",
    "f <- function(x)\n",
    "    {\n",
    "      return(g(x,a,b,c))\n",
    "    }         "
   ]
  },
  {
   "cell_type": "markdown",
   "metadata": {},
   "source": [
    "### <u>Exercise 9</u>\n",
    "\n",
    "What will the output of the following be ?"
   ]
  },
  {
   "cell_type": "code",
   "execution_count": 33,
   "metadata": {
    "tags": [
     "hide-output"
    ]
   },
   "outputs": [
    {
     "data": {
      "text/html": [
       "218"
      ],
      "text/latex": [
       "218"
      ],
      "text/markdown": [
       "218"
      ],
      "text/plain": [
       "[1] 218"
      ]
     },
     "metadata": {},
     "output_type": "display_data"
    }
   ],
   "source": [
    "f(7)"
   ]
  },
  {
   "cell_type": "markdown",
   "metadata": {},
   "source": [
    "This technique is useful - but it does not generalise very well. However, it is possible to create a function  that takes a function, along with the arguments to \"freeze\" , and which produces a new function with just the \"unfrozen\" arguments. This process is often called \"currying\" the function, and the new function referred to as the \"curried\" function. These terms are named after one of the first computer scientists to consider, study, use and champion  functional programming techniques - Haskell B Curry. Incidentally, he also has a (functional) programming language named after him - Haskell."
   ]
  },
  {
   "cell_type": "code",
   "execution_count": 34,
   "metadata": {},
   "outputs": [],
   "source": [
    "## a function to help automate the \"freezing\" of the parameters \n",
    "\n",
    "curry <- function(func,...)\n",
    "    {\n",
    "       return (function(.) return(func(.,...)))\n",
    "    }"
   ]
  },
  {
   "cell_type": "markdown",
   "metadata": {},
   "source": [
    "### <u>Example 16</u>"
   ]
  },
  {
   "cell_type": "code",
   "execution_count": 36,
   "metadata": {},
   "outputs": [
    {
     "data": {
      "text/html": [
       "218"
      ],
      "text/latex": [
       "218"
      ],
      "text/markdown": [
       "218"
      ],
      "text/plain": [
       "[1] 218"
      ]
     },
     "metadata": {},
     "output_type": "display_data"
    }
   ],
   "source": [
    "f <- curry(g,4,3,1)\n",
    "f(7)"
   ]
  },
  {
   "cell_type": "markdown",
   "metadata": {},
   "source": [
    "### <u>Exercise 10</u>\n",
    "\n",
    "What is the advantage of the code in Example 16 when compared to that in Example 15 ?"
   ]
  },
  {
   "cell_type": "markdown",
   "metadata": {
    "tags": [
     "hide-input"
    ]
   },
   "source": [
    "It does not use global variables."
   ]
  },
  {
   "cell_type": "markdown",
   "metadata": {},
   "source": [
    "However, currying is a pretty standard functional programming technique. So the curry function has already been implemented, (several times), in packages on CRAN. "
   ]
  },
  {
   "cell_type": "markdown",
   "metadata": {},
   "source": [
    "### <u>Exercise 11</u>\n",
    "\n",
    "Install the __functional__ package from CRAN and have a look at what methods it offers. Try using the __Curry__ function in the package to redo Example 16."
   ]
  }
 ],
 "metadata": {
  "celltoolbar": "Edit Metadata",
  "kernelspec": {
   "display_name": "R",
   "language": "R",
   "name": "ir"
  },
  "language_info": {
   "codemirror_mode": "r",
   "file_extension": ".r",
   "mimetype": "text/x-r-source",
   "name": "R",
   "pygments_lexer": "r",
   "version": "4.1.0"
  }
 },
 "nbformat": 4,
 "nbformat_minor": 2
}
