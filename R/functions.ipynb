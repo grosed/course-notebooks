{
 "cells": [
  {
   "cell_type": "markdown",
   "metadata": {},
   "source": [
    "# Functions"
   ]
  },
  {
   "cell_type": "markdown",
   "metadata": {},
   "source": [
    "## Using functions"
   ]
  },
  {
   "cell_type": "markdown",
   "metadata": {},
   "source": [
    "R comes with many many functions, and an ever growing and readily available collection of packages extends this number even further. You can get information on a funciton by using the __help__ function. You can also see the _\"code\"_ of the function."
   ]
  },
  {
   "cell_type": "markdown",
   "metadata": {},
   "source": [
    "### <u>Example 1</u> - Viewing a functions code using "
   ]
  },
  {
   "cell_type": "code",
   "execution_count": 3,
   "metadata": {},
   "outputs": [
    {
     "data": {
      "text/html": [
       "<pre class=language-r><code>function (name, pos = -1L, envir = as.environment(pos), all.names = FALSE, \n",
       "<span style=white-space:pre-wrap>    pattern, sorted = TRUE) </span>\n",
       "{\n",
       "<span style=white-space:pre-wrap>    if (!missing(name)) {</span>\n",
       "<span style=white-space:pre-wrap>        pos &lt;- tryCatch(name, error = function(e) e)</span>\n",
       "<span style=white-space:pre-wrap>        if (inherits(pos, \"error\")) {</span>\n",
       "<span style=white-space:pre-wrap>            name &lt;- substitute(name)</span>\n",
       "<span style=white-space:pre-wrap>            if (!is.character(name)) </span>\n",
       "<span style=white-space:pre-wrap>                name &lt;- deparse(name)</span>\n",
       "<span style=white-space:pre-wrap>            warning(gettextf(\"%s converted to character string\", </span>\n",
       "<span style=white-space:pre-wrap>                sQuote(name)), domain = NA)</span>\n",
       "<span style=white-space:pre-wrap>            pos &lt;- name</span>\n",
       "<span style=white-space:pre-wrap>        }</span>\n",
       "<span style=white-space:pre-wrap>    }</span>\n",
       "<span style=white-space:pre-wrap>    all.names &lt;- .Internal(ls(envir, all.names, sorted))</span>\n",
       "<span style=white-space:pre-wrap>    if (!missing(pattern)) {</span>\n",
       "<span style=white-space:pre-wrap>        if ((ll &lt;- length(grep(\"[\", pattern, fixed = TRUE))) &amp;&amp; </span>\n",
       "<span style=white-space:pre-wrap>            ll != length(grep(\"]\", pattern, fixed = TRUE))) {</span>\n",
       "<span style=white-space:pre-wrap>            if (pattern == \"[\") {</span>\n",
       "<span style=white-space:pre-wrap>                pattern &lt;- \"\\\\[\"</span>\n",
       "<span style=white-space:pre-wrap>                warning(\"replaced regular expression pattern '[' by  '\\\\\\\\['\")</span>\n",
       "<span style=white-space:pre-wrap>            }</span>\n",
       "<span style=white-space:pre-wrap>            else if (length(grep(\"[^\\\\\\\\]\\\\[&lt;-\", pattern))) {</span>\n",
       "<span style=white-space:pre-wrap>                pattern &lt;- sub(\"\\\\[&lt;-\", \"\\\\\\\\\\\\[&lt;-\", pattern)</span>\n",
       "<span style=white-space:pre-wrap>                warning(\"replaced '[&lt;-' by '\\\\\\\\[&lt;-' in regular expression pattern\")</span>\n",
       "<span style=white-space:pre-wrap>            }</span>\n",
       "<span style=white-space:pre-wrap>        }</span>\n",
       "<span style=white-space:pre-wrap>        grep(pattern, all.names, value = TRUE)</span>\n",
       "<span style=white-space:pre-wrap>    }</span>\n",
       "<span style=white-space:pre-wrap>    else all.names</span>\n",
       "}</code></pre>"
      ],
      "text/latex": [
       "\\begin{minted}{r}\n",
       "function (name, pos = -1L, envir = as.environment(pos), all.names = FALSE, \n",
       "    pattern, sorted = TRUE) \n",
       "\\{\n",
       "    if (!missing(name)) \\{\n",
       "        pos <- tryCatch(name, error = function(e) e)\n",
       "        if (inherits(pos, \"error\")) \\{\n",
       "            name <- substitute(name)\n",
       "            if (!is.character(name)) \n",
       "                name <- deparse(name)\n",
       "            warning(gettextf(\"\\%s converted to character string\", \n",
       "                sQuote(name)), domain = NA)\n",
       "            pos <- name\n",
       "        \\}\n",
       "    \\}\n",
       "    all.names <- .Internal(ls(envir, all.names, sorted))\n",
       "    if (!missing(pattern)) \\{\n",
       "        if ((ll <- length(grep(\"{[}\", pattern, fixed = TRUE))) \\&\\& \n",
       "            ll != length(grep(\"{]}\", pattern, fixed = TRUE))) \\{\n",
       "            if (pattern == \"{[}\") \\{\n",
       "                pattern <- \"\\textbackslash{}\\textbackslash{}{[}\"\n",
       "                warning(\"replaced regular expression pattern '{[}' by  '\\textbackslash{}\\textbackslash{}\\textbackslash{}\\textbackslash{}{[}'\")\n",
       "            \\}\n",
       "            else if (length(grep(\"{[}\\textasciicircum{}\\textbackslash{}\\textbackslash{}\\textbackslash{}\\textbackslash{}{]}\\textbackslash{}\\textbackslash{}{[}<-\", pattern))) \\{\n",
       "                pattern <- sub(\"\\textbackslash{}\\textbackslash{}{[}<-\", \"\\textbackslash{}\\textbackslash{}\\textbackslash{}\\textbackslash{}\\textbackslash{}\\textbackslash{}{[}<-\", pattern)\n",
       "                warning(\"replaced '{[}<-' by '\\textbackslash{}\\textbackslash{}\\textbackslash{}\\textbackslash{}{[}<-' in regular expression pattern\")\n",
       "            \\}\n",
       "        \\}\n",
       "        grep(pattern, all.names, value = TRUE)\n",
       "    \\}\n",
       "    else all.names\n",
       "\\}\n",
       "\\end{minted}"
      ],
      "text/markdown": [
       "```r\n",
       "function (name, pos = -1L, envir = as.environment(pos), all.names = FALSE, \n",
       "    pattern, sorted = TRUE) \n",
       "{\n",
       "    if (!missing(name)) {\n",
       "        pos <- tryCatch(name, error = function(e) e)\n",
       "        if (inherits(pos, \"error\")) {\n",
       "            name <- substitute(name)\n",
       "            if (!is.character(name)) \n",
       "                name <- deparse(name)\n",
       "            warning(gettextf(\"%s converted to character string\", \n",
       "                sQuote(name)), domain = NA)\n",
       "            pos <- name\n",
       "        }\n",
       "    }\n",
       "    all.names <- .Internal(ls(envir, all.names, sorted))\n",
       "    if (!missing(pattern)) {\n",
       "        if ((ll <- length(grep(\"[\", pattern, fixed = TRUE))) && \n",
       "            ll != length(grep(\"]\", pattern, fixed = TRUE))) {\n",
       "            if (pattern == \"[\") {\n",
       "                pattern <- \"\\\\[\"\n",
       "                warning(\"replaced regular expression pattern '[' by  '\\\\\\\\['\")\n",
       "            }\n",
       "            else if (length(grep(\"[^\\\\\\\\]\\\\[<-\", pattern))) {\n",
       "                pattern <- sub(\"\\\\[<-\", \"\\\\\\\\\\\\[<-\", pattern)\n",
       "                warning(\"replaced '[<-' by '\\\\\\\\[<-' in regular expression pattern\")\n",
       "            }\n",
       "        }\n",
       "        grep(pattern, all.names, value = TRUE)\n",
       "    }\n",
       "    else all.names\n",
       "}\n",
       "```"
      ],
      "text/plain": [
       "function (name, pos = -1L, envir = as.environment(pos), all.names = FALSE, \n",
       "    pattern, sorted = TRUE) \n",
       "{\n",
       "    if (!missing(name)) {\n",
       "        pos <- tryCatch(name, error = function(e) e)\n",
       "        if (inherits(pos, \"error\")) {\n",
       "            name <- substitute(name)\n",
       "            if (!is.character(name)) \n",
       "                name <- deparse(name)\n",
       "            warning(gettextf(\"%s converted to character string\", \n",
       "                sQuote(name)), domain = NA)\n",
       "            pos <- name\n",
       "        }\n",
       "    }\n",
       "    all.names <- .Internal(ls(envir, all.names, sorted))\n",
       "    if (!missing(pattern)) {\n",
       "        if ((ll <- length(grep(\"[\", pattern, fixed = TRUE))) && \n",
       "            ll != length(grep(\"]\", pattern, fixed = TRUE))) {\n",
       "            if (pattern == \"[\") {\n",
       "                pattern <- \"\\\\[\"\n",
       "                warning(\"replaced regular expression pattern '[' by  '\\\\\\\\['\")\n",
       "            }\n",
       "            else if (length(grep(\"[^\\\\\\\\]\\\\[<-\", pattern))) {\n",
       "                pattern <- sub(\"\\\\[<-\", \"\\\\\\\\\\\\[<-\", pattern)\n",
       "                warning(\"replaced '[<-' by '\\\\\\\\[<-' in regular expression pattern\")\n",
       "            }\n",
       "        }\n",
       "        grep(pattern, all.names, value = TRUE)\n",
       "    }\n",
       "    else all.names\n",
       "}\n",
       "<bytecode: 0x5583f2656540>\n",
       "<environment: namespace:base>"
      ]
     },
     "metadata": {},
     "output_type": "display_data"
    }
   ],
   "source": [
    "ls"
   ]
  },
  {
   "cell_type": "markdown",
   "metadata": {},
   "source": [
    "### <u>Example 2</u> - Viewing a functions code using __page__"
   ]
  },
  {
   "cell_type": "code",
   "execution_count": 5,
   "metadata": {},
   "outputs": [],
   "source": [
    "page(ls)"
   ]
  },
  {
   "cell_type": "markdown",
   "metadata": {},
   "source": [
    "A function can be _\"called\"_ in several ways. "
   ]
  },
  {
   "cell_type": "markdown",
   "metadata": {},
   "source": [
    "### <u>Example 3</u> - Calling a function "
   ]
  },
  {
   "cell_type": "code",
   "execution_count": 7,
   "metadata": {},
   "outputs": [
    {
     "data": {
      "text/html": [
       "0.909297426825682"
      ],
      "text/latex": [
       "0.909297426825682"
      ],
      "text/markdown": [
       "0.909297426825682"
      ],
      "text/plain": [
       "[1] 0.9092974"
      ]
     },
     "metadata": {},
     "output_type": "display_data"
    }
   ],
   "source": [
    "x<-2\n",
    "sin(x)"
   ]
  },
  {
   "cell_type": "markdown",
   "metadata": {},
   "source": [
    "### <u>Example 4</u> - Calling a function using \" \""
   ]
  },
  {
   "cell_type": "code",
   "execution_count": 8,
   "metadata": {},
   "outputs": [
    {
     "data": {
      "text/html": [
       "0.909297426825682"
      ],
      "text/latex": [
       "0.909297426825682"
      ],
      "text/markdown": [
       "0.909297426825682"
      ],
      "text/plain": [
       "[1] 0.9092974"
      ]
     },
     "metadata": {},
     "output_type": "display_data"
    }
   ],
   "source": [
    "\"sin\"(x)"
   ]
  },
  {
   "cell_type": "markdown",
   "metadata": {},
   "source": [
    "Almost everything in R is a __variable__ of a __function__. Don't beleive me ?"
   ]
  },
  {
   "cell_type": "markdown",
   "metadata": {},
   "source": [
    "### <u>Example 5</u> - Calling an operator using \" \""
   ]
  },
  {
   "cell_type": "code",
   "execution_count": 12,
   "metadata": {},
   "outputs": [
    {
     "data": {
      "text/html": [
       "3"
      ],
      "text/latex": [
       "3"
      ],
      "text/markdown": [
       "3"
      ],
      "text/plain": [
       "[1] 3"
      ]
     },
     "metadata": {},
     "output_type": "display_data"
    }
   ],
   "source": [
    "\"+\"(1,2)\n"
   ]
  },
  {
   "cell_type": "markdown",
   "metadata": {},
   "source": [
    "### <u>Example 6</u> - All operators are functions."
   ]
  },
  {
   "cell_type": "code",
   "execution_count": 24,
   "metadata": {},
   "outputs": [
    {
     "data": {
      "text/html": [
       "3"
      ],
      "text/latex": [
       "3"
      ],
      "text/markdown": [
       "3"
      ],
      "text/plain": [
       "[1] 3"
      ]
     },
     "metadata": {},
     "output_type": "display_data"
    }
   ],
   "source": [
    "X<-c(1,2,3,4)\n",
    "\"[\"(X,3)"
   ]
  },
  {
   "cell_type": "markdown",
   "metadata": {},
   "source": [
    "### <u>Example 7</u> - __help__ is a function"
   ]
  },
  {
   "cell_type": "code",
   "execution_count": 26,
   "metadata": {},
   "outputs": [],
   "source": [
    "\"help\"(help)"
   ]
  },
  {
   "cell_type": "markdown",
   "metadata": {},
   "source": [
    "## Creating your own functions"
   ]
  },
  {
   "cell_type": "markdown",
   "metadata": {},
   "source": [
    "Of course, you can create your own functions. The general struction of an R function definition is"
   ]
  },
  {
   "cell_type": "markdown",
   "metadata": {},
   "source": [
    "    function(arguments)\n",
    "        {\n",
    "           statements\n",
    "           return(statement)\n",
    "        }"
   ]
  },
  {
   "cell_type": "markdown",
   "metadata": {},
   "source": [
    "where __arguments__ is a comma seperated list of argument names that can be used in the __statements__ that make up the definition of the function, and statement is a valid R expression. \n",
    "\n",
    "A __function__ definition can be assigned to a __variable__ and the function used through using the variable."
   ]
  },
  {
   "cell_type": "markdown",
   "metadata": {},
   "source": [
    "### <u>Example 8</u> - A simple function definition"
   ]
  },
  {
   "cell_type": "code",
   "execution_count": 28,
   "metadata": {},
   "outputs": [
    {
     "data": {
      "text/html": [
       "12"
      ],
      "text/latex": [
       "12"
      ],
      "text/markdown": [
       "12"
      ],
      "text/plain": [
       "[1] 12"
      ]
     },
     "metadata": {},
     "output_type": "display_data"
    }
   ],
   "source": [
    "add<-function(x,y)\n",
    "    {\n",
    "      z<-x+y\n",
    "      return(z)\n",
    "    }\n",
    "\n",
    "add(5,7)"
   ]
  },
  {
   "cell_type": "markdown",
   "metadata": {},
   "source": [
    "However, functions can be used __anonymously__."
   ]
  },
  {
   "cell_type": "markdown",
   "metadata": {},
   "source": [
    "### <u>Example 9</u> - An __anonymous__ function"
   ]
  },
  {
   "cell_type": "code",
   "execution_count": 32,
   "metadata": {},
   "outputs": [
    {
     "data": {
      "text/html": [
       "9"
      ],
      "text/latex": [
       "9"
      ],
      "text/markdown": [
       "9"
      ],
      "text/plain": [
       "[1] 9"
      ]
     },
     "metadata": {},
     "output_type": "display_data"
    }
   ],
   "source": [
    "(function(x,y) { return(x+y) })(4,5)"
   ]
  },
  {
   "cell_type": "markdown",
   "metadata": {},
   "source": [
    "This __anonymous__ style of function definition is useful in conjunction with __Map__ and __Reduce__, as will be seen later.\n",
    "\n",
    "A function does not have to have a __return__ statement. If it does not, value of the last R expression to be evaluated is _returned_ by the function."
   ]
  },
  {
   "cell_type": "markdown",
   "metadata": {},
   "source": [
    "### <u>Example 10</u> - Implicit __return__"
   ]
  },
  {
   "cell_type": "code",
   "execution_count": 35,
   "metadata": {},
   "outputs": [
    {
     "data": {
      "text/html": [
       "15"
      ],
      "text/latex": [
       "15"
      ],
      "text/markdown": [
       "15"
      ],
      "text/plain": [
       "[1] 15"
      ]
     },
     "metadata": {},
     "output_type": "display_data"
    }
   ],
   "source": [
    "add<-function(x,y)\n",
    "    {\n",
    "      x+y\n",
    "    }\n",
    "\n",
    "add(6,9)"
   ]
  },
  {
   "cell_type": "markdown",
   "metadata": {},
   "source": [
    "Nor do all functions have to have a pair of {}s."
   ]
  },
  {
   "cell_type": "markdown",
   "metadata": {},
   "source": [
    "### <u>Example 11</u> - No {}s"
   ]
  },
  {
   "cell_type": "code",
   "execution_count": 36,
   "metadata": {},
   "outputs": [
    {
     "data": {
      "text/html": [
       "14"
      ],
      "text/latex": [
       "14"
      ],
      "text/markdown": [
       "14"
      ],
      "text/plain": [
       "[1] 14"
      ]
     },
     "metadata": {},
     "output_type": "display_data"
    }
   ],
   "source": [
    "add<-function(x,y) x+y\n",
    "\n",
    "add(12,2)"
   ]
  },
  {
   "cell_type": "markdown",
   "metadata": {},
   "source": [
    "However, using a __return__ statement and {}s makes the intent of your code much clearer.\n",
    "\n",
    "A function can have an __anonymous__ variable, which can be useful in __anomynous__ functions."
   ]
  },
  {
   "cell_type": "markdown",
   "metadata": {},
   "source": [
    "### <u>Example 12</u> - __anonymous__ variable"
   ]
  },
  {
   "cell_type": "code",
   "execution_count": 39,
   "metadata": {},
   "outputs": [
    {
     "data": {
      "text/html": [
       "1.8414709848079"
      ],
      "text/latex": [
       "1.8414709848079"
      ],
      "text/markdown": [
       "1.8414709848079"
      ],
      "text/plain": [
       "[1] 1.841471"
      ]
     },
     "metadata": {},
     "output_type": "display_data"
    }
   ],
   "source": [
    "f<-function(.)\n",
    "    {\n",
    "       return(sin(.) + .)\n",
    "    }\n",
    "\n",
    "f(1)\n"
   ]
  },
  {
   "cell_type": "markdown",
   "metadata": {},
   "source": [
    "## Default argument values"
   ]
  },
  {
   "cell_type": "markdown",
   "metadata": {},
   "source": [
    "Function arguments can have default values."
   ]
  },
  {
   "cell_type": "markdown",
   "metadata": {},
   "source": [
    "### <u>Example 13</u> - Default arguments"
   ]
  },
  {
   "cell_type": "code",
   "execution_count": 61,
   "metadata": {},
   "outputs": [
    {
     "data": {
      "text/html": [
       "14"
      ],
      "text/latex": [
       "14"
      ],
      "text/markdown": [
       "14"
      ],
      "text/plain": [
       "[1] 14"
      ]
     },
     "metadata": {},
     "output_type": "display_data"
    }
   ],
   "source": [
    "f<-function(x,y,z=2)\n",
    "    {\n",
    "       return(x+2*y+3*z)\n",
    "    }\n",
    "\n",
    "f(2,3)"
   ]
  },
  {
   "cell_type": "markdown",
   "metadata": {},
   "source": [
    "And arguments can be _explicity assigned_. This can make yourcode quite clear."
   ]
  },
  {
   "cell_type": "code",
   "execution_count": 67,
   "metadata": {},
   "outputs": [
    {
     "data": {
      "text/html": [
       "29"
      ],
      "text/latex": [
       "29"
      ],
      "text/markdown": [
       "29"
      ],
      "text/plain": [
       "[1] 29"
      ]
     },
     "metadata": {},
     "output_type": "display_data"
    }
   ],
   "source": [
    "f(x=2,y=3,z=7)"
   ]
  },
  {
   "cell_type": "markdown",
   "metadata": {},
   "source": [
    "And means that you can swap the order."
   ]
  },
  {
   "cell_type": "code",
   "execution_count": 69,
   "metadata": {},
   "outputs": [
    {
     "data": {
      "text/html": [
       "29"
      ],
      "text/latex": [
       "29"
      ],
      "text/markdown": [
       "29"
      ],
      "text/plain": [
       "[1] 29"
      ]
     },
     "metadata": {},
     "output_type": "display_data"
    }
   ],
   "source": [
    "f(y=3,z=7,x=2)"
   ]
  },
  {
   "cell_type": "code",
   "execution_count": 62,
   "metadata": {},
   "outputs": [
    {
     "data": {
      "text/html": [
       "15"
      ],
      "text/latex": [
       "15"
      ],
      "text/markdown": [
       "15"
      ],
      "text/plain": [
       "[1] 15"
      ]
     },
     "metadata": {},
     "output_type": "display_data"
    }
   ],
   "source": []
  },
  {
   "cell_type": "markdown",
   "metadata": {},
   "source": [
    "But be careful. "
   ]
  },
  {
   "cell_type": "code",
   "execution_count": null,
   "metadata": {},
   "outputs": [],
   "source": [
    "f<-function(x=3,y,z=2)\n",
    "    {\n",
    "       return(x+2*y+3*z)\n",
    "    }"
   ]
  },
  {
   "cell_type": "markdown",
   "metadata": {
    "tags": [
     "hide-output"
    ]
   },
   "source": [
    "### <u>Exercise 1</u>\n",
    "What do you expect the output of the following to be ?"
   ]
  },
  {
   "cell_type": "code",
   "execution_count": 65,
   "metadata": {
    "tags": [
     "hide-output"
    ]
   },
   "outputs": [
    {
     "data": {
      "text/html": [
       "13"
      ],
      "text/latex": [
       "13"
      ],
      "text/markdown": [
       "13"
      ],
      "text/plain": [
       "[1] 13"
      ]
     },
     "metadata": {},
     "output_type": "display_data"
    }
   ],
   "source": [
    "f(y=2)"
   ]
  },
  {
   "cell_type": "code",
   "execution_count": 70,
   "metadata": {},
   "outputs": [
    {
     "ename": "ERROR",
     "evalue": "Error in f(2): argument \"y\" is missing, with no default\n",
     "output_type": "error",
     "traceback": [
      "Error in f(2): argument \"y\" is missing, with no default\nTraceback:\n",
      "1. f(2)"
     ]
    }
   ],
   "source": [
    "f(2)"
   ]
  },
  {
   "cell_type": "code",
   "execution_count": 72,
   "metadata": {},
   "outputs": [
    {
     "data": {
      "text/html": [
       "32"
      ],
      "text/latex": [
       "32"
      ],
      "text/markdown": [
       "32"
      ],
      "text/plain": [
       "[1] 32"
      ]
     },
     "metadata": {},
     "output_type": "display_data"
    }
   ],
   "source": [
    "f(z=6,4,5)"
   ]
  },
  {
   "cell_type": "markdown",
   "metadata": {},
   "source": [
    "## Higher Order Functions"
   ]
  },
  {
   "cell_type": "markdown",
   "metadata": {},
   "source": [
    "Functions can take functions as arguments. When they do, they are some times refered to as _higher order functions_."
   ]
  },
  {
   "cell_type": "markdown",
   "metadata": {},
   "source": [
    "### <u>Exercise 2</u>\n",
    "\n",
    "What will the following code do ?"
   ]
  },
  {
   "cell_type": "code",
   "execution_count": 73,
   "metadata": {
    "tags": [
     "hide-output"
    ]
   },
   "outputs": [
    {
     "data": {
      "text/html": [
       "-0.958924274663138"
      ],
      "text/latex": [
       "-0.958924274663138"
      ],
      "text/markdown": [
       "-0.958924274663138"
      ],
      "text/plain": [
       "[1] -0.9589243"
      ]
     },
     "metadata": {},
     "output_type": "display_data"
    }
   ],
   "source": [
    "g<-function(f)\n",
    "    {\n",
    "       return(f(5))\n",
    "    }\n",
    "\n",
    "g(sin)"
   ]
  },
  {
   "cell_type": "markdown",
   "metadata": {},
   "source": [
    "And they can return functions. Functions that do this are sometimes referred to as __closures__."
   ]
  },
  {
   "cell_type": "markdown",
   "metadata": {},
   "source": [
    "### <u>Exercise 3</u>\n",
    "\n",
    "What will the following code do ?"
   ]
  },
  {
   "cell_type": "code",
   "execution_count": 79,
   "metadata": {
    "tags": [
     "hide-output"
    ]
   },
   "outputs": [
    {
     "name": "stdout",
     "output_type": "stream",
     "text": [
      "function(y)\n",
      "           {\n",
      "              return(x+2*y)\n",
      "           }\n",
      "<environment: 0x5583f50b57f8>\n",
      "[1] 13\n"
     ]
    }
   ],
   "source": [
    "h<-function(x)\n",
    "    {\n",
    "       g<-function(y)\n",
    "           {\n",
    "              return(x+2*y)\n",
    "           }\n",
    "       return(g)\n",
    "    }\n",
    "\n",
    "a<-h(3)\n",
    "print(a)\n",
    "\n",
    "print(a(5))"
   ]
  },
  {
   "cell_type": "markdown",
   "metadata": {},
   "source": [
    "### <u>Example 13</u> - Closures"
   ]
  },
  {
   "cell_type": "markdown",
   "metadata": {},
   "source": [
    "You can be quite terse with closures. The following is equivalent to the function in exercise 3."
   ]
  },
  {
   "cell_type": "code",
   "execution_count": 82,
   "metadata": {},
   "outputs": [
    {
     "name": "stdout",
     "output_type": "stream",
     "text": [
      "[1] 13\n"
     ]
    }
   ],
   "source": [
    "h <- function(x) function(y) x + 2*y"
   ]
  },
  {
   "cell_type": "markdown",
   "metadata": {},
   "source": [
    "Using __anonymous__ functions with __Map__ and __Reduce__ can be very expressive of your codes intent, because puts everything on one line."
   ]
  },
  {
   "cell_type": "markdown",
   "metadata": {},
   "source": [
    "### <u>Example 14</u> Anonymous functions with __Map__ and __Reduce__"
   ]
  },
  {
   "cell_type": "code",
   "execution_count": 88,
   "metadata": {},
   "outputs": [
    {
     "name": "stdout",
     "output_type": "stream",
     "text": [
      "[[1]]\n",
      "[1] 1.408795\n",
      "\n",
      "[[2]]\n",
      "[1] 2.829638\n",
      "\n",
      "[[3]]\n",
      "[1] 1.648925\n",
      "\n",
      "[[4]]\n",
      "[1] -1.047803\n",
      "\n"
     ]
    }
   ],
   "source": [
    "X<-list(1,2,3,4)\n",
    "Y<-list(5,6,7,8)\n",
    "Z<-Map(function(x,y) sin(x)+2*cos(y),X,Y)\n",
    "print(Z)"
   ]
  },
  {
   "cell_type": "markdown",
   "metadata": {},
   "source": [
    "### <u>Exercise 4</u>\n",
    "\n",
    "Write some example code that uses anonymous functions with Map and Reduce combined together in one expression."
   ]
  },
  {
   "cell_type": "code",
   "execution_count": 92,
   "metadata": {
    "tags": [
     "hide-output",
     "hide-input"
    ]
   },
   "outputs": [
    {
     "name": "stdout",
     "output_type": "stream",
     "text": [
      "[1] -2.021965\n"
     ]
    }
   ],
   "source": [
    "X<-list(1,2,3,4)\n",
    "Y<-list(5,6,7,8)\n",
    "Z<-Reduce(function(a,b) a-b,Map(function(x,y) sin(x)+2*cos(y),X,Y))\n",
    "print(Z)"
   ]
  },
  {
   "cell_type": "markdown",
   "metadata": {},
   "source": [
    "### <u>Exercise 5</u>\n",
    "\n",
    "Write some code that is equivalent to the above but using some combination of __for__, __repeat__, and/or __while__."
   ]
  },
  {
   "cell_type": "markdown",
   "metadata": {},
   "source": [
    "TODO - Position, Find, scope, composition, currying."
   ]
  }
 ],
 "metadata": {
  "celltoolbar": "Edit Metadata",
  "kernelspec": {
   "display_name": "R",
   "language": "R",
   "name": "ir"
  },
  "language_info": {
   "codemirror_mode": "r",
   "file_extension": ".r",
   "mimetype": "text/x-r-source",
   "name": "R",
   "pygments_lexer": "r",
   "version": "4.1.0"
  }
 },
 "nbformat": 4,
 "nbformat_minor": 2
}
