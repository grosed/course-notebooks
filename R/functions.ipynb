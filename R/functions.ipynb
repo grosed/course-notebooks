{
 "cells": [
  {
   "cell_type": "markdown",
   "metadata": {},
   "source": [
    "# Functions"
   ]
  },
  {
   "cell_type": "markdown",
   "metadata": {},
   "source": [
    "## Using functions"
   ]
  },
  {
   "cell_type": "markdown",
   "metadata": {},
   "source": [
    "R comes with many many functions, and an ever growing and readily available collection of packages extends this number even further. You can get information on a function by using the __help__ function. You can also see the _\"code\"_ of the function."
   ]
  },
  {
   "cell_type": "markdown",
   "metadata": {},
   "source": [
    "### <u>Example 1</u> - Viewing a functions code using the functions name\n",
    "\n",
    "The function code for the __ls__ (list) function can just be printed using __print__."
   ]
  },
  {
   "cell_type": "code",
   "execution_count": 1,
   "metadata": {},
   "outputs": [
    {
     "name": "stdout",
     "output_type": "stream",
     "text": [
      "function (name, pos = -1L, envir = as.environment(pos), all.names = FALSE, \n",
      "    pattern, sorted = TRUE) \n",
      "{\n",
      "    if (!missing(name)) {\n",
      "        pos <- tryCatch(name, error = function(e) e)\n",
      "        if (inherits(pos, \"error\")) {\n",
      "            name <- substitute(name)\n",
      "            if (!is.character(name)) \n",
      "                name <- deparse(name)\n",
      "            warning(gettextf(\"%s converted to character string\", \n",
      "                sQuote(name)), domain = NA)\n",
      "            pos <- name\n",
      "        }\n",
      "    }\n",
      "    all.names <- .Internal(ls(envir, all.names, sorted))\n",
      "    if (!missing(pattern)) {\n",
      "        if ((ll <- length(grep(\"[\", pattern, fixed = TRUE))) && \n",
      "            ll != length(grep(\"]\", pattern, fixed = TRUE))) {\n",
      "            if (pattern == \"[\") {\n",
      "                pattern <- \"\\\\[\"\n",
      "                warning(\"replaced regular expression pattern '[' by  '\\\\\\\\['\")\n",
      "            }\n",
      "            else if (length(grep(\"[^\\\\\\\\]\\\\[<-\", pattern))) {\n",
      "                pattern <- sub(\"\\\\[<-\", \"\\\\\\\\\\\\[<-\", pattern)\n",
      "                warning(\"replaced '[<-' by '\\\\\\\\[<-' in regular expression pattern\")\n",
      "            }\n",
      "        }\n",
      "        grep(pattern, all.names, value = TRUE)\n",
      "    }\n",
      "    else all.names\n",
      "}\n",
      "<bytecode: 0x6192b649af88>\n",
      "<environment: namespace:base>\n"
     ]
    }
   ],
   "source": [
    "print(ls)"
   ]
  },
  {
   "cell_type": "markdown",
   "metadata": {},
   "source": [
    "### <u>Example 2</u> - Viewing a functions code using __page__\n",
    "\n",
    "A similar effect can be achieved using the __page__ function."
   ]
  },
  {
   "cell_type": "code",
   "execution_count": 2,
   "metadata": {},
   "outputs": [
    {
     "data": {
      "text/plain": [
       "ls\n",
       "\n",
       "function (name, pos = -1L, envir = as.environment(pos), all.names = FALSE, \n",
       "    pattern, sorted = TRUE) \n",
       "{\n",
       "    if (!missing(name)) {\n",
       "        pos <- tryCatch(name, error = function(e) e)\n",
       "        if (inherits(pos, \"error\")) {\n",
       "            name <- substitute(name)\n",
       "            if (!is.character(name)) \n",
       "                name <- deparse(name)\n",
       "            warning(gettextf(\"%s converted to character string\", \n",
       "                sQuote(name)), domain = NA)\n",
       "            pos <- name\n",
       "        }\n",
       "    }\n",
       "    all.names <- .Internal(ls(envir, all.names, sorted))\n",
       "    if (!missing(pattern)) {\n",
       "        if ((ll <- length(grep(\"[\", pattern, fixed = TRUE))) && \n",
       "            ll != length(grep(\"]\", pattern, fixed = TRUE))) {\n",
       "            if (pattern == \"[\") {\n",
       "                pattern <- \"\\\\[\"\n",
       "                warning(\"replaced regular expression pattern '[' by  '\\\\\\\\['\")\n",
       "            }\n",
       "            else if (length(grep(\"[^\\\\\\\\]\\\\[<-\", pattern))) {\n",
       "                pattern <- sub(\"\\\\[<-\", \"\\\\\\\\\\\\[<-\", pattern)\n",
       "                warning(\"replaced '[<-' by '\\\\\\\\[<-' in regular expression pattern\")\n",
       "            }\n",
       "        }\n",
       "        grep(pattern, all.names, value = TRUE)\n",
       "    }\n",
       "    else all.names\n",
       "}"
      ]
     },
     "metadata": {},
     "output_type": "display_data"
    }
   ],
   "source": [
    "page(ls)"
   ]
  },
  {
   "cell_type": "markdown",
   "metadata": {},
   "source": [
    "A function can be _\"called\"_ in several ways. "
   ]
  },
  {
   "cell_type": "markdown",
   "metadata": {},
   "source": [
    "### <u>Example 3</u> - Calling a function\n",
    "\n",
    "Functions are usually just called using there name along with appropriate comma seperated arguments in parenthesis _i.e_ __()__. "
   ]
  },
  {
   "cell_type": "code",
   "execution_count": 3,
   "metadata": {},
   "outputs": [
    {
     "data": {
      "text/html": [
       "0.909297426825682"
      ],
      "text/latex": [
       "0.909297426825682"
      ],
      "text/markdown": [
       "0.909297426825682"
      ],
      "text/plain": [
       "[1] 0.9092974"
      ]
     },
     "metadata": {},
     "output_type": "display_data"
    }
   ],
   "source": [
    "x<-2\n",
    "sin(x)"
   ]
  },
  {
   "cell_type": "markdown",
   "metadata": {},
   "source": [
    "### <u>Example 4</u> - Calling a function using \" \"\n",
    "\n",
    "A function can be also called by quoting its name. This is only usually seen in conjunction with functional programming techniques or occasional to change the format for using binary operators, such as __+__ and __*__. "
   ]
  },
  {
   "cell_type": "code",
   "execution_count": 4,
   "metadata": {},
   "outputs": [
    {
     "data": {
      "text/html": [
       "0.909297426825682"
      ],
      "text/latex": [
       "0.909297426825682"
      ],
      "text/markdown": [
       "0.909297426825682"
      ],
      "text/plain": [
       "[1] 0.9092974"
      ]
     },
     "metadata": {},
     "output_type": "display_data"
    }
   ],
   "source": [
    "\"sin\"(x)"
   ]
  },
  {
   "cell_type": "markdown",
   "metadata": {},
   "source": [
    "Note - almost everything in R is a __variable__ or a __function__. Don't believe me ?"
   ]
  },
  {
   "cell_type": "markdown",
   "metadata": {},
   "source": [
    "### <u>Example 5</u> - Calling binary operators using \" \""
   ]
  },
  {
   "cell_type": "code",
   "execution_count": 5,
   "metadata": {},
   "outputs": [
    {
     "name": "stdout",
     "output_type": "stream",
     "text": [
      "[1] 3.14\n",
      "[1] 2.17\n"
     ]
    }
   ],
   "source": [
    "\"<-\"(x,3.14)\n",
    "print(x)\n",
    "\"=\"(x,2.17)\n",
    "print(x)"
   ]
  },
  {
   "cell_type": "markdown",
   "metadata": {},
   "source": [
    "### <u>Example 6</u> - All operators are functions."
   ]
  },
  {
   "cell_type": "code",
   "execution_count": 6,
   "metadata": {},
   "outputs": [
    {
     "data": {
      "text/html": [
       "3"
      ],
      "text/latex": [
       "3"
      ],
      "text/markdown": [
       "3"
      ],
      "text/plain": [
       "[1] 3"
      ]
     },
     "metadata": {},
     "output_type": "display_data"
    }
   ],
   "source": [
    "X<-c(1,2,3,4)\n",
    "\"[\"(X,3)"
   ]
  },
  {
   "cell_type": "markdown",
   "metadata": {},
   "source": [
    "### <u>Example 7</u> - __help__ is a function"
   ]
  },
  {
   "cell_type": "code",
   "execution_count": 7,
   "metadata": {},
   "outputs": [
    {
     "data": {
      "text/html": [
       "\n",
       "<table style=\"width: 100%;\"><tr><td>help {utils}</td><td style=\"text-align: right;\">R Documentation</td></tr></table>\n",
       "\n",
       "<h2 id='help'>Documentation</h2>\n",
       "\n",
       "<h3>Description</h3>\n",
       "\n",
       "<p><code>help</code> is the primary interface to the help systems.\n",
       "</p>\n",
       "\n",
       "\n",
       "<h3>Usage</h3>\n",
       "\n",
       "<pre><code class='language-R'>help(topic, package = NULL, lib.loc = NULL,\n",
       "     verbose = getOption(\"verbose\"),\n",
       "     try.all.packages = getOption(\"help.try.all.packages\"),\n",
       "     help_type = getOption(\"help_type\"))\n",
       "</code></pre>\n",
       "\n",
       "\n",
       "<h3>Arguments</h3>\n",
       "\n",
       "<table>\n",
       "<tr><td><code id=\"help_:_topic\">topic</code></td>\n",
       "<td>\n",
       "<p>usually, a name or character string specifying the\n",
       "topic for which help is sought.  A character string (enclosed in\n",
       "explicit single or double quotes) is always taken as naming a topic.\n",
       "</p>\n",
       "<p>If the value of <code>topic</code> is a length-one\n",
       "character vector the topic is taken to be the value of the only\n",
       "element.  Otherwise <code>topic</code> must be a name or a reserved\n",
       "word (if syntactically valid) or character string.\n",
       "</p>\n",
       "<p>See &lsquo;Details&rsquo; for what happens if this is omitted.\n",
       "</p>\n",
       "</td></tr>\n",
       "<tr><td><code id=\"help_:_package\">package</code></td>\n",
       "<td>\n",
       "<p>a name or character vector giving the packages to look\n",
       "into for documentation, or <code>NULL</code>.  By default, all packages\n",
       "whose namespaces are loaded are used.  To avoid a name being deparsed use e.g.\n",
       "<code>(pkg_ref)</code> (see the examples).</p>\n",
       "</td></tr>\n",
       "<tr><td><code id=\"help_:_lib.loc\">lib.loc</code></td>\n",
       "<td>\n",
       "<p>a character vector of directory names of <span class=\"rlang\"><b>R</b></span> libraries,\n",
       "or <code>NULL</code>.  The default value of <code>NULL</code> corresponds to all\n",
       "libraries currently known.  If the default is used, the loaded\n",
       "packages are searched before the libraries.  This is not used for\n",
       "HTML help (see &lsquo;Details&rsquo;).</p>\n",
       "</td></tr>\n",
       "<tr><td><code id=\"help_:_verbose\">verbose</code></td>\n",
       "<td>\n",
       "<p>logical; if <code>TRUE</code>, the file name is reported.</p>\n",
       "</td></tr>\n",
       "<tr><td><code id=\"help_:_try.all.packages\">try.all.packages</code></td>\n",
       "<td>\n",
       "<p>logical; see <code>Note</code>.</p>\n",
       "</td></tr>\n",
       "<tr><td><code id=\"help_:_help_type\">help_type</code></td>\n",
       "<td>\n",
       "<p>character string: the type of help required.\n",
       "Possible values are <code>\"text\"</code>, <code>\"html\"</code> and <code>\"pdf\"</code>.\n",
       "Case is ignored, and partial matching is allowed.</p>\n",
       "</td></tr>\n",
       "</table>\n",
       "\n",
       "\n",
       "<h3>Details</h3>\n",
       "\n",
       "<p>The following types of help are available:\n",
       "</p>\n",
       "\n",
       "<ul>\n",
       "<li><p> Plain text help\n",
       "</p>\n",
       "</li>\n",
       "<li><p> HTML help pages with hyperlinks to other topics, shown in a\n",
       "browser by <code>browseURL</code>.\n",
       "<br />\n",
       "(On Unix-alikes,\n",
       "where possible an existing browser window is re-used: the macOS\n",
       "GUI uses its own browser window.)\n",
       "</p>\n",
       "<p>If for some reason HTML help is unavailable (see\n",
       "<code>startDynamicHelp</code>), plain text help will be used\n",
       "instead.\n",
       "</p>\n",
       "</li>\n",
       "<li><p> For <code>help</code> only, typeset as PDF &ndash;\n",
       "see the section on &lsquo;Offline help&rsquo;.\n",
       "</p>\n",
       "</li></ul>\n",
       "\n",
       "\n",
       "<dl>\n",
       "<dt>On Unix-alikes:</dt><dd>\n",
       "<p>The &lsquo;factory-fresh&rsquo; default is text help except from the macOS\n",
       "GUI, which uses HTML help displayed in its own browser window.\n",
       "</p>\n",
       "</dd>\n",
       "<dt>On Windows:</dt><dd>\n",
       "<p>The default for the type of help is selected when <span class=\"rlang\"><b>R</b></span> is installed &ndash;\n",
       "the &lsquo;factory-fresh&rsquo; default is HTML help.\n",
       "</p>\n",
       "</dd>\n",
       "</dl>\n",
       "\n",
       "<p>The rendering of text help will use directional quotes in suitable\n",
       "locales (UTF-8 and single-byte Windows locales): sometimes the fonts\n",
       "used do not support these quotes so this can be turned off by setting\n",
       "<code>options(useFancyQuotes = FALSE)</code>.\n",
       "</p>\n",
       "<p><code>topic</code> is not optional: if it is omitted <span class=\"rlang\"><b>R</b></span> will give\n",
       "</p>\n",
       "\n",
       "<ul>\n",
       "<li><p> If a package is specified, (text or, in interactive use only,\n",
       "HTML) information on the package, including hints/links to suitable\n",
       "help topics.\n",
       "</p>\n",
       "</li>\n",
       "<li><p> If <code>lib.loc</code> only is specified, a (text) list of available\n",
       "packages.\n",
       "</p>\n",
       "</li>\n",
       "<li><p> Help on <code>help</code> itself if none of the first three\n",
       "arguments is specified.\n",
       "</p>\n",
       "</li></ul>\n",
       "\n",
       "<p>Some topics need to be quoted (by backticks) or given as a\n",
       "character string.  These include those which cannot syntactically\n",
       "appear on their own such as unary and binary operators,\n",
       "<code>function</code> and control-flow reserved words (including\n",
       "<code>if</code>, <code>else</code> <code>for</code>, <code>in</code>, <code>repeat</code>,\n",
       "<code>while</code>, <code>break</code> and <code>next</code>).  The other <code>reserved</code>\n",
       "words can be used as if they were names, for example <code>TRUE</code>,\n",
       "<code>NA</code> and <code>Inf</code>.\n",
       "</p>\n",
       "<p>If multiple help files matching <code>topic</code> are found, in interactive\n",
       "use a menu is presented for the user to choose one: in batch use the\n",
       "first on the search path is used.  (For HTML help the menu will be an\n",
       "HTML page, otherwise a graphical menu if possible if\n",
       "<code>getOption(\"menu.graphics\")</code> is true, the default.)\n",
       "</p>\n",
       "<p>Note that HTML help does not make use of <code>lib.loc</code>: it will\n",
       "always look first in the loaded packages and then along\n",
       "<code>.libPaths()</code>.\n",
       "</p>\n",
       "\n",
       "\n",
       "<h3>Offline help</h3>\n",
       "\n",
       "<p>Typeset documentation is produced by running the LaTeX version of the\n",
       "help page through <code>pdflatex</code>: this will produce a PDF file.\n",
       "</p>\n",
       "<p>The appearance of the output can be customized through a file\n",
       "&lsquo;<span class=\"file\">Rhelp.cfg</span>&rsquo; somewhere in your LaTeX search path: this will be\n",
       "input as a LaTeX style file after <code>Rd.sty</code>.  Some\n",
       "environment variables are consulted, notably <span class=\"env\">R_PAPERSIZE</span>\n",
       "(<em>via</em> <code>getOption(\"papersize\")</code>) and <span class=\"env\">R_RD4PDF</span> (see\n",
       "&lsquo;Making manuals&rsquo; in the\n",
       "&lsquo;R Installation and Administration&rsquo; manual).\n",
       "</p>\n",
       "<p>If there is a function <code>offline_help_helper</code> in the workspace or\n",
       "further down the search path it is used to do the typesetting,\n",
       "otherwise the function of that name in the <code>utils</code> namespace (to\n",
       "which the first paragraph applies).  It should accept at least two\n",
       "arguments, the name of the LaTeX file to be typeset and the type\n",
       "(which is nowadays ignored).  It accepts a third argument,\n",
       "<code>texinputs</code>, which will give the graphics path when the help\n",
       "document contains figures, and will otherwise not be supplied.\n",
       "</p>\n",
       "\n",
       "\n",
       "<h3>Note</h3>\n",
       "\n",
       "<p>Unless <code>lib.loc</code> is specified explicitly, the loaded packages are\n",
       "searched before those in the specified libraries.  This ensures that\n",
       "if a library is loaded from a library not in the known library trees,\n",
       "then the help from the loaded library is used.  If <code>lib.loc</code> is\n",
       "specified explicitly, the loaded packages are <em>not</em> searched.\n",
       "</p>\n",
       "<p>If this search fails and argument <code>try.all.packages</code> is\n",
       "<code>TRUE</code> and neither <code>packages</code> nor <code>lib.loc</code> is\n",
       "specified, then all the packages in the known library trees are\n",
       "searched for help on <code>topic</code> and a list of (any) packages where\n",
       "help may be found is displayed (with hyperlinks for\n",
       "<code>help_type = \"html\"</code>).\n",
       "<strong>NB:</strong> searching all packages can be slow, especially\n",
       "the first time (caching of files by the OS can expedite subsequent\n",
       "searches dramatically).\n",
       "</p>\n",
       "\n",
       "\n",
       "<h3>References</h3>\n",
       "\n",
       "<p>Becker, R. A., Chambers, J. M. and Wilks, A. R. (1988)\n",
       "<em>The New S Language</em>.\n",
       "Wadsworth &amp; Brooks/Cole.\n",
       "</p>\n",
       "\n",
       "\n",
       "<h3>See Also</h3>\n",
       "\n",
       "<p><code>?</code> for shortcuts to help topics.\n",
       "</p>\n",
       "<p><code>help.search()</code> or <code>??</code> for finding help pages\n",
       "on a vague topic;\n",
       "<code>help.start()</code> which opens the HTML version of the <span class=\"rlang\"><b>R</b></span>\n",
       "help pages;\n",
       "<code>library()</code> for listing available packages and the\n",
       "help objects they contain;\n",
       "<code>data()</code> for listing available data sets;\n",
       "<code>methods()</code>.\n",
       "</p>\n",
       "<p>Use <code>prompt()</code> to get a prototype for writing <code>help</code>\n",
       "pages of your own package.\n",
       "</p>\n",
       "\n",
       "\n",
       "<h3>Examples</h3>\n",
       "\n",
       "<pre><code class='language-R'>help()\n",
       "help(help)              # the same\n",
       "\n",
       "help(lapply)\n",
       "\n",
       "help(\"for\")             # or ?\"for\", but quotes/backticks are needed\n",
       "\n",
       "try({# requires working TeX installation:\n",
       " help(dgamma, help_type = \"pdf\")\n",
       " ## -&gt; nicely formatted pdf -- including math formula -- for help(dgamma):\n",
       " system2(getOption(\"pdfviewer\"), \"dgamma.pdf\", wait = FALSE)\n",
       "})\n",
       "\n",
       "help(package = \"splines\") # get help even when package is not loaded\n",
       "\n",
       "topi &lt;- \"women\"\n",
       "help(topi)\n",
       "\n",
       "try(help(\"bs\", try.all.packages = FALSE)) # reports not found (an error)\n",
       "help(\"bs\", try.all.packages = TRUE)       # reports can be found\n",
       "                                          # in package 'splines'\n",
       "\n",
       "## For programmatic use:\n",
       "topic &lt;- \"family\"; pkg_ref &lt;- \"stats\"\n",
       "help((topic), (pkg_ref))\n",
       "</code></pre>\n",
       "\n",
       "<hr /><div style=\"text-align: center;\">[Package <em>utils</em> version 4.3.3 ]</div>\n",
       "</div>"
      ],
      "text/latex": [
       "\\inputencoding{utf8}\n",
       "\\HeaderA{help}{Documentation}{help}\n",
       "\\keyword{documentation}{help}\n",
       "%\n",
       "\\begin{Description}\n",
       "\\code{help} is the primary interface to the help systems.\n",
       "\\end{Description}\n",
       "%\n",
       "\\begin{Usage}\n",
       "\\begin{verbatim}\n",
       "help(topic, package = NULL, lib.loc = NULL,\n",
       "     verbose = getOption(\"verbose\"),\n",
       "     try.all.packages = getOption(\"help.try.all.packages\"),\n",
       "     help_type = getOption(\"help_type\"))\n",
       "\\end{verbatim}\n",
       "\\end{Usage}\n",
       "%\n",
       "\\begin{Arguments}\n",
       "\\begin{ldescription}\n",
       "\\item[\\code{topic}] usually, a \\LinkA{name}{name} or character string specifying the\n",
       "topic for which help is sought.  A character string (enclosed in\n",
       "explicit single or double quotes) is always taken as naming a topic.\n",
       "\n",
       "If the value of \\code{topic} is a length-one\n",
       "character vector the topic is taken to be the value of the only\n",
       "element.  Otherwise \\code{topic} must be a name or a \\LinkA{reserved}{reserved}\n",
       "word (if syntactically valid) or character string.\n",
       "\n",
       "See `Details' for what happens if this is omitted.\n",
       "\n",
       "\\item[\\code{package}] a name or character vector giving the packages to look\n",
       "into for documentation, or \\code{NULL}.  By default, all packages\n",
       "whose namespaces are loaded are used.  To avoid a name being deparsed use e.g.\n",
       "\\code{(pkg\\_ref)} (see the examples).\n",
       "\\item[\\code{lib.loc}] a character vector of directory names of \\R{} libraries,\n",
       "or \\code{NULL}.  The default value of \\code{NULL} corresponds to all\n",
       "libraries currently known.  If the default is used, the loaded\n",
       "packages are searched before the libraries.  This is not used for\n",
       "HTML help (see `Details').\n",
       "\\item[\\code{verbose}] logical; if \\code{TRUE}, the file name is reported.\n",
       "\\item[\\code{try.all.packages}] logical; see \\code{Note}.\n",
       "\\item[\\code{help\\_type}] character string: the type of help required.\n",
       "Possible values are \\code{\"text\"}, \\code{\"html\"} and \\code{\"pdf\"}.\n",
       "Case is ignored, and partial matching is allowed.\n",
       "\\end{ldescription}\n",
       "\\end{Arguments}\n",
       "%\n",
       "\\begin{Details}\n",
       "The following types of help are available:\n",
       "\\begin{itemize}\n",
       "\n",
       "\\item{} Plain text help\n",
       "\\item{} HTML help pages with hyperlinks to other topics, shown in a\n",
       "browser by \\code{\\LinkA{browseURL}{browseURL}}.\n",
       "\\\\{}\n",
       "(On Unix-alikes,\n",
       "where possible an existing browser window is re-used: the macOS\n",
       "GUI uses its own browser window.)\n",
       "\n",
       "If for some reason HTML help is unavailable (see\n",
       "\\code{\\LinkA{startDynamicHelp}{startDynamicHelp}}), plain text help will be used\n",
       "instead.\n",
       "\\item{} For \\code{help} only, typeset as PDF --\n",
       "see the section on `Offline help'.\n",
       "\n",
       "\\end{itemize}\n",
       "\n",
       "\\begin{description}\n",
       "\n",
       "\\item[On Unix-alikes:] \n",
       "The `factory-fresh' default is text help except from the macOS\n",
       "GUI, which uses HTML help displayed in its own browser window.\n",
       "\n",
       "\\item[On Windows:] \n",
       "The default for the type of help is selected when \\R{} is installed --\n",
       "the `factory-fresh' default is HTML help.\n",
       "\n",
       "\n",
       "\\end{description}\n",
       "\n",
       "The rendering of text help will use directional quotes in suitable\n",
       "locales (UTF-8 and single-byte Windows locales): sometimes the fonts\n",
       "used do not support these quotes so this can be turned off by setting\n",
       "\\code{\\LinkA{options}{options}(useFancyQuotes = FALSE)}.\n",
       "\n",
       "\\code{topic} is not optional: if it is omitted \\R{} will give\n",
       "\\begin{itemize}\n",
       "\n",
       "\\item{} If a package is specified, (text or, in interactive use only,\n",
       "HTML) information on the package, including hints/links to suitable\n",
       "help topics.\n",
       "\\item{} If \\code{lib.loc} only is specified, a (text) list of available\n",
       "packages.\n",
       "\\item{} Help on \\code{help} itself if none of the first three\n",
       "arguments is specified.\n",
       "\n",
       "\\end{itemize}\n",
       "\n",
       "\n",
       "Some topics need to be quoted (by \\LinkA{backtick}{backtick}s) or given as a\n",
       "character string.  These include those which cannot syntactically\n",
       "appear on their own such as unary and binary operators,\n",
       "\\code{function} and control-flow \\LinkA{reserved}{reserved} words (including\n",
       "\\code{if}, \\code{else} \\code{for}, \\code{in}, \\code{repeat},\n",
       "\\code{while}, \\code{break} and \\code{next}).  The other \\code{reserved}\n",
       "words can be used as if they were names, for example \\code{TRUE},\n",
       "\\code{NA} and \\code{Inf}.\n",
       "\n",
       "If multiple help files matching \\code{topic} are found, in interactive\n",
       "use a menu is presented for the user to choose one: in batch use the\n",
       "first on the search path is used.  (For HTML help the menu will be an\n",
       "HTML page, otherwise a graphical menu if possible if\n",
       "\\code{\\LinkA{getOption}{getOption}(\"menu.graphics\")} is true, the default.)\n",
       "\n",
       "Note that HTML help does not make use of \\code{lib.loc}: it will\n",
       "always look first in the loaded packages and then along\n",
       "\\code{.libPaths()}.\n",
       "\\end{Details}\n",
       "%\n",
       "\\begin{Section}{Offline help}\n",
       "Typeset documentation is produced by running the LaTeX version of the\n",
       "help page through \\command{pdflatex}: this will produce a PDF file.\n",
       "\n",
       "The appearance of the output can be customized through a file\n",
       "\\file{Rhelp.cfg} somewhere in your LaTeX search path: this will be\n",
       "input as a LaTeX style file after \\code{Rd.sty}.  Some\n",
       "\\LinkA{environment variables}{environment variables} are consulted, notably \\env{R\\_PAPERSIZE}\n",
       "(\\emph{via} \\code{getOption(\"papersize\")}) and \\env{R\\_RD4PDF} (see\n",
       "`Making manuals' in the\n",
       "`R Installation and Administration' manual).\n",
       "\n",
       "If there is a function \\code{offline\\_help\\_helper} in the workspace or\n",
       "further down the search path it is used to do the typesetting,\n",
       "otherwise the function of that name in the \\code{utils} namespace (to\n",
       "which the first paragraph applies).  It should accept at least two\n",
       "arguments, the name of the LaTeX file to be typeset and the type\n",
       "(which is nowadays ignored).  It accepts a third argument,\n",
       "\\code{texinputs}, which will give the graphics path when the help\n",
       "document contains figures, and will otherwise not be supplied.\n",
       "\\end{Section}\n",
       "%\n",
       "\\begin{Note}\n",
       "Unless \\code{lib.loc} is specified explicitly, the loaded packages are\n",
       "searched before those in the specified libraries.  This ensures that\n",
       "if a library is loaded from a library not in the known library trees,\n",
       "then the help from the loaded library is used.  If \\code{lib.loc} is\n",
       "specified explicitly, the loaded packages are \\emph{not} searched.\n",
       "\n",
       "If this search fails and argument \\code{try.all.packages} is\n",
       "\\code{TRUE} and neither \\code{packages} nor \\code{lib.loc} is\n",
       "specified, then all the packages in the known library trees are\n",
       "searched for help on \\code{topic} and a list of (any) packages where\n",
       "help may be found is displayed (with hyperlinks for\n",
       "\\code{help\\_type = \"html\"}).\n",
       "\\strong{NB:} searching all packages can be slow, especially\n",
       "the first time (caching of files by the OS can expedite subsequent\n",
       "searches dramatically).\n",
       "\\end{Note}\n",
       "%\n",
       "\\begin{References}\n",
       "Becker, R. A., Chambers, J. M. and Wilks, A. R. (1988)\n",
       "\\emph{The New S Language}.\n",
       "Wadsworth \\& Brooks/Cole.\n",
       "\\end{References}\n",
       "%\n",
       "\\begin{SeeAlso}\n",
       "\\code{\\LinkA{?}{Question}} for shortcuts to help topics.\n",
       "\n",
       "\\code{\\LinkA{help.search}{help.search}()} or \\code{\\LinkA{??}{??}} for finding help pages\n",
       "on a vague topic;\n",
       "\\code{\\LinkA{help.start}{help.start}()} which opens the HTML version of the \\R{}\n",
       "help pages;\n",
       "\\code{\\LinkA{library}{library}()} for listing available packages and the\n",
       "help objects they contain;\n",
       "\\code{\\LinkA{data}{data}()} for listing available data sets;\n",
       "\\code{\\LinkA{methods}{methods}()}.\n",
       "\n",
       "Use \\code{\\LinkA{prompt}{prompt}()} to get a prototype for writing \\code{help}\n",
       "pages of your own package.\n",
       "\\end{SeeAlso}\n",
       "%\n",
       "\\begin{Examples}\n",
       "\\begin{ExampleCode}\n",
       "help()\n",
       "help(help)              # the same\n",
       "\n",
       "help(lapply)\n",
       "\n",
       "help(\"for\")             # or ?\"for\", but quotes/backticks are needed\n",
       "\n",
       "try({# requires working TeX installation:\n",
       " help(dgamma, help_type = \"pdf\")\n",
       " ## -> nicely formatted pdf -- including math formula -- for help(dgamma):\n",
       " system2(getOption(\"pdfviewer\"), \"dgamma.pdf\", wait = FALSE)\n",
       "})\n",
       "\n",
       "help(package = \"splines\") # get help even when package is not loaded\n",
       "\n",
       "topi <- \"women\"\n",
       "help(topi)\n",
       "\n",
       "try(help(\"bs\", try.all.packages = FALSE)) # reports not found (an error)\n",
       "help(\"bs\", try.all.packages = TRUE)       # reports can be found\n",
       "                                          # in package 'splines'\n",
       "\n",
       "## For programmatic use:\n",
       "topic <- \"family\"; pkg_ref <- \"stats\"\n",
       "help((topic), (pkg_ref))\n",
       "\\end{ExampleCode}\n",
       "\\end{Examples}"
      ],
      "text/plain": [
       "help                   package:utils                   R Documentation\n",
       "\n",
       "_\bD_\bo_\bc_\bu_\bm_\be_\bn_\bt_\ba_\bt_\bi_\bo_\bn\n",
       "\n",
       "_\bD_\be_\bs_\bc_\br_\bi_\bp_\bt_\bi_\bo_\bn:\n",
       "\n",
       "     ‘help’ is the primary interface to the help systems.\n",
       "\n",
       "_\bU_\bs_\ba_\bg_\be:\n",
       "\n",
       "     help(topic, package = NULL, lib.loc = NULL,\n",
       "          verbose = getOption(\"verbose\"),\n",
       "          try.all.packages = getOption(\"help.try.all.packages\"),\n",
       "          help_type = getOption(\"help_type\"))\n",
       "     \n",
       "_\bA_\br_\bg_\bu_\bm_\be_\bn_\bt_\bs:\n",
       "\n",
       "   topic: usually, a name or character string specifying the topic for\n",
       "          which help is sought.  A character string (enclosed in\n",
       "          explicit single or double quotes) is always taken as naming a\n",
       "          topic.\n",
       "\n",
       "          If the value of ‘topic’ is a length-one character vector the\n",
       "          topic is taken to be the value of the only element.\n",
       "          Otherwise ‘topic’ must be a name or a reserved word (if\n",
       "          syntactically valid) or character string.\n",
       "\n",
       "          See ‘Details’ for what happens if this is omitted.\n",
       "\n",
       " package: a name or character vector giving the packages to look into\n",
       "          for documentation, or ‘NULL’.  By default, all packages whose\n",
       "          namespaces are loaded are used.  To avoid a name being\n",
       "          deparsed use e.g.  ‘(pkg_ref)’ (see the examples).\n",
       "\n",
       " lib.loc: a character vector of directory names of R libraries, or\n",
       "          ‘NULL’.  The default value of ‘NULL’ corresponds to all\n",
       "          libraries currently known.  If the default is used, the\n",
       "          loaded packages are searched before the libraries.  This is\n",
       "          not used for HTML help (see ‘Details’).\n",
       "\n",
       " verbose: logical; if ‘TRUE’, the file name is reported.\n",
       "\n",
       "try.all.packages: logical; see ‘Note’.\n",
       "\n",
       "help_type: character string: the type of help required.  Possible\n",
       "          values are ‘\"text\"’, ‘\"html\"’ and ‘\"pdf\"’.  Case is ignored,\n",
       "          and partial matching is allowed.\n",
       "\n",
       "_\bD_\be_\bt_\ba_\bi_\bl_\bs:\n",
       "\n",
       "     The following types of help are available:\n",
       "\n",
       "        • Plain text help\n",
       "\n",
       "        • HTML help pages with hyperlinks to other topics, shown in a\n",
       "          browser by ‘browseURL’.\n",
       "\n",
       "          (On Unix-alikes, where possible an existing browser window is\n",
       "          re-used: the macOS GUI uses its own browser window.)\n",
       "\n",
       "          If for some reason HTML help is unavailable (see\n",
       "          ‘startDynamicHelp’), plain text help will be used instead.\n",
       "\n",
       "        • For ‘help’ only, typeset as PDF - see the section on ‘Offline\n",
       "          help’.\n",
       "\n",
       "     On Unix-alikes: The ‘factory-fresh’ default is text help except\n",
       "          from the macOS GUI, which uses HTML help displayed in its own\n",
       "          browser window.\n",
       "\n",
       "     On Windows: The default for the type of help is selected when R is\n",
       "          installed - the ‘factory-fresh’ default is HTML help.\n",
       "\n",
       "     The rendering of text help will use directional quotes in suitable\n",
       "     locales (UTF-8 and single-byte Windows locales): sometimes the\n",
       "     fonts used do not support these quotes so this can be turned off\n",
       "     by setting ‘options(useFancyQuotes = FALSE)’.\n",
       "\n",
       "     ‘topic’ is not optional: if it is omitted R will give\n",
       "\n",
       "        • If a package is specified, (text or, in interactive use only,\n",
       "          HTML) information on the package, including hints/links to\n",
       "          suitable help topics.\n",
       "\n",
       "        • If ‘lib.loc’ only is specified, a (text) list of available\n",
       "          packages.\n",
       "\n",
       "        • Help on ‘help’ itself if none of the first three arguments is\n",
       "          specified.\n",
       "\n",
       "     Some topics need to be quoted (by backticks) or given as a\n",
       "     character string.  These include those which cannot syntactically\n",
       "     appear on their own such as unary and binary operators, ‘function’\n",
       "     and control-flow reserved words (including ‘if’, ‘else’ ‘for’,\n",
       "     ‘in’, ‘repeat’, ‘while’, ‘break’ and ‘next’).  The other\n",
       "     ‘reserved’ words can be used as if they were names, for example\n",
       "     ‘TRUE’, ‘NA’ and ‘Inf’.\n",
       "\n",
       "     If multiple help files matching ‘topic’ are found, in interactive\n",
       "     use a menu is presented for the user to choose one: in batch use\n",
       "     the first on the search path is used.  (For HTML help the menu\n",
       "     will be an HTML page, otherwise a graphical menu if possible if\n",
       "     ‘getOption(\"menu.graphics\")’ is true, the default.)\n",
       "\n",
       "     Note that HTML help does not make use of ‘lib.loc’: it will always\n",
       "     look first in the loaded packages and then along ‘.libPaths()’.\n",
       "\n",
       "_\bO_\bf_\bf_\bl_\bi_\bn_\be _\bh_\be_\bl_\bp:\n",
       "\n",
       "     Typeset documentation is produced by running the LaTeX version of\n",
       "     the help page through ‘pdflatex’: this will produce a PDF file.\n",
       "\n",
       "     The appearance of the output can be customized through a file\n",
       "     ‘Rhelp.cfg’ somewhere in your LaTeX search path: this will be\n",
       "     input as a LaTeX style file after ‘Rd.sty’.  Some environment\n",
       "     variables are consulted, notably ‘R_PAPERSIZE’ (_via_\n",
       "     ‘getOption(\"papersize\")’) and ‘R_RD4PDF’ (see ‘Making manuals’ in\n",
       "     the ‘R Installation and Administration’ manual).\n",
       "\n",
       "     If there is a function ‘offline_help_helper’ in the workspace or\n",
       "     further down the search path it is used to do the typesetting,\n",
       "     otherwise the function of that name in the ‘utils’ namespace (to\n",
       "     which the first paragraph applies).  It should accept at least two\n",
       "     arguments, the name of the LaTeX file to be typeset and the type\n",
       "     (which is nowadays ignored).  It accepts a third argument,\n",
       "     ‘texinputs’, which will give the graphics path when the help\n",
       "     document contains figures, and will otherwise not be supplied.\n",
       "\n",
       "_\bN_\bo_\bt_\be:\n",
       "\n",
       "     Unless ‘lib.loc’ is specified explicitly, the loaded packages are\n",
       "     searched before those in the specified libraries.  This ensures\n",
       "     that if a library is loaded from a library not in the known\n",
       "     library trees, then the help from the loaded library is used.  If\n",
       "     ‘lib.loc’ is specified explicitly, the loaded packages are _not_\n",
       "     searched.\n",
       "\n",
       "     If this search fails and argument ‘try.all.packages’ is ‘TRUE’ and\n",
       "     neither ‘packages’ nor ‘lib.loc’ is specified, then all the\n",
       "     packages in the known library trees are searched for help on\n",
       "     ‘topic’ and a list of (any) packages where help may be found is\n",
       "     displayed (with hyperlinks for ‘help_type = \"html\"’).  *NB:*\n",
       "     searching all packages can be slow, especially the first time\n",
       "     (caching of files by the OS can expedite subsequent searches\n",
       "     dramatically).\n",
       "\n",
       "_\bR_\be_\bf_\be_\br_\be_\bn_\bc_\be_\bs:\n",
       "\n",
       "     Becker, R. A., Chambers, J. M. and Wilks, A. R. (1988) _The New S\n",
       "     Language_.  Wadsworth & Brooks/Cole.\n",
       "\n",
       "_\bS_\be_\be _\bA_\bl_\bs_\bo:\n",
       "\n",
       "     ‘?’ for shortcuts to help topics.\n",
       "\n",
       "     ‘help.search()’ or ‘??’ for finding help pages on a vague topic;\n",
       "     ‘help.start()’ which opens the HTML version of the R help pages;\n",
       "     ‘library()’ for listing available packages and the help objects\n",
       "     they contain; ‘data()’ for listing available data sets;\n",
       "     ‘methods()’.\n",
       "\n",
       "     Use ‘prompt()’ to get a prototype for writing ‘help’ pages of your\n",
       "     own package.\n",
       "\n",
       "_\bE_\bx_\ba_\bm_\bp_\bl_\be_\bs:\n",
       "\n",
       "     help()\n",
       "     help(help)              # the same\n",
       "     \n",
       "     help(lapply)\n",
       "     \n",
       "     help(\"for\")             # or ?\"for\", but quotes/backticks are needed\n",
       "     \n",
       "     try({# requires working TeX installation:\n",
       "      help(dgamma, help_type = \"pdf\")\n",
       "      ## -> nicely formatted pdf -- including math formula -- for help(dgamma):\n",
       "      system2(getOption(\"pdfviewer\"), \"dgamma.pdf\", wait = FALSE)\n",
       "     })\n",
       "     \n",
       "     help(package = \"splines\") # get help even when package is not loaded\n",
       "     \n",
       "     topi <- \"women\"\n",
       "     help(topi)\n",
       "     \n",
       "     try(help(\"bs\", try.all.packages = FALSE)) # reports not found (an error)\n",
       "     help(\"bs\", try.all.packages = TRUE)       # reports can be found\n",
       "                                               # in package 'splines'\n",
       "     \n",
       "     ## For programmatic use:\n",
       "     topic <- \"family\"; pkg_ref <- \"stats\"\n",
       "     help((topic), (pkg_ref))\n",
       "     "
      ]
     },
     "metadata": {},
     "output_type": "display_data"
    }
   ],
   "source": [
    "\"help\"(help)"
   ]
  },
  {
   "cell_type": "markdown",
   "metadata": {},
   "source": [
    "## Creating your own functions"
   ]
  },
  {
   "cell_type": "markdown",
   "metadata": {},
   "source": [
    "Of course, you can create your own functions. The general structure of an R function definition is"
   ]
  },
  {
   "cell_type": "markdown",
   "metadata": {},
   "source": [
    "    function(arguments)\n",
    "        {\n",
    "           statements\n",
    "           return(statement)\n",
    "        }"
   ]
  },
  {
   "cell_type": "markdown",
   "metadata": {},
   "source": [
    "where __arguments__ is a comma separated list of argument names that can be used in the __statements__ that make up the definition of the function, and statement is a valid R expression. \n",
    "\n",
    "A __function__ definition can be assigned to a __variable__ and the function used through using the variable."
   ]
  },
  {
   "cell_type": "markdown",
   "metadata": {},
   "source": [
    "### <u>Example 8</u> - A simple function definition"
   ]
  },
  {
   "cell_type": "code",
   "execution_count": 8,
   "metadata": {},
   "outputs": [
    {
     "data": {
      "text/html": [
       "12"
      ],
      "text/latex": [
       "12"
      ],
      "text/markdown": [
       "12"
      ],
      "text/plain": [
       "[1] 12"
      ]
     },
     "metadata": {},
     "output_type": "display_data"
    }
   ],
   "source": [
    "add<-function(x,y)\n",
    "    {\n",
    "      z <- x+y\n",
    "      return(z)\n",
    "    }\n",
    "\n",
    "add(5,7)"
   ]
  },
  {
   "cell_type": "markdown",
   "metadata": {},
   "source": [
    "However, functions can be used __anonymously__."
   ]
  },
  {
   "cell_type": "markdown",
   "metadata": {},
   "source": [
    "### <u>Example 9</u> - An __anonymous__ function"
   ]
  },
  {
   "cell_type": "code",
   "execution_count": 9,
   "metadata": {},
   "outputs": [
    {
     "data": {
      "text/html": [
       "9"
      ],
      "text/latex": [
       "9"
      ],
      "text/markdown": [
       "9"
      ],
      "text/plain": [
       "[1] 9"
      ]
     },
     "metadata": {},
     "output_type": "display_data"
    }
   ],
   "source": [
    "(function(x,y) { return(x+y) })(4,5)"
   ]
  },
  {
   "cell_type": "markdown",
   "metadata": {},
   "source": [
    "This __anonymous__ style of function definition is useful in conjunction with __Map__ and __Reduce__, as will be seen later.\n",
    "\n",
    "A function does not have to have a __return__ statement. If it does not, value of the last R expression to be evaluated is _returned_ by the function."
   ]
  },
  {
   "cell_type": "markdown",
   "metadata": {},
   "source": [
    "### <u>Example 10</u> - Implicit __return__"
   ]
  },
  {
   "cell_type": "code",
   "execution_count": 10,
   "metadata": {},
   "outputs": [
    {
     "data": {
      "text/html": [
       "15"
      ],
      "text/latex": [
       "15"
      ],
      "text/markdown": [
       "15"
      ],
      "text/plain": [
       "[1] 15"
      ]
     },
     "metadata": {},
     "output_type": "display_data"
    }
   ],
   "source": [
    "add<-function(x,y)\n",
    "    {\n",
    "      x+y\n",
    "    }\n",
    "\n",
    "add(6,9)"
   ]
  },
  {
   "cell_type": "markdown",
   "metadata": {},
   "source": [
    "Nor do all functions have to have a pair of {}s."
   ]
  },
  {
   "cell_type": "markdown",
   "metadata": {},
   "source": [
    "### <u>Example 11</u> - No {}s"
   ]
  },
  {
   "cell_type": "code",
   "execution_count": 11,
   "metadata": {},
   "outputs": [
    {
     "data": {
      "text/html": [
       "14"
      ],
      "text/latex": [
       "14"
      ],
      "text/markdown": [
       "14"
      ],
      "text/plain": [
       "[1] 14"
      ]
     },
     "metadata": {},
     "output_type": "display_data"
    }
   ],
   "source": [
    "add<-function(x,y) x+y\n",
    "\n",
    "add(12,2)"
   ]
  },
  {
   "cell_type": "markdown",
   "metadata": {},
   "source": [
    "However, using a __return__ statement and {}s makes the intent of your code much clearer.\n",
    "\n",
    "A function can have an __anonymous__ variable, which can be useful in __anomynous__ functions."
   ]
  },
  {
   "cell_type": "markdown",
   "metadata": {},
   "source": [
    "### <u>Example 12</u> - __anonymous__ variable"
   ]
  },
  {
   "cell_type": "code",
   "execution_count": 12,
   "metadata": {},
   "outputs": [
    {
     "data": {
      "text/html": [
       "1.8414709848079"
      ],
      "text/latex": [
       "1.8414709848079"
      ],
      "text/markdown": [
       "1.8414709848079"
      ],
      "text/plain": [
       "[1] 1.841471"
      ]
     },
     "metadata": {},
     "output_type": "display_data"
    }
   ],
   "source": [
    "f<-function(.)\n",
    "    {\n",
    "       return(sin(.) + .)\n",
    "    }\n",
    "\n",
    "f(1)\n"
   ]
  },
  {
   "cell_type": "markdown",
   "metadata": {},
   "source": [
    "## Default argument values"
   ]
  },
  {
   "cell_type": "markdown",
   "metadata": {},
   "source": [
    "Function arguments can have default values."
   ]
  },
  {
   "cell_type": "markdown",
   "metadata": {},
   "source": [
    "### <u>Example 13</u> - Default arguments"
   ]
  },
  {
   "cell_type": "code",
   "execution_count": 13,
   "metadata": {},
   "outputs": [
    {
     "data": {
      "text/html": [
       "14"
      ],
      "text/latex": [
       "14"
      ],
      "text/markdown": [
       "14"
      ],
      "text/plain": [
       "[1] 14"
      ]
     },
     "metadata": {},
     "output_type": "display_data"
    }
   ],
   "source": [
    "f<-function(x,y,z=2)\n",
    "    {\n",
    "       return(x+2*y+3*z)\n",
    "    }\n",
    "\n",
    "f(2,3)"
   ]
  },
  {
   "cell_type": "markdown",
   "metadata": {},
   "source": [
    "And arguments can be _explicitly assigned_. This can make your code quite clear."
   ]
  },
  {
   "cell_type": "code",
   "execution_count": 14,
   "metadata": {},
   "outputs": [
    {
     "data": {
      "text/html": [
       "29"
      ],
      "text/latex": [
       "29"
      ],
      "text/markdown": [
       "29"
      ],
      "text/plain": [
       "[1] 29"
      ]
     },
     "metadata": {},
     "output_type": "display_data"
    }
   ],
   "source": [
    "f(x=2,y=3,z=7)"
   ]
  },
  {
   "cell_type": "markdown",
   "metadata": {},
   "source": [
    "And means that you can swap the order."
   ]
  },
  {
   "cell_type": "code",
   "execution_count": 15,
   "metadata": {},
   "outputs": [
    {
     "data": {
      "text/html": [
       "29"
      ],
      "text/latex": [
       "29"
      ],
      "text/markdown": [
       "29"
      ],
      "text/plain": [
       "[1] 29"
      ]
     },
     "metadata": {},
     "output_type": "display_data"
    }
   ],
   "source": [
    "f(y=3,z=7,x=2)"
   ]
  },
  {
   "cell_type": "markdown",
   "metadata": {},
   "source": [
    "But be careful !!"
   ]
  },
  {
   "cell_type": "code",
   "execution_count": 16,
   "metadata": {},
   "outputs": [],
   "source": [
    "f<-function(x=3,y,z=2)\n",
    "    {\n",
    "       return(x+2*y+3*z)\n",
    "    }"
   ]
  },
  {
   "cell_type": "markdown",
   "metadata": {
    "tags": [
     "hide-output"
    ]
   },
   "source": [
    "### <u>Exercise 1</u>\n",
    "What do you expect the output of the following code examples to be ?"
   ]
  },
  {
   "cell_type": "code",
   "execution_count": 17,
   "metadata": {
    "editable": true,
    "slideshow": {
     "slide_type": ""
    },
    "tags": [
     "hide-output"
    ]
   },
   "outputs": [
    {
     "data": {
      "text/html": [
       "13"
      ],
      "text/latex": [
       "13"
      ],
      "text/markdown": [
       "13"
      ],
      "text/plain": [
       "[1] 13"
      ]
     },
     "metadata": {},
     "output_type": "display_data"
    }
   ],
   "source": [
    "f(y=2)"
   ]
  },
  {
   "cell_type": "code",
   "execution_count": 18,
   "metadata": {
    "editable": true,
    "slideshow": {
     "slide_type": ""
    },
    "tags": [
     "hide-output"
    ]
   },
   "outputs": [
    {
     "ename": "ERROR",
     "evalue": "Error in f(2): argument \"y\" is missing, with no default\n",
     "output_type": "error",
     "traceback": [
      "Error in f(2): argument \"y\" is missing, with no default\nTraceback:\n",
      "1. f(2)"
     ]
    }
   ],
   "source": [
    "f(2)"
   ]
  },
  {
   "cell_type": "code",
   "execution_count": 19,
   "metadata": {
    "editable": true,
    "slideshow": {
     "slide_type": ""
    },
    "tags": [
     "hide-output"
    ]
   },
   "outputs": [
    {
     "data": {
      "text/html": [
       "32"
      ],
      "text/latex": [
       "32"
      ],
      "text/markdown": [
       "32"
      ],
      "text/plain": [
       "[1] 32"
      ]
     },
     "metadata": {},
     "output_type": "display_data"
    }
   ],
   "source": [
    "f(z=6,4,5)"
   ]
  },
  {
   "cell_type": "markdown",
   "metadata": {},
   "source": [
    "## Higher Order Functions"
   ]
  },
  {
   "cell_type": "markdown",
   "metadata": {},
   "source": [
    "Functions can take functions as arguments. When they do, they are some times referred to as _higher order functions_."
   ]
  },
  {
   "cell_type": "markdown",
   "metadata": {},
   "source": [
    "### <u>Exercise 2</u>\n",
    "\n",
    "What will the following code do ?"
   ]
  },
  {
   "cell_type": "code",
   "execution_count": 20,
   "metadata": {
    "editable": true,
    "slideshow": {
     "slide_type": ""
    },
    "tags": [
     "hide-output"
    ]
   },
   "outputs": [
    {
     "data": {
      "text/html": [
       "-0.958924274663138"
      ],
      "text/latex": [
       "-0.958924274663138"
      ],
      "text/markdown": [
       "-0.958924274663138"
      ],
      "text/plain": [
       "[1] -0.9589243"
      ]
     },
     "metadata": {},
     "output_type": "display_data"
    }
   ],
   "source": [
    "g<-function(f)\n",
    "    {\n",
    "       return(f(5))\n",
    "    }\n",
    "\n",
    "g(sin)"
   ]
  },
  {
   "cell_type": "markdown",
   "metadata": {},
   "source": [
    "Functions can also return functions that are defined within another function. Functions that do this are often referred to as __closures__."
   ]
  },
  {
   "cell_type": "markdown",
   "metadata": {},
   "source": [
    "### <u>Exercise 3</u>\n",
    "\n",
    "What will the following code do ?"
   ]
  },
  {
   "cell_type": "code",
   "execution_count": 21,
   "metadata": {
    "editable": true,
    "slideshow": {
     "slide_type": ""
    },
    "tags": [
     "hide-output"
    ]
   },
   "outputs": [
    {
     "name": "stdout",
     "output_type": "stream",
     "text": [
      "function(y)\n",
      "           {\n",
      "              return(x+2*y)\n",
      "           }\n",
      "<environment: 0x6192b7a613a8>\n",
      "[1] 13\n"
     ]
    }
   ],
   "source": [
    "h<-function(x)\n",
    "    {\n",
    "       g<-function(y)\n",
    "           {\n",
    "              return(x+2*y)\n",
    "           }\n",
    "       return(g)\n",
    "    }\n",
    "\n",
    "a<-h(3)\n",
    "print(a)\n",
    "\n",
    "print(a(5))"
   ]
  },
  {
   "cell_type": "markdown",
   "metadata": {},
   "source": [
    "### <u>Exercise 4</u> \n",
    "\n",
    "Can you think of any use cases for closures ?\n"
   ]
  },
  {
   "cell_type": "markdown",
   "metadata": {},
   "source": [
    "### <u>Example 13</u> - Closures"
   ]
  },
  {
   "cell_type": "markdown",
   "metadata": {},
   "source": [
    "You can be quite terse with closures. The following is equivalent to the function in exercise 3."
   ]
  },
  {
   "cell_type": "code",
   "execution_count": 22,
   "metadata": {},
   "outputs": [],
   "source": [
    "h <- function(x) function(y) x + 2*y"
   ]
  },
  {
   "cell_type": "markdown",
   "metadata": {},
   "source": [
    "Using __anonymous__ functions with __Map__ and __Reduce__ can be very expressive of your codes intent, because puts everything on one line."
   ]
  },
  {
   "cell_type": "markdown",
   "metadata": {},
   "source": [
    "### <u>Example 14</u> Anonymous functions with __Map__ and __Reduce__"
   ]
  },
  {
   "cell_type": "code",
   "execution_count": 23,
   "metadata": {},
   "outputs": [
    {
     "name": "stdout",
     "output_type": "stream",
     "text": [
      "[[1]]\n",
      "[1] 1.408795\n",
      "\n",
      "[[2]]\n",
      "[1] 2.829638\n",
      "\n",
      "[[3]]\n",
      "[1] 1.648925\n",
      "\n",
      "[[4]]\n",
      "[1] -1.047803\n",
      "\n"
     ]
    }
   ],
   "source": [
    "X<-list(1,2,3,4)\n",
    "Y<-list(5,6,7,8)\n",
    "Z<-Map(function(x,y) sin(x)+2*cos(y),X,Y)\n",
    "print(Z)"
   ]
  },
  {
   "cell_type": "markdown",
   "metadata": {},
   "source": [
    "### <u>Exercise 5</u>\n",
    "\n",
    "Write some example code that uses anonymous functions with Map and Reduce combined together in one expression."
   ]
  },
  {
   "cell_type": "code",
   "execution_count": 24,
   "metadata": {
    "editable": true,
    "slideshow": {
     "slide_type": ""
    },
    "tags": [
     "hide-output",
     "hide-input"
    ]
   },
   "outputs": [
    {
     "name": "stdout",
     "output_type": "stream",
     "text": [
      "[1] -2.021965\n"
     ]
    }
   ],
   "source": [
    "X<-list(1,2,3,4)\n",
    "Y<-list(5,6,7,8)\n",
    "Z<-Reduce(function(a,b) a-b,Map(function(x,y) sin(x)+2*cos(y),X,Y))\n",
    "print(Z)"
   ]
  },
  {
   "cell_type": "markdown",
   "metadata": {},
   "source": [
    "### <u>Exercise 6</u>\n",
    "\n",
    "Write some code that is equivalent to the above but using some combination of __for__, __repeat__, and/or __while__."
   ]
  },
  {
   "cell_type": "markdown",
   "metadata": {},
   "source": [
    "## Variable scope and functions"
   ]
  },
  {
   "cell_type": "markdown",
   "metadata": {},
   "source": [
    "In programming, the _scope_ of a variable (or object) describes where in an overall program the variable is \"visible\". This is to understand as it can easily lead to \"mysterious\" bugs if not controlled properly."
   ]
  },
  {
   "cell_type": "markdown",
   "metadata": {},
   "source": [
    "### <u>Exercise 7</u>\n",
    "\n",
    "For each of the following code examples, predict what the output will be."
   ]
  },
  {
   "cell_type": "code",
   "execution_count": 25,
   "metadata": {
    "editable": true,
    "slideshow": {
     "slide_type": ""
    },
    "tags": [
     "hide-output"
    ]
   },
   "outputs": [
    {
     "data": {
      "text/html": [
       "10"
      ],
      "text/latex": [
       "10"
      ],
      "text/markdown": [
       "10"
      ],
      "text/plain": [
       "[1] 10"
      ]
     },
     "metadata": {},
     "output_type": "display_data"
    },
    {
     "data": {
      "text/html": [
       "30"
      ],
      "text/latex": [
       "30"
      ],
      "text/markdown": [
       "30"
      ],
      "text/plain": [
       "[1] 30"
      ]
     },
     "metadata": {},
     "output_type": "display_data"
    }
   ],
   "source": [
    "a <- 2\n",
    "f <- function(x)\n",
    "    {\n",
    "       return(a*x)    \n",
    "    }\n",
    "f(5)\n",
    "a<-6\n",
    "f(5)"
   ]
  },
  {
   "cell_type": "code",
   "execution_count": 26,
   "metadata": {
    "editable": true,
    "slideshow": {
     "slide_type": ""
    },
    "tags": [
     "hide-output"
    ]
   },
   "outputs": [
    {
     "data": {
      "text/html": [
       "35"
      ],
      "text/latex": [
       "35"
      ],
      "text/markdown": [
       "35"
      ],
      "text/plain": [
       "[1] 35"
      ]
     },
     "metadata": {},
     "output_type": "display_data"
    },
    {
     "name": "stdout",
     "output_type": "stream",
     "text": [
      "[1] 2\n"
     ]
    }
   ],
   "source": [
    "a <- 2\n",
    "f <- function(x)\n",
    "    {\n",
    "       a <- 7\n",
    "       return(a*x)    \n",
    "    }\n",
    "f(5)\n",
    "print(a)"
   ]
  },
  {
   "cell_type": "code",
   "execution_count": 27,
   "metadata": {
    "editable": true,
    "slideshow": {
     "slide_type": ""
    },
    "tags": [
     "hide-output"
    ]
   },
   "outputs": [
    {
     "data": {
      "text/html": [
       "35"
      ],
      "text/latex": [
       "35"
      ],
      "text/markdown": [
       "35"
      ],
      "text/plain": [
       "[1] 35"
      ]
     },
     "metadata": {},
     "output_type": "display_data"
    },
    {
     "name": "stdout",
     "output_type": "stream",
     "text": [
      "[1] 7\n"
     ]
    }
   ],
   "source": [
    "a <- 2\n",
    "f <- function(x)\n",
    "    {\n",
    "       a <<- 7\n",
    "       return(a*x)    \n",
    "    }\n",
    "f(5)\n",
    "print(a)"
   ]
  },
  {
   "cell_type": "markdown",
   "metadata": {},
   "source": [
    "### <u>Exercise 8</u>\n",
    "\n",
    "Using just a few sentences, can you describe _why_ the output is what is as it is in each of the code examples in exercise 7."
   ]
  },
  {
   "cell_type": "markdown",
   "metadata": {},
   "source": [
    "## Currying functions"
   ]
  },
  {
   "cell_type": "markdown",
   "metadata": {},
   "source": [
    "__Sound alikes__.\n",
    "\n",
    "Curry -  a popular dish | Curry - a computer scientist\n",
    "- | - \n",
    "![alt](HaskellBCurry.jpg) | ![alt](curry.jpeg)"
   ]
  },
  {
   "cell_type": "markdown",
   "metadata": {},
   "source": [
    "One use of __closures__ is to \"freeze\" the value(s) of one or more arguments of a function. This can be useful when passing functions to other functions and is often required when using, for example, optimisers to maximise likelihood functions. "
   ]
  },
  {
   "cell_type": "markdown",
   "metadata": {},
   "source": [
    "### <u>Example 15</u>"
   ]
  },
  {
   "cell_type": "code",
   "execution_count": 28,
   "metadata": {},
   "outputs": [],
   "source": [
    "# Function to be optimised with respect to x for a given set of paramaters a,b, and c\n",
    "g <- function(x,a,b,c)\n",
    "       {\n",
    "          return(a*x*x+b*x+c)\n",
    "       }\n",
    "\n",
    "a <- 4\n",
    "b <- 3\n",
    "c <- 1\n",
    "f <- function(x)\n",
    "    {\n",
    "      return(g(x,a,b,c))\n",
    "    }         "
   ]
  },
  {
   "cell_type": "markdown",
   "metadata": {},
   "source": [
    "### <u>Exercise 9</u>\n",
    "\n",
    "What will the output of the following be ?"
   ]
  },
  {
   "cell_type": "code",
   "execution_count": 29,
   "metadata": {
    "editable": true,
    "slideshow": {
     "slide_type": ""
    },
    "tags": [
     "hide-output"
    ]
   },
   "outputs": [
    {
     "data": {
      "text/html": [
       "218"
      ],
      "text/latex": [
       "218"
      ],
      "text/markdown": [
       "218"
      ],
      "text/plain": [
       "[1] 218"
      ]
     },
     "metadata": {},
     "output_type": "display_data"
    }
   ],
   "source": [
    "f(7)"
   ]
  },
  {
   "cell_type": "markdown",
   "metadata": {},
   "source": [
    "This technique is useful - but it does not generalise very well. However, it is possible to create a function  that takes a function, along with the arguments to \"freeze\" , and which produces a new function with just the \"unfrozen\" arguments. This process is often called \"currying\" the function, and the new function referred to as the \"curried\" function. These terms are named after one of the first computer scientists to consider, study, use and champion  functional programming techniques - Haskell B Curry. Incidentally, he also has a (functional) programming language named after him - Haskell."
   ]
  },
  {
   "cell_type": "code",
   "execution_count": 30,
   "metadata": {},
   "outputs": [],
   "source": [
    "## a function to help automate the \"freezing\" of the parameters \n",
    "\n",
    "curry <- function(func,...)\n",
    "    {\n",
    "       return (function(.) return(func(.,...)))\n",
    "    }"
   ]
  },
  {
   "cell_type": "markdown",
   "metadata": {},
   "source": [
    "### <u>Example 16</u>"
   ]
  },
  {
   "cell_type": "code",
   "execution_count": 31,
   "metadata": {},
   "outputs": [
    {
     "data": {
      "text/html": [
       "218"
      ],
      "text/latex": [
       "218"
      ],
      "text/markdown": [
       "218"
      ],
      "text/plain": [
       "[1] 218"
      ]
     },
     "metadata": {},
     "output_type": "display_data"
    }
   ],
   "source": [
    "f <- curry(g,4,3,1)\n",
    "f(7)"
   ]
  },
  {
   "cell_type": "markdown",
   "metadata": {},
   "source": [
    "### <u>Exercise 10</u>\n",
    "\n",
    "What is the advantage of the code in Example 16 when compared to that in Example 15 ?"
   ]
  },
  {
   "cell_type": "markdown",
   "metadata": {
    "editable": true,
    "slideshow": {
     "slide_type": ""
    },
    "tags": [
     "hide-input"
    ]
   },
   "source": [
    "It does not use global variables."
   ]
  },
  {
   "cell_type": "markdown",
   "metadata": {},
   "source": [
    "However, currying is a pretty standard functional programming technique. So the curry function has already been implemented, (several times), in packages on CRAN. "
   ]
  },
  {
   "cell_type": "markdown",
   "metadata": {},
   "source": [
    "### <u>Exercise 11</u>\n",
    "\n",
    "Install the __functional__ package from CRAN and have a look at what methods it offers. Try using the __Curry__ function in the package to redo Example 16."
   ]
  }
 ],
 "metadata": {
  "celltoolbar": "Edit Metadata",
  "kernelspec": {
   "display_name": "R",
   "language": "R",
   "name": "ir"
  },
  "language_info": {
   "codemirror_mode": "r",
   "file_extension": ".r",
   "mimetype": "text/x-r-source",
   "name": "R",
   "pygments_lexer": "r",
   "version": "4.3.3"
  }
 },
 "nbformat": 4,
 "nbformat_minor": 4
}
