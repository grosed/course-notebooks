{
 "cells": [
  {
   "cell_type": "markdown",
   "id": "f03a469f",
   "metadata": {
    "editable": true,
    "slideshow": {
     "slide_type": ""
    },
    "tags": []
   },
   "source": [
    "# A Sample Session"
   ]
  },
  {
   "cell_type": "markdown",
   "id": "12f6702d",
   "metadata": {
    "editable": true,
    "slideshow": {
     "slide_type": ""
    },
    "tags": []
   },
   "source": [
    "This section is an introduction to the **R** programming language. It shows how to perform very simple tasks using an **R** programming environment of your choice. Two possible choices of environment options are [__jupyter__](https://jupyter.org/) and [RStudio](https://www.rstudio.com/). Once you have installed an **R** environment on your computer you can simply click on the **copy**  button  on these web pages and then **paste** the **R** code into your own system. \n",
    "\n",
    "Note that these notes were primarily developed with **jupyter** in mind, so the concepts of \"notebook\" and \"cell\" are often refered to. However, this will not prevent you from using these notes in conjunction with an R environment other than jupyter.  \n",
    "\n",
    "Good luck !! "
   ]
  },
  {
   "cell_type": "markdown",
   "id": "00d809af",
   "metadata": {},
   "source": [
    "## Getting Started"
   ]
  },
  {
   "cell_type": "markdown",
   "id": "52848365",
   "metadata": {},
   "source": [
    "To use **R** in jupyter you can type R commands into a code cell and then run them by pressing crtl-return. For example -"
   ]
  },
  {
   "cell_type": "code",
   "execution_count": 1,
   "id": "c82cb676",
   "metadata": {
    "editable": true,
    "slideshow": {
     "slide_type": ""
    },
    "tags": []
   },
   "outputs": [
    {
     "data": {
      "text/html": [
       "5"
      ],
      "text/latex": [
       "5"
      ],
      "text/markdown": [
       "5"
      ],
      "text/plain": [
       "[1] 5"
      ]
     },
     "metadata": {},
     "output_type": "display_data"
    }
   ],
   "source": [
    "2+3"
   ]
  },
  {
   "cell_type": "code",
   "execution_count": 2,
   "id": "0c297550",
   "metadata": {
    "editable": true,
    "slideshow": {
     "slide_type": ""
    },
    "tags": []
   },
   "outputs": [
    {
     "data": {
      "text/html": [
       "1.14422279992016"
      ],
      "text/latex": [
       "1.14422279992016"
      ],
      "text/markdown": [
       "1.14422279992016"
      ],
      "text/plain": [
       "[1] 1.144223"
      ]
     },
     "metadata": {},
     "output_type": "display_data"
    }
   ],
   "source": [
    "log(3.14)"
   ]
  },
  {
   "cell_type": "markdown",
   "id": "3bc7ec79",
   "metadata": {},
   "source": [
    "Notice that the output produced by the **R** code is displayed below the cell once the cell has been executed \n",
    "by pressing ctrl-return. A cell can contain more than one line of code, for example -"
   ]
  },
  {
   "cell_type": "code",
   "execution_count": 3,
   "id": "58789281",
   "metadata": {},
   "outputs": [
    {
     "data": {
      "text/html": [
       "0.189911081764586"
      ],
      "text/latex": [
       "0.189911081764586"
      ],
      "text/markdown": [
       "0.189911081764586"
      ],
      "text/plain": [
       "[1] 0.1899111"
      ]
     },
     "metadata": {},
     "output_type": "display_data"
    },
    {
     "data": {
      "text/html": [
       "5"
      ],
      "text/latex": [
       "5"
      ],
      "text/markdown": [
       "5"
      ],
      "text/plain": [
       "[1] 5"
      ]
     },
     "metadata": {},
     "output_type": "display_data"
    },
    {
     "data": {
      "text/html": [
       "3.14159265358979"
      ],
      "text/latex": [
       "3.14159265358979"
      ],
      "text/markdown": [
       "3.14159265358979"
      ],
      "text/plain": [
       "[1] 3.141593"
      ]
     },
     "metadata": {},
     "output_type": "display_data"
    }
   ],
   "source": [
    "sin(4.2)^2/4\n",
    "log(exp(5))\n",
    "4*atan(1)"
   ]
  },
  {
   "cell_type": "markdown",
   "id": "675f309d",
   "metadata": {},
   "source": [
    "**R** is an __object orientated__ programming language in which pretty much everything is an __object__ with a particular __type__ associated with it. An instance of an object can be referenced through a variable. For example"
   ]
  },
  {
   "cell_type": "code",
   "execution_count": 4,
   "id": "343edf6d",
   "metadata": {},
   "outputs": [],
   "source": [
    "x<-3.14\n",
    "message<-\"hello world\"\n",
    "v<-c(1,2,3,4)"
   ]
  },
  {
   "cell_type": "markdown",
   "id": "7a1ee2be",
   "metadata": {},
   "source": [
    "Notice that executing this cell does not produce any output. The following one will though."
   ]
  },
  {
   "cell_type": "code",
   "execution_count": 5,
   "id": "045936c6",
   "metadata": {
    "editable": true,
    "slideshow": {
     "slide_type": ""
    },
    "tags": []
   },
   "outputs": [
    {
     "data": {
      "text/html": [
       "3.14"
      ],
      "text/latex": [
       "3.14"
      ],
      "text/markdown": [
       "3.14"
      ],
      "text/plain": [
       "[1] 3.14"
      ]
     },
     "metadata": {},
     "output_type": "display_data"
    },
    {
     "data": {
      "text/html": [
       "'hello world'"
      ],
      "text/latex": [
       "'hello world'"
      ],
      "text/markdown": [
       "'hello world'"
      ],
      "text/plain": [
       "[1] \"hello world\""
      ]
     },
     "metadata": {},
     "output_type": "display_data"
    },
    {
     "data": {
      "text/html": [
       "<style>\n",
       ".list-inline {list-style: none; margin:0; padding: 0}\n",
       ".list-inline>li {display: inline-block}\n",
       ".list-inline>li:not(:last-child)::after {content: \"\\00b7\"; padding: 0 .5ex}\n",
       "</style>\n",
       "<ol class=list-inline><li>1</li><li>2</li><li>3</li><li>4</li></ol>\n"
      ],
      "text/latex": [
       "\\begin{enumerate*}\n",
       "\\item 1\n",
       "\\item 2\n",
       "\\item 3\n",
       "\\item 4\n",
       "\\end{enumerate*}\n"
      ],
      "text/markdown": [
       "1. 1\n",
       "2. 2\n",
       "3. 3\n",
       "4. 4\n",
       "\n",
       "\n"
      ],
      "text/plain": [
       "[1] 1 2 3 4"
      ]
     },
     "metadata": {},
     "output_type": "display_data"
    }
   ],
   "source": [
    "x\n",
    "message\n",
    "v"
   ]
  },
  {
   "cell_type": "markdown",
   "id": "d2c940eb",
   "metadata": {},
   "source": [
    "In this case the variable __x__ refers to an object of __type__ _double_ with __value__ 3.14. Notice that the __<-__ operator was used to associate a __variable__ with an __object__. You can also use __=__ to do this. To determine the __type__ of an __object__ referred to by a __variable__ x you can use the __typeof__ function. \n"
   ]
  },
  {
   "cell_type": "code",
   "execution_count": 6,
   "id": "66138aa3",
   "metadata": {},
   "outputs": [
    {
     "data": {
      "text/html": [
       "'double'"
      ],
      "text/latex": [
       "'double'"
      ],
      "text/markdown": [
       "'double'"
      ],
      "text/plain": [
       "[1] \"double\""
      ]
     },
     "metadata": {},
     "output_type": "display_data"
    }
   ],
   "source": [
    "typeof(x)"
   ]
  },
  {
   "cell_type": "markdown",
   "id": "11b7f4d4-9471-4436-8c35-4e6c86cff626",
   "metadata": {},
   "source": [
    "### Optional material 1 - Names and values"
   ]
  },
  {
   "cell_type": "markdown",
   "id": "80d885e4-b68d-471b-801e-063801ddc59e",
   "metadata": {},
   "source": [
    "The relationship between variables and values is well explained by Hadley Wickham in his highly regarded book [Advanced R](https://adv-r.hadley.nz/). See section 2.2 in the chapter [names and values](https://adv-r.hadley.nz/names-values.html)."
   ]
  },
  {
   "cell_type": "markdown",
   "id": "d76f65ff",
   "metadata": {
    "tags": [
     "hide-output"
    ]
   },
   "source": [
    "### <u>Exercise 1</u>\n",
    "Find out what **R** types message and v are ?"
   ]
  },
  {
   "cell_type": "code",
   "execution_count": 7,
   "id": "12d9dd20",
   "metadata": {
    "editable": true,
    "slideshow": {
     "slide_type": ""
    },
    "tags": [
     "hide-output",
     "hide-input"
    ]
   },
   "outputs": [
    {
     "data": {
      "text/html": [
       "'character'"
      ],
      "text/latex": [
       "'character'"
      ],
      "text/markdown": [
       "'character'"
      ],
      "text/plain": [
       "[1] \"character\""
      ]
     },
     "metadata": {},
     "output_type": "display_data"
    },
    {
     "data": {
      "text/html": [
       "'double'"
      ],
      "text/latex": [
       "'double'"
      ],
      "text/markdown": [
       "'double'"
      ],
      "text/plain": [
       "[1] \"double\""
      ]
     },
     "metadata": {},
     "output_type": "display_data"
    }
   ],
   "source": [
    "typeof(message)\n",
    "typeof(v)"
   ]
  },
  {
   "cell_type": "markdown",
   "id": "d07d0373",
   "metadata": {},
   "source": [
    "Many of the common mathematical functions available in **R** will work with vectors of values. For example"
   ]
  },
  {
   "cell_type": "code",
   "execution_count": 8,
   "id": "dff66b7a",
   "metadata": {},
   "outputs": [
    {
     "name": "stdout",
     "output_type": "stream",
     "text": [
      "0.841471 0.9092974 0.14112 -0.7568025"
     ]
    }
   ],
   "source": [
    "y<-sin(v)\n",
    "cat(y)"
   ]
  },
  {
   "cell_type": "markdown",
   "id": "3900c91f",
   "metadata": {},
   "source": [
    "### <u>Exercise 2</u>\n",
    "You can get information about a __function__ using the __help__ function. Open up a new **R** session in jupyter and \n",
    "run the following command to see what happens."
   ]
  },
  {
   "cell_type": "code",
   "execution_count": 9,
   "id": "ec2402e6",
   "metadata": {
    "editable": true,
    "slideshow": {
     "slide_type": ""
    },
    "tags": [
     "hide-output"
    ]
   },
   "outputs": [
    {
     "data": {
      "text/html": [
       "\n",
       "<table style=\"width: 100%;\"><tr><td>cat {base}</td><td style=\"text-align: right;\">R Documentation</td></tr></table>\n",
       "\n",
       "<h2 id='cat'>Concatenate and Print</h2>\n",
       "\n",
       "<h3>Description</h3>\n",
       "\n",
       "<p>Outputs the objects, concatenating the representations.  <code>cat</code>\n",
       "performs much less conversion than <code>print</code>.\n",
       "</p>\n",
       "\n",
       "\n",
       "<h3>Usage</h3>\n",
       "\n",
       "<pre><code class='language-R'>cat(... , file = \"\", sep = \" \", fill = FALSE, labels = NULL,\n",
       "    append = FALSE)\n",
       "</code></pre>\n",
       "\n",
       "\n",
       "<h3>Arguments</h3>\n",
       "\n",
       "<table>\n",
       "<tr><td><code id=\"cat_:_...\">...</code></td>\n",
       "<td>\n",
       "<p><span class=\"rlang\"><b>R</b></span> objects (see &lsquo;Details&rsquo; for the types of objects\n",
       "allowed).</p>\n",
       "</td></tr>\n",
       "<tr><td><code id=\"cat_:_file\">file</code></td>\n",
       "<td>\n",
       "<p>A connection, or a character string naming the file\n",
       "to print to.  If <code>\"\"</code> (the default), <code>cat</code> prints to the\n",
       "standard output connection, the console unless redirected by\n",
       "<code>sink</code>.\n",
       "If it is <code>\"|cmd\"</code>, the output is piped to the command given\n",
       "by &lsquo;<span class=\"file\">cmd</span>&rsquo;, by opening a pipe connection.\n",
       "</p>\n",
       "</td></tr>\n",
       "<tr><td><code id=\"cat_:_sep\">sep</code></td>\n",
       "<td>\n",
       "<p>a character vector of strings to append after each element.</p>\n",
       "</td></tr>\n",
       "<tr><td><code id=\"cat_:_fill\">fill</code></td>\n",
       "<td>\n",
       "<p>a logical or (positive) numeric controlling how the output is\n",
       "broken into successive lines.  If <code>FALSE</code> (default), only newlines\n",
       "created explicitly by &lsquo;<span class=\"samp\">&#8288;\"\\n\"&#8288;</span>&rsquo; are printed.  Otherwise, the\n",
       "output is broken into lines with print width equal to the option\n",
       "<code>width</code> if <code>fill</code> is <code>TRUE</code>, or the value of\n",
       "<code>fill</code> if this is numeric.  Linefeeds are only inserted\n",
       "<em>between</em> elements, strings wider than <code>fill</code> are not\n",
       "wrapped.  Non-positive <code>fill</code> values are\n",
       "ignored, with a warning.</p>\n",
       "</td></tr>\n",
       "<tr><td><code id=\"cat_:_labels\">labels</code></td>\n",
       "<td>\n",
       "<p>character vector of labels for the lines printed.\n",
       "Ignored if <code>fill</code> is <code>FALSE</code>.</p>\n",
       "</td></tr>\n",
       "<tr><td><code id=\"cat_:_append\">append</code></td>\n",
       "<td>\n",
       "<p>logical. Only used if the argument <code>file</code> is the\n",
       "name of file (and not a connection or <code>\"|cmd\"</code>).\n",
       "If <code>TRUE</code> output will be appended to\n",
       "<code>file</code>; otherwise, it will overwrite the contents of\n",
       "<code>file</code>.</p>\n",
       "</td></tr>\n",
       "</table>\n",
       "\n",
       "\n",
       "<h3>Details</h3>\n",
       "\n",
       "<p><code>cat</code> is useful for producing output in user-defined functions.\n",
       "It converts its arguments to character vectors, concatenates\n",
       "them to a single character vector, appends the given <code>sep = </code>\n",
       "string(s) to each element and then outputs them.\n",
       "</p>\n",
       "<p>No line feeds (aka &ldquo;newline&rdquo;s) are output unless explicitly\n",
       "requested by &lsquo;<span class=\"samp\">&#8288;\"\\n\"&#8288;</span>&rsquo;\n",
       "or if generated by filling (if argument <code>fill</code> is <code>TRUE</code> or\n",
       "numeric).\n",
       "</p>\n",
       "<p>If <code>file</code> is a connection and open for writing it is written from\n",
       "its current position.  If it is not open, it is opened for the\n",
       "duration of the call in <code>\"wt\"</code> mode and then closed again.\n",
       "</p>\n",
       "<p>Currently only atomic vectors and names are handled,\n",
       "together with <code>NULL</code> and other zero-length objects (which produce\n",
       "no output).  Character strings are output &lsquo;as is&rsquo; (unlike\n",
       "<code>print.default</code> which escapes non-printable characters and\n",
       "backslash &mdash; use <code>encodeString</code> if you want to output\n",
       "encoded strings using <code>cat</code>).  Other types of <span class=\"rlang\"><b>R</b></span> object should be\n",
       "converted (e.g., by <code>as.character</code> or <code>format</code>)\n",
       "before being passed to <code>cat</code>.  That includes factors, which are\n",
       "output as integer vectors.\n",
       "</p>\n",
       "<p><code>cat</code> converts numeric/complex elements in the same way as\n",
       "<code>print</code> (and not in the same way as <code>as.character</code>\n",
       "which is used by the S equivalent), so <code>options</code>\n",
       "<code>\"digits\"</code> and <code>\"scipen\"</code> are relevant.  However, it uses\n",
       "the minimum field width necessary for each element, rather than the\n",
       "same field width for all elements.\n",
       "</p>\n",
       "\n",
       "\n",
       "<h3>Value</h3>\n",
       "\n",
       "<p>None (invisible <code>NULL</code>).\n",
       "</p>\n",
       "\n",
       "\n",
       "<h3>Note</h3>\n",
       "\n",
       "<p>If any element of <code>sep</code> contains a newline character, it is\n",
       "treated as a vector of terminators rather than separators, an element\n",
       "being output after every vector element <em>and</em> a newline after the\n",
       "last.  Entries are recycled as needed.\n",
       "</p>\n",
       "\n",
       "\n",
       "<h3>References</h3>\n",
       "\n",
       "<p>Becker, R. A., Chambers, J. M. and Wilks, A. R. (1988)\n",
       "<em>The New S Language</em>.\n",
       "Wadsworth &amp; Brooks/Cole.\n",
       "</p>\n",
       "\n",
       "\n",
       "<h3>See Also</h3>\n",
       "\n",
       "<p><code>print</code>, <code>format</code>, and <code>paste</code>\n",
       "which concatenates into a string.\n",
       "</p>\n",
       "\n",
       "\n",
       "<h3>Examples</h3>\n",
       "\n",
       "<pre><code class='language-R'>iter &lt;- stats::rpois(1, lambda = 10)\n",
       "## print an informative message\n",
       "cat(\"iteration = \", iter &lt;- iter + 1, \"\\n\")\n",
       "\n",
       "## 'fill' and label lines:\n",
       "cat(paste(letters, 100* 1:26), fill = TRUE, labels = paste0(\"{\", 1:10, \"}:\"))\n",
       "</code></pre>\n",
       "\n",
       "<hr /><div style=\"text-align: center;\">[Package <em>base</em> version 4.3.3 ]</div>\n",
       "</div>"
      ],
      "text/latex": [
       "\\inputencoding{utf8}\n",
       "\\HeaderA{cat}{Concatenate and Print}{cat}\n",
       "\\keyword{print}{cat}\n",
       "\\keyword{file}{cat}\n",
       "\\keyword{connection}{cat}\n",
       "%\n",
       "\\begin{Description}\n",
       "Outputs the objects, concatenating the representations.  \\code{cat}\n",
       "performs much less conversion than \\code{\\LinkA{print}{print}}.\n",
       "\\end{Description}\n",
       "%\n",
       "\\begin{Usage}\n",
       "\\begin{verbatim}\n",
       "cat(... , file = \"\", sep = \" \", fill = FALSE, labels = NULL,\n",
       "    append = FALSE)\n",
       "\\end{verbatim}\n",
       "\\end{Usage}\n",
       "%\n",
       "\\begin{Arguments}\n",
       "\\begin{ldescription}\n",
       "\\item[\\code{...}] \\R{} objects (see `Details' for the types of objects\n",
       "allowed).\n",
       "\\item[\\code{file}] A \\LinkA{connection}{connection}, or a character string naming the file\n",
       "to print to.  If \\code{\"\"} (the default), \\code{cat} prints to the\n",
       "standard output connection, the console unless redirected by\n",
       "\\code{\\LinkA{sink}{sink}}.\n",
       "If it is \\code{\"|cmd\"}, the output is piped to the command given\n",
       "by \\file{cmd}, by opening a pipe connection.\n",
       "\n",
       "\\item[\\code{sep}] a character vector of strings to append after each element.\n",
       "\\item[\\code{fill}] a logical or (positive) numeric controlling how the output is\n",
       "broken into successive lines.  If \\code{FALSE} (default), only newlines\n",
       "created explicitly by \\samp{\"\\bsl{}n\"} are printed.  Otherwise, the\n",
       "output is broken into lines with print width equal to the option\n",
       "\\code{width} if \\code{fill} is \\code{TRUE}, or the value of\n",
       "\\code{fill} if this is numeric.  Linefeeds are only inserted\n",
       "\\emph{between} elements, strings wider than \\code{fill} are not\n",
       "wrapped.  Non-positive \\code{fill} values are\n",
       "ignored, with a warning.\n",
       "\\item[\\code{labels}] character vector of labels for the lines printed.\n",
       "Ignored if \\code{fill} is \\code{FALSE}.\n",
       "\\item[\\code{append}] logical. Only used if the argument \\code{file} is the\n",
       "name of file (and not a connection or \\code{\"|cmd\"}).\n",
       "If \\code{TRUE} output will be appended to\n",
       "\\code{file}; otherwise, it will overwrite the contents of\n",
       "\\code{file}.\n",
       "\\end{ldescription}\n",
       "\\end{Arguments}\n",
       "%\n",
       "\\begin{Details}\n",
       "\\code{cat} is useful for producing output in user-defined functions.\n",
       "It converts its arguments to character vectors, concatenates\n",
       "them to a single character vector, appends the given \\code{sep = }\n",
       "string(s) to each element and then outputs them.\n",
       "\n",
       "No line feeds (aka ``newline''s) are output unless explicitly\n",
       "requested by \\samp{\"\\bsl{}n\"}\n",
       "or if generated by filling (if argument \\code{fill} is \\code{TRUE} or\n",
       "numeric).\n",
       "\n",
       "If \\code{file} is a connection and open for writing it is written from\n",
       "its current position.  If it is not open, it is opened for the\n",
       "duration of the call in \\code{\"wt\"} mode and then closed again.\n",
       "\n",
       "Currently only \\LinkA{atomic}{atomic} vectors and \\LinkA{name}{name}s are handled,\n",
       "together with \\code{NULL} and other zero-length objects (which produce\n",
       "no output).  Character strings are output `as is' (unlike\n",
       "\\code{\\LinkA{print.default}{print.default}} which escapes non-printable characters and\n",
       "backslash --- use \\code{\\LinkA{encodeString}{encodeString}} if you want to output\n",
       "encoded strings using \\code{cat}).  Other types of \\R{} object should be\n",
       "converted (e.g., by \\code{\\LinkA{as.character}{as.character}} or \\code{\\LinkA{format}{format}})\n",
       "before being passed to \\code{cat}.  That includes factors, which are\n",
       "output as integer vectors.\n",
       "\n",
       "\\code{cat} converts numeric/complex elements in the same way as\n",
       "\\code{print} (and not in the same way as \\code{\\LinkA{as.character}{as.character}}\n",
       "which is used by the S equivalent), so \\code{\\LinkA{options}{options}}\n",
       "\\code{\"digits\"} and \\code{\"scipen\"} are relevant.  However, it uses\n",
       "the minimum field width necessary for each element, rather than the\n",
       "same field width for all elements.\n",
       "\\end{Details}\n",
       "%\n",
       "\\begin{Value}\n",
       "None (invisible \\code{NULL}).\n",
       "\\end{Value}\n",
       "%\n",
       "\\begin{Note}\n",
       "If any element of \\code{sep} contains a newline character, it is\n",
       "treated as a vector of terminators rather than separators, an element\n",
       "being output after every vector element \\emph{and} a newline after the\n",
       "last.  Entries are recycled as needed.\n",
       "\\end{Note}\n",
       "%\n",
       "\\begin{References}\n",
       "Becker, R. A., Chambers, J. M. and Wilks, A. R. (1988)\n",
       "\\emph{The New S Language}.\n",
       "Wadsworth \\& Brooks/Cole.\n",
       "\\end{References}\n",
       "%\n",
       "\\begin{SeeAlso}\n",
       "\\code{\\LinkA{print}{print}}, \\code{\\LinkA{format}{format}}, and \\code{\\LinkA{paste}{paste}}\n",
       "which concatenates into a string.\n",
       "\\end{SeeAlso}\n",
       "%\n",
       "\\begin{Examples}\n",
       "\\begin{ExampleCode}\n",
       "iter <- stats::rpois(1, lambda = 10)\n",
       "## print an informative message\n",
       "cat(\"iteration = \", iter <- iter + 1, \"\\n\")\n",
       "\n",
       "## 'fill' and label lines:\n",
       "cat(paste(letters, 100* 1:26), fill = TRUE, labels = paste0(\"{\", 1:10, \"}:\"))\n",
       "\\end{ExampleCode}\n",
       "\\end{Examples}"
      ],
      "text/plain": [
       "cat                    package:base                    R Documentation\n",
       "\n",
       "_\bC_\bo_\bn_\bc_\ba_\bt_\be_\bn_\ba_\bt_\be _\ba_\bn_\bd _\bP_\br_\bi_\bn_\bt\n",
       "\n",
       "_\bD_\be_\bs_\bc_\br_\bi_\bp_\bt_\bi_\bo_\bn:\n",
       "\n",
       "     Outputs the objects, concatenating the representations.  ‘cat’\n",
       "     performs much less conversion than ‘print’.\n",
       "\n",
       "_\bU_\bs_\ba_\bg_\be:\n",
       "\n",
       "     cat(... , file = \"\", sep = \" \", fill = FALSE, labels = NULL,\n",
       "         append = FALSE)\n",
       "     \n",
       "_\bA_\br_\bg_\bu_\bm_\be_\bn_\bt_\bs:\n",
       "\n",
       "     ...: R objects (see ‘Details’ for the types of objects allowed).\n",
       "\n",
       "    file: A connection, or a character string naming the file to print\n",
       "          to.  If ‘\"\"’ (the default), ‘cat’ prints to the standard\n",
       "          output connection, the console unless redirected by ‘sink’.\n",
       "          If it is ‘\"|cmd\"’, the output is piped to the command given\n",
       "          by ‘cmd’, by opening a pipe connection.\n",
       "\n",
       "     sep: a character vector of strings to append after each element.\n",
       "\n",
       "    fill: a logical or (positive) numeric controlling how the output is\n",
       "          broken into successive lines.  If ‘FALSE’ (default), only\n",
       "          newlines created explicitly by ‘\"\\n\"’ are printed.\n",
       "          Otherwise, the output is broken into lines with print width\n",
       "          equal to the option ‘width’ if ‘fill’ is ‘TRUE’, or the value\n",
       "          of ‘fill’ if this is numeric.  Linefeeds are only inserted\n",
       "          _between_ elements, strings wider than ‘fill’ are not\n",
       "          wrapped.  Non-positive ‘fill’ values are ignored, with a\n",
       "          warning.\n",
       "\n",
       "  labels: character vector of labels for the lines printed.  Ignored if\n",
       "          ‘fill’ is ‘FALSE’.\n",
       "\n",
       "  append: logical. Only used if the argument ‘file’ is the name of file\n",
       "          (and not a connection or ‘\"|cmd\"’).  If ‘TRUE’ output will be\n",
       "          appended to ‘file’; otherwise, it will overwrite the contents\n",
       "          of ‘file’.\n",
       "\n",
       "_\bD_\be_\bt_\ba_\bi_\bl_\bs:\n",
       "\n",
       "     ‘cat’ is useful for producing output in user-defined functions.\n",
       "     It converts its arguments to character vectors, concatenates them\n",
       "     to a single character vector, appends the given ‘sep = ’ string(s)\n",
       "     to each element and then outputs them.\n",
       "\n",
       "     No line feeds (aka “newline”s) are output unless explicitly\n",
       "     requested by ‘\"\\n\"’ or if generated by filling (if argument ‘fill’\n",
       "     is ‘TRUE’ or numeric).\n",
       "\n",
       "     If ‘file’ is a connection and open for writing it is written from\n",
       "     its current position.  If it is not open, it is opened for the\n",
       "     duration of the call in ‘\"wt\"’ mode and then closed again.\n",
       "\n",
       "     Currently only atomic vectors and names are handled, together with\n",
       "     ‘NULL’ and other zero-length objects (which produce no output).\n",
       "     Character strings are output ‘as is’ (unlike ‘print.default’ which\n",
       "     escapes non-printable characters and backslash - use\n",
       "     ‘encodeString’ if you want to output encoded strings using ‘cat’).\n",
       "     Other types of R object should be converted (e.g., by\n",
       "     ‘as.character’ or ‘format’) before being passed to ‘cat’.  That\n",
       "     includes factors, which are output as integer vectors.\n",
       "\n",
       "     ‘cat’ converts numeric/complex elements in the same way as ‘print’\n",
       "     (and not in the same way as ‘as.character’ which is used by the S\n",
       "     equivalent), so ‘options’ ‘\"digits\"’ and ‘\"scipen\"’ are relevant.\n",
       "     However, it uses the minimum field width necessary for each\n",
       "     element, rather than the same field width for all elements.\n",
       "\n",
       "_\bV_\ba_\bl_\bu_\be:\n",
       "\n",
       "     None (invisible ‘NULL’).\n",
       "\n",
       "_\bN_\bo_\bt_\be:\n",
       "\n",
       "     If any element of ‘sep’ contains a newline character, it is\n",
       "     treated as a vector of terminators rather than separators, an\n",
       "     element being output after every vector element _and_ a newline\n",
       "     after the last.  Entries are recycled as needed.\n",
       "\n",
       "_\bR_\be_\bf_\be_\br_\be_\bn_\bc_\be_\bs:\n",
       "\n",
       "     Becker, R. A., Chambers, J. M. and Wilks, A. R. (1988) _The New S\n",
       "     Language_.  Wadsworth & Brooks/Cole.\n",
       "\n",
       "_\bS_\be_\be _\bA_\bl_\bs_\bo:\n",
       "\n",
       "     ‘print’, ‘format’, and ‘paste’ which concatenates into a string.\n",
       "\n",
       "_\bE_\bx_\ba_\bm_\bp_\bl_\be_\bs:\n",
       "\n",
       "     iter <- stats::rpois(1, lambda = 10)\n",
       "     ## print an informative message\n",
       "     cat(\"iteration = \", iter <- iter + 1, \"\\n\")\n",
       "     \n",
       "     ## 'fill' and label lines:\n",
       "     cat(paste(letters, 100* 1:26), fill = TRUE, labels = paste0(\"{\", 1:10, \"}:\"))\n",
       "     "
      ]
     },
     "metadata": {},
     "output_type": "display_data"
    }
   ],
   "source": [
    "help(cat)"
   ]
  },
  {
   "cell_type": "markdown",
   "id": "df9af287",
   "metadata": {},
   "source": [
    "## Loading packages"
   ]
  },
  {
   "cell_type": "markdown",
   "id": "c80996b7",
   "metadata": {},
   "source": [
    "There are many \"add ons\" for **R**. The add ons are contained in __packages__. A __package__ can be loaded into an **R** session \n",
    "using the _library_ function. For example, there is a package called _MASS_. It can be loaded as follows."
   ]
  },
  {
   "cell_type": "code",
   "execution_count": 10,
   "id": "464d73cb",
   "metadata": {},
   "outputs": [],
   "source": [
    "library(MASS)"
   ]
  },
  {
   "cell_type": "markdown",
   "id": "5d839f73",
   "metadata": {},
   "source": [
    "You can also use the __library__ function to obtain information about a library. Try loading the _MASS_ package \n",
    "using the __library__ function in your jupyter notebook and find out what it kind of things it offers."
   ]
  },
  {
   "cell_type": "code",
   "execution_count": 11,
   "id": "1c419e3a",
   "metadata": {
    "editable": true,
    "slideshow": {
     "slide_type": ""
    },
    "tags": []
   },
   "outputs": [
    {
     "data": {
      "text/plain": [
       "Documentation for package ‘MASS’\n",
       "\n",
       "\n",
       "\t\tInformation on package ‘MASS’\n",
       "\n",
       "Description:\n",
       "\n",
       "Package:            MASS\n",
       "Priority:           recommended\n",
       "Version:            7.3-60.0.1\n",
       "Date:               2024-01-12\n",
       "Revision:           $Rev: 3621 $\n",
       "Depends:            R (>= 4.0), grDevices, graphics, stats, utils\n",
       "Imports:            methods\n",
       "Suggests:           lattice, nlme, nnet, survival\n",
       "Authors@R:          c(person(\"Brian\", \"Ripley\", role = c(\"aut\", \"cre\",\n",
       "                    \"cph\"), email = \"ripley@stats.ox.ac.uk\"),\n",
       "                    person(\"Bill\", \"Venables\", role = \"ctb\"),\n",
       "                    person(c(\"Douglas\", \"M.\"), \"Bates\", role = \"ctb\"),\n",
       "                    person(\"Kurt\", \"Hornik\", role = \"trl\", comment =\n",
       "                    \"partial port ca 1998\"), person(\"Albrecht\",\n",
       "                    \"Gebhardt\", role = \"trl\", comment = \"partial port\n",
       "                    ca 1998\"), person(\"David\", \"Firth\", role = \"ctb\"))\n",
       "Description:        Functions and datasets to support Venables and\n",
       "                    Ripley, \"Modern Applied Statistics with S\" (4th\n",
       "                    edition, 2002).\n",
       "Title:              Support Functions and Datasets for Venables and\n",
       "                    Ripley's MASS\n",
       "LazyData:           yes\n",
       "ByteCompile:        yes\n",
       "License:            GPL-2 | GPL-3\n",
       "URL:                http://www.stats.ox.ac.uk/pub/MASS4/\n",
       "Contact:            <MASS@stats.ox.ac.uk>\n",
       "NeedsCompilation:   yes\n",
       "Packaged:           2024-01-13 12:39:26 UTC; ripley\n",
       "Author:             Brian Ripley [aut, cre, cph], Bill Venables [ctb],\n",
       "                    Douglas M. Bates [ctb], Kurt Hornik [trl] (partial\n",
       "                    port ca 1998), Albrecht Gebhardt [trl] (partial\n",
       "                    port ca 1998), David Firth [ctb]\n",
       "Maintainer:         Brian Ripley <ripley@stats.ox.ac.uk>\n",
       "Repository:         CRAN\n",
       "Date/Publication:   2024-01-13 13:36:16 UTC\n",
       "Built:              R 4.3.2; x86_64-pc-linux-gnu; 'Sun, 14 Jan 2024\n",
       "                    08:35:01 -0600'; unix\n",
       "\n",
       "Index:\n",
       "\n",
       "Functions:\n",
       "=========\n",
       "\n",
       "Null                    Null Spaces of Matrices\n",
       "addterm                 Try All One-Term Additions to a Model\n",
       "anova.negbin            Likelihood Ratio Tests for Negative Binomial GLMs\n",
       "area                    Adaptive Numerical Integration\n",
       "bandwidth.nrd           Bandwidth for density() via Normal Reference\n",
       "                          Distribution\n",
       "bcv                     Biased Cross-Validation for Bandwidth Selection\n",
       "boxcox                  Box-Cox Transformations for Linear Models\n",
       "con2tr                  Convert Lists to Data Frames for use by lattice\n",
       "confint-MASS            Confidence Intervals for Model Parameters\n",
       "contr.sdif              Successive Differences Contrast Coding\n",
       "corresp                 Simple Correspondence Analysis\n",
       "cov.rob                 Resistant Estimation of Multivariate Location and\n",
       "                          Scatter\n",
       "cov.trob                Covariance Estimation for Multivariate t Distribution\n",
       "denumerate              Transform an Allowable Formula for 'loglm'\n",
       "                          into one for 'terms'\n",
       "dose.p                  Predict Doses for Binomial Assay model\n",
       "dropterm                Try All One-Term Deletions from a Model\n",
       "eqscplot                Plots with Geometrically Equal Scales\n",
       "fitdistr                Maximum-likelihood Fitting of Univariate Distributions\n",
       "fractions               Rational Approximation\n",
       "gamma.dispersion        Calculate the MLE of the Gamma Dispersion Parameter\n",
       "\t\t\t  in a GLM Fit\n",
       "gamma.shape             Estimate the Shape Parameter of the Gamma Distribution \n",
       "\t\t\t  in a GLM Fit\n",
       "ginv                    Generalized Inverse of a Matrix\n",
       "glm.convert             Change a Negative Binomial fit to a GLM fit\n",
       "glm.nb                  Fit a Negative Binomial Generalized Linear Model\n",
       "glmmPQL                 Fit Generalized Linear Mixed Models via PQL\n",
       "hist.scott              Plot a Histogram with Automatic Bin Width Selection\n",
       "huber                   Huber M-estimator of Location with MAD Scale\n",
       "hubers                  Huber Proposal 2 Robust Estimator of Location\n",
       "                          and/or Scale\n",
       "isoMDS                  Kruskal's Non-metric Multidimensional Scaling\n",
       "kde2d                   Two-Dimensional Kernel Density Estimation\n",
       "lda                     Linear Discriminant Analysis\n",
       "ldahist                 Histograms or Density Plots of Multiple Groups\n",
       "lm.gls                  Fit Linear Models by Generalized Least Squares\n",
       "lm.ridge                Ridge Regression\n",
       "loglm                   Fit Log-Linear Models by Iterative\n",
       "                        Proportional Scaling\n",
       "logtrans                Estimate log Transformation Parameter\n",
       "lqs\t\t\tResistant Regression\n",
       "mca                     Multiple Correspondence Analysis\n",
       "mvrnorm                 Simulate from a Multivariate Normal Distribution\n",
       "negative.binomial       Family function for Negative Binomial GLMs\n",
       "newcomb                 Newcomb's Measurements of the Passage Time of Light\n",
       "pairs.lda               Produce Pairwise Scatterplots from an 'lda' Fit\n",
       "parcoord                Parallel Coordinates Plot\n",
       "plot.lda                Plot Method for Class 'lda'\n",
       "plot.mca                Plot Method for Objects of Class 'mca'\n",
       "polr                    Proportional Odds Logistic Regression\n",
       "predict.lda             Classify Multivariate Observations by Linear\n",
       "                          Discrimination\n",
       "predict.lqs             Predict from an lqs Fit\n",
       "predict.mca             Predict Method for Class 'mca'\n",
       "predict.qda             Classify from Quadratic Discriminant Analysis\n",
       "profile.glm             Method for Profiling glm Objects\n",
       "qda                     Quadratic Discriminant Analysis\n",
       "rational                Rational Approximation\n",
       "renumerate              Convert a Formula Transformed by 'denumerate'\n",
       "rlm                     Robust Fitting of Linear Models\n",
       "rms.curv                Relative Curvature Measures for Non-Linear Regression\n",
       "rnegbin                 Simulate Negative Binomial Variates\n",
       "sammon                  Sammon's Non-Linear Mapping\n",
       "stdres                  Extract Standardized Residuals from a Linear Model\n",
       "stepAIC                 Choose a model by AIC in a Stepwise Algorithm\n",
       "studres                 Extract Studentized Residuals from a Linear Model\n",
       "summary.loglm           Summary Method Function for Objects of Class 'loglm'\n",
       "summary.negbin          Summary Method Function for Objects of Class 'negbin'\n",
       "summary.rlm             Summary Method for Robust Linear Models\n",
       "theta.md                Estimate theta of the Negative Binomial by Deviance\n",
       "theta.ml                Estimate theta of the Negative Binomial by Maximum\n",
       "\t\t\t  Likelihood\n",
       "theta.mm                Estimate theta of the Negative Binomial by Moments\n",
       "truehist                Plot a Histogram\n",
       "ucv                     Unbiased Cross-Validation for Bandwidth Selection\n",
       "width.SJ                Bandwidth Selection by Pilot Estimation of Derivatives\n",
       "write.matrix            Write a Matrix or Data Frame\n",
       "\n",
       "\n",
       "Datasets:\n",
       "========\n",
       "\n",
       "Aids2                   Australian AIDS Survival Data\n",
       "Animals                 Brain and Body Weights for 28 Species\n",
       "Boston                  Housing Values in Suburbs of Boston\n",
       "Cars93                  Data from 93 Cars on Sale in the USA in 1993\n",
       "Cushings                Diagnostic Tests on Patients with Cushing's Syndrome\n",
       "DDT                     DDT in Kale\n",
       "GAGurine                Level of GAG in Urine of Children\n",
       "Insurance               Numbers of Car Insurance claims\n",
       "Melanoma                Survival from Malignant Melanoma\n",
       "OME                     Tests of Auditory Perception in Children with OME\n",
       "Pima.tr                 Diabetes in Pima Indian Women\n",
       "Rabbit                  Blood Pressure in Rabbits\n",
       "Rubber                  Accelerated Testing of Tyre Rubber\n",
       "SP500                   Returns of the Standard and Poors 500\n",
       "Sitka                   Growth Curves for Sitka Spruce Trees in 1988\n",
       "Sitka89                 Growth Curves for Sitka Spruce Trees in 1989\n",
       "Skye                    AFM Compositions of Aphyric Skye Lavas\n",
       "Traffic                 Effect of Swedish Speed Limits on Accidents\n",
       "UScereal                Nutritional and Marketing Information on US Cereals\n",
       "UScrime                 The Effect of Punishment Regimes on Crime Rates\n",
       "VA                      Veteran's Administration Lung Cancer Trial\n",
       "abbey                   Determinations of Nickel Content\n",
       "accdeaths               Accidental Deaths in the US 1973-1978\n",
       "anorexia                Anorexia Data on Weight Change\n",
       "bacteria                Presence of Bacteria after Drug Treatments\n",
       "beav1                   Body Temperature Series of Beaver 1\n",
       "beav2                   Body Temperature Series of Beaver 2\n",
       "biopsy                  Biopsy Data on Breast Cancer Patients\n",
       "birthwt                 Risk Factors Associated with Low Infant Birth Weight\n",
       "cabbages                Data from a cabbage field trial\n",
       "caith                   Colours of Eyes and Hair of People in Caithness\n",
       "cats                    Anatomical Data from Domestic Cats\n",
       "cement                  Heat Evolved by Setting Cements\n",
       "chem                    Copper in Wholemeal Flour\n",
       "coop                    Co-operative Trial in Analytical Chemistry\n",
       "cpus                    Performance of Computer CPUs\n",
       "crabs                   Morphological Measurements on Leptograpsus Crabs\n",
       "deaths                  Monthly Deaths from Lung Diseases in the UK\n",
       "drivers                 Deaths of Car Drivers in Great Britain 1969-84\n",
       "eagles                  Foraging Ecology of Bald Eagles\n",
       "epil                    Seizure Counts for Epileptics\n",
       "farms                   Ecological Factors in Farm Management\n",
       "fgl                     Measurements of Forensic Glass Fragments\n",
       "forbes                  Forbes' Data on Boiling Points in the Alps\n",
       "galaxies                Velocities for 82 Galaxies\n",
       "gehan                   Remission Times of Leukaemia Patients\n",
       "genotype                Rat Genotype Data\n",
       "geyser                  Old Faithful Geyser Data\n",
       "gilgais                 Line Transect of Soil in Gilgai Territory\n",
       "hills                   Record Times in Scottish Hill Races\n",
       "housing                 Frequency Table from a Copenhagen Housing Conditions \n",
       "\t\t\t  Survey\n",
       "immer                   Yields from a Barley Field Trial\n",
       "leuk                    Survival Times and White Blood Counts for\n",
       "                          Leukaemia Patients\n",
       "mammals                 Brain and Body Weights for 62 Species of Land Mammals\n",
       "mcycle                  Data from a Simulated Motorcycle Accident\n",
       "menarche                Age of Menarche in Warsaw\n",
       "michelson               Michelson's Speed of Light Data\n",
       "minn38                  Minnesota High School Graduates of 1938\n",
       "motors                  Accelerated Life Testing of Motorettes\n",
       "muscle                  Effect of Calcium Chloride on Muscle Contraction\n",
       "\t\t\t  in Rat Hearts\n",
       "newcomb                 Newcomb's Measurements of the Passage Time of Light\n",
       "nlschools               Eighth-Grade Pupils in the Netherlands\n",
       "npk                     Classical N, P, K Factorial Experiment\n",
       "npr1                    US Naval Petroleum Reserve No. 1 data\n",
       "oats                    Data from an Oats Field Trial\n",
       "painters                The Painter's Data of de Piles\n",
       "petrol                  N. L. Prater's Petrol Refinery Data\n",
       "phones                  Belgium Phone Calls 1950-1973\n",
       "quine                   Absenteeism from School in Rural New South Wales\n",
       "road                    Road Accident Deaths in US States\n",
       "rotifer                 Numbers of Rotifers by Fluid Density\n",
       "ships                   Ships Damage Data\n",
       "shoes                   Shoe wear data of Box, Hunter and Hunter\n",
       "shrimp                  Percentage of Shrimp in Shrimp Cocktail\n",
       "shuttle                 Space Shuttle Autolander Problem\n",
       "snails                  Snail Mortality Data\n",
       "steam                   The Saturated Steam Pressure Data\n",
       "stormer                 The Stormer Viscometer Data\n",
       "survey                  Student Survey Data\n",
       "synth.tr                Synthetic Classification Problem\n",
       "topo                    Spatial Topographic Data\n",
       "waders                  Counts of Waders at 15 Sites in South Africa\n",
       "whiteside               House Insulation: Whiteside's Data\n",
       "wtloss                  Weight Loss Data from an Obese Patient"
      ]
     },
     "metadata": {},
     "output_type": "display_data"
    }
   ],
   "source": [
    "library(help=\"MASS\")"
   ]
  },
  {
   "cell_type": "markdown",
   "id": "7eccdd27",
   "metadata": {},
   "source": [
    "Try loading the MASS package using the __library__ function in your jupyter notebook and find out what it kind of things it offers."
   ]
  },
  {
   "cell_type": "markdown",
   "id": "ee7b86f5",
   "metadata": {},
   "source": [
    "There are many many packages for R, and you can make your own (not covered in this course). Most of them do not come \n",
    "as part of a standard R installation, but they are typically available from various online repositories, for example, [CRAN](https://cran.r-project.org/), or frequently from github repositories.\n",
    "\n",
    "Before you can load a __package__ it has to be installed on your system. If it is not yet installed you can install it using the __install.packages__ function. Note that this is not the only way, but it works well for the large number of generally well maintained packages that are available from CRAN. For instance, the _zoo_ package is not usually part of an R installation so might not be installed on your system. "
   ]
  },
  {
   "cell_type": "markdown",
   "id": "042a00da",
   "metadata": {},
   "source": [
    "### <u>Exercise 3</u>\n",
    "Try running the following code\n",
    "in your notebook."
   ]
  },
  {
   "cell_type": "code",
   "execution_count": 12,
   "id": "2bce2f7b",
   "metadata": {},
   "outputs": [
    {
     "name": "stderr",
     "output_type": "stream",
     "text": [
      "\n",
      "Attaching package: ‘zoo’\n",
      "\n",
      "\n",
      "The following objects are masked from ‘package:base’:\n",
      "\n",
      "    as.Date, as.Date.numeric\n",
      "\n",
      "\n"
     ]
    }
   ],
   "source": [
    "library(\"zoo\")"
   ]
  },
  {
   "cell_type": "markdown",
   "id": "394149d8",
   "metadata": {},
   "source": [
    "Using the __install.packages__ function you can install _zoo_ from CRAN."
   ]
  },
  {
   "cell_type": "code",
   "execution_count": 13,
   "id": "59b47745",
   "metadata": {},
   "outputs": [
    {
     "name": "stderr",
     "output_type": "stream",
     "text": [
      "Installing package into ‘/home/grosed/R-notes-env/R-packages’\n",
      "(as ‘lib’ is unspecified)\n",
      "\n"
     ]
    }
   ],
   "source": [
    "install.packages(\"zoo\")\n"
   ]
  },
  {
   "cell_type": "markdown",
   "id": "ee6d13a3",
   "metadata": {},
   "source": [
    "Note that, once a library has been installed, it can be loaded using the __library__ function and does not need \n",
    "to be reinstalled each time you use it. Packages can also be uninstalled using the __remove.packages__ function.\n",
    "\n",
    "You should now be able to load the _zoo_ package."
   ]
  },
  {
   "cell_type": "code",
   "execution_count": 14,
   "id": "098cb38b",
   "metadata": {},
   "outputs": [],
   "source": [
    "library(zoo)"
   ]
  },
  {
   "cell_type": "markdown",
   "id": "edea4521",
   "metadata": {},
   "source": [
    "Some packages (but not all) have a _vignette_ associated with them. Once the package is installed and loaded these\n",
    "vignettes (if they exist) can be accessed using the __vignette__ function."
   ]
  },
  {
   "cell_type": "code",
   "execution_count": 15,
   "id": "a6881f74",
   "metadata": {},
   "outputs": [],
   "source": [
    "vignette(\"zoo\")"
   ]
  },
  {
   "cell_type": "markdown",
   "id": "ff9e4248",
   "metadata": {},
   "source": [
    "There are functions that help you search for functions. These include __apropos__ and __find__."
   ]
  },
  {
   "cell_type": "code",
   "execution_count": 16,
   "id": "428ca0ad",
   "metadata": {},
   "outputs": [
    {
     "data": {
      "text/html": [
       "<style>\n",
       ".list-inline {list-style: none; margin:0; padding: 0}\n",
       ".list-inline>li {display: inline-block}\n",
       ".list-inline>li:not(:last-child)::after {content: \"\\00b7\"; padding: 0 .5ex}\n",
       "</style>\n",
       "<ol class=list-inline><li>'.colMeans'</li><li>'.rowMeans'</li><li>'colMeans'</li><li>'kmeans'</li><li>'mean'</li><li>'mean.Date'</li><li>'mean.default'</li><li>'mean.difftime'</li><li>'mean.POSIXct'</li><li>'mean.POSIXlt'</li><li>'rollmean'</li><li>'rollmean.default'</li><li>'rollmeanr'</li><li>'rowMeans'</li><li>'weighted.mean'</li></ol>\n"
      ],
      "text/latex": [
       "\\begin{enumerate*}\n",
       "\\item '.colMeans'\n",
       "\\item '.rowMeans'\n",
       "\\item 'colMeans'\n",
       "\\item 'kmeans'\n",
       "\\item 'mean'\n",
       "\\item 'mean.Date'\n",
       "\\item 'mean.default'\n",
       "\\item 'mean.difftime'\n",
       "\\item 'mean.POSIXct'\n",
       "\\item 'mean.POSIXlt'\n",
       "\\item 'rollmean'\n",
       "\\item 'rollmean.default'\n",
       "\\item 'rollmeanr'\n",
       "\\item 'rowMeans'\n",
       "\\item 'weighted.mean'\n",
       "\\end{enumerate*}\n"
      ],
      "text/markdown": [
       "1. '.colMeans'\n",
       "2. '.rowMeans'\n",
       "3. 'colMeans'\n",
       "4. 'kmeans'\n",
       "5. 'mean'\n",
       "6. 'mean.Date'\n",
       "7. 'mean.default'\n",
       "8. 'mean.difftime'\n",
       "9. 'mean.POSIXct'\n",
       "10. 'mean.POSIXlt'\n",
       "11. 'rollmean'\n",
       "12. 'rollmean.default'\n",
       "13. 'rollmeanr'\n",
       "14. 'rowMeans'\n",
       "15. 'weighted.mean'\n",
       "\n",
       "\n"
      ],
      "text/plain": [
       " [1] \".colMeans\"        \".rowMeans\"        \"colMeans\"         \"kmeans\"          \n",
       " [5] \"mean\"             \"mean.Date\"        \"mean.default\"     \"mean.difftime\"   \n",
       " [9] \"mean.POSIXct\"     \"mean.POSIXlt\"     \"rollmean\"         \"rollmean.default\"\n",
       "[13] \"rollmeanr\"        \"rowMeans\"         \"weighted.mean\"   "
      ]
     },
     "metadata": {},
     "output_type": "display_data"
    }
   ],
   "source": [
    "apropos(\"mean\")"
   ]
  },
  {
   "cell_type": "code",
   "execution_count": 17,
   "id": "eb8ed847",
   "metadata": {},
   "outputs": [
    {
     "data": {
      "text/html": [
       "'package:zoo'"
      ],
      "text/latex": [
       "'package:zoo'"
      ],
      "text/markdown": [
       "'package:zoo'"
      ],
      "text/plain": [
       "[1] \"package:zoo\""
      ]
     },
     "metadata": {},
     "output_type": "display_data"
    }
   ],
   "source": [
    "find(\"rollmean\")"
   ]
  },
  {
   "cell_type": "markdown",
   "id": "fda1067b",
   "metadata": {},
   "source": [
    "It is also possible to search across packages that are available from the main repositories using the __RSiteSearch__ function."
   ]
  },
  {
   "cell_type": "code",
   "execution_count": 18,
   "id": "753bb56a",
   "metadata": {},
   "outputs": [
    {
     "name": "stdout",
     "output_type": "stream",
     "text": [
      "A search query has been submitted to https://search.r-project.org\n",
      "The results page should open in your browser shortly\n"
     ]
    }
   ],
   "source": [
    "RSiteSearch(\"runmed\")"
   ]
  },
  {
   "cell_type": "markdown",
   "id": "fd5f1b82",
   "metadata": {},
   "source": [
    "## Managing an R session"
   ]
  },
  {
   "cell_type": "markdown",
   "id": "944c1d3c",
   "metadata": {},
   "source": [
    "There are some basic functions to help you manage the variables, data, packages in your R session. The three main ones are\n",
    "\n",
    "- __ls__ lists the objects in your workspace.\n",
    "- __list.files__ lists the files located in the folder's workspace\n",
    "- __rm__ removes objects from your workspace; rm(list = ls()) removes them all.\n",
    "\n",
    "For example"
   ]
  },
  {
   "cell_type": "code",
   "execution_count": 19,
   "id": "70152eb7",
   "metadata": {},
   "outputs": [
    {
     "data": {
      "text/html": [
       "<style>\n",
       ".list-inline {list-style: none; margin:0; padding: 0}\n",
       ".list-inline>li {display: inline-block}\n",
       ".list-inline>li:not(:last-child)::after {content: \"\\00b7\"; padding: 0 .5ex}\n",
       "</style>\n",
       "<ol class=list-inline><li>'message'</li><li>'v'</li><li>'x'</li><li>'y'</li></ol>\n"
      ],
      "text/latex": [
       "\\begin{enumerate*}\n",
       "\\item 'message'\n",
       "\\item 'v'\n",
       "\\item 'x'\n",
       "\\item 'y'\n",
       "\\end{enumerate*}\n"
      ],
      "text/markdown": [
       "1. 'message'\n",
       "2. 'v'\n",
       "3. 'x'\n",
       "4. 'y'\n",
       "\n",
       "\n"
      ],
      "text/plain": [
       "[1] \"message\" \"v\"       \"x\"       \"y\"      "
      ]
     },
     "metadata": {},
     "output_type": "display_data"
    }
   ],
   "source": [
    "ls()"
   ]
  },
  {
   "cell_type": "code",
   "execution_count": 20,
   "id": "ab102521",
   "metadata": {},
   "outputs": [],
   "source": [
    "rm(y)"
   ]
  },
  {
   "cell_type": "code",
   "execution_count": 21,
   "id": "5df755d7",
   "metadata": {},
   "outputs": [
    {
     "data": {
      "text/html": [
       "<style>\n",
       ".list-inline {list-style: none; margin:0; padding: 0}\n",
       ".list-inline>li {display: inline-block}\n",
       ".list-inline>li:not(:last-child)::after {content: \"\\00b7\"; padding: 0 .5ex}\n",
       "</style>\n",
       "<ol class=list-inline><li>'message'</li><li>'v'</li><li>'x'</li></ol>\n"
      ],
      "text/latex": [
       "\\begin{enumerate*}\n",
       "\\item 'message'\n",
       "\\item 'v'\n",
       "\\item 'x'\n",
       "\\end{enumerate*}\n"
      ],
      "text/markdown": [
       "1. 'message'\n",
       "2. 'v'\n",
       "3. 'x'\n",
       "\n",
       "\n"
      ],
      "text/plain": [
       "[1] \"message\" \"v\"       \"x\"      "
      ]
     },
     "metadata": {},
     "output_type": "display_data"
    }
   ],
   "source": [
    "ls()"
   ]
  },
  {
   "cell_type": "markdown",
   "id": "2f1931e1",
   "metadata": {},
   "source": [
    "Note that "
   ]
  },
  {
   "cell_type": "code",
   "execution_count": 22,
   "id": "e83c5aee",
   "metadata": {},
   "outputs": [],
   "source": [
    "rm(list=ls())"
   ]
  },
  {
   "cell_type": "markdown",
   "id": "83d9fbc1",
   "metadata": {},
   "source": [
    "removes ALL of your data and variables !!"
   ]
  },
  {
   "cell_type": "code",
   "execution_count": 23,
   "id": "a99fcdcb",
   "metadata": {},
   "outputs": [
    {
     "data": {
      "text/html": [],
      "text/latex": [],
      "text/markdown": [],
      "text/plain": [
       "character(0)"
      ]
     },
     "metadata": {},
     "output_type": "display_data"
    }
   ],
   "source": [
    "ls()"
   ]
  },
  {
   "cell_type": "markdown",
   "id": "f4d7e93c",
   "metadata": {},
   "source": [
    "The __sessionInfo__ gives information about your session, i.e., loaded packages, R version, etc."
   ]
  },
  {
   "cell_type": "code",
   "execution_count": 24,
   "id": "accb0446",
   "metadata": {},
   "outputs": [
    {
     "data": {
      "text/plain": [
       "R version 4.3.3 (2024-02-29)\n",
       "Platform: x86_64-pc-linux-gnu (64-bit)\n",
       "Running under: Ubuntu 24.04 LTS\n",
       "\n",
       "Matrix products: default\n",
       "BLAS:   /usr/lib/x86_64-linux-gnu/blas/libblas.so.3.12.0 \n",
       "LAPACK: /usr/lib/x86_64-linux-gnu/lapack/liblapack.so.3.12.0\n",
       "\n",
       "locale:\n",
       " [1] LC_CTYPE=en_US.UTF-8       LC_NUMERIC=C              \n",
       " [3] LC_TIME=en_US.UTF-8        LC_COLLATE=en_US.UTF-8    \n",
       " [5] LC_MONETARY=en_US.UTF-8    LC_MESSAGES=en_US.UTF-8   \n",
       " [7] LC_PAPER=en_US.UTF-8       LC_NAME=C                 \n",
       " [9] LC_ADDRESS=C               LC_TELEPHONE=C            \n",
       "[11] LC_MEASUREMENT=en_US.UTF-8 LC_IDENTIFICATION=C       \n",
       "\n",
       "time zone: Europe/London\n",
       "tzcode source: system (glibc)\n",
       "\n",
       "attached base packages:\n",
       "[1] stats     graphics  grDevices utils     datasets  methods   base     \n",
       "\n",
       "other attached packages:\n",
       "[1] zoo_1.8-12      MASS_7.3-60.0.1\n",
       "\n",
       "loaded via a namespace (and not attached):\n",
       " [1] digest_0.6.36     IRdisplay_1.1     utf8_1.2.4        base64enc_0.1-3  \n",
       " [5] fastmap_1.2.0     lattice_0.22-5    glue_1.7.0        htmltools_0.5.8.1\n",
       " [9] repr_1.1.7        lifecycle_1.0.4   cli_3.6.3         fansi_1.0.6      \n",
       "[13] grid_4.3.3        vctrs_0.6.5       pbdZMQ_0.3-11     compiler_4.3.3   \n",
       "[17] tools_4.3.3       evaluate_0.24.0   pillar_1.9.0      crayon_1.5.3     \n",
       "[21] rlang_1.1.4       jsonlite_1.8.8    IRkernel_1.3.2    uuid_1.2-0       "
      ]
     },
     "metadata": {},
     "output_type": "display_data"
    }
   ],
   "source": [
    "sessionInfo()"
   ]
  },
  {
   "cell_type": "markdown",
   "id": "e9dd8e50",
   "metadata": {},
   "source": [
    "## Loading and saving data"
   ]
  },
  {
   "cell_type": "markdown",
   "id": "098587da",
   "metadata": {},
   "source": [
    "You can save objects to a file using the __save__ function ..."
   ]
  },
  {
   "cell_type": "code",
   "execution_count": 25,
   "id": "e324b4de",
   "metadata": {},
   "outputs": [],
   "source": [
    "x<-seq(1,10,0.1)"
   ]
  },
  {
   "cell_type": "code",
   "execution_count": 26,
   "id": "dcad77bb",
   "metadata": {},
   "outputs": [
    {
     "data": {
      "text/html": [
       "'x'"
      ],
      "text/latex": [
       "'x'"
      ],
      "text/markdown": [
       "'x'"
      ],
      "text/plain": [
       "[1] \"x\""
      ]
     },
     "metadata": {},
     "output_type": "display_data"
    }
   ],
   "source": [
    "ls()"
   ]
  },
  {
   "cell_type": "code",
   "execution_count": 27,
   "id": "6992e3bf",
   "metadata": {},
   "outputs": [],
   "source": [
    "save(x,file=\"some.data.Rda\")"
   ]
  },
  {
   "cell_type": "code",
   "execution_count": 28,
   "id": "eb3ab28a",
   "metadata": {},
   "outputs": [
    {
     "data": {
      "text/html": [],
      "text/latex": [],
      "text/markdown": [],
      "text/plain": [
       "character(0)"
      ]
     },
     "metadata": {},
     "output_type": "display_data"
    }
   ],
   "source": [
    "rm(x)\n",
    "ls()"
   ]
  },
  {
   "cell_type": "markdown",
   "id": "5a3c91ff",
   "metadata": {},
   "source": [
    "... and load it using load"
   ]
  },
  {
   "cell_type": "code",
   "execution_count": 29,
   "id": "ddc787d0",
   "metadata": {
    "editable": true,
    "slideshow": {
     "slide_type": ""
    },
    "tags": []
   },
   "outputs": [
    {
     "data": {
      "text/html": [
       "'x'"
      ],
      "text/latex": [
       "'x'"
      ],
      "text/markdown": [
       "'x'"
      ],
      "text/plain": [
       "[1] \"x\""
      ]
     },
     "metadata": {},
     "output_type": "display_data"
    },
    {
     "data": {
      "text/html": [
       "<style>\n",
       ".list-inline {list-style: none; margin:0; padding: 0}\n",
       ".list-inline>li {display: inline-block}\n",
       ".list-inline>li:not(:last-child)::after {content: \"\\00b7\"; padding: 0 .5ex}\n",
       "</style>\n",
       "<ol class=list-inline><li>1</li><li>1.1</li><li>1.2</li><li>1.3</li><li>1.4</li><li>1.5</li><li>1.6</li><li>1.7</li><li>1.8</li><li>1.9</li><li>2</li><li>2.1</li><li>2.2</li><li>2.3</li><li>2.4</li><li>2.5</li><li>2.6</li><li>2.7</li><li>2.8</li><li>2.9</li><li>3</li><li>3.1</li><li>3.2</li><li>3.3</li><li>3.4</li><li>3.5</li><li>3.6</li><li>3.7</li><li>3.8</li><li>3.9</li><li>4</li><li>4.1</li><li>4.2</li><li>4.3</li><li>4.4</li><li>4.5</li><li>4.6</li><li>4.7</li><li>4.8</li><li>4.9</li><li>5</li><li>5.1</li><li>5.2</li><li>5.3</li><li>5.4</li><li>5.5</li><li>5.6</li><li>5.7</li><li>5.8</li><li>5.9</li><li>6</li><li>6.1</li><li>6.2</li><li>6.3</li><li>6.4</li><li>6.5</li><li>6.6</li><li>6.7</li><li>6.8</li><li>6.9</li><li>7</li><li>7.1</li><li>7.2</li><li>7.3</li><li>7.4</li><li>7.5</li><li>7.6</li><li>7.7</li><li>7.8</li><li>7.9</li><li>8</li><li>8.1</li><li>8.2</li><li>8.3</li><li>8.4</li><li>8.5</li><li>8.6</li><li>8.7</li><li>8.8</li><li>8.9</li><li>9</li><li>9.1</li><li>9.2</li><li>9.3</li><li>9.4</li><li>9.5</li><li>9.6</li><li>9.7</li><li>9.8</li><li>9.9</li><li>10</li></ol>\n"
      ],
      "text/latex": [
       "\\begin{enumerate*}\n",
       "\\item 1\n",
       "\\item 1.1\n",
       "\\item 1.2\n",
       "\\item 1.3\n",
       "\\item 1.4\n",
       "\\item 1.5\n",
       "\\item 1.6\n",
       "\\item 1.7\n",
       "\\item 1.8\n",
       "\\item 1.9\n",
       "\\item 2\n",
       "\\item 2.1\n",
       "\\item 2.2\n",
       "\\item 2.3\n",
       "\\item 2.4\n",
       "\\item 2.5\n",
       "\\item 2.6\n",
       "\\item 2.7\n",
       "\\item 2.8\n",
       "\\item 2.9\n",
       "\\item 3\n",
       "\\item 3.1\n",
       "\\item 3.2\n",
       "\\item 3.3\n",
       "\\item 3.4\n",
       "\\item 3.5\n",
       "\\item 3.6\n",
       "\\item 3.7\n",
       "\\item 3.8\n",
       "\\item 3.9\n",
       "\\item 4\n",
       "\\item 4.1\n",
       "\\item 4.2\n",
       "\\item 4.3\n",
       "\\item 4.4\n",
       "\\item 4.5\n",
       "\\item 4.6\n",
       "\\item 4.7\n",
       "\\item 4.8\n",
       "\\item 4.9\n",
       "\\item 5\n",
       "\\item 5.1\n",
       "\\item 5.2\n",
       "\\item 5.3\n",
       "\\item 5.4\n",
       "\\item 5.5\n",
       "\\item 5.6\n",
       "\\item 5.7\n",
       "\\item 5.8\n",
       "\\item 5.9\n",
       "\\item 6\n",
       "\\item 6.1\n",
       "\\item 6.2\n",
       "\\item 6.3\n",
       "\\item 6.4\n",
       "\\item 6.5\n",
       "\\item 6.6\n",
       "\\item 6.7\n",
       "\\item 6.8\n",
       "\\item 6.9\n",
       "\\item 7\n",
       "\\item 7.1\n",
       "\\item 7.2\n",
       "\\item 7.3\n",
       "\\item 7.4\n",
       "\\item 7.5\n",
       "\\item 7.6\n",
       "\\item 7.7\n",
       "\\item 7.8\n",
       "\\item 7.9\n",
       "\\item 8\n",
       "\\item 8.1\n",
       "\\item 8.2\n",
       "\\item 8.3\n",
       "\\item 8.4\n",
       "\\item 8.5\n",
       "\\item 8.6\n",
       "\\item 8.7\n",
       "\\item 8.8\n",
       "\\item 8.9\n",
       "\\item 9\n",
       "\\item 9.1\n",
       "\\item 9.2\n",
       "\\item 9.3\n",
       "\\item 9.4\n",
       "\\item 9.5\n",
       "\\item 9.6\n",
       "\\item 9.7\n",
       "\\item 9.8\n",
       "\\item 9.9\n",
       "\\item 10\n",
       "\\end{enumerate*}\n"
      ],
      "text/markdown": [
       "1. 1\n",
       "2. 1.1\n",
       "3. 1.2\n",
       "4. 1.3\n",
       "5. 1.4\n",
       "6. 1.5\n",
       "7. 1.6\n",
       "8. 1.7\n",
       "9. 1.8\n",
       "10. 1.9\n",
       "11. 2\n",
       "12. 2.1\n",
       "13. 2.2\n",
       "14. 2.3\n",
       "15. 2.4\n",
       "16. 2.5\n",
       "17. 2.6\n",
       "18. 2.7\n",
       "19. 2.8\n",
       "20. 2.9\n",
       "21. 3\n",
       "22. 3.1\n",
       "23. 3.2\n",
       "24. 3.3\n",
       "25. 3.4\n",
       "26. 3.5\n",
       "27. 3.6\n",
       "28. 3.7\n",
       "29. 3.8\n",
       "30. 3.9\n",
       "31. 4\n",
       "32. 4.1\n",
       "33. 4.2\n",
       "34. 4.3\n",
       "35. 4.4\n",
       "36. 4.5\n",
       "37. 4.6\n",
       "38. 4.7\n",
       "39. 4.8\n",
       "40. 4.9\n",
       "41. 5\n",
       "42. 5.1\n",
       "43. 5.2\n",
       "44. 5.3\n",
       "45. 5.4\n",
       "46. 5.5\n",
       "47. 5.6\n",
       "48. 5.7\n",
       "49. 5.8\n",
       "50. 5.9\n",
       "51. 6\n",
       "52. 6.1\n",
       "53. 6.2\n",
       "54. 6.3\n",
       "55. 6.4\n",
       "56. 6.5\n",
       "57. 6.6\n",
       "58. 6.7\n",
       "59. 6.8\n",
       "60. 6.9\n",
       "61. 7\n",
       "62. 7.1\n",
       "63. 7.2\n",
       "64. 7.3\n",
       "65. 7.4\n",
       "66. 7.5\n",
       "67. 7.6\n",
       "68. 7.7\n",
       "69. 7.8\n",
       "70. 7.9\n",
       "71. 8\n",
       "72. 8.1\n",
       "73. 8.2\n",
       "74. 8.3\n",
       "75. 8.4\n",
       "76. 8.5\n",
       "77. 8.6\n",
       "78. 8.7\n",
       "79. 8.8\n",
       "80. 8.9\n",
       "81. 9\n",
       "82. 9.1\n",
       "83. 9.2\n",
       "84. 9.3\n",
       "85. 9.4\n",
       "86. 9.5\n",
       "87. 9.6\n",
       "88. 9.7\n",
       "89. 9.8\n",
       "90. 9.9\n",
       "91. 10\n",
       "\n",
       "\n"
      ],
      "text/plain": [
       " [1]  1.0  1.1  1.2  1.3  1.4  1.5  1.6  1.7  1.8  1.9  2.0  2.1  2.2  2.3  2.4\n",
       "[16]  2.5  2.6  2.7  2.8  2.9  3.0  3.1  3.2  3.3  3.4  3.5  3.6  3.7  3.8  3.9\n",
       "[31]  4.0  4.1  4.2  4.3  4.4  4.5  4.6  4.7  4.8  4.9  5.0  5.1  5.2  5.3  5.4\n",
       "[46]  5.5  5.6  5.7  5.8  5.9  6.0  6.1  6.2  6.3  6.4  6.5  6.6  6.7  6.8  6.9\n",
       "[61]  7.0  7.1  7.2  7.3  7.4  7.5  7.6  7.7  7.8  7.9  8.0  8.1  8.2  8.3  8.4\n",
       "[76]  8.5  8.6  8.7  8.8  8.9  9.0  9.1  9.2  9.3  9.4  9.5  9.6  9.7  9.8  9.9\n",
       "[91] 10.0"
      ]
     },
     "metadata": {},
     "output_type": "display_data"
    }
   ],
   "source": [
    "load(file=\"some.data.Rda\")\n",
    "ls()\n",
    "x"
   ]
  },
  {
   "cell_type": "markdown",
   "id": "4a655907-ae49-4708-bf0d-b796ee32d72c",
   "metadata": {
    "editable": true,
    "slideshow": {
     "slide_type": ""
    },
    "tags": []
   },
   "source": [
    "## Extra exercises"
   ]
  },
  {
   "cell_type": "markdown",
   "id": "77b24aba-c18b-4fd3-9711-fbb0cd1e4a7e",
   "metadata": {
    "editable": true,
    "slideshow": {
     "slide_type": ""
    },
    "tags": []
   },
   "source": [
    "### <u>Extra Exercise 1</u>\n",
    "\n",
    "Install and load the __runner__ package from CRAN."
   ]
  },
  {
   "cell_type": "markdown",
   "id": "e10030d6-b6ac-404c-8542-b5682bd05e68",
   "metadata": {
    "editable": true,
    "slideshow": {
     "slide_type": ""
    },
    "tags": []
   },
   "source": [
    "### <u>Extra Exercise 2</u>\n",
    "What does the __runner__ package do ?"
   ]
  },
  {
   "cell_type": "markdown",
   "id": "acca94cf-9e83-4e58-b6a3-1ddaefb2114a",
   "metadata": {
    "editable": true,
    "slideshow": {
     "slide_type": ""
    },
    "tags": []
   },
   "source": [
    "### <u>Extra Exercise 3</u>\n",
    "\n",
    "Does the __runner__ package have a vignette ?\n"
   ]
  },
  {
   "cell_type": "markdown",
   "id": "f154b26e-a65c-467f-81f1-8eb6acd04f26",
   "metadata": {
    "editable": true,
    "slideshow": {
     "slide_type": ""
    },
    "tags": []
   },
   "source": [
    "### Extra Exercise 4\n",
    "\n",
    "Run some of the examples for the __runner__ function in the __runner__ package in your jupyter notebook."
   ]
  }
 ],
 "metadata": {
  "celltoolbar": "Edit Metadata",
  "kernelspec": {
   "display_name": "R",
   "language": "R",
   "name": "ir"
  },
  "language_info": {
   "codemirror_mode": "r",
   "file_extension": ".r",
   "mimetype": "text/x-r-source",
   "name": "R",
   "pygments_lexer": "r",
   "version": "4.3.3"
  }
 },
 "nbformat": 4,
 "nbformat_minor": 5
}
