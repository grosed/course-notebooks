{
 "cells": [
  {
   "cell_type": "markdown",
   "id": "f03a469f",
   "metadata": {},
   "source": [
    "# A Sample Session"
   ]
  },
  {
   "cell_type": "markdown",
   "id": "12f6702d",
   "metadata": {},
   "source": [
    "This section is an introduction to the R programming language. It shows how to perform very simple tasks using R using the [__jupyter__](https://jupyter.org/) environment. There are many other software systems available for interacting with and running R, for  example, [RStudio](https://www.rstudio.com/). However, __jupyter__ is not limited to running just R, and it provides a great way to produce formatted markup and interactive code examples, which is why it has been chosen for this course."
   ]
  },
  {
   "cell_type": "markdown",
   "id": "00d809af",
   "metadata": {},
   "source": [
    "## Getting Started"
   ]
  },
  {
   "cell_type": "markdown",
   "id": "52848365",
   "metadata": {},
   "source": [
    "To use R in jupyter you can type R commands into a code cell and then run them by pressing crtl-return. For example -"
   ]
  },
  {
   "cell_type": "code",
   "execution_count": 1,
   "id": "c82cb676",
   "metadata": {},
   "outputs": [
    {
     "data": {
      "text/html": [
       "5"
      ],
      "text/latex": [
       "5"
      ],
      "text/markdown": [
       "5"
      ],
      "text/plain": [
       "[1] 5"
      ]
     },
     "metadata": {},
     "output_type": "display_data"
    }
   ],
   "source": [
    "2+3"
   ]
  },
  {
   "cell_type": "code",
   "execution_count": 2,
   "id": "0c297550",
   "metadata": {},
   "outputs": [
    {
     "data": {
      "text/html": [
       "1.14422279992016"
      ],
      "text/latex": [
       "1.14422279992016"
      ],
      "text/markdown": [
       "1.14422279992016"
      ],
      "text/plain": [
       "[1] 1.144223"
      ]
     },
     "metadata": {},
     "output_type": "display_data"
    }
   ],
   "source": [
    "log(3.14)"
   ]
  },
  {
   "cell_type": "markdown",
   "id": "3bc7ec79",
   "metadata": {},
   "source": [
    "Notice that the output produced by the R code is displayed below the cell once the cell has been executed \n",
    "by pressing ctrl-return. A cell can contain more than one line of code, for example -"
   ]
  },
  {
   "cell_type": "code",
   "execution_count": 3,
   "id": "58789281",
   "metadata": {},
   "outputs": [
    {
     "data": {
      "text/html": [
       "0.189911081764586"
      ],
      "text/latex": [
       "0.189911081764586"
      ],
      "text/markdown": [
       "0.189911081764586"
      ],
      "text/plain": [
       "[1] 0.1899111"
      ]
     },
     "metadata": {},
     "output_type": "display_data"
    },
    {
     "data": {
      "text/html": [
       "5"
      ],
      "text/latex": [
       "5"
      ],
      "text/markdown": [
       "5"
      ],
      "text/plain": [
       "[1] 5"
      ]
     },
     "metadata": {},
     "output_type": "display_data"
    },
    {
     "data": {
      "text/html": [
       "3.14159265358979"
      ],
      "text/latex": [
       "3.14159265358979"
      ],
      "text/markdown": [
       "3.14159265358979"
      ],
      "text/plain": [
       "[1] 3.141593"
      ]
     },
     "metadata": {},
     "output_type": "display_data"
    }
   ],
   "source": [
    "sin(4.2)^2/4\n",
    "log(exp(5))\n",
    "4*atan(1)"
   ]
  },
  {
   "cell_type": "markdown",
   "id": "675f309d",
   "metadata": {},
   "source": [
    "R is an __object orientated__ programming language in which pretty much everything is an __object__ with a particular __type__\n",
    "associated with it. An instance of an object can be referenced through a variable. For example"
   ]
  },
  {
   "cell_type": "code",
   "execution_count": 4,
   "id": "343edf6d",
   "metadata": {},
   "outputs": [],
   "source": [
    "x<-3.14\n",
    "message<-\"hello world\"\n",
    "v<-c(1,2,3,4)"
   ]
  },
  {
   "cell_type": "markdown",
   "id": "7a1ee2be",
   "metadata": {},
   "source": [
    "Notice that executing this cell does not produce any output. The following one will though."
   ]
  },
  {
   "cell_type": "code",
   "execution_count": 5,
   "id": "045936c6",
   "metadata": {},
   "outputs": [
    {
     "data": {
      "text/html": [
       "3.14"
      ],
      "text/latex": [
       "3.14"
      ],
      "text/markdown": [
       "3.14"
      ],
      "text/plain": [
       "[1] 3.14"
      ]
     },
     "metadata": {},
     "output_type": "display_data"
    },
    {
     "data": {
      "text/html": [
       "'hello world'"
      ],
      "text/latex": [
       "'hello world'"
      ],
      "text/markdown": [
       "'hello world'"
      ],
      "text/plain": [
       "[1] \"hello world\""
      ]
     },
     "metadata": {},
     "output_type": "display_data"
    },
    {
     "data": {
      "text/html": [
       "<style>\n",
       ".list-inline {list-style: none; margin:0; padding: 0}\n",
       ".list-inline>li {display: inline-block}\n",
       ".list-inline>li:not(:last-child)::after {content: \"\\00b7\"; padding: 0 .5ex}\n",
       "</style>\n",
       "<ol class=list-inline><li>1</li><li>2</li><li>3</li><li>4</li></ol>\n"
      ],
      "text/latex": [
       "\\begin{enumerate*}\n",
       "\\item 1\n",
       "\\item 2\n",
       "\\item 3\n",
       "\\item 4\n",
       "\\end{enumerate*}\n"
      ],
      "text/markdown": [
       "1. 1\n",
       "2. 2\n",
       "3. 3\n",
       "4. 4\n",
       "\n",
       "\n"
      ],
      "text/plain": [
       "[1] 1 2 3 4"
      ]
     },
     "metadata": {},
     "output_type": "display_data"
    }
   ],
   "source": [
    "x\n",
    "message\n",
    "v"
   ]
  },
  {
   "cell_type": "markdown",
   "id": "d2c940eb",
   "metadata": {},
   "source": [
    "In this case the variable __x__ refers to an object of __type__ _double_ with __value__ 3.14. Notice that the __<-__ operator was used to associate a __variable__ with an __object__. You can also use __=__ to do this. To determine the __type__ of an __object__ referred to by a __variable__ x you can use the __type__ function. \n"
   ]
  },
  {
   "cell_type": "markdown",
   "id": "97df171b",
   "metadata": {},
   "source": [
    "### Optional material 1 - Names and values"
   ]
  },
  {
   "cell_type": "markdown",
   "id": "e287b235",
   "metadata": {},
   "source": [
    "The relationship between variables and values is well explained by Hadley Wickham in his highly regarded book [Advanced R](https://adv-r.hadley.nz/). See section 2.2 in the chapter [names and values](https://adv-r.hadley.nz/names-values.html)."
   ]
  },
  {
   "cell_type": "code",
   "execution_count": 6,
   "id": "66138aa3",
   "metadata": {},
   "outputs": [
    {
     "data": {
      "text/html": [
       "'double'"
      ],
      "text/latex": [
       "'double'"
      ],
      "text/markdown": [
       "'double'"
      ],
      "text/plain": [
       "[1] \"double\""
      ]
     },
     "metadata": {},
     "output_type": "display_data"
    }
   ],
   "source": [
    "typeof(x)"
   ]
  },
  {
   "cell_type": "markdown",
   "id": "d76f65ff",
   "metadata": {
    "tags": [
     "hide-output"
    ]
   },
   "source": [
    "### <u>Exercise 1</u>\n",
    "Find out what R types message and v are ?"
   ]
  },
  {
   "cell_type": "code",
   "execution_count": 7,
   "id": "12d9dd20",
   "metadata": {
    "tags": [
     "hide-output",
     "hide-input"
    ]
   },
   "outputs": [
    {
     "data": {
      "text/html": [
       "'character'"
      ],
      "text/latex": [
       "'character'"
      ],
      "text/markdown": [
       "'character'"
      ],
      "text/plain": [
       "[1] \"character\""
      ]
     },
     "metadata": {},
     "output_type": "display_data"
    },
    {
     "data": {
      "text/html": [
       "'double'"
      ],
      "text/latex": [
       "'double'"
      ],
      "text/markdown": [
       "'double'"
      ],
      "text/plain": [
       "[1] \"double\""
      ]
     },
     "metadata": {},
     "output_type": "display_data"
    }
   ],
   "source": [
    "typeof(message)\n",
    "typeof(v)"
   ]
  },
  {
   "cell_type": "markdown",
   "id": "d07d0373",
   "metadata": {},
   "source": [
    "Many of the common mathematical functions available in R will work with vectors of values. For example"
   ]
  },
  {
   "cell_type": "code",
   "execution_count": 8,
   "id": "dff66b7a",
   "metadata": {},
   "outputs": [
    {
     "name": "stdout",
     "output_type": "stream",
     "text": [
      "0.841471 0.9092974 0.14112 -0.7568025"
     ]
    }
   ],
   "source": [
    "y<-sin(v)\n",
    "cat(y)"
   ]
  },
  {
   "cell_type": "markdown",
   "id": "3900c91f",
   "metadata": {},
   "source": [
    "### <u>Exercise 2</u>\n",
    "You can get information about a __function__ using the __help__ function. Open up a new R notebook in jupyter and \n",
    "run the following command to see what happens."
   ]
  },
  {
   "cell_type": "code",
   "execution_count": 9,
   "id": "ec2402e6",
   "metadata": {},
   "outputs": [],
   "source": [
    "help(cat)"
   ]
  },
  {
   "cell_type": "markdown",
   "id": "df9af287",
   "metadata": {},
   "source": [
    "## Loading packages"
   ]
  },
  {
   "cell_type": "markdown",
   "id": "c80996b7",
   "metadata": {},
   "source": [
    "There are many \"add ons\" for R. The add ons are contained in __packages__. A __package__ can be loaded into an R session \n",
    "using the _library_ function. For example, there is a package called _MASS_. It can be loaded as follows."
   ]
  },
  {
   "cell_type": "code",
   "execution_count": 10,
   "id": "464d73cb",
   "metadata": {},
   "outputs": [],
   "source": [
    "library(MASS)"
   ]
  },
  {
   "cell_type": "markdown",
   "id": "5d839f73",
   "metadata": {},
   "source": [
    "You can also use the __library__ function to obtain information about a library. Try loading the _MASS_ package \n",
    "using the __library__ function in your jupyter notebook and find out what it kind of things it offers."
   ]
  },
  {
   "cell_type": "code",
   "execution_count": 11,
   "id": "1c419e3a",
   "metadata": {},
   "outputs": [],
   "source": [
    "library(help=\"MASS\")"
   ]
  },
  {
   "cell_type": "markdown",
   "id": "7eccdd27",
   "metadata": {},
   "source": [
    "Try loading the MASS package using the __library__ function in your jupyter notebook and find out what it kind of things it offers."
   ]
  },
  {
   "cell_type": "markdown",
   "id": "ee7b86f5",
   "metadata": {},
   "source": [
    "There are many many packages for R, and you can make your own (not covered in this course). Most of them do not come \n",
    "as part of a standard R installation, but they are typically available from various online repositories, for example, [CRAN](https://cran.r-project.org/), or frequently from github repositories.\n",
    "\n",
    "Before you can load a __package__ it has to be installed on your system. If it is not yet installed you can install it using the __install.packages__ function. Note that this is not the only way, but it works well for the large number of generally well maintained packages that are available from CRAN. For instance, the _zoo_ package is not usually part of an R installation so might not be installed on your system. "
   ]
  },
  {
   "cell_type": "markdown",
   "id": "042a00da",
   "metadata": {},
   "source": [
    "### <u>Exercise 3</u>\n",
    "Try running the following code\n",
    "in your notebook."
   ]
  },
  {
   "cell_type": "code",
   "execution_count": 12,
   "id": "2bce2f7b",
   "metadata": {},
   "outputs": [
    {
     "name": "stderr",
     "output_type": "stream",
     "text": [
      "\n",
      "Attaching package: ‘zoo’\n",
      "\n",
      "\n",
      "The following objects are masked from ‘package:base’:\n",
      "\n",
      "    as.Date, as.Date.numeric\n",
      "\n",
      "\n"
     ]
    }
   ],
   "source": [
    "library(\"zoo\")"
   ]
  },
  {
   "cell_type": "markdown",
   "id": "394149d8",
   "metadata": {},
   "source": [
    "Using the __install.packages__ function you can install _zoo_ from CRAN."
   ]
  },
  {
   "cell_type": "code",
   "execution_count": 13,
   "id": "59b47745",
   "metadata": {},
   "outputs": [
    {
     "name": "stderr",
     "output_type": "stream",
     "text": [
      "Installing package into ‘/home/grosedj/R-packages’\n",
      "(as ‘lib’ is unspecified)\n",
      "\n",
      "Warning message in install.packages(\"zoo\"):\n",
      "“installation of package ‘zoo’ had non-zero exit status”\n"
     ]
    }
   ],
   "source": [
    "install.packages(\"zoo\")\n"
   ]
  },
  {
   "cell_type": "markdown",
   "id": "ee6d13a3",
   "metadata": {},
   "source": [
    "Note that, once a library has been installed, it can be loaded using the __library__ function and does not need \n",
    "to be reinstalled each time you use it. Packages can also be uninstalled using the __remove.packages__ function.\n",
    "\n",
    "You should now be able to load the _zoo_ package."
   ]
  },
  {
   "cell_type": "code",
   "execution_count": 14,
   "id": "098cb38b",
   "metadata": {},
   "outputs": [],
   "source": [
    "library(zoo)"
   ]
  },
  {
   "cell_type": "markdown",
   "id": "edea4521",
   "metadata": {},
   "source": [
    "Some packages (but not all) have a _vignette_ associated with them. Once the package is installed and loaded these\n",
    "vignettes (if they exist) can be accessed using the __vignette__ function."
   ]
  },
  {
   "cell_type": "code",
   "execution_count": 15,
   "id": "a6881f74",
   "metadata": {},
   "outputs": [],
   "source": [
    "vignette(\"zoo\")"
   ]
  },
  {
   "cell_type": "markdown",
   "id": "ff9e4248",
   "metadata": {},
   "source": [
    "There are functions that help you search for functions. These include __apropos__ and __find__."
   ]
  },
  {
   "cell_type": "code",
   "execution_count": 16,
   "id": "428ca0ad",
   "metadata": {},
   "outputs": [
    {
     "data": {
      "text/html": [
       "<style>\n",
       ".list-inline {list-style: none; margin:0; padding: 0}\n",
       ".list-inline>li {display: inline-block}\n",
       ".list-inline>li:not(:last-child)::after {content: \"\\00b7\"; padding: 0 .5ex}\n",
       "</style>\n",
       "<ol class=list-inline><li>'.colMeans'</li><li>'.rowMeans'</li><li>'colMeans'</li><li>'kmeans'</li><li>'mean'</li><li>'mean.Date'</li><li>'mean.default'</li><li>'mean.difftime'</li><li>'mean.POSIXct'</li><li>'mean.POSIXlt'</li><li>'rollmean'</li><li>'rollmean.default'</li><li>'rollmeanr'</li><li>'rowMeans'</li><li>'weighted.mean'</li></ol>\n"
      ],
      "text/latex": [
       "\\begin{enumerate*}\n",
       "\\item '.colMeans'\n",
       "\\item '.rowMeans'\n",
       "\\item 'colMeans'\n",
       "\\item 'kmeans'\n",
       "\\item 'mean'\n",
       "\\item 'mean.Date'\n",
       "\\item 'mean.default'\n",
       "\\item 'mean.difftime'\n",
       "\\item 'mean.POSIXct'\n",
       "\\item 'mean.POSIXlt'\n",
       "\\item 'rollmean'\n",
       "\\item 'rollmean.default'\n",
       "\\item 'rollmeanr'\n",
       "\\item 'rowMeans'\n",
       "\\item 'weighted.mean'\n",
       "\\end{enumerate*}\n"
      ],
      "text/markdown": [
       "1. '.colMeans'\n",
       "2. '.rowMeans'\n",
       "3. 'colMeans'\n",
       "4. 'kmeans'\n",
       "5. 'mean'\n",
       "6. 'mean.Date'\n",
       "7. 'mean.default'\n",
       "8. 'mean.difftime'\n",
       "9. 'mean.POSIXct'\n",
       "10. 'mean.POSIXlt'\n",
       "11. 'rollmean'\n",
       "12. 'rollmean.default'\n",
       "13. 'rollmeanr'\n",
       "14. 'rowMeans'\n",
       "15. 'weighted.mean'\n",
       "\n",
       "\n"
      ],
      "text/plain": [
       " [1] \".colMeans\"        \".rowMeans\"        \"colMeans\"         \"kmeans\"          \n",
       " [5] \"mean\"             \"mean.Date\"        \"mean.default\"     \"mean.difftime\"   \n",
       " [9] \"mean.POSIXct\"     \"mean.POSIXlt\"     \"rollmean\"         \"rollmean.default\"\n",
       "[13] \"rollmeanr\"        \"rowMeans\"         \"weighted.mean\"   "
      ]
     },
     "metadata": {},
     "output_type": "display_data"
    }
   ],
   "source": [
    "apropos(\"mean\")"
   ]
  },
  {
   "cell_type": "code",
   "execution_count": 17,
   "id": "eb8ed847",
   "metadata": {},
   "outputs": [
    {
     "data": {
      "text/html": [
       "'package:zoo'"
      ],
      "text/latex": [
       "'package:zoo'"
      ],
      "text/markdown": [
       "'package:zoo'"
      ],
      "text/plain": [
       "[1] \"package:zoo\""
      ]
     },
     "metadata": {},
     "output_type": "display_data"
    }
   ],
   "source": [
    "find(\"rollmean\")"
   ]
  },
  {
   "cell_type": "markdown",
   "id": "fda1067b",
   "metadata": {},
   "source": [
    "It is also possible to search across packages that are available from the main repositories using the __RSiteSearch__ function."
   ]
  },
  {
   "cell_type": "code",
   "execution_count": 18,
   "id": "753bb56a",
   "metadata": {},
   "outputs": [
    {
     "name": "stdout",
     "output_type": "stream",
     "text": [
      "A search query has been submitted to http://search.r-project.org\n",
      "The results page should open in your browser shortly\n"
     ]
    }
   ],
   "source": [
    "RSiteSearch(\"runmed\")"
   ]
  },
  {
   "cell_type": "markdown",
   "id": "fd5f1b82",
   "metadata": {},
   "source": [
    "## Managing an R session"
   ]
  },
  {
   "cell_type": "markdown",
   "id": "944c1d3c",
   "metadata": {},
   "source": [
    "There are some basic functions to help you manage the variables, data, packages in your R session. The three main ones are\n",
    "\n",
    "- __ls__ lists the objects in your workspace.\n",
    "- __list.files__ lists the files located in the folder's workspace\n",
    "- __rm__ removes objects from your workspace; rm(list = ls()) removes them all.\n",
    "\n",
    "For example"
   ]
  },
  {
   "cell_type": "code",
   "execution_count": 19,
   "id": "70152eb7",
   "metadata": {},
   "outputs": [
    {
     "data": {
      "text/html": [
       "<style>\n",
       ".list-inline {list-style: none; margin:0; padding: 0}\n",
       ".list-inline>li {display: inline-block}\n",
       ".list-inline>li:not(:last-child)::after {content: \"\\00b7\"; padding: 0 .5ex}\n",
       "</style>\n",
       "<ol class=list-inline><li>'message'</li><li>'v'</li><li>'x'</li><li>'y'</li></ol>\n"
      ],
      "text/latex": [
       "\\begin{enumerate*}\n",
       "\\item 'message'\n",
       "\\item 'v'\n",
       "\\item 'x'\n",
       "\\item 'y'\n",
       "\\end{enumerate*}\n"
      ],
      "text/markdown": [
       "1. 'message'\n",
       "2. 'v'\n",
       "3. 'x'\n",
       "4. 'y'\n",
       "\n",
       "\n"
      ],
      "text/plain": [
       "[1] \"message\" \"v\"       \"x\"       \"y\"      "
      ]
     },
     "metadata": {},
     "output_type": "display_data"
    }
   ],
   "source": [
    "ls()"
   ]
  },
  {
   "cell_type": "code",
   "execution_count": 20,
   "id": "ab102521",
   "metadata": {},
   "outputs": [],
   "source": [
    "rm(y)"
   ]
  },
  {
   "cell_type": "code",
   "execution_count": 21,
   "id": "5df755d7",
   "metadata": {},
   "outputs": [
    {
     "data": {
      "text/html": [
       "<style>\n",
       ".list-inline {list-style: none; margin:0; padding: 0}\n",
       ".list-inline>li {display: inline-block}\n",
       ".list-inline>li:not(:last-child)::after {content: \"\\00b7\"; padding: 0 .5ex}\n",
       "</style>\n",
       "<ol class=list-inline><li>'message'</li><li>'v'</li><li>'x'</li></ol>\n"
      ],
      "text/latex": [
       "\\begin{enumerate*}\n",
       "\\item 'message'\n",
       "\\item 'v'\n",
       "\\item 'x'\n",
       "\\end{enumerate*}\n"
      ],
      "text/markdown": [
       "1. 'message'\n",
       "2. 'v'\n",
       "3. 'x'\n",
       "\n",
       "\n"
      ],
      "text/plain": [
       "[1] \"message\" \"v\"       \"x\"      "
      ]
     },
     "metadata": {},
     "output_type": "display_data"
    }
   ],
   "source": [
    "ls()"
   ]
  },
  {
   "cell_type": "markdown",
   "id": "2f1931e1",
   "metadata": {},
   "source": [
    "Note that "
   ]
  },
  {
   "cell_type": "code",
   "execution_count": 22,
   "id": "e83c5aee",
   "metadata": {},
   "outputs": [],
   "source": [
    "rm(list=ls())"
   ]
  },
  {
   "cell_type": "markdown",
   "id": "83d9fbc1",
   "metadata": {},
   "source": [
    "removes ALL of your data and variables !!"
   ]
  },
  {
   "cell_type": "code",
   "execution_count": 23,
   "id": "a99fcdcb",
   "metadata": {},
   "outputs": [
    {
     "data": {
      "text/html": [],
      "text/latex": [],
      "text/markdown": [],
      "text/plain": [
       "character(0)"
      ]
     },
     "metadata": {},
     "output_type": "display_data"
    }
   ],
   "source": [
    "ls()"
   ]
  },
  {
   "cell_type": "markdown",
   "id": "f4d7e93c",
   "metadata": {},
   "source": [
    "The __sessionInfo__ gives information about your session, i.e., loaded packages, R version, etc."
   ]
  },
  {
   "cell_type": "code",
   "execution_count": 24,
   "id": "accb0446",
   "metadata": {},
   "outputs": [
    {
     "data": {
      "text/plain": [
       "R version 4.1.0 (2021-05-18)\n",
       "Platform: x86_64-pc-linux-gnu (64-bit)\n",
       "Running under: Ubuntu 20.04.2 LTS\n",
       "\n",
       "Matrix products: default\n",
       "BLAS:   /usr/lib/x86_64-linux-gnu/openblas-pthread/libblas.so.3\n",
       "LAPACK: /usr/lib/x86_64-linux-gnu/openblas-pthread/liblapack.so.3\n",
       "\n",
       "locale:\n",
       " [1] LC_CTYPE=en_GB.UTF-8       LC_NUMERIC=C              \n",
       " [3] LC_TIME=en_GB.UTF-8        LC_COLLATE=en_GB.UTF-8    \n",
       " [5] LC_MONETARY=en_GB.UTF-8    LC_MESSAGES=en_GB.UTF-8   \n",
       " [7] LC_PAPER=en_GB.UTF-8       LC_NAME=C                 \n",
       " [9] LC_ADDRESS=C               LC_TELEPHONE=C            \n",
       "[11] LC_MEASUREMENT=en_GB.UTF-8 LC_IDENTIFICATION=C       \n",
       "\n",
       "attached base packages:\n",
       "[1] stats     graphics  grDevices utils     datasets  methods   base     \n",
       "\n",
       "other attached packages:\n",
       "[1] zoo_1.8-9   MASS_7.3-53\n",
       "\n",
       "loaded via a namespace (and not attached):\n",
       " [1] lattice_0.20-44 fansi_0.5.0     digest_0.6.27   utf8_1.2.2     \n",
       " [5] crayon_1.4.1    IRdisplay_1.0   grid_4.1.0      repr_1.1.3     \n",
       " [9] lifecycle_1.0.0 jsonlite_1.7.2  evaluate_0.14   pillar_1.6.2   \n",
       "[13] rlang_0.4.11    uuid_0.1-4      vctrs_0.3.8     ellipsis_0.3.2 \n",
       "[17] IRkernel_1.2    tools_4.1.0     fastmap_1.1.0   compiler_4.1.0 \n",
       "[21] base64enc_0.1-3 pbdZMQ_0.3-5    htmltools_0.5.2"
      ]
     },
     "metadata": {},
     "output_type": "display_data"
    }
   ],
   "source": [
    "sessionInfo()"
   ]
  },
  {
   "cell_type": "markdown",
   "id": "e9dd8e50",
   "metadata": {},
   "source": [
    "## Loading and saving data"
   ]
  },
  {
   "cell_type": "markdown",
   "id": "098587da",
   "metadata": {},
   "source": [
    "You can save objects to a file using the __save__ function ..."
   ]
  },
  {
   "cell_type": "code",
   "execution_count": 25,
   "id": "e324b4de",
   "metadata": {},
   "outputs": [],
   "source": [
    "x<-seq(1,10,0.1)"
   ]
  },
  {
   "cell_type": "code",
   "execution_count": 26,
   "id": "dcad77bb",
   "metadata": {},
   "outputs": [
    {
     "data": {
      "text/html": [
       "'x'"
      ],
      "text/latex": [
       "'x'"
      ],
      "text/markdown": [
       "'x'"
      ],
      "text/plain": [
       "[1] \"x\""
      ]
     },
     "metadata": {},
     "output_type": "display_data"
    }
   ],
   "source": [
    "ls()"
   ]
  },
  {
   "cell_type": "code",
   "execution_count": 27,
   "id": "6992e3bf",
   "metadata": {},
   "outputs": [],
   "source": [
    "save(x,file=\"some.data.Rda\")"
   ]
  },
  {
   "cell_type": "code",
   "execution_count": 28,
   "id": "eb3ab28a",
   "metadata": {},
   "outputs": [
    {
     "data": {
      "text/html": [],
      "text/latex": [],
      "text/markdown": [],
      "text/plain": [
       "character(0)"
      ]
     },
     "metadata": {},
     "output_type": "display_data"
    }
   ],
   "source": [
    "rm(x)\n",
    "ls()"
   ]
  },
  {
   "cell_type": "markdown",
   "id": "5a3c91ff",
   "metadata": {},
   "source": [
    "... and load it using load"
   ]
  },
  {
   "cell_type": "code",
   "execution_count": 29,
   "id": "ddc787d0",
   "metadata": {},
   "outputs": [
    {
     "data": {
      "text/html": [
       "'x'"
      ],
      "text/latex": [
       "'x'"
      ],
      "text/markdown": [
       "'x'"
      ],
      "text/plain": [
       "[1] \"x\""
      ]
     },
     "metadata": {},
     "output_type": "display_data"
    },
    {
     "data": {
      "text/html": [
       "<style>\n",
       ".list-inline {list-style: none; margin:0; padding: 0}\n",
       ".list-inline>li {display: inline-block}\n",
       ".list-inline>li:not(:last-child)::after {content: \"\\00b7\"; padding: 0 .5ex}\n",
       "</style>\n",
       "<ol class=list-inline><li>1</li><li>1.1</li><li>1.2</li><li>1.3</li><li>1.4</li><li>1.5</li><li>1.6</li><li>1.7</li><li>1.8</li><li>1.9</li><li>2</li><li>2.1</li><li>2.2</li><li>2.3</li><li>2.4</li><li>2.5</li><li>2.6</li><li>2.7</li><li>2.8</li><li>2.9</li><li>3</li><li>3.1</li><li>3.2</li><li>3.3</li><li>3.4</li><li>3.5</li><li>3.6</li><li>3.7</li><li>3.8</li><li>3.9</li><li>4</li><li>4.1</li><li>4.2</li><li>4.3</li><li>4.4</li><li>4.5</li><li>4.6</li><li>4.7</li><li>4.8</li><li>4.9</li><li>5</li><li>5.1</li><li>5.2</li><li>5.3</li><li>5.4</li><li>5.5</li><li>5.6</li><li>5.7</li><li>5.8</li><li>5.9</li><li>6</li><li>6.1</li><li>6.2</li><li>6.3</li><li>6.4</li><li>6.5</li><li>6.6</li><li>6.7</li><li>6.8</li><li>6.9</li><li>7</li><li>7.1</li><li>7.2</li><li>7.3</li><li>7.4</li><li>7.5</li><li>7.6</li><li>7.7</li><li>7.8</li><li>7.9</li><li>8</li><li>8.1</li><li>8.2</li><li>8.3</li><li>8.4</li><li>8.5</li><li>8.6</li><li>8.7</li><li>8.8</li><li>8.9</li><li>9</li><li>9.1</li><li>9.2</li><li>9.3</li><li>9.4</li><li>9.5</li><li>9.6</li><li>9.7</li><li>9.8</li><li>9.9</li><li>10</li></ol>\n"
      ],
      "text/latex": [
       "\\begin{enumerate*}\n",
       "\\item 1\n",
       "\\item 1.1\n",
       "\\item 1.2\n",
       "\\item 1.3\n",
       "\\item 1.4\n",
       "\\item 1.5\n",
       "\\item 1.6\n",
       "\\item 1.7\n",
       "\\item 1.8\n",
       "\\item 1.9\n",
       "\\item 2\n",
       "\\item 2.1\n",
       "\\item 2.2\n",
       "\\item 2.3\n",
       "\\item 2.4\n",
       "\\item 2.5\n",
       "\\item 2.6\n",
       "\\item 2.7\n",
       "\\item 2.8\n",
       "\\item 2.9\n",
       "\\item 3\n",
       "\\item 3.1\n",
       "\\item 3.2\n",
       "\\item 3.3\n",
       "\\item 3.4\n",
       "\\item 3.5\n",
       "\\item 3.6\n",
       "\\item 3.7\n",
       "\\item 3.8\n",
       "\\item 3.9\n",
       "\\item 4\n",
       "\\item 4.1\n",
       "\\item 4.2\n",
       "\\item 4.3\n",
       "\\item 4.4\n",
       "\\item 4.5\n",
       "\\item 4.6\n",
       "\\item 4.7\n",
       "\\item 4.8\n",
       "\\item 4.9\n",
       "\\item 5\n",
       "\\item 5.1\n",
       "\\item 5.2\n",
       "\\item 5.3\n",
       "\\item 5.4\n",
       "\\item 5.5\n",
       "\\item 5.6\n",
       "\\item 5.7\n",
       "\\item 5.8\n",
       "\\item 5.9\n",
       "\\item 6\n",
       "\\item 6.1\n",
       "\\item 6.2\n",
       "\\item 6.3\n",
       "\\item 6.4\n",
       "\\item 6.5\n",
       "\\item 6.6\n",
       "\\item 6.7\n",
       "\\item 6.8\n",
       "\\item 6.9\n",
       "\\item 7\n",
       "\\item 7.1\n",
       "\\item 7.2\n",
       "\\item 7.3\n",
       "\\item 7.4\n",
       "\\item 7.5\n",
       "\\item 7.6\n",
       "\\item 7.7\n",
       "\\item 7.8\n",
       "\\item 7.9\n",
       "\\item 8\n",
       "\\item 8.1\n",
       "\\item 8.2\n",
       "\\item 8.3\n",
       "\\item 8.4\n",
       "\\item 8.5\n",
       "\\item 8.6\n",
       "\\item 8.7\n",
       "\\item 8.8\n",
       "\\item 8.9\n",
       "\\item 9\n",
       "\\item 9.1\n",
       "\\item 9.2\n",
       "\\item 9.3\n",
       "\\item 9.4\n",
       "\\item 9.5\n",
       "\\item 9.6\n",
       "\\item 9.7\n",
       "\\item 9.8\n",
       "\\item 9.9\n",
       "\\item 10\n",
       "\\end{enumerate*}\n"
      ],
      "text/markdown": [
       "1. 1\n",
       "2. 1.1\n",
       "3. 1.2\n",
       "4. 1.3\n",
       "5. 1.4\n",
       "6. 1.5\n",
       "7. 1.6\n",
       "8. 1.7\n",
       "9. 1.8\n",
       "10. 1.9\n",
       "11. 2\n",
       "12. 2.1\n",
       "13. 2.2\n",
       "14. 2.3\n",
       "15. 2.4\n",
       "16. 2.5\n",
       "17. 2.6\n",
       "18. 2.7\n",
       "19. 2.8\n",
       "20. 2.9\n",
       "21. 3\n",
       "22. 3.1\n",
       "23. 3.2\n",
       "24. 3.3\n",
       "25. 3.4\n",
       "26. 3.5\n",
       "27. 3.6\n",
       "28. 3.7\n",
       "29. 3.8\n",
       "30. 3.9\n",
       "31. 4\n",
       "32. 4.1\n",
       "33. 4.2\n",
       "34. 4.3\n",
       "35. 4.4\n",
       "36. 4.5\n",
       "37. 4.6\n",
       "38. 4.7\n",
       "39. 4.8\n",
       "40. 4.9\n",
       "41. 5\n",
       "42. 5.1\n",
       "43. 5.2\n",
       "44. 5.3\n",
       "45. 5.4\n",
       "46. 5.5\n",
       "47. 5.6\n",
       "48. 5.7\n",
       "49. 5.8\n",
       "50. 5.9\n",
       "51. 6\n",
       "52. 6.1\n",
       "53. 6.2\n",
       "54. 6.3\n",
       "55. 6.4\n",
       "56. 6.5\n",
       "57. 6.6\n",
       "58. 6.7\n",
       "59. 6.8\n",
       "60. 6.9\n",
       "61. 7\n",
       "62. 7.1\n",
       "63. 7.2\n",
       "64. 7.3\n",
       "65. 7.4\n",
       "66. 7.5\n",
       "67. 7.6\n",
       "68. 7.7\n",
       "69. 7.8\n",
       "70. 7.9\n",
       "71. 8\n",
       "72. 8.1\n",
       "73. 8.2\n",
       "74. 8.3\n",
       "75. 8.4\n",
       "76. 8.5\n",
       "77. 8.6\n",
       "78. 8.7\n",
       "79. 8.8\n",
       "80. 8.9\n",
       "81. 9\n",
       "82. 9.1\n",
       "83. 9.2\n",
       "84. 9.3\n",
       "85. 9.4\n",
       "86. 9.5\n",
       "87. 9.6\n",
       "88. 9.7\n",
       "89. 9.8\n",
       "90. 9.9\n",
       "91. 10\n",
       "\n",
       "\n"
      ],
      "text/plain": [
       " [1]  1.0  1.1  1.2  1.3  1.4  1.5  1.6  1.7  1.8  1.9  2.0  2.1  2.2  2.3  2.4\n",
       "[16]  2.5  2.6  2.7  2.8  2.9  3.0  3.1  3.2  3.3  3.4  3.5  3.6  3.7  3.8  3.9\n",
       "[31]  4.0  4.1  4.2  4.3  4.4  4.5  4.6  4.7  4.8  4.9  5.0  5.1  5.2  5.3  5.4\n",
       "[46]  5.5  5.6  5.7  5.8  5.9  6.0  6.1  6.2  6.3  6.4  6.5  6.6  6.7  6.8  6.9\n",
       "[61]  7.0  7.1  7.2  7.3  7.4  7.5  7.6  7.7  7.8  7.9  8.0  8.1  8.2  8.3  8.4\n",
       "[76]  8.5  8.6  8.7  8.8  8.9  9.0  9.1  9.2  9.3  9.4  9.5  9.6  9.7  9.8  9.9\n",
       "[91] 10.0"
      ]
     },
     "metadata": {},
     "output_type": "display_data"
    }
   ],
   "source": [
    "load(file=\"some.data.Rda\")\n",
    "ls()\n",
    "x"
   ]
  },
  {
   "cell_type": "markdown",
   "id": "e6d8d907",
   "metadata": {},
   "source": [
    "## Extra exercises"
   ]
  },
  {
   "cell_type": "markdown",
   "id": "786622dd",
   "metadata": {},
   "source": [
    "### <u>Extra Exercise 1</u>\n",
    "\n",
    "Install and load the __runner__ package from CRAN."
   ]
  },
  {
   "cell_type": "markdown",
   "id": "8f1147fa",
   "metadata": {},
   "source": [
    "### <u>Extra Exercise 1</u> - solution"
   ]
  },
  {
   "cell_type": "code",
   "execution_count": 30,
   "id": "2e640760",
   "metadata": {
    "tags": [
     "hide-output",
     "hide-input"
    ]
   },
   "outputs": [
    {
     "name": "stderr",
     "output_type": "stream",
     "text": [
      "Installing package into ‘/home/grosedj/R-packages’\n",
      "(as ‘lib’ is unspecified)\n",
      "\n",
      "Warning message in install.packages(\"runner\"):\n",
      "“installation of package ‘runner’ had non-zero exit status”\n"
     ]
    }
   ],
   "source": [
    "install.packages(\"runner\")\n",
    "library(runner)"
   ]
  },
  {
   "cell_type": "markdown",
   "id": "835dd08c",
   "metadata": {},
   "source": [
    "### <u>Extra Exercise 2</u>\n",
    "What does the __runner__ package do ?"
   ]
  },
  {
   "cell_type": "markdown",
   "id": "00816df9",
   "metadata": {},
   "source": [
    "### <u>Extra Exercise 2</u> - solution"
   ]
  },
  {
   "cell_type": "code",
   "execution_count": 31,
   "id": "2ecd9d48",
   "metadata": {
    "tags": [
     "hide-output",
     "hide-input"
    ]
   },
   "outputs": [],
   "source": [
    "library(help=\"runner\")"
   ]
  },
  {
   "cell_type": "markdown",
   "id": "3fb3877c",
   "metadata": {},
   "source": [
    "### <u>Extra Exercise 3</u>\n",
    "\n",
    "Does the __runner__ package have a vignette ?\n"
   ]
  },
  {
   "cell_type": "markdown",
   "id": "7388b7e0",
   "metadata": {},
   "source": [
    "### Extra Exercise 3 - solution"
   ]
  },
  {
   "cell_type": "code",
   "execution_count": 32,
   "id": "5ce97a97",
   "metadata": {
    "tags": [
     "hide-output",
     "hide-input"
    ]
   },
   "outputs": [
    {
     "name": "stderr",
     "output_type": "stream",
     "text": [
      "Warning message:\n",
      "“vignette ‘runner’ not found”\n"
     ]
    }
   ],
   "source": [
    "vignette(\"runner\")"
   ]
  },
  {
   "cell_type": "markdown",
   "id": "b2bf2e1a",
   "metadata": {},
   "source": [
    "### Extra Exercise 4\n",
    "\n",
    "Run some of the examples for the __runner__ function in the __runner__ package in your jupyter notebook."
   ]
  },
  {
   "cell_type": "markdown",
   "id": "f7b14484",
   "metadata": {},
   "source": [
    "### <u>Extra Exercise 4 - solution 1</u>"
   ]
  },
  {
   "cell_type": "markdown",
   "id": "4dfb3c98",
   "metadata": {
    "tags": [
     "hide-output",
     "hide-input"
    ]
   },
   "source": [
    "You could use __help(\"runner\")__ to get the help page for the __runner__ function and cut and paste some of the examples into your notebook. "
   ]
  },
  {
   "cell_type": "markdown",
   "id": "944b816d",
   "metadata": {},
   "source": [
    "### <u>Extra Exercise 4</u> - solution 2"
   ]
  },
  {
   "cell_type": "markdown",
   "id": "9466a614",
   "metadata": {
    "tags": [
     "hide-output",
     "hide-input"
    ]
   },
   "source": [
    "Or you could use the __example__ function to run an example. Use __help(example)__ to find out how to use __example__."
   ]
  },
  {
   "cell_type": "code",
   "execution_count": 33,
   "id": "1155e1b8",
   "metadata": {
    "tags": [
     "hide-output",
     "hide-input"
    ]
   },
   "outputs": [],
   "source": [
    "help(example)"
   ]
  },
  {
   "cell_type": "code",
   "execution_count": 34,
   "id": "ef7a69c4",
   "metadata": {
    "tags": [
     "hide-output",
     "hide-input"
    ]
   },
   "outputs": [
    {
     "name": "stdout",
     "output_type": "stream",
     "text": [
      "\n",
      "runner> # runner returns windows as is by default\n",
      "runner> runner(1:10)\n",
      "[[1]]\n",
      "[1] 1\n",
      "\n",
      "[[2]]\n",
      "[1] 1 2\n",
      "\n",
      "[[3]]\n",
      "[1] 1 2 3\n",
      "\n",
      "[[4]]\n",
      "[1] 1 2 3 4\n",
      "\n",
      "[[5]]\n",
      "[1] 1 2 3 4 5\n",
      "\n",
      "[[6]]\n",
      "[1] 1 2 3 4 5 6\n",
      "\n",
      "[[7]]\n",
      "[1] 1 2 3 4 5 6 7\n",
      "\n",
      "[[8]]\n",
      "[1] 1 2 3 4 5 6 7 8\n",
      "\n",
      "[[9]]\n",
      "[1] 1 2 3 4 5 6 7 8 9\n",
      "\n",
      "[[10]]\n",
      " [1]  1  2  3  4  5  6  7  8  9 10\n",
      "\n",
      "\n",
      "runner> # mean on k = 3 elements windows\n",
      "runner> runner(1:10, f = mean, k = 3)\n",
      " [1] 1.0 1.5 2.0 3.0 4.0 5.0 6.0 7.0 8.0 9.0\n",
      "\n",
      "runner> # mean on k = 3 elements windows with different specification\n",
      "runner> runner(1:10, k = 3, f = function(x) mean(x, na.rm = TRUE))\n",
      " [1] 1.0 1.5 2.0 3.0 4.0 5.0 6.0 7.0 8.0 9.0\n",
      "\n",
      "runner> # concatenate two columns\n",
      "runner> runner(\n",
      "runner+   data.frame(\n",
      "runner+     a = letters[1:10],\n",
      "runner+     b = 1:10\n",
      "runner+   ),\n",
      "runner+   f = function(x) paste(paste0(x$a, x$b), collapse = \"+\")\n",
      "runner+ )\n",
      " [1] \"a1\"                             \"a1+b2\"                         \n",
      " [3] \"a1+b2+c3\"                       \"a1+b2+c3+d4\"                   \n",
      " [5] \"a1+b2+c3+d4+e5\"                 \"a1+b2+c3+d4+e5+f6\"             \n",
      " [7] \"a1+b2+c3+d4+e5+f6+g7\"           \"a1+b2+c3+d4+e5+f6+g7+h8\"       \n",
      " [9] \"a1+b2+c3+d4+e5+f6+g7+h8+i9\"     \"a1+b2+c3+d4+e5+f6+g7+h8+i9+j10\"\n",
      "\n",
      "runner> # concatenate two columns with additional argument\n",
      "runner> runner(\n",
      "runner+   data.frame(\n",
      "runner+     a = letters[1:10],\n",
      "runner+     b = 1:10\n",
      "runner+   ),\n",
      "runner+   f = function(x, xxx) {\n",
      "runner+     paste(paste0(x$a, xxx, x$b), collapse = \" + \")\n",
      "runner+   },\n",
      "runner+   xxx = \"...\"\n",
      "runner+ )\n",
      " [1] \"a...1\"                                                                         \n",
      " [2] \"a...1 + b...2\"                                                                 \n",
      " [3] \"a...1 + b...2 + c...3\"                                                         \n",
      " [4] \"a...1 + b...2 + c...3 + d...4\"                                                 \n",
      " [5] \"a...1 + b...2 + c...3 + d...4 + e...5\"                                         \n",
      " [6] \"a...1 + b...2 + c...3 + d...4 + e...5 + f...6\"                                 \n",
      " [7] \"a...1 + b...2 + c...3 + d...4 + e...5 + f...6 + g...7\"                         \n",
      " [8] \"a...1 + b...2 + c...3 + d...4 + e...5 + f...6 + g...7 + h...8\"                 \n",
      " [9] \"a...1 + b...2 + c...3 + d...4 + e...5 + f...6 + g...7 + h...8 + i...9\"         \n",
      "[10] \"a...1 + b...2 + c...3 + d...4 + e...5 + f...6 + g...7 + h...8 + i...9 + j...10\"\n",
      "\n",
      "runner> # number of unique values in each window (varying window size)\n",
      "runner> runner(letters[1:10],\n",
      "runner+        k = c(1, 2, 2, 4, 5, 5, 5, 5, 5, 5),\n",
      "runner+        f = function(x) length(unique(x)))\n",
      " [1] 1 2 2 4 5 5 5 5 5 5\n",
      "\n",
      "runner> # concatenate only on selected windows index\n",
      "runner> runner(letters[1:10],\n",
      "runner+        f = function(x) paste(x, collapse = \"-\"),\n",
      "runner+        at = c(1, 5, 8))\n",
      "[1] \"a\"               \"a-b-c-d-e\"       \"a-b-c-d-e-f-g-h\"\n",
      "\n",
      "runner> # 5 days mean\n",
      "runner> idx <- c(4, 6, 7, 13, 17, 18, 18, 21, 27, 31, 37, 42, 44, 47, 48)\n",
      "\n",
      "runner> runner::runner(\n",
      "runner+   x = idx,\n",
      "runner+   k = \"5 days\",\n",
      "runner+   lag = 1,\n",
      "runner+   idx = Sys.Date() + idx,\n",
      "runner+   f = function(x) mean(x)\n",
      "runner+ )\n",
      " [1]      NaN  4.00000  5.00000      NaN 13.00000 15.00000 15.00000 17.66667\n",
      " [9]      NaN 27.00000      NaN 37.00000 42.00000 43.00000 45.50000\n",
      "\n",
      "runner> # 5 days mean at 4-indices\n",
      "runner> runner::runner(\n",
      "runner+   x = 1:15,\n",
      "runner+   k = 5,\n",
      "runner+   lag = 1,\n",
      "runner+   idx = idx,\n",
      "runner+   at = c(18, 27, 48, 31),\n",
      "runner+   f = mean\n",
      "runner+ )\n",
      "[1]  4.5  NaN 13.5  9.0\n",
      "\n",
      "runner> # runner with data.frame\n",
      "runner> df <- data.frame(\n",
      "runner+   a = 1:13,\n",
      "runner+   b = 1:13 + rnorm(13, sd = 5),\n",
      "runner+   idx = seq(Sys.Date(), Sys.Date() + 365, by = \"1 month\")\n",
      "runner+ )\n",
      "\n",
      "runner> runner(\n",
      "runner+   x = df,\n",
      "runner+   idx = \"idx\",\n",
      "runner+   at = \"6 months\",\n",
      "runner+   f = function(x) {\n",
      "runner+     cor(x$a, x$b)\n",
      "runner+   }\n",
      "runner+ )\n",
      "[1]        NA 0.3475841 0.6851250\n",
      "\n",
      "runner> # parallel computing\n",
      "runner> library(parallel)\n",
      "\n",
      "runner> data <- data.frame(\n",
      "runner+   a = runif(100),\n",
      "runner+   b = runif(100),\n",
      "runner+   idx = cumsum(sample(rpois(100, 5)))\n",
      "runner+ )\n",
      "\n",
      "runner> const <- 0\n",
      "\n",
      "runner> cl <- makeCluster(1)\n",
      "\n",
      "runner> clusterExport(cl, \"const\", envir = environment())\n",
      "\n",
      "runner> runner(\n",
      "runner+   x = data,\n",
      "runner+   k = 10,\n",
      "runner+   f = function(x) {\n",
      "runner+     cor(x$a, x$b) + const\n",
      "runner+   },\n",
      "runner+   idx = \"idx\",\n",
      "runner+   cl = cl\n",
      "runner+ )\n",
      "  [1]          NA          NA -1.00000000 -1.00000000 -1.00000000  1.00000000\n",
      "  [7]  1.00000000 -0.02406551  0.57596631 -1.00000000 -0.19715196 -0.70792668\n",
      " [13] -0.97432698 -0.97839715 -0.69811314 -0.95690777 -0.80294208 -0.97518120\n",
      " [19] -0.80186770  0.86766778  0.69656681 -1.00000000 -1.00000000  1.00000000\n",
      " [25]  1.00000000 -1.00000000 -1.00000000 -0.98300268 -0.99964395 -0.67338813\n",
      " [31] -1.00000000  1.00000000  1.00000000 -0.47035257  1.00000000          NA\n",
      " [37]  1.00000000  0.13266426 -1.00000000 -0.84707762  0.17269759          NA\n",
      " [43]  1.00000000  1.00000000 -1.00000000 -1.00000000          NA -1.00000000\n",
      " [49] -1.00000000 -1.00000000  1.00000000  1.00000000 -1.00000000 -1.00000000\n",
      " [55] -0.95033099          NA -1.00000000 -1.00000000 -0.83734499 -0.97925953\n",
      " [61]  1.00000000  1.00000000  1.00000000  0.27582934          NA -1.00000000\n",
      " [67]  1.00000000 -0.07230298 -1.00000000 -1.00000000 -1.00000000  1.00000000\n",
      " [73]  0.95251177 -0.21675182  1.00000000  1.00000000 -1.00000000  1.00000000\n",
      " [79]  0.20456288  0.04501547  1.00000000  0.96364693  0.70777742  1.00000000\n",
      " [85]  0.94506532  0.65082627  0.70741548 -1.00000000  1.00000000  0.88537501\n",
      " [91] -0.91473386 -1.00000000 -0.47195878  1.00000000 -1.00000000  1.00000000\n",
      " [97]  1.00000000 -1.00000000 -0.84414934 -0.70172397\n",
      "\n",
      "runner> stopCluster(cl)\n",
      "\n",
      "runner> # runner with matrix\n",
      "runner> data <- matrix(data = runif(100, 0, 1), nrow = 20, ncol = 5)\n",
      "\n",
      "runner> runner(\n",
      "runner+   x = data,\n",
      "runner+   f = function(x) {\n",
      "runner+     tryCatch(\n",
      "runner+       cor(x),\n",
      "runner+       error = function(e) NA\n",
      "runner+     )\n",
      "runner+  })\n",
      "      [,1] [,2]       [,3]       [,4]        [,5]         [,6]        [,7]\n",
      " [1,]   NA    1  1.0000000  1.0000000  1.00000000  1.000000000  1.00000000\n",
      " [2,]   NA   -1 -0.9460579 -0.7155315 -0.65260273 -0.682754094 -0.58816547\n",
      " [3,]   NA   -1 -0.9544188 -0.8970056 -0.51081380 -0.410016672 -0.06613770\n",
      " [4,]   NA    1  0.9902986 -0.1032737 -0.09359698  0.124248989  0.07287985\n",
      " [5,]   NA   -1 -0.9942494 -0.9970648 -0.35787071 -0.483273889 -0.36024564\n",
      " [6,]   NA   -1 -0.9460579 -0.7155315 -0.65260273 -0.682754094 -0.58816547\n",
      " [7,]   NA    1  1.0000000  1.0000000  1.00000000  1.000000000  1.00000000\n",
      " [8,]   NA    1  0.8062316  0.7880606  0.69992732  0.670946922  0.59255895\n",
      " [9,]   NA   -1 -0.8918586 -0.5093974 -0.50377103 -0.552130550 -0.56198411\n",
      "[10,]   NA    1  0.9059207  0.6634747  0.47694044  0.537280515  0.55392941\n",
      "[11,]   NA   -1 -0.9544188 -0.8970056 -0.51081380 -0.410016672 -0.06613770\n",
      "[12,]   NA    1  0.8062316  0.7880606  0.69992732  0.670946922  0.59255895\n",
      "[13,]   NA    1  1.0000000  1.0000000  1.00000000  1.000000000  1.00000000\n",
      "[14,]   NA   -1 -0.9866338 -0.2925693 -0.28147417 -0.277692922 -0.29517448\n",
      "[15,]   NA    1  0.9808934  0.8900514  0.87941698  0.833423645  0.76425294\n",
      "[16,]   NA    1  0.9902986 -0.1032737 -0.09359698  0.124248989  0.07287985\n",
      "[17,]   NA   -1 -0.8918586 -0.5093974 -0.50377103 -0.552130550 -0.56198411\n",
      "[18,]   NA   -1 -0.9866338 -0.2925693 -0.28147417 -0.277692922 -0.29517448\n",
      "[19,]   NA    1  1.0000000  1.0000000  1.00000000  1.000000000  1.00000000\n",
      "[20,]   NA   -1 -0.9994845  0.1478981  0.11371393 -0.003648223 -0.03953874\n",
      "[21,]   NA   -1 -0.9942494 -0.9970648 -0.35787071 -0.483273889 -0.36024564\n",
      "[22,]   NA    1  0.9059207  0.6634747  0.47694044  0.537280515  0.55392941\n",
      "[23,]   NA    1  0.9808934  0.8900514  0.87941698  0.833423645  0.76425294\n",
      "[24,]   NA   -1 -0.9994845  0.1478981  0.11371393 -0.003648223 -0.03953874\n",
      "[25,]   NA    1  1.0000000  1.0000000  1.00000000  1.000000000  1.00000000\n",
      "            [,8]       [,9]       [,10]        [,11]       [,12]        [,13]\n",
      " [1,]  1.0000000  1.0000000  1.00000000  1.000000000  1.00000000  1.000000000\n",
      " [2,] -0.2993501 -0.2835753 -0.44918920 -0.458074708 -0.53665127 -0.432624050\n",
      " [3,] -0.2450048 -0.1968667 -0.38032097 -0.353794956 -0.45325057 -0.238829326\n",
      " [4,] -0.1933915 -0.1854937 -0.37896108 -0.448556063 -0.59551218 -0.626958037\n",
      " [5,] -0.2272557 -0.2956422 -0.01435647  0.006934196 -0.08996282  0.054087299\n",
      " [6,] -0.2993501 -0.2835753 -0.44918920 -0.458074708 -0.53665127 -0.432624050\n",
      " [7,]  1.0000000  1.0000000  1.00000000  1.000000000  1.00000000  1.000000000\n",
      " [8,]  0.2098978  0.2098939  0.44950267  0.442262427  0.50364337  0.538750985\n",
      " [9,] -0.6838302 -0.6760901 -0.14584835 -0.083189717  0.12129149 -0.052798966\n",
      "[10,]  0.5911913  0.5936944  0.14037286  0.131380716  0.18741995  0.263524453\n",
      "[11,] -0.2450048 -0.1968667 -0.38032097 -0.353794956 -0.45325057 -0.238829326\n",
      "[12,]  0.2098978  0.2098939  0.44950267  0.442262427  0.50364337  0.538750985\n",
      "[13,]  1.0000000  1.0000000  1.00000000  1.000000000  1.00000000  1.000000000\n",
      "[14,]  0.1324235  0.1326876  0.40115303  0.339143078  0.45379797  0.002233075\n",
      "[15,]  0.5105684  0.5024432  0.08456699  0.087468538  0.14825120  0.328297335\n",
      "[16,] -0.1933915 -0.1854937 -0.37896108 -0.448556063 -0.59551218 -0.626958037\n",
      "[17,] -0.6838302 -0.6760901 -0.14584835 -0.083189717  0.12129149 -0.052798966\n",
      "[18,]  0.1324235  0.1326876  0.40115303  0.339143078  0.45379797  0.002233075\n",
      "[19,]  1.0000000  1.0000000  1.00000000  1.000000000  1.00000000  1.000000000\n",
      "[20,] -0.1913440 -0.1766178 -0.41479895 -0.403604362 -0.21129970 -0.428357780\n",
      "[21,] -0.2272557 -0.2956422 -0.01435647  0.006934196 -0.08996282  0.054087299\n",
      "[22,]  0.5911913  0.5936944  0.14037286  0.131380716  0.18741995  0.263524453\n",
      "[23,]  0.5105684  0.5024432  0.08456699  0.087468538  0.14825120  0.328297335\n",
      "[24,] -0.1913440 -0.1766178 -0.41479895 -0.403604362 -0.21129970 -0.428357780\n",
      "[25,]  1.0000000  1.0000000  1.00000000  1.000000000  1.00000000  1.000000000\n",
      "             [,14]         [,15]       [,16]       [,17]        [,18]\n",
      " [1,]  1.000000000  1.0000000000  1.00000000  1.00000000  1.000000000\n",
      " [2,] -0.377020604 -0.3133838426 -0.31931366 -0.32929549 -0.249278966\n",
      " [3,] -0.248737572 -0.2522187453 -0.23329102 -0.25684371 -0.206847612\n",
      " [4,] -0.613867060 -0.5528029329 -0.47063270 -0.37134813 -0.394298485\n",
      " [5,]  0.017488675  0.0004203491  0.04435108  0.03769265 -0.008733826\n",
      " [6,] -0.377020604 -0.3133838426 -0.31931366 -0.32929549 -0.249278966\n",
      " [7,]  1.000000000  1.0000000000  1.00000000  1.00000000  1.000000000\n",
      " [8,]  0.461681331  0.3086958912  0.29914558  0.32212498  0.387266897\n",
      " [9,] -0.023362695  0.1538156529  0.12275294  0.05455857 -0.097965745\n",
      "[10,]  0.125136088 -0.0653681116 -0.08314120 -0.07539216 -0.181319987\n",
      "[11,] -0.248737572 -0.2522187453 -0.23329102 -0.25684371 -0.206847612\n",
      "[12,]  0.461681331  0.3086958912  0.29914558  0.32212498  0.387266897\n",
      "[13,]  1.000000000  1.0000000000  1.00000000  1.00000000  1.000000000\n",
      "[14,] -0.009162908 -0.0823253379 -0.04377865 -0.18032443 -0.263744740\n",
      "[15,]  0.352535106  0.3940233799  0.40486141  0.39959298  0.284129618\n",
      "[16,] -0.613867060 -0.5528029329 -0.47063270 -0.37134813 -0.394298485\n",
      "[17,] -0.023362695  0.1538156529  0.12275294  0.05455857 -0.097965745\n",
      "[18,] -0.009162908 -0.0823253379 -0.04377865 -0.18032443 -0.263744740\n",
      "[19,]  1.000000000  1.0000000000  1.00000000  1.00000000  1.000000000\n",
      "[20,] -0.429450829 -0.5067133447 -0.35743905 -0.34531300 -0.182515975\n",
      "[21,]  0.017488675  0.0004203491  0.04435108  0.03769265 -0.008733826\n",
      "[22,]  0.125136088 -0.0653681116 -0.08314120 -0.07539216 -0.181319987\n",
      "[23,]  0.352535106  0.3940233799  0.40486141  0.39959298  0.284129618\n",
      "[24,] -0.429450829 -0.5067133447 -0.35743905 -0.34531300 -0.182515975\n",
      "[25,]  1.000000000  1.0000000000  1.00000000  1.00000000  1.000000000\n",
      "            [,19]       [,20]\n",
      " [1,]  1.00000000  1.00000000\n",
      " [2,] -0.25041112 -0.31801140\n",
      " [3,] -0.15838836 -0.03608227\n",
      " [4,] -0.39010355 -0.43867377\n",
      " [5,] -0.01345702 -0.08996812\n",
      " [6,] -0.25041112 -0.31801140\n",
      " [7,]  1.00000000  1.00000000\n",
      " [8,]  0.28867545  0.16508364\n",
      " [9,] -0.10314804 -0.02227722\n",
      "[10,] -0.16647701 -0.08434418\n",
      "[11,] -0.15838836 -0.03608227\n",
      "[12,]  0.28867545  0.16508364\n",
      "[13,]  1.00000000  1.00000000\n",
      "[14,] -0.17071813 -0.24113294\n",
      "[15,]  0.13589086  0.04202992\n",
      "[16,] -0.39010355 -0.43867377\n",
      "[17,] -0.10314804 -0.02227722\n",
      "[18,] -0.17071813 -0.24113294\n",
      "[19,]  1.00000000  1.00000000\n",
      "[20,] -0.19502713 -0.11982366\n",
      "[21,] -0.01345702 -0.08996812\n",
      "[22,] -0.16647701 -0.08434418\n",
      "[23,]  0.13589086  0.04202992\n",
      "[24,] -0.19502713 -0.11982366\n",
      "[25,]  1.00000000  1.00000000\n"
     ]
    }
   ],
   "source": [
    "example(runner)"
   ]
  }
 ],
 "metadata": {
  "celltoolbar": "Edit Metadata",
  "kernelspec": {
   "display_name": "R",
   "language": "R",
   "name": "ir"
  },
  "language_info": {
   "codemirror_mode": "r",
   "file_extension": ".r",
   "mimetype": "text/x-r-source",
   "name": "R",
   "pygments_lexer": "r",
   "version": "4.1.0"
  }
 },
 "nbformat": 4,
 "nbformat_minor": 5
}
