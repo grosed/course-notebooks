{
 "cells": [
  {
   "cell_type": "markdown",
   "metadata": {},
   "source": [
    "# Sample Session"
   ]
  },
  {
   "cell_type": "markdown",
   "metadata": {},
   "source": [
    "This page is an introduction to the R programming language. It shows how to perform very simple tasks using R. If you are unsure how to use R in a Jupyter environment, take a look at the video here : __TODO : Make video after setting up an environment on the University Systems__\n",
    " \n"
   ]
  },
  {
   "cell_type": "markdown",
   "metadata": {},
   "source": [
    "## Getting Started"
   ]
  },
  {
   "cell_type": "markdown",
   "metadata": {},
   "source": [
    "To use R in jupyter you can type R commands into a code cell and then run them by pressing crtl-return. For example -"
   ]
  },
  {
   "cell_type": "code",
   "execution_count": 18,
   "metadata": {},
   "outputs": [
    {
     "data": {
      "text/html": [
       "5"
      ],
      "text/latex": [
       "5"
      ],
      "text/markdown": [
       "5"
      ],
      "text/plain": [
       "[1] 5"
      ]
     },
     "metadata": {},
     "output_type": "display_data"
    }
   ],
   "source": [
    "2+3"
   ]
  },
  {
   "cell_type": "code",
   "execution_count": 19,
   "metadata": {},
   "outputs": [
    {
     "data": {
      "text/html": [
       "1.14422279992016"
      ],
      "text/latex": [
       "1.14422279992016"
      ],
      "text/markdown": [
       "1.14422279992016"
      ],
      "text/plain": [
       "[1] 1.144223"
      ]
     },
     "metadata": {},
     "output_type": "display_data"
    }
   ],
   "source": [
    "log(3.14)"
   ]
  },
  {
   "cell_type": "markdown",
   "metadata": {},
   "source": [
    "Notice that the output produced by the R code is displayed below the cell once the cell has been executed \n",
    "by pressing ctrl-return. A cell can contain more than one line of code, for example -"
   ]
  },
  {
   "cell_type": "code",
   "execution_count": 20,
   "metadata": {},
   "outputs": [
    {
     "data": {
      "text/html": [
       "0.189911081764586"
      ],
      "text/latex": [
       "0.189911081764586"
      ],
      "text/markdown": [
       "0.189911081764586"
      ],
      "text/plain": [
       "[1] 0.1899111"
      ]
     },
     "metadata": {},
     "output_type": "display_data"
    },
    {
     "data": {
      "text/html": [
       "5"
      ],
      "text/latex": [
       "5"
      ],
      "text/markdown": [
       "5"
      ],
      "text/plain": [
       "[1] 5"
      ]
     },
     "metadata": {},
     "output_type": "display_data"
    },
    {
     "data": {
      "text/html": [
       "3.14159265358979"
      ],
      "text/latex": [
       "3.14159265358979"
      ],
      "text/markdown": [
       "3.14159265358979"
      ],
      "text/plain": [
       "[1] 3.141593"
      ]
     },
     "metadata": {},
     "output_type": "display_data"
    }
   ],
   "source": [
    "sin(4.2)^2/4\n",
    "log(exp(5))\n",
    "4*atan(1)"
   ]
  },
  {
   "cell_type": "markdown",
   "metadata": {},
   "source": [
    "R is an __object orientated__ programming language in which pretty much everything is an __object__ with a particular __type__\n",
    "associated with it. An instance of an object can be referenced through a variable. For example"
   ]
  },
  {
   "cell_type": "code",
   "execution_count": 21,
   "metadata": {},
   "outputs": [],
   "source": [
    "x<-3.14\n",
    "message<-\"hello world\"\n",
    "v<-c(1,2,3,4)"
   ]
  },
  {
   "cell_type": "markdown",
   "metadata": {},
   "source": [
    "Notice that executing this cell does not produce any output. The following one will though."
   ]
  },
  {
   "cell_type": "code",
   "execution_count": 22,
   "metadata": {},
   "outputs": [
    {
     "data": {
      "text/html": [
       "3.14"
      ],
      "text/latex": [
       "3.14"
      ],
      "text/markdown": [
       "3.14"
      ],
      "text/plain": [
       "[1] 3.14"
      ]
     },
     "metadata": {},
     "output_type": "display_data"
    },
    {
     "data": {
      "text/html": [
       "'hello world'"
      ],
      "text/latex": [
       "'hello world'"
      ],
      "text/markdown": [
       "'hello world'"
      ],
      "text/plain": [
       "[1] \"hello world\""
      ]
     },
     "metadata": {},
     "output_type": "display_data"
    },
    {
     "data": {
      "text/html": [
       "<style>\n",
       ".list-inline {list-style: none; margin:0; padding: 0}\n",
       ".list-inline>li {display: inline-block}\n",
       ".list-inline>li:not(:last-child)::after {content: \"\\00b7\"; padding: 0 .5ex}\n",
       "</style>\n",
       "<ol class=list-inline><li>1</li><li>2</li><li>3</li><li>4</li></ol>\n"
      ],
      "text/latex": [
       "\\begin{enumerate*}\n",
       "\\item 1\n",
       "\\item 2\n",
       "\\item 3\n",
       "\\item 4\n",
       "\\end{enumerate*}\n"
      ],
      "text/markdown": [
       "1. 1\n",
       "2. 2\n",
       "3. 3\n",
       "4. 4\n",
       "\n",
       "\n"
      ],
      "text/plain": [
       "[1] 1 2 3 4"
      ]
     },
     "metadata": {},
     "output_type": "display_data"
    }
   ],
   "source": [
    "x\n",
    "message\n",
    "v"
   ]
  },
  {
   "cell_type": "markdown",
   "metadata": {},
   "source": [
    "In this case the variable __x__ refers to an object of __type__ _double_ with __value__ 3.14. Notice that the __<-__ operator was used to associate a __variable__ with an __object__. You can also use __=__ to do this. To determine the __type__ of an __object__ refered to by a __variable__ x you can use the __type__ function. "
   ]
  },
  {
   "cell_type": "code",
   "execution_count": 23,
   "metadata": {},
   "outputs": [
    {
     "data": {
      "text/html": [
       "'double'"
      ],
      "text/latex": [
       "'double'"
      ],
      "text/markdown": [
       "'double'"
      ],
      "text/plain": [
       "[1] \"double\""
      ]
     },
     "metadata": {},
     "output_type": "display_data"
    }
   ],
   "source": [
    "typeof(x)"
   ]
  },
  {
   "cell_type": "markdown",
   "metadata": {},
   "source": [
    "### Exercise 1\n",
    "Find out what R types message and v are ?"
   ]
  },
  {
   "cell_type": "code",
   "execution_count": 24,
   "metadata": {},
   "outputs": [
    {
     "data": {
      "text/html": [
       "'character'"
      ],
      "text/latex": [
       "'character'"
      ],
      "text/markdown": [
       "'character'"
      ],
      "text/plain": [
       "[1] \"character\""
      ]
     },
     "metadata": {},
     "output_type": "display_data"
    },
    {
     "data": {
      "text/html": [
       "'double'"
      ],
      "text/latex": [
       "'double'"
      ],
      "text/markdown": [
       "'double'"
      ],
      "text/plain": [
       "[1] \"double\""
      ]
     },
     "metadata": {},
     "output_type": "display_data"
    }
   ],
   "source": [
    "typeof(message)\n",
    "typeof(v)"
   ]
  },
  {
   "cell_type": "code",
   "execution_count": 25,
   "metadata": {},
   "outputs": [
    {
     "ename": "ERROR",
     "evalue": "Error in parse(text = x, srcfile = src): <text>:2:5: unexpected symbol\n1: ### Exercise 2\n2: The variables\n       ^\n",
     "output_type": "error",
     "traceback": [
      "Error in parse(text = x, srcfile = src): <text>:2:5: unexpected symbol\n1: ### Exercise 2\n2: The variables\n       ^\nTraceback:\n"
     ]
    }
   ],
   "source": [
    "### Exercise 2\n",
    "The variables introduced above were associated with objects using __<-__. You can also use __=__. "
   ]
  },
  {
   "cell_type": "markdown",
   "metadata": {},
   "source": [
    "Many of the common mathematical functions available in R will work with vectors of values. For example"
   ]
  },
  {
   "cell_type": "code",
   "execution_count": 26,
   "metadata": {},
   "outputs": [
    {
     "name": "stdout",
     "output_type": "stream",
     "text": [
      "0.841471 0.9092974 0.14112 -0.7568025"
     ]
    }
   ],
   "source": [
    "y<-sin(v)\n",
    "cat(y)"
   ]
  },
  {
   "cell_type": "markdown",
   "metadata": {},
   "source": [
    "### Exercise 2\n",
    "You can get information about a __function__ using the __help__ function. Open up a new R notebook in jupyter and \n",
    "run the following command to see what happens."
   ]
  },
  {
   "cell_type": "code",
   "execution_count": 27,
   "metadata": {},
   "outputs": [],
   "source": [
    "help(cat)"
   ]
  },
  {
   "cell_type": "markdown",
   "metadata": {},
   "source": [
    "## Loading packages"
   ]
  },
  {
   "cell_type": "markdown",
   "metadata": {},
   "source": [
    "There are many \"add ons\" for R. The add ons are contained in __packages__. A __package__ can be loaded into an R session \n",
    "using the _library_ function. For example, there is a package called _MASS_. It can be loaded as follows."
   ]
  },
  {
   "cell_type": "code",
   "execution_count": 28,
   "metadata": {},
   "outputs": [],
   "source": [
    "library(MASS)"
   ]
  },
  {
   "cell_type": "markdown",
   "metadata": {},
   "source": [
    "You can also use the __library__ function to obtain information about a library. Try loading the _MASS_ package \n",
    "using the __library)) function in your jupyter notebook and find out what it kind of things it offers."
   ]
  },
  {
   "cell_type": "code",
   "execution_count": 29,
   "metadata": {},
   "outputs": [],
   "source": [
    "library(help=\"MASS\")"
   ]
  },
  {
   "cell_type": "markdown",
   "metadata": {},
   "source": [
    "Try loading the MASS package using the __library__ function in your jupyter notebook and find out what it kind of things it offers."
   ]
  },
  {
   "cell_type": "markdown",
   "metadata": {},
   "source": [
    "There are many many packages for R, and you can make your own (not covered in this course). Most of them do not come \n",
    "as part of a standard R installation, but they are typically availabe from various online repositories, for example, [CRAN](https://cran.r-project.org/), or frequently from github repositories.\n",
    "\n",
    "Before you can load a __package__ it has to be installed on your system. If it is not yet installed you can install it using the __install.packages__ function. Note that this is not the only way, but it works well for the large number of generally well maintained packages that are available from CRAN. For instance, the _zoo_ package is not usually part of an R installation so might not be installed on your system. "
   ]
  },
  {
   "cell_type": "markdown",
   "metadata": {},
   "source": [
    "### Exercise 3\n",
    "Try running the following code\n",
    "in your notebook."
   ]
  },
  {
   "cell_type": "code",
   "execution_count": 30,
   "metadata": {},
   "outputs": [],
   "source": [
    "library(\"zoo\")"
   ]
  },
  {
   "cell_type": "markdown",
   "metadata": {},
   "source": [
    "Using the __install.packages__ function you can install _zoo_ from CRAN."
   ]
  },
  {
   "cell_type": "code",
   "execution_count": 31,
   "metadata": {},
   "outputs": [
    {
     "name": "stderr",
     "output_type": "stream",
     "text": [
      "Installing package into ‘/home/grosedj/R-packages’\n",
      "(as ‘lib’ is unspecified)\n",
      "\n"
     ]
    }
   ],
   "source": [
    "install.packages(\"zoo\")\n"
   ]
  },
  {
   "cell_type": "markdown",
   "metadata": {},
   "source": [
    "Note that, once a library has been installed, it can be loaded using the __library__ function and does not need \n",
    "to be reinstalled each time you use it. Packages can also be uninstalled using the __remove.packages__ function.\n",
    "\n",
    "You should now be able to load the _zoo_ package."
   ]
  },
  {
   "cell_type": "code",
   "execution_count": 32,
   "metadata": {},
   "outputs": [],
   "source": [
    "library(zoo)"
   ]
  },
  {
   "cell_type": "markdown",
   "metadata": {},
   "source": [
    "Some packages (but not all) have a _vignette_ associated with them. Once the package is installed and loaded these\n",
    "vignettes (if they exist) can be accessed using the __vignette__ function."
   ]
  },
  {
   "cell_type": "code",
   "execution_count": 33,
   "metadata": {},
   "outputs": [],
   "source": [
    "vignette(\"zoo\")"
   ]
  },
  {
   "cell_type": "markdown",
   "metadata": {},
   "source": [
    "There are functions that help you search for functions. These include __apropos__ and __find__."
   ]
  },
  {
   "cell_type": "code",
   "execution_count": 34,
   "metadata": {},
   "outputs": [
    {
     "data": {
      "text/html": [
       "<style>\n",
       ".list-inline {list-style: none; margin:0; padding: 0}\n",
       ".list-inline>li {display: inline-block}\n",
       ".list-inline>li:not(:last-child)::after {content: \"\\00b7\"; padding: 0 .5ex}\n",
       "</style>\n",
       "<ol class=list-inline><li>'.colMeans'</li><li>'.rowMeans'</li><li>'colMeans'</li><li>'kmeans'</li><li>'mean'</li><li>'mean.Date'</li><li>'mean.default'</li><li>'mean.difftime'</li><li>'mean.POSIXct'</li><li>'mean.POSIXlt'</li><li>'rollmean'</li><li>'rollmean.default'</li><li>'rollmeanr'</li><li>'rowMeans'</li><li>'weighted.mean'</li></ol>\n"
      ],
      "text/latex": [
       "\\begin{enumerate*}\n",
       "\\item '.colMeans'\n",
       "\\item '.rowMeans'\n",
       "\\item 'colMeans'\n",
       "\\item 'kmeans'\n",
       "\\item 'mean'\n",
       "\\item 'mean.Date'\n",
       "\\item 'mean.default'\n",
       "\\item 'mean.difftime'\n",
       "\\item 'mean.POSIXct'\n",
       "\\item 'mean.POSIXlt'\n",
       "\\item 'rollmean'\n",
       "\\item 'rollmean.default'\n",
       "\\item 'rollmeanr'\n",
       "\\item 'rowMeans'\n",
       "\\item 'weighted.mean'\n",
       "\\end{enumerate*}\n"
      ],
      "text/markdown": [
       "1. '.colMeans'\n",
       "2. '.rowMeans'\n",
       "3. 'colMeans'\n",
       "4. 'kmeans'\n",
       "5. 'mean'\n",
       "6. 'mean.Date'\n",
       "7. 'mean.default'\n",
       "8. 'mean.difftime'\n",
       "9. 'mean.POSIXct'\n",
       "10. 'mean.POSIXlt'\n",
       "11. 'rollmean'\n",
       "12. 'rollmean.default'\n",
       "13. 'rollmeanr'\n",
       "14. 'rowMeans'\n",
       "15. 'weighted.mean'\n",
       "\n",
       "\n"
      ],
      "text/plain": [
       " [1] \".colMeans\"        \".rowMeans\"        \"colMeans\"         \"kmeans\"          \n",
       " [5] \"mean\"             \"mean.Date\"        \"mean.default\"     \"mean.difftime\"   \n",
       " [9] \"mean.POSIXct\"     \"mean.POSIXlt\"     \"rollmean\"         \"rollmean.default\"\n",
       "[13] \"rollmeanr\"        \"rowMeans\"         \"weighted.mean\"   "
      ]
     },
     "metadata": {},
     "output_type": "display_data"
    }
   ],
   "source": [
    "apropos(\"mean\")"
   ]
  },
  {
   "cell_type": "code",
   "execution_count": 35,
   "metadata": {},
   "outputs": [
    {
     "data": {
      "text/html": [
       "'package:zoo'"
      ],
      "text/latex": [
       "'package:zoo'"
      ],
      "text/markdown": [
       "'package:zoo'"
      ],
      "text/plain": [
       "[1] \"package:zoo\""
      ]
     },
     "metadata": {},
     "output_type": "display_data"
    }
   ],
   "source": [
    "find(\"rollmean\")"
   ]
  },
  {
   "cell_type": "markdown",
   "metadata": {},
   "source": [
    "It is also possible to search across packages that are available from the main repsoitories using the __RSiteSearch__ function."
   ]
  },
  {
   "cell_type": "code",
   "execution_count": 36,
   "metadata": {},
   "outputs": [
    {
     "name": "stdout",
     "output_type": "stream",
     "text": [
      "A search query has been submitted to http://search.r-project.org\n",
      "The results page should open in your browser shortly\n"
     ]
    }
   ],
   "source": [
    "RSiteSearch(\"runmed\")"
   ]
  },
  {
   "cell_type": "markdown",
   "metadata": {},
   "source": [
    "## Managing an R session"
   ]
  },
  {
   "cell_type": "markdown",
   "metadata": {},
   "source": [
    "There are some basic functions to help you manage the variables, data, packages in your R session. The three main ones are\n",
    "\n",
    "- __ls__ lists the objects in your workspace.\n",
    "- __list.files__ lists the files located in the folder's workspace\n",
    "- __rm__ removes objects from your workspace; rm(list = ls()) removes them all.\n",
    "\n",
    "For example"
   ]
  },
  {
   "cell_type": "code",
   "execution_count": 37,
   "metadata": {},
   "outputs": [
    {
     "data": {
      "text/html": [
       "<style>\n",
       ".list-inline {list-style: none; margin:0; padding: 0}\n",
       ".list-inline>li {display: inline-block}\n",
       ".list-inline>li:not(:last-child)::after {content: \"\\00b7\"; padding: 0 .5ex}\n",
       "</style>\n",
       "<ol class=list-inline><li>'message'</li><li>'v'</li><li>'x'</li><li>'y'</li></ol>\n"
      ],
      "text/latex": [
       "\\begin{enumerate*}\n",
       "\\item 'message'\n",
       "\\item 'v'\n",
       "\\item 'x'\n",
       "\\item 'y'\n",
       "\\end{enumerate*}\n"
      ],
      "text/markdown": [
       "1. 'message'\n",
       "2. 'v'\n",
       "3. 'x'\n",
       "4. 'y'\n",
       "\n",
       "\n"
      ],
      "text/plain": [
       "[1] \"message\" \"v\"       \"x\"       \"y\"      "
      ]
     },
     "metadata": {},
     "output_type": "display_data"
    }
   ],
   "source": [
    "ls()"
   ]
  },
  {
   "cell_type": "code",
   "execution_count": 38,
   "metadata": {},
   "outputs": [],
   "source": [
    "rm(y)"
   ]
  },
  {
   "cell_type": "code",
   "execution_count": 39,
   "metadata": {},
   "outputs": [
    {
     "data": {
      "text/html": [
       "<style>\n",
       ".list-inline {list-style: none; margin:0; padding: 0}\n",
       ".list-inline>li {display: inline-block}\n",
       ".list-inline>li:not(:last-child)::after {content: \"\\00b7\"; padding: 0 .5ex}\n",
       "</style>\n",
       "<ol class=list-inline><li>'message'</li><li>'v'</li><li>'x'</li></ol>\n"
      ],
      "text/latex": [
       "\\begin{enumerate*}\n",
       "\\item 'message'\n",
       "\\item 'v'\n",
       "\\item 'x'\n",
       "\\end{enumerate*}\n"
      ],
      "text/markdown": [
       "1. 'message'\n",
       "2. 'v'\n",
       "3. 'x'\n",
       "\n",
       "\n"
      ],
      "text/plain": [
       "[1] \"message\" \"v\"       \"x\"      "
      ]
     },
     "metadata": {},
     "output_type": "display_data"
    }
   ],
   "source": [
    "ls()"
   ]
  },
  {
   "cell_type": "code",
   "execution_count": null,
   "metadata": {},
   "outputs": [],
   "source": [
    "Note that "
   ]
  },
  {
   "cell_type": "code",
   "execution_count": 40,
   "metadata": {},
   "outputs": [],
   "source": [
    "rm(list=ls())"
   ]
  },
  {
   "cell_type": "markdown",
   "metadata": {},
   "source": [
    "removes ALL of your data and variables !!"
   ]
  },
  {
   "cell_type": "code",
   "execution_count": 44,
   "metadata": {},
   "outputs": [
    {
     "data": {
      "text/html": [],
      "text/latex": [],
      "text/markdown": [],
      "text/plain": [
       "character(0)"
      ]
     },
     "metadata": {},
     "output_type": "display_data"
    }
   ],
   "source": [
    "ls()"
   ]
  },
  {
   "cell_type": "markdown",
   "metadata": {},
   "source": [
    "The __sessionInfo__ gives information about your session, i.e., loaded packages, R version, etc."
   ]
  },
  {
   "cell_type": "code",
   "execution_count": 45,
   "metadata": {},
   "outputs": [
    {
     "data": {
      "text/plain": [
       "R version 4.1.0 (2021-05-18)\n",
       "Platform: x86_64-pc-linux-gnu (64-bit)\n",
       "Running under: Ubuntu 20.04.2 LTS\n",
       "\n",
       "Matrix products: default\n",
       "BLAS:   /usr/lib/x86_64-linux-gnu/blas/libblas.so.3.9.0\n",
       "LAPACK: /usr/lib/x86_64-linux-gnu/lapack/liblapack.so.3.9.0\n",
       "\n",
       "locale:\n",
       " [1] LC_CTYPE=en_GB.UTF-8       LC_NUMERIC=C              \n",
       " [3] LC_TIME=en_GB.UTF-8        LC_COLLATE=en_GB.UTF-8    \n",
       " [5] LC_MONETARY=en_GB.UTF-8    LC_MESSAGES=en_GB.UTF-8   \n",
       " [7] LC_PAPER=en_GB.UTF-8       LC_NAME=C                 \n",
       " [9] LC_ADDRESS=C               LC_TELEPHONE=C            \n",
       "[11] LC_MEASUREMENT=en_GB.UTF-8 LC_IDENTIFICATION=C       \n",
       "\n",
       "attached base packages:\n",
       "[1] stats     graphics  grDevices utils     datasets  methods   base     \n",
       "\n",
       "other attached packages:\n",
       "[1] MASS_7.3-53 zoo_1.8-9  \n",
       "\n",
       "loaded via a namespace (and not attached):\n",
       " [1] lattice_0.20-44   fansi_0.5.0       digest_0.6.27     utf8_1.2.1       \n",
       " [5] crayon_1.4.1      IRdisplay_1.0     grid_4.1.0        repr_1.1.3       \n",
       " [9] lifecycle_1.0.0   jsonlite_1.7.2    evaluate_0.14     pillar_1.6.1     \n",
       "[13] rlang_0.4.11      uuid_0.1-4        vctrs_0.3.8       ellipsis_0.3.2   \n",
       "[17] IRkernel_1.2      tools_4.1.0       compiler_4.1.0    base64enc_0.1-3  \n",
       "[21] pbdZMQ_0.3-5      htmltools_0.5.1.1"
      ]
     },
     "metadata": {},
     "output_type": "display_data"
    }
   ],
   "source": [
    "sessionInfo()"
   ]
  },
  {
   "cell_type": "markdown",
   "metadata": {},
   "source": [
    "## Loading and saving data"
   ]
  },
  {
   "cell_type": "markdown",
   "metadata": {},
   "source": [
    "You can save objects to a file using the __save__ function ..."
   ]
  },
  {
   "cell_type": "code",
   "execution_count": 46,
   "metadata": {},
   "outputs": [],
   "source": [
    "x<-seq(1,10,0.1)"
   ]
  },
  {
   "cell_type": "code",
   "execution_count": 47,
   "metadata": {},
   "outputs": [
    {
     "data": {
      "text/html": [
       "'x'"
      ],
      "text/latex": [
       "'x'"
      ],
      "text/markdown": [
       "'x'"
      ],
      "text/plain": [
       "[1] \"x\""
      ]
     },
     "metadata": {},
     "output_type": "display_data"
    }
   ],
   "source": [
    "ls()"
   ]
  },
  {
   "cell_type": "code",
   "execution_count": 48,
   "metadata": {},
   "outputs": [],
   "source": [
    "save(x,file=\"some.data.Rda\")"
   ]
  },
  {
   "cell_type": "code",
   "execution_count": 49,
   "metadata": {},
   "outputs": [
    {
     "data": {
      "text/html": [],
      "text/latex": [],
      "text/markdown": [],
      "text/plain": [
       "character(0)"
      ]
     },
     "metadata": {},
     "output_type": "display_data"
    }
   ],
   "source": [
    "rm(x)\n",
    "ls()"
   ]
  },
  {
   "cell_type": "markdown",
   "metadata": {},
   "source": [
    "... and load it using load"
   ]
  },
  {
   "cell_type": "code",
   "execution_count": 52,
   "metadata": {},
   "outputs": [
    {
     "data": {
      "text/html": [
       "'x'"
      ],
      "text/latex": [
       "'x'"
      ],
      "text/markdown": [
       "'x'"
      ],
      "text/plain": [
       "[1] \"x\""
      ]
     },
     "metadata": {},
     "output_type": "display_data"
    },
    {
     "data": {
      "text/html": [
       "<style>\n",
       ".list-inline {list-style: none; margin:0; padding: 0}\n",
       ".list-inline>li {display: inline-block}\n",
       ".list-inline>li:not(:last-child)::after {content: \"\\00b7\"; padding: 0 .5ex}\n",
       "</style>\n",
       "<ol class=list-inline><li>1</li><li>1.1</li><li>1.2</li><li>1.3</li><li>1.4</li><li>1.5</li><li>1.6</li><li>1.7</li><li>1.8</li><li>1.9</li><li>2</li><li>2.1</li><li>2.2</li><li>2.3</li><li>2.4</li><li>2.5</li><li>2.6</li><li>2.7</li><li>2.8</li><li>2.9</li><li>3</li><li>3.1</li><li>3.2</li><li>3.3</li><li>3.4</li><li>3.5</li><li>3.6</li><li>3.7</li><li>3.8</li><li>3.9</li><li>4</li><li>4.1</li><li>4.2</li><li>4.3</li><li>4.4</li><li>4.5</li><li>4.6</li><li>4.7</li><li>4.8</li><li>4.9</li><li>5</li><li>5.1</li><li>5.2</li><li>5.3</li><li>5.4</li><li>5.5</li><li>5.6</li><li>5.7</li><li>5.8</li><li>5.9</li><li>6</li><li>6.1</li><li>6.2</li><li>6.3</li><li>6.4</li><li>6.5</li><li>6.6</li><li>6.7</li><li>6.8</li><li>6.9</li><li>7</li><li>7.1</li><li>7.2</li><li>7.3</li><li>7.4</li><li>7.5</li><li>7.6</li><li>7.7</li><li>7.8</li><li>7.9</li><li>8</li><li>8.1</li><li>8.2</li><li>8.3</li><li>8.4</li><li>8.5</li><li>8.6</li><li>8.7</li><li>8.8</li><li>8.9</li><li>9</li><li>9.1</li><li>9.2</li><li>9.3</li><li>9.4</li><li>9.5</li><li>9.6</li><li>9.7</li><li>9.8</li><li>9.9</li><li>10</li></ol>\n"
      ],
      "text/latex": [
       "\\begin{enumerate*}\n",
       "\\item 1\n",
       "\\item 1.1\n",
       "\\item 1.2\n",
       "\\item 1.3\n",
       "\\item 1.4\n",
       "\\item 1.5\n",
       "\\item 1.6\n",
       "\\item 1.7\n",
       "\\item 1.8\n",
       "\\item 1.9\n",
       "\\item 2\n",
       "\\item 2.1\n",
       "\\item 2.2\n",
       "\\item 2.3\n",
       "\\item 2.4\n",
       "\\item 2.5\n",
       "\\item 2.6\n",
       "\\item 2.7\n",
       "\\item 2.8\n",
       "\\item 2.9\n",
       "\\item 3\n",
       "\\item 3.1\n",
       "\\item 3.2\n",
       "\\item 3.3\n",
       "\\item 3.4\n",
       "\\item 3.5\n",
       "\\item 3.6\n",
       "\\item 3.7\n",
       "\\item 3.8\n",
       "\\item 3.9\n",
       "\\item 4\n",
       "\\item 4.1\n",
       "\\item 4.2\n",
       "\\item 4.3\n",
       "\\item 4.4\n",
       "\\item 4.5\n",
       "\\item 4.6\n",
       "\\item 4.7\n",
       "\\item 4.8\n",
       "\\item 4.9\n",
       "\\item 5\n",
       "\\item 5.1\n",
       "\\item 5.2\n",
       "\\item 5.3\n",
       "\\item 5.4\n",
       "\\item 5.5\n",
       "\\item 5.6\n",
       "\\item 5.7\n",
       "\\item 5.8\n",
       "\\item 5.9\n",
       "\\item 6\n",
       "\\item 6.1\n",
       "\\item 6.2\n",
       "\\item 6.3\n",
       "\\item 6.4\n",
       "\\item 6.5\n",
       "\\item 6.6\n",
       "\\item 6.7\n",
       "\\item 6.8\n",
       "\\item 6.9\n",
       "\\item 7\n",
       "\\item 7.1\n",
       "\\item 7.2\n",
       "\\item 7.3\n",
       "\\item 7.4\n",
       "\\item 7.5\n",
       "\\item 7.6\n",
       "\\item 7.7\n",
       "\\item 7.8\n",
       "\\item 7.9\n",
       "\\item 8\n",
       "\\item 8.1\n",
       "\\item 8.2\n",
       "\\item 8.3\n",
       "\\item 8.4\n",
       "\\item 8.5\n",
       "\\item 8.6\n",
       "\\item 8.7\n",
       "\\item 8.8\n",
       "\\item 8.9\n",
       "\\item 9\n",
       "\\item 9.1\n",
       "\\item 9.2\n",
       "\\item 9.3\n",
       "\\item 9.4\n",
       "\\item 9.5\n",
       "\\item 9.6\n",
       "\\item 9.7\n",
       "\\item 9.8\n",
       "\\item 9.9\n",
       "\\item 10\n",
       "\\end{enumerate*}\n"
      ],
      "text/markdown": [
       "1. 1\n",
       "2. 1.1\n",
       "3. 1.2\n",
       "4. 1.3\n",
       "5. 1.4\n",
       "6. 1.5\n",
       "7. 1.6\n",
       "8. 1.7\n",
       "9. 1.8\n",
       "10. 1.9\n",
       "11. 2\n",
       "12. 2.1\n",
       "13. 2.2\n",
       "14. 2.3\n",
       "15. 2.4\n",
       "16. 2.5\n",
       "17. 2.6\n",
       "18. 2.7\n",
       "19. 2.8\n",
       "20. 2.9\n",
       "21. 3\n",
       "22. 3.1\n",
       "23. 3.2\n",
       "24. 3.3\n",
       "25. 3.4\n",
       "26. 3.5\n",
       "27. 3.6\n",
       "28. 3.7\n",
       "29. 3.8\n",
       "30. 3.9\n",
       "31. 4\n",
       "32. 4.1\n",
       "33. 4.2\n",
       "34. 4.3\n",
       "35. 4.4\n",
       "36. 4.5\n",
       "37. 4.6\n",
       "38. 4.7\n",
       "39. 4.8\n",
       "40. 4.9\n",
       "41. 5\n",
       "42. 5.1\n",
       "43. 5.2\n",
       "44. 5.3\n",
       "45. 5.4\n",
       "46. 5.5\n",
       "47. 5.6\n",
       "48. 5.7\n",
       "49. 5.8\n",
       "50. 5.9\n",
       "51. 6\n",
       "52. 6.1\n",
       "53. 6.2\n",
       "54. 6.3\n",
       "55. 6.4\n",
       "56. 6.5\n",
       "57. 6.6\n",
       "58. 6.7\n",
       "59. 6.8\n",
       "60. 6.9\n",
       "61. 7\n",
       "62. 7.1\n",
       "63. 7.2\n",
       "64. 7.3\n",
       "65. 7.4\n",
       "66. 7.5\n",
       "67. 7.6\n",
       "68. 7.7\n",
       "69. 7.8\n",
       "70. 7.9\n",
       "71. 8\n",
       "72. 8.1\n",
       "73. 8.2\n",
       "74. 8.3\n",
       "75. 8.4\n",
       "76. 8.5\n",
       "77. 8.6\n",
       "78. 8.7\n",
       "79. 8.8\n",
       "80. 8.9\n",
       "81. 9\n",
       "82. 9.1\n",
       "83. 9.2\n",
       "84. 9.3\n",
       "85. 9.4\n",
       "86. 9.5\n",
       "87. 9.6\n",
       "88. 9.7\n",
       "89. 9.8\n",
       "90. 9.9\n",
       "91. 10\n",
       "\n",
       "\n"
      ],
      "text/plain": [
       " [1]  1.0  1.1  1.2  1.3  1.4  1.5  1.6  1.7  1.8  1.9  2.0  2.1  2.2  2.3  2.4\n",
       "[16]  2.5  2.6  2.7  2.8  2.9  3.0  3.1  3.2  3.3  3.4  3.5  3.6  3.7  3.8  3.9\n",
       "[31]  4.0  4.1  4.2  4.3  4.4  4.5  4.6  4.7  4.8  4.9  5.0  5.1  5.2  5.3  5.4\n",
       "[46]  5.5  5.6  5.7  5.8  5.9  6.0  6.1  6.2  6.3  6.4  6.5  6.6  6.7  6.8  6.9\n",
       "[61]  7.0  7.1  7.2  7.3  7.4  7.5  7.6  7.7  7.8  7.9  8.0  8.1  8.2  8.3  8.4\n",
       "[76]  8.5  8.6  8.7  8.8  8.9  9.0  9.1  9.2  9.3  9.4  9.5  9.6  9.7  9.8  9.9\n",
       "[91] 10.0"
      ]
     },
     "metadata": {},
     "output_type": "display_data"
    }
   ],
   "source": [
    "load(file=\"some.data.Rda\")\n",
    "ls()\n",
    "x"
   ]
  },
  {
   "cell_type": "code",
   "execution_count": null,
   "metadata": {},
   "outputs": [],
   "source": []
  }
 ],
 "metadata": {
  "kernelspec": {
   "display_name": "R",
   "language": "R",
   "name": "ir"
  },
  "language_info": {
   "codemirror_mode": "r",
   "file_extension": ".r",
   "mimetype": "text/x-r-source",
   "name": "R",
   "pygments_lexer": "r",
   "version": "4.1.0"
  }
 },
 "nbformat": 4,
 "nbformat_minor": 5
}
