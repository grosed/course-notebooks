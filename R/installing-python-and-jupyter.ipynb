{
 "cells": [
  {
   "cell_type": "markdown",
   "id": "a1b69676",
   "metadata": {},
   "source": [
    "# Installing Python and Jupyter"
   ]
  },
  {
   "cell_type": "markdown",
   "id": "5c7cf463",
   "metadata": {},
   "source": [
    "## Windows"
   ]
  },
  {
   "cell_type": "markdown",
   "id": "99f2726c",
   "metadata": {},
   "source": [
    "## Install python"
   ]
  },
  {
   "cell_type": "markdown",
   "id": "c097ce8f",
   "metadata": {},
   "source": [
    "###  step 1\n",
    "\n",
    "set default download location for your browser to C:\\Users\\\\<username\\> (where \\<username\\> is your University username)"
   ]
  },
  {
   "cell_type": "markdown",
   "id": "ea52ecaf",
   "metadata": {},
   "source": [
    "### step 2\n",
    "Download the latest Python from python.org to C:\\Users\\\\<username\\> (where \\<username\\> is your University username)"
   ]
  },
  {
   "cell_type": "markdown",
   "id": "385e29e4",
   "metadata": {},
   "source": [
    "### step 3 \n",
    "Download the latest version of R from cloud.r-project.org to the same location\n"
   ]
  },
  {
   "cell_type": "markdown",
   "id": "5e65fd97",
   "metadata": {},
   "source": [
    "### step 4\n",
    "\n",
    "Install python by running the installer.\n",
    "\n",
    "- make sure both check boxes (Install Launcher and Add to PATH) are ticked\n",
    "\n",
    "- click Custmize installation\n",
    "\n",
    "- select all features\n",
    "\n",
    "- check the box for 'Install for all users' (Leave other optons checked as is)\n",
    "\n",
    "- change the install location under 'Customize install location'; change it to C:\\Users\\\\<username\\>\\AppData\\Local\\Programs\\Python\\Python39 (replace \\<username\\> with your username)\n",
    "\n",
    "- when prompted, enter your admin account details\n",
    "\n",
    "- after 'Setup was succesfull' click 'close'\n"
   ]
  },
  {
   "cell_type": "markdown",
   "id": "3141018f",
   "metadata": {},
   "source": [
    "## Install jupyter"
   ]
  },
  {
   "cell_type": "markdown",
   "id": "20fece04",
   "metadata": {},
   "source": [
    "### step 1 \n",
    "\n",
    "- open a command prompt"
   ]
  },
  {
   "cell_type": "markdown",
   "id": "c875eb85",
   "metadata": {},
   "source": [
    "Search for the Command Prompt\n",
    "\n",
    "\n",
    "![alt](search-cmd.png)"
   ]
  },
  {
   "cell_type": "markdown",
   "id": "b36a2c34",
   "metadata": {},
   "source": [
    "Start the Command Prompt\n",
    "\n",
    "![alt](select-cmd.png)"
   ]
  },
  {
   "cell_type": "markdown",
   "id": "b85495c1",
   "metadata": {},
   "source": [
    "Use the Command Prompt\n",
    "\n",
    "\n",
    "![alt](cmd-window.png)"
   ]
  },
  {
   "cell_type": "markdown",
   "id": "c1dda736",
   "metadata": {},
   "source": [
    "### step 2 \n",
    "\n",
    "run the command \n",
    "\n",
    "__python -m pip install notebook__"
   ]
  },
  {
   "cell_type": "markdown",
   "id": "1ba0ec38",
   "metadata": {},
   "source": [
    "## Install R"
   ]
  },
  {
   "cell_type": "markdown",
   "id": "c404ec3f",
   "metadata": {},
   "source": [
    "\n",
    "### step 1 \n",
    "\n",
    "- run the installer as admin by right clicking and selecting 'run as admin'\n",
    "- enter admin account details when prompted\n"
   ]
  },
  {
   "cell_type": "markdown",
   "id": "59ed587a",
   "metadata": {},
   "source": [
    "### step 2\n",
    "\n",
    "select \n",
    "\n",
    "- destination location C:\\Users\\\\<username\\>\\AppData\\Local\\Programs\\R-4.1.1 (replace \\<username\\> with your username) \n",
    "\n",
    "deselect \n",
    "\n",
    "- '32-bit Files'\n",
    "\n",
    "accept all other defaults and follow installer prompts"
   ]
  },
  {
   "cell_type": "markdown",
   "id": "6cf06bca",
   "metadata": {},
   "source": [
    "### step 3 \n",
    "\n",
    "add R to the PATH\n",
    "\n",
    "- from the Start menu, click the cog icon for settings\n",
    "\n",
    "- click on 'System'\n",
    "\n",
    "- on the menu on the left, click 'About'\n",
    "\n",
    "- on the right, under 'related settings', click the link for 'Advanced system settings'\n",
    "\n",
    "- enter your admin account details when prompted\n",
    "\n",
    "- click 'Environment Variables...'\n",
    "\n",
    "- under 'System variables', click on the line for 'Path' and then click 'Edit...'\n",
    "\n",
    "- click 'New' to add a new entry for C:\\Users\\\\<username\\>\\AppData\\Local\\Programs\\R-4.1.1\\bin (replace \\<username\\> with your username)\n",
    "\n",
    "click 'OK' and close the environment variables and system properties dialogue boxes down.\n"
   ]
  },
  {
   "cell_type": "markdown",
   "id": "65460422",
   "metadata": {},
   "source": [
    "## Install IRkernel package "
   ]
  },
  {
   "cell_type": "markdown",
   "id": "928b49a6",
   "metadata": {},
   "source": [
    "### step 1\n",
    "\n",
    "Start R by typing\n",
    "\n",
    "R"
   ]
  },
  {
   "cell_type": "markdown",
   "id": "add97ead",
   "metadata": {},
   "source": [
    "### step 2\n",
    "\n",
    "Install the IRKernel package by typing\n",
    "\n",
    "R>   install.packages(\"IRkernel\")\n",
    "\n",
    "\n",
    "at the R prompt\n"
   ]
  },
  {
   "cell_type": "markdown",
   "id": "7334f6d5",
   "metadata": {},
   "source": [
    "### step 3 \n",
    "\n",
    "Configure IRkernel by typing\n",
    "\n",
    "R> library(IRkernel)\n",
    "\n",
    "R> IRkernel::installspec()\n",
    "\n",
    "\n",
    "at the R prompt"
   ]
  },
  {
   "cell_type": "markdown",
   "id": "f713caae",
   "metadata": {},
   "source": [
    "## Starting Jupyter"
   ]
  },
  {
   "cell_type": "markdown",
   "id": "ac542ebc",
   "metadata": {},
   "source": [
    "You should now be able to start jupyter and open a new notebook that uses the R kernel"
   ]
  },
  {
   "cell_type": "markdown",
   "id": "e7c34c86",
   "metadata": {},
   "source": [
    "### step 1\n",
    "\n",
    "change the drive in you command prompt window to C:"
   ]
  },
  {
   "cell_type": "markdown",
   "id": "9445d13d",
   "metadata": {},
   "source": [
    "### step 2\n",
    "\n",
    "change the drive in you command prompt window to C: by typing and entering\n",
    "\n",
    "C:"
   ]
  },
  {
   "cell_type": "markdown",
   "id": "fe86d250",
   "metadata": {},
   "source": [
    "### step 3\n",
    "\n",
    "enter the following command to open the jupyter notebook\n",
    "\n",
    "\n",
    "jupyter notebook"
   ]
  },
  {
   "cell_type": "markdown",
   "id": "c24b92fa",
   "metadata": {},
   "source": [
    "![alt](jupyter.png)"
   ]
  },
  {
   "cell_type": "markdown",
   "id": "ece053ff",
   "metadata": {},
   "source": [
    "# Starting a new R kernel in Jupyter"
   ]
  },
  {
   "cell_type": "markdown",
   "id": "6a606f48",
   "metadata": {},
   "source": [
    "Navigate to your user area (C:\\Users\\\\<username\\>) in the Jupyter Notebook file browser\n",
    "\n"
   ]
  },
  {
   "cell_type": "markdown",
   "id": "aba78f59",
   "metadata": {},
   "source": [
    "![alt](jupyter-browser.png)"
   ]
  },
  {
   "cell_type": "markdown",
   "id": "8be8e472",
   "metadata": {},
   "source": [
    "From the new dropdown dialogue, select R"
   ]
  },
  {
   "cell_type": "markdown",
   "id": "343c6080",
   "metadata": {},
   "source": [
    "![alt](jupyter-new.png)"
   ]
  },
  {
   "cell_type": "markdown",
   "id": "c4f69bb8",
   "metadata": {},
   "source": [
    "Start a new R kernel"
   ]
  },
  {
   "cell_type": "markdown",
   "id": "28dc6a5c",
   "metadata": {},
   "source": [
    "![alt](jupyter-new-kernels.png)"
   ]
  }
 ],
 "metadata": {
  "kernelspec": {
   "display_name": "R",
   "language": "R",
   "name": "ir"
  },
  "language_info": {
   "codemirror_mode": "r",
   "file_extension": ".r",
   "mimetype": "text/x-r-source",
   "name": "R",
   "pygments_lexer": "r",
   "version": "4.1.0"
  }
 },
 "nbformat": 4,
 "nbformat_minor": 5
}
