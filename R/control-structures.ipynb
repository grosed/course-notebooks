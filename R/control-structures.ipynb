{
 "cells": [
  {
   "cell_type": "markdown",
   "id": "ec4113c4",
   "metadata": {},
   "source": [
    "# Control structures"
   ]
  },
  {
   "cell_type": "markdown",
   "id": "54be684e",
   "metadata": {},
   "source": [
    "As with most programming languages, R has various means of controlling the flow of computation. These take the form of condition statements and \"loops\"."
   ]
  },
  {
   "cell_type": "markdown",
   "id": "f5f93081",
   "metadata": {},
   "source": [
    "### <u>Exercise 1</u>\n",
    "\n",
    "Execute the following in your jupyter notebook."
   ]
  },
  {
   "cell_type": "code",
   "execution_count": 1,
   "id": "56d3a863",
   "metadata": {
    "editable": true,
    "slideshow": {
     "slide_type": ""
    },
    "tags": []
   },
   "outputs": [
    {
     "data": {
      "text/html": [
       "\n",
       "<table style=\"width: 100%;\"><tr><td>Control {base}</td><td style=\"text-align: right;\">R Documentation</td></tr></table>\n",
       "\n",
       "<h2 id='Control'>Control Flow</h2>\n",
       "\n",
       "<h3>Description</h3>\n",
       "\n",
       "<p>These are the basic control-flow constructs of the <span class=\"rlang\"><b>R</b></span> language.  They\n",
       "function in much the same way as control statements in any Algol-like\n",
       "language.  They are all reserved words.\n",
       "</p>\n",
       "\n",
       "\n",
       "<h3>Usage</h3>\n",
       "\n",
       "<pre><code class='language-R'>if(cond) expr\n",
       "if(cond) cons.expr  else  alt.expr\n",
       "\n",
       "for(var in seq) expr\n",
       "while(cond) expr\n",
       "repeat expr\n",
       "break\n",
       "next\n",
       "</code></pre>\n",
       "\n",
       "\n",
       "<h3>Arguments</h3>\n",
       "\n",
       "<table>\n",
       "<tr><td><code id=\"Control_:_cond\">cond</code></td>\n",
       "<td>\n",
       "<p>A length-one logical vector that is not <code>NA</code>.\n",
       "Other types are coerced to logical if possible, ignoring any class.\n",
       "(Conditions of length greater than one are an error.) \n",
       "</p>\n",
       "</td></tr>\n",
       "<tr><td><code id=\"Control_:_var\">var</code></td>\n",
       "<td>\n",
       "<p>A syntactical name for a variable.</p>\n",
       "</td></tr>\n",
       "<tr><td><code id=\"Control_:_seq\">seq</code></td>\n",
       "<td>\n",
       "<p>An expression evaluating to a vector (including a list and\n",
       "an expression) or to a pairlist or <code>NULL</code>.  A\n",
       "factor value will be coerced to a character vector.  This can be a\n",
       "long vector.</p>\n",
       "</td></tr>\n",
       "<tr><td><code id=\"Control_:_expr\">expr</code>, <code id=\"Control_:_cons.expr\">cons.expr</code>, <code id=\"Control_:_alt.expr\">alt.expr</code></td>\n",
       "<td>\n",
       "\n",
       "<p>An <em>expression</em> in a formal sense.  This is either a\n",
       "simple expression or a so-called <em>compound expression</em>, usually\n",
       "of the form <code>{ expr1 ; expr2 }</code>.\n",
       "</p>\n",
       "</td></tr>\n",
       "</table>\n",
       "\n",
       "\n",
       "<h3>Details</h3>\n",
       "\n",
       "<p><code>break</code> breaks out of a <code>for</code>, <code>while</code> or <code>repeat</code>\n",
       "loop; control is transferred to the first statement outside the\n",
       "inner-most loop. <code>next</code> halts the processing of the current\n",
       "iteration and advances the looping index.  Both <code>break</code> and\n",
       "<code>next</code> apply only to the innermost of nested loops.\n",
       "</p>\n",
       "<p>Note that it is a common mistake to forget to put braces (<code>{ .. }</code>)\n",
       "around your statements, e.g., after <code>if(..)</code> or <code>for(....)</code>.\n",
       "In particular, you should not have a newline between <code>}</code> and\n",
       "<code>else</code> to avoid a syntax error in entering a <code>if ... else</code>\n",
       "construct at the keyboard or via <code>source</code>.\n",
       "For that reason, one (somewhat extreme) attitude of defensive programming\n",
       "is to always use braces, e.g., for <code>if</code> clauses.\n",
       "</p>\n",
       "<p>The <code>seq</code> in a <code>for</code> loop is evaluated at the start of\n",
       "the loop; changing it subsequently does not affect the loop.  If\n",
       "<code>seq</code> has length zero the body of the loop is skipped. Otherwise the\n",
       "variable <code>var</code> is assigned in turn the value of each element of\n",
       "<code>seq</code>. You can assign to <code>var</code> within the body of the loop,\n",
       "but this will not affect the next iteration.  When the loop terminates,\n",
       "<code>var</code> remains as a variable containing its latest value.\n",
       "</p>\n",
       "\n",
       "\n",
       "<h3>Value</h3>\n",
       "\n",
       "<p><code>if</code> returns the value of the expression evaluated, or\n",
       "<code>NULL</code> invisibly if none was (which may happen if there is no\n",
       "<code>else</code>).\n",
       "</p>\n",
       "<p><code>for</code>, <code>while</code> and <code>repeat</code> return <code>NULL</code> invisibly.\n",
       "<code>for</code> sets <code>var</code> to the last used element of <code>seq</code>,\n",
       "or to <code>NULL</code> if it was of length zero.\n",
       "</p>\n",
       "<p><code>break</code> and <code>next</code> do not return a value as they transfer\n",
       "control within the loop.\n",
       "</p>\n",
       "\n",
       "\n",
       "<h3>References</h3>\n",
       "\n",
       "<p>Becker, R. A., Chambers, J. M. and Wilks, A. R. (1988)\n",
       "<em>The New S Language</em>.\n",
       "Wadsworth &amp; Brooks/Cole.\n",
       "</p>\n",
       "\n",
       "\n",
       "<h3>See Also</h3>\n",
       "\n",
       "<p><code>Syntax</code> for the basic <span class=\"rlang\"><b>R</b></span> syntax and operators,\n",
       "<code>Paren</code> for parentheses and braces.\n",
       "</p>\n",
       "<p><code>ifelse</code>, <code>switch</code> for other ways to control flow.\n",
       "</p>\n",
       "\n",
       "\n",
       "<h3>Examples</h3>\n",
       "\n",
       "<pre><code class='language-R'>for(i in 1:5) print(1:i)\n",
       "for(n in c(2,5,10,20,50)) {\n",
       "   x &lt;- stats::rnorm(n)\n",
       "   cat(n, \": \", sum(x^2), \"\\n\", sep = \"\")\n",
       "}\n",
       "f &lt;- factor(sample(letters[1:5], 10, replace = TRUE))\n",
       "for(i in unique(f)) print(i)\n",
       "</code></pre>\n",
       "\n",
       "<hr /><div style=\"text-align: center;\">[Package <em>base</em> version 4.3.3 ]</div>\n",
       "</div>"
      ],
      "text/latex": [
       "\\inputencoding{utf8}\n",
       "\\HeaderA{Control}{Control Flow}{Control}\n",
       "\\aliasA{break}{Control}{break}\n",
       "\\aliasA{else}{Control}{else}\n",
       "\\aliasA{for}{Control}{for}\n",
       "\\aliasA{if}{Control}{if}\n",
       "\\aliasA{in}{Control}{in}\n",
       "\\aliasA{next}{Control}{next}\n",
       "\\aliasA{repeat}{Control}{repeat}\n",
       "\\aliasA{while}{Control}{while}\n",
       "\\keyword{programming}{Control}\n",
       "\\keyword{iteration}{Control}\n",
       "\\keyword{logic}{Control}\n",
       "%\n",
       "\\begin{Description}\n",
       "These are the basic control-flow constructs of the \\R{} language.  They\n",
       "function in much the same way as control statements in any Algol-like\n",
       "language.  They are all \\LinkA{reserved}{reserved} words.\n",
       "\\end{Description}\n",
       "%\n",
       "\\begin{Usage}\n",
       "\\begin{verbatim}\n",
       "if(cond) expr\n",
       "if(cond) cons.expr  else  alt.expr\n",
       "\n",
       "for(var in seq) expr\n",
       "while(cond) expr\n",
       "repeat expr\n",
       "break\n",
       "next\n",
       "\\end{verbatim}\n",
       "\\end{Usage}\n",
       "%\n",
       "\\begin{Arguments}\n",
       "\\begin{ldescription}\n",
       "\\item[\\code{cond}] A length-one logical vector that is not \\code{NA}.\n",
       "Other types are coerced to logical if possible, ignoring any class.\n",
       "(Conditions of length greater than one are an error.) \n",
       "\n",
       "\\item[\\code{var}] A syntactical name for a variable.\n",
       "\\item[\\code{seq}] An expression evaluating to a vector (including a list and\n",
       "an \\LinkA{expression}{expression}) or to a \\LinkA{pairlist}{pairlist} or \\code{NULL}.  A\n",
       "factor value will be coerced to a character vector.  This can be a\n",
       "long vector.\n",
       "\\item[\\code{expr, cons.expr, alt.expr}] \n",
       "An \\emph{expression} in a formal sense.  This is either a\n",
       "simple expression or a so-called \\emph{compound expression}, usually\n",
       "of the form \\code{\\{ expr1 ; expr2 \\}}.\n",
       "\n",
       "\\end{ldescription}\n",
       "\\end{Arguments}\n",
       "%\n",
       "\\begin{Details}\n",
       "\\code{break} breaks out of a \\code{for}, \\code{while} or \\code{repeat}\n",
       "loop; control is transferred to the first statement outside the\n",
       "inner-most loop. \\code{next} halts the processing of the current\n",
       "iteration and advances the looping index.  Both \\code{break} and\n",
       "\\code{next} apply only to the innermost of nested loops.\n",
       "\n",
       "Note that it is a common mistake to forget to put braces (\\code{\\{ .. \\}})\n",
       "around your statements, e.g., after \\code{if(..)} or \\code{for(....)}.\n",
       "In particular, you should not have a newline between \\code{\\}} and\n",
       "\\code{else} to avoid a syntax error in entering a \\code{if ... else}\n",
       "construct at the keyboard or via \\code{source}.\n",
       "For that reason, one (somewhat extreme) attitude of defensive programming\n",
       "is to always use braces, e.g., for \\code{if} clauses.\n",
       "\n",
       "The \\code{seq} in a \\code{for} loop is evaluated at the start of\n",
       "the loop; changing it subsequently does not affect the loop.  If\n",
       "\\code{seq} has length zero the body of the loop is skipped. Otherwise the\n",
       "variable \\code{var} is assigned in turn the value of each element of\n",
       "\\code{seq}. You can assign to \\code{var} within the body of the loop,\n",
       "but this will not affect the next iteration.  When the loop terminates,\n",
       "\\code{var} remains as a variable containing its latest value.\n",
       "\n",
       "\\end{Details}\n",
       "%\n",
       "\\begin{Value}\n",
       "\\code{if} returns the value of the expression evaluated, or\n",
       "\\code{NULL} invisibly if none was (which may happen if there is no\n",
       "\\code{else}).\n",
       "\n",
       "\\code{for}, \\code{while} and \\code{repeat} return \\code{NULL} invisibly.\n",
       "\\code{for} sets \\code{var} to the last used element of \\code{seq},\n",
       "or to \\code{NULL} if it was of length zero.\n",
       "\n",
       "\\code{break} and \\code{next} do not return a value as they transfer\n",
       "control within the loop.\n",
       "\\end{Value}\n",
       "%\n",
       "\\begin{References}\n",
       "Becker, R. A., Chambers, J. M. and Wilks, A. R. (1988)\n",
       "\\emph{The New S Language}.\n",
       "Wadsworth \\& Brooks/Cole.\n",
       "\\end{References}\n",
       "%\n",
       "\\begin{SeeAlso}\n",
       "\\code{\\LinkA{Syntax}{Syntax}} for the basic \\R{} syntax and operators,\n",
       "\\code{\\LinkA{Paren}{Paren}} for parentheses and braces.\n",
       "\n",
       "\\code{\\LinkA{ifelse}{ifelse}}, \\code{\\LinkA{switch}{switch}} for other ways to control flow.\n",
       "\\end{SeeAlso}\n",
       "%\n",
       "\\begin{Examples}\n",
       "\\begin{ExampleCode}\n",
       "for(i in 1:5) print(1:i)\n",
       "for(n in c(2,5,10,20,50)) {\n",
       "   x <- stats::rnorm(n)\n",
       "   cat(n, \": \", sum(x^2), \"\\n\", sep = \"\")\n",
       "}\n",
       "f <- factor(sample(letters[1:5], 10, replace = TRUE))\n",
       "for(i in unique(f)) print(i)\n",
       "\\end{ExampleCode}\n",
       "\\end{Examples}"
      ],
      "text/plain": [
       "Control                  package:base                  R Documentation\n",
       "\n",
       "_\bC_\bo_\bn_\bt_\br_\bo_\bl _\bF_\bl_\bo_\bw\n",
       "\n",
       "_\bD_\be_\bs_\bc_\br_\bi_\bp_\bt_\bi_\bo_\bn:\n",
       "\n",
       "     These are the basic control-flow constructs of the R language.\n",
       "     They function in much the same way as control statements in any\n",
       "     Algol-like language.  They are all reserved words.\n",
       "\n",
       "_\bU_\bs_\ba_\bg_\be:\n",
       "\n",
       "     if(cond) expr\n",
       "     if(cond) cons.expr  else  alt.expr\n",
       "     \n",
       "     for(var in seq) expr\n",
       "     while(cond) expr\n",
       "     repeat expr\n",
       "     break\n",
       "     next\n",
       "     \n",
       "_\bA_\br_\bg_\bu_\bm_\be_\bn_\bt_\bs:\n",
       "\n",
       "    cond: A length-one logical vector that is not ‘NA’.  Other types\n",
       "          are coerced to logical if possible, ignoring any class.\n",
       "          (Conditions of length greater than one are an error.)\n",
       "\n",
       "     var: A syntactical name for a variable.\n",
       "\n",
       "     seq: An expression evaluating to a vector (including a list and an\n",
       "          expression) or to a pairlist or ‘NULL’.  A factor value will\n",
       "          be coerced to a character vector.  This can be a long vector.\n",
       "\n",
       "expr, cons.expr, alt.expr: An _expression_ in a formal sense.  This is\n",
       "          either a simple expression or a so-called _compound\n",
       "          expression_, usually of the form ‘{ expr1 ; expr2 }’.\n",
       "\n",
       "_\bD_\be_\bt_\ba_\bi_\bl_\bs:\n",
       "\n",
       "     ‘break’ breaks out of a ‘for’, ‘while’ or ‘repeat’ loop; control\n",
       "     is transferred to the first statement outside the inner-most loop.\n",
       "     ‘next’ halts the processing of the current iteration and advances\n",
       "     the looping index.  Both ‘break’ and ‘next’ apply only to the\n",
       "     innermost of nested loops.\n",
       "\n",
       "     Note that it is a common mistake to forget to put braces (‘{ ..\n",
       "     }’) around your statements, e.g., after ‘if(..)’ or ‘for(....)’.\n",
       "     In particular, you should not have a newline between ‘}’ and\n",
       "     ‘else’ to avoid a syntax error in entering a ‘if ... else’\n",
       "     construct at the keyboard or via ‘source’.  For that reason, one\n",
       "     (somewhat extreme) attitude of defensive programming is to always\n",
       "     use braces, e.g., for ‘if’ clauses.\n",
       "\n",
       "     The ‘seq’ in a ‘for’ loop is evaluated at the start of the loop;\n",
       "     changing it subsequently does not affect the loop.  If ‘seq’ has\n",
       "     length zero the body of the loop is skipped. Otherwise the\n",
       "     variable ‘var’ is assigned in turn the value of each element of\n",
       "     ‘seq’. You can assign to ‘var’ within the body of the loop, but\n",
       "     this will not affect the next iteration.  When the loop\n",
       "     terminates, ‘var’ remains as a variable containing its latest\n",
       "     value.\n",
       "\n",
       "_\bV_\ba_\bl_\bu_\be:\n",
       "\n",
       "     ‘if’ returns the value of the expression evaluated, or ‘NULL’\n",
       "     invisibly if none was (which may happen if there is no ‘else’).\n",
       "\n",
       "     ‘for’, ‘while’ and ‘repeat’ return ‘NULL’ invisibly.  ‘for’ sets\n",
       "     ‘var’ to the last used element of ‘seq’, or to ‘NULL’ if it was of\n",
       "     length zero.\n",
       "\n",
       "     ‘break’ and ‘next’ do not return a value as they transfer control\n",
       "     within the loop.\n",
       "\n",
       "_\bR_\be_\bf_\be_\br_\be_\bn_\bc_\be_\bs:\n",
       "\n",
       "     Becker, R. A., Chambers, J. M. and Wilks, A. R. (1988) _The New S\n",
       "     Language_.  Wadsworth & Brooks/Cole.\n",
       "\n",
       "_\bS_\be_\be _\bA_\bl_\bs_\bo:\n",
       "\n",
       "     ‘Syntax’ for the basic R syntax and operators, ‘Paren’ for\n",
       "     parentheses and braces.\n",
       "\n",
       "     ‘ifelse’, ‘switch’ for other ways to control flow.\n",
       "\n",
       "_\bE_\bx_\ba_\bm_\bp_\bl_\be_\bs:\n",
       "\n",
       "     for(i in 1:5) print(1:i)\n",
       "     for(n in c(2,5,10,20,50)) {\n",
       "        x <- stats::rnorm(n)\n",
       "        cat(n, \": \", sum(x^2), \"\\n\", sep = \"\")\n",
       "     }\n",
       "     f <- factor(sample(letters[1:5], 10, replace = TRUE))\n",
       "     for(i in unique(f)) print(i)\n",
       "     "
      ]
     },
     "metadata": {},
     "output_type": "display_data"
    }
   ],
   "source": [
    "?Control"
   ]
  },
  {
   "cell_type": "markdown",
   "id": "27f5e78c",
   "metadata": {},
   "source": [
    "This should provide you with some useful information regarding the constructs used for execution control in R. But here are some more details."
   ]
  },
  {
   "cell_type": "markdown",
   "id": "714ef964",
   "metadata": {},
   "source": [
    "## Conditional execution"
   ]
  },
  {
   "cell_type": "markdown",
   "id": "e53f81a8",
   "metadata": {},
   "source": [
    "The basic control statement is __if__. It has this general structure."
   ]
  },
  {
   "cell_type": "markdown",
   "id": "e644dc23",
   "metadata": {},
   "source": [
    "    if (condition)\n",
    "    {\n",
    "       statement  \n",
    "    } else\n",
    "    {\n",
    "       alternative\n",
    "    }"
   ]
  },
  {
   "cell_type": "markdown",
   "id": "6747883a",
   "metadata": {},
   "source": [
    "The __condition__ part should evaluate to a single boolean value (or values that can be coerced to a boolean value, such as 0 and 1). The boolean value can be the result of having evaluated an expression, such as __1 < 2__,\n",
    "and as such, can include boolean operators such as \n",
    "\n",
    "- __x == y__ \"x is equal to y\"\n",
    "- __x != y__ \"x is not equal to y\"\n",
    "- __x > y__ \"x is greater than y\"\n",
    "- __x < y__ \"x is less than y\"\n",
    "- __x <= y__ \"x is less than or equal to y\"\n",
    "- __x >= y__ \"x is greater than or equal to y\"\n",
    "\n",
    "For example,"
   ]
  },
  {
   "cell_type": "code",
   "execution_count": 2,
   "id": "782f61f2",
   "metadata": {
    "editable": true,
    "slideshow": {
     "slide_type": ""
    },
    "tags": []
   },
   "outputs": [
    {
     "name": "stdout",
     "output_type": "stream",
     "text": [
      "[1] \"This is true\"\n",
      "[1] \"This is false\"\n",
      "[1] \"x equals 2 and y is greater than 2\"\n"
     ]
    }
   ],
   "source": [
    "if(TRUE)\n",
    "{\n",
    "    print(\"This is true\")   \n",
    "}\n",
    "x <- 2 \n",
    "if(x==3)\n",
    "{\n",
    "    print(\"This is true\")\n",
    "} else\n",
    "{\n",
    "    print(\"This is false\")\n",
    "}\n",
    "y <- 4 \n",
    "if(x==2 && y>2)\n",
    "{\n",
    "    print(\"x equals 2 and y is greater than 2\")\n",
    "}"
   ]
  },
  {
   "cell_type": "markdown",
   "id": "def77d76",
   "metadata": {},
   "source": [
    "The __else__ part can contain another if, and if statements can be nested."
   ]
  },
  {
   "cell_type": "code",
   "execution_count": 3,
   "id": "939741c2",
   "metadata": {
    "editable": true,
    "slideshow": {
     "slide_type": ""
    },
    "tags": [
     "hide-ouput"
    ]
   },
   "outputs": [
    {
     "name": "stdout",
     "output_type": "stream",
     "text": [
      "[1] \"nuqneH\"\n"
     ]
    }
   ],
   "source": [
    "x<-6\n",
    "if(x < 6)\n",
    "{\n",
    "   if(x > 2)\n",
    "   {\n",
    "       print(\"hello\")\n",
    "   } else\n",
    "   {\n",
    "       print(\"dag\")\n",
    "   }\n",
    "} else if(x > 20)\n",
    "{\n",
    "    print(\"bonjour\")\n",
    "} else\n",
    "{\n",
    "    print(\"nuqneH\")\n",
    "}"
   ]
  },
  {
   "cell_type": "markdown",
   "id": "6559e73d",
   "metadata": {},
   "source": [
    "The __ifelse__ command takes as first argument the condition, as second argument the treatment if the condition is true and as third argument the treatment if the condition is false. In that case, the condition can be a vector. For instance we generate a sequence from 1 to 10 and we want to display values which are lower than 5 and greater than 8. "
   ]
  },
  {
   "cell_type": "code",
   "execution_count": 4,
   "id": "87f70228",
   "metadata": {},
   "outputs": [
    {
     "data": {
      "text/html": [
       "<style>\n",
       ".list-inline {list-style: none; margin:0; padding: 0}\n",
       ".list-inline>li {display: inline-block}\n",
       ".list-inline>li:not(:last-child)::after {content: \"\\00b7\"; padding: 0 .5ex}\n",
       "</style>\n",
       "<ol class=list-inline><li>1</li><li>2</li><li>3</li><li>4</li><li>0</li><li>0</li><li>0</li><li>0</li><li>9</li><li>10</li></ol>\n"
      ],
      "text/latex": [
       "\\begin{enumerate*}\n",
       "\\item 1\n",
       "\\item 2\n",
       "\\item 3\n",
       "\\item 4\n",
       "\\item 0\n",
       "\\item 0\n",
       "\\item 0\n",
       "\\item 0\n",
       "\\item 9\n",
       "\\item 10\n",
       "\\end{enumerate*}\n"
      ],
      "text/markdown": [
       "1. 1\n",
       "2. 2\n",
       "3. 3\n",
       "4. 4\n",
       "5. 0\n",
       "6. 0\n",
       "7. 0\n",
       "8. 0\n",
       "9. 9\n",
       "10. 10\n",
       "\n",
       "\n"
      ],
      "text/plain": [
       " [1]  1  2  3  4  0  0  0  0  9 10"
      ]
     },
     "metadata": {},
     "output_type": "display_data"
    }
   ],
   "source": [
    "x <- 1:10 \n",
    "ifelse(x<5 | x>8, x, 0)"
   ]
  },
  {
   "cell_type": "markdown",
   "id": "083627f9",
   "metadata": {},
   "source": [
    "## Loops"
   ]
  },
  {
   "cell_type": "markdown",
   "id": "15848319",
   "metadata": {},
   "source": [
    "R provides three ways to write loops: __for__, __repeat__ and __while__. The for statement is excessively simple. You simply have to define index (here k) and a vector (in the example below the vector is 1:5) and you specify the action you want between braces. "
   ]
  },
  {
   "cell_type": "code",
   "execution_count": 5,
   "id": "03e2c38a",
   "metadata": {
    "editable": true,
    "slideshow": {
     "slide_type": ""
    },
    "tags": []
   },
   "outputs": [
    {
     "name": "stdout",
     "output_type": "stream",
     "text": [
      "[1] 1\n",
      "[1] 2\n",
      "[1] 3\n",
      "[1] 4\n",
      "[1] 5\n"
     ]
    }
   ],
   "source": [
    "for (k in 1:5)\n",
    "{\n",
    "   print(k)\n",
    "}"
   ]
  },
  {
   "cell_type": "markdown",
   "id": "a426dab6",
   "metadata": {},
   "source": [
    "### <u>Exercise 2</u>\n",
    "\n",
    "What is going to happen here ? Check your answer in your own notebook.\n"
   ]
  },
  {
   "cell_type": "code",
   "execution_count": 6,
   "id": "d59915c1",
   "metadata": {
    "editable": true,
    "slideshow": {
     "slide_type": ""
    },
    "tags": [
     "hide-ouput"
    ]
   },
   "outputs": [
    {
     "name": "stdout",
     "output_type": "stream",
     "text": [
      "[1] 7\n",
      "[1] 7\n",
      "[1] 7\n",
      "[1] 7\n",
      "[1] 7\n"
     ]
    }
   ],
   "source": [
    "for (k in 1:5)\n",
    "{\n",
    "   k <- 7\n",
    "   print(k)\n",
    "}"
   ]
  },
  {
   "cell_type": "markdown",
   "id": "88fa96ba",
   "metadata": {},
   "source": [
    "When it is not possible to use the __for__ statement, you can also use __break__ or while by specifying a breaking rules. One should be careful with this kind of loops since if the breaking rules is misspecified the loop will never end. In the two examples below the standard normal distribution is drawn in as long as the value is lower than 1. The cat() function is used to display the present value on screen. "
   ]
  },
  {
   "cell_type": "code",
   "execution_count": 7,
   "id": "64e9202b",
   "metadata": {
    "editable": true,
    "slideshow": {
     "slide_type": ""
    },
    "tags": []
   },
   "outputs": [
    {
     "name": "stdout",
     "output_type": "stream",
     "text": [
      "-1.267184 \n"
     ]
    }
   ],
   "source": [
    "repeat \n",
    "{ \n",
    "   g <- rnorm(1) \n",
    "   if (g > 1.0) break \n",
    "   cat(g,\"\\n\")\n",
    "} "
   ]
  },
  {
   "cell_type": "code",
   "execution_count": 8,
   "id": "3c6b579b",
   "metadata": {},
   "outputs": [
    {
     "name": "stdout",
     "output_type": "stream",
     "text": [
      "-1.670842 \n",
      "-0.5579302 \n",
      "0.5237262 \n",
      "-0.06623769 \n",
      "-0.3837758 \n",
      "-1.237649 \n",
      "1.129509 \n"
     ]
    }
   ],
   "source": [
    "g <- 0\n",
    "while (g < 1)\n",
    "{\n",
    "   g <- rnorm(1) \n",
    "   cat(g,\"\\n\")\n",
    "}"
   ]
  },
  {
   "cell_type": "markdown",
   "id": "1d3653f7",
   "metadata": {},
   "source": [
    "### <u>Exercise 3</u>\n",
    "\n",
    "What criterion would you choose between using a __repeat__ or a __while__ ?"
   ]
  },
  {
   "cell_type": "markdown",
   "id": "4882db70",
   "metadata": {},
   "source": [
    "## Map Reduce"
   ]
  },
  {
   "cell_type": "markdown",
   "id": "c99ded7b",
   "metadata": {},
   "source": [
    "__Map__ and __Reduce__ examples of a concept often refered to as a _Higher Order Functions_. This soundes rather impressive, however, this just means they are functions which can take functions as arguments and/or return a function. "
   ]
  },
  {
   "cell_type": "markdown",
   "id": "ca971ab2",
   "metadata": {},
   "source": [
    "### <u>Exercise 4</u>\n",
    "What do you think the output of the following code is ?"
   ]
  },
  {
   "cell_type": "code",
   "execution_count": 9,
   "id": "a0f3abc9",
   "metadata": {
    "editable": true,
    "slideshow": {
     "slide_type": ""
    },
    "tags": [
     "hide-ouput"
    ]
   },
   "outputs": [
    {
     "name": "stdout",
     "output_type": "stream",
     "text": [
      "[[1]]\n",
      "[1] 0.841471\n",
      "\n",
      "[[2]]\n",
      "[1] 0.9092974\n",
      "\n",
      "[[3]]\n",
      "[1] 0.14112\n",
      "\n",
      "[[4]]\n",
      "[1] -0.7568025\n",
      "\n"
     ]
    }
   ],
   "source": [
    "X<-c(1,2,3,4)\n",
    "Y<-Map(sin,X)\n",
    "print(Y)"
   ]
  },
  {
   "cell_type": "markdown",
   "id": "14cfc305",
   "metadata": {
    "editable": true,
    "slideshow": {
     "slide_type": ""
    },
    "tags": []
   },
   "source": [
    "### <u>Exercise 5</u>\n",
    "Using one sentence, can you explain what the _\"Higher Order Function\"_ __Map__ does ?"
   ]
  },
  {
   "cell_type": "markdown",
   "id": "596bd997",
   "metadata": {
    "editable": true,
    "slideshow": {
     "slide_type": ""
    },
    "tags": [
     "hide-ouput"
    ]
   },
   "source": [
    "Map takes a fuction and a vector (or list) of values, and returns a list contaning the values of the function applied to each element of the vector or list. "
   ]
  },
  {
   "cell_type": "markdown",
   "id": "2e4f5100",
   "metadata": {},
   "source": [
    "### <u>Exercise 6</u>\n",
    "Predict what output the following code will produce."
   ]
  },
  {
   "cell_type": "code",
   "execution_count": 10,
   "id": "b4819eec",
   "metadata": {},
   "outputs": [
    {
     "name": "stdout",
     "output_type": "stream",
     "text": [
      "[[1]]\n",
      "[1] 2\n",
      "\n",
      "[[2]]\n",
      "[1] 3\n",
      "\n",
      "[[3]]\n",
      "[1] 4\n",
      "\n"
     ]
    }
   ],
   "source": [
    "X<-list(4,27,4^4)\n",
    "Y<-list(2,3,4)\n",
    "Z<-Map(log,X,Y)\n",
    "print(Z)"
   ]
  },
  {
   "cell_type": "markdown",
   "id": "ced34056",
   "metadata": {},
   "source": [
    "### <u>Exercise 7</u>\n",
    "Predict what output the following code will produce."
   ]
  },
  {
   "cell_type": "code",
   "execution_count": 11,
   "id": "3d49130a",
   "metadata": {
    "editable": true,
    "slideshow": {
     "slide_type": ""
    },
    "tags": [
     "hide-ouput"
    ]
   },
   "outputs": [
    {
     "name": "stdout",
     "output_type": "stream",
     "text": [
      "[[1]]\n",
      "[1] 5\n",
      "\n",
      "[[2]]\n",
      "[1] 7\n",
      "\n",
      "[[3]]\n",
      "[1] 9\n",
      "\n",
      "[[4]]\n",
      "[1] 11\n",
      "\n"
     ]
    }
   ],
   "source": [
    "X<-list(1,2,3,4)\n",
    "Y<-list(4,5,6,7)\n",
    "Z<-Map(\"+\",X,Y)\n",
    "print(Z)"
   ]
  },
  {
   "cell_type": "markdown",
   "id": "41f10ff7",
   "metadata": {},
   "source": [
    "### <u>Exercise 8</u>\n",
    "What do you think the output of the following code is ?"
   ]
  },
  {
   "cell_type": "code",
   "execution_count": 12,
   "id": "5104f6c9",
   "metadata": {
    "editable": true,
    "slideshow": {
     "slide_type": ""
    },
    "tags": [
     "hide-ouput"
    ]
   },
   "outputs": [
    {
     "name": "stdout",
     "output_type": "stream",
     "text": [
      "[1] 120\n"
     ]
    }
   ],
   "source": [
    "X<-list(1,2,3,4,5)\n",
    "Y<-Reduce(\"*\",X)\n",
    "print(Y)"
   ]
  },
  {
   "cell_type": "markdown",
   "id": "68ad118f",
   "metadata": {},
   "source": [
    "### <u>Exercise 9</u>\n",
    "What do you think the output of the following code is ?"
   ]
  },
  {
   "cell_type": "code",
   "execution_count": 13,
   "id": "1efa3118",
   "metadata": {
    "editable": true,
    "slideshow": {
     "slide_type": ""
    },
    "tags": [
     "hide-ouput"
    ]
   },
   "outputs": [
    {
     "name": "stdout",
     "output_type": "stream",
     "text": [
      "[1] 600\n"
     ]
    }
   ],
   "source": [
    "X<-list(1,2,3,4,5)\n",
    "Y<-Reduce(\"*\",X,5)\n",
    "print(Y)"
   ]
  },
  {
   "cell_type": "markdown",
   "id": "984927e6",
   "metadata": {},
   "source": [
    "### <u>Exercise 10</u>\n",
    "Can you explain what the _\"Higher Order Function\"_ __Reduce__ does ?"
   ]
  },
  {
   "cell_type": "markdown",
   "id": "612d813f",
   "metadata": {
    "editable": true,
    "slideshow": {
     "slide_type": ""
    },
    "tags": [
     "hide-ouput"
    ]
   },
   "source": [
    "Reduce takes a function of two arguments and a vector (or list) of values and returns the value obtained by recursivley applying \n",
    "the function to the values in the vector (or list) and the previous result of the application of the function. An initial value can be specified\n",
    "if necessary."
   ]
  },
  {
   "cell_type": "markdown",
   "id": "715bec95",
   "metadata": {},
   "source": [
    "### <u>Exercise 11</u>\n",
    "In which direction does __Reduce__ traverse its sequence of input values ? \n"
   ]
  },
  {
   "cell_type": "markdown",
   "id": "d8a10b6c",
   "metadata": {
    "editable": true,
    "slideshow": {
     "slide_type": ""
    },
    "tags": []
   },
   "source": [
    "### <u>Exerise 12</u>\n",
    "__Reduce__ can _accumulate_ the results of applying the function. Use __help__ to find out how and give an example showing how it is done."
   ]
  },
  {
   "cell_type": "code",
   "execution_count": 14,
   "id": "f573f8ab",
   "metadata": {
    "editable": true,
    "slideshow": {
     "slide_type": ""
    },
    "tags": [
     "hide-input",
     "hide-ouput",
     "hide"
    ]
   },
   "outputs": [
    {
     "name": "stdout",
     "output_type": "stream",
     "text": [
      "[1]  1  2  6 24\n"
     ]
    }
   ],
   "source": [
    "X<-list(1,2,3,4)\n",
    "Y<-Reduce(\"*\",X,accumulate=TRUE)\n",
    "print(Y)"
   ]
  }
 ],
 "metadata": {
  "kernelspec": {
   "display_name": "R",
   "language": "R",
   "name": "ir"
  },
  "language_info": {
   "codemirror_mode": "r",
   "file_extension": ".r",
   "mimetype": "text/x-r-source",
   "name": "R",
   "pygments_lexer": "r",
   "version": "4.3.3"
  },
  "toc": {
   "base_numbering": 0
  }
 },
 "nbformat": 4,
 "nbformat_minor": 5
}
