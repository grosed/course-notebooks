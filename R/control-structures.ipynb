{
 "cells": [
  {
   "cell_type": "markdown",
   "metadata": {},
   "source": [
    "# Control structures"
   ]
  },
  {
   "cell_type": "markdown",
   "metadata": {},
   "source": [
    "As with most programming languages, R has various means of controlling the flow of computation during the course of a computation. These take the form of condition statements and \"loops\"."
   ]
  },
  {
   "cell_type": "markdown",
   "metadata": {},
   "source": [
    "### Exercise 1\n",
    "\n",
    "Execute the following in your jupyter notebook."
   ]
  },
  {
   "cell_type": "code",
   "execution_count": 1,
   "metadata": {},
   "outputs": [],
   "source": [
    "?Control"
   ]
  },
  {
   "cell_type": "markdown",
   "metadata": {},
   "source": [
    "This should provide you with some useful information regarding the constructs used for execution control in R. But here are some more details."
   ]
  },
  {
   "cell_type": "markdown",
   "metadata": {},
   "source": [
    "## Conditional execution"
   ]
  },
  {
   "cell_type": "markdown",
   "metadata": {},
   "source": [
    "The basic control statement is __if__. It has this general structure."
   ]
  },
  {
   "cell_type": "markdown",
   "metadata": {},
   "source": [
    "    if (condition)\n",
    "    {\n",
    "       statement  \n",
    "    } else\n",
    "    {\n",
    "       alternative\n",
    "    }"
   ]
  },
  {
   "cell_type": "markdown",
   "metadata": {},
   "source": [
    "The __condition__ part should evaluate to a single boolean value (or values that can be coerced to a boolean value, such as 0 and 1). The boolean value can be the result of having evaluated an expression, such as __1 < 2__,\n",
    "and as such, can include boolean operators such as \n",
    "\n",
    "- __x == y__ \"x is equal to y\"\n",
    "- __x != y__ \"x is not equal to y\"\n",
    "- __x > y__ \"x is greater than y\"\n",
    "- __x < y__ \"x is less than y\"\n",
    "- __x <= y__ \"x is less than or equal to y\"\n",
    "- __x >= y__ \"x is greater than or equal to y\"\n",
    "\n",
    "For example,"
   ]
  },
  {
   "cell_type": "code",
   "execution_count": 20,
   "metadata": {},
   "outputs": [
    {
     "name": "stdout",
     "output_type": "stream",
     "text": [
      "[1] \"This is true\"\n",
      "[1] \"This is false\"\n",
      "[1] \"x equals 2 and y is greater than 2\"\n"
     ]
    }
   ],
   "source": [
    "if(TRUE)\n",
    "{\n",
    "    print(\"This is true\")   \n",
    "}\n",
    "x <- 2 \n",
    "if(x==3)\n",
    "{\n",
    "    print(\"This is true\")\n",
    "} else\n",
    "{\n",
    "    print(\"This is false\")\n",
    "}\n",
    "y <- 4 \n",
    "if(x==2 && y>2)\n",
    "{\n",
    "    print(\"x equals 2 and y is greater than 2\")\n",
    "}"
   ]
  },
  {
   "cell_type": "markdown",
   "metadata": {},
   "source": [
    "The __else__ part can contain another if, and if statements can be nested."
   ]
  },
  {
   "cell_type": "code",
   "execution_count": 21,
   "metadata": {},
   "outputs": [
    {
     "name": "stdout",
     "output_type": "stream",
     "text": [
      "[1] \"nuqneH\"\n"
     ]
    }
   ],
   "source": [
    "x<-6\n",
    "if(x < 6)\n",
    "{\n",
    "   if(x > 2)\n",
    "   {\n",
    "       print(\"hello\")\n",
    "   } else\n",
    "   {\n",
    "       print(\"dag\")\n",
    "   }\n",
    "} else if(x > 20)\n",
    "{\n",
    "    print(\"bonjour\")\n",
    "} else\n",
    "{\n",
    "    print(\"nuqneH\")\n",
    "}"
   ]
  },
  {
   "cell_type": "markdown",
   "metadata": {},
   "source": [
    "Note what happens if the __expression__ has dimension greater than 1."
   ]
  },
  {
   "cell_type": "code",
   "execution_count": 22,
   "metadata": {},
   "outputs": [
    {
     "name": "stderr",
     "output_type": "stream",
     "text": [
      "Warning message in if (c(T, F)) {:\n",
      "“the condition has length > 1 and only the first element will be used”\n"
     ]
    },
    {
     "name": "stdout",
     "output_type": "stream",
     "text": [
      "[1] \"blob\"\n"
     ]
    }
   ],
   "source": [
    "if(c(T,F)) \n",
    "{ \n",
    "    print(\"blob\")\n",
    "}"
   ]
  },
  {
   "cell_type": "markdown",
   "metadata": {},
   "source": [
    "The __ifelse__ command takes as first argument the condition, as second argument the treatment if the condition is true and as third argument the treatment if the condition is false. In that case, the condition can be a vector. For instance we generate a sequence from 1 to 10 and we want to display values which are lower than 5 and greater than 8. "
   ]
  },
  {
   "cell_type": "code",
   "execution_count": 23,
   "metadata": {},
   "outputs": [
    {
     "data": {
      "text/html": [
       "<style>\n",
       ".list-inline {list-style: none; margin:0; padding: 0}\n",
       ".list-inline>li {display: inline-block}\n",
       ".list-inline>li:not(:last-child)::after {content: \"\\00b7\"; padding: 0 .5ex}\n",
       "</style>\n",
       "<ol class=list-inline><li>1</li><li>2</li><li>3</li><li>4</li><li>0</li><li>0</li><li>0</li><li>0</li><li>9</li><li>10</li></ol>\n"
      ],
      "text/latex": [
       "\\begin{enumerate*}\n",
       "\\item 1\n",
       "\\item 2\n",
       "\\item 3\n",
       "\\item 4\n",
       "\\item 0\n",
       "\\item 0\n",
       "\\item 0\n",
       "\\item 0\n",
       "\\item 9\n",
       "\\item 10\n",
       "\\end{enumerate*}\n"
      ],
      "text/markdown": [
       "1. 1\n",
       "2. 2\n",
       "3. 3\n",
       "4. 4\n",
       "5. 0\n",
       "6. 0\n",
       "7. 0\n",
       "8. 0\n",
       "9. 9\n",
       "10. 10\n",
       "\n",
       "\n"
      ],
      "text/plain": [
       " [1]  1  2  3  4  0  0  0  0  9 10"
      ]
     },
     "metadata": {},
     "output_type": "display_data"
    }
   ],
   "source": [
    "x <- 1:10 \n",
    "ifelse(x<5 | x>8, x, 0)"
   ]
  },
  {
   "cell_type": "markdown",
   "metadata": {},
   "source": [
    "## Loops"
   ]
  },
  {
   "cell_type": "markdown",
   "metadata": {},
   "source": [
    "R provides three ways to write loops: __for__, __repeat__ and __while__. The for statement is excessively simple. You simply have to define index (here k) and a vector (in the example below the vector is 1:5) and you specify the action you want between braces. "
   ]
  },
  {
   "cell_type": "code",
   "execution_count": 24,
   "metadata": {},
   "outputs": [
    {
     "name": "stdout",
     "output_type": "stream",
     "text": [
      "[1] 1\n",
      "[1] 2\n",
      "[1] 3\n",
      "[1] 4\n",
      "[1] 5\n"
     ]
    }
   ],
   "source": [
    "for (k in 1:5)\n",
    "{\n",
    "   print(k)\n",
    "}"
   ]
  },
  {
   "cell_type": "markdown",
   "metadata": {},
   "source": [
    "### Exercise 2\n",
    "\n",
    "What is going to happen here ? Check your answer in your own notebook.\n"
   ]
  },
  {
   "cell_type": "code",
   "execution_count": 29,
   "metadata": {},
   "outputs": [
    {
     "name": "stdout",
     "output_type": "stream",
     "text": [
      "[1] 7\n",
      "[1] 7\n",
      "[1] 7\n",
      "[1] 7\n",
      "[1] 7\n",
      "[1] 7\n"
     ]
    }
   ],
   "source": [
    "for (k in 1:5)\n",
    "{\n",
    "   k <- 7\n",
    "   print(k)\n",
    "}"
   ]
  },
  {
   "cell_type": "markdown",
   "metadata": {},
   "source": [
    "When it is not possible to use the __for__ statement, you can also use __break__ or while by specifying a breaking rules. One should be careful with this kind of loops since if the breaking rules is misspecified the loop will never end. In the two examples below the standard normal distribution is drawn in as long as the value is lower than 1. The cat() function is used to display the present value on screen. "
   ]
  },
  {
   "cell_type": "code",
   "execution_count": 31,
   "metadata": {},
   "outputs": [
    {
     "name": "stdout",
     "output_type": "stream",
     "text": [
      "-0.2627277 \n",
      "-0.9949328 \n",
      "-0.5688871 \n",
      "-0.3918274 \n",
      "0.5184738 \n",
      "-0.610378 \n",
      "-1.804451 \n",
      "-0.555138 \n"
     ]
    }
   ],
   "source": [
    "repeat \n",
    "{ \n",
    "   g <- rnorm(1) \n",
    "   if (g > 1.0) break \n",
    "   cat(g,\"\\n\")\n",
    "} "
   ]
  },
  {
   "cell_type": "code",
   "execution_count": 32,
   "metadata": {},
   "outputs": [
    {
     "name": "stdout",
     "output_type": "stream",
     "text": [
      "0.9724261 \n",
      "-1.040698 \n",
      "-0.60329 \n",
      "-1.807634 \n",
      "1.595915 \n"
     ]
    }
   ],
   "source": [
    "g <- 0\n",
    "while (g < 1)\n",
    "{\n",
    "   g <- rnorm(1) \n",
    "   cat(g,\"\\n\")\n",
    "}"
   ]
  },
  {
   "cell_type": "markdown",
   "metadata": {},
   "source": [
    "## Exercise 3\n",
    "\n",
    "What critereon would you choose between using a __repeat__ or a __while__ ?"
   ]
  },
  {
   "cell_type": "markdown",
   "metadata": {},
   "source": [
    "## Map Reduce"
   ]
  },
  {
   "cell_type": "markdown",
   "metadata": {},
   "source": [
    "__Map__ and __Reduce__ examples of a concept often refered to as a _Higher Order Functions_. This soundes rather impressive, however, this just means they are functions which can take functions as arguments and/or return a function. "
   ]
  },
  {
   "cell_type": "markdown",
   "metadata": {},
   "source": [
    "### Exercise 4\n",
    "What do you think the output of the following code is ?"
   ]
  },
  {
   "cell_type": "code",
   "execution_count": 42,
   "metadata": {},
   "outputs": [
    {
     "name": "stdout",
     "output_type": "stream",
     "text": [
      "[[1]]\n",
      "[1] 0.841471\n",
      "\n",
      "[[2]]\n",
      "[1] 0.9092974\n",
      "\n",
      "[[3]]\n",
      "[1] 0.14112\n",
      "\n",
      "[[4]]\n",
      "[1] -0.7568025\n",
      "\n"
     ]
    }
   ],
   "source": [
    "X<-c(1,2,3,4)\n",
    "Y<-Map(sin,X)\n",
    "print(Y)"
   ]
  },
  {
   "cell_type": "markdown",
   "metadata": {},
   "source": [
    "### Exercise 5\n",
    "Using one sentence, can you explain what the _\"Higher Order Function\"_ __Map__ does ?"
   ]
  },
  {
   "cell_type": "markdown",
   "metadata": {},
   "source": [
    "Map takes a fuction and a vector (or list) of values, and returns a list contaning the values of the function applied to each element of the vector or list. "
   ]
  },
  {
   "cell_type": "markdown",
   "metadata": {},
   "source": [
    "### Exercise 6\n",
    "Predict what output the following code will produce."
   ]
  },
  {
   "cell_type": "code",
   "execution_count": 26,
   "metadata": {},
   "outputs": [
    {
     "name": "stdout",
     "output_type": "stream",
     "text": [
      "[[1]]\n",
      "[1] 2\n",
      "\n",
      "[[2]]\n",
      "[1] 3\n",
      "\n",
      "[[3]]\n",
      "[1] 4\n",
      "\n"
     ]
    }
   ],
   "source": [
    "X<-list(4,27,4^4)\n",
    "Y<-list(2,3,4)\n",
    "Z<-Map(log,X,Y)\n",
    "print(Z)"
   ]
  },
  {
   "cell_type": "markdown",
   "metadata": {},
   "source": [
    "### Exercise 7\n",
    "Predict what output the following code will produce."
   ]
  },
  {
   "cell_type": "code",
   "execution_count": 29,
   "metadata": {},
   "outputs": [
    {
     "name": "stdout",
     "output_type": "stream",
     "text": [
      "[[1]]\n",
      "[1] 5\n",
      "\n",
      "[[2]]\n",
      "[1] 7\n",
      "\n",
      "[[3]]\n",
      "[1] 9\n",
      "\n",
      "[[4]]\n",
      "[1] 11\n",
      "\n"
     ]
    }
   ],
   "source": [
    "X<-list(1,2,3,4)\n",
    "Y<-list(4,5,6,7)\n",
    "Z<-Map(\"+\",X,Y)\n",
    "print(Z)"
   ]
  },
  {
   "cell_type": "markdown",
   "metadata": {},
   "source": [
    "### Exercise 8\n",
    "What do you think the output of the following code is ?"
   ]
  },
  {
   "cell_type": "code",
   "execution_count": 37,
   "metadata": {},
   "outputs": [
    {
     "name": "stdout",
     "output_type": "stream",
     "text": [
      "[1] 120\n"
     ]
    }
   ],
   "source": [
    "X<-list(1,2,3,4,5)\n",
    "Y<-Reduce(\"*\",X)\n",
    "print(Y)"
   ]
  },
  {
   "cell_type": "markdown",
   "metadata": {},
   "source": [
    "### Exercise 9\n",
    "What do you think the output of the following code is ?"
   ]
  },
  {
   "cell_type": "code",
   "execution_count": 39,
   "metadata": {},
   "outputs": [
    {
     "name": "stdout",
     "output_type": "stream",
     "text": [
      "[1] 600\n"
     ]
    }
   ],
   "source": [
    "X<-list(1,2,3,4,5)\n",
    "Y<-Reduce(\"*\",X,5)\n",
    "print(Y)"
   ]
  },
  {
   "cell_type": "markdown",
   "metadata": {},
   "source": [
    "### Exercise 10\n",
    "Can you explain what the _\"Higher Order Function\"_ __Reduce__ does ?"
   ]
  },
  {
   "cell_type": "markdown",
   "metadata": {},
   "source": [
    "Reduce takes a function of two arguments and a vector (or list) of values and returns the value obtained by recursivley applying \n",
    "the function to the values in the vector (or list) and the previous result of the application of the function. An initial value can be specified\n",
    "if necessary."
   ]
  },
  {
   "cell_type": "markdown",
   "metadata": {},
   "source": [
    "### Exercise 11\n",
    "In which direction does __Reduce__ traverse its sequence of input values ? \n"
   ]
  },
  {
   "cell_type": "markdown",
   "metadata": {},
   "source": [
    "### Exerise 12\n",
    "__Reduce__ can _accumulate_ the results of applying the function. Use __help__ to find out how and give an example showing how it is done."
   ]
  },
  {
   "cell_type": "code",
   "execution_count": 44,
   "metadata": {},
   "outputs": [
    {
     "name": "stdout",
     "output_type": "stream",
     "text": [
      "[1]  1  2  6 24\n"
     ]
    }
   ],
   "source": [
    "X<-list(1,2,3,4)\n",
    "Y<-Reduce(\"*\",X,accumulate=TRUE)\n",
    "print(Y)"
   ]
  }
 ],
 "metadata": {
  "kernelspec": {
   "display_name": "R",
   "language": "R",
   "name": "ir"
  },
  "language_info": {
   "codemirror_mode": "r",
   "file_extension": ".r",
   "mimetype": "text/x-r-source",
   "name": "R",
   "pygments_lexer": "r",
   "version": "4.1.0"
  }
 },
 "nbformat": 4,
 "nbformat_minor": 5
}
