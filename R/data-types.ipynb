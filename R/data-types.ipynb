{
 "cells": [
  {
   "cell_type": "markdown",
   "id": "a0e8f087",
   "metadata": {},
   "source": [
    "# Data types and structures"
   ]
  },
  {
   "cell_type": "markdown",
   "id": "bb0cd4b2",
   "metadata": {},
   "source": [
    "Some parts of this section have been copied from, or based on, material in the [R programming wikibook](https://en.wikibooks.org/wiki/R_Programming)."
   ]
  },
  {
   "cell_type": "markdown",
   "id": "2a4cad3b",
   "metadata": {
    "editable": true,
    "slideshow": {
     "slide_type": ""
    },
    "tags": []
   },
   "source": [
    "## Overview"
   ]
  },
  {
   "cell_type": "markdown",
   "id": "2ddd0c0f",
   "metadata": {
    "editable": true,
    "slideshow": {
     "slide_type": ""
    },
    "tags": []
   },
   "source": [
    "Most programming systems and languages have some basic data types which allow data to be represented, organised and accessed efficiently by programs written in the language. This section introduces some of the most common and useful data types available in the base R system. Note that there are many other types of data structure that could be useful for statistical programming and data manipulation which are not part of the base distribution of R. However, many of these other data structures are provided through packages that are available in the public domain. For example, the [__datastructures__](https://cran.r-project.org/web/packages/datastructures/index.html   ) package.\n"
   ]
  },
  {
   "cell_type": "markdown",
   "id": "6446de9f",
   "metadata": {},
   "source": [
    "## Introduction"
   ]
  },
  {
   "cell_type": "markdown",
   "id": "ed6f3ead",
   "metadata": {},
   "source": [
    "__Vectors__ are the simplest R objects, an ordered list of primitive R objects of a given type (e.g. real numbers, strings, logicals). Vectors are indexed by integers starting at 1. __Factors__ are similar to vectors but where each element is categorical, i.e. one of a fixed number of possibilities (or levels). A __matrix__ is like a vector but with a specific instruction for the layout such that it looks like a matrix, i.e. the elements are indexed by two integers, each starting at 1. __Arrays__ are similar to matrices but can have more than 2 dimensions. A __list__ is similar to a vector, but the elements need not all be of the same type. The elements of a list can be indexed either by integers or by named strings, i.e. an R list can be used to implement what is known in other languages as an \"associative array\", \"hash table\", \"map\" or \"dictionary\" - but not in a very efficient manner !! A __dataframe__ is like a matrix but does not assume that all columns have the same type. A dataframe is a list of variables/vectors of the same length. __Classes__ define how objects of a certain type look like. Classes are attached to object as an __attribute__. All R objects have a __class__, a __type__ and a __dimension__. The class, type, and dimension of an object can be determined using the __class__, __typeof__, and __dim__ functions."
   ]
  },
  {
   "cell_type": "code",
   "execution_count": 1,
   "id": "3887e031",
   "metadata": {
    "editable": true,
    "slideshow": {
     "slide_type": ""
    },
    "tags": []
   },
   "outputs": [],
   "source": [
    "x<-c(1,2,3,4)\n",
    "Y<-matrix(c(1,2,3,4),2,2)"
   ]
  },
  {
   "cell_type": "code",
   "execution_count": 2,
   "id": "5bbcc94b",
   "metadata": {},
   "outputs": [
    {
     "data": {
      "text/html": [
       "'numeric'"
      ],
      "text/latex": [
       "'numeric'"
      ],
      "text/markdown": [
       "'numeric'"
      ],
      "text/plain": [
       "[1] \"numeric\""
      ]
     },
     "metadata": {},
     "output_type": "display_data"
    },
    {
     "data": {
      "text/html": [
       "'double'"
      ],
      "text/latex": [
       "'double'"
      ],
      "text/markdown": [
       "'double'"
      ],
      "text/plain": [
       "[1] \"double\""
      ]
     },
     "metadata": {},
     "output_type": "display_data"
    },
    {
     "data": {
      "text/plain": [
       "NULL"
      ]
     },
     "metadata": {},
     "output_type": "display_data"
    }
   ],
   "source": [
    "class(x)\n",
    "typeof(x)\n",
    "dim(x)"
   ]
  },
  {
   "cell_type": "code",
   "execution_count": 3,
   "id": "47a02df7",
   "metadata": {},
   "outputs": [
    {
     "data": {
      "text/html": [
       "<style>\n",
       ".list-inline {list-style: none; margin:0; padding: 0}\n",
       ".list-inline>li {display: inline-block}\n",
       ".list-inline>li:not(:last-child)::after {content: \"\\00b7\"; padding: 0 .5ex}\n",
       "</style>\n",
       "<ol class=list-inline><li>'matrix'</li><li>'array'</li></ol>\n"
      ],
      "text/latex": [
       "\\begin{enumerate*}\n",
       "\\item 'matrix'\n",
       "\\item 'array'\n",
       "\\end{enumerate*}\n"
      ],
      "text/markdown": [
       "1. 'matrix'\n",
       "2. 'array'\n",
       "\n",
       "\n"
      ],
      "text/plain": [
       "[1] \"matrix\" \"array\" "
      ]
     },
     "metadata": {},
     "output_type": "display_data"
    },
    {
     "data": {
      "text/html": [
       "'double'"
      ],
      "text/latex": [
       "'double'"
      ],
      "text/markdown": [
       "'double'"
      ],
      "text/plain": [
       "[1] \"double\""
      ]
     },
     "metadata": {},
     "output_type": "display_data"
    },
    {
     "data": {
      "text/html": [
       "<style>\n",
       ".list-inline {list-style: none; margin:0; padding: 0}\n",
       ".list-inline>li {display: inline-block}\n",
       ".list-inline>li:not(:last-child)::after {content: \"\\00b7\"; padding: 0 .5ex}\n",
       "</style>\n",
       "<ol class=list-inline><li>2</li><li>2</li></ol>\n"
      ],
      "text/latex": [
       "\\begin{enumerate*}\n",
       "\\item 2\n",
       "\\item 2\n",
       "\\end{enumerate*}\n"
      ],
      "text/markdown": [
       "1. 2\n",
       "2. 2\n",
       "\n",
       "\n"
      ],
      "text/plain": [
       "[1] 2 2"
      ]
     },
     "metadata": {},
     "output_type": "display_data"
    }
   ],
   "source": [
    "class(Y)\n",
    "typeof(Y)\n",
    "dim(Y)"
   ]
  },
  {
   "cell_type": "markdown",
   "id": "18702cb8",
   "metadata": {},
   "source": [
    "## Vectors"
   ]
  },
  {
   "cell_type": "markdown",
   "id": "de1300df",
   "metadata": {},
   "source": [
    "You can create a vector using the c() function which concatenates some elements. You can create a sequence using the : symbol or the seq() function. For instance 1:5 gives all the number between 1 and 5. The seq() function lets you specify the interval between the successive numbers. You can also repeat a pattern using the rep() function. You can also create a numeric vector of missing values using numeric(), a character vector of missing values using character() and a logical vector of missing values (i.e. FALSE) using __logical()__."
   ]
  },
  {
   "cell_type": "markdown",
   "id": "e543f5c1",
   "metadata": {},
   "source": [
    "### <u>Exercise 1</u>\n",
    "\n",
    "See if you can predict the output from each of these ways of creating vectors."
   ]
  },
  {
   "cell_type": "code",
   "execution_count": 4,
   "id": "8427d9a3",
   "metadata": {
    "editable": true,
    "slideshow": {
     "slide_type": ""
    },
    "tags": [
     "hide-output"
    ]
   },
   "outputs": [
    {
     "data": {
      "text/html": [
       "<style>\n",
       ".list-inline {list-style: none; margin:0; padding: 0}\n",
       ".list-inline>li {display: inline-block}\n",
       ".list-inline>li:not(:last-child)::after {content: \"\\00b7\"; padding: 0 .5ex}\n",
       "</style>\n",
       "<ol class=list-inline><li>1</li><li>2</li><li>3</li><li>4</li><li>5</li></ol>\n"
      ],
      "text/latex": [
       "\\begin{enumerate*}\n",
       "\\item 1\n",
       "\\item 2\n",
       "\\item 3\n",
       "\\item 4\n",
       "\\item 5\n",
       "\\end{enumerate*}\n"
      ],
      "text/markdown": [
       "1. 1\n",
       "2. 2\n",
       "3. 3\n",
       "4. 4\n",
       "5. 5\n",
       "\n",
       "\n"
      ],
      "text/plain": [
       "[1] 1 2 3 4 5"
      ]
     },
     "metadata": {},
     "output_type": "display_data"
    }
   ],
   "source": [
    "c(1,2,3,4,5)"
   ]
  },
  {
   "cell_type": "code",
   "execution_count": 5,
   "id": "caa88ce7",
   "metadata": {
    "editable": true,
    "slideshow": {
     "slide_type": ""
    },
    "tags": [
     "hide-output"
    ]
   },
   "outputs": [
    {
     "data": {
      "text/html": [
       "<style>\n",
       ".list-inline {list-style: none; margin:0; padding: 0}\n",
       ".list-inline>li {display: inline-block}\n",
       ".list-inline>li:not(:last-child)::after {content: \"\\00b7\"; padding: 0 .5ex}\n",
       "</style>\n",
       "<ol class=list-inline><li>'a'</li><li>'b'</li><li>'c'</li><li>'d'</li><li>'e'</li></ol>\n"
      ],
      "text/latex": [
       "\\begin{enumerate*}\n",
       "\\item 'a'\n",
       "\\item 'b'\n",
       "\\item 'c'\n",
       "\\item 'd'\n",
       "\\item 'e'\n",
       "\\end{enumerate*}\n"
      ],
      "text/markdown": [
       "1. 'a'\n",
       "2. 'b'\n",
       "3. 'c'\n",
       "4. 'd'\n",
       "5. 'e'\n",
       "\n",
       "\n"
      ],
      "text/plain": [
       "[1] \"a\" \"b\" \"c\" \"d\" \"e\""
      ]
     },
     "metadata": {},
     "output_type": "display_data"
    }
   ],
   "source": [
    "c(\"a\",\"b\",\"c\",\"d\",\"e\")"
   ]
  },
  {
   "cell_type": "code",
   "execution_count": 6,
   "id": "1b204236",
   "metadata": {
    "editable": true,
    "slideshow": {
     "slide_type": ""
    },
    "tags": [
     "hide-output"
    ]
   },
   "outputs": [
    {
     "data": {
      "text/html": [
       "<style>\n",
       ".list-inline {list-style: none; margin:0; padding: 0}\n",
       ".list-inline>li {display: inline-block}\n",
       ".list-inline>li:not(:last-child)::after {content: \"\\00b7\"; padding: 0 .5ex}\n",
       "</style>\n",
       "<ol class=list-inline><li>TRUE</li><li>FALSE</li><li>TRUE</li><li>FALSE</li></ol>\n"
      ],
      "text/latex": [
       "\\begin{enumerate*}\n",
       "\\item TRUE\n",
       "\\item FALSE\n",
       "\\item TRUE\n",
       "\\item FALSE\n",
       "\\end{enumerate*}\n"
      ],
      "text/markdown": [
       "1. TRUE\n",
       "2. FALSE\n",
       "3. TRUE\n",
       "4. FALSE\n",
       "\n",
       "\n"
      ],
      "text/plain": [
       "[1]  TRUE FALSE  TRUE FALSE"
      ]
     },
     "metadata": {},
     "output_type": "display_data"
    }
   ],
   "source": [
    "c(T,F,T,F)"
   ]
  },
  {
   "cell_type": "code",
   "execution_count": 7,
   "id": "d5a023a6",
   "metadata": {
    "editable": true,
    "slideshow": {
     "slide_type": ""
    },
    "tags": [
     "hide-output"
    ]
   },
   "outputs": [
    {
     "data": {
      "text/html": [
       "<style>\n",
       ".list-inline {list-style: none; margin:0; padding: 0}\n",
       ".list-inline>li {display: inline-block}\n",
       ".list-inline>li:not(:last-child)::after {content: \"\\00b7\"; padding: 0 .5ex}\n",
       "</style>\n",
       "<ol class=list-inline><li>1</li><li>2</li><li>3</li><li>4</li><li>5</li></ol>\n"
      ],
      "text/latex": [
       "\\begin{enumerate*}\n",
       "\\item 1\n",
       "\\item 2\n",
       "\\item 3\n",
       "\\item 4\n",
       "\\item 5\n",
       "\\end{enumerate*}\n"
      ],
      "text/markdown": [
       "1. 1\n",
       "2. 2\n",
       "3. 3\n",
       "4. 4\n",
       "5. 5\n",
       "\n",
       "\n"
      ],
      "text/plain": [
       "[1] 1 2 3 4 5"
      ]
     },
     "metadata": {},
     "output_type": "display_data"
    }
   ],
   "source": [
    "1:5"
   ]
  },
  {
   "cell_type": "code",
   "execution_count": 8,
   "id": "dd5d89b9",
   "metadata": {
    "editable": true,
    "slideshow": {
     "slide_type": ""
    },
    "tags": [
     "hide-output"
    ]
   },
   "outputs": [
    {
     "data": {
      "text/html": [
       "<style>\n",
       ".list-inline {list-style: none; margin:0; padding: 0}\n",
       ".list-inline>li {display: inline-block}\n",
       ".list-inline>li:not(:last-child)::after {content: \"\\00b7\"; padding: 0 .5ex}\n",
       "</style>\n",
       "<ol class=list-inline><li>5</li><li>4</li><li>3</li><li>2</li><li>1</li></ol>\n"
      ],
      "text/latex": [
       "\\begin{enumerate*}\n",
       "\\item 5\n",
       "\\item 4\n",
       "\\item 3\n",
       "\\item 2\n",
       "\\item 1\n",
       "\\end{enumerate*}\n"
      ],
      "text/markdown": [
       "1. 5\n",
       "2. 4\n",
       "3. 3\n",
       "4. 2\n",
       "5. 1\n",
       "\n",
       "\n"
      ],
      "text/plain": [
       "[1] 5 4 3 2 1"
      ]
     },
     "metadata": {},
     "output_type": "display_data"
    }
   ],
   "source": [
    "5:1"
   ]
  },
  {
   "cell_type": "code",
   "execution_count": 9,
   "id": "65896acb",
   "metadata": {
    "editable": true,
    "slideshow": {
     "slide_type": ""
    },
    "tags": [
     "hide-output"
    ]
   },
   "outputs": [
    {
     "data": {
      "text/html": [
       "<style>\n",
       ".list-inline {list-style: none; margin:0; padding: 0}\n",
       ".list-inline>li {display: inline-block}\n",
       ".list-inline>li:not(:last-child)::after {content: \"\\00b7\"; padding: 0 .5ex}\n",
       "</style>\n",
       "<ol class=list-inline><li>1</li><li>2</li><li>3</li><li>4</li><li>5</li></ol>\n"
      ],
      "text/latex": [
       "\\begin{enumerate*}\n",
       "\\item 1\n",
       "\\item 2\n",
       "\\item 3\n",
       "\\item 4\n",
       "\\item 5\n",
       "\\end{enumerate*}\n"
      ],
      "text/markdown": [
       "1. 1\n",
       "2. 2\n",
       "3. 3\n",
       "4. 4\n",
       "5. 5\n",
       "\n",
       "\n"
      ],
      "text/plain": [
       "[1] 1 2 3 4 5"
      ]
     },
     "metadata": {},
     "output_type": "display_data"
    }
   ],
   "source": [
    "seq(1,5)"
   ]
  },
  {
   "cell_type": "code",
   "execution_count": 10,
   "id": "755f3d73",
   "metadata": {
    "editable": true,
    "slideshow": {
     "slide_type": ""
    },
    "tags": [
     "hide-output"
    ]
   },
   "outputs": [
    {
     "data": {
      "text/html": [
       "<style>\n",
       ".list-inline {list-style: none; margin:0; padding: 0}\n",
       ".list-inline>li {display: inline-block}\n",
       ".list-inline>li:not(:last-child)::after {content: \"\\00b7\"; padding: 0 .5ex}\n",
       "</style>\n",
       "<ol class=list-inline><li>1</li><li>1.5</li><li>2</li><li>2.5</li><li>3</li><li>3.5</li><li>4</li><li>4.5</li><li>5</li></ol>\n"
      ],
      "text/latex": [
       "\\begin{enumerate*}\n",
       "\\item 1\n",
       "\\item 1.5\n",
       "\\item 2\n",
       "\\item 2.5\n",
       "\\item 3\n",
       "\\item 3.5\n",
       "\\item 4\n",
       "\\item 4.5\n",
       "\\item 5\n",
       "\\end{enumerate*}\n"
      ],
      "text/markdown": [
       "1. 1\n",
       "2. 1.5\n",
       "3. 2\n",
       "4. 2.5\n",
       "5. 3\n",
       "6. 3.5\n",
       "7. 4\n",
       "8. 4.5\n",
       "9. 5\n",
       "\n",
       "\n"
      ],
      "text/plain": [
       "[1] 1.0 1.5 2.0 2.5 3.0 3.5 4.0 4.5 5.0"
      ]
     },
     "metadata": {},
     "output_type": "display_data"
    }
   ],
   "source": [
    "seq(1,5,by=.5)"
   ]
  },
  {
   "cell_type": "code",
   "execution_count": 11,
   "id": "9d1d3145",
   "metadata": {
    "editable": true,
    "slideshow": {
     "slide_type": ""
    },
    "tags": [
     "hide-output"
    ]
   },
   "outputs": [
    {
     "data": {
      "text/html": [
       "<style>\n",
       ".list-inline {list-style: none; margin:0; padding: 0}\n",
       ".list-inline>li {display: inline-block}\n",
       ".list-inline>li:not(:last-child)::after {content: \"\\00b7\"; padding: 0 .5ex}\n",
       "</style>\n",
       "<ol class=list-inline><li>1</li><li>1</li><li>1</li><li>1</li><li>1</li></ol>\n"
      ],
      "text/latex": [
       "\\begin{enumerate*}\n",
       "\\item 1\n",
       "\\item 1\n",
       "\\item 1\n",
       "\\item 1\n",
       "\\item 1\n",
       "\\end{enumerate*}\n"
      ],
      "text/markdown": [
       "1. 1\n",
       "2. 1\n",
       "3. 1\n",
       "4. 1\n",
       "5. 1\n",
       "\n",
       "\n"
      ],
      "text/plain": [
       "[1] 1 1 1 1 1"
      ]
     },
     "metadata": {},
     "output_type": "display_data"
    }
   ],
   "source": [
    "rep(1,5)"
   ]
  },
  {
   "cell_type": "code",
   "execution_count": 12,
   "id": "c1845073",
   "metadata": {
    "editable": true,
    "slideshow": {
     "slide_type": ""
    },
    "tags": [
     "hide-output"
    ]
   },
   "outputs": [
    {
     "data": {
      "text/html": [
       "<style>\n",
       ".list-inline {list-style: none; margin:0; padding: 0}\n",
       ".list-inline>li {display: inline-block}\n",
       ".list-inline>li:not(:last-child)::after {content: \"\\00b7\"; padding: 0 .5ex}\n",
       "</style>\n",
       "<ol class=list-inline><li>1</li><li>2</li><li>1</li><li>2</li><li>1</li><li>2</li><li>1</li><li>2</li><li>1</li><li>2</li></ol>\n"
      ],
      "text/latex": [
       "\\begin{enumerate*}\n",
       "\\item 1\n",
       "\\item 2\n",
       "\\item 1\n",
       "\\item 2\n",
       "\\item 1\n",
       "\\item 2\n",
       "\\item 1\n",
       "\\item 2\n",
       "\\item 1\n",
       "\\item 2\n",
       "\\end{enumerate*}\n"
      ],
      "text/markdown": [
       "1. 1\n",
       "2. 2\n",
       "3. 1\n",
       "4. 2\n",
       "5. 1\n",
       "6. 2\n",
       "7. 1\n",
       "8. 2\n",
       "9. 1\n",
       "10. 2\n",
       "\n",
       "\n"
      ],
      "text/plain": [
       " [1] 1 2 1 2 1 2 1 2 1 2"
      ]
     },
     "metadata": {},
     "output_type": "display_data"
    }
   ],
   "source": [
    "rep(1:2,5)"
   ]
  },
  {
   "cell_type": "code",
   "execution_count": 13,
   "id": "e3464e9f",
   "metadata": {
    "editable": true,
    "slideshow": {
     "slide_type": ""
    },
    "tags": [
     "hide-output"
    ]
   },
   "outputs": [
    {
     "data": {
      "text/html": [
       "<style>\n",
       ".list-inline {list-style: none; margin:0; padding: 0}\n",
       ".list-inline>li {display: inline-block}\n",
       ".list-inline>li:not(:last-child)::after {content: \"\\00b7\"; padding: 0 .5ex}\n",
       "</style>\n",
       "<ol class=list-inline><li>0</li><li>0</li><li>0</li><li>0</li><li>0</li></ol>\n"
      ],
      "text/latex": [
       "\\begin{enumerate*}\n",
       "\\item 0\n",
       "\\item 0\n",
       "\\item 0\n",
       "\\item 0\n",
       "\\item 0\n",
       "\\end{enumerate*}\n"
      ],
      "text/markdown": [
       "1. 0\n",
       "2. 0\n",
       "3. 0\n",
       "4. 0\n",
       "5. 0\n",
       "\n",
       "\n"
      ],
      "text/plain": [
       "[1] 0 0 0 0 0"
      ]
     },
     "metadata": {},
     "output_type": "display_data"
    }
   ],
   "source": [
    "numeric(5)"
   ]
  },
  {
   "cell_type": "code",
   "execution_count": 14,
   "id": "01b7df09",
   "metadata": {
    "editable": true,
    "slideshow": {
     "slide_type": ""
    },
    "tags": [
     "hide-output"
    ]
   },
   "outputs": [
    {
     "data": {
      "text/html": [
       "<style>\n",
       ".list-inline {list-style: none; margin:0; padding: 0}\n",
       ".list-inline>li {display: inline-block}\n",
       ".list-inline>li:not(:last-child)::after {content: \"\\00b7\"; padding: 0 .5ex}\n",
       "</style>\n",
       "<ol class=list-inline><li>FALSE</li><li>FALSE</li><li>FALSE</li><li>FALSE</li><li>FALSE</li></ol>\n"
      ],
      "text/latex": [
       "\\begin{enumerate*}\n",
       "\\item FALSE\n",
       "\\item FALSE\n",
       "\\item FALSE\n",
       "\\item FALSE\n",
       "\\item FALSE\n",
       "\\end{enumerate*}\n"
      ],
      "text/markdown": [
       "1. FALSE\n",
       "2. FALSE\n",
       "3. FALSE\n",
       "4. FALSE\n",
       "5. FALSE\n",
       "\n",
       "\n"
      ],
      "text/plain": [
       "[1] FALSE FALSE FALSE FALSE FALSE"
      ]
     },
     "metadata": {},
     "output_type": "display_data"
    }
   ],
   "source": [
    "logical(5)"
   ]
  },
  {
   "cell_type": "code",
   "execution_count": 15,
   "id": "8fd97e42",
   "metadata": {
    "editable": true,
    "slideshow": {
     "slide_type": ""
    },
    "tags": [
     "hide-output"
    ]
   },
   "outputs": [
    {
     "data": {
      "text/html": [
       "<style>\n",
       ".list-inline {list-style: none; margin:0; padding: 0}\n",
       ".list-inline>li {display: inline-block}\n",
       ".list-inline>li:not(:last-child)::after {content: \"\\00b7\"; padding: 0 .5ex}\n",
       "</style>\n",
       "<ol class=list-inline><li>''</li><li>''</li><li>''</li><li>''</li><li>''</li></ol>\n"
      ],
      "text/latex": [
       "\\begin{enumerate*}\n",
       "\\item ''\n",
       "\\item ''\n",
       "\\item ''\n",
       "\\item ''\n",
       "\\item ''\n",
       "\\end{enumerate*}\n"
      ],
      "text/markdown": [
       "1. ''\n",
       "2. ''\n",
       "3. ''\n",
       "4. ''\n",
       "5. ''\n",
       "\n",
       "\n"
      ],
      "text/plain": [
       "[1] \"\" \"\" \"\" \"\" \"\""
      ]
     },
     "metadata": {},
     "output_type": "display_data"
    }
   ],
   "source": [
    "character(5)"
   ]
  },
  {
   "cell_type": "markdown",
   "id": "aa11cdb7",
   "metadata": {},
   "source": [
    "Vectors can be referred to using variables and the data in the vector accessed by using the __[]__ brackets."
   ]
  },
  {
   "cell_type": "code",
   "execution_count": 16,
   "id": "ecc50b11",
   "metadata": {},
   "outputs": [
    {
     "data": {
      "text/html": [
       "177"
      ],
      "text/latex": [
       "177"
      ],
      "text/markdown": [
       "177"
      ],
      "text/plain": [
       "[1] 177"
      ]
     },
     "metadata": {},
     "output_type": "display_data"
    },
    {
     "data": {
      "text/html": [
       "<style>\n",
       ".list-inline {list-style: none; margin:0; padding: 0}\n",
       ".list-inline>li {display: inline-block}\n",
       ".list-inline>li:not(:last-child)::after {content: \"\\00b7\"; padding: 0 .5ex}\n",
       "</style>\n",
       "<ol class=list-inline><li>177</li><li>177</li><li>177</li><li>178</li></ol>\n"
      ],
      "text/latex": [
       "\\begin{enumerate*}\n",
       "\\item 177\n",
       "\\item 177\n",
       "\\item 177\n",
       "\\item 178\n",
       "\\end{enumerate*}\n"
      ],
      "text/markdown": [
       "1. 177\n",
       "2. 177\n",
       "3. 177\n",
       "4. 178\n",
       "\n",
       "\n"
      ],
      "text/plain": [
       "[1] 177 177 177 178"
      ]
     },
     "metadata": {},
     "output_type": "display_data"
    },
    {
     "data": {
      "text/html": [
       "<style>\n",
       ".list-inline {list-style: none; margin:0; padding: 0}\n",
       ".list-inline>li {display: inline-block}\n",
       ".list-inline>li:not(:last-child)::after {content: \"\\00b7\"; padding: 0 .5ex}\n",
       "</style>\n",
       "<ol class=list-inline><li>31.1791383219955</li><li>22.98190175237</li><li>27.1314117909924</li><li>16.5980401544894</li><li>22.4087867693473</li><li>23.3234180638183</li><li>22.4058769513315</li><li>20.8611196607503</li><li>16.0964524681227</li><li>25.9515570934256</li></ol>\n"
      ],
      "text/latex": [
       "\\begin{enumerate*}\n",
       "\\item 31.1791383219955\n",
       "\\item 22.98190175237\n",
       "\\item 27.1314117909924\n",
       "\\item 16.5980401544894\n",
       "\\item 22.4087867693473\n",
       "\\item 23.3234180638183\n",
       "\\item 22.4058769513315\n",
       "\\item 20.8611196607503\n",
       "\\item 16.0964524681227\n",
       "\\item 25.9515570934256\n",
       "\\end{enumerate*}\n"
      ],
      "text/markdown": [
       "1. 31.1791383219955\n",
       "2. 22.98190175237\n",
       "3. 27.1314117909924\n",
       "4. 16.5980401544894\n",
       "5. 22.4087867693473\n",
       "6. 23.3234180638183\n",
       "7. 22.4058769513315\n",
       "8. 20.8611196607503\n",
       "9. 16.0964524681227\n",
       "10. 25.9515570934256\n",
       "\n",
       "\n"
      ],
      "text/plain": [
       " [1] 31.17914 22.98190 27.13141 16.59804 22.40879 23.32342 22.40588 20.86112\n",
       " [9] 16.09645 25.95156"
      ]
     },
     "metadata": {},
     "output_type": "display_data"
    },
    {
     "data": {
      "text/html": [
       "<style>\n",
       ".list-inline {list-style: none; margin:0; padding: 0}\n",
       ".list-inline>li {display: inline-block}\n",
       ".list-inline>li:not(:last-child)::after {content: \"\\00b7\"; padding: 0 .5ex}\n",
       "</style>\n",
       "<ol class=list-inline><li>31.1791383219955</li><li>16.5980401544894</li><li>23.3234180638183</li></ol>\n"
      ],
      "text/latex": [
       "\\begin{enumerate*}\n",
       "\\item 31.1791383219955\n",
       "\\item 16.5980401544894\n",
       "\\item 23.3234180638183\n",
       "\\end{enumerate*}\n"
      ],
      "text/markdown": [
       "1. 31.1791383219955\n",
       "2. 16.5980401544894\n",
       "3. 23.3234180638183\n",
       "\n",
       "\n"
      ],
      "text/plain": [
       "[1] 31.17914 16.59804 23.32342"
      ]
     },
     "metadata": {},
     "output_type": "display_data"
    }
   ],
   "source": [
    "Height <- c(168, 177, 177, 177, 178, 172, 165, 171, 178, 170) # store a vector\n",
    "Height[2] # Print the second component\n",
    "Height[2:5] # Print the second, the 3rd, the 4th and 5th component\n",
    "obs <- 1:10\n",
    "Weight <- c(88, 72, 85, 52, 71, 69, 61, 61, 51, 75) \n",
    "BMI <- Weight/((Height/100)^2)   # Performs a simple calculation using vectors\n",
    "BMI\n",
    "index<-c(1,4,6)\n",
    "BMI[index] # use a vector to index another vector"
   ]
  },
  {
   "cell_type": "markdown",
   "id": "328458de",
   "metadata": {},
   "source": [
    "Note how __#__ can be used to place comments in your code."
   ]
  },
  {
   "cell_type": "markdown",
   "id": "73cffee5",
   "metadata": {},
   "source": [
    "aLso - Negative indices can be used to \"drop\" values from a vector."
   ]
  },
  {
   "cell_type": "code",
   "execution_count": 17,
   "id": "cc848de3",
   "metadata": {},
   "outputs": [
    {
     "name": "stdout",
     "output_type": "stream",
     "text": [
      "[1] 1 3 4\n",
      "[1] 1 2 3\n"
     ]
    }
   ],
   "source": [
    "x<-c(1,2,3,4)\n",
    "y<-x[-2]\n",
    "print(y)\n",
    "z<-x[-length(x)]\n",
    "print(z)"
   ]
  },
  {
   "cell_type": "markdown",
   "id": "a1df8b75",
   "metadata": {},
   "source": [
    "## Matrices"
   ]
  },
  {
   "cell_type": "markdown",
   "id": "dc2cf893",
   "metadata": {},
   "source": [
    "If you want to create a new matrix, one way is to use the __matrix__ function. You have to enter a vector of data, the number of rows and/or columns and finally you can specify if you want R to read your vector by row or by column (the default option). Here are two examples."
   ]
  },
  {
   "cell_type": "code",
   "execution_count": 18,
   "id": "190ab46b",
   "metadata": {
    "editable": true,
    "slideshow": {
     "slide_type": ""
    },
    "tags": []
   },
   "outputs": [
    {
     "data": {
      "text/html": [
       "<table class=\"dataframe\">\n",
       "<caption>A matrix: 5 × 5 of type lgl</caption>\n",
       "<tbody>\n",
       "\t<tr><td>NA</td><td>NA</td><td>NA</td><td>NA</td><td>NA</td></tr>\n",
       "\t<tr><td>NA</td><td>NA</td><td>NA</td><td>NA</td><td>NA</td></tr>\n",
       "\t<tr><td>NA</td><td>NA</td><td>NA</td><td>NA</td><td>NA</td></tr>\n",
       "\t<tr><td>NA</td><td>NA</td><td>NA</td><td>NA</td><td>NA</td></tr>\n",
       "\t<tr><td>NA</td><td>NA</td><td>NA</td><td>NA</td><td>NA</td></tr>\n",
       "</tbody>\n",
       "</table>\n"
      ],
      "text/latex": [
       "A matrix: 5 × 5 of type lgl\n",
       "\\begin{tabular}{lllll}\n",
       "\t NA & NA & NA & NA & NA\\\\\n",
       "\t NA & NA & NA & NA & NA\\\\\n",
       "\t NA & NA & NA & NA & NA\\\\\n",
       "\t NA & NA & NA & NA & NA\\\\\n",
       "\t NA & NA & NA & NA & NA\\\\\n",
       "\\end{tabular}\n"
      ],
      "text/markdown": [
       "\n",
       "A matrix: 5 × 5 of type lgl\n",
       "\n",
       "| NA | NA | NA | NA | NA |\n",
       "| NA | NA | NA | NA | NA |\n",
       "| NA | NA | NA | NA | NA |\n",
       "| NA | NA | NA | NA | NA |\n",
       "| NA | NA | NA | NA | NA |\n",
       "\n"
      ],
      "text/plain": [
       "     [,1] [,2] [,3] [,4] [,5]\n",
       "[1,] NA   NA   NA   NA   NA  \n",
       "[2,] NA   NA   NA   NA   NA  \n",
       "[3,] NA   NA   NA   NA   NA  \n",
       "[4,] NA   NA   NA   NA   NA  \n",
       "[5,] NA   NA   NA   NA   NA  "
      ]
     },
     "metadata": {},
     "output_type": "display_data"
    },
    {
     "data": {
      "text/html": [
       "<table class=\"dataframe\">\n",
       "<caption>A matrix: 3 × 5 of type int</caption>\n",
       "<tbody>\n",
       "\t<tr><td> 1</td><td> 2</td><td> 3</td><td> 4</td><td> 5</td></tr>\n",
       "\t<tr><td> 6</td><td> 7</td><td> 8</td><td> 9</td><td>10</td></tr>\n",
       "\t<tr><td>11</td><td>12</td><td>13</td><td>14</td><td>15</td></tr>\n",
       "</tbody>\n",
       "</table>\n"
      ],
      "text/latex": [
       "A matrix: 3 × 5 of type int\n",
       "\\begin{tabular}{lllll}\n",
       "\t  1 &  2 &  3 &  4 &  5\\\\\n",
       "\t  6 &  7 &  8 &  9 & 10\\\\\n",
       "\t 11 & 12 & 13 & 14 & 15\\\\\n",
       "\\end{tabular}\n"
      ],
      "text/markdown": [
       "\n",
       "A matrix: 3 × 5 of type int\n",
       "\n",
       "|  1 |  2 |  3 |  4 |  5 |\n",
       "|  6 |  7 |  8 |  9 | 10 |\n",
       "| 11 | 12 | 13 | 14 | 15 |\n",
       "\n"
      ],
      "text/plain": [
       "     [,1] [,2] [,3] [,4] [,5]\n",
       "[1,]  1    2    3    4    5  \n",
       "[2,]  6    7    8    9   10  \n",
       "[3,] 11   12   13   14   15  "
      ]
     },
     "metadata": {},
     "output_type": "display_data"
    }
   ],
   "source": [
    "matrix(data = NA, nrow = 5, ncol = 5, byrow = T)\n",
    "matrix(data = 1:15, nrow = 3, ncol = 5, byrow = T)"
   ]
  },
  {
   "cell_type": "markdown",
   "id": "f5382a2e",
   "metadata": {},
   "source": [
    "The functions __cbind__ and __rbind__ combine vectors into matrices in a column by column or row by row mode."
   ]
  },
  {
   "cell_type": "code",
   "execution_count": 19,
   "id": "a80c8fe3",
   "metadata": {},
   "outputs": [
    {
     "data": {
      "text/html": [
       "<table class=\"dataframe\">\n",
       "<caption>A matrix: 5 × 2 of type int</caption>\n",
       "<thead>\n",
       "\t<tr><th scope=col>v1</th><th scope=col>v2</th></tr>\n",
       "</thead>\n",
       "<tbody>\n",
       "\t<tr><td>1</td><td>5</td></tr>\n",
       "\t<tr><td>2</td><td>4</td></tr>\n",
       "\t<tr><td>3</td><td>3</td></tr>\n",
       "\t<tr><td>4</td><td>2</td></tr>\n",
       "\t<tr><td>5</td><td>1</td></tr>\n",
       "</tbody>\n",
       "</table>\n"
      ],
      "text/latex": [
       "A matrix: 5 × 2 of type int\n",
       "\\begin{tabular}{ll}\n",
       " v1 & v2\\\\\n",
       "\\hline\n",
       "\t 1 & 5\\\\\n",
       "\t 2 & 4\\\\\n",
       "\t 3 & 3\\\\\n",
       "\t 4 & 2\\\\\n",
       "\t 5 & 1\\\\\n",
       "\\end{tabular}\n"
      ],
      "text/markdown": [
       "\n",
       "A matrix: 5 × 2 of type int\n",
       "\n",
       "| v1 | v2 |\n",
       "|---|---|\n",
       "| 1 | 5 |\n",
       "| 2 | 4 |\n",
       "| 3 | 3 |\n",
       "| 4 | 2 |\n",
       "| 5 | 1 |\n",
       "\n"
      ],
      "text/plain": [
       "     v1 v2\n",
       "[1,] 1  5 \n",
       "[2,] 2  4 \n",
       "[3,] 3  3 \n",
       "[4,] 4  2 \n",
       "[5,] 5  1 "
      ]
     },
     "metadata": {},
     "output_type": "display_data"
    }
   ],
   "source": [
    "v1 <- 1:5\n",
    "v2 <- 5:1\n",
    "cbind(v1,v2)"
   ]
  },
  {
   "cell_type": "code",
   "execution_count": 20,
   "id": "8badd5a9",
   "metadata": {},
   "outputs": [
    {
     "data": {
      "text/html": [
       "<table class=\"dataframe\">\n",
       "<caption>A matrix: 2 × 5 of type int</caption>\n",
       "<tbody>\n",
       "\t<tr><th scope=row>v1</th><td>1</td><td>2</td><td>3</td><td>4</td><td>5</td></tr>\n",
       "\t<tr><th scope=row>v2</th><td>5</td><td>4</td><td>3</td><td>2</td><td>1</td></tr>\n",
       "</tbody>\n",
       "</table>\n"
      ],
      "text/latex": [
       "A matrix: 2 × 5 of type int\n",
       "\\begin{tabular}{r|lllll}\n",
       "\tv1 & 1 & 2 & 3 & 4 & 5\\\\\n",
       "\tv2 & 5 & 4 & 3 & 2 & 1\\\\\n",
       "\\end{tabular}\n"
      ],
      "text/markdown": [
       "\n",
       "A matrix: 2 × 5 of type int\n",
       "\n",
       "| v1 | 1 | 2 | 3 | 4 | 5 |\n",
       "| v2 | 5 | 4 | 3 | 2 | 1 |\n",
       "\n"
      ],
      "text/plain": [
       "   [,1] [,2] [,3] [,4] [,5]\n",
       "v1 1    2    3    4    5   \n",
       "v2 5    4    3    2    1   "
      ]
     },
     "metadata": {},
     "output_type": "display_data"
    }
   ],
   "source": [
    "rbind(v1,v2)"
   ]
  },
  {
   "cell_type": "markdown",
   "id": "1e902506",
   "metadata": {},
   "source": [
    "The dimension of a matrix can be obtained using the __dim__ function. Alternatively __nrow__ and __ncol__ returns the number of rows and columns in a matrix."
   ]
  },
  {
   "cell_type": "code",
   "execution_count": 21,
   "id": "3089d864",
   "metadata": {
    "editable": true,
    "slideshow": {
     "slide_type": ""
    },
    "tags": []
   },
   "outputs": [
    {
     "data": {
      "text/html": [
       "<style>\n",
       ".list-inline {list-style: none; margin:0; padding: 0}\n",
       ".list-inline>li {display: inline-block}\n",
       ".list-inline>li:not(:last-child)::after {content: \"\\00b7\"; padding: 0 .5ex}\n",
       "</style>\n",
       "<ol class=list-inline><li>5</li><li>3</li></ol>\n"
      ],
      "text/latex": [
       "\\begin{enumerate*}\n",
       "\\item 5\n",
       "\\item 3\n",
       "\\end{enumerate*}\n"
      ],
      "text/markdown": [
       "1. 5\n",
       "2. 3\n",
       "\n",
       "\n"
      ],
      "text/plain": [
       "[1] 5 3"
      ]
     },
     "metadata": {},
     "output_type": "display_data"
    },
    {
     "data": {
      "text/html": [
       "5"
      ],
      "text/latex": [
       "5"
      ],
      "text/markdown": [
       "5"
      ],
      "text/plain": [
       "[1] 5"
      ]
     },
     "metadata": {},
     "output_type": "display_data"
    },
    {
     "data": {
      "text/html": [
       "3"
      ],
      "text/latex": [
       "3"
      ],
      "text/markdown": [
       "3"
      ],
      "text/plain": [
       "[1] 3"
      ]
     },
     "metadata": {},
     "output_type": "display_data"
    }
   ],
   "source": [
    "X <- matrix(data = 1:15, nrow = 5, ncol = 3, byrow = T)\n",
    "dim(X)\n",
    "nrow(X)\n",
    "ncol(X)"
   ]
  },
  {
   "cell_type": "markdown",
   "id": "3c33a5f0",
   "metadata": {},
   "source": [
    "### <u>Exercise 2</u>\n",
    "\n",
    "How would you access the value of an element of a matrix using __[]__ ?\n",
    "\n",
    "What is the value of $X_{4,3}$ ?"
   ]
  },
  {
   "cell_type": "code",
   "execution_count": 22,
   "id": "941abff5",
   "metadata": {
    "editable": true,
    "slideshow": {
     "slide_type": ""
    },
    "tags": [
     "hide-output",
     "hide-input"
    ]
   },
   "outputs": [
    {
     "data": {
      "text/html": [
       "12"
      ],
      "text/latex": [
       "12"
      ],
      "text/markdown": [
       "12"
      ],
      "text/plain": [
       "[1] 12"
      ]
     },
     "metadata": {},
     "output_type": "display_data"
    }
   ],
   "source": [
    "X[4,3]"
   ]
  },
  {
   "cell_type": "markdown",
   "id": "831dda6c",
   "metadata": {},
   "source": [
    "The function __t__ forms the transpose of a matrix."
   ]
  },
  {
   "cell_type": "code",
   "execution_count": 23,
   "id": "ed959a3b",
   "metadata": {
    "editable": true,
    "slideshow": {
     "slide_type": ""
    },
    "tags": []
   },
   "outputs": [
    {
     "data": {
      "text/html": [
       "<table class=\"dataframe\">\n",
       "<caption>A matrix: 3 × 5 of type int</caption>\n",
       "<tbody>\n",
       "\t<tr><td>1</td><td>4</td><td>7</td><td>10</td><td>13</td></tr>\n",
       "\t<tr><td>2</td><td>5</td><td>8</td><td>11</td><td>14</td></tr>\n",
       "\t<tr><td>3</td><td>6</td><td>9</td><td>12</td><td>15</td></tr>\n",
       "</tbody>\n",
       "</table>\n"
      ],
      "text/latex": [
       "A matrix: 3 × 5 of type int\n",
       "\\begin{tabular}{lllll}\n",
       "\t 1 & 4 & 7 & 10 & 13\\\\\n",
       "\t 2 & 5 & 8 & 11 & 14\\\\\n",
       "\t 3 & 6 & 9 & 12 & 15\\\\\n",
       "\\end{tabular}\n"
      ],
      "text/markdown": [
       "\n",
       "A matrix: 3 × 5 of type int\n",
       "\n",
       "| 1 | 4 | 7 | 10 | 13 |\n",
       "| 2 | 5 | 8 | 11 | 14 |\n",
       "| 3 | 6 | 9 | 12 | 15 |\n",
       "\n"
      ],
      "text/plain": [
       "     [,1] [,2] [,3] [,4] [,5]\n",
       "[1,] 1    4    7    10   13  \n",
       "[2,] 2    5    8    11   14  \n",
       "[3,] 3    6    9    12   15  "
      ]
     },
     "metadata": {},
     "output_type": "display_data"
    }
   ],
   "source": [
    "t(X)"
   ]
  },
  {
   "cell_type": "markdown",
   "id": "9bba0f7f",
   "metadata": {},
   "source": [
    "Matrices are not just arrays (i.e a way of organising data in a grid), they also have an algebra."
   ]
  },
  {
   "cell_type": "markdown",
   "id": "e44b7e14",
   "metadata": {},
   "source": [
    "### <u>Exercise 3</u>\n",
    "\n",
    "What do you think the output of the following code examples might be ?"
   ]
  },
  {
   "cell_type": "code",
   "execution_count": 24,
   "id": "a1f0477b",
   "metadata": {
    "editable": true,
    "slideshow": {
     "slide_type": ""
    },
    "tags": [
     "hide-output"
    ]
   },
   "outputs": [
    {
     "data": {
      "text/html": [
       "<table class=\"dataframe\">\n",
       "<caption>A matrix: 5 × 3 of type int</caption>\n",
       "<tbody>\n",
       "\t<tr><td>  1</td><td>  4</td><td>  9</td></tr>\n",
       "\t<tr><td> 16</td><td> 25</td><td> 36</td></tr>\n",
       "\t<tr><td> 49</td><td> 64</td><td> 81</td></tr>\n",
       "\t<tr><td>100</td><td>121</td><td>144</td></tr>\n",
       "\t<tr><td>169</td><td>196</td><td>225</td></tr>\n",
       "</tbody>\n",
       "</table>\n"
      ],
      "text/latex": [
       "A matrix: 5 × 3 of type int\n",
       "\\begin{tabular}{lll}\n",
       "\t   1 &   4 &   9\\\\\n",
       "\t  16 &  25 &  36\\\\\n",
       "\t  49 &  64 &  81\\\\\n",
       "\t 100 & 121 & 144\\\\\n",
       "\t 169 & 196 & 225\\\\\n",
       "\\end{tabular}\n"
      ],
      "text/markdown": [
       "\n",
       "A matrix: 5 × 3 of type int\n",
       "\n",
       "|   1 |   4 |   9 |\n",
       "|  16 |  25 |  36 |\n",
       "|  49 |  64 |  81 |\n",
       "| 100 | 121 | 144 |\n",
       "| 169 | 196 | 225 |\n",
       "\n"
      ],
      "text/plain": [
       "     [,1] [,2] [,3]\n",
       "[1,]   1    4    9 \n",
       "[2,]  16   25   36 \n",
       "[3,]  49   64   81 \n",
       "[4,] 100  121  144 \n",
       "[5,] 169  196  225 "
      ]
     },
     "metadata": {},
     "output_type": "display_data"
    }
   ],
   "source": [
    "X*X"
   ]
  },
  {
   "cell_type": "code",
   "execution_count": 25,
   "id": "1d8058ef",
   "metadata": {
    "editable": true,
    "slideshow": {
     "slide_type": ""
    },
    "tags": [
     "hide-output"
    ]
   },
   "outputs": [
    {
     "data": {
      "text/html": [
       "<table class=\"dataframe\">\n",
       "<caption>A matrix: 5 × 5 of type dbl</caption>\n",
       "<tbody>\n",
       "\t<tr><td>14</td><td> 32</td><td> 50</td><td> 68</td><td> 86</td></tr>\n",
       "\t<tr><td>32</td><td> 77</td><td>122</td><td>167</td><td>212</td></tr>\n",
       "\t<tr><td>50</td><td>122</td><td>194</td><td>266</td><td>338</td></tr>\n",
       "\t<tr><td>68</td><td>167</td><td>266</td><td>365</td><td>464</td></tr>\n",
       "\t<tr><td>86</td><td>212</td><td>338</td><td>464</td><td>590</td></tr>\n",
       "</tbody>\n",
       "</table>\n"
      ],
      "text/latex": [
       "A matrix: 5 × 5 of type dbl\n",
       "\\begin{tabular}{lllll}\n",
       "\t 14 &  32 &  50 &  68 &  86\\\\\n",
       "\t 32 &  77 & 122 & 167 & 212\\\\\n",
       "\t 50 & 122 & 194 & 266 & 338\\\\\n",
       "\t 68 & 167 & 266 & 365 & 464\\\\\n",
       "\t 86 & 212 & 338 & 464 & 590\\\\\n",
       "\\end{tabular}\n"
      ],
      "text/markdown": [
       "\n",
       "A matrix: 5 × 5 of type dbl\n",
       "\n",
       "| 14 |  32 |  50 |  68 |  86 |\n",
       "| 32 |  77 | 122 | 167 | 212 |\n",
       "| 50 | 122 | 194 | 266 | 338 |\n",
       "| 68 | 167 | 266 | 365 | 464 |\n",
       "| 86 | 212 | 338 | 464 | 590 |\n",
       "\n"
      ],
      "text/plain": [
       "     [,1] [,2] [,3] [,4] [,5]\n",
       "[1,] 14    32   50   68   86 \n",
       "[2,] 32    77  122  167  212 \n",
       "[3,] 50   122  194  266  338 \n",
       "[4,] 68   167  266  365  464 \n",
       "[5,] 86   212  338  464  590 "
      ]
     },
     "metadata": {},
     "output_type": "display_data"
    },
    {
     "name": "stdout",
     "output_type": "stream",
     "text": [
      "     [,1] [,2] [,3]\n",
      "[1,]    1    2    3\n",
      "[2,]    4    5    6\n",
      "[3,]    7    8    9\n",
      "[4,]   10   11   12\n",
      "[5,]   13   14   15\n"
     ]
    }
   ],
   "source": [
    "X%*%t(X)\n",
    "print(X)"
   ]
  },
  {
   "cell_type": "code",
   "execution_count": 26,
   "id": "fc22fd59",
   "metadata": {
    "editable": true,
    "slideshow": {
     "slide_type": ""
    },
    "tags": [
     "hide-output"
    ]
   },
   "outputs": [
    {
     "name": "stdout",
     "output_type": "stream",
     "text": [
      "     [,1] [,2]\n",
      "[1,]   14   32\n",
      "[2,]   32   77\n",
      "[3,]   50  122\n",
      "[4,]   68  167\n",
      "[5,]   86  212\n"
     ]
    }
   ],
   "source": [
    "print(X%*%t(X)[,1:2])"
   ]
  },
  {
   "cell_type": "markdown",
   "id": "f6947da2",
   "metadata": {},
   "source": [
    "A matrix can be visualised using the __plot__ function."
   ]
  },
  {
   "cell_type": "code",
   "execution_count": 27,
   "id": "4c255c13",
   "metadata": {
    "editable": true,
    "slideshow": {
     "slide_type": ""
    },
    "tags": []
   },
   "outputs": [
    {
     "data": {
      "image/png": "[encoded data removed]",
      "text/plain": [
       "plot without title"
      ]
     },
     "metadata": {
      "image/png": {
       "height": 420,
       "width": 420
      }
     },
     "output_type": "display_data"
    }
   ],
   "source": [
    "M <- cbind(obs,Height,Weight,BMI) # Create a matrix\n",
    "plot(M)"
   ]
  },
  {
   "cell_type": "code",
   "execution_count": 28,
   "id": "7f19b2ac",
   "metadata": {},
   "outputs": [
    {
     "data": {
      "image/png": "[encoded data removed]",
      "text/plain": [
       "Plot with title “Corpulence”"
      ]
     },
     "metadata": {
      "image/png": {
       "height": 420,
       "width": 420
      }
     },
     "output_type": "display_data"
    }
   ],
   "source": [
    "plot(Height,Weight,ylab=\"Weight\",xlab=\"Height\",main=\"Corpulence\")"
   ]
  },
  {
   "cell_type": "markdown",
   "id": "fc0d6945",
   "metadata": {},
   "source": [
    "### Arrays"
   ]
  },
  {
   "cell_type": "markdown",
   "id": "2d51449e",
   "metadata": {},
   "source": [
    "An array is composed of n dimensions where each dimension is a vector of R objects of the same type. An array of one dimension of one element may be constructed as follows."
   ]
  },
  {
   "cell_type": "code",
   "execution_count": 29,
   "id": "e10aa73e",
   "metadata": {},
   "outputs": [
    {
     "name": "stdout",
     "output_type": "stream",
     "text": [
      "[1] TRUE\n"
     ]
    }
   ],
   "source": [
    "x <- array(c(T,F),dim=c(1))\n",
    "print(x)"
   ]
  },
  {
   "cell_type": "markdown",
   "id": "2f1b1c47",
   "metadata": {},
   "source": [
    "The array x was created with a single dimension (dim=c(1)) drawn from the vector of possible values c(T,F). A similar array, y, can be created with a single dimension and two values. "
   ]
  },
  {
   "cell_type": "code",
   "execution_count": 30,
   "id": "45a89d7c",
   "metadata": {},
   "outputs": [
    {
     "name": "stdout",
     "output_type": "stream",
     "text": [
      "[1]  TRUE FALSE\n"
     ]
    }
   ],
   "source": [
    "y <- array(c(T,F),dim=c(2))\n",
    "print(y)"
   ]
  },
  {
   "cell_type": "markdown",
   "id": "e83987f8",
   "metadata": {},
   "source": [
    "A three dimensional array - 3 by 3 by 3 - may be created as follows. "
   ]
  },
  {
   "cell_type": "code",
   "execution_count": 31,
   "id": "68b4aa2c",
   "metadata": {},
   "outputs": [
    {
     "data": {
      "text/html": [
       "<style>\n",
       ".list-inline {list-style: none; margin:0; padding: 0}\n",
       ".list-inline>li {display: inline-block}\n",
       ".list-inline>li:not(:last-child)::after {content: \"\\00b7\"; padding: 0 .5ex}\n",
       "</style>\n",
       "<ol class=list-inline><li>3</li><li>3</li><li>3</li></ol>\n"
      ],
      "text/latex": [
       "\\begin{enumerate*}\n",
       "\\item 3\n",
       "\\item 3\n",
       "\\item 3\n",
       "\\end{enumerate*}\n"
      ],
      "text/markdown": [
       "1. 3\n",
       "2. 3\n",
       "3. 3\n",
       "\n",
       "\n"
      ],
      "text/plain": [
       "[1] 3 3 3"
      ]
     },
     "metadata": {},
     "output_type": "display_data"
    },
    {
     "name": "stdout",
     "output_type": "stream",
     "text": [
      ", , 1\n",
      "\n",
      "     [,1] [,2] [,3]\n",
      "[1,]    1    4    7\n",
      "[2,]    2    5    8\n",
      "[3,]    3    6    9\n",
      "\n",
      ", , 2\n",
      "\n",
      "     [,1] [,2] [,3]\n",
      "[1,]   10   13   16\n",
      "[2,]   11   14   17\n",
      "[3,]   12   15   18\n",
      "\n",
      ", , 3\n",
      "\n",
      "     [,1] [,2] [,3]\n",
      "[1,]   19   22   25\n",
      "[2,]   20   23   26\n",
      "[3,]   21   24   27\n",
      "\n"
     ]
    }
   ],
   "source": [
    "z <- array(1:27,dim=c(3,3,3))\n",
    "dim(z)\n",
    "print(z)"
   ]
  },
  {
   "cell_type": "code",
   "execution_count": 32,
   "id": "8f97fdd0",
   "metadata": {},
   "outputs": [
    {
     "data": {
      "text/html": [
       "TRUE"
      ],
      "text/latex": [
       "TRUE"
      ],
      "text/markdown": [
       "TRUE"
      ],
      "text/plain": [
       "[1] TRUE"
      ]
     },
     "metadata": {},
     "output_type": "display_data"
    }
   ],
   "source": [
    "is.matrix(z[,,1])"
   ]
  },
  {
   "cell_type": "markdown",
   "id": "526b70f8",
   "metadata": {},
   "source": [
    "### <u>Exercise 4</u>\n",
    "\n",
    "How would you access all of the elements in the second dimension of __z__ ? "
   ]
  },
  {
   "cell_type": "code",
   "execution_count": 33,
   "id": "0df34230",
   "metadata": {
    "editable": true,
    "slideshow": {
     "slide_type": ""
    },
    "tags": [
     "hide-output",
     "hide-input"
    ]
   },
   "outputs": [
    {
     "data": {
      "text/html": [
       "<table class=\"dataframe\">\n",
       "<caption>A matrix: 3 × 3 of type int</caption>\n",
       "<tbody>\n",
       "\t<tr><td>19</td><td>22</td><td>25</td></tr>\n",
       "\t<tr><td>20</td><td>23</td><td>26</td></tr>\n",
       "\t<tr><td>21</td><td>24</td><td>27</td></tr>\n",
       "</tbody>\n",
       "</table>\n"
      ],
      "text/latex": [
       "A matrix: 3 × 3 of type int\n",
       "\\begin{tabular}{lll}\n",
       "\t 19 & 22 & 25\\\\\n",
       "\t 20 & 23 & 26\\\\\n",
       "\t 21 & 24 & 27\\\\\n",
       "\\end{tabular}\n"
      ],
      "text/markdown": [
       "\n",
       "A matrix: 3 × 3 of type int\n",
       "\n",
       "| 19 | 22 | 25 |\n",
       "| 20 | 23 | 26 |\n",
       "| 21 | 24 | 27 |\n",
       "\n"
      ],
      "text/plain": [
       "     [,1] [,2] [,3]\n",
       "[1,] 19   22   25  \n",
       "[2,] 20   23   26  \n",
       "[3,] 21   24   27  "
      ]
     },
     "metadata": {},
     "output_type": "display_data"
    }
   ],
   "source": [
    "z[,,3]"
   ]
  },
  {
   "cell_type": "markdown",
   "id": "8bd146c5",
   "metadata": {},
   "source": [
    "### <u>Exercise 5</u>\n",
    "\n",
    "What would you expect the output of the following code to be ?"
   ]
  },
  {
   "cell_type": "code",
   "execution_count": 34,
   "id": "84141b02",
   "metadata": {
    "editable": true,
    "slideshow": {
     "slide_type": ""
    },
    "tags": [
     "hide-output"
    ]
   },
   "outputs": [
    {
     "name": "stdout",
     "output_type": "stream",
     "text": [
      ", , 1\n",
      "\n",
      "     [,1] [,2]\n",
      "[1,]   13   16\n",
      "[2,]   14   17\n",
      "[3,]   15   18\n",
      "\n",
      ", , 2\n",
      "\n",
      "     [,1] [,2]\n",
      "[1,]   22   25\n",
      "[2,]   23   26\n",
      "[3,]   24   27\n",
      "\n"
     ]
    }
   ],
   "source": [
    "print(z[,c(2,3),c(2,3)])"
   ]
  },
  {
   "cell_type": "markdown",
   "id": "4012965b",
   "metadata": {},
   "source": [
    "Arrays need not be symmetric across all dimensions. The following code creates a pair of 3 by 3 arrays. "
   ]
  },
  {
   "cell_type": "code",
   "execution_count": 35,
   "id": "34e56639",
   "metadata": {},
   "outputs": [
    {
     "name": "stdout",
     "output_type": "stream",
     "text": [
      ", , 1\n",
      "\n",
      "     [,1] [,2] [,3]\n",
      "[1,]    1    4    7\n",
      "[2,]    2    5    8\n",
      "[3,]    3    6    9\n",
      "\n",
      ", , 2\n",
      "\n",
      "     [,1] [,2] [,3]\n",
      "[1,]   10   13   16\n",
      "[2,]   11   14   17\n",
      "[3,]   12   15   18\n",
      "\n"
     ]
    }
   ],
   "source": [
    "w <- array(1:18,dim=c(3,3,2))\n",
    "print(w)"
   ]
  },
  {
   "cell_type": "markdown",
   "id": "2d47743c",
   "metadata": {},
   "source": [
    "Objects of the vectors composing the array must be of the same type, but they need not be numbers. "
   ]
  },
  {
   "cell_type": "code",
   "execution_count": 36,
   "id": "83370841",
   "metadata": {},
   "outputs": [
    {
     "name": "stdout",
     "output_type": "stream",
     "text": [
      ", , 1\n",
      "\n",
      "      [,1]  [,2]  [,3]\n",
      "[1,]  TRUE FALSE  TRUE\n",
      "[2,] FALSE  TRUE FALSE\n",
      "[3,]  TRUE FALSE  TRUE\n",
      "\n",
      ", , 2\n",
      "\n",
      "      [,1]  [,2]  [,3]\n",
      "[1,] FALSE  TRUE FALSE\n",
      "[2,]  TRUE FALSE  TRUE\n",
      "[3,] FALSE  TRUE FALSE\n",
      "\n"
     ]
    }
   ],
   "source": [
    "u <- array(c(T,F),dim=c(3,3,2))\n",
    "print(u)"
   ]
  },
  {
   "cell_type": "markdown",
   "id": "01c240d5",
   "metadata": {
    "editable": true,
    "slideshow": {
     "slide_type": ""
    },
    "tags": []
   },
   "source": [
    "### <u>Exercise 6</u>\n",
    "\n",
    "Try evaluating the following code. What would you expect the output to be ?\n",
    "Were you correct ?\n"
   ]
  },
  {
   "cell_type": "code",
   "execution_count": 37,
   "id": "128fb098",
   "metadata": {
    "editable": true,
    "slideshow": {
     "slide_type": ""
    },
    "tags": [
     "hide-output"
    ]
   },
   "outputs": [
    {
     "data": {
      "text/html": [
       "FALSE"
      ],
      "text/latex": [
       "FALSE"
      ],
      "text/markdown": [
       "FALSE"
      ],
      "text/plain": [
       "[1] FALSE"
      ]
     },
     "metadata": {},
     "output_type": "display_data"
    },
    {
     "data": {
      "text/html": [
       "TRUE"
      ],
      "text/latex": [
       "TRUE"
      ],
      "text/markdown": [
       "TRUE"
      ],
      "text/plain": [
       "[1] TRUE"
      ]
     },
     "metadata": {},
     "output_type": "display_data"
    }
   ],
   "source": [
    "z <- array(1:27,dim=c(3,3,3))\n",
    "is.matrix(z)\n",
    "is.matrix(z[,,1])"
   ]
  },
  {
   "cell_type": "markdown",
   "id": "2b8a64ea",
   "metadata": {},
   "source": [
    "## Lists"
   ]
  },
  {
   "cell_type": "markdown",
   "id": "6c983e3c",
   "metadata": {},
   "source": [
    "A list is a collection of R objects. __list__ creates a list. __unlist__ transform a list into a vector. The objects in a list do not have to be of the same type or length. "
   ]
  },
  {
   "cell_type": "code",
   "execution_count": 38,
   "id": "683fa838",
   "metadata": {},
   "outputs": [
    {
     "name": "stdout",
     "output_type": "stream",
     "text": [
      "[[1]]\n",
      "[1] 1 2 3 4\n",
      "\n",
      "[[2]]\n",
      "[1] FALSE\n",
      "\n",
      "[[3]]\n",
      "     [,1] [,2]\n",
      "[1,]    1    3\n",
      "[2,]    2    4\n",
      "\n"
     ]
    }
   ],
   "source": [
    "x <- c(1:4)\n",
    "y <- FALSE\n",
    "z <- matrix(c(1:4),nrow=2,ncol=2)\n",
    "myList <- list(x,y,z)\n",
    "print(myList)"
   ]
  },
  {
   "cell_type": "markdown",
   "id": "caee1a0c",
   "metadata": {},
   "source": [
    "Lists have very flexible methods for reference\n",
    "- by index number :\n",
    "\n",
    "Notice the use of __[[ ]]__"
   ]
  },
  {
   "cell_type": "code",
   "execution_count": 39,
   "id": "f85eb1ba",
   "metadata": {},
   "outputs": [
    {
     "name": "stdout",
     "output_type": "stream",
     "text": [
      "[[1]]\n",
      "[1] \"A\"\n",
      "\n",
      "[[1]]\n",
      "[1] \"A\"\n",
      "\n",
      "[[2]]\n",
      "[1] \"B\"\n",
      "\n"
     ]
    }
   ],
   "source": [
    "a <- list()\n",
    "a[[1]] = \"A\"\n",
    "print(a)\n",
    "a[[2]]=\"B\"\n",
    "print(a)"
   ]
  },
  {
   "cell_type": "markdown",
   "id": "5364d264",
   "metadata": {},
   "source": [
    "- by name"
   ]
  },
  {
   "cell_type": "code",
   "execution_count": 40,
   "id": "3df2cd9c",
   "metadata": {},
   "outputs": [
    {
     "name": "stdout",
     "output_type": "stream",
     "text": [
      "[[1]]\n",
      "[1] \"A\"\n",
      "\n",
      "[[2]]\n",
      "[1] \"B\"\n",
      "\n",
      "$fruit\n",
      "[1] \"Apple\"\n",
      "\n",
      "$color\n",
      "[1] \"green\"\n",
      "\n"
     ]
    }
   ],
   "source": [
    "a$fruit = \"Apple\"\n",
    "a$color = \"green\"\n",
    "print(a)"
   ]
  },
  {
   "cell_type": "markdown",
   "id": "6e6885ac",
   "metadata": {},
   "source": [
    "Lists are recursive data structres !!"
   ]
  },
  {
   "cell_type": "code",
   "execution_count": 41,
   "id": "53ca4d51",
   "metadata": {},
   "outputs": [
    {
     "name": "stdout",
     "output_type": "stream",
     "text": [
      "[[1]]\n",
      "[1] \"hello\"\n",
      "\n",
      "[[2]]\n",
      "[[2]][[1]]\n",
      "[1] 1 2 3\n",
      "\n",
      "[[2]]$message\n",
      "[1] \"hi !!\"\n",
      "\n",
      "\n"
     ]
    }
   ],
   "source": [
    "a <- list()\n",
    "a[[1]] <- \"hello\"\n",
    "a[[2]] <- list(c(1,2,3))\n",
    "a[[2]]$message <- \"hi !!\"\n",
    "print(a)"
   ]
  },
  {
   "cell_type": "markdown",
   "id": "bdeb5f80",
   "metadata": {},
   "source": [
    "### <u>Exercise 6</u>\n",
    "\n",
    "What would you expect the output of the following to be ?"
   ]
  },
  {
   "cell_type": "code",
   "execution_count": 42,
   "id": "145fe767",
   "metadata": {
    "editable": true,
    "slideshow": {
     "slide_type": ""
    },
    "tags": [
     "hide-output"
    ]
   },
   "outputs": [
    {
     "name": "stdout",
     "output_type": "stream",
     "text": [
      "[1] \"hi !!\"\n"
     ]
    }
   ],
   "source": [
    "print(a[[2]][[2]])\n"
   ]
  },
  {
   "cell_type": "code",
   "execution_count": 43,
   "id": "93511b4b",
   "metadata": {
    "editable": true,
    "slideshow": {
     "slide_type": ""
    },
    "tags": [
     "hide-output"
    ]
   },
   "outputs": [
    {
     "name": "stdout",
     "output_type": "stream",
     "text": [
      "[1] 2\n"
     ]
    }
   ],
   "source": [
    "print(a[[2]][[1]][2])"
   ]
  },
  {
   "cell_type": "code",
   "execution_count": 44,
   "id": "825e39c8",
   "metadata": {
    "editable": true,
    "slideshow": {
     "slide_type": ""
    },
    "tags": [
     "hide-output"
    ]
   },
   "outputs": [
    {
     "name": "stdout",
     "output_type": "stream",
     "text": [
      "[[1]]\n",
      "[[1]][[1]]\n",
      "[1] 1 2 3\n",
      "\n",
      "[[1]]$message\n",
      "[1] \"hi !!\"\n",
      "\n",
      "\n"
     ]
    }
   ],
   "source": [
    "print(a[2])"
   ]
  },
  {
   "cell_type": "code",
   "execution_count": 45,
   "id": "142cc3e0",
   "metadata": {
    "editable": true,
    "slideshow": {
     "slide_type": ""
    },
    "tags": [
     "hide-output"
    ]
   },
   "outputs": [
    {
     "name": "stdout",
     "output_type": "stream",
     "text": [
      "[[1]]\n",
      "[1] 1 2 3\n",
      "\n",
      "$message\n",
      "[1] \"hi !!\"\n",
      "\n"
     ]
    }
   ],
   "source": [
    "print(a[[2]])"
   ]
  },
  {
   "cell_type": "markdown",
   "id": "f712ef50",
   "metadata": {},
   "source": [
    "Confused !! Not surprising. Lists are recursive and inhomogenous - a tricky combination !! The key thing here is that __[[ ]]__ returns a single __item__ from a list and __[ ]__ returns a __list__ containing\n",
    "the elements indicated in the __[ ]__. For example"
   ]
  },
  {
   "cell_type": "code",
   "execution_count": 46,
   "id": "94f007eb",
   "metadata": {},
   "outputs": [
    {
     "data": {
      "text/html": [
       "<ol>\n",
       "\t<li><style>\n",
       ".list-inline {list-style: none; margin:0; padding: 0}\n",
       ".list-inline>li {display: inline-block}\n",
       ".list-inline>li:not(:last-child)::after {content: \"\\00b7\"; padding: 0 .5ex}\n",
       "</style>\n",
       "<ol class=list-inline><li>1</li><li>2</li><li>3</li></ol>\n",
       "</li>\n",
       "\t<li>'a'</li>\n",
       "</ol>\n"
      ],
      "text/latex": [
       "\\begin{enumerate}\n",
       "\\item \\begin{enumerate*}\n",
       "\\item 1\n",
       "\\item 2\n",
       "\\item 3\n",
       "\\end{enumerate*}\n",
       "\n",
       "\\item 'a'\n",
       "\\end{enumerate}\n"
      ],
      "text/markdown": [
       "1. 1. 1\n",
       "2. 2\n",
       "3. 3\n",
       "\n",
       "\n",
       "\n",
       "2. 'a'\n",
       "\n",
       "\n"
      ],
      "text/plain": [
       "[[1]]\n",
       "[1] 1 2 3\n",
       "\n",
       "[[2]]\n",
       "[1] \"a\"\n"
      ]
     },
     "metadata": {},
     "output_type": "display_data"
    },
    {
     "data": {
      "text/html": [
       "'a'"
      ],
      "text/latex": [
       "'a'"
      ],
      "text/markdown": [
       "'a'"
      ],
      "text/plain": [
       "[1] \"a\""
      ]
     },
     "metadata": {},
     "output_type": "display_data"
    },
    {
     "data": {
      "text/html": [
       "<ol>\n",
       "\t<li>4</li>\n",
       "\t<li>5</li>\n",
       "\t<li>6</li>\n",
       "</ol>\n"
      ],
      "text/latex": [
       "\\begin{enumerate}\n",
       "\\item 4\n",
       "\\item 5\n",
       "\\item 6\n",
       "\\end{enumerate}\n"
      ],
      "text/markdown": [
       "1. 4\n",
       "2. 5\n",
       "3. 6\n",
       "\n",
       "\n"
      ],
      "text/plain": [
       "[[1]]\n",
       "[1] 4\n",
       "\n",
       "[[2]]\n",
       "[1] 5\n",
       "\n",
       "[[3]]\n",
       "[1] 6\n"
      ]
     },
     "metadata": {},
     "output_type": "display_data"
    },
    {
     "data": {
      "text/html": [
       "<ol>\n",
       "\t<li><ol>\n",
       "\t<li>4</li>\n",
       "\t<li>5</li>\n",
       "\t<li>6</li>\n",
       "</ol>\n",
       "</li>\n",
       "</ol>\n"
      ],
      "text/latex": [
       "\\begin{enumerate}\n",
       "\\item \\begin{enumerate}\n",
       "\\item 4\n",
       "\\item 5\n",
       "\\item 6\n",
       "\\end{enumerate}\n",
       "\n",
       "\\end{enumerate}\n"
      ],
      "text/markdown": [
       "1. 1. 4\n",
       "2. 5\n",
       "3. 6\n",
       "\n",
       "\n",
       "\n",
       "\n",
       "\n"
      ],
      "text/plain": [
       "[[1]]\n",
       "[[1]][[1]]\n",
       "[1] 4\n",
       "\n",
       "[[1]][[2]]\n",
       "[1] 5\n",
       "\n",
       "[[1]][[3]]\n",
       "[1] 6\n",
       "\n"
      ]
     },
     "metadata": {},
     "output_type": "display_data"
    }
   ],
   "source": [
    "x <- list(1:3, \"a\", 4:6,list(4,5,6)) # x is a list with three items\n",
    "x[1:2] # this prints a LIST containg the the first 2 items of list x\n",
    "x[[2]] # this is the second ITEM contained in x - in this case, this is NOT a list\n",
    "x[[4]] # this returns the fourth ITEM in the list x, which happens to be a list\n",
    "x[4] # this returns a LIST containg the fourth item x - which is a LIST !! i.e x[4] is a list containing a list"
   ]
  },
  {
   "cell_type": "markdown",
   "id": "3d8a6014",
   "metadata": {},
   "source": [
    "If you are still confused - take a look at the following link to a useful section of [Advanced R](https://adv-r.hadley.nz/subsetting.html) by Hadley Wickham."
   ]
  },
  {
   "cell_type": "markdown",
   "id": "19d7e181",
   "metadata": {},
   "source": [
    "### <u>Exercise 7</u>\n",
    "\n",
    "What is a recursive data structure ?\n",
    "Do you know of any other types of recursive data structures other than a list ?"
   ]
  },
  {
   "cell_type": "markdown",
   "id": "bbd58510",
   "metadata": {},
   "source": [
    "## Data frames"
   ]
  },
  {
   "cell_type": "markdown",
   "id": "4c355752",
   "metadata": {},
   "source": [
    "A dataframe has been referred to as \"a list of variables/vectors of the same length\". In the following example, a dataframe of two vectors is created, each of five elements. The first vector, v1, is composed of a sequence of the integers 1 through 5. A second vector, v2, is composed of five logical values drawn of type T and F. The dataframe is then created, composed of the vectors. The columns of the data frame can be accessed using integer subscripts or the column name and the __$__ symbol. "
   ]
  },
  {
   "cell_type": "code",
   "execution_count": 47,
   "id": "a75f8772",
   "metadata": {},
   "outputs": [
    {
     "name": "stdout",
     "output_type": "stream",
     "text": [
      "  v1    v2\n",
      "1  1  TRUE\n",
      "2  2  TRUE\n",
      "3  3 FALSE\n",
      "4  4 FALSE\n",
      "5  5  TRUE\n"
     ]
    },
    {
     "data": {
      "text/html": [
       "<style>\n",
       ".list-inline {list-style: none; margin:0; padding: 0}\n",
       ".list-inline>li {display: inline-block}\n",
       ".list-inline>li:not(:last-child)::after {content: \"\\00b7\"; padding: 0 .5ex}\n",
       "</style>\n",
       "<ol class=list-inline><li>1</li><li>2</li><li>3</li><li>4</li><li>5</li></ol>\n"
      ],
      "text/latex": [
       "\\begin{enumerate*}\n",
       "\\item 1\n",
       "\\item 2\n",
       "\\item 3\n",
       "\\item 4\n",
       "\\item 5\n",
       "\\end{enumerate*}\n"
      ],
      "text/markdown": [
       "1. 1\n",
       "2. 2\n",
       "3. 3\n",
       "4. 4\n",
       "5. 5\n",
       "\n",
       "\n"
      ],
      "text/plain": [
       "[1] 1 2 3 4 5"
      ]
     },
     "metadata": {},
     "output_type": "display_data"
    },
    {
     "data": {
      "text/html": [
       "<style>\n",
       ".list-inline {list-style: none; margin:0; padding: 0}\n",
       ".list-inline>li {display: inline-block}\n",
       ".list-inline>li:not(:last-child)::after {content: \"\\00b7\"; padding: 0 .5ex}\n",
       "</style>\n",
       "<ol class=list-inline><li>TRUE</li><li>TRUE</li><li>FALSE</li><li>FALSE</li><li>TRUE</li></ol>\n"
      ],
      "text/latex": [
       "\\begin{enumerate*}\n",
       "\\item TRUE\n",
       "\\item TRUE\n",
       "\\item FALSE\n",
       "\\item FALSE\n",
       "\\item TRUE\n",
       "\\end{enumerate*}\n"
      ],
      "text/markdown": [
       "1. TRUE\n",
       "2. TRUE\n",
       "3. FALSE\n",
       "4. FALSE\n",
       "5. TRUE\n",
       "\n",
       "\n"
      ],
      "text/plain": [
       "[1]  TRUE  TRUE FALSE FALSE  TRUE"
      ]
     },
     "metadata": {},
     "output_type": "display_data"
    }
   ],
   "source": [
    "v1 <- 1:5\n",
    "v2 <- c(T,T,F,F,T)\n",
    "df <- data.frame(v1,v2)\n",
    "print(df)\n",
    "df[,1]\n",
    "df$v2"
   ]
  },
  {
   "cell_type": "markdown",
   "id": "72e11bc6",
   "metadata": {},
   "source": [
    "The dataframe may be created directly. In the following code, the dataframe is created - naming each vector composing the dataframe as part of the argument list. "
   ]
  },
  {
   "cell_type": "code",
   "execution_count": 48,
   "id": "3cdfd619",
   "metadata": {},
   "outputs": [
    {
     "name": "stdout",
     "output_type": "stream",
     "text": [
      "  foo   bar\n",
      "1   1  TRUE\n",
      "2   2  TRUE\n",
      "3   3 FALSE\n",
      "4   4 FALSE\n",
      "5   5  TRUE\n"
     ]
    }
   ],
   "source": [
    "df <- data.frame(foo=1:5,bar=c(T,T,F,F,T))\n",
    "print(df)"
   ]
  },
  {
   "cell_type": "markdown",
   "id": "decba128",
   "metadata": {},
   "source": [
    "Note - the rows of a data frame can be inhomogenous, the columns are homogenous."
   ]
  }
 ],
 "metadata": {
  "celltoolbar": "Edit Metadata",
  "kernelspec": {
   "display_name": "R",
   "language": "R",
   "name": "ir"
  },
  "language_info": {
   "codemirror_mode": "r",
   "file_extension": ".r",
   "mimetype": "text/x-r-source",
   "name": "R",
   "pygments_lexer": "r",
   "version": "4.3.3"
  }
 },
 "nbformat": 4,
 "nbformat_minor": 5
}
