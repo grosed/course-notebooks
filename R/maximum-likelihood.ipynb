{
 "cells": [
  {
   "cell_type": "markdown",
   "id": "33141e98",
   "metadata": {
    "editable": true,
    "slideshow": {
     "slide_type": ""
    },
    "tags": []
   },
   "source": [
    "# Maximum Likelihood"
   ]
  },
  {
   "cell_type": "markdown",
   "id": "731a372b",
   "metadata": {},
   "source": [
    "This section is based on the [R programming wikibook](https://en.wikibooks.org/wiki/R_Programming/Maximum_Likelihood) "
   ]
  },
  {
   "cell_type": "markdown",
   "id": "6ae06898",
   "metadata": {},
   "source": [
    "## Introduction"
   ]
  },
  {
   "cell_type": "markdown",
   "id": "29f807fb",
   "metadata": {},
   "source": [
    "\n",
    "Maximum likelihood estimation is just an optimization problem. You have to write down your log likelihood function and use some optimization technique. Sometimes you also need to write your score (the first derivative of the log likelihood) and or the hessian (the second derivative of the log likelihood). "
   ]
  },
  {
   "cell_type": "markdown",
   "id": "cb3421c8",
   "metadata": {},
   "source": [
    "## One dimension"
   ]
  },
  {
   "cell_type": "markdown",
   "id": "33ea175c",
   "metadata": {},
   "source": [
    "\n",
    "If there is only one parameter, then the log likelihood can be optimised using the __optimize__ function.\n"
   ]
  },
  {
   "cell_type": "markdown",
   "id": "9fab97da",
   "metadata": {},
   "source": [
    "### <u>Example 1</u> - Type 1 Pareto distribution"
   ]
  },
  {
   "cell_type": "markdown",
   "id": "9e60221b",
   "metadata": {},
   "source": [
    "Note that in this example the minimum value is treated as known and is not estimated. Therefore this is a one-dimensional problem.\n",
    "\n",
    "The __rpareto1__ function from the __actuar__ package is used to generate a random vector from a type 1 Pareto distribution with shape equal to 1 and minimum value equal to 500. The __dpareto1__ function, also from the __actuar__ package , is used  with option log = TRUE to write the log likelihood. Finally, __optimize__ is used with maximum=TRUE and a minimum and maximum value for the parameter is provided using the the interval option."
   ]
  },
  {
   "cell_type": "markdown",
   "id": "77b12127",
   "metadata": {},
   "source": [
    "First, install the __actuar__ package."
   ]
  },
  {
   "cell_type": "code",
   "execution_count": 1,
   "id": "623184c2",
   "metadata": {},
   "outputs": [
    {
     "name": "stderr",
     "output_type": "stream",
     "text": [
      "Installing package into ‘/home/grosed/R-notes-env/R-packages’\n",
      "(as ‘lib’ is unspecified)\n",
      "\n"
     ]
    }
   ],
   "source": [
    "install.packages(\"actuar\")"
   ]
  },
  {
   "cell_type": "code",
   "execution_count": 2,
   "id": "910072b0",
   "metadata": {},
   "outputs": [
    {
     "name": "stderr",
     "output_type": "stream",
     "text": [
      "\n",
      "Attaching package: ‘actuar’\n",
      "\n",
      "\n",
      "The following objects are masked from ‘package:stats’:\n",
      "\n",
      "    sd, var\n",
      "\n",
      "\n",
      "The following object is masked from ‘package:grDevices’:\n",
      "\n",
      "    cm\n",
      "\n",
      "\n"
     ]
    },
    {
     "data": {
      "text/html": [
       "<dl>\n",
       "\t<dt>$maximum</dt>\n",
       "\t\t<dd>1.03197076663275</dd>\n",
       "\t<dt>$objective</dt>\n",
       "\t\t<dd>-8152.23734378185</dd>\n",
       "</dl>\n"
      ],
      "text/latex": [
       "\\begin{description}\n",
       "\\item[\\$maximum] 1.03197076663275\n",
       "\\item[\\$objective] -8152.23734378185\n",
       "\\end{description}\n"
      ],
      "text/markdown": [
       "$maximum\n",
       ":   1.03197076663275\n",
       "$objective\n",
       ":   -8152.23734378185\n",
       "\n",
       "\n"
      ],
      "text/plain": [
       "$maximum\n",
       "[1] 1.031971\n",
       "\n",
       "$objective\n",
       "[1] -8152.237\n"
      ]
     },
     "metadata": {},
     "output_type": "display_data"
    }
   ],
   "source": [
    "library(actuar)\n",
    "y <- rpareto1(1000, shape = 1, min = 500)\n",
    "ll <- function(mu, x) \n",
    "{\n",
    "    sum(dpareto1(x,mu[1],min = min(x),log = TRUE)) \n",
    "} \n",
    "optimize(f = ll, x = y, interval = c(0,10), maximum = TRUE)\n"
   ]
  },
  {
   "cell_type": "markdown",
   "id": "640ec94d",
   "metadata": {
    "editable": true,
    "slideshow": {
     "slide_type": ""
    },
    "tags": []
   },
   "source": [
    "### <u>Exercise 1</u>\n",
    "\n",
    "Find out more about the __optimize__ function."
   ]
  },
  {
   "cell_type": "code",
   "execution_count": 3,
   "id": "374bbee9",
   "metadata": {
    "editable": true,
    "slideshow": {
     "slide_type": ""
    },
    "tags": [
     "hide-input",
     "hide-output"
    ]
   },
   "outputs": [
    {
     "data": {
      "text/html": [
       "\n",
       "<table style=\"width: 100%;\"><tr><td>optimize {stats}</td><td style=\"text-align: right;\">R Documentation</td></tr></table>\n",
       "\n",
       "<h2 id='optimize'>One Dimensional Optimization</h2>\n",
       "\n",
       "<h3>Description</h3>\n",
       "\n",
       "<p>The function <code>optimize</code> searches the interval from\n",
       "<code>lower</code> to <code>upper</code> for a minimum or maximum of\n",
       "the function <code>f</code> with respect to its first argument.\n",
       "</p>\n",
       "<p><code>optimise</code> is an alias for <code>optimize</code>.\n",
       "</p>\n",
       "\n",
       "\n",
       "<h3>Usage</h3>\n",
       "\n",
       "<pre><code class='language-R'>optimize(f, interval, ..., lower = min(interval), upper = max(interval),\n",
       "         maximum = FALSE,\n",
       "         tol = .Machine$double.eps^0.25)\n",
       "optimise(f, interval, ..., lower = min(interval), upper = max(interval),\n",
       "         maximum = FALSE,\n",
       "         tol = .Machine$double.eps^0.25)\n",
       "</code></pre>\n",
       "\n",
       "\n",
       "<h3>Arguments</h3>\n",
       "\n",
       "<table>\n",
       "<tr><td><code id=\"optimize_:_f\">f</code></td>\n",
       "<td>\n",
       "<p>the function to be optimized.  The function is\n",
       "either minimized or maximized over its first argument\n",
       "depending on the value of <code>maximum</code>.</p>\n",
       "</td></tr>\n",
       "<tr><td><code id=\"optimize_:_interval\">interval</code></td>\n",
       "<td>\n",
       "<p>a vector containing the end-points of the interval\n",
       "to be searched for the minimum.</p>\n",
       "</td></tr>\n",
       "<tr><td><code id=\"optimize_:_...\">...</code></td>\n",
       "<td>\n",
       "<p>additional named or unnamed arguments to be passed\n",
       "to <code>f</code>.</p>\n",
       "</td></tr>\n",
       "<tr><td><code id=\"optimize_:_lower\">lower</code></td>\n",
       "<td>\n",
       "<p>the lower end point of the interval\n",
       "to be searched.</p>\n",
       "</td></tr>\n",
       "<tr><td><code id=\"optimize_:_upper\">upper</code></td>\n",
       "<td>\n",
       "<p>the upper end point of the interval\n",
       "to be searched.</p>\n",
       "</td></tr>\n",
       "<tr><td><code id=\"optimize_:_maximum\">maximum</code></td>\n",
       "<td>\n",
       "<p>logical.  Should we maximize or minimize (the default)?</p>\n",
       "</td></tr>\n",
       "<tr><td><code id=\"optimize_:_tol\">tol</code></td>\n",
       "<td>\n",
       "<p>the desired accuracy.</p>\n",
       "</td></tr>\n",
       "</table>\n",
       "\n",
       "\n",
       "<h3>Details</h3>\n",
       "\n",
       "<p>Note that arguments after <code>...</code> must be matched exactly.\n",
       "</p>\n",
       "<p>The method used is a combination of golden section search and\n",
       "successive parabolic interpolation, and was designed for use with\n",
       "continuous functions.  Convergence is never much slower\n",
       "than that for a Fibonacci search.  If <code>f</code> has a continuous second\n",
       "derivative which is positive at the minimum (which is not at <code>lower</code> or\n",
       "<code>upper</code>), then convergence is superlinear, and usually of the\n",
       "order of about 1.324.\n",
       "</p>\n",
       "<p>The function <code>f</code> is never evaluated at two points closer together\n",
       "than <code class=\"reqn\">\\epsilon</code><code class=\"reqn\"> |x_0| + (tol/3)</code>, where\n",
       "<code class=\"reqn\">\\epsilon</code> is approximately <code>sqrt(.Machine$double.eps)</code>\n",
       "and <code class=\"reqn\">x_0</code> is the final abscissa <code>optimize()$minimum</code>.<br />\n",
       "If <code>f</code> is a unimodal function and the computed values of <code>f</code>\n",
       "are always unimodal when separated by at least <code class=\"reqn\">\\epsilon</code>\n",
       "<code class=\"reqn\"> |x| + (tol/3)</code>, then <code class=\"reqn\">x_0</code> approximates the abscissa of the\n",
       "global minimum of <code>f</code> on the interval <code>lower,upper</code> with an\n",
       "error less than <code class=\"reqn\">\\epsilon</code><code class=\"reqn\"> |x_0|+ tol</code>.<br />\n",
       "If <code>f</code> is not unimodal, then <code>optimize()</code> may approximate a\n",
       "local, but perhaps non-global, minimum to the same accuracy.\n",
       "</p>\n",
       "<p>The first evaluation of <code>f</code> is always at\n",
       "<code class=\"reqn\">x_1 = a + (1-\\phi)(b-a)</code> where <code>(a,b) = (lower, upper)</code> and\n",
       "<code class=\"reqn\">\\phi = (\\sqrt 5 - 1)/2 = 0.61803..</code>\n",
       "is the golden section ratio.\n",
       "Almost always, the second evaluation is at\n",
       "<code class=\"reqn\">x_2 = a + \\phi(b-a)</code>.\n",
       "Note that a local minimum inside <code class=\"reqn\">[x_1,x_2]</code> will be found as\n",
       "solution, even when <code>f</code> is constant in there, see the last\n",
       "example.\n",
       "</p>\n",
       "<p><code>f</code> will be called as <code>f(<var>x</var>, ...)</code> for a numeric value\n",
       "of <var>x</var>.\n",
       "</p>\n",
       "<p>The argument passed to <code>f</code> has special semantics and used to be\n",
       "shared between calls.  The function should not copy it.\n",
       "</p>\n",
       "\n",
       "\n",
       "<h3>Value</h3>\n",
       "\n",
       "<p>A list with components <code>minimum</code> (or <code>maximum</code>)\n",
       "and <code>objective</code> which give the location of the minimum (or maximum)\n",
       "and the value of the function at that point.\n",
       "</p>\n",
       "\n",
       "\n",
       "<h3>Source</h3>\n",
       "\n",
       "<p>A C translation of Fortran code <a href=\"https://netlib.org/fmm/fmin.f\">https://netlib.org/fmm/fmin.f</a>\n",
       "(author(s) unstated)\n",
       "based on the Algol 60 procedure <code>localmin</code> given in the reference.\n",
       "</p>\n",
       "\n",
       "\n",
       "<h3>References</h3>\n",
       "\n",
       "<p>Brent, R. (1973)\n",
       "<em>Algorithms for Minimization without Derivatives.</em>\n",
       "Englewood Cliffs N.J.: Prentice-Hall.\n",
       "</p>\n",
       "\n",
       "\n",
       "<h3>See Also</h3>\n",
       "\n",
       "<p><code>nlm</code>, <code>uniroot</code>.\n",
       "</p>\n",
       "\n",
       "\n",
       "<h3>Examples</h3>\n",
       "\n",
       "<pre><code class='language-R'>require(graphics)\n",
       "\n",
       "f &lt;- function (x, a) (x - a)^2\n",
       "xmin &lt;- optimize(f, c(0, 1), tol = 0.0001, a = 1/3)\n",
       "xmin\n",
       "\n",
       "## See where the function is evaluated:\n",
       "optimize(function(x) x^2*(print(x)-1), lower = 0, upper = 10)\n",
       "\n",
       "## \"wrong\" solution with unlucky interval and piecewise constant f():\n",
       "f  &lt;- function(x) ifelse(x &gt; -1, ifelse(x &lt; 4, exp(-1/abs(x - 1)), 10), 10)\n",
       "fp &lt;- function(x) { print(x); f(x) }\n",
       "\n",
       "plot(f, -2,5, ylim = 0:1, col = 2)\n",
       "optimize(fp, c(-4, 20))   # doesn't see the minimum\n",
       "optimize(fp, c(-7, 20))   # ok\n",
       "</code></pre>\n",
       "\n",
       "<hr /><div style=\"text-align: center;\">[Package <em>stats</em> version 4.3.3 ]</div>\n",
       "</div>"
      ],
      "text/latex": [
       "\\inputencoding{utf8}\n",
       "\\HeaderA{optimize}{One Dimensional Optimization}{optimize}\n",
       "\\aliasA{optimise}{optimize}{optimise}\n",
       "\\keyword{optimize}{optimize}\n",
       "%\n",
       "\\begin{Description}\n",
       "The function \\code{optimize} searches the interval from\n",
       "\\code{lower} to \\code{upper} for a minimum or maximum of\n",
       "the function \\code{f} with respect to its first argument.\n",
       "\n",
       "\\code{optimise} is an alias for \\code{optimize}.\n",
       "\\end{Description}\n",
       "%\n",
       "\\begin{Usage}\n",
       "\\begin{verbatim}\n",
       "optimize(f, interval, ..., lower = min(interval), upper = max(interval),\n",
       "         maximum = FALSE,\n",
       "         tol = .Machine$double.eps^0.25)\n",
       "optimise(f, interval, ..., lower = min(interval), upper = max(interval),\n",
       "         maximum = FALSE,\n",
       "         tol = .Machine$double.eps^0.25)\n",
       "\\end{verbatim}\n",
       "\\end{Usage}\n",
       "%\n",
       "\\begin{Arguments}\n",
       "\\begin{ldescription}\n",
       "\\item[\\code{f}] the function to be optimized.  The function is\n",
       "either minimized or maximized over its first argument\n",
       "depending on the value of \\code{maximum}.\n",
       "\\item[\\code{interval}] a vector containing the end-points of the interval\n",
       "to be searched for the minimum.\n",
       "\\item[\\code{...}] additional named or unnamed arguments to be passed\n",
       "to \\code{f}.\n",
       "\\item[\\code{lower}] the lower end point of the interval\n",
       "to be searched.\n",
       "\\item[\\code{upper}] the upper end point of the interval\n",
       "to be searched.\n",
       "\\item[\\code{maximum}] logical.  Should we maximize or minimize (the default)?\n",
       "\\item[\\code{tol}] the desired accuracy.\n",
       "\\end{ldescription}\n",
       "\\end{Arguments}\n",
       "%\n",
       "\\begin{Details}\n",
       "Note that arguments after \\code{...} must be matched exactly.\n",
       "\n",
       "The method used is a combination of golden section search and\n",
       "successive parabolic interpolation, and was designed for use with\n",
       "continuous functions.  Convergence is never much slower\n",
       "than that for a Fibonacci search.  If \\code{f} has a continuous second\n",
       "derivative which is positive at the minimum (which is not at \\code{lower} or\n",
       "\\code{upper}), then convergence is superlinear, and usually of the\n",
       "order of about 1.324.\n",
       "\n",
       "The function \\code{f} is never evaluated at two points closer together\n",
       "than \\eqn{\\epsilon}{}\\eqn{ |x_0| + (tol/3)}{}, where\n",
       "\\eqn{\\epsilon}{} is approximately \\code{sqrt(\\LinkA{.Machine}{.Machine}\\$double.eps)}\n",
       "and \\eqn{x_0}{} is the final abscissa \\code{optimize()\\$minimum}.\\\\{}\n",
       "If \\code{f} is a unimodal function and the computed values of \\code{f}\n",
       "are always unimodal when separated by at least \\eqn{\\epsilon}{}\n",
       "\\eqn{ |x| + (tol/3)}{}, then \\eqn{x_0}{} approximates the abscissa of the\n",
       "global minimum of \\code{f} on the interval \\code{lower,upper} with an\n",
       "error less than \\eqn{\\epsilon}{}\\eqn{ |x_0|+ tol}{}.\\\\{}\n",
       "If \\code{f} is not unimodal, then \\code{optimize()} may approximate a\n",
       "local, but perhaps non-global, minimum to the same accuracy.\n",
       "\n",
       "The first evaluation of \\code{f} is always at\n",
       "\\eqn{x_1 = a + (1-\\phi)(b-a)}{} where \\code{(a,b) = (lower, upper)} and\n",
       "\\eqn{\\phi = (\\sqrt 5 - 1)/2 = 0.61803..}{}\n",
       "is the golden section ratio.\n",
       "Almost always, the second evaluation is at\n",
       "\\eqn{x_2 = a + \\phi(b-a)}{}.\n",
       "Note that a local minimum inside \\eqn{[x_1,x_2]}{} will be found as\n",
       "solution, even when \\code{f} is constant in there, see the last\n",
       "example.\n",
       "\n",
       "\\code{f} will be called as \\code{f(\\var{x}, ...)} for a numeric value\n",
       "of \\var{x}.\n",
       "\n",
       "The argument passed to \\code{f} has special semantics and used to be\n",
       "shared between calls.  The function should not copy it.\n",
       "\\end{Details}\n",
       "%\n",
       "\\begin{Value}\n",
       "A list with components \\code{minimum} (or \\code{maximum})\n",
       "and \\code{objective} which give the location of the minimum (or maximum)\n",
       "and the value of the function at that point.\n",
       "\\end{Value}\n",
       "%\n",
       "\\begin{Source}\n",
       "A C translation of Fortran code \\url{https://netlib.org/fmm/fmin.f}\n",
       "(author(s) unstated)\n",
       "based on the Algol 60 procedure \\code{localmin} given in the reference.\n",
       "\\end{Source}\n",
       "%\n",
       "\\begin{References}\n",
       "Brent, R. (1973)\n",
       "\\emph{Algorithms for Minimization without Derivatives.}\n",
       "Englewood Cliffs N.J.: Prentice-Hall.\n",
       "\\end{References}\n",
       "%\n",
       "\\begin{SeeAlso}\n",
       "\\code{\\LinkA{nlm}{nlm}}, \\code{\\LinkA{uniroot}{uniroot}}.\n",
       "\\end{SeeAlso}\n",
       "%\n",
       "\\begin{Examples}\n",
       "\\begin{ExampleCode}\n",
       "require(graphics)\n",
       "\n",
       "f <- function (x, a) (x - a)^2\n",
       "xmin <- optimize(f, c(0, 1), tol = 0.0001, a = 1/3)\n",
       "xmin\n",
       "\n",
       "## See where the function is evaluated:\n",
       "optimize(function(x) x^2*(print(x)-1), lower = 0, upper = 10)\n",
       "\n",
       "## \"wrong\" solution with unlucky interval and piecewise constant f():\n",
       "f  <- function(x) ifelse(x > -1, ifelse(x < 4, exp(-1/abs(x - 1)), 10), 10)\n",
       "fp <- function(x) { print(x); f(x) }\n",
       "\n",
       "plot(f, -2,5, ylim = 0:1, col = 2)\n",
       "optimize(fp, c(-4, 20))   # doesn't see the minimum\n",
       "optimize(fp, c(-7, 20))   # ok\n",
       "\\end{ExampleCode}\n",
       "\\end{Examples}"
      ],
      "text/plain": [
       "optimize                 package:stats                 R Documentation\n",
       "\n",
       "_\bO_\bn_\be _\bD_\bi_\bm_\be_\bn_\bs_\bi_\bo_\bn_\ba_\bl _\bO_\bp_\bt_\bi_\bm_\bi_\bz_\ba_\bt_\bi_\bo_\bn\n",
       "\n",
       "_\bD_\be_\bs_\bc_\br_\bi_\bp_\bt_\bi_\bo_\bn:\n",
       "\n",
       "     The function ‘optimize’ searches the interval from ‘lower’ to\n",
       "     ‘upper’ for a minimum or maximum of the function ‘f’ with respect\n",
       "     to its first argument.\n",
       "\n",
       "     ‘optimise’ is an alias for ‘optimize’.\n",
       "\n",
       "_\bU_\bs_\ba_\bg_\be:\n",
       "\n",
       "     optimize(f, interval, ..., lower = min(interval), upper = max(interval),\n",
       "              maximum = FALSE,\n",
       "              tol = .Machine$double.eps^0.25)\n",
       "     optimise(f, interval, ..., lower = min(interval), upper = max(interval),\n",
       "              maximum = FALSE,\n",
       "              tol = .Machine$double.eps^0.25)\n",
       "     \n",
       "_\bA_\br_\bg_\bu_\bm_\be_\bn_\bt_\bs:\n",
       "\n",
       "       f: the function to be optimized.  The function is either\n",
       "          minimized or maximized over its first argument depending on\n",
       "          the value of ‘maximum’.\n",
       "\n",
       "interval: a vector containing the end-points of the interval to be\n",
       "          searched for the minimum.\n",
       "\n",
       "     ...: additional named or unnamed arguments to be passed to ‘f’.\n",
       "\n",
       "   lower: the lower end point of the interval to be searched.\n",
       "\n",
       "   upper: the upper end point of the interval to be searched.\n",
       "\n",
       " maximum: logical.  Should we maximize or minimize (the default)?\n",
       "\n",
       "     tol: the desired accuracy.\n",
       "\n",
       "_\bD_\be_\bt_\ba_\bi_\bl_\bs:\n",
       "\n",
       "     Note that arguments after ‘...’ must be matched exactly.\n",
       "\n",
       "     The method used is a combination of golden section search and\n",
       "     successive parabolic interpolation, and was designed for use with\n",
       "     continuous functions.  Convergence is never much slower than that\n",
       "     for a Fibonacci search.  If ‘f’ has a continuous second derivative\n",
       "     which is positive at the minimum (which is not at ‘lower’ or\n",
       "     ‘upper’), then convergence is superlinear, and usually of the\n",
       "     order of about 1.324.\n",
       "\n",
       "     The function ‘f’ is never evaluated at two points closer together\n",
       "     than eps * |x_0| + (tol/3), where eps is approximately\n",
       "     ‘sqrt(.Machine$double.eps)’ and x_0 is the final abscissa\n",
       "     ‘optimize()$minimum’.\n",
       "     If ‘f’ is a unimodal function and the computed values of ‘f’ are\n",
       "     always unimodal when separated by at least eps * |x| + (tol/3),\n",
       "     then x_0 approximates the abscissa of the global minimum of ‘f’ on\n",
       "     the interval ‘lower,upper’ with an error less than eps * |x_0|+\n",
       "     tol.\n",
       "     If ‘f’ is not unimodal, then ‘optimize()’ may approximate a local,\n",
       "     but perhaps non-global, minimum to the same accuracy.\n",
       "\n",
       "     The first evaluation of ‘f’ is always at x_1 = a + (1-phi)(b-a)\n",
       "     where ‘(a,b) = (lower, upper)’ and phi = (sqrt(5) - 1)/2 =\n",
       "     0.61803..  is the golden section ratio.  Almost always, the second\n",
       "     evaluation is at x_2 = a + phi(b-a).  Note that a local minimum\n",
       "     inside [x_1,x_2] will be found as solution, even when ‘f’ is\n",
       "     constant in there, see the last example.\n",
       "\n",
       "     ‘f’ will be called as ‘f(x, ...)’ for a numeric value of x.\n",
       "\n",
       "     The argument passed to ‘f’ has special semantics and used to be\n",
       "     shared between calls.  The function should not copy it.\n",
       "\n",
       "_\bV_\ba_\bl_\bu_\be:\n",
       "\n",
       "     A list with components ‘minimum’ (or ‘maximum’) and ‘objective’\n",
       "     which give the location of the minimum (or maximum) and the value\n",
       "     of the function at that point.\n",
       "\n",
       "_\bS_\bo_\bu_\br_\bc_\be:\n",
       "\n",
       "     A C translation of Fortran code <https://netlib.org/fmm/fmin.f>\n",
       "     (author(s) unstated) based on the Algol 60 procedure ‘localmin’\n",
       "     given in the reference.\n",
       "\n",
       "_\bR_\be_\bf_\be_\br_\be_\bn_\bc_\be_\bs:\n",
       "\n",
       "     Brent, R. (1973) _Algorithms for Minimization without\n",
       "     Derivatives._ Englewood Cliffs N.J.: Prentice-Hall.\n",
       "\n",
       "_\bS_\be_\be _\bA_\bl_\bs_\bo:\n",
       "\n",
       "     ‘nlm’, ‘uniroot’.\n",
       "\n",
       "_\bE_\bx_\ba_\bm_\bp_\bl_\be_\bs:\n",
       "\n",
       "     require(graphics)\n",
       "     \n",
       "     f <- function (x, a) (x - a)^2\n",
       "     xmin <- optimize(f, c(0, 1), tol = 0.0001, a = 1/3)\n",
       "     xmin\n",
       "     \n",
       "     ## See where the function is evaluated:\n",
       "     optimize(function(x) x^2*(print(x)-1), lower = 0, upper = 10)\n",
       "     \n",
       "     ## \"wrong\" solution with unlucky interval and piecewise constant f():\n",
       "     f  <- function(x) ifelse(x > -1, ifelse(x < 4, exp(-1/abs(x - 1)), 10), 10)\n",
       "     fp <- function(x) { print(x); f(x) }\n",
       "     \n",
       "     plot(f, -2,5, ylim = 0:1, col = 2)\n",
       "     optimize(fp, c(-4, 20))   # doesn't see the minimum\n",
       "     optimize(fp, c(-7, 20))   # ok\n",
       "     "
      ]
     },
     "metadata": {},
     "output_type": "display_data"
    }
   ],
   "source": [
    "help(optimize)"
   ]
  },
  {
   "cell_type": "markdown",
   "id": "1317f7f6",
   "metadata": {},
   "source": [
    "### <u>Exercise 2</u>\n",
    "\n",
    "How could you use the __Curry__ function from the __functional__ package to help organise your functions and parameters for use with __optimize__ ?"
   ]
  },
  {
   "cell_type": "markdown",
   "id": "0a46dd48",
   "metadata": {},
   "source": [
    "### <u>Exercise 3</u>\n",
    "\n",
    "Demonstrate your solution to Exercise 2"
   ]
  },
  {
   "cell_type": "markdown",
   "id": "077a56c3",
   "metadata": {},
   "source": [
    "## Multiple dimensions"
   ]
  },
  {
   "cell_type": "markdown",
   "id": "cd6fe882",
   "metadata": {},
   "source": [
    "For optimising more than one parameter, use the  __optim__ function."
   ]
  },
  {
   "cell_type": "markdown",
   "id": "d76de8d6",
   "metadata": {},
   "source": [
    "### <u>Example 2</u> - Beta distribution"
   ]
  },
  {
   "cell_type": "code",
   "execution_count": 4,
   "id": "c11b4f87",
   "metadata": {},
   "outputs": [
    {
     "name": "stdout",
     "output_type": "stream",
     "text": [
      "$par\n",
      "[1] 2.007479 2.083955\n",
      "\n",
      "$value\n",
      "[1] -132.4766\n",
      "\n",
      "$counts\n",
      "function gradient \n",
      "       9        9 \n",
      "\n",
      "$convergence\n",
      "[1] 0\n",
      "\n",
      "$message\n",
      "[1] \"CONVERGENCE: REL_REDUCTION_OF_F <= FACTR*EPSMCH\"\n",
      "\n"
     ]
    }
   ],
   "source": [
    "y <- rbeta(1000,2,2)\n",
    "loglik <- function(mu, x) \n",
    "{ \n",
    "    sum(-dbeta(x,mu[1],mu[2],log = TRUE)) \n",
    "}  \n",
    "out <- optim(par = c(1,1), fn=loglik,x=y,method = \"L-BFGS-B\",lower=c(0,0))\n",
    "print(out)"
   ]
  },
  {
   "cell_type": "markdown",
   "id": "e3c9e0ad",
   "metadata": {},
   "source": [
    "Note that the runtime of the optimiser can grow with dimension $d$ of the problem (i.e. the number of parameters), and, in general, has complexity $\\mathcal{O}(2^{d})$. Having a function which calculates the jacobian of the objective function can greatly reduce this growth in runtime. To be able to exploit the availability of a function that efficiently computes the jacobian the __optimx__ package can be used. "
   ]
  },
  {
   "cell_type": "markdown",
   "id": "da1cf45f",
   "metadata": {},
   "source": [
    "### <u>Exercise 4</u>\n",
    "\n",
    "Find details of the __optimx__ package and install it."
   ]
  }
 ],
 "metadata": {
  "celltoolbar": "Edit Metadata",
  "kernelspec": {
   "display_name": "R",
   "language": "R",
   "name": "ir"
  },
  "language_info": {
   "codemirror_mode": "r",
   "file_extension": ".r",
   "mimetype": "text/x-r-source",
   "name": "R",
   "pygments_lexer": "r",
   "version": "4.3.3"
  }
 },
 "nbformat": 4,
 "nbformat_minor": 5
}
