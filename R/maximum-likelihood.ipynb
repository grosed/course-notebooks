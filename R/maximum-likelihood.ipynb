{
 "cells": [
  {
   "cell_type": "markdown",
   "id": "33141e98",
   "metadata": {},
   "source": [
    "# Maximum Likelihood"
   ]
  },
  {
   "cell_type": "markdown",
   "id": "731a372b",
   "metadata": {},
   "source": [
    "This section is based on the [R programming wikibook](https://en.wikibooks.org/wiki/R_Programming/Maximum_Likelihood) "
   ]
  },
  {
   "cell_type": "markdown",
   "id": "6ae06898",
   "metadata": {},
   "source": [
    "## Introduction"
   ]
  },
  {
   "cell_type": "markdown",
   "id": "29f807fb",
   "metadata": {},
   "source": [
    "\n",
    "Maximum likelihood estimation is just an optimization problem. You have to write down your log likelihood function and use some optimization technique. Sometimes you also need to write your score (the first derivative of the log likelihood) and or the hessian (the second derivative of the log likelihood). "
   ]
  },
  {
   "cell_type": "markdown",
   "id": "cb3421c8",
   "metadata": {},
   "source": [
    "## One dimension"
   ]
  },
  {
   "cell_type": "markdown",
   "id": "33ea175c",
   "metadata": {},
   "source": [
    "\n",
    "If there is only one parameter, then the log likelihood can be optimised using the __optimize__ function.\n"
   ]
  },
  {
   "cell_type": "markdown",
   "id": "9fab97da",
   "metadata": {},
   "source": [
    "### <u>Example 1</u> - Type 1 Pareto distribution"
   ]
  },
  {
   "cell_type": "markdown",
   "id": "9e60221b",
   "metadata": {},
   "source": [
    "Note that in this example the minimum value is treated as known and is not estimated. Therefore this is a one-dimensional problem.\n",
    "\n",
    "The __rpareto1__ function from the __actuar__ package is used to generate a random vector from a type 1 Pareto distribution with shape equal to 1 and minimum value equal to 500. The __dpareto1__ function, also from the __actuar__ package , is used  with option log = TRUE to write the log likelihood. Finally, __optimize__ is used with maximum=TRUE and a minimum and maximum value for the parameter is provided using the the interval option."
   ]
  },
  {
   "cell_type": "markdown",
   "id": "77b12127",
   "metadata": {},
   "source": [
    "First, install the __actuar__ package."
   ]
  },
  {
   "cell_type": "code",
   "execution_count": 3,
   "id": "623184c2",
   "metadata": {},
   "outputs": [
    {
     "name": "stderr",
     "output_type": "stream",
     "text": [
      "Installing package into ‘/home/grosedj/R-packages’\n",
      "(as ‘lib’ is unspecified)\n",
      "\n",
      "also installing the dependency ‘expint’\n",
      "\n",
      "\n",
      "Warning message in install.packages(\"actuar\"):\n",
      "“installation of package ‘expint’ had non-zero exit status”\n",
      "Warning message in install.packages(\"actuar\"):\n",
      "“installation of package ‘actuar’ had non-zero exit status”\n"
     ]
    }
   ],
   "source": [
    "install.packages(\"actuar\")"
   ]
  },
  {
   "cell_type": "code",
   "execution_count": 7,
   "id": "910072b0",
   "metadata": {},
   "outputs": [
    {
     "data": {
      "text/html": [
       "<dl>\n",
       "\t<dt>$maximum</dt>\n",
       "\t\t<dd>0.994913627524634</dd>\n",
       "\t<dt>$objective</dt>\n",
       "\t\t<dd>-8224.97095728522</dd>\n",
       "</dl>\n"
      ],
      "text/latex": [
       "\\begin{description}\n",
       "\\item[\\$maximum] 0.994913627524634\n",
       "\\item[\\$objective] -8224.97095728522\n",
       "\\end{description}\n"
      ],
      "text/markdown": [
       "$maximum\n",
       ":   0.994913627524634\n",
       "$objective\n",
       ":   -8224.97095728522\n",
       "\n",
       "\n"
      ],
      "text/plain": [
       "$maximum\n",
       "[1] 0.9949136\n",
       "\n",
       "$objective\n",
       "[1] -8224.971\n"
      ]
     },
     "metadata": {},
     "output_type": "display_data"
    }
   ],
   "source": [
    "library(actuar)\n",
    "y <- rpareto1(1000, shape = 1, min = 500)\n",
    "ll <- function(mu, x) \n",
    "{\n",
    "    sum(dpareto1(x,mu[1],min = min(x),log = TRUE)) \n",
    "} \n",
    "optimize(f = ll, x = y, interval = c(0,10), maximum = TRUE)\n"
   ]
  },
  {
   "cell_type": "markdown",
   "id": "640ec94d",
   "metadata": {},
   "source": [
    "### <u>Exercise 1</u>\n",
    "\n",
    "Find out more about the __optimize__ function."
   ]
  },
  {
   "cell_type": "code",
   "execution_count": 8,
   "id": "374bbee9",
   "metadata": {
    "tags": [
     "hide-input"
    ]
   },
   "outputs": [],
   "source": [
    "help(optimize)"
   ]
  },
  {
   "cell_type": "markdown",
   "id": "1317f7f6",
   "metadata": {},
   "source": [
    "### <u>Exercise 2</u>\n",
    "\n",
    "How could you use the __Curry__ function from the __functional__ package to help organise your functions and parameters for use with __optimize__ ?"
   ]
  },
  {
   "cell_type": "markdown",
   "id": "0a46dd48",
   "metadata": {},
   "source": [
    "### <u>Exercise 3</u>\n",
    "\n",
    "Demonstrate your solution to Exercise 2"
   ]
  },
  {
   "cell_type": "markdown",
   "id": "077a56c3",
   "metadata": {},
   "source": [
    "## Multiple dimensions"
   ]
  },
  {
   "cell_type": "markdown",
   "id": "cd6fe882",
   "metadata": {},
   "source": [
    "For optimising more than one parameter, use the  __optim__ function."
   ]
  },
  {
   "cell_type": "markdown",
   "id": "d76de8d6",
   "metadata": {},
   "source": [
    "### <u>Example 2</u> - Beta distribution"
   ]
  },
  {
   "cell_type": "code",
   "execution_count": 14,
   "id": "c11b4f87",
   "metadata": {},
   "outputs": [
    {
     "name": "stdout",
     "output_type": "stream",
     "text": [
      "$par\n",
      "[1] 1.842181 1.849503\n",
      "\n",
      "$value\n",
      "[1] -101.1554\n",
      "\n",
      "$counts\n",
      "function gradient \n",
      "       7        7 \n",
      "\n",
      "$convergence\n",
      "[1] 0\n",
      "\n",
      "$message\n",
      "[1] \"CONVERGENCE: REL_REDUCTION_OF_F <= FACTR*EPSMCH\"\n",
      "\n"
     ]
    }
   ],
   "source": [
    "y <- rbeta(1000,2,2)\n",
    "loglik <- function(mu, x) \n",
    "{ \n",
    "    sum(-dbeta(x,mu[1],mu[2],log = TRUE)) \n",
    "}  \n",
    "out <- optim(par = c(1,1), fn=loglik,x=y,method = \"L-BFGS-B\",lower=c(0,0))\n",
    "print(out)"
   ]
  },
  {
   "cell_type": "markdown",
   "id": "e3c9e0ad",
   "metadata": {},
   "source": [
    "Note that the runtime of the optimiser can grow with dimension $d$ of the problem (i.e. the number of parameters), and, in general, has complexity $\\mathcal{O}(2^{d})$. Having a function which calculates the jacobian of the objective function can greatly reduce this growth in runtime. To be able to exploit the availability of a function that efficiently computes the jacobian the __optimx__ package can be used. "
   ]
  },
  {
   "cell_type": "markdown",
   "id": "da1cf45f",
   "metadata": {},
   "source": [
    "### <u>Exercise 4</u>\n",
    "\n",
    "Find details of the __optimx__ package and install it."
   ]
  }
 ],
 "metadata": {
  "celltoolbar": "Edit Metadata",
  "kernelspec": {
   "display_name": "R",
   "language": "R",
   "name": "ir"
  },
  "language_info": {
   "codemirror_mode": "r",
   "file_extension": ".r",
   "mimetype": "text/x-r-source",
   "name": "R",
   "pygments_lexer": "r",
   "version": "4.1.0"
  }
 },
 "nbformat": 4,
 "nbformat_minor": 5
}
