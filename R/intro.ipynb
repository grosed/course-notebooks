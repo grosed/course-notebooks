{
 "cells": [
  {
   "cell_type": "markdown",
   "id": "bfae36e2-b83c-4249-9256-9fefc3ac8577",
   "metadata": {
    "editable": true,
    "slideshow": {
     "slide_type": ""
    },
    "tags": []
   },
   "source": [
    "# A Short Introduction to Statistical Programming with R"
   ]
  },
  {
   "cell_type": "markdown",
   "id": "30b590c5-28d1-4c42-a7aa-a9ac8e38c64d",
   "metadata": {
    "editable": true,
    "slideshow": {
     "slide_type": ""
    },
    "tags": []
   },
   "source": [
    "Some of the material covered in the first term of the STOR-i MRes program assumes a basic working knowledge of the R data manipulation software. The following notes have been provided for you to use to check that you have the appropriate level of R programming knowledge and skills. \n",
    "\n",
    "If you are already proficient in using R then you only need to read over the contents and check that you understand the examples and the exercises. If you have never used R before, then take the time to work through all of the notes in the order that they appear.\n",
    "\n",
    "If you encounter any problems with the notes, installing R on your computer, or need some assistance in understanding the examples and exercises, then please contact me via [email](mailto:dan.grose@lancaster.ac.uk)"
   ]
  }
 ],
 "metadata": {
  "kernelspec": {
   "display_name": "R",
   "language": "R",
   "name": "ir"
  },
  "language_info": {
   "codemirror_mode": "r",
   "file_extension": ".r",
   "mimetype": "text/x-r-source",
   "name": "R",
   "pygments_lexer": "r",
   "version": "4.3.3"
  }
 },
 "nbformat": 4,
 "nbformat_minor": 5
}
