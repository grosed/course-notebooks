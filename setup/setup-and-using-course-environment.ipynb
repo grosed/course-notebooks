{
 "cells": [
  {
   "cell_type": "markdown",
   "id": "7fd2000a-9201-4060-8830-8bc3592aebcc",
   "metadata": {},
   "source": [
    "## Using SoS with C++ and Python"
   ]
  },
  {
   "cell_type": "markdown",
   "id": "211579ff-c372-4980-b9e2-1d3d85ee4467",
   "metadata": {},
   "source": [
    "This combination does not seem to work very well, but it can be useful for making course notes with both c++ and python code. Importantly, **a c++ cell must be run as an SoS kernel first and then using a c++ kernel** (toggle between the kernels using the options on the right of the cell)."
   ]
  },
  {
   "cell_type": "markdown",
   "id": "11cce7e6-1e60-4ed2-8797-00f0aa770985",
   "metadata": {},
   "source": [
    "## Creating a Jupyter book from and SoS notebook."
   ]
  },
  {
   "cell_type": "markdown",
   "id": "134425ca-f59e-47f3-b3d6-375d0d2b6150",
   "metadata": {},
   "source": [
    "Jupyter book does not seem able to process an SoS notebook. However, a book can be made so long as \n",
    "- the cells have all been executed prior to building the book so as to produce the desired output\n",
    "- Jupyter book is run with the execute flg disabled.\n",
    "\n",
    "A good way to ensure that the last requirement is fulfilled is to add the appropriate directive to the  **__config.yml** file. An example of this is shown below. The key field to acheive this behaviour are\n",
    "\n",
    "```bash\n",
    "# Force re-execution of notebooks on each build.\n",
    "# See https://jupyterbook.org/content/execute.html\n",
    "execute:\n",
    "    execute_notebooks: off\n",
    "```"
   ]
  },
  {
   "cell_type": "markdown",
   "id": "94a6e368-31d8-41d1-93e0-96d641a0d572",
   "metadata": {},
   "source": [
    "```bash\n",
    "# Book settings\n",
    "# Learn more at https://jupyterbook.org/customize/config.html\n",
    "\n",
    "title: C++ for Python Programmers\n",
    "author: Daniel Grose\n",
    "logo: data_structures_1024x576.png\n",
    "\n",
    "# Force re-execution of notebooks on each build.\n",
    "# See https://jupyterbook.org/content/execute.html\n",
    "execute:\n",
    "    execute_notebooks: off\n",
    "    \n",
    "# Define the name of the latex output file for PDF builds\n",
    "latex:\n",
    "  latex_documents:\n",
    "    targetname: book.tex\n",
    "\n",
    "# Add a bibtex file so that we can create citations\n",
    "bibtex_bibfiles:\n",
    "  - references.bib\n",
    "\n",
    "# Information about where the book exists on the web\n",
    "repository:\n",
    "  url: https://github.com/executablebooks/jupyter-book  # Online location of your book\n",
    "  path_to_book: docs  # Optional path to your book, relative to the repository root\n",
    "  branch: master  # Which branch of the repository should be used when creating links (optional)\n",
    "\n",
    "# Add GitHub buttons to your book\n",
    "# See https://jupyterbook.org/customize/config.html#add-a-link-to-your-repository\n",
    "html:\n",
    "  use_issues_button: true\n",
    "  use_repository_button: true\n",
    "```"
   ]
  },
  {
   "cell_type": "code",
   "execution_count": null,
   "id": "b1aef50b-022c-4957-bf10-9495066f6541",
   "metadata": {},
   "outputs": [],
   "source": []
  },
  {
   "cell_type": "markdown",
   "id": "e9d9d34d-179e-40e7-9e51-d62d806f2b8d",
   "metadata": {},
   "source": [
    "## Installing bash kernel for use with Jupyter SoS"
   ]
  },
  {
   "cell_type": "markdown",
   "id": "25eb873c-ddf8-481f-a51c-869868f5b52e",
   "metadata": {},
   "source": [
    "```bash\n",
    "$ source ~/start-pyenv\n",
    "$ source <a-virtual-environment>/bin/activate\n",
    "$ python -m pip install bash_kernel\n",
    "$ python -m bash_kernel.installpip install bash_kernel\n",
    "$ python -m pip install sos-bash\n",
    "```"
   ]
  },
  {
   "cell_type": "markdown",
   "id": "64fe06d5-4595-4336-ae84-bf74fbb2a60c",
   "metadata": {},
   "source": [
    "## Exporting c++ code to a c++ file"
   ]
  },
  {
   "cell_type": "markdown",
   "id": "ab38df87-0f66-43dc-88d2-2a52b84e7dd1",
   "metadata": {},
   "source": [
    "To export a c++ notebook to a c++ file first ensure that pandoc is installed"
   ]
  },
  {
   "cell_type": "markdown",
   "id": "f47fd031-a343-449a-bbf0-bfb7e9ba36a5",
   "metadata": {},
   "source": [
    "```bash\n",
    " sudo apt-get install pandoc\n",
    "```"
   ]
  },
  {
   "cell_type": "markdown",
   "id": "1abe61b3-f19e-4379-a6ab-f0d48feed9ce",
   "metadata": {},
   "source": [
    "Then, in Jupyter lab, select **\"File\"** -> **\"Save and Export Notebook as ...\"** _> \"**Executable Script\"**. This will create a file with the same name as the notebook but with a **.c++** extension."
   ]
  }
 ],
 "metadata": {
  "kernelspec": {
   "display_name": "",
   "name": ""
  },
  "language_info": {
   "name": ""
  }
 },
 "nbformat": 4,
 "nbformat_minor": 5
}
