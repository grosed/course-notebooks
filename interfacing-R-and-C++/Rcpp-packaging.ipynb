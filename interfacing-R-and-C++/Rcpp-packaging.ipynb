{
 "cells": [
  {
   "cell_type": "code",
   "execution_count": null,
   "id": "e0b70162-d4a4-4eea-ac75-e47b2c80a220",
   "metadata": {},
   "outputs": [],
   "source": []
  },
  {
   "cell_type": "markdown",
   "id": "e3f6cce8-5b17-4c26-9c15-da8b04ebeb56",
   "metadata": {},
   "source": [
    "Notes\n",
    "\n",
    "Does R work with python ok on VM ?\n",
    "\n",
    "Does VM have Rcpp installrd ?\n"
   ]
  },
  {
   "cell_type": "code",
   "execution_count": null,
   "id": "1f0fac8e-2759-46fe-a88f-bf967f4d67de",
   "metadata": {},
   "outputs": [],
   "source": []
  }
 ],
 "metadata": {
  "kernelspec": {
   "display_name": "Python 3 (ipykernel)",
   "language": "python",
   "name": "python3"
  },
  "language_info": {
   "codemirror_mode": {
    "name": "ipython",
    "version": 3
   },
   "file_extension": ".py",
   "mimetype": "text/x-python",
   "name": "python",
   "nbconvert_exporter": "python",
   "pygments_lexer": "ipython3",
   "version": "3.10.0"
  }
 },
 "nbformat": 4,
 "nbformat_minor": 5
}
