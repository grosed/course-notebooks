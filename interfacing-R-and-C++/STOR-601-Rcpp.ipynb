{
 "cells": [
  {
   "cell_type": "markdown",
   "id": "ebe16e0e-0724-4799-9147-e42e00866239",
   "metadata": {},
   "source": [
    "Notes -\n",
    "\n",
    "How to change to c++ 17 ?\n",
    "How to marshall maps and so on ?\n"
   ]
  },
  {
   "cell_type": "code",
   "execution_count": 9,
   "id": "4c6f554d-aaa4-445e-9b3a-a4716c604ac6",
   "metadata": {},
   "outputs": [],
   "source": [
    "library(Rcpp)\n",
    "marshalling_code <- '\n",
    "#include \"Rcpp.h\"\n",
    "using namespace Rcpp;\n",
    "\n",
    "#include <string>\n",
    "\n",
    "std::string marshall(const std::string& arg) \n",
    "{\n",
    "   std::string message {\"hello\"};\n",
    "   return message + \" \" + arg;\n",
    "}\n",
    "RCPP_MODULE(marshalling) \n",
    "{\n",
    "function(\"rcpp_marshall\", &marshall);\n",
    "}\n",
    "'\n",
    "sourceCpp(code = marshalling_code)"
   ]
  },
  {
   "cell_type": "code",
   "execution_count": 10,
   "id": "55b8179e-518e-49e0-93ed-bd11277b68e6",
   "metadata": {},
   "outputs": [
    {
     "data": {
      "text/html": [
       "'hello world'"
      ],
      "text/latex": [
       "'hello world'"
      ],
      "text/markdown": [
       "'hello world'"
      ],
      "text/plain": [
       "[1] \"hello world\""
      ]
     },
     "metadata": {},
     "output_type": "display_data"
    }
   ],
   "source": [
    "rcpp_marshall(\"world\")"
   ]
  },
  {
   "cell_type": "code",
   "execution_count": null,
   "id": "486f8dd9-b4fd-401b-b07a-f4be40c954f1",
   "metadata": {},
   "outputs": [],
   "source": []
  },
  {
   "cell_type": "code",
   "execution_count": 21,
   "id": "c4dde8ee-b082-4ca0-982f-ef613575cff8",
   "metadata": {},
   "outputs": [],
   "source": [
    "library(Rcpp)\n",
    "marshalling_code <- '\n",
    "#include \"Rcpp.h\"\n",
    "using namespace Rcpp;\n",
    "\n",
    "#include <string>\n",
    "#include <unordered_map>\n",
    "#include <tuple>\n",
    "#include <map>\n",
    "\n",
    "// std::unordered_map<std::string,double> marshall(std::map<std::string,double> arg) \n",
    "List marshall()\n",
    "{\n",
    "\n",
    "std::map<std::string, double> map_str_dbl;\n",
    "  \n",
    "  map_str_dbl[\"E\"] = 5;    \n",
    "  map_str_dbl[\"A\"] = 1;\n",
    "  map_str_dbl[\"C\"] = 3;    \n",
    "  map_str_dbl[\"D\"] = 4;\n",
    "  map_str_dbl[\"B\"] = 2;\n",
    "  \n",
    "  std::unordered_map<std::string, double> umap_str_dbl;\n",
    "\n",
    "  umap_str_dbl[\"E\"] = 5;    \n",
    "  umap_str_dbl[\"A\"] = 1;\n",
    "  umap_str_dbl[\"C\"] = 3;    \n",
    "  umap_str_dbl[\"D\"] = 4;\n",
    "  umap_str_dbl[\"B\"] = 2;\n",
    "  \n",
    "  List li = List::create(Named(\"std::map\", map_str_dbl),\n",
    "                         Named(\"std::unordered_map\", umap_str_dbl)\n",
    "                        );\n",
    "  \n",
    "  return(li);\n",
    "\n",
    "\n",
    "}\n",
    "\n",
    "RCPP_MODULE(marshalling) \n",
    "{\n",
    "function(\"rcpp_marshall\", &marshall);\n",
    "}\n",
    "'\n",
    "sourceCpp(code = marshalling_code)"
   ]
  },
  {
   "cell_type": "code",
   "execution_count": 22,
   "id": "fc6ec1f2-f86c-475b-a8d4-31c7c67ef2b4",
   "metadata": {},
   "outputs": [
    {
     "data": {
      "text/html": [
       "<dl>\n",
       "\t<dt>$`std::map`</dt>\n",
       "\t\t<dd><style>\n",
       ".dl-inline {width: auto; margin:0; padding: 0}\n",
       ".dl-inline>dt, .dl-inline>dd {float: none; width: auto; display: inline-block}\n",
       ".dl-inline>dt::after {content: \":\\0020\"; padding-right: .5ex}\n",
       ".dl-inline>dt:not(:first-of-type) {padding-left: .5ex}\n",
       "</style><dl class=dl-inline><dt>A</dt><dd>1</dd><dt>B</dt><dd>2</dd><dt>C</dt><dd>3</dd><dt>D</dt><dd>4</dd><dt>E</dt><dd>5</dd></dl>\n",
       "</dd>\n",
       "\t<dt>$`std::unordered_map`</dt>\n",
       "\t\t<dd><style>\n",
       ".dl-inline {width: auto; margin:0; padding: 0}\n",
       ".dl-inline>dt, .dl-inline>dd {float: none; width: auto; display: inline-block}\n",
       ".dl-inline>dt::after {content: \":\\0020\"; padding-right: .5ex}\n",
       ".dl-inline>dt:not(:first-of-type) {padding-left: .5ex}\n",
       "</style><dl class=dl-inline><dt>B</dt><dd>2</dd><dt>D</dt><dd>4</dd><dt>C</dt><dd>3</dd><dt>A</dt><dd>1</dd><dt>E</dt><dd>5</dd></dl>\n",
       "</dd>\n",
       "</dl>\n"
      ],
      "text/latex": [
       "\\begin{description}\n",
       "\\item[\\$`std::map`] \\begin{description*}\n",
       "\\item[A] 1\n",
       "\\item[B] 2\n",
       "\\item[C] 3\n",
       "\\item[D] 4\n",
       "\\item[E] 5\n",
       "\\end{description*}\n",
       "\n",
       "\\item[\\$`std::unordered\\_map`] \\begin{description*}\n",
       "\\item[B] 2\n",
       "\\item[D] 4\n",
       "\\item[C] 3\n",
       "\\item[A] 1\n",
       "\\item[E] 5\n",
       "\\end{description*}\n",
       "\n",
       "\\end{description}\n"
      ],
      "text/markdown": [
       "$`std::map`\n",
       ":   A\n",
       ":   1B\n",
       ":   2C\n",
       ":   3D\n",
       ":   4E\n",
       ":   5\n",
       "\n",
       "\n",
       "$`std::unordered_map`\n",
       ":   B\n",
       ":   2D\n",
       ":   4C\n",
       ":   3A\n",
       ":   1E\n",
       ":   5\n",
       "\n",
       "\n",
       "\n",
       "\n"
      ],
      "text/plain": [
       "$`std::map`\n",
       "A B C D E \n",
       "1 2 3 4 5 \n",
       "\n",
       "$`std::unordered_map`\n",
       "B D C A E \n",
       "2 4 3 1 5 \n"
      ]
     },
     "metadata": {},
     "output_type": "display_data"
    }
   ],
   "source": [
    "rcpp_marshall()"
   ]
  },
  {
   "cell_type": "code",
   "execution_count": null,
   "id": "4d4336e7-6a59-4733-b5cb-338e1a0436bc",
   "metadata": {},
   "outputs": [],
   "source": []
  },
  {
   "cell_type": "code",
   "execution_count": null,
   "id": "f9cc4b65-487c-420c-b775-26f1edbbfb75",
   "metadata": {},
   "outputs": [],
   "source": []
  },
  {
   "cell_type": "code",
   "execution_count": null,
   "id": "02688369-3952-4f67-942d-d1bee9297c90",
   "metadata": {},
   "outputs": [],
   "source": []
  },
  {
   "cell_type": "code",
   "execution_count": 35,
   "id": "7b296551-3370-4194-ad84-74afc7151a4d",
   "metadata": {},
   "outputs": [
    {
     "name": "stdout",
     "output_type": "stream",
     "text": [
      "g++ -std=gnu++14 -I\"/usr/share/R/include\" -DNDEBUG   -I\"/home/grosedj/R-packages/Rcpp/include\" -I\"/tmp/RtmpxQ4E6i/sourceCpp-x86_64-pc-linux-gnu-1.0.11\"    -fpic  -g -O2 -fdebug-prefix-map=/build/r-base-a3XuZ5/r-base-4.2.2.20221110=. -fstack-protector-strong -Wformat -Werror=format-security -Wdate-time -D_FORTIFY_SOURCE=2  -c file2b1fc293fabc6.cpp -o file2b1fc293fabc6.o\n",
      "In file included from /home/grosedj/R-packages/Rcpp/include/Rcpp/as.h:25,\n",
      "                 from /home/grosedj/R-packages/Rcpp/include/RcppCommon.h:169,\n",
      "                 from /home/grosedj/R-packages/Rcpp/include/Rcpp.h:27,\n",
      "                 from file2b1fc293fabc6.cpp:2:\n",
      "/home/grosedj/R-packages/Rcpp/include/Rcpp/internal/Exporter.h: In instantiation of ‘Rcpp::traits::Exporter<T>::Exporter(SEXP) [with T = std::map<std::__cxx11::basic_string<char>, double>; SEXP = SEXPREC*]’:\n",
      "/home/grosedj/R-packages/Rcpp/include/Rcpp/as.h:87:41:   required from ‘T Rcpp::internal::as(SEXP, Rcpp::traits::r_type_generic_tag) [with T = std::map<std::__cxx11::basic_string<char>, double>; SEXP = SEXPREC*]’\n",
      "/home/grosedj/R-packages/Rcpp/include/Rcpp/as.h:152:31:   required from ‘T Rcpp::as(SEXP) [with T = std::map<std::__cxx11::basic_string<char>, double>; SEXP = SEXPREC*]’\n",
      "file2b1fc293fabc6.cpp:15:77:   required from here\n",
      "/home/grosedj/R-packages/Rcpp/include/Rcpp/internal/Exporter.h:31:42: error: no matching function for call to ‘std::map<std::__cxx11::basic_string<char>, double>::map(SEXPREC*&)’\n",
      "   31 |                     Exporter( SEXP x ) : t(x){}\n",
      "      |                                          ^~~~\n",
      "In file included from /usr/include/c++/11/map:61,\n",
      "                 from /home/grosedj/R-packages/Rcpp/include/RcppCommon.h:57,\n",
      "                 from /home/grosedj/R-packages/Rcpp/include/Rcpp.h:27,\n",
      "                 from file2b1fc293fabc6.cpp:2:\n",
      "/usr/include/c++/11/bits/stl_map.h:290:9: note: candidate: ‘template<class _InputIterator> std::map<_Key, _Tp, _Compare, _Alloc>::map(_InputIterator, _InputIterator, const _Compare&, const allocator_type&) [with _InputIterator = _InputIterator; _Key = std::__cxx11::basic_string<char>; _Tp = double; _Compare = std::less<std::__cxx11::basic_string<char> >; _Alloc = std::allocator<std::pair<const std::__cxx11::basic_string<char>, double> >]’\n",
      "  290 |         map(_InputIterator __first, _InputIterator __last,\n",
      "      |         ^~~\n",
      "/usr/include/c++/11/bits/stl_map.h:290:9: note:   template argument deduction/substitution failed:\n",
      "In file included from /home/grosedj/R-packages/Rcpp/include/Rcpp/as.h:25,\n",
      "                 from /home/grosedj/R-packages/Rcpp/include/RcppCommon.h:169,\n",
      "                 from /home/grosedj/R-packages/Rcpp/include/Rcpp.h:27,\n",
      "                 from file2b1fc293fabc6.cpp:2:\n",
      "/home/grosedj/R-packages/Rcpp/include/Rcpp/internal/Exporter.h:31:42: note:   candidate expects 4 arguments, 1 provided\n",
      "   31 |                     Exporter( SEXP x ) : t(x){}\n",
      "      |                                          ^~~~\n",
      "In file included from /usr/include/c++/11/map:61,\n",
      "                 from /home/grosedj/R-packages/Rcpp/include/RcppCommon.h:57,\n",
      "                 from /home/grosedj/R-packages/Rcpp/include/Rcpp.h:27,\n",
      "                 from file2b1fc293fabc6.cpp:2:\n",
      "/usr/include/c++/11/bits/stl_map.h:273:9: note: candidate: ‘template<class _InputIterator> std::map<_Key, _Tp, _Compare, _Alloc>::map(_InputIterator, _InputIterator) [with _InputIterator = _InputIterator; _Key = std::__cxx11::basic_string<char>; _Tp = double; _Compare = std::less<std::__cxx11::basic_string<char> >; _Alloc = std::allocator<std::pair<const std::__cxx11::basic_string<char>, double> >]’\n",
      "  273 |         map(_InputIterator __first, _InputIterator __last)\n",
      "      |         ^~~\n",
      "/usr/include/c++/11/bits/stl_map.h:273:9: note:   template argument deduction/substitution failed:\n",
      "In file included from /home/grosedj/R-packages/Rcpp/include/Rcpp/as.h:25,\n",
      "                 from /home/grosedj/R-packages/Rcpp/include/RcppCommon.h:169,\n",
      "                 from /home/grosedj/R-packages/Rcpp/include/Rcpp.h:27,\n",
      "                 from file2b1fc293fabc6.cpp:2:\n",
      "/home/grosedj/R-packages/Rcpp/include/Rcpp/internal/Exporter.h:31:42: note:   candidate expects 2 arguments, 1 provided\n",
      "   31 |                     Exporter( SEXP x ) : t(x){}\n",
      "      |                                          ^~~~\n",
      "In file included from /usr/include/c++/11/map:61,\n",
      "                 from /home/grosedj/R-packages/Rcpp/include/RcppCommon.h:57,\n",
      "                 from /home/grosedj/R-packages/Rcpp/include/Rcpp.h:27,\n",
      "                 from file2b1fc293fabc6.cpp:2:\n",
      "/usr/include/c++/11/bits/stl_map.h:256:9: note: candidate: ‘template<class _InputIterator> std::map<_Key, _Tp, _Compare, _Alloc>::map(_InputIterator, _InputIterator, const allocator_type&) [with _InputIterator = _InputIterator; _Key = std::__cxx11::basic_string<char>; _Tp = double; _Compare = std::less<std::__cxx11::basic_string<char> >; _Alloc = std::allocator<std::pair<const std::__cxx11::basic_string<char>, double> >]’\n",
      "  256 |         map(_InputIterator __first, _InputIterator __last,\n",
      "      |         ^~~\n",
      "/usr/include/c++/11/bits/stl_map.h:256:9: note:   template argument deduction/substitution failed:\n",
      "In file included from /home/grosedj/R-packages/Rcpp/include/Rcpp/as.h:25,\n",
      "                 from /home/grosedj/R-packages/Rcpp/include/RcppCommon.h:169,\n",
      "                 from /home/grosedj/R-packages/Rcpp/include/Rcpp.h:27,\n",
      "                 from file2b1fc293fabc6.cpp:2:\n",
      "/home/grosedj/R-packages/Rcpp/include/Rcpp/internal/Exporter.h:31:42: note:   candidate expects 3 arguments, 1 provided\n",
      "   31 |                     Exporter( SEXP x ) : t(x){}\n",
      "      |                                          ^~~~\n",
      "In file included from /usr/include/c++/11/map:61,\n",
      "                 from /home/grosedj/R-packages/Rcpp/include/RcppCommon.h:57,\n",
      "                 from /home/grosedj/R-packages/Rcpp/include/Rcpp.h:27,\n",
      "                 from file2b1fc293fabc6.cpp:2:\n",
      "/usr/include/c++/11/bits/stl_map.h:250:7: note: candidate: ‘std::map<_Key, _Tp, _Compare, _Alloc>::map(std::initializer_list<std::pair<const _Key, _Tp> >, const allocator_type&) [with _Key = std::__cxx11::basic_string<char>; _Tp = double; _Compare = std::less<std::__cxx11::basic_string<char> >; _Alloc = std::allocator<std::pair<const std::__cxx11::basic_string<char>, double> >; std::map<_Key, _Tp, _Compare, _Alloc>::allocator_type = std::allocator<std::pair<const std::__cxx11::basic_string<char>, double> >]’\n",
      "  250 |       map(initializer_list<value_type> __l, const allocator_type& __a)\n",
      "      |       ^~~\n",
      "/usr/include/c++/11/bits/stl_map.h:250:7: note:   candidate expects 2 arguments, 1 provided\n",
      "/usr/include/c++/11/bits/stl_map.h:244:7: note: candidate: ‘std::map<_Key, _Tp, _Compare, _Alloc>::map(std::map<_Key, _Tp, _Compare, _Alloc>&&, const allocator_type&) [with _Key = std::__cxx11::basic_string<char>; _Tp = double; _Compare = std::less<std::__cxx11::basic_string<char> >; _Alloc = std::allocator<std::pair<const std::__cxx11::basic_string<char>, double> >; std::map<_Key, _Tp, _Compare, _Alloc>::allocator_type = std::allocator<std::pair<const std::__cxx11::basic_string<char>, double> >]’\n",
      "  244 |       map(map&& __m, const allocator_type& __a)\n",
      "      |       ^~~\n",
      "/usr/include/c++/11/bits/stl_map.h:244:7: note:   candidate expects 2 arguments, 1 provided\n",
      "/usr/include/c++/11/bits/stl_map.h:240:7: note: candidate: ‘std::map<_Key, _Tp, _Compare, _Alloc>::map(const std::map<_Key, _Tp, _Compare, _Alloc>&, const allocator_type&) [with _Key = std::__cxx11::basic_string<char>; _Tp = double; _Compare = std::less<std::__cxx11::basic_string<char> >; _Alloc = std::allocator<std::pair<const std::__cxx11::basic_string<char>, double> >; std::map<_Key, _Tp, _Compare, _Alloc>::allocator_type = std::allocator<std::pair<const std::__cxx11::basic_string<char>, double> >]’\n",
      "  240 |       map(const map& __m, const allocator_type& __a)\n",
      "      |       ^~~\n",
      "/usr/include/c++/11/bits/stl_map.h:240:7: note:   candidate expects 2 arguments, 1 provided\n",
      "/usr/include/c++/11/bits/stl_map.h:236:7: note: candidate: ‘std::map<_Key, _Tp, _Compare, _Alloc>::map(const allocator_type&) [with _Key = std::__cxx11::basic_string<char>; _Tp = double; _Compare = std::less<std::__cxx11::basic_string<char> >; _Alloc = std::allocator<std::pair<const std::__cxx11::basic_string<char>, double> >; std::map<_Key, _Tp, _Compare, _Alloc>::allocator_type = std::allocator<std::pair<const std::__cxx11::basic_string<char>, double> >]’\n",
      "  236 |       map(const allocator_type& __a)\n",
      "      |       ^~~\n",
      "/usr/include/c++/11/bits/stl_map.h:236:33: note:   no known conversion for argument 1 from ‘SEXP’ {aka ‘SEXPREC*’} to ‘const allocator_type&’ {aka ‘const std::allocator<std::pair<const std::__cxx11::basic_string<char>, double> >&’}\n",
      "  236 |       map(const allocator_type& __a)\n",
      "      |           ~~~~~~~~~~~~~~~~~~~~~~^~~\n",
      "/usr/include/c++/11/bits/stl_map.h:228:7: note: candidate: ‘std::map<_Key, _Tp, _Compare, _Alloc>::map(std::initializer_list<std::pair<const _Key, _Tp> >, const _Compare&, const allocator_type&) [with _Key = std::__cxx11::basic_string<char>; _Tp = double; _Compare = std::less<std::__cxx11::basic_string<char> >; _Alloc = std::allocator<std::pair<const std::__cxx11::basic_string<char>, double> >; std::map<_Key, _Tp, _Compare, _Alloc>::allocator_type = std::allocator<std::pair<const std::__cxx11::basic_string<char>, double> >]’\n",
      "  228 |       map(initializer_list<value_type> __l,\n",
      "      |       ^~~\n",
      "/usr/include/c++/11/bits/stl_map.h:228:40: note:   no known conversion for argument 1 from ‘SEXP’ {aka ‘SEXPREC*’} to ‘std::initializer_list<std::pair<const std::__cxx11::basic_string<char>, double> >’\n",
      "  228 |       map(initializer_list<value_type> __l,\n",
      "      |           ~~~~~~~~~~~~~~~~~~~~~~~~~~~~~^~~\n",
      "/usr/include/c++/11/bits/stl_map.h:215:7: note: candidate: ‘std::map<_Key, _Tp, _Compare, _Alloc>::map(std::map<_Key, _Tp, _Compare, _Alloc>&&) [with _Key = std::__cxx11::basic_string<char>; _Tp = double; _Compare = std::less<std::__cxx11::basic_string<char> >; _Alloc = std::allocator<std::pair<const std::__cxx11::basic_string<char>, double> >]’\n",
      "  215 |       map(map&&) = default;\n",
      "      |       ^~~\n",
      "/usr/include/c++/11/bits/stl_map.h:215:11: note:   no known conversion for argument 1 from ‘SEXP’ {aka ‘SEXPREC*’} to ‘std::map<std::__cxx11::basic_string<char>, double>&&’\n",
      "  215 |       map(map&&) = default;\n",
      "      |           ^~~~~\n",
      "/usr/include/c++/11/bits/stl_map.h:207:7: note: candidate: ‘std::map<_Key, _Tp, _Compare, _Alloc>::map(const std::map<_Key, _Tp, _Compare, _Alloc>&) [with _Key = std::__cxx11::basic_string<char>; _Tp = double; _Compare = std::less<std::__cxx11::basic_string<char> >; _Alloc = std::allocator<std::pair<const std::__cxx11::basic_string<char>, double> >]’\n",
      "  207 |       map(const map&) = default;\n",
      "      |       ^~~\n",
      "/usr/include/c++/11/bits/stl_map.h:207:11: note:   no known conversion for argument 1 from ‘SEXP’ {aka ‘SEXPREC*’} to ‘const std::map<std::__cxx11::basic_string<char>, double>&’\n",
      "  207 |       map(const map&) = default;\n",
      "      |           ^~~~~~~~~~\n",
      "/usr/include/c++/11/bits/stl_map.h:194:7: note: candidate: ‘std::map<_Key, _Tp, _Compare, _Alloc>::map(const _Compare&, const allocator_type&) [with _Key = std::__cxx11::basic_string<char>; _Tp = double; _Compare = std::less<std::__cxx11::basic_string<char> >; _Alloc = std::allocator<std::pair<const std::__cxx11::basic_string<char>, double> >; std::map<_Key, _Tp, _Compare, _Alloc>::allocator_type = std::allocator<std::pair<const std::__cxx11::basic_string<char>, double> >]’\n",
      "  194 |       map(const _Compare& __comp,\n",
      "      |       ^~~\n",
      "/usr/include/c++/11/bits/stl_map.h:194:27: note:   no known conversion for argument 1 from ‘SEXP’ {aka ‘SEXPREC*’} to ‘const std::less<std::__cxx11::basic_string<char> >&’\n",
      "  194 |       map(const _Compare& __comp,\n",
      "      |           ~~~~~~~~~~~~~~~~^~~~~~\n",
      "/usr/include/c++/11/bits/stl_map.h:185:7: note: candidate: ‘std::map<_Key, _Tp, _Compare, _Alloc>::map() [with _Key = std::__cxx11::basic_string<char>; _Tp = double; _Compare = std::less<std::__cxx11::basic_string<char> >; _Alloc = std::allocator<std::pair<const std::__cxx11::basic_string<char>, double> >]’\n",
      "  185 |       map() = default;\n",
      "      |       ^~~\n",
      "/usr/include/c++/11/bits/stl_map.h:185:7: note:   candidate expects 0 arguments, 1 provided\n",
      "make: *** [/usr/lib/R/etc/Makeconf:178: file2b1fc293fabc6.o] Error 1\n"
     ]
    },
    {
     "ename": "ERROR",
     "evalue": "Error in sourceCpp(code = marshalling_code): Error 1 occurred building shared library.\n",
     "output_type": "error",
     "traceback": [
      "Error in sourceCpp(code = marshalling_code): Error 1 occurred building shared library.\nTraceback:\n",
      "1. sourceCpp(code = marshalling_code)",
      "2. stop(\"Error \", status, \" occurred building shared library.\")"
     ]
    }
   ],
   "source": [
    "library(Rcpp)\n",
    "marshalling_code <- '\n",
    "#include \"Rcpp.h\"\n",
    "using namespace Rcpp;\n",
    "\n",
    "#include <string>\n",
    "#include <unordered_map>\n",
    "#include <tuple>\n",
    "#include <map>\n",
    "\n",
    "// std::unordered_map<std::string,double> marshall(std::map<std::string,double> arg) \n",
    "List marshall(NumericVector x)\n",
    "{\n",
    "\n",
    "\n",
    "std::map<std::string, double> converted = as<std::map<std::string, double> >(x);\n",
    "\n",
    "\n",
    "std::map<std::string, double> map_str_dbl;\n",
    "  \n",
    "  map_str_dbl[\"E\"] = 5;    \n",
    "  map_str_dbl[\"A\"] = 1;\n",
    "  map_str_dbl[\"C\"] = 3;    \n",
    "  map_str_dbl[\"D\"] = 4;\n",
    "  map_str_dbl[\"B\"] = 2;\n",
    "  \n",
    "  std::unordered_map<std::string, double> umap_str_dbl;\n",
    "\n",
    "  umap_str_dbl[\"E\"] = 5;    \n",
    "  umap_str_dbl[\"A\"] = 1;\n",
    "  umap_str_dbl[\"C\"] = 3;    \n",
    "  umap_str_dbl[\"D\"] = 4;\n",
    "  umap_str_dbl[\"B\"] = 2;\n",
    "  \n",
    "  List li = List::create(map_str_dbl);\n",
    "  //                       Named(\"std::unordered_map\", umap_str_dbl)\n",
    "  //                      );\n",
    "  \n",
    "  return li;\n",
    "\n",
    "\n",
    "}\n",
    "\n",
    "RCPP_MODULE(marshalling) \n",
    "{\n",
    "function(\"rcpp_marshall\", &marshall);\n",
    "}\n",
    "'\n",
    "sourceCpp(code = marshalling_code)"
   ]
  },
  {
   "cell_type": "code",
   "execution_count": 30,
   "id": "9d8a81b6-a78f-4e5a-bb42-0e437da8880e",
   "metadata": {},
   "outputs": [
    {
     "data": {
      "text/html": [
       "<ol>\n",
       "\t<li><style>\n",
       ".dl-inline {width: auto; margin:0; padding: 0}\n",
       ".dl-inline>dt, .dl-inline>dd {float: none; width: auto; display: inline-block}\n",
       ".dl-inline>dt::after {content: \":\\0020\"; padding-right: .5ex}\n",
       ".dl-inline>dt:not(:first-of-type) {padding-left: .5ex}\n",
       "</style><dl class=dl-inline><dt>A</dt><dd>1</dd><dt>B</dt><dd>2</dd><dt>C</dt><dd>3</dd><dt>D</dt><dd>4</dd><dt>E</dt><dd>5</dd></dl>\n",
       "</li>\n",
       "</ol>\n"
      ],
      "text/latex": [
       "\\begin{enumerate}\n",
       "\\item \\begin{description*}\n",
       "\\item[A] 1\n",
       "\\item[B] 2\n",
       "\\item[C] 3\n",
       "\\item[D] 4\n",
       "\\item[E] 5\n",
       "\\end{description*}\n",
       "\n",
       "\\end{enumerate}\n"
      ],
      "text/markdown": [
       "1. A\n",
       ":   1B\n",
       ":   2C\n",
       ":   3D\n",
       ":   4E\n",
       ":   5\n",
       "\n",
       "\n",
       "\n",
       "\n"
      ],
      "text/plain": [
       "[[1]]\n",
       "A B C D E \n",
       "1 2 3 4 5 \n"
      ]
     },
     "metadata": {},
     "output_type": "display_data"
    }
   ],
   "source": [
    "rcpp_marshall()"
   ]
  },
  {
   "cell_type": "code",
   "execution_count": null,
   "id": "67b0c12a-b1fc-4c90-b522-385e667ef77a",
   "metadata": {},
   "outputs": [],
   "source": []
  },
  {
   "cell_type": "code",
   "execution_count": null,
   "id": "f7bb5254-dd8d-4f92-b6b9-a9953fd1b64f",
   "metadata": {},
   "outputs": [],
   "source": []
  },
  {
   "cell_type": "code",
   "execution_count": null,
   "id": "97e22b76-e53c-413b-b13a-a01eb63f6a5d",
   "metadata": {},
   "outputs": [],
   "source": []
  },
  {
   "cell_type": "code",
   "execution_count": 37,
   "id": "cd9dfe54-8fcc-4f07-9174-ceda73361fee",
   "metadata": {},
   "outputs": [
    {
     "data": {
      "text/html": [
       "<style>\n",
       ".dl-inline {width: auto; margin:0; padding: 0}\n",
       ".dl-inline>dt, .dl-inline>dd {float: none; width: auto; display: inline-block}\n",
       ".dl-inline>dt::after {content: \":\\0020\"; padding-right: .5ex}\n",
       ".dl-inline>dt:not(:first-of-type) {padding-left: .5ex}\n",
       "</style><dl class=dl-inline><dt>A</dt><dd>1</dd><dt>B</dt><dd>2</dd><dt>C</dt><dd>3</dd><dt>D</dt><dd>4</dd><dt>E</dt><dd>5</dd></dl>\n"
      ],
      "text/latex": [
       "\\begin{description*}\n",
       "\\item[A] 1\n",
       "\\item[B] 2\n",
       "\\item[C] 3\n",
       "\\item[D] 4\n",
       "\\item[E] 5\n",
       "\\end{description*}\n"
      ],
      "text/markdown": [
       "A\n",
       ":   1B\n",
       ":   2C\n",
       ":   3D\n",
       ":   4E\n",
       ":   5\n",
       "\n"
      ],
      "text/plain": [
       "A B C D E \n",
       "1 2 3 4 5 "
      ]
     },
     "metadata": {},
     "output_type": "display_data"
    }
   ],
   "source": [
    "library(Rcpp)\n",
    "marshalling_code <- '\n",
    "#include \"Rcpp.h\"\n",
    "using namespace Rcpp;\n",
    "\n",
    "#include <string>\n",
    "#include <unordered_map>\n",
    "#include <tuple>\n",
    "#include <map>\n",
    "\n",
    "// std::unordered_map<std::string,double> marshall(std::map<std::string,double> arg) \n",
    "// List marshall(NumericVector x)\n",
    "std::map<std::string,double> marshall(NumericVector x)\n",
    "{\n",
    "\n",
    "std::map<std::string, double> map_str_dbl;\n",
    "  \n",
    "  map_str_dbl[\"E\"] = 5;    \n",
    "  map_str_dbl[\"A\"] = 1;\n",
    "  map_str_dbl[\"C\"] = 3;    \n",
    "  map_str_dbl[\"D\"] = 4;\n",
    "  map_str_dbl[\"B\"] = 2;\n",
    "  \n",
    "  std::unordered_map<std::string, double> umap_str_dbl;\n",
    "\n",
    "  umap_str_dbl[\"E\"] = 5;    \n",
    "  umap_str_dbl[\"A\"] = 1;\n",
    "  umap_str_dbl[\"C\"] = 3;    \n",
    "  umap_str_dbl[\"D\"] = 4;\n",
    "  umap_str_dbl[\"B\"] = 2;\n",
    "  \n",
    "  List li = List::create(map_str_dbl);\n",
    "  //                       Named(\"std::unordered_map\", umap_str_dbl)\n",
    "  //                      );\n",
    "  \n",
    "  // return li;\n",
    "  return map_str_dbl;\n",
    "\n",
    "}\n",
    "\n",
    "RCPP_MODULE(marshalling) \n",
    "{\n",
    "function(\"rcpp_marshall\", &marshall);\n",
    "}\n",
    "'\n",
    "sourceCpp(code = marshalling_code)\n",
    "rcpp_marshall(c(1,2,3))"
   ]
  },
  {
   "cell_type": "code",
   "execution_count": null,
   "id": "c5164dda-e8e3-4961-b5e8-939356db450e",
   "metadata": {},
   "outputs": [],
   "source": []
  },
  {
   "cell_type": "code",
   "execution_count": null,
   "id": "e3a0c6a4-a022-46c3-93b9-329321255c0b",
   "metadata": {},
   "outputs": [],
   "source": []
  },
  {
   "cell_type": "code",
   "execution_count": null,
   "id": "61126a5f-9b8b-448a-9324-a9d95ca9f660",
   "metadata": {},
   "outputs": [],
   "source": []
  },
  {
   "cell_type": "code",
   "execution_count": null,
   "id": "468d2229-dd01-4bce-aebe-ba3309fe3eee",
   "metadata": {},
   "outputs": [],
   "source": []
  },
  {
   "cell_type": "code",
   "execution_count": null,
   "id": "755a2b59-9341-4e0a-ab26-ef3c229e1352",
   "metadata": {},
   "outputs": [],
   "source": []
  },
  {
   "cell_type": "code",
   "execution_count": null,
   "id": "45c93e0c-8ab1-4901-8dd3-aded87e8f4e6",
   "metadata": {},
   "outputs": [],
   "source": []
  },
  {
   "cell_type": "markdown",
   "id": "77e3f37b-805b-421a-80dd-c00a64c58d08",
   "metadata": {},
   "source": [
    "| Rcpp | C++ | as | wrap |\n",
    "|:---:|:---:|:---:| :---: |\n",
    "| `Vector` | `vector`, `list`, `deque`   |+|+|\n",
    "| `List`, `DataFrame` | `vector<vector>`, `list<vector>` etc.|+|+|\n",
    "|  Named `Vector` | `map`, `unordered_map`|-|+|\n",
    "| `Vector` | `set`, `unordered_set`|-|+|"
   ]
  },
  {
   "cell_type": "code",
   "execution_count": null,
   "id": "e9137989-30e9-4440-8260-72398fe44a9a",
   "metadata": {},
   "outputs": [],
   "source": []
  },
  {
   "cell_type": "code",
   "execution_count": null,
   "id": "f0eba0a3-2899-49c2-b588-7089e47cd8bb",
   "metadata": {},
   "outputs": [],
   "source": []
  },
  {
   "cell_type": "code",
   "execution_count": 53,
   "id": "c619dff0-cf8e-4327-a784-fb5a95ad17a5",
   "metadata": {},
   "outputs": [
    {
     "name": "stdout",
     "output_type": "stream",
     "text": [
      "1\n",
      "2\n",
      "3\n"
     ]
    },
    {
     "data": {
      "text/html": [
       "<style>\n",
       ".dl-inline {width: auto; margin:0; padding: 0}\n",
       ".dl-inline>dt, .dl-inline>dd {float: none; width: auto; display: inline-block}\n",
       ".dl-inline>dt::after {content: \":\\0020\"; padding-right: .5ex}\n",
       ".dl-inline>dt:not(:first-of-type) {padding-left: .5ex}\n",
       "</style><dl class=dl-inline><dt>A</dt><dd>1</dd><dt>B</dt><dd>2</dd><dt>C</dt><dd>3</dd><dt>D</dt><dd>4</dd><dt>E</dt><dd>5</dd></dl>\n"
      ],
      "text/latex": [
       "\\begin{description*}\n",
       "\\item[A] 1\n",
       "\\item[B] 2\n",
       "\\item[C] 3\n",
       "\\item[D] 4\n",
       "\\item[E] 5\n",
       "\\end{description*}\n"
      ],
      "text/markdown": [
       "A\n",
       ":   1B\n",
       ":   2C\n",
       ":   3D\n",
       ":   4E\n",
       ":   5\n",
       "\n"
      ],
      "text/plain": [
       "A B C D E \n",
       "1 2 3 4 5 "
      ]
     },
     "metadata": {},
     "output_type": "display_data"
    },
    {
     "name": "stdout",
     "output_type": "stream",
     "text": [
      "1\n",
      "4\n"
     ]
    },
    {
     "data": {
      "text/html": [
       "<style>\n",
       ".dl-inline {width: auto; margin:0; padding: 0}\n",
       ".dl-inline>dt, .dl-inline>dd {float: none; width: auto; display: inline-block}\n",
       ".dl-inline>dt::after {content: \":\\0020\"; padding-right: .5ex}\n",
       ".dl-inline>dt:not(:first-of-type) {padding-left: .5ex}\n",
       "</style><dl class=dl-inline><dt>A</dt><dd>1</dd><dt>B</dt><dd>2</dd><dt>C</dt><dd>3</dd><dt>D</dt><dd>4</dd><dt>E</dt><dd>5</dd></dl>\n"
      ],
      "text/latex": [
       "\\begin{description*}\n",
       "\\item[A] 1\n",
       "\\item[B] 2\n",
       "\\item[C] 3\n",
       "\\item[D] 4\n",
       "\\item[E] 5\n",
       "\\end{description*}\n"
      ],
      "text/markdown": [
       "A\n",
       ":   1B\n",
       ":   2C\n",
       ":   3D\n",
       ":   4E\n",
       ":   5\n",
       "\n"
      ],
      "text/plain": [
       "A B C D E \n",
       "1 2 3 4 5 "
      ]
     },
     "metadata": {},
     "output_type": "display_data"
    }
   ],
   "source": [
    "library(Rcpp)\n",
    "marshalling_code <- '\n",
    "#include \"Rcpp.h\"\n",
    "using namespace Rcpp;\n",
    "\n",
    "#include <string>\n",
    "#include <unordered_map>\n",
    "#include <tuple>\n",
    "#include <map>\n",
    "#include <complex>\n",
    "\n",
    "#include <iostream>\n",
    "\n",
    "// std::unordered_map<std::string,double> marshall(std::map<std::string,double> arg) \n",
    "// List marshall(NumericVector x)\n",
    "std::map<std::string,double> marshall(std::list<std::vector<double> >& X)\n",
    "{\n",
    "\n",
    "    for(auto& val : X)\n",
    "    {\n",
    "       Rcout << val[0] << std::endl;\n",
    "    }\n",
    "\n",
    "std::map<std::string, double> map_str_dbl;\n",
    "  \n",
    "  map_str_dbl[\"E\"] = 5;    \n",
    "  map_str_dbl[\"A\"] = 1;\n",
    "  map_str_dbl[\"C\"] = 3;    \n",
    "  map_str_dbl[\"D\"] = 4;\n",
    "  map_str_dbl[\"B\"] = 2;\n",
    "  \n",
    "  std::unordered_map<std::string, double> umap_str_dbl;\n",
    "\n",
    "  umap_str_dbl[\"E\"] = 5;    \n",
    "  umap_str_dbl[\"A\"] = 1;\n",
    "  umap_str_dbl[\"C\"] = 3;    \n",
    "  umap_str_dbl[\"D\"] = 4;\n",
    "  umap_str_dbl[\"B\"] = 2;\n",
    "  \n",
    "  List li = List::create(map_str_dbl);\n",
    "  //                       Named(\"std::unordered_map\", umap_str_dbl)\n",
    "  //                      );\n",
    "  \n",
    "  // return li;\n",
    "  return map_str_dbl;\n",
    "\n",
    "}\n",
    "\n",
    "RCPP_MODULE(marshalling) \n",
    "{\n",
    "function(\"rcpp_marshall\", &marshall);\n",
    "}\n",
    "'\n",
    "sourceCpp(code = marshalling_code)\n",
    "X <- c(1,2,3)\n",
    "rcpp_marshall(as.list(X))\n",
    "X <- data.frame(\"x\"=c(1,2,3),\"y\"=c(4,5,6))\n",
    "rcpp_marshall(X)"
   ]
  },
  {
   "cell_type": "code",
   "execution_count": 48,
   "id": "265ea022-31f1-4117-b487-46af9279b054",
   "metadata": {},
   "outputs": [
    {
     "data": {
      "text/html": [
       "1"
      ],
      "text/latex": [
       "1"
      ],
      "text/markdown": [
       "1"
      ],
      "text/plain": [
       "[1] 1"
      ]
     },
     "metadata": {},
     "output_type": "display_data"
    }
   ],
   "source": [
    "X[[1]]"
   ]
  },
  {
   "cell_type": "code",
   "execution_count": null,
   "id": "79d4741a-9488-40c5-a9e8-bd2d2af35fe4",
   "metadata": {},
   "outputs": [],
   "source": []
  },
  {
   "cell_type": "code",
   "execution_count": null,
   "id": "cbf9d5a7-fd03-429e-ace8-5e49e6632621",
   "metadata": {},
   "outputs": [],
   "source": []
  },
  {
   "cell_type": "markdown",
   "id": "4c7c6190-6f48-41bc-908d-2a2dd41aa40c",
   "metadata": {},
   "source": [
    "## The marshalling gallery"
   ]
  },
  {
   "cell_type": "markdown",
   "id": "cd0488b8-23ac-4248-875d-bf1003b38f1a",
   "metadata": {},
   "source": [
    "<img src=\"toton-sidings.jpg\" alt=\"Alternative text\" />\n",
    "\n",
    "#### Toton Marshalling Yard - Nottinghamshire, c1951."
   ]
  },
  {
   "cell_type": "markdown",
   "id": "20e4ac0d-0118-4958-b59d-87827acd9e90",
   "metadata": {},
   "source": [
    "### Marshalling atomic types"
   ]
  },
  {
   "cell_type": "code",
   "execution_count": null,
   "id": "b777802a-e95a-41a3-8752-4dab7e48ae36",
   "metadata": {},
   "outputs": [],
   "source": [
    "library(Rcpp)\n",
    "marshalling_code <- '\n",
    "#include \"Rcpp.h\"\n",
    "using namespace Rcpp;\n",
    "\n",
    "#include <string>\n",
    "#include <iostream>\n",
    "#include <complex>\n",
    "\n",
    "\n",
    "double marshall_double(const double& X)\n",
    "{\n",
    "    Rcout << X << std::endl;\n",
    "    double Y {3.14};\n",
    "    return Y;\n",
    "}\n",
    "\n",
    "int marshall_integer(const int& X)\n",
    "{\n",
    "    Rcout << X << std::endl;\n",
    "    int Y {3};\n",
    "    return Y;\n",
    "}\n",
    "\n",
    "bool marshall_logical(const bool& X)\n",
    "{\n",
    "    Rcout << X << std::endl;\n",
    "    bool Y = false;\n",
    "    return Y;\n",
    "}\n",
    "\n",
    "char marshall_character(const char& X)\n",
    "{\n",
    "    Rcout << X << std::endl;\n",
    "    char Y = \\'A\\';\n",
    "    return Y;\n",
    "}\n",
    "\n",
    "std::complex<double> marshall_complex(const std::complex<double>& X)\n",
    "{\n",
    "    Rcout << X <<  std::endl;\n",
    "    std::complex<double> Y {3.14,7.2};\n",
    "    return Y;\n",
    "}\n",
    "\n",
    "RCPP_MODULE(marshalling) \n",
    "{\n",
    "function(\"rcpp_marshall_double\", &marshall_double);\n",
    "function(\"rcpp_marshall_integer\", &marshall_integer);\n",
    "function(\"rcpp_marshall_logical\", &marshall_logical);\n",
    "function(\"rcpp_marshall_character\", &marshall_character);\n",
    "function(\"rcpp_marshall_complex\", &marshall_complex);\n",
    "}\n",
    "'\n",
    "sourceCpp(code = marshalling_code)"
   ]
  },
  {
   "cell_type": "markdown",
   "id": "57828564-0df0-43da-a67a-ce119e2028ac",
   "metadata": {},
   "source": [
    "#### Marshall double from R to C++"
   ]
  },
  {
   "cell_type": "code",
   "execution_count": 146,
   "id": "7ffbdac1-7c61-412e-a06c-b4fb0b2ad8b8",
   "metadata": {},
   "outputs": [
    {
     "name": "stdout",
     "output_type": "stream",
     "text": [
      "3.14\n",
      "3\n",
      "1\n",
      "(3.14,0)\n"
     ]
    }
   ],
   "source": [
    "X <- 3.14\n",
    "Y <- rcpp_marshall_double(X)\n",
    "Y <- rcpp_marshall_integer(X)\n",
    "Y <- rcpp_marshall_logical(X)\n",
    "# Y <- rcpp_marshall_character(X) - fails\n",
    "Y <- rcpp_marshall_complex(X)"
   ]
  },
  {
   "cell_type": "markdown",
   "id": "71add4d3-2cef-41ae-8ef3-12c97ab8eda5",
   "metadata": {},
   "source": [
    "##### Marshall integer from R to C++"
   ]
  },
  {
   "cell_type": "code",
   "execution_count": 147,
   "id": "762c1d76-257c-4487-9f18-552d406cacfc",
   "metadata": {},
   "outputs": [
    {
     "name": "stdout",
     "output_type": "stream",
     "text": [
      "7\n",
      "7\n",
      "1\n",
      "(7,0)\n"
     ]
    }
   ],
   "source": [
    "X <- 7L\n",
    "Y <- rcpp_marshall_double(X)\n",
    "Y <- rcpp_marshall_integer(X)\n",
    "Y <- rcpp_marshall_logical(X)\n",
    "# Y <- rcpp_marshall_character(X) - fails\n",
    "Y <- rcpp_marshall_complex(X)"
   ]
  },
  {
   "cell_type": "markdown",
   "id": "e4ad5a06-3b21-42eb-b211-ec04aaf1b7d5",
   "metadata": {},
   "source": [
    "##### Marshall logical from R to C++"
   ]
  },
  {
   "cell_type": "code",
   "execution_count": 148,
   "id": "384566c3-78a0-4e31-a05c-fac9cda55acf",
   "metadata": {},
   "outputs": [
    {
     "name": "stdout",
     "output_type": "stream",
     "text": [
      "1\n",
      "1\n",
      "1\n",
      "(1,0)\n"
     ]
    }
   ],
   "source": [
    "X <- TRUE\n",
    "Y <- rcpp_marshall_double(X)\n",
    "Y <- rcpp_marshall_integer(X)\n",
    "Y <- rcpp_marshall_logical(X)\n",
    "# Y <- rcpp_marshall_character(X) - fails\n",
    "Y <- rcpp_marshall_complex(X)"
   ]
  },
  {
   "cell_type": "markdown",
   "id": "960e3e3b-49d6-43ff-b14f-181012476705",
   "metadata": {},
   "source": [
    "##### Marshall complex from R to C++"
   ]
  },
  {
   "cell_type": "code",
   "execution_count": 149,
   "id": "b7e6fca2-5547-47fe-8ce1-4d491aaa0dc0",
   "metadata": {},
   "outputs": [
    {
     "name": "stderr",
     "output_type": "stream",
     "text": [
      "Warning message in rcpp_marshall_double(X):\n",
      "“imaginary parts discarded in coercion”\n"
     ]
    },
    {
     "name": "stdout",
     "output_type": "stream",
     "text": [
      "1.3\n"
     ]
    },
    {
     "name": "stderr",
     "output_type": "stream",
     "text": [
      "Warning message in rcpp_marshall_integer(X):\n",
      "“imaginary parts discarded in coercion”\n"
     ]
    },
    {
     "name": "stdout",
     "output_type": "stream",
     "text": [
      "1\n",
      "1\n",
      "(1.3,2.1)\n",
      "(1.3,2.1)\n"
     ]
    }
   ],
   "source": [
    "X <- 1.3+2.1i\n",
    "Y <- rcpp_marshall_double(X)\n",
    "Y <- rcpp_marshall_integer(X)\n",
    "Y <- rcpp_marshall_logical(X)\n",
    "# Y <- rcpp_marshall_character(X) - fails\n",
    "Y <- rcpp_marshall_complex(X)\n",
    "Y <- rcpp_marshall_complex(X)"
   ]
  },
  {
   "cell_type": "markdown",
   "id": "5453fdc9-0a8d-4d85-8816-a859bc6befb3",
   "metadata": {},
   "source": [
    "##### Marshall Character from R to C++"
   ]
  },
  {
   "cell_type": "code",
   "execution_count": 151,
   "id": "2fbdda36-0faa-4701-a1ae-086f43ed3753",
   "metadata": {},
   "outputs": [
    {
     "name": "stdout",
     "output_type": "stream",
     "text": [
      "a\n",
      "1\n"
     ]
    }
   ],
   "source": [
    "X <- 'a'\n",
    "# Y <- rcpp_marshall_double(X) - fails\n",
    "# Y <- rcpp_marshall_integer(X) - fails\n",
    "# Y <- rcpp_marshall_logical(X) - fails\n",
    "Y <- rcpp_marshall_character(X)\n",
    "# Y <- rcpp_marshall_complex(X) - fails\n",
    "\n",
    "X <- \"123\"\n",
    "# Y <- rcpp_marshall_double(X) - fails\n",
    "# Y <- rcpp_marshall_integer(X) - fails\n",
    "# Y <- rcpp_marshall_logical(X) - fails\n",
    "Y <- rcpp_marshall_character(X)\n",
    "# Y <- rcpp_marshall_complex(X) - fails"
   ]
  },
  {
   "cell_type": "markdown",
   "id": "9dc9731d-5f70-456b-8a3c-2ef7fc4f2817",
   "metadata": {},
   "source": [
    "##### Marshall from R to C++"
   ]
  },
  {
   "cell_type": "code",
   "execution_count": 154,
   "id": "db08dd35-19fb-4f91-8be9-bbc5d1d1e5d9",
   "metadata": {},
   "outputs": [
    {
     "name": "stdout",
     "output_type": "stream",
     "text": [
      "3.14\n",
      "double\n",
      "3\n",
      "integer\n",
      "0\n",
      "logical\n",
      "a\n",
      "character\n",
      "(1,2)\n",
      "complex\n"
     ]
    }
   ],
   "source": [
    "X <- 3.14 \n",
    "Y <- rcpp_marshall_double(X)\n",
    "cat(typeof(Y),'\\n',sep=\"\")\n",
    "X <- 3L\n",
    "Y <- rcpp_marshall_integer(X)\n",
    "cat(typeof(Y),'\\n',sep=\"\")\n",
    "X <- FALSE \n",
    "Y <- rcpp_marshall_logical(X)\n",
    "cat(typeof(Y),'\\n',sep=\"\")\n",
    "X <- 'a'\n",
    "Y <- rcpp_marshall_character(X)\n",
    "cat(typeof(Y),'\\n',sep=\"\")\n",
    "X <- 1.0 + 2.0i\n",
    "Y <- rcpp_marshall_complex(X)\n",
    "cat(typeof(Y),'\\n',sep=\"\")"
   ]
  },
  {
   "cell_type": "markdown",
   "id": "aec383e0-33f0-40a0-96b4-5232230457f3",
   "metadata": {},
   "source": [
    "### Marshalling data structures - Rcpp and the STL"
   ]
  },
  {
   "cell_type": "code",
   "execution_count": 137,
   "id": "5b072280-082b-4f24-9b83-984d4f5e76f2",
   "metadata": {},
   "outputs": [],
   "source": [
    "library(Rcpp)\n",
    "marshalling_code <- '\n",
    "#include \"Rcpp.h\"\n",
    "using namespace Rcpp;\n",
    "\n",
    "#include <string>\n",
    "#include <iostream>\n",
    "#include <complex>\n",
    "\n",
    "\n",
    "double marshall_double(const double& X)\n",
    "{\n",
    "    Rcout << X << std::endl;\n",
    "    double Y {3.14};\n",
    "    return Y;\n",
    "}\n",
    "\n",
    "int marshall_integer(const int& X)\n",
    "{\n",
    "    Rcout << X << std::endl;\n",
    "    int Y {3};\n",
    "    return Y;\n",
    "}\n",
    "\n",
    "bool marshall_logical(const bool& X)\n",
    "{\n",
    "    Rcout << X << std::endl;\n",
    "    bool Y = false;\n",
    "    return Y;\n",
    "}\n",
    "\n",
    "char marshall_character(const char& X)\n",
    "{\n",
    "    Rcout << X << std::endl;\n",
    "    char Y = \\'A\\';\n",
    "    return Y;\n",
    "}\n",
    "\n",
    "std::complex<double> marshall_complex(const std::complex<double>& X)\n",
    "{\n",
    "    Rcout << X <<  std::endl;\n",
    "    std::complex<double> Y {3.14,7.2};\n",
    "    return Y;\n",
    "}\n",
    "\n",
    "RCPP_MODULE(marshalling) \n",
    "{\n",
    "function(\"rcpp_marshall_double\", &marshall_double);\n",
    "function(\"rcpp_marshall_integer\", &marshall_integer);\n",
    "function(\"rcpp_marshall_logical\", &marshall_logical);\n",
    "function(\"rcpp_marshall_character\", &marshall_character);\n",
    "function(\"rcpp_marshall_complex\", &marshall_complex);\n",
    "}\n",
    "'\n",
    "sourceCpp(code = marshalling_code)"
   ]
  }
 ],
 "metadata": {
  "kernelspec": {
   "display_name": "R",
   "language": "R",
   "name": "ir"
  },
  "language_info": {
   "codemirror_mode": "r",
   "file_extension": ".r",
   "mimetype": "text/x-r-source",
   "name": "R",
   "pygments_lexer": "r",
   "version": "4.2.2"
  }
 },
 "nbformat": 4,
 "nbformat_minor": 5
}
