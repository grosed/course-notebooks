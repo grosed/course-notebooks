{
 "cells": [
  {
   "cell_type": "markdown",
   "id": "d1f06b9b-e572-4cdc-abb6-bbd2a680b8f5",
   "metadata": {},
   "source": [
    "# A minimal Rcpp package"
   ]
  },
  {
   "cell_type": "markdown",
   "id": "d14a24f8-888b-4174-8c0e-abdf319875f8",
   "metadata": {},
   "source": [
    "**R** provides a mechanism for grouping together related files containing, amongst other things, **R** code, **c++** code, documentation, data files, vignettes, and so on. This mechanism also supports the management of package dependencies, version control, package citations and so on."
   ]
  },
  {
   "cell_type": "markdown",
   "id": "3a78c9bc-fd8a-4671-a7da-1ce65bf98400",
   "metadata": {},
   "source": [
    "Although the R packaging mechanism is distinct from **Rcpp**, it can be used in conjunction with it. Afterall, **Rcpp** is an **R** package itself. One of the advantages of doing this (from the **Rcpp** perspective) is that the **R** package mechanism enables **Rcpp** to work with multiple **c++* source files."
   ]
  },
  {
   "cell_type": "markdown",
   "id": "151301aa-ae2b-49d9-8213-e90ac879bb2b",
   "metadata": {},
   "source": [
    "Ultimately, an **R** package is just a collection of appropriately named files in a prescribed directory structure. There are many tools to help you construct an **R** package, but the minimal **Rcpp** enabled package is quite simple to create. The figure below shows the basic directory structure and files needed to create a minimal **Rcpp** package.\n",
    "\n",
    "<img src=\"./images/package-structure.png\">\n",
    "\n",
    "Here, **praxi** is the name of the package being created."
   ]
  },
  {
   "cell_type": "markdown",
   "id": "cf25f5d1-d648-4e2c-829e-8444e2cbfd0e",
   "metadata": {},
   "source": [
    "### Exercise \n",
    "\n",
    "Create the above directory structure."
   ]
  },
  {
   "cell_type": "markdown",
   "id": "17cdfbff-6a75-4195-bf4e-0330bb5edca5",
   "metadata": {},
   "source": [
    "### The DESCRIPTION file\n",
    "\n",
    "The **DESCRIPTION** file contains a basic description of the package (named **praxi** in this case) and other information such as the package maintainer detalis and other R packages that **praxi** is dependent on. Notice  that that the Imports: and LinkingTo: fileds in the **DESCRIPTION** file list the **Rcpp** package.\n",
    "\n",
    "```R\n",
    "Package: praxi\n",
    "Type: Package\n",
    "Title: What the Package Does in One 'Title Case' Line\n",
    "Version: 1.0\n",
    "Date: 2024-02-29\n",
    "Author: Your Name\n",
    "Maintainer: Your Name <your@email.com>\n",
    "Description: One paragraph description of what the package does as one\n",
    "        or more full sentences.\n",
    "License: GPL (>= 2)\n",
    "Imports: Rcpp (>= 1.0.12)\n",
    "LinkingTo: Rcpp\n",
    "```"
   ]
  },
  {
   "cell_type": "markdown",
   "id": "ad66c3d2-7d18-4458-bf65-bce1c6bece5f",
   "metadata": {},
   "source": [
    "### Exercise \n",
    "\n",
    "Create the **DESCRIPTION** file and place it into the **praxi** package directory structure. Note, you can set the name of the package using the \n",
    "\n",
    "```R\n",
    "Package: \n",
    "```\n",
    "\n",
    "field of the **DESCRIPTION** file."
   ]
  },
  {
   "cell_type": "markdown",
   "id": "4df909b3-9444-4549-8771-76ca07bfe9d2",
   "metadata": {},
   "source": [
    "### The NAMESPACE file\n",
    "\n",
    "The **NAMESPACE** file also lists the dependencis of the package. It also registers the library when it is installed and exports the methods in the package for a user to access when the package is loaded using the **library** function within an **R** session or script. Notice that the package name appears in the **useDynLib** directive.\n",
    "\n",
    "\n",
    "```R\n",
    "useDynLib(praxi, .registration=TRUE)\n",
    "import(methods, Rcpp)\n",
    "exportPattern(\"^[[:alpha:]]+\")\n",
    "```"
   ]
  },
  {
   "cell_type": "markdown",
   "id": "604dace8-2488-475b-9614-c649a5b99854",
   "metadata": {},
   "source": [
    "### Exercise \n",
    "\n",
    "Create the **NAMESPACE** file and place it into the **praxi** package directory structure."
   ]
  },
  {
   "cell_type": "markdown",
   "id": "2388a50d-d363-480a-8a0c-ff3648a31688",
   "metadata": {},
   "source": [
    "### The load_Rcpp_module.R file¶\n",
    "\n",
    "This file is used to load **Rcpp** modules into an R session. \n",
    "\n",
    "```c++\n",
    "loadModule(\"marshalling\", TRUE)\n",
    "```\n",
    "\n",
    "Note, that the file does **not** have to be called load_Rcpp_module.R, but this is a good descriptive choice. It can also contain multiple loadModule directives (if you have more than one module to load. Of course, the module names correspond to those you use in your augmented **c++** code."
   ]
  },
  {
   "cell_type": "markdown",
   "id": "edb3af2f-3f2c-4b70-a79d-98ad3ea4b63e",
   "metadata": {},
   "source": [
    "### Exercise \n",
    "\n",
    "Create the **load_Rcpp_module.R** file and place it into the **praxi** package directory structure."
   ]
  },
  {
   "cell_type": "markdown",
   "id": "10c0d7e5-fec9-4260-bd90-c2ff6088418c",
   "metadata": {},
   "source": [
    "### The Makevars file\n",
    "\n",
    "The **Makevars** file is optional. It can be used to configure the way in which the R package gets constructed. Importantly, it can contain information about which version of **c++** compiler to use when creating the package.\n",
    "\n",
    "```R\n",
    "CXX_STD=CXX17\n",
    "```\n",
    "\n",
    "In this case, a **c++ 17** compiler is specified."
   ]
  },
  {
   "cell_type": "markdown",
   "id": "13156fb0-4985-409f-a83e-db0992da5194",
   "metadata": {},
   "source": [
    "### Exercise \n",
    "\n",
    "Create the **Makevars** file and place it into the **praxi** package directory structure."
   ]
  },
  {
   "cell_type": "markdown",
   "id": "03ddf2bd-c823-42be-b651-ea2f9728eb55",
   "metadata": {},
   "source": [
    "### The c++ source and header files\n",
    "\n",
    "To add **c++** code to the package, place your source code (*.cpp) and header (*.h) files in the **src** directory. This source code should include any **Rcpp** specific code, such as the module definitions. For example\n",
    "\n",
    "```c++\n",
    "#include \"Rcpp.h\"\n",
    "using namespace Rcpp;\n",
    "\n",
    "\n",
    "#include <string>\n",
    "#include <iostream>\n",
    "\n",
    "\n",
    "std::string marshall_string(const std::string& X)\n",
    "{\n",
    "    Rcout << X << std::endl;\n",
    "    std::string Y {\" blady blah ...\"};\n",
    "    return X + Y;\n",
    "}\n",
    "\n",
    "RCPP_MODULE(marshalling) \n",
    "{\n",
    "function(\"rcpp_marshall_string\", &marshall_string);\n",
    "}\n",
    "```\n",
    "\n",
    "Note that you can seperate your source code from the module definitions by using header files. Each *.cpp file in the src directory will be compiled and made available for use by other **c++** functions in your package. However, only those functions added to the module will be avaialble to users of your package."
   ]
  },
  {
   "cell_type": "markdown",
   "id": "c9835376-113c-472a-a780-cddb8f5cacce",
   "metadata": {},
   "source": [
    "## Installing an R package using devtools"
   ]
  },
  {
   "cell_type": "markdown",
   "id": "ccac635f-fa0d-406e-bc65-29264a49f25f",
   "metadata": {},
   "source": [
    "R packages can be installed in various different ways. For example, directly from **CRAN** using the **install.packages** function from within an **R** session. Packages can also be installed from compressed tar files, from local file systems, and from **github**. A useful package for managing the installation of R packages is **devtools**. This package has a wide variety of facilities to help with building, hosting, debugging, and maintaining R packages. the **devtools** package can be installed directly from **CRAN**. \n",
    "\n",
    "Note - **devtools** is a large package with many dependencies, so it may take some time to download and install.\n"
   ]
  },
  {
   "cell_type": "code",
   "execution_count": 4,
   "id": "f14a8699-58f5-4ffe-95aa-1bea0422b033",
   "metadata": {},
   "outputs": [
    {
     "name": "stderr",
     "output_type": "stream",
     "text": [
      "Installing package into ‘/home/grosedj1/STOR-601-env/R-packages’\n",
      "(as ‘lib’ is unspecified)\n",
      "\n"
     ]
    }
   ],
   "source": [
    "install.packages(\"devtools\")"
   ]
  },
  {
   "cell_type": "markdown",
   "id": "2fb29708-00fc-4ee3-ace8-9e360dbc10e9",
   "metadata": {},
   "source": [
    "Once **devtools** has been installed it is an easy process to install the minimal **Rcpp** package from the local file system.\n"
   ]
  },
  {
   "cell_type": "code",
   "execution_count": 2,
   "id": "b9e62ea1-fc69-4708-bcd3-204cb3fbb4df",
   "metadata": {},
   "outputs": [
    {
     "name": "stdout",
     "output_type": "stream",
     "text": [
      "\n",
      "\u001b[36m──\u001b[39m \u001b[36mR CMD build\u001b[39m \u001b[36m─────────────────────────────────────────────────────────────────\u001b[39m\n",
      "\u001b[32m✔\u001b[39m  \u001b[90mchecking for file ‘/tmp/RtmpcXf6Zd/file293b8b6eed24/praxi/DESCRIPTION’\u001b[39m\u001b[36m\u001b[39m\n",
      "\u001b[90m─\u001b[39m\u001b[90m  \u001b[39m\u001b[90mpreparing ‘praxi’:\u001b[39m\u001b[36m\u001b[39m\n",
      "\u001b[32m✔\u001b[39m  \u001b[90mchecking DESCRIPTION meta-information\u001b[39m\u001b[36m\u001b[39m\n",
      "\u001b[90m─\u001b[39m\u001b[90m  \u001b[39m\u001b[90mcleaning src\u001b[39m\u001b[36m\u001b[39m\n",
      "\u001b[90m─\u001b[39m\u001b[90m  \u001b[39m\u001b[90mchecking for LF line-endings in source and make files and shell scripts\u001b[39m\u001b[36m\u001b[39m\n",
      "\u001b[90m─\u001b[39m\u001b[90m  \u001b[39m\u001b[90mchecking for empty or unneeded directories\u001b[39m\u001b[36m\u001b[39m\n",
      "\u001b[90m─\u001b[39m\u001b[90m  \u001b[39m\u001b[90mbuilding ‘praxi_1.0.tar.gz’\u001b[39m\u001b[36m\u001b[39m\n",
      "   \n",
      "\r"
     ]
    },
    {
     "name": "stderr",
     "output_type": "stream",
     "text": [
      "Installing package into ‘/home/grosedj1/STOR-601-env/R-packages’\n",
      "(as ‘lib’ is unspecified)\n",
      "\n"
     ]
    }
   ],
   "source": [
    "library(devtools)\n",
    "install_local(\"praxi\",force=TRUE)"
   ]
  },
  {
   "cell_type": "markdown",
   "id": "3c24c82b-1cf6-42a6-bfdb-45a36f048013",
   "metadata": {},
   "source": [
    "The package has now avaialble for use in **R**."
   ]
  },
  {
   "cell_type": "code",
   "execution_count": 3,
   "id": "536266b6-955f-480f-93d7-393a87b1501d",
   "metadata": {},
   "outputs": [
    {
     "name": "stdout",
     "output_type": "stream",
     "text": [
      "hello\n"
     ]
    },
    {
     "data": {
      "text/html": [
       "'hello blady blah ...'"
      ],
      "text/latex": [
       "'hello blady blah ...'"
      ],
      "text/markdown": [
       "'hello blady blah ...'"
      ],
      "text/plain": [
       "[1] \"hello blady blah ...\""
      ]
     },
     "metadata": {},
     "output_type": "display_data"
    }
   ],
   "source": [
    "library(praxi)\n",
    "rcpp_marshall_string(\"hello\")"
   ]
  },
  {
   "cell_type": "markdown",
   "id": "b33e84f7-3ef1-42bd-9c70-48520c94072a",
   "metadata": {},
   "source": [
    "## Hosting a package on github"
   ]
  },
  {
   "cell_type": "markdown",
   "id": "3da50350-108c-4149-8c8f-a944cdfa0fad",
   "metadata": {},
   "source": [
    "The easiest way to organise an **R** package on github is to create a new repository with same name as the package. The files and directories within the R package are then added to the repository (i.e. the top level package directory is not included. For example, in the case of the **praxi** package the repository should look like.\n",
    "\n",
    "<img src=\"./images/praxi-github-repo.png\">"
   ]
  },
  {
   "cell_type": "markdown",
   "id": "bb6c71db-7506-43a3-b2cd-03de084101db",
   "metadata": {},
   "source": [
    "The package can now be installed directly from **github**, again usng **devtools**."
   ]
  },
  {
   "cell_type": "code",
   "execution_count": 2,
   "id": "2757115f-0d1e-424f-9dba-f87099f12b54",
   "metadata": {},
   "outputs": [
    {
     "name": "stderr",
     "output_type": "stream",
     "text": [
      "Downloading GitHub repo grosed/praxi@HEAD\n",
      "\n"
     ]
    },
    {
     "name": "stdout",
     "output_type": "stream",
     "text": [
      "\n",
      "\u001b[36m──\u001b[39m \u001b[36mR CMD build\u001b[39m \u001b[36m─────────────────────────────────────────────────────────────────\u001b[39m\n",
      "\u001b[32m✔\u001b[39m  \u001b[90mchecking for file ‘/tmp/RtmpXfyIQM/remotes2973288e5d5a/grosed-praxi-d51fbfb/DESCRIPTION’\u001b[39m\u001b[36m\u001b[39m\n",
      "\u001b[90m─\u001b[39m\u001b[90m  \u001b[39m\u001b[90mpreparing ‘praxi’:\u001b[39m\u001b[36m\u001b[39m\n",
      "\u001b[32m✔\u001b[39m  \u001b[90mchecking DESCRIPTION meta-information\u001b[39m\u001b[36m\u001b[39m\n",
      "\u001b[90m─\u001b[39m\u001b[90m  \u001b[39m\u001b[90mcleaning src\u001b[39m\u001b[36m\u001b[39m\n",
      "\u001b[90m─\u001b[39m\u001b[90m  \u001b[39m\u001b[90mchecking for LF line-endings in source and make files and shell scripts\u001b[39m\u001b[36m\u001b[39m\n",
      "\u001b[90m─\u001b[39m\u001b[90m  \u001b[39m\u001b[90mchecking for empty or unneeded directories\u001b[39m\u001b[36m\u001b[39m\n",
      "\u001b[90m─\u001b[39m\u001b[90m  \u001b[39m\u001b[90mbuilding ‘praxi_1.0.tar.gz’\u001b[39m\u001b[36m\u001b[39m\n",
      "   \n",
      "\r"
     ]
    },
    {
     "name": "stderr",
     "output_type": "stream",
     "text": [
      "Installing package into ‘/home/grosedj1/STOR-601-env/R-packages’\n",
      "(as ‘lib’ is unspecified)\n",
      "\n"
     ]
    }
   ],
   "source": [
    "devtools::install_github(\"grosed/praxi\",force=TRUE)"
   ]
  },
  {
   "cell_type": "code",
   "execution_count": 3,
   "id": "bcd73af9-d3e7-490e-80c7-760f22256c00",
   "metadata": {},
   "outputs": [
    {
     "name": "stdout",
     "output_type": "stream",
     "text": [
      "hello\n"
     ]
    },
    {
     "data": {
      "text/html": [
       "'hello blady blah ...'"
      ],
      "text/latex": [
       "'hello blady blah ...'"
      ],
      "text/markdown": [
       "'hello blady blah ...'"
      ],
      "text/plain": [
       "[1] \"hello blady blah ...\""
      ]
     },
     "metadata": {},
     "output_type": "display_data"
    }
   ],
   "source": [
    "library(praxi)\n",
    "rcpp_marshall_string(\"hello\")"
   ]
  }
 ],
 "metadata": {
  "kernelspec": {
   "display_name": "R",
   "language": "R",
   "name": "ir"
  },
  "language_info": {
   "codemirror_mode": "r",
   "file_extension": ".r",
   "mimetype": "text/x-r-source",
   "name": "R",
   "pygments_lexer": "r",
   "version": "4.1.2"
  }
 },
 "nbformat": 4,
 "nbformat_minor": 5
}
