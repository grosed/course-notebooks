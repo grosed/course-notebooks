{
 "cells": [
  {
   "cell_type": "code",
   "execution_count": null,
   "id": "e902f55b-5a4a-4e3c-beff-ec4555cefc06",
   "metadata": {},
   "outputs": [],
   "source": []
  },
  {
   "cell_type": "markdown",
   "id": "182c21ca-65e8-44ea-9dbe-33394b2825c2",
   "metadata": {},
   "source": [
    "Thusfar, the **sourceCpp** function from the **Rcpp** package has been used to process c++ written into a string variable within an **R** session. This is useful, but can soon become inconvenient. Alternatively, th **c++** code can be saved in a file and the name of this file provided as an argument to the **sourceCpp** function. For instance, the example from sction 1 could be saved into a file **example_1.cpp**, in which case "
   ]
  },
  {
   "cell_type": "code",
   "execution_count": 36,
   "id": "d0c09055-a651-4731-be32-ec441cc58349",
   "metadata": {},
   "outputs": [
    {
     "name": "stderr",
     "output_type": "stream",
     "text": [
      "Warning message in normalizePath(file, winslash = \"/\"):\n",
      "“path[1]=\"example_1.cpp\": No such file or directory”\n"
     ]
    },
    {
     "ename": "ERROR",
     "evalue": "Error in eval(expr, envir, enclos): file not found: 'example_1.cpp'\n",
     "output_type": "error",
     "traceback": [
      "Error in eval(expr, envir, enclos): file not found: 'example_1.cpp'\nTraceback:\n",
      "1. sourceCpp(file = \"example_1.cpp\")"
     ]
    }
   ],
   "source": [
    "sourceCpp(file=\"example_1.cpp\")\n"
   ]
  },
  {
   "cell_type": "markdown",
   "id": "62b1a202-79ac-4d94-8f93-e23ab483aa0a",
   "metadata": {},
   "source": [
    "This facility is helpful. However, most **c++*programs* programs will be organised into more than one file. Unfortunately, the **sourceCpp** function has nothing to offer to help with this, and can only \"manage\" a single source file."
   ]
  },
  {
   "cell_type": "markdown",
   "id": "d1f06b9b-e572-4cdc-abb6-bbd2a680b8f5",
   "metadata": {},
   "source": [
    "## A minimal Rcpp package"
   ]
  },
  {
   "cell_type": "markdown",
   "id": "d14a24f8-888b-4174-8c0e-abdf319875f8",
   "metadata": {},
   "source": [
    "**R** provides a mechanism for grouping related files containing, amongst other things, **R** code, **c++** code, documentation, data files, vignettes, and so on. This mechanism also supports the management of package dependencies, version control, package citations and so on."
   ]
  },
  {
   "cell_type": "markdown",
   "id": "3a78c9bc-fd8a-4671-a7da-1ce65bf98400",
   "metadata": {},
   "source": [
    "Although the R packaging mechanism is distinct from **Rcpp**, it can be used in conjunction with it. Afterall, **Rcpp** is an **R** package itself. One of the advantages of doing this (from the **Rcpp** perspective) is that the **R** package mechanism enables *8Rcpp** to work with multiple **c++* source files."
   ]
  },
  {
   "cell_type": "markdown",
   "id": "151301aa-ae2b-49d9-8213-e90ac879bb2b",
   "metadata": {},
   "source": [
    "Ultimately, an **R** package is just a collection of appropriately named files in a prescribed directory structure. There are many tools to help you construct an **R** package, but the minimal **Rcpp** enabled package is quite simple to create. The figure below shows the basic directory structure and files needed to create a minimal **Rcpp** package.\n",
    "\n",
    "<img src=\"./images/package-structure.png\">\n",
    "\n",
    "Here, **praxi** is the name of the package being created."
   ]
  },
  {
   "cell_type": "markdown",
   "id": "cf25f5d1-d648-4e2c-829e-8444e2cbfd0e",
   "metadata": {},
   "source": [
    "### Exercise \n",
    "\n",
    "Create the above directory structure."
   ]
  },
  {
   "cell_type": "markdown",
   "id": "17cdfbff-6a75-4195-bf4e-0330bb5edca5",
   "metadata": {},
   "source": [
    "### The DESCRIPTION file\n",
    "\n",
    "The **DESCRIPTION** file contains a basic description of the package (named **praxi** in this case) and other information such as the package maintainer detalis and other R packages that **praxi** is dependent on. Notice  that that the Imports: and LinkingTo: fileds in the **DESCRIPTION** file list the **Rcpp** package.\n",
    "\n",
    "```R\n",
    "Package: praxi\n",
    "Type: Package\n",
    "Title: What the Package Does in One 'Title Case' Line\n",
    "Version: 1.0\n",
    "Date: 2024-02-29\n",
    "Author: Your Name\n",
    "Maintainer: Your Name <your@email.com>\n",
    "Description: One paragraph description of what the package does as one\n",
    "        or more full sentences.\n",
    "License: GPL (>= 2)\n",
    "Imports: Rcpp (>= 1.0.12)\n",
    "LinkingTo: Rcpp\n",
    "```"
   ]
  },
  {
   "cell_type": "markdown",
   "id": "ad66c3d2-7d18-4458-bf65-bce1c6bece5f",
   "metadata": {},
   "source": [
    "### Exercise \n",
    "\n",
    "Create the **DESCRIPTION** file and place it into the **praxi** package directory structure. Note, you can set the name of the package using the \n",
    "\n",
    "```R\n",
    "Package: \n",
    "```\n",
    "\n",
    "field of the **DESCRIPTION** file."
   ]
  },
  {
   "cell_type": "markdown",
   "id": "4df909b3-9444-4549-8771-76ca07bfe9d2",
   "metadata": {},
   "source": [
    "### The NAMESPACE file\n",
    "\n",
    "The **NAMESPACE** file also lists the dependencis of the package. It also registers the library when it is installed and exports the methods in the package for a user to access when the package is loaded using the **library** function within an **R** session or script. Notice that the package name appears in the **useDynLib** directive.\n",
    "\n",
    "\n",
    "```R\n",
    "useDynLib(praxi, .registration=TRUE)\n",
    "import(methods, Rcpp)\n",
    "exportPattern(\"^[[:alpha:]]+\")\n",
    "```"
   ]
  },
  {
   "cell_type": "markdown",
   "id": "604dace8-2488-475b-9614-c649a5b99854",
   "metadata": {},
   "source": [
    "### Exercise \n",
    "\n",
    "Create the **NAMESPACE** file and place it into the **praxi** package directory structure."
   ]
  },
  {
   "cell_type": "markdown",
   "id": "2388a50d-d363-480a-8a0c-ff3648a31688",
   "metadata": {},
   "source": [
    "### The load_Rcpp_module.R file¶\n",
    "\n",
    "This file is used to load **Rcpp** modules into an R session. \n",
    "\n",
    "```c++\n",
    "loadModule(\"marshalling\", TRUE)\n",
    "```\n",
    "\n",
    "Note, that the file does **not** have to be called load_Rcpp_module.R, but this is a good descriptive choice. It can also contain multiple loadModule directives (if you have more than one module to load. Of course, the module names correspond to those you use in your augmented **c++** code."
   ]
  },
  {
   "cell_type": "markdown",
   "id": "edb3af2f-3f2c-4b70-a79d-98ad3ea4b63e",
   "metadata": {},
   "source": [
    "### Exercise \n",
    "\n",
    "Create the **load_Rcpp_module.R** file and place it into the **praxi** package directory structure."
   ]
  },
  {
   "cell_type": "markdown",
   "id": "10c0d7e5-fec9-4260-bd90-c2ff6088418c",
   "metadata": {},
   "source": [
    "### The Makevars file\n",
    "\n",
    "The **Makevars** file is optional. It can be used to configure the way in which the R package gets constructed. Importantly, it can contain information about which version of **c++** compiler to use when creating the package.\n",
    "\n",
    "```R\n",
    "CXX_STD=CXX17\n",
    "```\n",
    "\n",
    "In this case, a **c++ 17** compiler is specified."
   ]
  },
  {
   "cell_type": "markdown",
   "id": "13156fb0-4985-409f-a83e-db0992da5194",
   "metadata": {},
   "source": [
    "### Exercise \n",
    "\n",
    "Create the **Makevars** file and place it into the **praxi** package directory structure."
   ]
  },
  {
   "cell_type": "markdown",
   "id": "03ddf2bd-c823-42be-b651-ea2f9728eb55",
   "metadata": {},
   "source": [
    "### The c++ source and header files\n",
    "\n",
    "To add **c++** code to the package, place your source code (*.cpp) and header (*.h) files in the **src** directory. This source code should include any **Rcpp** specific code, such as the module definitions. For example\n",
    "\n",
    "```c++\n",
    "#include \"Rcpp.h\"\n",
    "using namespace Rcpp;\n",
    "\n",
    "\n",
    "#include <string>\n",
    "#include <iostream>\n",
    "\n",
    "\n",
    "std::string marshall_string(const std::string& X)\n",
    "{\n",
    "    Rcout << X << std::endl;\n",
    "    std::string Y {\" blady blah ...\"};\n",
    "    return X + Y;\n",
    "}\n",
    "\n",
    "\n",
    "\n",
    "\n",
    "RCPP_MODULE(marshalling) \n",
    "{\n",
    "function(\"rcpp_marshall_string\", &marshall_string);\n",
    "}\n",
    "```\n",
    "\n",
    "Note that you can seperate your source code from the module definitions by using header files. Each *.cpp file in the src directory will be compiled and made available for use by other **c++** functions in your package. However, only those functions added to the module will be avaialble to users of your package."
   ]
  },
  {
   "cell_type": "markdown",
   "id": "c9835376-113c-472a-a780-cddb8f5cacce",
   "metadata": {},
   "source": [
    "## Building and installing an R pakage"
   ]
  }
 ],
 "metadata": {
  "kernelspec": {
   "display_name": "R",
   "language": "R",
   "name": "ir"
  },
  "language_info": {
   "codemirror_mode": "r",
   "file_extension": ".r",
   "mimetype": "text/x-r-source",
   "name": "R",
   "pygments_lexer": "r",
   "version": "4.1.2"
  }
 },
 "nbformat": 4,
 "nbformat_minor": 5
}
