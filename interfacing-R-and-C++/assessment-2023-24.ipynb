{
 "cells": [
  {
   "cell_type": "markdown",
   "id": "98348f2b",
   "metadata": {},
   "source": [
    "# STOR-601 - Interfacing R and C++ - Assessment"
   ]
  },
  {
   "cell_type": "markdown",
   "id": "47cc59ce",
   "metadata": {},
   "source": [
    "## Background"
   ]
  },
  {
   "cell_type": "markdown",
   "id": "7afc38eb",
   "metadata": {},
   "source": [
    "This is the assessment for the \"Interfacing R and C++\" component of the STOR-601 module. \n",
    "\n",
    "To submit the assignment, send a link to the Github repository you create for the assessment by e-mail to\n",
    "[dan.grose@lancaster.ac.uk](mailto:dan.grose@lancaster.ac.uk) or use Github to send an invite to my Github account. My Github username is __grosed__.\n",
    "\n",
    "The assessment should be submitted by 29/03/2024."
   ]
  },
  {
   "cell_type": "markdown",
   "id": "9367f5bd",
   "metadata": {},
   "source": [
    "## Task 1"
   ]
  },
  {
   "cell_type": "markdown",
   "id": "247bce58",
   "metadata": {},
   "source": [
    "Create an R package using the Rcpp library that exposes a C++ implementation of the Fundamental Algorithm as described on page 9 of [Stable Marriage and Its Relation to Other Combinatorial Problems](https://ebookcentral.proquest.com/lib/lancaster/detail.action?docID=4908424) . Your package should provide a  __stable_marriage__ function which accepts input(s) that represent the preference tables. This function should return a stable matching as defined in [Stable Marriage and Its Relation to Other Combinatorial Problems](https://ebookcentral.proquest.com/lib/lancaster/detail.action?docID=4908424). \n",
    "\n",
    "You are free to choose how you represent the preference tables and stable matching in **R**.\n",
    "\n",
    "You can use [this](https://github.com/grosed/praxi) example Rcpp package as a template if required.\n",
    "\n",
    "**Marks : [30]**"
   ]
  },
  {
   "cell_type": "markdown",
   "id": "b059e6ef",
   "metadata": {},
   "source": [
    "## Task 2"
   ]
  },
  {
   "cell_type": "markdown",
   "id": "ae08d029",
   "metadata": {},
   "source": [
    "Host the R package you created for __Task 1__ on a Github repository in a way that allows the package to be installed using the __devtools__ package.\n",
    "\n",
    "**Marks : [10]**"
   ]
  },
  {
   "cell_type": "markdown",
   "id": "4d598d54",
   "metadata": {},
   "source": [
    "## Task 3"
   ]
  },
  {
   "cell_type": "markdown",
   "id": "648dd0b5",
   "metadata": {},
   "source": [
    "\n",
    "With reference to your [this](https://www.frontiersin.org/articles/10.3389/fninf.2017.00069/full) paper, rank your pseudo code and Python (from assessment 1), C++ (from assessment 2), and R package (assessment 3) in the following table. \n",
    "\n",
    "| | Replicable | Reproducable | Repeatable | Rerunable | Reusable |\n",
    "| --- | --- | --- | --- | --- | --- |\n",
    "| Pseudo Code | | | | | |\n",
    "| Python | | | | | |\n",
    "| C++ | | | | | |\n",
    "| R package | | | | | |\n",
    "\n",
    "Use the scale 1 (best) to 4 (worst) for each characteristic and provide a short explanation as to how you arrived at your ranking for each characteristic.\n",
    "\n",
    "Add your table and explanations to your Github repository using a jupyter notebook.\n",
    "\n",
    "\n",
    "**Marks : [20]**"
   ]
  },
  {
   "cell_type": "markdown",
   "id": "a8537817",
   "metadata": {},
   "source": [
    "## Task 4\n",
    "\n",
    "**Bonus marks**\n",
    "\n",
    "Add extra functions / functionality to your package (or both) to assist with pre and post processing of the input and output data of the __stable_marriage__ function. Some examples of what you might provide are (but not limited to) :\n",
    "\n",
    "- Add capability to the __stable_marriage__ function so it accepts different types of data structure as input\n",
    "- Error checking within the __stable_marriage__ function.\n",
    "- A random perturbation of the structure of the preference tables (why might this be interesting ?)\n",
    "\n",
    "Bonus marks can also be obtained for adding supporting material to your Github repository. For example,\n",
    "\n",
    "- A README.rd giving instructions on how to use install and use the package\n",
    "- A jupyter notebook with examples of the package being used.\n",
    "\n",
    "\n",
    "**Marks : [40]**\n"
   ]
  }
 ],
 "metadata": {
  "kernelspec": {
   "display_name": "Python 3 (ipykernel)",
   "language": "python",
   "name": "python3"
  },
  "language_info": {
   "codemirror_mode": {
    "name": "ipython",
    "version": 3
   },
   "file_extension": ".py",
   "mimetype": "text/x-python",
   "name": "python",
   "nbconvert_exporter": "python",
   "pygments_lexer": "ipython3",
   "version": "3.9.9"
  }
 },
 "nbformat": 4,
 "nbformat_minor": 5
}
