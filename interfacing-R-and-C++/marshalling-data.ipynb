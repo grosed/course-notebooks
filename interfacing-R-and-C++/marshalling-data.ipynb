{
 "cells": [
  {
   "cell_type": "markdown",
   "id": "57efa941-0dcf-404e-91cc-1034eb0cb30d",
   "metadata": {},
   "source": [
    "# Marshalling data - Rcpp and the STL"
   ]
  },
  {
   "cell_type": "markdown",
   "id": "03bc4873-a05c-45ce-9b99-29afc51b83af",
   "metadata": {},
   "source": [
    "<img src=\"./images/toton-sidings.jpg\" alt=\"Alternative text\" />\n",
    "\n",
    "#### Toton Marshalling Yard - Nottinghamshire, c1951."
   ]
  },
  {
   "cell_type": "markdown",
   "id": "3be4b81b-24bd-447a-816a-3c49fd5fa0fb",
   "metadata": {},
   "source": [
    "## Why **c++** ?"
   ]
  },
  {
   "cell_type": "markdown",
   "id": "87a8d550-35ad-459e-b51c-6cf40d865577",
   "metadata": {},
   "source": [
    "**c++** is a big and complicated language. There are a large number of reasons for **not** using it unless you really have to. On the other hand, there are some good reasons for using it. \n",
    "\n",
    "#### Exercise\n",
    "\n",
    "Can you think of any ?"
   ]
  },
  {
   "cell_type": "markdown",
   "id": "00aa1d4b-41c6-4fd0-a8b5-71737d2b5bea",
   "metadata": {},
   "source": [
    "## Marshalling"
   ]
  },
  {
   "cell_type": "markdown",
   "id": "d2419343-d9ea-4394-a9e6-794c65f022e8",
   "metadata": {},
   "source": [
    "\"In computer science, marshalling is the process of transforming the memory representation of an object into a data format suitable for storage or transmission, especially between different software components. It is typically used when data must be moved between different parts of a computer program or from one program to another.\n",
    "\n",
    "Marshalling simplifies complex communications, because it allows using composite objects instead of being restricted to primitive objects.\"\n",
    "\n",
    "Derived from the Wikipedia entry for [Marshalling (computer science)](https://en.wikipedia.org/wiki/Marshalling_(computer_science)."
   ]
  },
  {
   "cell_type": "markdown",
   "id": "8f2e93cf-c184-4430-86f2-ea4ae351e760",
   "metadata": {},
   "source": [
    "### Marshalling atomic types with Rcpp"
   ]
  },
  {
   "cell_type": "markdown",
   "id": "3ffab011-6c80-455b-9cec-51ff7a024e2a",
   "metadata": {},
   "source": [
    "Different computer systems and languages represent data structures in different ways. For example, in **R** a list can have names for each entry. In python this would be achieved by using a dictionary (in R, an **env** can be used as a dictionary in the same way as in python, but only for character valued keys). \n",
    "\n",
    "Between **R** and **c++** the basic types are quite similar. However, there are a number of automatic conversion rules that take place. The following examples highlights this. "
   ]
  },
  {
   "cell_type": "code",
   "execution_count": 1,
   "id": "b3ed5c30-3231-45e8-a58e-a969e3acd719",
   "metadata": {},
   "outputs": [],
   "source": [
    "library(Rcpp)\n",
    "marshalling_code <- '\n",
    "#include \"Rcpp.h\"\n",
    "using namespace Rcpp;\n",
    "\n",
    "#include <string>\n",
    "#include <iostream>\n",
    "#include <complex>\n",
    "\n",
    "\n",
    "double marshall_double(const double& X)\n",
    "{\n",
    "    Rcout << X << std::endl;\n",
    "    double Y {3.14};\n",
    "    return Y;\n",
    "}\n",
    "\n",
    "int marshall_integer(const int& X)\n",
    "{\n",
    "    Rcout << X << std::endl;\n",
    "    int Y {3};\n",
    "    return Y;\n",
    "}\n",
    "\n",
    "bool marshall_logical(const bool& X)\n",
    "{\n",
    "    Rcout << X << std::endl;\n",
    "    bool Y = false;\n",
    "    return Y;\n",
    "}\n",
    "\n",
    "char marshall_character(const char& X)\n",
    "{\n",
    "    Rcout << X << std::endl;\n",
    "    char Y = \\'A\\';\n",
    "    return Y;\n",
    "}\n",
    "\n",
    "std::complex<double> marshall_complex(const std::complex<double>& X)\n",
    "{\n",
    "    Rcout << X <<  std::endl;\n",
    "    std::complex<double> Y {3.14,7.2};\n",
    "    return Y;\n",
    "}\n",
    "\n",
    "RCPP_MODULE(marshalling) \n",
    "{\n",
    "function(\"rcpp_marshall_double\", &marshall_double);\n",
    "function(\"rcpp_marshall_integer\", &marshall_integer);\n",
    "function(\"rcpp_marshall_logical\", &marshall_logical);\n",
    "function(\"rcpp_marshall_character\", &marshall_character);\n",
    "function(\"rcpp_marshall_complex\", &marshall_complex);\n",
    "}\n",
    "'\n",
    "sourceCpp(code = marshalling_code)"
   ]
  },
  {
   "cell_type": "markdown",
   "id": "47b2f145-b620-4450-bf59-67428d365006",
   "metadata": {},
   "source": [
    "#### Marshall double from R to C++"
   ]
  },
  {
   "cell_type": "code",
   "execution_count": 2,
   "id": "05168440-83c3-431e-87dd-185ba1772d91",
   "metadata": {},
   "outputs": [
    {
     "name": "stdout",
     "output_type": "stream",
     "text": [
      "3.14\n",
      "3\n",
      "1\n",
      "(3.14,0)\n"
     ]
    }
   ],
   "source": [
    "X <- 3.14\n",
    "Y <- rcpp_marshall_double(X)\n",
    "Y <- rcpp_marshall_integer(X)\n",
    "Y <- rcpp_marshall_logical(X)\n",
    "# Y <- rcpp_marshall_character(X) - fails\n",
    "Y <- rcpp_marshall_complex(X)"
   ]
  },
  {
   "cell_type": "markdown",
   "id": "6fcf9260-6db4-4300-a097-bcb331bcfbd7",
   "metadata": {},
   "source": [
    "#### Marshall integer from R to C++"
   ]
  },
  {
   "cell_type": "code",
   "execution_count": 3,
   "id": "5d47bc52-4c0a-4a25-b2c5-c22f2e0cba9c",
   "metadata": {},
   "outputs": [
    {
     "name": "stdout",
     "output_type": "stream",
     "text": [
      "7\n",
      "7\n",
      "1\n",
      "(7,0)\n"
     ]
    }
   ],
   "source": [
    "X <- 7L\n",
    "Y <- rcpp_marshall_double(X)\n",
    "Y <- rcpp_marshall_integer(X)\n",
    "Y <- rcpp_marshall_logical(X)\n",
    "# Y <- rcpp_marshall_character(X) - fails\n",
    "Y <- rcpp_marshall_complex(X)"
   ]
  },
  {
   "cell_type": "markdown",
   "id": "bd5750fb-e760-43fc-8bd7-096bc0731cda",
   "metadata": {},
   "source": [
    "#### Marshall logical from R to C++"
   ]
  },
  {
   "cell_type": "code",
   "execution_count": 4,
   "id": "66f3c093-6921-491a-81ad-89e2a7df4681",
   "metadata": {},
   "outputs": [
    {
     "name": "stdout",
     "output_type": "stream",
     "text": [
      "1\n",
      "1\n",
      "1\n",
      "(1,0)\n"
     ]
    }
   ],
   "source": [
    "X <- TRUE\n",
    "Y <- rcpp_marshall_double(X)\n",
    "Y <- rcpp_marshall_integer(X)\n",
    "Y <- rcpp_marshall_logical(X)\n",
    "# Y <- rcpp_marshall_character(X) - fails\n",
    "Y <- rcpp_marshall_complex(X)"
   ]
  },
  {
   "cell_type": "markdown",
   "id": "43eedf6d-833a-4f3f-bfe6-06a868b288c6",
   "metadata": {},
   "source": [
    "#### Marshall complex from R to C++"
   ]
  },
  {
   "cell_type": "code",
   "execution_count": 5,
   "id": "faea8ff4-f8f0-4680-be28-29d3003b5ccc",
   "metadata": {},
   "outputs": [
    {
     "name": "stderr",
     "output_type": "stream",
     "text": [
      "Warning message in rcpp_marshall_double(X):\n",
      "“imaginary parts discarded in coercion”\n"
     ]
    },
    {
     "name": "stdout",
     "output_type": "stream",
     "text": [
      "1.3\n"
     ]
    },
    {
     "name": "stderr",
     "output_type": "stream",
     "text": [
      "Warning message in rcpp_marshall_integer(X):\n",
      "“imaginary parts discarded in coercion”\n"
     ]
    },
    {
     "name": "stdout",
     "output_type": "stream",
     "text": [
      "1\n",
      "1\n",
      "(1.3,2.1)\n",
      "(1.3,2.1)\n"
     ]
    }
   ],
   "source": [
    "X <- 1.3+2.1i\n",
    "Y <- rcpp_marshall_double(X)\n",
    "Y <- rcpp_marshall_integer(X)\n",
    "Y <- rcpp_marshall_logical(X)\n",
    "# Y <- rcpp_marshall_character(X) - fails\n",
    "Y <- rcpp_marshall_complex(X)\n",
    "Y <- rcpp_marshall_complex(X)"
   ]
  },
  {
   "cell_type": "markdown",
   "id": "b9706d62-411c-4726-9fc6-519c0b5a1ade",
   "metadata": {},
   "source": [
    "#### Marshall Character from R to C++"
   ]
  },
  {
   "cell_type": "code",
   "execution_count": 6,
   "id": "ef9d31e5-952f-4592-9558-1ea31b907339",
   "metadata": {},
   "outputs": [
    {
     "name": "stdout",
     "output_type": "stream",
     "text": [
      "a\n",
      "1\n"
     ]
    }
   ],
   "source": [
    "X <- 'a'\n",
    "# Y <- rcpp_marshall_double(X) - fails\n",
    "# Y <- rcpp_marshall_integer(X) - fails\n",
    "# Y <- rcpp_marshall_logical(X) - fails\n",
    "Y <- rcpp_marshall_character(X)\n",
    "# Y <- rcpp_marshall_complex(X) - fails\n",
    "\n",
    "X <- \"123\"\n",
    "# Y <- rcpp_marshall_double(X) - fails\n",
    "# Y <- rcpp_marshall_integer(X) - fails\n",
    "# Y <- rcpp_marshall_logical(X) - fails\n",
    "Y <- rcpp_marshall_character(X)\n",
    "# Y <- rcpp_marshall_complex(X) - fails"
   ]
  },
  {
   "cell_type": "markdown",
   "id": "4df3eb10-84c5-4648-a0e6-65fad1943931",
   "metadata": {},
   "source": [
    "#### Marshall from R to C++"
   ]
  },
  {
   "cell_type": "code",
   "execution_count": 7,
   "id": "d31cbe8d-7fb5-4d32-89d9-680ba91abc8f",
   "metadata": {},
   "outputs": [
    {
     "name": "stdout",
     "output_type": "stream",
     "text": [
      "3.14\n",
      "double\n",
      "3\n",
      "integer\n",
      "0\n",
      "logical\n",
      "a\n",
      "character\n",
      "(1,2)\n",
      "complex\n"
     ]
    }
   ],
   "source": [
    "X <- 3.14 \n",
    "Y <- rcpp_marshall_double(X)\n",
    "cat(typeof(Y),'\\n',sep=\"\")\n",
    "X <- 3L\n",
    "Y <- rcpp_marshall_integer(X)\n",
    "cat(typeof(Y),'\\n',sep=\"\")\n",
    "X <- FALSE \n",
    "Y <- rcpp_marshall_logical(X)\n",
    "cat(typeof(Y),'\\n',sep=\"\")\n",
    "X <- 'a'\n",
    "Y <- rcpp_marshall_character(X)\n",
    "cat(typeof(Y),'\\n',sep=\"\")\n",
    "X <- 1.0 + 2.0i\n",
    "Y <- rcpp_marshall_complex(X)\n",
    "cat(typeof(Y),'\\n',sep=\"\")"
   ]
  },
  {
   "cell_type": "markdown",
   "id": "7a574392-f558-446a-91af-763b71b049bf",
   "metadata": {},
   "source": [
    "### Marshalling and the STL"
   ]
  },
  {
   "cell_type": "markdown",
   "id": "dccbef11-c23d-4453-a257-c90b6bc9a835",
   "metadata": {},
   "source": [
    "One of the outstanding successes of **c++** is the availabily (through **c++** templates) of \"type variables\". Using type variables well typically requires a lot of **c++** experience. However, a direct consequence of **c++** templates is the **Standard Template Library** (**STL**).\n",
    "\n",
    "The **STL** provides a rich library of data structures and generic algorithms to operate on these data strucures. It provides a **compelling** reason for using **c++** over (most) other programming languages that are ammicable for compilation, particularly when using them for scientific computing. Because of the value of the **STL**, **Rcpp** would be quite limited if it did not provide a means of \"marshalling\" **R** data structures to their **STL** counterparts, and vice versa. Consequently, a **lot** of **hard work** has been done in **Rcpp** on your behalf. Most of this you never directly see - that's the good bit about it !!\n",
    "\n",
    "However, marshalling data strucures between different languages and systems always has some limitations."
   ]
  },
  {
   "cell_type": "markdown",
   "id": "dfcfa28b-3e2c-43b1-ade5-14c240286626",
   "metadata": {},
   "source": [
    "\n",
    "\n",
    "Here is an example of how **Rcpp** quite seamlessly marshalls vectors between **R** and **c++**."
   ]
  },
  {
   "cell_type": "code",
   "execution_count": 8,
   "id": "99c34b0b-e211-43dc-9292-3ee0bb4e37b2",
   "metadata": {},
   "outputs": [
    {
     "data": {
      "text/html": [
       "<style>\n",
       ".list-inline {list-style: none; margin:0; padding: 0}\n",
       ".list-inline>li {display: inline-block}\n",
       ".list-inline>li:not(:last-child)::after {content: \"\\00b7\"; padding: 0 .5ex}\n",
       "</style>\n",
       "<ol class=list-inline><li>3.14</li><li>6.28</li><li>9.42</li><li>12.56</li><li>15.7</li></ol>\n"
      ],
      "text/latex": [
       "\\begin{enumerate*}\n",
       "\\item 3.14\n",
       "\\item 6.28\n",
       "\\item 9.42\n",
       "\\item 12.56\n",
       "\\item 15.7\n",
       "\\end{enumerate*}\n"
      ],
      "text/markdown": [
       "1. 3.14\n",
       "2. 6.28\n",
       "3. 9.42\n",
       "4. 12.56\n",
       "5. 15.7\n",
       "\n",
       "\n"
      ],
      "text/plain": [
       "[1]  3.14  6.28  9.42 12.56 15.70"
      ]
     },
     "metadata": {},
     "output_type": "display_data"
    }
   ],
   "source": [
    "library(Rcpp)\n",
    "marshalling_code <- '\n",
    "#include \"Rcpp.h\"\n",
    "using namespace Rcpp;\n",
    "\n",
    "#include<vector> \n",
    "\n",
    "std::vector<double> marshall_vectors(const std::vector<double> X)\n",
    "{\n",
    "    auto n = X.size();\n",
    "    std::vector<double> Y(n);\n",
    "    for(int i = 0; i < n; i++)\n",
    "    {\n",
    "       Y[i] = 3.14*X[i];\n",
    "    }\n",
    "    return Y;\n",
    "}\n",
    "\n",
    "\n",
    "RCPP_MODULE(marshalling) \n",
    "{\n",
    "function(\"rcpp_marshall_vectors\", &marshall_vectors);\n",
    "}\n",
    "'\n",
    "\n",
    "sourceCpp(code = marshalling_code)\n",
    "\n",
    "X <- c(1L,2L,3L,4L,5L)\n",
    "Y <- rcpp_marshall_vectors(X)\n",
    "Y"
   ]
  },
  {
   "cell_type": "markdown",
   "id": "71a5e41c-d898-417a-9f9f-fa78dae5b664",
   "metadata": {},
   "source": [
    "Note that the automatic conversion rules are still at play. Also, the **type** stored by the **STL** container (vector in this case), can be any of the atomic types.\n",
    "\n",
    "#### Exercise\n",
    "\n",
    "Check this."
   ]
  },
  {
   "cell_type": "markdown",
   "id": "48b1583a-8cb4-4442-a731-167c3ac0fca8",
   "metadata": {},
   "source": [
    "#### Marshalling lists "
   ]
  },
  {
   "cell_type": "markdown",
   "id": "105800e2-fd16-4128-bb88-e90578d9fa21",
   "metadata": {},
   "source": [
    "Marshalling lists between **R** and **c++** is a bit more complicated. The main reason for this is that **R** lists are inhomogenous and **STL** lists are homogenous. This inhomogeneity/homogeneity is compounded by the fact that lists are **recursive** data structures in both **R** and **c++**"
   ]
  },
  {
   "cell_type": "code",
   "execution_count": 9,
   "id": "7aa6604f-046c-45d8-afe7-1cfa642088e6",
   "metadata": {},
   "outputs": [
    {
     "name": "stdout",
     "output_type": "stream",
     "text": [
      "[1]  3.768  6.908 10.048\n",
      "[1]  3.140  6.908 10.048\n"
     ]
    }
   ],
   "source": [
    "library(Rcpp)\n",
    "marshalling_code <- '\n",
    "#include \"Rcpp.h\"\n",
    "using namespace Rcpp;\n",
    "\n",
    "#include<list> \n",
    "\n",
    "std::list<double> marshall_lists(const std::list<std::vector<double> > X)\n",
    "{\n",
    "    \n",
    "    std::list<double> Y;\n",
    "    for(const auto& x : X)\n",
    "    {\n",
    "       Y.push_back(3.14*x[0]);\n",
    "    }\n",
    "    return Y;\n",
    "}\n",
    "\n",
    "\n",
    "RCPP_MODULE(marshalling) \n",
    "{\n",
    "function(\"rcpp_marshall_lists\", &marshall_lists);\n",
    "}\n",
    "'\n",
    "\n",
    "sourceCpp(code = marshalling_code)\n",
    "\n",
    "X <- list()\n",
    "X[[1]] <- 1.2\n",
    "X[[2]] <- 2.2\n",
    "X[[3]] <- 3.2\n",
    "Y <- rcpp_marshall_lists(X)\n",
    "print(Y)\n",
    "\n",
    "X[[1]] <- c(1,2,3,4)\n",
    "Y <- rcpp_marshall_lists(X)\n",
    "print(Y)"
   ]
  },
  {
   "cell_type": "markdown",
   "id": "3d3ea848-f687-4ee5-822f-718034cbec84",
   "metadata": {},
   "source": [
    "## Workshop activity"
   ]
  },
  {
   "cell_type": "markdown",
   "id": "14d7ed7a-1268-4c75-85f5-4c10f4dbc4ad",
   "metadata": {},
   "source": [
    "Experiment by writing some simple test code to see if it is possible to marshall the following data structures between **R** and **c++** using Rcpp."
   ]
  },
  {
   "cell_type": "markdown",
   "id": "b753cc56-e225-4593-9857-0f8dee665da6",
   "metadata": {},
   "source": [
    "Experiment by writing some simple test code to see if it is possible to marshall the following data structures between **R** and **c++** using Rcpp.\n",
    "\n",
    "| **R** |  | **c++** | \n",
    "|---|---|---|\n",
    "| vector | -> | ? |\n",
    "| list | -> | ? |\n",
    "| dataframe | -> | ? |\n",
    "| matrix | -> | ? |\n",
    "| vector | <- | ? |\n",
    "| list | <- | ? |\n",
    "| dataframe | <- | ? |\n",
    "| matrix | <- | ? |\n",
    "\n",
    "Here, the **?** indicates an **STL** structure or composition of two (or more) **STL** data structures. Think of which STL data structures might be suitable candidates and experiment with it to see if you can get it to work. Work together as a team to cover as many possibilities as you can.\n",
    "\n"
   ]
  }
 ],
 "metadata": {
  "kernelspec": {
   "display_name": "R",
   "language": "R",
   "name": "ir"
  },
  "language_info": {
   "codemirror_mode": "r",
   "file_extension": ".r",
   "mimetype": "text/x-r-source",
   "name": "R",
   "pygments_lexer": "r",
   "version": "4.2.2"
  }
 },
 "nbformat": 4,
 "nbformat_minor": 5
}
