{
 "cells": [
  {
   "cell_type": "markdown",
   "id": "371046c2-4fa0-46c3-a6bd-1c716370bdb5",
   "metadata": {},
   "source": [
    "# Using the **Rcpp** package to access **c++** code from within **R**"
   ]
  },
  {
   "cell_type": "markdown",
   "id": "df67f6cb-3397-4f3a-baa3-ea1cbd0f5872",
   "metadata": {},
   "source": [
    "## Background"
   ]
  },
  {
   "cell_type": "markdown",
   "id": "a1d422aa-30ce-43f5-acdd-58fe8ff2ec48",
   "metadata": {},
   "source": [
    "**Rcpp** is an **R** package designed to automate many parts of the (quite complicated) process of accessing methods implemented in **c++** from within an **R** session (or indeed, an **R** package - see later section). To be able to use **Rcpp** the **Rcpp** package has to be installed. The **Rcpp** package is hosted on CRAN and can be installed using  "
   ]
  },
  {
   "cell_type": "markdown",
   "id": "e7131d2f-1be3-49d3-9689-83f241e89b8e",
   "metadata": {},
   "source": [
    "```c++\n",
    "R> install.packages(\"Rcpp\")\n",
    "```"
   ]
  },
  {
   "cell_type": "markdown",
   "id": "db2ae07a-0438-44a7-b435-bf0137ccad1b",
   "metadata": {},
   "source": [
    "## Using the **sourceCpp** function"
   ]
  },
  {
   "cell_type": "markdown",
   "id": "2a6e9e0c-bef4-49a1-b1c4-4a69e018c38a",
   "metadata": {},
   "source": [
    "Perhaps the easiest way to see how **c++** can be added to **R** is via a simple example. To this end, the following c++ code will be added to R using the **sourceCpp** function which is provided by the **Rcpp** package."
   ]
  },
  {
   "cell_type": "markdown",
   "id": "1b584692-99e9-4a2e-8db2-44259778ca87",
   "metadata": {},
   "source": [
    "### Preparing your **c++** code"
   ]
  },
  {
   "cell_type": "markdown",
   "id": "de18f85c-8e49-450b-98e8-4e5963ee7c03",
   "metadata": {},
   "source": [
    "```c++\n",
    "#include <string>\n",
    "\n",
    "std::string example_1(const std::string& arg) \n",
    "{\n",
    "   std::string message {\"hello\"};\n",
    "   return message + \" \" + arg;\n",
    "}\n",
    "```"
   ]
  },
  {
   "cell_type": "markdown",
   "id": "d305d70f-f5f9-4190-8841-bbde856f7dbe",
   "metadata": {},
   "source": [
    "To embed this function in **R** using **Rcpp**, some additional \"boiler plate\" code has to be added. "
   ]
  },
  {
   "cell_type": "markdown",
   "id": "f3425f20-d4c8-4a19-be50-ef4f1a11c2a4",
   "metadata": {},
   "source": [
    "```c++\n",
    "#include \"Rcpp.h\"\n",
    "using namespace Rcpp;\n",
    "\n",
    "#include <string>\n",
    "\n",
    "std::string example_1(const std::string& arg) \n",
    "{\n",
    "   std::string message {\"hello\"};\n",
    "   return message + \" \" + arg;\n",
    "}\n",
    "\n",
    "RCPP_MODULE(stor601) \n",
    "{\n",
    "function(\"rcpp_example_1\", &example_1);\n",
    "}\n",
    "```"
   ]
  },
  {
   "cell_type": "markdown",
   "id": "7bd16ca7-89cb-4dc0-843c-6dbee668ace8",
   "metadata": {},
   "source": [
    "The first addition\n",
    "\n",
    "```c++\n",
    "#include \"Rcpp.h\"\n",
    "using namespace Rcpp;\n",
    "```\n",
    "\n",
    "imports the c++ code provided by the **Rcpp** package that will expose your function to **R** and, perhaps more significantly, \"marshalls\" data between **R** and **c++** (more on this later). \n"
   ]
  },
  {
   "cell_type": "markdown",
   "id": "efb4b722-1439-4977-961c-d8cd091cb830",
   "metadata": {},
   "source": [
    "The second addition\n",
    "\n",
    "```c++\n",
    "RCPP_MODULE(stor601) \n",
    "{\n",
    "function(\"rcpp_example_1\", &example_1);\n",
    "}\n",
    "```\n",
    "\n",
    "creates an **Rcpp** module which contains your c++ method within an R session. Each module (you can have more than one) has a name, in this case **stor601**. The module definition indicates which function you want to expose to **R**, in this case **example_1**, and the name you want to give this function for use in **R**, in this example, **rcpp_example_1**  (this may be the same or different to the functions name in **c++**). "
   ]
  },
  {
   "cell_type": "markdown",
   "id": "2e102889-9650-42aa-a594-899ae9fb54e5",
   "metadata": {},
   "source": [
    "### Adding your code to R"
   ]
  },
  {
   "cell_type": "markdown",
   "id": "798f41ee-cdee-4b9b-a84e-085efc08b9c8",
   "metadata": {},
   "source": [
    "Perhaps the easiest (but maybe not the most effective) way of adding your (augmented) **c++** code to **R** is demonstrated in the example **R** session below."
   ]
  },
  {
   "cell_type": "code",
   "execution_count": 5,
   "id": "9e4dfc2e-6ea4-4340-90cc-fd0250a33823",
   "metadata": {},
   "outputs": [
    {
     "data": {
      "text/html": [
       "'hello world'"
      ],
      "text/latex": [
       "'hello world'"
      ],
      "text/markdown": [
       "'hello world'"
      ],
      "text/plain": [
       "[1] \"hello world\""
      ]
     },
     "metadata": {},
     "output_type": "display_data"
    }
   ],
   "source": [
    "library(Rcpp) # load the Rcpp package\n",
    "\n",
    "# write your code into a string\n",
    "cpp_code <- '\n",
    "#include \"Rcpp.h\"\n",
    "using namespace Rcpp;\n",
    "\n",
    "#include <string>\n",
    "\n",
    "std::string example_1(const std::string& arg) \n",
    "{\n",
    "   std::string message {\"hello\"};\n",
    "   return message + \" \" + arg;\n",
    "}\n",
    "\n",
    "RCPP_MODULE(stor601) \n",
    "{\n",
    "function(\"rcpp_example_1\", &example_1);\n",
    "}\n",
    "'\n",
    "\n",
    "# add your code to R\n",
    "sourceCpp(code = cpp_code)\n",
    "\n",
    "# test your code\n",
    "rcpp_example_1(\"world\")\n"
   ]
  },
  {
   "cell_type": "markdown",
   "id": "8fa34521-b65d-4ea7-ae86-faf7664744bd",
   "metadata": {},
   "source": [
    "Voila !! **c++** in **R** !!!"
   ]
  },
  {
   "cell_type": "markdown",
   "id": "17a8668f-6457-4af1-b0b7-82e85c8d91a5",
   "metadata": {},
   "source": [
    "There are three key things to notice in this example.\n",
    "\n",
    "1. The **c++** code has been \"wrapped\" as a string in **R**\n",
    "2. the **sourceCpp** function takes this string as an argument.\n",
    "3. The **c++** function becomes available in **R** (using the name you provided in the module definition)."
   ]
  }
 ],
 "metadata": {
  "kernelspec": {
   "display_name": "R",
   "language": "R",
   "name": "ir"
  },
  "language_info": {
   "codemirror_mode": "r",
   "file_extension": ".r",
   "mimetype": "text/x-r-source",
   "name": "R",
   "pygments_lexer": "r",
   "version": "4.2.2"
  }
 },
 "nbformat": 4,
 "nbformat_minor": 5
}
