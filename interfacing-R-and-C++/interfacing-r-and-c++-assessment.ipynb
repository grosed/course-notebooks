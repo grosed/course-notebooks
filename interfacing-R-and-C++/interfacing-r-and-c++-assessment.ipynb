{
 "cells": [
  {
   "cell_type": "markdown",
   "id": "98348f2b",
   "metadata": {},
   "source": [
    "# STOR-601 - Interfacing R and C++ - Assessment"
   ]
  },
  {
   "cell_type": "markdown",
   "id": "47cc59ce",
   "metadata": {},
   "source": [
    "## Background"
   ]
  },
  {
   "cell_type": "markdown",
   "id": "7afc38eb",
   "metadata": {},
   "source": [
    "This is the assessment for the \"Interfacing R and C++\" component of the STOR-601 module. This assessment requires you to use parts of the work you did for assessments 1 and 2 of STOR-601.\n",
    "\n",
    "To submit the assignment, send a link to the Github repository you create for the assessment by e-mail to\n",
    "[dan.grose@lancaster.ac.uk](mailto:dan.grose@lancaster.ac.uk) or use Github to send an invite to my Github account. My Github username is __grosed__.\n",
    "\n",
    "The assessment should be submitted by 31/03/2023."
   ]
  },
  {
   "cell_type": "markdown",
   "id": "9367f5bd",
   "metadata": {},
   "source": [
    "## Task 1"
   ]
  },
  {
   "cell_type": "markdown",
   "id": "247bce58",
   "metadata": {},
   "source": [
    "Create an R package using the Rcpp library that exposes a C++ implementation of the Jarvis March Algorithm. Your package should provide a function  __jarvis_march__ which accepts a single vector, or list, or data frame, consisting of $(x,y)$ values representing the coordinates of a set of points in a plane. Your function should return a vector, or list, or data frame of $(x_{0},y_{0},x_{1},y_{1})$ values representing line segments in the plane that constitute the convex hull of the input points.\n",
    "\n",
    "**Marks : [30]**"
   ]
  },
  {
   "cell_type": "markdown",
   "id": "b059e6ef",
   "metadata": {},
   "source": [
    "## Task 2"
   ]
  },
  {
   "cell_type": "markdown",
   "id": "ae08d029",
   "metadata": {},
   "source": [
    "Host the R package you created for __Task 1__ on a Github repository in a way that allows the package to be installed using the __devtools__ package.\n",
    "\n",
    "**Marks : [10]**"
   ]
  },
  {
   "cell_type": "markdown",
   "id": "4d598d54",
   "metadata": {},
   "source": [
    "## Task 3"
   ]
  },
  {
   "cell_type": "markdown",
   "id": "648dd0b5",
   "metadata": {},
   "source": [
    "\n",
    "With reference to your [this](https://www.frontiersin.org/articles/10.3389/fninf.2017.00069/full) paper, rank your pseudo code and Python (from assessment 1), C++ (from assessment 2), and R package (assessment 3) in the following table. \n",
    "\n",
    "| | Replicable | Reproducable | Repeatable | Rerunable | Reusable |\n",
    "| --- | --- | --- | --- | --- | --- |\n",
    "| Pseudo Code | | | | | |\n",
    "| Python | | | | | |\n",
    "| C++ | | | | | |\n",
    "| R package | | | | | |\n",
    "\n",
    "Use the scale 1 (best) to 4 (worst) for each characteristic and provide a short explanation as to how you arrived at your ranking for each characteristic.\n",
    "\n",
    "Add your table and explanations to your Github repository using a jupyter notebook.\n",
    "\n",
    "Add the notebooks you produced for assessments 1 and 2 to your repository. \n",
    "\n",
    "\n",
    "**Marks : [20]**"
   ]
  },
  {
   "cell_type": "markdown",
   "id": "a8537817",
   "metadata": {},
   "source": [
    "## Task 4\n",
    "\n",
    "**Bonus marks**\n",
    "\n",
    "Add extra functions / functionality to your package using either R or C++ (or both) to assist with pre and post processing of the input and output data of __jarvis_march__ function. Some examples of what you might provide are (but not limited to) :\n",
    "\n",
    "- Add capability to the __jarvis_march__ function so it accepts different types of data structure as input\n",
    "- Error checking in the __jarvis_march__ function.\n",
    "- A plot function to display the output and input of the __jarvis_march__ function.\n",
    "- A function __in_hull__ which determines if a point (or points) is (are) in a convex hull determined using your __jarvis_march__ function\n",
    "\n",
    "Bonus marks can also be obtained for adding supporting material to your Github repository. For example,\n",
    "\n",
    "- A README.rd giving instructions on how to use install and use the package\n",
    "- A jupyter notebook with examples of the package being used.\n",
    "\n",
    "\n",
    "**Marks : [40]**\n"
   ]
  }
 ],
 "metadata": {
  "kernelspec": {
   "display_name": "Python 3 (ipykernel)",
   "language": "python",
   "name": "python3"
  },
  "language_info": {
   "codemirror_mode": {
    "name": "ipython",
    "version": 3
   },
   "file_extension": ".py",
   "mimetype": "text/x-python",
   "name": "python",
   "nbconvert_exporter": "python",
   "pygments_lexer": "ipython3",
   "version": "3.9.9"
  }
 },
 "nbformat": 4,
 "nbformat_minor": 5
}
