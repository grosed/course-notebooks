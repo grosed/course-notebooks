{
 "cells": [
  {
   "cell_type": "markdown",
   "id": "07750113-c92d-490c-8eb7-ae1b1995b40d",
   "metadata": {},
   "source": [
    "# Introduction"
   ]
  },
  {
   "cell_type": "markdown",
   "id": "9e4c5279-fc63-4101-9f43-2a06de64cde9",
   "metadata": {},
   "source": [
    "This module provides some basic information that should enable you to use the **Rcpp** library to integrate **c++** code within **R**. It also gives some details of how to use the **R** packaging system to organise both **c++** and **R** code in an **R** package which can be hosted on github for use by yourself and other interested parties."
   ]
  },
  {
   "cell_type": "markdown",
   "id": "a82088ea-7e7c-43c1-a4be-62933a1d388d",
   "metadata": {},
   "source": [
    "## Background"
   ]
  },
  {
   "cell_type": "markdown",
   "id": "ec89e634-f770-4073-845b-02398274a13f",
   "metadata": {},
   "source": [
    "There are numerous reasons that may require you to use multiple programming languages with in a project. Here a few of the more common ones -\n",
    "\n",
    "- Using different languages that are best suited to different domains.\n",
    "\n",
    "- Removing bottlenecks in runtime performance.\n",
    "\n",
    "- Reusing code from other projects / sources.\n",
    "\n",
    "- Creating workflows.\n",
    "\n",
    "- Integration with third party systems, such as user interfaces, web portals, and so on.\n"
   ]
  },
  {
   "cell_type": "markdown",
   "id": "3cadfd9a-8b82-46cb-b18e-1a6a6b6a6937",
   "metadata": {},
   "source": [
    "### Exercise\n",
    "\n",
    "What issues do you think might arise when combining different programming languages and/or environments ?\n",
    "\n",
    "Are you aware of any technologies that might be used to help mitigate the effects of these problems ?"
   ]
  },
  {
   "cell_type": "markdown",
   "id": "0f7955c5-bc81-45ab-8099-a2ba330f0a3b",
   "metadata": {},
   "source": [
    "<img src=\"./images/heath-robinson.jpg\" alt=\"Alternative text\" width=\"400\" height=\"400\"/>\n",
    "\n",
    "Image by Heath Robinson"
   ]
  }
 ],
 "metadata": {
  "kernelspec": {
   "display_name": "R",
   "language": "R",
   "name": "ir"
  },
  "language_info": {
   "codemirror_mode": "r",
   "file_extension": ".r",
   "mimetype": "text/x-r-source",
   "name": "R",
   "pygments_lexer": "r",
   "version": "4.2.2"
  }
 },
 "nbformat": 4,
 "nbformat_minor": 5
}
