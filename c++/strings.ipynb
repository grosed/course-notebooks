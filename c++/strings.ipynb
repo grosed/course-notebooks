{
 "cells": [
  {
   "cell_type": "markdown",
   "id": "4b24c053-5908-44f4-af3a-cc9e44b10cb1",
   "metadata": {
    "kernel": "SoS",
    "tags": []
   },
   "source": [
    "# Strings"
   ]
  },
  {
   "cell_type": "markdown",
   "id": "1a9b8a8d-a4cf-46d9-82be-2e40def723d6",
   "metadata": {
    "kernel": "SoS"
   },
   "source": [
    "C++ has a type for representing strings. However, it is NOT a built in\n",
    "type. It is provided by a separate library (known as the standard library).\n",
    "As in python, a string is basically a list of characters - what else would it\n",
    "be ? "
   ]
  },
  {
   "cell_type": "markdown",
   "id": "e31a1b14-3e91-4776-8307-3cf506ec0d4e",
   "metadata": {
    "kernel": "SoS"
   },
   "source": [
    "### Example 1 - creating, concatenating, and indexing strings"
   ]
  },
  {
   "cell_type": "markdown",
   "id": "e1df7c45-bc6d-4188-96a7-92c02291d6ae",
   "metadata": {
    "kernel": "SoS"
   },
   "source": [
    "<img src=\"./../images/python-icon.jpeg\" width=50 height=50 align=\"left\"/>"
   ]
  },
  {
   "cell_type": "code",
   "execution_count": 2,
   "id": "ac2de0d1-23ba-4a5e-af00-707792e4fbda",
   "metadata": {
    "kernel": "Python 3 (ipykernel)",
    "tags": []
   },
   "outputs": [
    {
     "name": "stdout",
     "output_type": "stream",
     "text": [
      "hello world\n",
      "r\n"
     ]
    }
   ],
   "source": [
    "s1 = \"hello\"\n",
    "s2 = \"world\"\n",
    "s3 = s1 + \" \" + s2\n",
    "print(s3)\n",
    "print(s3[8])"
   ]
  },
  {
   "cell_type": "markdown",
   "id": "6aaad794-663c-4c50-8165-3380e4a7c81e",
   "metadata": {
    "kernel": "Python 3 (ipykernel)"
   },
   "source": [
    "<img src=\"./../images/c++-icon.png\" width=50 height=50 align=\"left\"/>"
   ]
  },
  {
   "cell_type": "code",
   "execution_count": 3,
   "id": "bfe951ae-c9c2-4d6b-91f1-9f51ff818229",
   "metadata": {
    "kernel": "C++17",
    "tags": []
   },
   "outputs": [
    {
     "data": {
      "text/plain": []
     },
     "execution_count": 3,
     "metadata": {},
     "output_type": "execute_result"
    }
   ],
   "source": [
    "#include <iostream>\n",
    "#include <string>"
   ]
  },
  {
   "cell_type": "code",
   "execution_count": 4,
   "id": "054c02d0-df17-44ed-82f2-de41bb1e8aa6",
   "metadata": {
    "kernel": "C++17"
   },
   "outputs": [
    {
     "name": "stdout",
     "output_type": "stream",
     "text": [
      "hello world\n",
      "r\n"
     ]
    },
    {
     "data": {
      "text/plain": [
       "(std::basic_ostream<char, std::char_traits<char> >::__ostream_type &) @0x7f3ac0e81480\n"
      ]
     },
     "execution_count": 4,
     "metadata": {},
     "output_type": "execute_result"
    }
   ],
   "source": [
    "std::string s1 {\"hello\"};\n",
    "std::string s2 {\"world\"};\n",
    "std::string s3;\n",
    "s3 = s1 + \" \" + s2;\n",
    "std::cout << s3 << std::endl;\n",
    "std::cout << s3[8] << std::endl;                        "
   ]
  },
  {
   "cell_type": "markdown",
   "id": "2b0dad76-d27b-429b-bff6-973969d2b04b",
   "metadata": {
    "kernel": "C++17"
   },
   "source": [
    "Notice how the __+__ operator works for strings in __c++__ as it does in __python__. Alos note that, since a string is _sequence_ like data structure, it supports the [ ] brackets to access the contents. Also notice that the indexing starts at 0 in __c++__ as it does in __python__."
   ]
  },
  {
   "cell_type": "markdown",
   "id": "045ec737-0f05-453f-a846-711b8175821a",
   "metadata": {
    "kernel": "C++17"
   },
   "source": [
    "### Example 1 - indexing out of bounds"
   ]
  },
  {
   "cell_type": "markdown",
   "id": "2e8873e1-fb0d-4ee4-8f6c-62cc957ebded",
   "metadata": {
    "kernel": "SoS"
   },
   "source": [
    "<img src=\"./../images/python-icon.jpeg\" width=50 height=50 align=\"left\"/>\n",
    "<img src=\"./../images/broken.png\" width=50 height=50 align=\"left\"/>"
   ]
  },
  {
   "cell_type": "code",
   "execution_count": 5,
   "id": "7c690c1b-2b51-4bda-be47-496c70684f13",
   "metadata": {
    "kernel": "Python 3 (ipykernel)",
    "tags": []
   },
   "outputs": [
    {
     "ename": "IndexError",
     "evalue": "string index out of range",
     "output_type": "error",
     "traceback": [
      "\u001b[0;31m---------------------------------------------------------------------------\u001b[0m",
      "\u001b[0;31mIndexError\u001b[0m                                Traceback (most recent call last)",
      "Input \u001b[0;32mIn [3]\u001b[0m, in \u001b[0;36m<module>\u001b[0;34m\u001b[0m\n\u001b[0;32m----> 1\u001b[0m \u001b[38;5;28mprint\u001b[39m(\u001b[43ms3\u001b[49m\u001b[43m[\u001b[49m\u001b[38;5;241;43m20\u001b[39;49m\u001b[43m]\u001b[49m)\n",
      "\u001b[0;31mIndexError\u001b[0m: string index out of range"
     ]
    }
   ],
   "source": [
    "print(s3[20])"
   ]
  },
  {
   "cell_type": "markdown",
   "id": "e833fe1a-f59a-4a00-a33a-2cb21f5179e8",
   "metadata": {
    "kernel": "Python 3 (ipykernel)"
   },
   "source": [
    "<img src=\"./../images/c++-icon.png\" width=50 height=50 align=\"left\"/>"
   ]
  },
  {
   "cell_type": "code",
   "execution_count": 6,
   "id": "969aa6c9-c2e4-445e-914e-c0a1cdd1bab4",
   "metadata": {
    "kernel": "C++17",
    "tags": []
   },
   "outputs": [
    {
     "name": "stdout",
     "output_type": "stream",
     "text": [
      "\u0000\n"
     ]
    },
    {
     "data": {
      "text/plain": [
       "(std::basic_ostream<char, std::char_traits<char> >::__ostream_type &) @0x7f3ac0e81480\n"
      ]
     },
     "execution_count": 6,
     "metadata": {},
     "output_type": "execute_result"
    }
   ],
   "source": [
    "std::cout << s3[20] << std::endl;"
   ]
  }
 ],
 "metadata": {
  "kernelspec": {
   "display_name": "SoS",
   "language": "sos",
   "name": "sos"
  },
  "language_info": {
   "codemirror_mode": "sos",
   "file_extension": ".sos",
   "mimetype": "text/x-sos",
   "name": "sos",
   "nbconvert_exporter": "sos_notebook.converter.SoS_Exporter",
   "pygments_lexer": "sos"
  },
  "sos": {
   "kernels": [
    [
     "C++17",
     "cling-cpp17",
     "C++",
     "",
     "c++"
    ],
    [
     "Python 3 (ipykernel)",
     "python3",
     "python3",
     "",
     {
      "name": "ipython",
      "version": 3
     }
    ]
   ],
   "version": "0.22.9"
  }
 },
 "nbformat": 4,
 "nbformat_minor": 5
}
