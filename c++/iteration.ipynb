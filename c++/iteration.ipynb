{
 "cells": [
  {
   "cell_type": "markdown",
   "id": "9ad1c494-3e4c-4cc4-8606-ebb8ad318da8",
   "metadata": {
    "kernel": "SoS",
    "tags": []
   },
   "source": [
    "# Iteration"
   ]
  },
  {
   "cell_type": "markdown",
   "id": "a3d816d8-d12d-4edb-8274-7862e2b3be60",
   "metadata": {
    "kernel": "SoS"
   },
   "source": [
    "## for loops "
   ]
  },
  {
   "cell_type": "markdown",
   "id": "c658826a-579e-47a6-ae94-08acae682113",
   "metadata": {
    "kernel": "SoS"
   },
   "source": [
    "In __python__, it is possible to \"loop\" over a range of values. The following example shows how to acheive tis in __c++__."
   ]
  },
  {
   "cell_type": "markdown",
   "id": "3ecd1fcd-0122-459d-8627-019ec4a062ce",
   "metadata": {
    "kernel": "SoS"
   },
   "source": [
    "### Example 1"
   ]
  },
  {
   "cell_type": "markdown",
   "id": "34fb39bb-3f89-4605-aa55-6b5e35376a78",
   "metadata": {
    "kernel": "SoS"
   },
   "source": [
    "<img src=\"./images/python-icon.jpeg\" width=50 height=50 align=\"left\"/>\n",
    "</br>\n",
    "</br>"
   ]
  },
  {
   "cell_type": "code",
   "execution_count": 1,
   "id": "d6386fb2-81bb-4e35-8013-02c55d1b205c",
   "metadata": {
    "kernel": "Python 3 (ipykernel)",
    "tags": []
   },
   "outputs": [
    {
     "name": "stdout",
     "output_type": "stream",
     "text": [
      "0\n",
      "1\n",
      "2\n",
      "3\n",
      "4\n",
      "5\n",
      "6\n",
      "7\n",
      "8\n",
      "9\n"
     ]
    }
   ],
   "source": [
    "for i in range(10) :\n",
    "    print(i)"
   ]
  },
  {
   "cell_type": "markdown",
   "id": "c23ec338-6ff6-4116-9087-1263d135b3b7",
   "metadata": {
    "kernel": "Python 3 (ipykernel)"
   },
   "source": [
    "<img src=\"./images/c++-icon.png\" width=50 height=50 align=\"left\"/>\n",
    "</br>\n",
    "</br>"
   ]
  },
  {
   "cell_type": "code",
   "execution_count": 2,
   "id": "ae4b8631-ce15-478f-88c3-b3c8dd7a8116",
   "metadata": {
    "kernel": "C++17",
    "tags": []
   },
   "outputs": [
    {
     "data": {
      "text/plain": []
     },
     "execution_count": 2,
     "metadata": {},
     "output_type": "execute_result"
    }
   ],
   "source": [
    "#include <iostream>"
   ]
  },
  {
   "cell_type": "code",
   "execution_count": 3,
   "id": "a15a9e50-b1c0-4114-bb43-d24e28839166",
   "metadata": {
    "kernel": "C++17"
   },
   "outputs": [
    {
     "name": "stdout",
     "output_type": "stream",
     "text": [
      "0\n",
      "1\n",
      "2\n",
      "3\n",
      "4\n",
      "5\n",
      "6\n",
      "7\n",
      "8\n",
      "9\n"
     ]
    },
    {
     "data": {
      "text/plain": []
     },
     "execution_count": 3,
     "metadata": {},
     "output_type": "execute_result"
    }
   ],
   "source": [
    "for(int i = 0; i < 10; i++)\n",
    "{\n",
    "    std::cout << i << std::endl;\n",
    "}"
   ]
  },
  {
   "cell_type": "markdown",
   "id": "49b66b22-af3d-49b4-b584-89c4aff78645",
   "metadata": {
    "kernel": "C++17"
   },
   "source": [
    "The expression after the _if_ keyword, i.e.\n",
    "\n",
    "(int i = 0; i < 10; i++)\n",
    "\n",
    "has three parts -\n",
    "\n",
    "1. int i {0}; This expression is evaluated immediately before the first cycle of the loop.\n",
    "\n",
    "2. i < 10;  This expression gets evaluated at the start of each loop cycle. If it evaluates to true , then the\n",
    "expression(s) between the { } is (are) evaluated.\n",
    "\n",
    "3. i++; This expression gets evaluated at the end of the loop cycle. It is generally used to modify the value of the count variable in some way.\n",
    "\n",
    "Notes \n",
    "\n",
    "- The scope of any variables introduced in the for() expression is the scope of the { } associated with the loop.\n",
    "- The expressions can be any valid __c++__ expressions"
   ]
  },
  {
   "cell_type": "markdown",
   "id": "1f13906f-1bb3-4f9b-9c5b-1984ee8cc19c",
   "metadata": {
    "kernel": "C++17"
   },
   "source": [
    "### Exercise 1\n",
    "\n",
    "Predict the output of the following code"
   ]
  },
  {
   "cell_type": "code",
   "execution_count": null,
   "id": "4a841f12-7594-46f0-9acd-de8320264b08",
   "metadata": {
    "kernel": "C++17"
   },
   "outputs": [],
   "source": [
    "int i {4};\n",
    "for(int i = 0; i < 10; i++)\n",
    "{\n",
    "    std::cout << i << std::endl;\n",
    "}\n",
    "\n",
    "std::cout << \"*******\" << std::endl << i << std::endl;"
   ]
  },
  {
   "cell_type": "markdown",
   "id": "133c894f-fe7e-45b6-b1a8-eb7f402712fd",
   "metadata": {
    "kernel": "C++17"
   },
   "source": [
    "### Exercise 2\n",
    "\n",
    "Predict the output of the following code"
   ]
  },
  {
   "cell_type": "code",
   "execution_count": null,
   "id": "7e31f1ce",
   "metadata": {},
   "outputs": [],
   "source": [
    "int j {7};\n",
    "for(; j >= 3; j--)\n",
    "{\n",
    "    std::cout << j << std::endl;\n",
    "}"
   ]
  },
  {
   "cell_type": "markdown",
   "id": "875a1ad7-97e0-4c26-867d-0a230f2a6dcd",
   "metadata": {
    "kernel": "C++17"
   },
   "source": [
    "### Exercise 3\n",
    "\n",
    "Predict the output of the following code"
   ]
  },
  {
   "cell_type": "code",
   "execution_count": null,
   "id": "703b9178-b567-4a50-b665-8070247f2feb",
   "metadata": {
    "kernel": "C++17"
   },
   "outputs": [],
   "source": [
    "int k {0};\n",
    "for(;;)\n",
    "{\n",
    "    std::cout << k << std::endl;\n",
    "    k += 1;\n",
    "    if(k > 4)\n",
    "    {\n",
    "        break;\n",
    "    }\n",
    "}"
   ]
  },
  {
   "cell_type": "markdown",
   "id": "0f8833e7-8e68-4949-8d26-4157eac09154",
   "metadata": {
    "kernel": "C++17"
   },
   "source": [
    "### Exercise 4\n",
    "\n",
    "Write a __c++__ function to calculate n! \n",
    "\n",
    "1. Iterativley\n",
    "2. Recursivley"
   ]
  }
 ],
 "metadata": {
  "kernelspec": {
   "display_name": "C++17",
   "language": "C++",
   "name": "cling-cpp17"
  },
  "language_info": {
   "codemirror_mode": "c++",
   "file_extension": ".c++",
   "mimetype": "text/x-c++src",
   "name": "c++"
  },
  "sos": {
   "kernels": [
    [
     "C++17",
     "cling-cpp17",
     "C++",
     "",
     ""
    ],
    [
     "Python 3 (ipykernel)",
     "python3",
     "python3",
     "",
     {
      "name": "ipython",
      "version": 3
     }
    ]
   ],
   "panel": {
    "displayed": true,
    "height": 0
   },
   "version": "0.23.4"
  }
 },
 "nbformat": 4,
 "nbformat_minor": 5
}
