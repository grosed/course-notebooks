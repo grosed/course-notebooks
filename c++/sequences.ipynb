{
 "cells": [
  {
   "cell_type": "markdown",
   "id": "7c584b90-e32f-4c27-8985-7a3cb908f8b2",
   "metadata": {
    "kernel": "SoS",
    "tags": []
   },
   "source": [
    "# Linear Sequences"
   ]
  },
  {
   "cell_type": "markdown",
   "id": "d6535efd-0fb4-4d0e-9caf-17ca3131e30e",
   "metadata": {
    "kernel": "SoS"
   },
   "source": [
    "## Lists"
   ]
  },
  {
   "cell_type": "markdown",
   "id": "08ea4926-5460-4fc7-81c7-69d03a9a303d",
   "metadata": {
    "kernel": "SoS"
   },
   "source": [
    "### Background"
   ]
  },
  {
   "cell_type": "markdown",
   "id": "44861e77-0e5d-4d52-ba3a-9fdac903785b",
   "metadata": {
    "kernel": "SoS"
   },
   "source": [
    "The list is a basic data structure that is ubiquitous in __python__.  The __c++__ standard does not define \n",
    "a list data structure, but the Standard Template Library Library does."
   ]
  },
  {
   "cell_type": "markdown",
   "id": "24dd2177-2467-47d8-b514-180ed35c203b",
   "metadata": {
    "kernel": "SoS"
   },
   "source": [
    "#### Example 1"
   ]
  },
  {
   "cell_type": "markdown",
   "id": "ab5a1dd9-8bd3-4b32-8df0-0bba7c4f627e",
   "metadata": {
    "kernel": "SoS"
   },
   "source": [
    "<img src=\"./../images/python-icon.jpeg\" width=50 height=50 align=\"left\"/>"
   ]
  },
  {
   "cell_type": "code",
   "execution_count": 1,
   "id": "0ad29197-04f1-4047-82fd-a6eb9837b045",
   "metadata": {
    "kernel": "Python 3 (ipykernel)",
    "tags": []
   },
   "outputs": [
    {
     "name": "stdout",
     "output_type": "stream",
     "text": [
      "[1, 2, 3, 4]\n"
     ]
    }
   ],
   "source": [
    "X = [1,2,3,4]\n",
    "print(X)"
   ]
  },
  {
   "cell_type": "markdown",
   "id": "175e5b4d-19a8-49dd-9cf4-df17518d300d",
   "metadata": {
    "kernel": "Python 3 (ipykernel)"
   },
   "source": [
    "<img src=\"./../images/c++-icon.png\" width=50 height=50 align=\"left\"/>"
   ]
  },
  {
   "cell_type": "code",
   "execution_count": 2,
   "id": "7dff2066-6488-45d2-a1f1-e1cd5e5785ec",
   "metadata": {
    "kernel": "C++17",
    "tags": []
   },
   "outputs": [
    {
     "data": {
      "text/plain": []
     },
     "execution_count": 2,
     "metadata": {},
     "output_type": "execute_result"
    }
   ],
   "source": [
    "#include <list>"
   ]
  },
  {
   "cell_type": "code",
   "execution_count": 3,
   "id": "bce7d726-2b89-4d6c-939d-deb50b981df4",
   "metadata": {
    "kernel": "C++17"
   },
   "outputs": [
    {
     "data": {
      "text/plain": []
     },
     "execution_count": 3,
     "metadata": {},
     "output_type": "execute_result"
    }
   ],
   "source": [
    "std::list<int> X {1,2,3,4};"
   ]
  },
  {
   "cell_type": "markdown",
   "id": "b4bf964f-1247-4882-9288-31e531ab02c1",
   "metadata": {
    "kernel": "C++17"
   },
   "source": [
    "## STL lists are just lists"
   ]
  },
  {
   "cell_type": "markdown",
   "id": "633a8e99-303a-4660-8d3e-7a4ae832b5c6",
   "metadata": {
    "kernel": "C++17"
   },
   "source": [
    "As an abstract data type, lists do not have a direct means for random access. What does this mean ?"
   ]
  },
  {
   "cell_type": "markdown",
   "id": "af7dbc3f-fe4c-43d1-ad19-2bde4510b3b5",
   "metadata": {
    "kernel": "C++17"
   },
   "source": [
    "#### Example 2"
   ]
  },
  {
   "cell_type": "markdown",
   "id": "2af7ef12-f5b2-4fc1-a616-2e28cf439013",
   "metadata": {
    "kernel": "SoS"
   },
   "source": [
    "<img src=\"./../images/python-icon.jpeg\" width=50 height=50 align=\"left\"/>"
   ]
  },
  {
   "cell_type": "code",
   "execution_count": 4,
   "id": "8a83626c-b2fb-447d-b363-e082db49c4c1",
   "metadata": {
    "kernel": "Python 3 (ipykernel)",
    "tags": []
   },
   "outputs": [
    {
     "name": "stdout",
     "output_type": "stream",
     "text": [
      "3\n"
     ]
    }
   ],
   "source": [
    "print(X[2])"
   ]
  },
  {
   "cell_type": "markdown",
   "id": "9be8ac23-4648-4663-b342-05021cb73751",
   "metadata": {
    "kernel": "Python 3 (ipykernel)"
   },
   "source": [
    "<img src=\"./../images/c++-icon.png\" width=50 height=50 align=\"left\"/>\n",
    "<img src=\"./../images/broken.png\" width=50 height=50 align=\"left\"/>"
   ]
  },
  {
   "cell_type": "code",
   "execution_count": 5,
   "id": "aa6d85a0-eb66-48a7-9f3b-c91a592effd0",
   "metadata": {
    "kernel": "C++17",
    "tags": []
   },
   "outputs": [
    {
     "name": "stderr",
     "output_type": "stream",
     "text": [
      "input_line_5:2:3: error: type 'std::list<int>' does not provide a subscript operator\n",
      " X[2];\n",
      " ~^~\n"
     ]
    },
    {
     "ename": "ename",
     "evalue": "evalue",
     "output_type": "error",
     "traceback": []
    }
   ],
   "source": [
    "X[2];"
   ]
  },
  {
   "cell_type": "markdown",
   "id": "362e8408-df75-45c1-9427-cbe52a1a35bc",
   "metadata": {
    "kernel": "C++17"
   },
   "source": [
    "In __python__, lists are not just simple lists, they are a hybrid between lists and arrays."
   ]
  },
  {
   "cell_type": "markdown",
   "id": "ec13c03c-b574-437f-9583-c88704dc1c2b",
   "metadata": {
    "kernel": "C++17"
   },
   "source": [
    "## Iterating over lists"
   ]
  },
  {
   "cell_type": "markdown",
   "id": "8ce58c1e-9b4b-4253-a212-17a6f1f1e7da",
   "metadata": {
    "kernel": "C++17"
   },
   "source": [
    "It is very common in both __python__ and __c++__ to iterate through (over) the contents of a list."
   ]
  },
  {
   "cell_type": "markdown",
   "id": "8249ee90-3c14-453a-899c-86b9d11cd394",
   "metadata": {
    "kernel": "C++17"
   },
   "source": [
    "#### Example 3"
   ]
  },
  {
   "cell_type": "markdown",
   "id": "7809d385-d3f1-40ba-838a-30120ed2cb33",
   "metadata": {
    "kernel": "SoS"
   },
   "source": [
    "<img src=\"./../images/python-icon.jpeg\" width=50 height=50 align=\"left\"/>"
   ]
  },
  {
   "cell_type": "code",
   "execution_count": 6,
   "id": "d7fb137c-a476-4896-856d-5fe37dc92584",
   "metadata": {
    "kernel": "Python 3 (ipykernel)",
    "tags": []
   },
   "outputs": [
    {
     "name": "stdout",
     "output_type": "stream",
     "text": [
      "1\n",
      "2\n",
      "3\n",
      "4\n"
     ]
    }
   ],
   "source": [
    "for x in X :\n",
    "    print(x)"
   ]
  },
  {
   "cell_type": "markdown",
   "id": "407d3de9-254a-46dc-a836-93a050e94e9b",
   "metadata": {
    "kernel": "Python 3 (ipykernel)"
   },
   "source": [
    "<img src=\"./../images/c++-icon.png\" width=50 height=50 align=\"left\"/>"
   ]
  },
  {
   "cell_type": "code",
   "execution_count": 7,
   "id": "a4d52a9c-d3fc-4e53-9767-468c2f83f956",
   "metadata": {
    "kernel": "C++17",
    "tags": []
   },
   "outputs": [
    {
     "data": {
      "text/plain": []
     },
     "execution_count": 7,
     "metadata": {},
     "output_type": "execute_result"
    }
   ],
   "source": [
    "#include <iostream>"
   ]
  },
  {
   "cell_type": "code",
   "execution_count": 8,
   "id": "2bfcbdc0-12d2-461d-99cd-7c03ce04bb4f",
   "metadata": {
    "kernel": "C++17",
    "tags": []
   },
   "outputs": [
    {
     "name": "stdout",
     "output_type": "stream",
     "text": [
      "1\n",
      "2\n",
      "3\n",
      "4\n"
     ]
    },
    {
     "data": {
      "text/plain": []
     },
     "execution_count": 8,
     "metadata": {},
     "output_type": "execute_result"
    }
   ],
   "source": [
    "for(int x : X)\n",
    "{\n",
    "    std::cout << x << std::endl;\n",
    "}"
   ]
  },
  {
   "cell_type": "markdown",
   "id": "cbfc1611-a3fb-4c66-a539-046ff7634ba4",
   "metadata": {
    "kernel": "C++17"
   },
   "source": [
    "<img src=\"./../images/bang.png\" width=50 height=50 align=\"left\"/>"
   ]
  },
  {
   "cell_type": "markdown",
   "id": "174d019f-c00c-4db1-a0dc-f737969fa455",
   "metadata": {
    "kernel": "C++17"
   },
   "source": [
    "Notice the difference between the for loop in example 3, and the type of for loop introduced in the section on iterations.\n",
    "\n",
    "Note also that the type of for loop presented in example 3 is \"modern\" - it first appeared in c++ 14. "
   ]
  },
  {
   "cell_type": "markdown",
   "id": "f7fd0315-8db8-4413-88e0-db6aef0cf580",
   "metadata": {
    "kernel": "C++17"
   },
   "source": [
    "## Adding elements "
   ]
  },
  {
   "cell_type": "markdown",
   "id": "44ac304c-94bc-4f5a-990e-93394dfe0625",
   "metadata": {
    "kernel": "SoS"
   },
   "source": [
    "<img src=\"./../images/python-icon.jpeg\" width=50 height=50 align=\"left\"/>"
   ]
  },
  {
   "cell_type": "markdown",
   "id": "02b91b3a-2b21-42f4-b74c-96a4d26d9b20",
   "metadata": {
    "kernel": "C++17"
   },
   "source": [
    "#### Example 3"
   ]
  },
  {
   "cell_type": "code",
   "execution_count": 9,
   "id": "1b90e9d8-b85d-4870-aaf2-a3f77561a3e4",
   "metadata": {
    "kernel": "Python 3 (ipykernel)",
    "tags": []
   },
   "outputs": [
    {
     "name": "stdout",
     "output_type": "stream",
     "text": [
      "[1, 2, 3, 4, 5]\n",
      "[1, 2, 3, 4, 5, 6]\n",
      "[0, 1, 2, 3, 4, 5, 6]\n"
     ]
    }
   ],
   "source": [
    "X.append(5)\n",
    "print(X)\n",
    "X = X + [6]\n",
    "print(X)\n",
    "X = [0] + X\n",
    "print(X)"
   ]
  },
  {
   "cell_type": "markdown",
   "id": "10d7743d-f249-455b-97f4-dfe231fd0596",
   "metadata": {
    "kernel": "Python 3 (ipykernel)"
   },
   "source": [
    "<img src=\"./../images/c++-icon.png\" width=50 height=50 align=\"left\"/>"
   ]
  },
  {
   "cell_type": "code",
   "execution_count": 10,
   "id": "ada26f7a-ab80-4e27-aff6-77532403a7b4",
   "metadata": {
    "kernel": "C++17",
    "tags": []
   },
   "outputs": [
    {
     "data": {
      "text/plain": []
     },
     "execution_count": 10,
     "metadata": {},
     "output_type": "execute_result"
    }
   ],
   "source": [
    "void print_list(std::list<int> L)\n",
    "{\n",
    "    std::cout << \"----------------\" << std::endl;\n",
    "    for(int x : L)\n",
    "    {\n",
    "        std::cout << x << std::endl;\n",
    "    }\n",
    "    std::cout << \"----------------\" << std::endl;\n",
    "}"
   ]
  },
  {
   "cell_type": "code",
   "execution_count": 11,
   "id": "3c8ae508-2c3a-4395-b3be-b52a44f0f30a",
   "metadata": {
    "kernel": "C++17",
    "tags": []
   },
   "outputs": [
    {
     "name": "stdout",
     "output_type": "stream",
     "text": [
      "----------------\n",
      "1\n",
      "2\n",
      "3\n",
      "4\n",
      "5\n",
      "----------------\n",
      "----------------\n",
      "1\n",
      "2\n",
      "3\n",
      "4\n",
      "5\n",
      "6\n",
      "----------------\n",
      "----------------\n",
      "0\n",
      "1\n",
      "2\n",
      "3\n",
      "4\n",
      "5\n",
      "6\n",
      "----------------\n"
     ]
    },
    {
     "data": {
      "text/plain": [
       "(void) @0x7f049e7fac70\n"
      ]
     },
     "execution_count": 11,
     "metadata": {},
     "output_type": "execute_result"
    }
   ],
   "source": [
    "X.push_back(5);\n",
    "print_list(X);\n",
    "X.push_back(6);\n",
    "print_list(X);\n",
    "X.push_front(0);\n",
    "print_list(X);"
   ]
  },
  {
   "cell_type": "markdown",
   "id": "b46f269e-dd0c-4550-a37b-113368ef6614",
   "metadata": {
    "kernel": "C++17"
   },
   "source": [
    "### Accessing Elelments"
   ]
  },
  {
   "cell_type": "markdown",
   "id": "f6f437c3-9cef-44d5-b9e7-90b5f3044b78",
   "metadata": {
    "kernel": "C++17"
   },
   "source": [
    "#### Example 4"
   ]
  },
  {
   "cell_type": "markdown",
   "id": "7962763a-75d0-4ff3-a052-2e0ce911586c",
   "metadata": {
    "kernel": "SoS"
   },
   "source": [
    "<img src=\"./../images/python-icon.jpeg\" width=50 height=50 align=\"left\"/>"
   ]
  },
  {
   "cell_type": "code",
   "execution_count": 12,
   "id": "0c1802ad-cc2c-495b-ada4-ec83eeeea15d",
   "metadata": {
    "kernel": "Python 3 (ipykernel)",
    "tags": []
   },
   "outputs": [
    {
     "name": "stdout",
     "output_type": "stream",
     "text": [
      "0\n",
      "6\n"
     ]
    }
   ],
   "source": [
    "print(X[0])\n",
    "print(X[len(X)-1])"
   ]
  },
  {
   "cell_type": "markdown",
   "id": "e019edf3-5eed-40b1-bb28-19fef2559815",
   "metadata": {
    "kernel": "Python 3 (ipykernel)"
   },
   "source": [
    "<img src=\"./../images/c++-icon.png\" width=50 height=50 align=\"left\"/>"
   ]
  },
  {
   "cell_type": "code",
   "execution_count": 13,
   "id": "6ecd6c5f-17c9-4a9f-b1c3-b8cfc22c8b60",
   "metadata": {
    "kernel": "C++17"
   },
   "outputs": [
    {
     "name": "stdout",
     "output_type": "stream",
     "text": [
      "0\n",
      "6\n"
     ]
    },
    {
     "data": {
      "text/plain": [
       "(std::basic_ostream<char, std::char_traits<char> >::__ostream_type &) @0x7f04bafbe480\n"
      ]
     },
     "execution_count": 13,
     "metadata": {},
     "output_type": "execute_result"
    }
   ],
   "source": [
    "std::cout << X.front() << std::endl;\n",
    "std::cout << X.back() << std::endl;"
   ]
  },
  {
   "cell_type": "markdown",
   "id": "ad012705-cc32-4186-ba14-f2bc594dc3b8",
   "metadata": {
    "kernel": "C++17"
   },
   "source": [
    "### Functions and Copying"
   ]
  },
  {
   "cell_type": "markdown",
   "id": "1785de03-3a89-473b-84de-4144e1f6e917",
   "metadata": {
    "kernel": "C++17"
   },
   "source": [
    "#### Example 5"
   ]
  },
  {
   "cell_type": "markdown",
   "id": "c28b01fd-b749-4feb-9bc5-5ef41249cc32",
   "metadata": {
    "kernel": "SoS"
   },
   "source": [
    "<img src=\"./../images/python-icon.jpeg\" width=50 height=50 align=\"left\"/>"
   ]
  },
  {
   "cell_type": "code",
   "execution_count": 14,
   "id": "ff3f2a36-76b1-436a-b7a6-b9b2c5cc9a09",
   "metadata": {
    "kernel": "Python 3 (ipykernel)",
    "tags": []
   },
   "outputs": [
    {
     "name": "stdout",
     "output_type": "stream",
     "text": [
      "[1, 2, 3]\n",
      "[3, 1, 2, 3, 1]\n",
      "[1, 2, 3]\n"
     ]
    }
   ],
   "source": [
    "def f1(L) :\n",
    "    L = [L[len(L)-1]] + L + [L[0]]\n",
    "    return(L)\n",
    "\n",
    "Z = [1,2,3]\n",
    "print(Z)\n",
    "print(f1(Z))\n",
    "print(Z)"
   ]
  },
  {
   "cell_type": "markdown",
   "id": "51ba3f74-e1a6-4684-9c7e-cf90b0442794",
   "metadata": {
    "kernel": "Python 3 (ipykernel)"
   },
   "source": [
    "<img src=\"./../images/c++-icon.png\" width=50 height=50 align=\"left\"/>"
   ]
  },
  {
   "cell_type": "code",
   "execution_count": 15,
   "id": "240472f7-348a-4d33-9692-0ac6ef3a8114",
   "metadata": {
    "kernel": "C++17",
    "tags": []
   },
   "outputs": [
    {
     "data": {
      "text/plain": []
     },
     "execution_count": 15,
     "metadata": {},
     "output_type": "execute_result"
    }
   ],
   "source": [
    "std::list<int> f1(std::list<int> L)\n",
    "{\n",
    "    int temp = L.back();\n",
    "    L.push_back(L.front());\n",
    "    L.push_front(temp);\n",
    "    return L;\n",
    "}"
   ]
  },
  {
   "cell_type": "code",
   "execution_count": 16,
   "id": "080181c2-add7-4b73-b3c1-58ade1021af0",
   "metadata": {
    "kernel": "C++17"
   },
   "outputs": [
    {
     "name": "stdout",
     "output_type": "stream",
     "text": [
      "----------------\n",
      "1\n",
      "2\n",
      "3\n",
      "----------------\n",
      "----------------\n",
      "3\n",
      "1\n",
      "2\n",
      "3\n",
      "1\n",
      "----------------\n",
      "----------------\n",
      "1\n",
      "2\n",
      "3\n",
      "----------------\n"
     ]
    },
    {
     "data": {
      "text/plain": [
       "(void) @0x7f049e7fac70\n"
      ]
     },
     "execution_count": 16,
     "metadata": {},
     "output_type": "execute_result"
    }
   ],
   "source": [
    "std::list<int> Z = {1,2,3};\n",
    "print_list(Z);\n",
    "print_list(f1(Z));\n",
    "print_list(Z);"
   ]
  },
  {
   "cell_type": "markdown",
   "id": "c43b3616-0f28-49ff-b51f-5777feea669b",
   "metadata": {
    "kernel": "C++17"
   },
   "source": [
    "In example 5, the function does not transform the original list, it makes a \"copy\" of it and transforms the copy. This behaviour can be changed in __c++__."
   ]
  },
  {
   "cell_type": "markdown",
   "id": "68d82c08-1d8e-4a3a-a067-c35d82ea59ed",
   "metadata": {
    "kernel": "C++17"
   },
   "source": [
    "#### Example 6"
   ]
  },
  {
   "cell_type": "markdown",
   "id": "87112d8f-af46-4c18-b03b-9604c72f6d02",
   "metadata": {
    "kernel": "Python 3 (ipykernel)"
   },
   "source": [
    "<img src=\"./../images/c++-icon.png\" width=50 height=50 align=\"left\"/>"
   ]
  },
  {
   "cell_type": "code",
   "execution_count": 17,
   "id": "b8978b8b-8978-417d-af00-f2bb8fb84507",
   "metadata": {
    "kernel": "C++17"
   },
   "outputs": [
    {
     "data": {
      "text/plain": []
     },
     "execution_count": 17,
     "metadata": {},
     "output_type": "execute_result"
    }
   ],
   "source": [
    "std::list<int> f2(std::list<int>& L)\n",
    "{\n",
    "    int temp = L.back();\n",
    "    L.push_back(L.front());\n",
    "    L.push_front(temp);\n",
    "    return L;\n",
    "}"
   ]
  },
  {
   "cell_type": "code",
   "execution_count": 18,
   "id": "f123e66c-a4c9-4af8-8bb1-fb0288788812",
   "metadata": {
    "kernel": "C++17"
   },
   "outputs": [
    {
     "name": "stdout",
     "output_type": "stream",
     "text": [
      "----------------\n",
      "1\n",
      "2\n",
      "3\n",
      "----------------\n",
      "----------------\n",
      "3\n",
      "1\n",
      "2\n",
      "3\n",
      "1\n",
      "----------------\n",
      "----------------\n",
      "3\n",
      "1\n",
      "2\n",
      "3\n",
      "1\n",
      "----------------\n"
     ]
    },
    {
     "data": {
      "text/plain": [
       "(void) @0x7f049e7fac70\n"
      ]
     },
     "execution_count": 18,
     "metadata": {},
     "output_type": "execute_result"
    }
   ],
   "source": [
    "print_list(Z);\n",
    "print_list(f2(Z));\n",
    "print_list(Z);"
   ]
  }
 ],
 "metadata": {
  "kernelspec": {
   "display_name": "SoS",
   "language": "sos",
   "name": "sos"
  },
  "language_info": {
   "codemirror_mode": "sos",
   "file_extension": ".sos",
   "mimetype": "text/x-sos",
   "name": "sos",
   "nbconvert_exporter": "sos_notebook.converter.SoS_Exporter",
   "pygments_lexer": "sos"
  },
  "sos": {
   "kernels": [
    [
     "C++17",
     "cling-cpp17",
     "C++",
     "",
     "c++"
    ],
    [
     "Python 3 (ipykernel)",
     "python3",
     "python3",
     "",
     {
      "name": "ipython",
      "version": 3
     }
    ]
   ],
   "version": "0.22.9"
  }
 },
 "nbformat": 4,
 "nbformat_minor": 5
}
