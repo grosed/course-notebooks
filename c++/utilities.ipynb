{
 "cells": [
  {
   "cell_type": "markdown",
   "id": "66e5d5a0",
   "metadata": {},
   "source": [
    "# Utilities"
   ]
  },
  {
   "cell_type": "markdown",
   "id": "af2104e0",
   "metadata": {},
   "source": [
    "## Reading Structured Data from a File"
   ]
  },
  {
   "cell_type": "markdown",
   "id": "8e6be545",
   "metadata": {},
   "source": [
    "The following code cells can be used to read formatted data from a csv file into a list of vectors of doubles. \n",
    "\n",
    "To use it, create a new code cell and copy all of the code into a single cell."
   ]
  },
  {
   "cell_type": "code",
   "execution_count": 1,
   "id": "ca253d2f",
   "metadata": {},
   "outputs": [
    {
     "data": {
      "text/plain": []
     },
     "execution_count": 1,
     "metadata": {},
     "output_type": "execute_result"
    }
   ],
   "source": [
    "#include <fstream>\n",
    "#include <sstream>\n",
    "#include <string>\n",
    "\n",
    "template <typename T>\n",
    "T lexical_cast(const std::string& str)\n",
    "{\n",
    "    T var;\n",
    "    std::istringstream iss;\n",
    "    iss.str(str);\n",
    "    iss >> var;\n",
    "    // deal with any error bits that may have been set on the stream\n",
    "    return var;\n",
    "}\n",
    "\n",
    "template<typename data_type,\n",
    "template <typename... table_type_args> typename table_type,\n",
    "template <typename... row_type_args> typename row_type>\n",
    "table_type<row_type<data_type> > csvtable(const std::string& filename)\n",
    "{\n",
    "  table_type<row_type<data_type> > table;\n",
    "  std::ifstream infile(filename);\n",
    "  while(infile)\n",
    "    {\n",
    "      std::string s;\n",
    "      if(!getline(infile,s)) break;\n",
    "      std::istringstream ss(s);\n",
    "      row_type<data_type> row;\n",
    "      while(ss)\n",
    "      {\n",
    "         std::string s;\n",
    "         if(!getline(ss,s,',')) break;\n",
    "         row.push_back(lexical_cast<data_type>(s)); \n",
    "      }\n",
    "      table.push_back(row);\n",
    "    }\n",
    "  return table;\n",
    "}\n",
    "\n",
    "#include <list>\n",
    "#include <vector>\n",
    "\n",
    "#define readcsv csvtable<double,std::list,std::vector>\n"
   ]
  },
  {
   "cell_type": "markdown",
   "id": "29683f9c",
   "metadata": {},
   "source": [
    "### Example 1\n",
    "\n",
    "To load the data use the __readcsv__ function by providing it with a __std::string__ containg the name of the file to load. Note - you will have to create an appropriate input file for the following example to work."
   ]
  },
  {
   "cell_type": "code",
   "execution_count": 2,
   "id": "4ce7e6ae",
   "metadata": {},
   "outputs": [
    {
     "data": {
      "text/plain": []
     },
     "execution_count": 2,
     "metadata": {},
     "output_type": "execute_result"
    }
   ],
   "source": [
    "#include <iostream>"
   ]
  },
  {
   "cell_type": "code",
   "execution_count": 3,
   "id": "0d87ec8f",
   "metadata": {},
   "outputs": [
    {
     "name": "stdout",
     "output_type": "stream",
     "text": [
      "1 1\n",
      "2 1\n",
      "2 2\n",
      "1 2\n",
      "1.5 1.5\n",
      "1.5 2.5\n"
     ]
    },
    {
     "data": {
      "text/plain": []
     },
     "execution_count": 3,
     "metadata": {},
     "output_type": "execute_result"
    }
   ],
   "source": [
    "std::string filename {\"square.csv\"};\n",
    "  std::list<std::vector<double> > xy_pairs {readcsv(filename)};\n",
    "\n",
    "  for(std::vector<double>& xy_pair : xy_pairs)\n",
    "    {\n",
    "      std::cout << xy_pair[0] << \" \" << xy_pair[1] << std::endl;\n",
    "    }"
   ]
  }
 ],
 "metadata": {
  "kernelspec": {
   "display_name": "C++17",
   "language": "C++",
   "name": "cling-cpp17"
  },
  "language_info": {
   "codemirror_mode": "c++",
   "file_extension": ".c++",
   "mimetype": "text/x-c++src",
   "name": "c++"
  }
 },
 "nbformat": 4,
 "nbformat_minor": 5
}
