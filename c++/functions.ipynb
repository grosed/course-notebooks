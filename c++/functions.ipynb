{
 "cells": [
  {
   "cell_type": "markdown",
   "id": "9c924b8a-ba86-4cd1-9963-d035bc2d1fb6",
   "metadata": {
    "kernel": "SoS",
    "tags": []
   },
   "source": [
    "# Functions"
   ]
  },
  {
   "cell_type": "markdown",
   "id": "7342b2a4-9633-4232-9b70-32b026a20088",
   "metadata": {
    "kernel": "SoS"
   },
   "source": [
    "## The basics"
   ]
  },
  {
   "cell_type": "markdown",
   "id": "da9621a4-4d49-4d85-a953-57177778d5ca",
   "metadata": {
    "kernel": "SoS"
   },
   "source": [
    "### Example 1"
   ]
  },
  {
   "cell_type": "markdown",
   "id": "206b9050-b20c-4482-af33-aa8e02001933",
   "metadata": {
    "kernel": "SoS"
   },
   "source": [
    "<img src=\"./images/python-icon.jpeg\" width=50 height=50 align=\"left\"/>\n",
    "</br>\n",
    "</br>"
   ]
  },
  {
   "cell_type": "code",
   "execution_count": 1,
   "id": "d19f9fad",
   "metadata": {
    "kernel": "Python 3 (ipykernel)",
    "tags": []
   },
   "outputs": [
    {
     "name": "stdout",
     "output_type": "stream",
     "text": [
      "9.42\n"
     ]
    }
   ],
   "source": [
    "def f(x) :\n",
    "    y = 3.14 * x\n",
    "    return(y)\n",
    "x = 3\n",
    "y = f(x)\n",
    "print(y)"
   ]
  },
  {
   "cell_type": "markdown",
   "id": "927a5c99-5d76-457c-818f-79659e292f27",
   "metadata": {
    "kernel": "Python 3 (ipykernel)"
   },
   "source": [
    "<img src=\"./images/c++-icon.png\" width=50 height=50 align=\"left\"/>\n",
    "</br>\n",
    "</br>"
   ]
  },
  {
   "cell_type": "code",
   "execution_count": 2,
   "id": "e2963deb-29d6-4eec-8383-58c1e18d25c7",
   "metadata": {
    "kernel": "C++17",
    "tags": []
   },
   "outputs": [
    {
     "data": {
      "text/plain": []
     },
     "execution_count": 2,
     "metadata": {},
     "output_type": "execute_result"
    }
   ],
   "source": [
    "#include <iostream>"
   ]
  },
  {
   "cell_type": "markdown",
   "id": "4bfdbaf4-23fd-4ac7-a23c-045d1d2cf8a9",
   "metadata": {
    "kernel": "C++17"
   },
   "source": [
    "<img src=\"./images/bang.png\" width=50 height=50 align=\"left\"/>\n",
    "<img src=\"./images/c++-icon.png\" width=40 height=40 align=\"left\"/>\n",
    "</br>\n",
    "</br>"
   ]
  },
  {
   "cell_type": "markdown",
   "id": "ccfb2fe5-9b25-49a8-9f26-3bae0b2ed04b",
   "metadata": {
    "kernel": "C++17"
   },
   "source": [
    "When using __c++__ in __jupyter__, each function has to be in its own cell."
   ]
  },
  {
   "cell_type": "code",
   "execution_count": 3,
   "id": "c8f9d8ba-0052-4c4c-bd9d-7adf8ce8773d",
   "metadata": {
    "kernel": "C++17"
   },
   "outputs": [
    {
     "data": {
      "text/plain": []
     },
     "execution_count": 3,
     "metadata": {},
     "output_type": "execute_result"
    }
   ],
   "source": [
    "double f(double x)\n",
    "{\n",
    "    double y{3.14*x};\n",
    "    return y;\n",
    "}"
   ]
  },
  {
   "cell_type": "code",
   "execution_count": 4,
   "id": "ba43ea5e-b880-4ac5-b7ed-fc66bcf2961a",
   "metadata": {
    "kernel": "C++17"
   },
   "outputs": [
    {
     "name": "stdout",
     "output_type": "stream",
     "text": [
      "9.42\n"
     ]
    },
    {
     "data": {
      "text/plain": [
       "(std::basic_ostream<char, std::char_traits<char> >::__ostream_type &) @0x7f3cf41fd540\n"
      ]
     },
     "execution_count": 4,
     "metadata": {},
     "output_type": "execute_result"
    }
   ],
   "source": [
    "double x {3};\n",
    "double y {f(x)};\n",
    "std::cout << y << std::endl;"
   ]
  },
  {
   "cell_type": "markdown",
   "id": "bbe08678-2fef-481d-a552-19f762ec8bad",
   "metadata": {
    "kernel": "C++17"
   },
   "source": [
    "The key part of a c++ function is its declaration - in the example this is\n",
    "```c++\n",
    "double f(double x)\n",
    "```\n",
    "\n",
    "It has two additional pieces of information when compared to the python version - the type of the input argument (double x), and the type of the value returned by the function shown at the begining of the line i.e. double. This makes the definition of the c++ function more precise in that it says something about the domain and co-domain of the function. The python version does not. On one hand, this is an advantage of the python version.\n",
    "It can take any value that will work within the definition of the function i.e. any value that 2*x __makes sense for__. \n",
    "\n",
    "If 2*x does not make sense for x then the function will fail (if invoked) at run time\n",
    "does not make sense for x then the function will fail (if invoked) at run time. What happens if you try and use the wrong type in the c++ version ? "
   ]
  },
  {
   "cell_type": "markdown",
   "id": "9602d928",
   "metadata": {},
   "source": [
    "## Type casting"
   ]
  },
  {
   "cell_type": "markdown",
   "id": "bf8c85c4",
   "metadata": {},
   "source": [
    "### Example 2 - Type conversion"
   ]
  },
  {
   "cell_type": "code",
   "execution_count": 5,
   "id": "60079c5a-ebd2-40d7-9900-d84e3de4530e",
   "metadata": {
    "kernel": "C++17"
   },
   "outputs": [
    {
     "name": "stdout",
     "output_type": "stream",
     "text": [
      "21.98\n"
     ]
    },
    {
     "data": {
      "text/plain": [
       "(std::basic_ostream<char, std::char_traits<char> >::__ostream_type &) @0x7f3cf41fd540\n"
      ]
     },
     "execution_count": 5,
     "metadata": {},
     "output_type": "execute_result"
    }
   ],
   "source": [
    "int a = 7;\n",
    "y = f(a);\n",
    "std::cout << y << std::endl;"
   ]
  },
  {
   "cell_type": "markdown",
   "id": "badbef37",
   "metadata": {},
   "source": [
    "### Example 2 - Type errors"
   ]
  },
  {
   "cell_type": "code",
   "execution_count": 6,
   "id": "e05af92c",
   "metadata": {},
   "outputs": [
    {
     "data": {
      "text/plain": []
     },
     "execution_count": 6,
     "metadata": {},
     "output_type": "execute_result"
    }
   ],
   "source": [
    "#include <string>"
   ]
  },
  {
   "cell_type": "code",
   "execution_count": 7,
   "id": "f192940f",
   "metadata": {},
   "outputs": [
    {
     "name": "stderr",
     "output_type": "stream",
     "text": [
      "input_line_10:3:5: error: no matching function for call to 'f'\n",
      "y = f(str)\n",
      "    ^\n",
      "input_line_5:1:8: note: candidate function not viable: no known conversion from 'std::string' (aka 'basic_string<char>') to 'double' for 1st argument\n",
      "double f(double x)\n",
      "       ^\n"
     ]
    },
    {
     "ename": "ename",
     "evalue": "evalue",
     "output_type": "error",
     "traceback": []
    }
   ],
   "source": [
    "std::string str {\"fred\"};\n",
    "y = f(str)\n"
   ]
  },
  {
   "cell_type": "markdown",
   "id": "eedb127a-af37-49e8-991e-484481125976",
   "metadata": {
    "kernel": "C++17"
   },
   "source": [
    "So, the c++ version seems to work for integers as well as real values. How\n",
    "so ? Well, if c++ knows how to convert from one type to another without\n",
    "ambiguity, then it will do so automatically. It knows how to do this for all\n",
    "built in types. Personally, at least in the context of modern c++, I think\n",
    "this is a bad thing. Conversion should of course be possible, but I do not\n",
    "think it should be automatic. What do you think ?"
   ]
  },
  {
   "cell_type": "markdown",
   "id": "f21cb746-13c4-4c9d-a65c-7bd50f4c4c84",
   "metadata": {
    "kernel": "C++17"
   },
   "source": [
    "Just as in python, functions can take more than one argument, but, as with\n",
    "python, they can only return one value. In python this is not really a limitation because you can use data structures such as tuples, lists or dictionaries to contain more than one value as the return value. The same is true for c++ which offers equivalents for these data structures in the Standard Tem-\n",
    "plate Library (STL). Some of the most important data structure in the STL\n",
    "will be covered later."
   ]
  },
  {
   "cell_type": "markdown",
   "id": "a6acc864-531b-4648-8d69-d34e1f2c727b",
   "metadata": {
    "kernel": "C++17"
   },
   "source": [
    "### Exercise 2"
   ]
  },
  {
   "cell_type": "markdown",
   "id": "d7dd732a-4789-495b-8be0-fc8de8e49fde",
   "metadata": {
    "kernel": "C++17"
   },
   "source": [
    "Both __python__ and __c++__ supoort recursive functions.  Try implementing a recursive function in both languages."
   ]
  },
  {
   "cell_type": "markdown",
   "id": "b7911243-688c-4695-8e99-e117b5ea8383",
   "metadata": {
    "kernel": "C++17"
   },
   "source": [
    "## Maths functions"
   ]
  },
  {
   "cell_type": "markdown",
   "id": "eef5b053-8af3-431c-809e-89c3d842eeb3",
   "metadata": {
    "kernel": "C++17"
   },
   "source": [
    "As with python, c++ comes with libraries that make available a number of\n",
    "commonly used and useful functions. To access the maths related functions\n",
    "in c++ you need to include the cmath library."
   ]
  },
  {
   "cell_type": "markdown",
   "id": "2ccdd822-7f6c-4af1-a072-10c9665cca42",
   "metadata": {
    "kernel": "C++17"
   },
   "source": [
    "### Example 2"
   ]
  },
  {
   "cell_type": "code",
   "execution_count": 14,
   "id": "a447e969-ac52-4069-b482-020e01f4a354",
   "metadata": {
    "kernel": "Python 3 (ipykernel)",
    "tags": []
   },
   "outputs": [
    {
     "name": "stdout",
     "output_type": "stream",
     "text": [
      "0.644217687237691\n",
      "0.7648421872844885\n",
      "0.7648421872844885\n"
     ]
    }
   ],
   "source": [
    "import math\n",
    "\n",
    "x = 0.7\n",
    "y = math.sin(x)\n",
    "print(y)\n",
    "y = math.cos(x)\n",
    "print(y)\n",
    "print(max(x,y))"
   ]
  },
  {
   "cell_type": "markdown",
   "id": "18393c11-93bf-430e-a47e-891725cc023e",
   "metadata": {
    "kernel": "C++17"
   },
   "source": [
    "<img src=\"./images/c++-icon.png\" width=50 height=50 align=\"left\"/>\n",
    "</br>\n",
    "</br>"
   ]
  },
  {
   "cell_type": "code",
   "execution_count": 1,
   "id": "236af6b6-6559-4554-b79e-a5a4626c91de",
   "metadata": {
    "kernel": "C++17"
   },
   "outputs": [
    {
     "data": {
      "text/plain": []
     },
     "execution_count": 1,
     "metadata": {},
     "output_type": "execute_result"
    }
   ],
   "source": [
    "#include <iostream>\n",
    "#include <cmath>"
   ]
  },
  {
   "cell_type": "code",
   "execution_count": 2,
   "id": "7c734bff-3d21-443f-9328-02a3ce442989",
   "metadata": {
    "kernel": "C++17"
   },
   "outputs": [
    {
     "name": "stdout",
     "output_type": "stream",
     "text": [
      "0.644218\n",
      "0.764842\n",
      "0.764842\n"
     ]
    },
    {
     "data": {
      "text/plain": [
       "(std::basic_ostream<char, std::char_traits<char> >::__ostream_type &) @0x7fe68324e480\n"
      ]
     },
     "execution_count": 2,
     "metadata": {},
     "output_type": "execute_result"
    }
   ],
   "source": [
    "double x{0.7};\n",
    "double y {std::sin(x)};\n",
    "std::cout << y << std::endl;\n",
    "y = std::cos(x);\n",
    "std::cout << y << std::endl;\n",
    "std::cout << std::max(x,y) << std::endl;"
   ]
  },
  {
   "cell_type": "markdown",
   "id": "2d37d696-6e19-4661-b552-d72a0b459c49",
   "metadata": {
    "kernel": "C++17"
   },
   "source": [
    "#### Exercise 3\n",
    "\n",
    "Use the [c++ cmath library](https://cplusplus.com/reference/cmath/) to find some other\n",
    "functions in the library and try them out in your own code."
   ]
  }
 ],
 "metadata": {
  "kernelspec": {
   "display_name": "Python 3 (ipykernel)",
   "language": "python",
   "name": "python3"
  },
  "language_info": {
   "codemirror_mode": {
    "name": "ipython",
    "version": 3
   },
   "file_extension": ".py",
   "mimetype": "text/x-python",
   "name": "python",
   "nbconvert_exporter": "python",
   "pygments_lexer": "ipython3",
   "version": "3.9.10"
  },
  "sos": {
   "kernels": [
    [
     "C++17",
     "cling-cpp17",
     "C++",
     "",
     "c++"
    ],
    [
     "Python 3 (ipykernel)",
     "python3",
     "python3",
     "",
     {
      "name": "ipython",
      "version": 3
     }
    ]
   ],
   "panel": {
    "displayed": true,
    "height": 0
   },
   "version": "0.23.4"
  }
 },
 "nbformat": 4,
 "nbformat_minor": 5
}
