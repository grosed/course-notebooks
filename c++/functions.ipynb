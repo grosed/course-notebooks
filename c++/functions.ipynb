{
 "cells": [
  {
   "cell_type": "markdown",
   "id": "9c924b8a-ba86-4cd1-9963-d035bc2d1fb6",
   "metadata": {
    "kernel": "SoS",
    "tags": []
   },
   "source": [
    "# Functions"
   ]
  },
  {
   "cell_type": "markdown",
   "id": "7342b2a4-9633-4232-9b70-32b026a20088",
   "metadata": {
    "kernel": "SoS"
   },
   "source": [
    "## The basics"
   ]
  },
  {
   "cell_type": "markdown",
   "id": "da9621a4-4d49-4d85-a953-57177778d5ca",
   "metadata": {
    "kernel": "SoS"
   },
   "source": [
    "### Example 1"
   ]
  },
  {
   "cell_type": "markdown",
   "id": "206b9050-b20c-4482-af33-aa8e02001933",
   "metadata": {
    "kernel": "SoS"
   },
   "source": [
    "<img src=\"./images/python-icon.jpeg\" width=50 height=50 align=\"left\"/>\n",
    "</br>\n",
    "</br>"
   ]
  },
  {
   "cell_type": "code",
   "execution_count": 1,
   "id": "d19f9fad",
   "metadata": {
    "kernel": "Python 3 (ipykernel)",
    "tags": []
   },
   "outputs": [
    {
     "name": "stdout",
     "output_type": "stream",
     "text": [
      "9.42\n"
     ]
    }
   ],
   "source": [
    "def f(x) :\n",
    "    y = 3.14 * x\n",
    "    return(y)\n",
    "x = 3\n",
    "y = f(x)\n",
    "print(y)"
   ]
  },
  {
   "cell_type": "markdown",
   "id": "927a5c99-5d76-457c-818f-79659e292f27",
   "metadata": {
    "kernel": "Python 3 (ipykernel)"
   },
   "source": [
    "<img src=\"./images/c++-icon.png\" width=50 height=50 align=\"left\"/>\n",
    "</br>\n",
    "</br>"
   ]
  },
  {
   "cell_type": "code",
   "execution_count": 2,
   "id": "e2963deb-29d6-4eec-8383-58c1e18d25c7",
   "metadata": {
    "kernel": "C++17",
    "tags": []
   },
   "outputs": [
    {
     "data": {
      "text/plain": []
     },
     "execution_count": 2,
     "metadata": {},
     "output_type": "execute_result"
    }
   ],
   "source": [
    "#include <iostream>"
   ]
  },
  {
   "cell_type": "markdown",
   "id": "4bfdbaf4-23fd-4ac7-a23c-045d1d2cf8a9",
   "metadata": {
    "kernel": "C++17"
   },
   "source": [
    "<img src=\"./images/bang.png\" width=50 height=50 align=\"left\"/>\n",
    "<img src=\"./images/c++-icon.png\" width=40 height=40 align=\"left\"/>\n",
    "</br>\n",
    "</br>"
   ]
  },
  {
   "cell_type": "markdown",
   "id": "ccfb2fe5-9b25-49a8-9f26-3bae0b2ed04b",
   "metadata": {
    "kernel": "C++17"
   },
   "source": [
    "When using __c++__ in __jupyter__, each function has to be in its own cell."
   ]
  },
  {
   "cell_type": "code",
   "execution_count": 3,
   "id": "c8f9d8ba-0052-4c4c-bd9d-7adf8ce8773d",
   "metadata": {
    "kernel": "C++17"
   },
   "outputs": [
    {
     "data": {
      "text/plain": []
     },
     "execution_count": 3,
     "metadata": {},
     "output_type": "execute_result"
    }
   ],
   "source": [
    "double f(double x)\n",
    "{\n",
    "    double y{3.14*x};\n",
    "    return y;\n",
    "}"
   ]
  },
  {
   "cell_type": "code",
   "execution_count": 4,
   "id": "ba43ea5e-b880-4ac5-b7ed-fc66bcf2961a",
   "metadata": {
    "kernel": "C++17"
   },
   "outputs": [
    {
     "name": "stdout",
     "output_type": "stream",
     "text": [
      "9.42\n"
     ]
    },
    {
     "data": {
      "text/plain": [
       "(std::basic_ostream<char, std::char_traits<char> >::__ostream_type &) @0x7f3cf41fd540\n"
      ]
     },
     "execution_count": 4,
     "metadata": {},
     "output_type": "execute_result"
    }
   ],
   "source": [
    "double x {3};\n",
    "double y {f(x)};\n",
    "std::cout << y << std::endl;"
   ]
  },
  {
   "cell_type": "markdown",
   "id": "bbe08678-2fef-481d-a552-19f762ec8bad",
   "metadata": {
    "kernel": "C++17"
   },
   "source": [
    "The key part of a c++ function is its declaration - in the example this is\n",
    "```c++\n",
    "double f(double x)\n",
    "```\n",
    "\n",
    "It has two additional pieces of information when compared to the __python__ version - the type of the input argument (double x), and the type of the value returned by the function shown at the begining of the line i.e. double. This makes the definition of the __c++__ function more precise in that it says something about the domain and co-domain of the function. The python version does not. On one hand, this is an advantage of the python version.\n",
    "It can take any value that will work within the definition of the function i.e. any value that 2*x __makes sense for__. \n",
    "\n",
    "If 2*x does not make sense for x then the function will fail (if invoked) at run time\n",
    "does not make sense for x then the function will fail (if invoked) at run time. What happens if you try and use the wrong type in the __c++__ version ? "
   ]
  },
  {
   "cell_type": "markdown",
   "id": "9602d928",
   "metadata": {
    "kernel": "SoS"
   },
   "source": [
    "## Type casting"
   ]
  },
  {
   "cell_type": "markdown",
   "id": "bf8c85c4",
   "metadata": {
    "kernel": "SoS"
   },
   "source": [
    "### Example 2 - Type conversion"
   ]
  },
  {
   "cell_type": "code",
   "execution_count": 5,
   "id": "60079c5a-ebd2-40d7-9900-d84e3de4530e",
   "metadata": {
    "kernel": "C++17"
   },
   "outputs": [
    {
     "name": "stdout",
     "output_type": "stream",
     "text": [
      "21.98\n"
     ]
    },
    {
     "data": {
      "text/plain": [
       "(std::basic_ostream<char, std::char_traits<char> >::__ostream_type &) @0x7f3cf41fd540\n"
      ]
     },
     "execution_count": 5,
     "metadata": {},
     "output_type": "execute_result"
    }
   ],
   "source": [
    "int a = 7;\n",
    "y = f(a);\n",
    "std::cout << y << std::endl;"
   ]
  },
  {
   "cell_type": "markdown",
   "id": "badbef37",
   "metadata": {
    "kernel": "SoS"
   },
   "source": [
    "### Example 2 - Type errors"
   ]
  },
  {
   "cell_type": "code",
   "execution_count": 6,
   "id": "e05af92c",
   "metadata": {
    "kernel": "SoS"
   },
   "outputs": [
    {
     "data": {
      "text/plain": []
     },
     "execution_count": 6,
     "metadata": {},
     "output_type": "execute_result"
    }
   ],
   "source": [
    "#include <string>"
   ]
  },
  {
   "cell_type": "code",
   "execution_count": 7,
   "id": "f192940f",
   "metadata": {
    "kernel": "SoS"
   },
   "outputs": [
    {
     "name": "stderr",
     "output_type": "stream",
     "text": [
      "input_line_10:3:5: error: no matching function for call to 'f'\n",
      "y = f(str)\n",
      "    ^\n",
      "input_line_5:1:8: note: candidate function not viable: no known conversion from 'std::string' (aka 'basic_string<char>') to 'double' for 1st argument\n",
      "double f(double x)\n",
      "       ^\n"
     ]
    },
    {
     "ename": "ename",
     "evalue": "evalue",
     "output_type": "error",
     "traceback": []
    }
   ],
   "source": [
    "std::string str {\"fred\"};\n",
    "y = f(str)\n"
   ]
  },
  {
   "cell_type": "markdown",
   "id": "eedb127a-af37-49e8-991e-484481125976",
   "metadata": {
    "kernel": "C++17"
   },
   "source": [
    "So, the __c++__ version seems to work for integers as well as real values. How\n",
    "so ? Well, if __c++__ knows how to convert from one type to another without\n",
    "ambiguity, then it will do so automatically. It knows how to do this for all\n",
    "built in types. Personally, at least in the context of modern __c++__, I think\n",
    "this is a bad thing. Conversion should of course be possible, but I do not\n",
    "think it should be automatic. What do you think ?"
   ]
  },
  {
   "cell_type": "markdown",
   "id": "f21cb746-13c4-4c9d-a65c-7bd50f4c4c84",
   "metadata": {
    "kernel": "C++17"
   },
   "source": [
    "Just as in python, functions can take more than one argument, but, as with\n",
    "__python__, they can only return one value. In python this is not really a limitation because you can use data structures such as tuples, lists or dictionaries to contain more than one value as the return value. The same is true for __c++__ which offers equivalents for these data structures in the __Standard Template Library__ (__STL__). Some of the most important data structure in the __STL__\n",
    "will be covered later."
   ]
  },
  {
   "cell_type": "markdown",
   "id": "a6acc864-531b-4648-8d69-d34e1f2c727b",
   "metadata": {
    "kernel": "C++17"
   },
   "source": [
    "### Exercise 2"
   ]
  },
  {
   "cell_type": "markdown",
   "id": "d7dd732a-4789-495b-8be0-fc8de8e49fde",
   "metadata": {
    "kernel": "C++17"
   },
   "source": [
    "Both __python__ and __c++__ suport recursive functions.  Try implementing a recursive function in both languages."
   ]
  },
  {
   "cell_type": "markdown",
   "id": "b7911243-688c-4695-8e99-e117b5ea8383",
   "metadata": {
    "kernel": "C++17"
   },
   "source": [
    "## Maths functions"
   ]
  },
  {
   "cell_type": "markdown",
   "id": "eef5b053-8af3-431c-809e-89c3d842eeb3",
   "metadata": {
    "kernel": "C++17"
   },
   "source": [
    "As with __python__, __c++__ comes with libraries that make available a number of\n",
    "commonly used and useful functions. To access the maths related functions\n",
    "in __c++__ you need to include the cmath library."
   ]
  },
  {
   "cell_type": "markdown",
   "id": "2ccdd822-7f6c-4af1-a072-10c9665cca42",
   "metadata": {
    "kernel": "C++17"
   },
   "source": [
    "### Example 2"
   ]
  },
  {
   "cell_type": "code",
   "execution_count": 14,
   "id": "a447e969-ac52-4069-b482-020e01f4a354",
   "metadata": {
    "kernel": "Python 3 (ipykernel)",
    "tags": []
   },
   "outputs": [
    {
     "name": "stdout",
     "output_type": "stream",
     "text": [
      "0.644217687237691\n",
      "0.7648421872844885\n",
      "0.7648421872844885\n"
     ]
    }
   ],
   "source": [
    "import math\n",
    "\n",
    "x = 0.7\n",
    "y = math.sin(x)\n",
    "print(y)\n",
    "y = math.cos(x)\n",
    "print(y)\n",
    "print(max(x,y))"
   ]
  },
  {
   "cell_type": "markdown",
   "id": "18393c11-93bf-430e-a47e-891725cc023e",
   "metadata": {
    "kernel": "C++17"
   },
   "source": [
    "<img src=\"./images/c++-icon.png\" width=50 height=50 align=\"left\"/>\n",
    "</br>\n",
    "</br>"
   ]
  },
  {
   "cell_type": "code",
   "execution_count": 1,
   "id": "236af6b6-6559-4554-b79e-a5a4626c91de",
   "metadata": {
    "kernel": "C++17"
   },
   "outputs": [
    {
     "data": {
      "text/plain": []
     },
     "execution_count": 1,
     "metadata": {},
     "output_type": "execute_result"
    }
   ],
   "source": [
    "#include <iostream>\n",
    "#include <cmath>"
   ]
  },
  {
   "cell_type": "code",
   "execution_count": 2,
   "id": "7c734bff-3d21-443f-9328-02a3ce442989",
   "metadata": {
    "kernel": "C++17"
   },
   "outputs": [
    {
     "name": "stdout",
     "output_type": "stream",
     "text": [
      "0.644218\n",
      "0.764842\n",
      "0.764842\n"
     ]
    },
    {
     "data": {
      "text/plain": [
       "(std::basic_ostream<char, std::char_traits<char> >::__ostream_type &) @0x7fe68324e480\n"
      ]
     },
     "execution_count": 2,
     "metadata": {},
     "output_type": "execute_result"
    }
   ],
   "source": [
    "double x{0.7};\n",
    "double y {std::sin(x)};\n",
    "std::cout << y << std::endl;\n",
    "y = std::cos(x);\n",
    "std::cout << y << std::endl;\n",
    "std::cout << std::max(x,y) << std::endl;"
   ]
  },
  {
   "cell_type": "markdown",
   "id": "2d37d696-6e19-4661-b552-d72a0b459c49",
   "metadata": {
    "kernel": "C++17"
   },
   "source": [
    "### Exercise 3\n",
    "\n",
    "Use the [c++ cmath library](https://cplusplus.com/reference/cmath/) to find some other\n",
    "functions in the library and try them out in your own code."
   ]
  },
  {
   "cell_type": "markdown",
   "id": "120464bb-5da5-48fc-bacf-430d3de389ee",
   "metadata": {
    "kernel": "SoS"
   },
   "source": [
    "## Passing arguments to functions"
   ]
  },
  {
   "cell_type": "markdown",
   "id": "fbe827fa-9e80-4903-9a7a-4597a3ca7aca",
   "metadata": {
    "kernel": "SoS"
   },
   "source": [
    "In __python__, when an immutable argument gets passed to a function it only gets copied if it gets changed in the function.  "
   ]
  },
  {
   "cell_type": "markdown",
   "id": "fe212447-bf5a-47bb-86d8-d67e6e7e3157",
   "metadata": {
    "kernel": "SoS"
   },
   "source": [
    "### Exercise 4\n",
    "\n",
    "Predict what the output of the following code should be.\n",
    "\n",
    "```python\n",
    "x = 3.14\n",
    "\n",
    "def f(x) :\n",
    "    x = x\n",
    "    return x\n",
    "\n",
    "def g(x) :\n",
    "    x = 2*x\n",
    "    x = x\n",
    "    return x\n",
    "\n",
    "print(f(x) is x)\n",
    "print(g(x) is x)\n",
    "\n",
    "```"
   ]
  },
  {
   "cell_type": "markdown",
   "id": "668ab6df-f4dc-4c7f-873a-e91522001e2c",
   "metadata": {
    "kernel": "SoS"
   },
   "source": [
    "### Exercise 5\n",
    "\n",
    "Predict what the output of the following code should be.\n",
    "\n",
    "```python\n",
    "x = {\"a\" : 1,\"b\" : 2}\n",
    "\n",
    "def f(x) :\n",
    "    x[\"c\"] = 3\n",
    "    return x\n",
    "\n",
    "print(f(x) is x)\n",
    "print(x)\n",
    "```\n"
   ]
  },
  {
   "cell_type": "markdown",
   "id": "99cdf2ed-4dc4-4cfd-88de-d5be4ca4398a",
   "metadata": {
    "kernel": "SoS"
   },
   "source": [
    "### Exercise 6\n",
    "\n",
    "Predict what the output of the following code should be.\n",
    "\n",
    "```python\n",
    "x = [1,2,3,4]\n",
    "\n",
    "def f(x) :\n",
    "    x = x + [5]\n",
    "    return x\n",
    "\n",
    "print(f(x) is x)\n",
    "print(x)\n",
    "```"
   ]
  },
  {
   "cell_type": "markdown",
   "id": "6587c447-ab86-4970-86a7-5438804cb4b0",
   "metadata": {
    "kernel": "SoS"
   },
   "source": [
    "### Exercise 7\n",
    "\n",
    "Predict what the output of the following code should be.\n",
    "\n",
    "```python\n",
    "x = [1,2,3,4]\n",
    "\n",
    "def f(x) :\n",
    "    x.append(5)\n",
    "    return x\n",
    "\n",
    "print(f(x) is x)\n",
    "print(x)\n",
    "```"
   ]
  },
  {
   "cell_type": "markdown",
   "id": "35fa6e09-3891-4757-b206-008160ee5912",
   "metadata": {
    "kernel": "SoS"
   },
   "source": [
    "In __c++__ the programmer can control what happens. "
   ]
  },
  {
   "cell_type": "markdown",
   "id": "ed30bed8-e616-4bbf-95f2-d4b8fb9ef071",
   "metadata": {
    "kernel": "SoS"
   },
   "source": [
    "#### Case 1 - Argument gets copied"
   ]
  },
  {
   "cell_type": "code",
   "execution_count": 4,
   "id": "6b6e6b7f-c3e9-47c9-a37f-5b544021d07f",
   "metadata": {
    "kernel": "C++17"
   },
   "outputs": [
    {
     "data": {
      "text/plain": []
     },
     "execution_count": 4,
     "metadata": {},
     "output_type": "execute_result"
    }
   ],
   "source": [
    "#include <iostream>"
   ]
  },
  {
   "cell_type": "code",
   "execution_count": 5,
   "id": "421fda22-4607-4d75-85cb-15ea8d154cf3",
   "metadata": {
    "kernel": "C++17"
   },
   "outputs": [
    {
     "data": {
      "text/plain": []
     },
     "execution_count": 5,
     "metadata": {},
     "output_type": "execute_result"
    }
   ],
   "source": [
    "double f(double x)\n",
    "{\n",
    "    x = 2*x;\n",
    "    return x;\n",
    "}"
   ]
  },
  {
   "cell_type": "markdown",
   "id": "23d0a7ff-7822-47b2-af75-73fcb811f7f0",
   "metadata": {
    "kernel": "C++17"
   },
   "source": [
    "In this case, the x inside the body of the function is a copy of the value that is passed. Consequently, if x is large data structure (list, dictionary etc..) this code can be very inefficient unless a (deep) copy is actually requited."
   ]
  },
  {
   "cell_type": "code",
   "execution_count": 6,
   "id": "1d05e6b2-76a1-4379-bdae-90de061fb7d5",
   "metadata": {
    "kernel": "C++17"
   },
   "outputs": [
    {
     "name": "stdout",
     "output_type": "stream",
     "text": [
      "0\n"
     ]
    },
    {
     "data": {
      "text/plain": [
       "(std::basic_ostream<char, std::char_traits<char> >::__ostream_type &) @0x7f6a00bd2b60\n"
      ]
     },
     "execution_count": 6,
     "metadata": {},
     "output_type": "execute_result"
    }
   ],
   "source": [
    "double x {3.14};\n",
    "std::cout << (f(x) == x) << std::endl;\n",
    "std::cout << x << std::endl;"
   ]
  },
  {
   "cell_type": "markdown",
   "id": "3a4b2392-6581-4393-8389-9230b6ae8db7",
   "metadata": {
    "kernel": "C++17"
   },
   "source": [
    "#### Case 2 - Pass by reference - arguments do not get copied "
   ]
  },
  {
   "cell_type": "code",
   "execution_count": 8,
   "id": "ab9888d1-875b-4875-b139-60cc9b0a2739",
   "metadata": {
    "kernel": "C++17"
   },
   "outputs": [
    {
     "data": {
      "text/plain": []
     },
     "execution_count": 8,
     "metadata": {},
     "output_type": "execute_result"
    }
   ],
   "source": [
    "double g(double& x)\n",
    "{\n",
    "    x = 2*x;\n",
    "    return x;\n",
    "}"
   ]
  },
  {
   "cell_type": "code",
   "execution_count": 9,
   "id": "cc7dee87-1c2e-41a7-8963-c51d0d320746",
   "metadata": {
    "kernel": "C++17"
   },
   "outputs": [
    {
     "name": "stdout",
     "output_type": "stream",
     "text": [
      "1\n",
      "6.28\n"
     ]
    },
    {
     "data": {
      "text/plain": [
       "(std::basic_ostream<char, std::char_traits<char> >::__ostream_type &) @0x7f6a00bd2b60\n"
      ]
     },
     "execution_count": 9,
     "metadata": {},
     "output_type": "execute_result"
    }
   ],
   "source": [
    "std::cout << (g(x) == x) << std::endl;\n",
    "std::cout << x << std::endl;"
   ]
  },
  {
   "cell_type": "markdown",
   "id": "e3636fdb-5366-46c3-92e1-f45caaa7062c",
   "metadata": {
    "kernel": "C++17"
   },
   "source": [
    "As the above example shows, passing by reference (by using the **&** symbol after the type specification), does NOT copy the argument. If the value passed to the function gets modified within the function, then the value that was passed also gets modified. This is efficient, but can be a source of difficult to diagnose bugs."
   ]
  },
  {
   "cell_type": "markdown",
   "id": "bdd05554-1521-4b1d-b168-c855ebcd1d63",
   "metadata": {
    "kernel": "C++17"
   },
   "source": [
    "#### Case 4 - Using the const modifiy to prevent modifications "
   ]
  },
  {
   "cell_type": "markdown",
   "id": "f546be59-ad9f-4ce9-8b53-655af3d77ba4",
   "metadata": {
    "kernel": "C++17"
   },
   "source": [
    "If a copy is not required, but it is important that the value is not modified within the function (which is often the case) then the **const** type modifier can be used. This is placed in front of the type specification. "
   ]
  },
  {
   "cell_type": "code",
   "execution_count": 10,
   "id": "e9af59ab-1bba-468f-9807-b4fdf7c7a561",
   "metadata": {
    "kernel": "C++17"
   },
   "outputs": [
    {
     "name": "stderr",
     "output_type": "stream",
     "text": [
      "input_line_11:3:7: error: cannot assign to variable 'x' with const-qualified type 'const double &'\n",
      "    x = 2*x;\n",
      "    ~ ^\n",
      "input_line_11:1:24: note: variable 'x' declared const here\n",
      "double h(const double& x)\n",
      "         ~~~~~~~~~~~~~~^\n"
     ]
    },
    {
     "ename": "ename",
     "evalue": "evalue",
     "output_type": "error",
     "traceback": []
    }
   ],
   "source": [
    "double h(const double& x)\n",
    "{\n",
    "    x = 2*x;\n",
    "    return x;\n",
    "}"
   ]
  },
  {
   "cell_type": "markdown",
   "id": "a6602323-1bee-4b93-bbba-7e67b2697e13",
   "metadata": {
    "kernel": "C++17"
   },
   "source": [
    "Note that, as is the case in the example above, the compiler will not allow you to write code that does modify the value if it is passed as a **const** type. The compiler ensures that the programmer keeps their promises !!"
   ]
  }
 ],
 "metadata": {
  "kernelspec": {
   "display_name": "SoS",
   "language": "sos",
   "name": "sos"
  },
  "language_info": {
   "codemirror_mode": "sos",
   "file_extension": ".sos",
   "mimetype": "text/x-sos",
   "name": "sos",
   "nbconvert_exporter": "sos_notebook.converter.SoS_Exporter",
   "pygments_lexer": "sos"
  },
  "sos": {
   "kernels": [
    [
     "C++17",
     "cling-cpp17",
     "C++",
     "",
     "c++"
    ],
    [
     "Python 3 (ipykernel)",
     "python3",
     "python3",
     "",
     {
      "name": "ipython",
      "version": 3
     }
    ],
    [
     "SoS",
     "sos",
     "",
     "",
     "sos"
    ]
   ],
   "panel": {
    "displayed": true,
    "height": 0
   },
   "version": "0.23.4"
  }
 },
 "nbformat": 4,
 "nbformat_minor": 5
}
