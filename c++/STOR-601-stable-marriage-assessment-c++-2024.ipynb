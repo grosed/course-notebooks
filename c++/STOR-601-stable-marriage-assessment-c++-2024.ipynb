{
 "cells": [
  {
   "cell_type": "markdown",
   "id": "ee33a35c",
   "metadata": {},
   "source": [
    "# STOR-601 C++ for Python Programmers - Assessment"
   ]
  },
  {
   "cell_type": "markdown",
   "id": "0af33de4",
   "metadata": {},
   "source": [
    "## Overview"
   ]
  },
  {
   "cell_type": "markdown",
   "id": "a073c09c",
   "metadata": {},
   "source": [
    "This is the assessment for the STOR-601 C++ for Python Programmers Module.\n",
    "\n",
    "The submission date for this assessment is 04/03/2022. Your submission should be in the form of jupyter notebooks along with any accompanying files (such as text files containg c++ source code) and made available for download via your github account. Please send details of your github repository to [daniel grose](mailto:dan.grose@lancaster.ac.uk) by 17:00 on the submission date. Alternatively, send me an invite via github - my github name is __grosed__. \n",
    "\n",
    "The assessment is marked out of 100 and the scores assigned to each task are indicated in the task descriptions. \n",
    "\n",
    "Please feel free to you use and extend any of the examples from the course notes and use resources available online where appropriate. However, it is important that your solution to the Task 1 is your own work and reflects your own judgements as how to best implement the \"fundamental algorithm\" in c++.  \n",
    "\n",
    "Before your results and feedback are returned you might be asked to have a short (approximately 5 minutes) individual online \"interview\" to discuss some aspects of your work. The outcome of this interview might impact on your overall individual score.\n"
   ]
  },
  {
   "cell_type": "markdown",
   "id": "7eca0bf1",
   "metadata": {},
   "source": [
    "### <u>Task 1</u>\n",
    "\n",
    "Write c++ code (17 or later) to implement the IS_STABLE algorithm and the \"fundamental algorithm\". Your code should be seperated into a header and source code files. Compile the source code to an object file.\n",
    "\n",
    "__Marks__ [35]"
   ]
  },
  {
   "cell_type": "markdown",
   "id": "b129a972",
   "metadata": {},
   "source": [
    "### <u>Task 2</u>\n",
    "\n",
    "Create an executable program using c++ (17 or later) that takes the names of two files as input paramaters. Each file should contain a structured text based representation of a preference table suitable for use by the \"fundamental allgorithm\". The program should read the files and using the contents construct two preference tables sutiable for use with the code you produced for Task 1.\n",
    "\n",
    "The program should then use your code from Task 1 to find a stable matching, check that is is stable, and print a representation of the matching to std::cout.\n",
    "\n",
    "\n",
    "__Marks__ [15]"
   ]
  },
  {
   "cell_type": "markdown",
   "id": "7c41993b",
   "metadata": {
    "jp-MarkdownHeadingCollapsed": true
   },
   "source": [
    "### <u>Task 3</u>\n",
    "\n",
    "Create a program that is the same as for Task 2 except that it takes an additional parameter which indicates the number of times to repeat the \"fundamental algorithm\" for the input preference tables. \n",
    "\n",
    "Use the unix **time** function to time your program for a range of inputs. \n",
    "\n",
    "How does the run time of your program compare to your python code from your first assessment ?\n",
    "\n",
    "Try adding this argument \n",
    "```bash\n",
    "-O3\n",
    "```\n",
    "to the g++ command when compiling both yor object file from Task 1 and your code for this task. Does this change the runtime of your program ?\n",
    "\n",
    "Report your findings using markdown in a Jupyter notebook.\n",
    "\n",
    "__Marks__ [15]"
   ]
  },
  {
   "cell_type": "markdown",
   "id": "7b22c9c7-deba-4950-b768-5d366dcf4a6f",
   "metadata": {},
   "source": [
    "### <u>Task 4</u>"
   ]
  },
  {
   "cell_type": "markdown",
   "id": "bfd99249-2e7e-4003-881d-dbd1cddb90ab",
   "metadata": {},
   "source": [
    "Create a github repository for your code from Tasks 1, 2 and 3. \n",
    "\n",
    "Add a README.md containing instructions for compiling and running your code for each of the Tasks 1, 2, and 3. Check that your README.rd file renders properly on github.\n",
    "\n",
    "Add your notebook from Task 3 to the repository.\n",
    "\n",
    "__Marks__ [15]"
   ]
  },
  {
   "cell_type": "markdown",
   "id": "7c693932-2ce3-4c8d-92db-fa22fca55f68",
   "metadata": {},
   "source": [
    "### <u>Task 5</u>\n",
    "\n",
    "A colleague wants to be able to use your code on a Windows based system but does not know how to install and use a c++ compiler on Windows. Research how this might be done and provide some step by step instructions for your colleague to use. You need to test that your instructions work on your own STOR-i Windows laptop. Add these instructions to your github repository using a suitable format.\n",
    "\n",
    "If you cannot install and use a suitable compiler indicate what issues prevented you from doing so.\n",
    "\n",
    "__Marks__ [20]"
   ]
  }
 ],
 "metadata": {
  "kernelspec": {
   "display_name": "Python 3 (ipykernel)",
   "language": "python",
   "name": "python3"
  },
  "language_info": {
   "codemirror_mode": {
    "name": "ipython",
    "version": 3
   },
   "file_extension": ".py",
   "mimetype": "text/x-python",
   "name": "python",
   "nbconvert_exporter": "python",
   "pygments_lexer": "ipython3",
   "version": "3.9.10"
  }
 },
 "nbformat": 4,
 "nbformat_minor": 5
}
