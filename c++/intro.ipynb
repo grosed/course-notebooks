{
 "cells": [
  {
   "cell_type": "markdown",
   "id": "b6a8fd8d-c10d-422b-afb0-84e6db89d5e9",
   "metadata": {},
   "source": [
    "# Introduction"
   ]
  },
  {
   "cell_type": "markdown",
   "id": "f0f4ddf5-53b7-4544-98b8-20e951679ffe",
   "metadata": {},
   "source": [
    "## Background"
   ]
  },
  {
   "cell_type": "markdown",
   "id": "02575926-2b1e-4ac4-a441-0dcc4d4b1c1d",
   "metadata": {},
   "source": [
    "This course is an introduction to __c++__ for programmers who already have some programming experience with __Python__. This approach has been adopted for a number of reasons, but the most significant of these is that, in its most modern form, __c++__ can be written using concepts that are very similar in style and use to their counterparts as found in __python__. Note though, that this is really only possible when using a __modern__ __c++__ standard, typically __c++__ 14 or better. In this course we will be using __c++__ 17. Furthermore, to achieve a __Python__ like coding style in __c++__, the __Standard Template Library__ is required. This standard provides all of the data structures that are typically used in __python__, such as lists and dictionaries, but are not provided as (standard) part of __c++__.   "
   ]
  },
  {
   "cell_type": "markdown",
   "id": "d9a6cea8-088c-4b46-9140-4acc0acf23c1",
   "metadata": {},
   "source": [
    "## Why __C++__ ?"
   ]
  },
  {
   "cell_type": "markdown",
   "id": "9deef54b-fec0-4aa3-834f-7a94612b8cfa",
   "metadata": {},
   "source": [
    "A common answer to this question is speed - \"__c++__ is a compiled language and is much faster than __python__, which is an interpreted language\" - might be something you have heard before. But ...  "
   ]
  },
  {
   "cell_type": "markdown",
   "id": "1ac22471-8ad8-4305-99a2-d27f779ea00a",
   "metadata": {},
   "source": [
    "### Compiled and Interpreted - the reality"
   ]
  },
  {
   "cell_type": "markdown",
   "id": "f87d2676-fe3d-49f8-800a-191d3041476c",
   "metadata": {},
   "source": [
    "In fact, a programming language is neither compiled or interpreted any more than a human language is written or spoken. Typically, __python__ programs are executed using a interpreted __python__ system, and __c++__ programs are typically compiled by a __c++__ compiler. However, there are python compilers (e.g. [__PyPy__](https://www.pypy.org/)), and __c++__ interpreters (e.g. [__cling__](https://root.cern/cling/)).  "
   ]
  },
  {
   "cell_type": "markdown",
   "id": "dc5c22b9-b751-4732-97dd-1e330203adbe",
   "metadata": {},
   "source": [
    "### Compiled and Interpreted - in practice"
   ]
  },
  {
   "cell_type": "markdown",
   "id": "d23ce445-eeba-4b22-942d-ac1ba5e1caf3",
   "metadata": {},
   "source": [
    "In practice, __python__ compilers and __c++__ interpreters are not used very often, so __c++__ is frequently chosen over __python__ when runtime is important. However, because compiling (and linking) programs involves quite a lot of technical knowledge (that is nothing particularly to do with __c++__), using a __c++__ interpreter can be a good way to start learning c++. This is what we will do in the first part of the course. At the end of the course instructions for using a __c++__ compiler are provided."
   ]
  },
  {
   "cell_type": "markdown",
   "id": "56601613-61e0-45e0-9513-51b94e14349e",
   "metadata": {},
   "source": [
    "## How the course works."
   ]
  },
  {
   "cell_type": "markdown",
   "id": "49427071-c114-46bd-becf-35fe9eeee173",
   "metadata": {},
   "source": [
    "### Using examples"
   ]
  },
  {
   "cell_type": "markdown",
   "id": "d26f493e-6eac-446f-8598-a4248b66cfbe",
   "metadata": {},
   "source": [
    "The course uses __jupyter__ to introduce __c++__ through examples. Most of the time, each example is accompanied by a __python__ version of the code. You should use the __python__ code to understand how to create the equivalent in __c++__. "
   ]
  },
  {
   "cell_type": "markdown",
   "id": "72d65bc7-982a-432d-8d94-d402bc03c2d2",
   "metadata": {},
   "source": [
    "### Course notes"
   ]
  },
  {
   "cell_type": "markdown",
   "id": "c411da08-d5bf-4a2c-839f-73cafc4998fc",
   "metadata": {},
   "source": [
    "The course notes are available online. The notes have been generated using __jupyter lab__. The idea is that you will create your own course notes from the online examples in a __jupyter notebook__. Instructions on how to do this will be provided at the beginning of the course. "
   ]
  },
  {
   "cell_type": "markdown",
   "id": "a0ae22dd-f57c-4759-bd36-620bc2a31697",
   "metadata": {},
   "source": [
    "To help you navigate through the course notes, several \"icons\" have been used."
   ]
  },
  {
   "cell_type": "markdown",
   "id": "21ca9111-6880-4373-aca1-73aaa82eae17",
   "metadata": {},
   "source": [
    "This one indicates a __c++__ specific part of the notes. "
   ]
  },
  {
   "cell_type": "markdown",
   "id": "391461c5-f87f-4253-9ea4-94efa7dcc2d6",
   "metadata": {},
   "source": [
    "<img src=\"./images/c++-icon.png\" width=50 height=50 align=\"left\"/>\n",
    "</br>\n",
    "</br>"
   ]
  },
  {
   "cell_type": "markdown",
   "id": "239db1ab-0259-4a83-9e59-9697142c5713",
   "metadata": {},
   "source": [
    "This one indicates a __python__ specific part of the notes. "
   ]
  },
  {
   "cell_type": "markdown",
   "id": "8121bb6a-0122-4a6b-94f9-571c411c0109",
   "metadata": {},
   "source": [
    "<img src=\"./images/python-icon.jpeg\" width=50 height=50 align=\"left\"/>\n",
    "</br>\n",
    "</br>"
   ]
  },
  {
   "cell_type": "markdown",
   "id": "a90817b4-f35c-42a9-9357-70085c65756d",
   "metadata": {},
   "source": [
    "This one is used to indicate some important detail that needs your attention."
   ]
  },
  {
   "cell_type": "markdown",
   "id": "c8b14533-162d-4fd6-8a5e-201a207163a1",
   "metadata": {},
   "source": [
    "<img src=\"./images/bang.png\" width=50 height=50 align=\"left\"/>\n",
    "</br>\n",
    "</br>"
   ]
  },
  {
   "cell_type": "markdown",
   "id": "600659e8-fe5a-4d42-ab1c-5e8c32ebf439",
   "metadata": {},
   "source": [
    "This one indicates that an example is deliberately broken (for teaching purposes)."
   ]
  },
  {
   "cell_type": "markdown",
   "id": "8c8ba6ca-f0fd-4e18-9b30-803ae942ee40",
   "metadata": {},
   "source": [
    "<img src=\"./images/broken.png\" width=50 height=50 align=\"left\"/>\n",
    "</br>\n",
    "</br>"
   ]
  },
  {
   "cell_type": "markdown",
   "id": "775ecb7c-a065-424f-8da6-0001424cd2d8",
   "metadata": {},
   "source": [
    "## Activating the course environment"
   ]
  },
  {
   "cell_type": "markdown",
   "id": "7f957e0b-279f-4ab7-acf9-a3deac988f22",
   "metadata": {},
   "source": [
    "This needs to be done each time you start a new shell to work with the course material."
   ]
  },
  {
   "cell_type": "markdown",
   "id": "200953dd-c530-438b-bc8e-e822900b13c3",
   "metadata": {},
   "source": [
    "```bash\n",
    "$ cd _/STOR-601-env\n",
    "$ source ./start-environment\n",
    "```"
   ]
  },
  {
   "cell_type": "markdown",
   "id": "45d8f895-3b18-4150-a7a0-9ed464f9cbc9",
   "metadata": {},
   "source": [
    "## Running jupyter notebook"
   ]
  },
  {
   "cell_type": "markdown",
   "id": "b6d05f10-3fdb-4336-9105-697f30084da7",
   "metadata": {},
   "source": [
    "Once you have activated the course environment you can start using __jupyter__ lab by typing\n",
    "```bash\n",
    "$ jupyter lab\n",
    "```\n"
   ]
  }
 ],
 "metadata": {
  "kernelspec": {
   "display_name": "Python 3 (ipykernel)",
   "language": "python",
   "name": "python3"
  },
  "language_info": {
   "codemirror_mode": {
    "name": "ipython",
    "version": 3
   },
   "file_extension": ".py",
   "mimetype": "text/x-python",
   "name": "python",
   "nbconvert_exporter": "python",
   "pygments_lexer": "ipython3",
   "version": "3.8.5"
  }
 },
 "nbformat": 4,
 "nbformat_minor": 5
}
