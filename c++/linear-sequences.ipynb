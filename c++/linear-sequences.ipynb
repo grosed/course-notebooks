{
 "cells": [
  {
   "cell_type": "markdown",
   "id": "7c584b90-e32f-4c27-8985-7a3cb908f8b2",
   "metadata": {
    "kernel": "SoS",
    "tags": []
   },
   "source": [
    "# Linear Sequences"
   ]
  },
  {
   "cell_type": "markdown",
   "id": "d6535efd-0fb4-4d0e-9caf-17ca3131e30e",
   "metadata": {
    "kernel": "SoS"
   },
   "source": [
    "## Lists"
   ]
  },
  {
   "cell_type": "markdown",
   "id": "08ea4926-5460-4fc7-81c7-69d03a9a303d",
   "metadata": {
    "kernel": "SoS"
   },
   "source": [
    "### Background"
   ]
  },
  {
   "cell_type": "markdown",
   "id": "44861e77-0e5d-4d52-ba3a-9fdac903785b",
   "metadata": {
    "kernel": "SoS"
   },
   "source": [
    "The list is a basic data structure that is ubiquitous in __python__.  The __c++__ standard does not define \n",
    "a list data structure, but the Standard Template Library Library does."
   ]
  },
  {
   "cell_type": "markdown",
   "id": "24dd2177-2467-47d8-b514-180ed35c203b",
   "metadata": {
    "kernel": "SoS"
   },
   "source": [
    "### Example 1"
   ]
  },
  {
   "cell_type": "markdown",
   "id": "ab5a1dd9-8bd3-4b32-8df0-0bba7c4f627e",
   "metadata": {
    "kernel": "SoS"
   },
   "source": [
    "<img src=\"./images/python-icon.jpeg\" width=50 height=50 align=\"left\"/>\n",
    "</br>\n",
    "</br>"
   ]
  },
  {
   "cell_type": "code",
   "execution_count": 15,
   "id": "0ad29197-04f1-4047-82fd-a6eb9837b045",
   "metadata": {
    "kernel": "Python 3 (ipykernel)",
    "tags": []
   },
   "outputs": [
    {
     "name": "stdout",
     "output_type": "stream",
     "text": [
      "[1, 2, 3, 4, 5, 6, 7, 8, 9, 10]\n"
     ]
    }
   ],
   "source": [
    "X = [1,2,3,4,5,6,7,8,9,10]\n",
    "print(X)"
   ]
  },
  {
   "cell_type": "markdown",
   "id": "175e5b4d-19a8-49dd-9cf4-df17518d300d",
   "metadata": {
    "kernel": "Python 3 (ipykernel)"
   },
   "source": [
    "<img src=\"./images/c++-icon.png\" width=50 height=50 align=\"left\"/>\n",
    "</br>\n",
    "</br>"
   ]
  },
  {
   "cell_type": "code",
   "execution_count": 2,
   "id": "7dff2066-6488-45d2-a1f1-e1cd5e5785ec",
   "metadata": {
    "kernel": "C++17",
    "tags": []
   },
   "outputs": [
    {
     "data": {
      "text/plain": []
     },
     "execution_count": 2,
     "metadata": {},
     "output_type": "execute_result"
    }
   ],
   "source": [
    "#include <list>"
   ]
  },
  {
   "cell_type": "code",
   "execution_count": 3,
   "id": "bce7d726-2b89-4d6c-939d-deb50b981df4",
   "metadata": {
    "kernel": "C++17"
   },
   "outputs": [
    {
     "data": {
      "text/plain": []
     },
     "execution_count": 3,
     "metadata": {},
     "output_type": "execute_result"
    }
   ],
   "source": [
    "std::list<int> X {1,2,3,4,5,6,7,8,9,10};"
   ]
  },
  {
   "cell_type": "markdown",
   "id": "5a5539c9-4b81-4d74-86f3-33253e93ff53",
   "metadata": {
    "kernel": "C++17"
   },
   "source": [
    "Note the syntax. The type of the elements in the list is declared inside the < > brackets. Further note, this means that the STL list is homogenous (unlike its python counterpart)."
   ]
  },
  {
   "cell_type": "markdown",
   "id": "b4bf964f-1247-4882-9288-31e531ab02c1",
   "metadata": {
    "kernel": "C++17"
   },
   "source": [
    "## STL lists are just lists"
   ]
  },
  {
   "cell_type": "markdown",
   "id": "633a8e99-303a-4660-8d3e-7a4ae832b5c6",
   "metadata": {
    "kernel": "C++17"
   },
   "source": [
    "As an abstract data type, lists do not have a direct means for random access. What does this mean ?"
   ]
  },
  {
   "cell_type": "markdown",
   "id": "af7dbc3f-fe4c-43d1-ad19-2bde4510b3b5",
   "metadata": {
    "kernel": "C++17"
   },
   "source": [
    "### Example 2"
   ]
  },
  {
   "cell_type": "markdown",
   "id": "2af7ef12-f5b2-4fc1-a616-2e28cf439013",
   "metadata": {
    "kernel": "SoS"
   },
   "source": [
    "<img src=\"./images/python-icon.jpeg\" width=50 height=50 align=\"left\"/>\n",
    "</br>\n",
    "</br>"
   ]
  },
  {
   "cell_type": "code",
   "execution_count": 4,
   "id": "8a83626c-b2fb-447d-b363-e082db49c4c1",
   "metadata": {
    "kernel": "Python 3 (ipykernel)",
    "tags": []
   },
   "outputs": [
    {
     "name": "stdout",
     "output_type": "stream",
     "text": [
      "3\n"
     ]
    }
   ],
   "source": [
    "print(X[2])"
   ]
  },
  {
   "cell_type": "markdown",
   "id": "9be8ac23-4648-4663-b342-05021cb73751",
   "metadata": {
    "kernel": "Python 3 (ipykernel)"
   },
   "source": [
    "<img src=\"./images/c++-icon.png\" width=50 height=50 align=\"left\"/>\n",
    "<img src=\"./images/broken.png\" width=50 height=50 align=\"left\"/>\n",
    "</br>\n",
    "</br>"
   ]
  },
  {
   "cell_type": "code",
   "execution_count": 5,
   "id": "aa6d85a0-eb66-48a7-9f3b-c91a592effd0",
   "metadata": {
    "kernel": "C++17",
    "tags": []
   },
   "outputs": [
    {
     "name": "stderr",
     "output_type": "stream",
     "text": [
      "input_line_5:2:3: error: type 'std::list<int>' does not provide a subscript operator\n",
      " X[2];\n",
      " ~^~\n"
     ]
    },
    {
     "ename": "ename",
     "evalue": "evalue",
     "output_type": "error",
     "traceback": []
    }
   ],
   "source": [
    "X[2];"
   ]
  },
  {
   "cell_type": "markdown",
   "id": "362e8408-df75-45c1-9427-cbe52a1a35bc",
   "metadata": {
    "kernel": "C++17"
   },
   "source": [
    "In __python__, lists are not just simple lists, they are a hybrid between lists and arrays."
   ]
  },
  {
   "cell_type": "markdown",
   "id": "ec13c03c-b574-437f-9583-c88704dc1c2b",
   "metadata": {
    "kernel": "C++17"
   },
   "source": [
    "## Iterating over lists"
   ]
  },
  {
   "cell_type": "markdown",
   "id": "8ce58c1e-9b4b-4253-a212-17a6f1f1e7da",
   "metadata": {
    "kernel": "C++17"
   },
   "source": [
    "It is very common in both __python__ and __c++__ to iterate through (over) the contents of a list."
   ]
  },
  {
   "cell_type": "markdown",
   "id": "8249ee90-3c14-453a-899c-86b9d11cd394",
   "metadata": {
    "kernel": "C++17"
   },
   "source": [
    "### Example 3"
   ]
  },
  {
   "cell_type": "markdown",
   "id": "7809d385-d3f1-40ba-838a-30120ed2cb33",
   "metadata": {
    "kernel": "SoS"
   },
   "source": [
    "<img src=\"./images/python-icon.jpeg\" width=50 height=50 align=\"left\"/>\n",
    "</br>\n",
    "</br>"
   ]
  },
  {
   "cell_type": "code",
   "execution_count": 6,
   "id": "d7fb137c-a476-4896-856d-5fe37dc92584",
   "metadata": {
    "kernel": "Python 3 (ipykernel)",
    "tags": []
   },
   "outputs": [
    {
     "name": "stdout",
     "output_type": "stream",
     "text": [
      "1\n",
      "2\n",
      "3\n",
      "4\n",
      "5\n",
      "6\n",
      "7\n",
      "8\n",
      "9\n",
      "10\n"
     ]
    }
   ],
   "source": [
    "for x in X :\n",
    "    print(x)"
   ]
  },
  {
   "cell_type": "markdown",
   "id": "407d3de9-254a-46dc-a836-93a050e94e9b",
   "metadata": {
    "kernel": "Python 3 (ipykernel)"
   },
   "source": [
    "<img src=\"./images/c++-icon.png\" width=50 height=50 align=\"left\"/>\n",
    "</br>\n",
    "</br>"
   ]
  },
  {
   "cell_type": "code",
   "execution_count": 7,
   "id": "a4d52a9c-d3fc-4e53-9767-468c2f83f956",
   "metadata": {
    "kernel": "C++17",
    "tags": []
   },
   "outputs": [
    {
     "data": {
      "text/plain": []
     },
     "execution_count": 7,
     "metadata": {},
     "output_type": "execute_result"
    }
   ],
   "source": [
    "#include <iostream>"
   ]
  },
  {
   "cell_type": "code",
   "execution_count": 8,
   "id": "2bfcbdc0-12d2-461d-99cd-7c03ce04bb4f",
   "metadata": {
    "kernel": "C++17",
    "tags": []
   },
   "outputs": [
    {
     "name": "stdout",
     "output_type": "stream",
     "text": [
      "1\n",
      "2\n",
      "3\n",
      "4\n",
      "5\n",
      "6\n",
      "7\n",
      "8\n",
      "9\n",
      "10\n"
     ]
    },
    {
     "data": {
      "text/plain": []
     },
     "execution_count": 8,
     "metadata": {},
     "output_type": "execute_result"
    }
   ],
   "source": [
    "for(int x : X)\n",
    "{\n",
    "    std::cout << x << std::endl;\n",
    "}"
   ]
  },
  {
   "cell_type": "markdown",
   "id": "cbfc1611-a3fb-4c66-a539-046ff7634ba4",
   "metadata": {
    "kernel": "C++17"
   },
   "source": [
    "<img src=\"./images/bang.png\" width=50 height=50 align=\"left\"/>\n",
    "</br>\n",
    "</br>"
   ]
  },
  {
   "cell_type": "markdown",
   "id": "174d019f-c00c-4db1-a0dc-f737969fa455",
   "metadata": {
    "kernel": "C++17"
   },
   "source": [
    "Notice the difference between the for loop in example 3, and the type of for loop introduced in the section on iterations.\n",
    "\n",
    "Note also that the type of for loop presented in example 3 is \"modern\" - it first appeared in c++ 14. "
   ]
  },
  {
   "cell_type": "markdown",
   "id": "f7fd0315-8db8-4413-88e0-db6aef0cf580",
   "metadata": {
    "kernel": "C++17"
   },
   "source": [
    "## Adding elements "
   ]
  },
  {
   "cell_type": "markdown",
   "id": "44ac304c-94bc-4f5a-990e-93394dfe0625",
   "metadata": {
    "kernel": "SoS"
   },
   "source": [
    "<img src=\"./images/python-icon.jpeg\" width=50 height=50 align=\"left\"/>\n",
    "</br>\n",
    "</br>"
   ]
  },
  {
   "cell_type": "markdown",
   "id": "02b91b3a-2b21-42f4-b74c-96a4d26d9b20",
   "metadata": {
    "kernel": "C++17"
   },
   "source": [
    "### Example 4"
   ]
  },
  {
   "cell_type": "code",
   "execution_count": 16,
   "id": "1b90e9d8-b85d-4870-aaf2-a3f77561a3e4",
   "metadata": {
    "kernel": "Python 3 (ipykernel)",
    "tags": []
   },
   "outputs": [
    {
     "name": "stdout",
     "output_type": "stream",
     "text": [
      "[1, 2, 3, 4, 5, 6, 7, 8, 9, 10, 5]\n",
      "[1, 2, 3, 4, 5, 6, 7, 8, 9, 10, 5, 6]\n",
      "[0, 1, 2, 3, 4, 5, 6, 7, 8, 9, 10, 5, 6]\n"
     ]
    }
   ],
   "source": [
    "X.append(5)\n",
    "print(X)\n",
    "X = X + [6]\n",
    "print(X)\n",
    "X = [0] + X\n",
    "print(X)"
   ]
  },
  {
   "cell_type": "markdown",
   "id": "10d7743d-f249-455b-97f4-dfe231fd0596",
   "metadata": {
    "kernel": "Python 3 (ipykernel)"
   },
   "source": [
    "<img src=\"./images/c++-icon.png\" width=50 height=50 align=\"left\"/>\n",
    "</br>\n",
    "</br>"
   ]
  },
  {
   "cell_type": "code",
   "execution_count": 10,
   "id": "ada26f7a-ab80-4e27-aff6-77532403a7b4",
   "metadata": {
    "kernel": "C++17",
    "tags": []
   },
   "outputs": [
    {
     "data": {
      "text/plain": []
     },
     "execution_count": 10,
     "metadata": {},
     "output_type": "execute_result"
    }
   ],
   "source": [
    "void print_list(std::list<int> L)\n",
    "{\n",
    "    std::cout << \"----------------\" << std::endl;\n",
    "    for(int x : L)\n",
    "    {\n",
    "        std::cout << x << std::endl;\n",
    "    }\n",
    "    std::cout << \"----------------\" << std::endl;\n",
    "}"
   ]
  },
  {
   "cell_type": "code",
   "execution_count": 11,
   "id": "3c8ae508-2c3a-4395-b3be-b52a44f0f30a",
   "metadata": {
    "kernel": "C++17",
    "tags": []
   },
   "outputs": [
    {
     "name": "stdout",
     "output_type": "stream",
     "text": [
      "----------------\n",
      "1\n",
      "2\n",
      "3\n",
      "4\n",
      "5\n",
      "6\n",
      "7\n",
      "8\n",
      "9\n",
      "10\n",
      "5\n",
      "----------------\n",
      "----------------\n",
      "1\n",
      "2\n",
      "3\n",
      "4\n",
      "5\n",
      "6\n",
      "7\n",
      "8\n",
      "9\n",
      "10\n",
      "5\n",
      "6\n",
      "----------------\n",
      "----------------\n",
      "0\n",
      "1\n",
      "2\n",
      "3\n",
      "4\n",
      "5\n",
      "6\n",
      "7\n",
      "8\n",
      "9\n",
      "10\n",
      "5\n",
      "6\n",
      "----------------\n"
     ]
    },
    {
     "data": {
      "text/plain": [
       "(void) @0x7f95a1ff9c70\n"
      ]
     },
     "execution_count": 11,
     "metadata": {},
     "output_type": "execute_result"
    }
   ],
   "source": [
    "X.push_back(5);\n",
    "print_list(X);\n",
    "X.push_back(6);\n",
    "print_list(X);\n",
    "X.push_front(0);\n",
    "print_list(X);"
   ]
  },
  {
   "cell_type": "markdown",
   "id": "b46f269e-dd0c-4550-a37b-113368ef6614",
   "metadata": {
    "kernel": "C++17"
   },
   "source": [
    "### Accessing Elelments"
   ]
  },
  {
   "cell_type": "markdown",
   "id": "f6f437c3-9cef-44d5-b9e7-90b5f3044b78",
   "metadata": {
    "kernel": "C++17"
   },
   "source": [
    "### Example 5"
   ]
  },
  {
   "cell_type": "markdown",
   "id": "7962763a-75d0-4ff3-a052-2e0ce911586c",
   "metadata": {
    "kernel": "SoS"
   },
   "source": [
    "<img src=\"./images/python-icon.jpeg\" width=50 height=50 align=\"left\"/>\n",
    "</br>\n",
    "</br>"
   ]
  },
  {
   "cell_type": "code",
   "execution_count": 17,
   "id": "0c1802ad-cc2c-495b-ada4-ec83eeeea15d",
   "metadata": {
    "kernel": "Python 3 (ipykernel)",
    "tags": []
   },
   "outputs": [
    {
     "name": "stdout",
     "output_type": "stream",
     "text": [
      "0\n",
      "6\n"
     ]
    }
   ],
   "source": [
    "print(X[0])\n",
    "print(X[len(X)-1])"
   ]
  },
  {
   "cell_type": "markdown",
   "id": "e019edf3-5eed-40b1-bb28-19fef2559815",
   "metadata": {
    "kernel": "Python 3 (ipykernel)"
   },
   "source": [
    "<img src=\"./images/c++-icon.png\" width=50 height=50 align=\"left\"/>\n",
    "</br>\n",
    "</br>"
   ]
  },
  {
   "cell_type": "code",
   "execution_count": 13,
   "id": "6ecd6c5f-17c9-4a9f-b1c3-b8cfc22c8b60",
   "metadata": {
    "kernel": "C++17"
   },
   "outputs": [
    {
     "name": "stdout",
     "output_type": "stream",
     "text": [
      "0\n",
      "6\n"
     ]
    },
    {
     "data": {
      "text/plain": [
       "(std::basic_ostream<char, std::char_traits<char> >::__ostream_type &) @0x7f95b6daf480\n"
      ]
     },
     "execution_count": 13,
     "metadata": {},
     "output_type": "execute_result"
    }
   ],
   "source": [
    "std::cout << X.front() << std::endl;\n",
    "std::cout << X.back() << std::endl;"
   ]
  },
  {
   "cell_type": "markdown",
   "id": "22cb2dc1-5848-4cda-95fc-a68622dfc016",
   "metadata": {
    "kernel": "C++17"
   },
   "source": [
    "### Removing elements"
   ]
  },
  {
   "cell_type": "markdown",
   "id": "7a828966-b643-4f3d-9dd9-e071eb4e4eae",
   "metadata": {
    "kernel": "C++17"
   },
   "source": [
    "### Example 6"
   ]
  },
  {
   "cell_type": "markdown",
   "id": "c1e40f1e-c53c-4027-a4f0-6d2f99bc003a",
   "metadata": {
    "kernel": "SoS"
   },
   "source": [
    "<img src=\"./images/python-icon.jpeg\" width=50 height=50 align=\"left\"/>\n",
    "</br>\n",
    "</br>"
   ]
  },
  {
   "cell_type": "code",
   "execution_count": 18,
   "id": "71227c20-13e5-4e2a-96e8-5ce1d5f51c09",
   "metadata": {
    "kernel": "Python 3 (ipykernel)",
    "tags": []
   },
   "outputs": [
    {
     "name": "stdout",
     "output_type": "stream",
     "text": [
      "[1, 2, 3, 4, 5, 6, 7, 8, 9, 10, 5, 6]\n",
      "[1, 2, 3, 4, 5, 6, 7, 8, 9, 10, 5]\n"
     ]
    }
   ],
   "source": [
    "X = X[1:]\n",
    "print(X)\n",
    "X = X[:-1]\n",
    "print(X)"
   ]
  },
  {
   "cell_type": "markdown",
   "id": "fbbd2c70-ad6b-43e6-9130-904b27f6d869",
   "metadata": {
    "kernel": "Python 3 (ipykernel)"
   },
   "source": [
    "<img src=\"./images/c++-icon.png\" width=50 height=50 align=\"left\"/>\n",
    "</br>\n",
    "</br>"
   ]
  },
  {
   "cell_type": "code",
   "execution_count": 19,
   "id": "9c4ce5c9-300d-48b5-94f1-59e2e7f671ac",
   "metadata": {
    "kernel": "C++17"
   },
   "outputs": [
    {
     "name": "stdout",
     "output_type": "stream",
     "text": [
      "----------------\n",
      "1\n",
      "2\n",
      "3\n",
      "4\n",
      "5\n",
      "6\n",
      "7\n",
      "8\n",
      "9\n",
      "10\n",
      "5\n",
      "6\n",
      "----------------\n",
      "----------------\n",
      "1\n",
      "2\n",
      "3\n",
      "4\n",
      "5\n",
      "6\n",
      "7\n",
      "8\n",
      "9\n",
      "10\n",
      "5\n",
      "----------------\n"
     ]
    },
    {
     "data": {
      "text/plain": [
       "(void) @0x7f95a1ff9c70\n"
      ]
     },
     "execution_count": 19,
     "metadata": {},
     "output_type": "execute_result"
    }
   ],
   "source": [
    "X.pop_front();\n",
    "print_list(X);\n",
    "X.pop_back();\n",
    "print_list(X);"
   ]
  },
  {
   "cell_type": "markdown",
   "id": "ad012705-cc32-4186-ba14-f2bc594dc3b8",
   "metadata": {
    "kernel": "C++17"
   },
   "source": [
    "### Functions and Copying"
   ]
  },
  {
   "cell_type": "markdown",
   "id": "1785de03-3a89-473b-84de-4144e1f6e917",
   "metadata": {
    "kernel": "C++17"
   },
   "source": [
    "### Example 7"
   ]
  },
  {
   "cell_type": "markdown",
   "id": "c28b01fd-b749-4feb-9bc5-5ef41249cc32",
   "metadata": {
    "kernel": "SoS"
   },
   "source": [
    "<img src=\"./images/python-icon.jpeg\" width=50 height=50 align=\"left\"/>\n",
    "</br>\n",
    "</br>"
   ]
  },
  {
   "cell_type": "code",
   "execution_count": 20,
   "id": "ff3f2a36-76b1-436a-b7a6-b9b2c5cc9a09",
   "metadata": {
    "kernel": "Python 3 (ipykernel)",
    "tags": []
   },
   "outputs": [
    {
     "name": "stdout",
     "output_type": "stream",
     "text": [
      "[1, 2, 3]\n",
      "[3, 1, 2, 3, 1]\n",
      "[1, 2, 3]\n"
     ]
    }
   ],
   "source": [
    "def f1(L) :\n",
    "    L = [L[len(L)-1]] + L + [L[0]]\n",
    "    return(L)\n",
    "\n",
    "Z = [1,2,3]\n",
    "print(Z)\n",
    "print(f1(Z))\n",
    "print(Z)"
   ]
  },
  {
   "cell_type": "markdown",
   "id": "51ba3f74-e1a6-4684-9c7e-cf90b0442794",
   "metadata": {
    "kernel": "Python 3 (ipykernel)"
   },
   "source": [
    "<img src=\"./images/c++-icon.png\" width=50 height=50 align=\"left\"/>\n",
    "</br>\n",
    "</br>"
   ]
  },
  {
   "cell_type": "code",
   "execution_count": 21,
   "id": "240472f7-348a-4d33-9692-0ac6ef3a8114",
   "metadata": {
    "kernel": "C++17",
    "tags": []
   },
   "outputs": [
    {
     "data": {
      "text/plain": []
     },
     "execution_count": 21,
     "metadata": {},
     "output_type": "execute_result"
    }
   ],
   "source": [
    "std::list<int> f1(std::list<int> L)\n",
    "{\n",
    "    int temp = L.back();\n",
    "    L.push_back(L.front());\n",
    "    L.push_front(temp);\n",
    "    return L;\n",
    "}"
   ]
  },
  {
   "cell_type": "code",
   "execution_count": 22,
   "id": "080181c2-add7-4b73-b3c1-58ade1021af0",
   "metadata": {
    "kernel": "C++17"
   },
   "outputs": [
    {
     "name": "stdout",
     "output_type": "stream",
     "text": [
      "----------------\n",
      "1\n",
      "2\n",
      "3\n",
      "----------------\n",
      "----------------\n",
      "3\n",
      "1\n",
      "2\n",
      "3\n",
      "1\n",
      "----------------\n",
      "----------------\n",
      "1\n",
      "2\n",
      "3\n",
      "----------------\n"
     ]
    },
    {
     "data": {
      "text/plain": [
       "(void) @0x7f95a1ff9c70\n"
      ]
     },
     "execution_count": 22,
     "metadata": {},
     "output_type": "execute_result"
    }
   ],
   "source": [
    "std::list<int> Z = {1,2,3};\n",
    "print_list(Z);\n",
    "print_list(f1(Z));\n",
    "print_list(Z);"
   ]
  },
  {
   "cell_type": "markdown",
   "id": "c43b3616-0f28-49ff-b51f-5777feea669b",
   "metadata": {
    "kernel": "C++17"
   },
   "source": [
    "In example 5, the function does not transform the original list, it makes a \"copy\" of it and transforms the copy. This behaviour can be changed in __c++__."
   ]
  },
  {
   "cell_type": "markdown",
   "id": "68d82c08-1d8e-4a3a-a067-c35d82ea59ed",
   "metadata": {
    "kernel": "C++17"
   },
   "source": [
    "### Example 8"
   ]
  },
  {
   "cell_type": "markdown",
   "id": "87112d8f-af46-4c18-b03b-9604c72f6d02",
   "metadata": {
    "kernel": "Python 3 (ipykernel)"
   },
   "source": [
    "<img src=\"./images/c++-icon.png\" width=50 height=50 align=\"left\"/>\n",
    "</br>\n",
    "</br>"
   ]
  },
  {
   "cell_type": "code",
   "execution_count": 23,
   "id": "b8978b8b-8978-417d-af00-f2bb8fb84507",
   "metadata": {
    "kernel": "C++17"
   },
   "outputs": [
    {
     "data": {
      "text/plain": []
     },
     "execution_count": 23,
     "metadata": {},
     "output_type": "execute_result"
    }
   ],
   "source": [
    "std::list<int> f2(std::list<int>& L)\n",
    "{\n",
    "    int temp = L.back();\n",
    "    L.push_back(L.front());\n",
    "    L.push_front(temp);\n",
    "    return L;\n",
    "}"
   ]
  },
  {
   "cell_type": "code",
   "execution_count": 24,
   "id": "f123e66c-a4c9-4af8-8bb1-fb0288788812",
   "metadata": {
    "kernel": "C++17"
   },
   "outputs": [
    {
     "name": "stdout",
     "output_type": "stream",
     "text": [
      "----------------\n",
      "1\n",
      "2\n",
      "3\n",
      "----------------\n",
      "----------------\n",
      "3\n",
      "1\n",
      "2\n",
      "3\n",
      "1\n",
      "----------------\n",
      "----------------\n",
      "3\n",
      "1\n",
      "2\n",
      "3\n",
      "1\n",
      "----------------\n"
     ]
    },
    {
     "data": {
      "text/plain": [
       "(void) @0x7f95a1ff9c70\n"
      ]
     },
     "execution_count": 24,
     "metadata": {},
     "output_type": "execute_result"
    }
   ],
   "source": [
    "print_list(Z);\n",
    "print_list(f2(Z));\n",
    "print_list(Z);"
   ]
  },
  {
   "cell_type": "markdown",
   "id": "f00b9096-6439-4116-ac2f-294ba36b7b42",
   "metadata": {
    "kernel": "C++17"
   },
   "source": [
    "## Vectors"
   ]
  },
  {
   "cell_type": "markdown",
   "id": "238f684c-b048-447b-9884-614011eceb04",
   "metadata": {
    "kernel": "C++17"
   },
   "source": [
    "In most __python__ programs the list also plays the role of a vector. If an \"efficient\" array vector is required in __python__ most programs would to to the __numpy__ library. In __c++__, the vector is distinct from the list. "
   ]
  },
  {
   "cell_type": "markdown",
   "id": "e79447f8-64d6-4125-94c5-02a3e0a52f71",
   "metadata": {
    "kernel": "C++17"
   },
   "source": [
    "### Example 9"
   ]
  },
  {
   "cell_type": "markdown",
   "id": "17161048-82c5-4f5b-87ca-35e1bd44ea37",
   "metadata": {
    "kernel": "Python 3 (ipykernel)"
   },
   "source": [
    "<img src=\"./images/c++-icon.png\" width=50 height=50 align=\"left\"/>\n",
    "</br>\n",
    "</br>"
   ]
  },
  {
   "cell_type": "code",
   "execution_count": 25,
   "id": "4a523631-f8b4-406e-b688-af7d9328569f",
   "metadata": {
    "kernel": "C++17"
   },
   "outputs": [
    {
     "data": {
      "text/plain": []
     },
     "execution_count": 25,
     "metadata": {},
     "output_type": "execute_result"
    }
   ],
   "source": [
    "#include <vector>"
   ]
  },
  {
   "cell_type": "code",
   "execution_count": 26,
   "id": "bfab3733-ac2d-4743-8730-6f6fc35e282a",
   "metadata": {
    "kernel": "C++17"
   },
   "outputs": [
    {
     "data": {
      "text/plain": []
     },
     "execution_count": 26,
     "metadata": {},
     "output_type": "execute_result"
    }
   ],
   "source": [
    "std::vector<double> vec {-0.1,3.14,2.71,0.6};"
   ]
  },
  {
   "cell_type": "code",
   "execution_count": 27,
   "id": "93f5f2e4-ef62-45d3-80f9-576faea13402",
   "metadata": {
    "kernel": "C++17"
   },
   "outputs": [
    {
     "name": "stdout",
     "output_type": "stream",
     "text": [
      "2.71\n",
      "5.6\n"
     ]
    },
    {
     "data": {
      "text/plain": [
       "(std::basic_ostream<char, std::char_traits<char> >::__ostream_type &) @0x7f95b6daf480\n"
      ]
     },
     "execution_count": 27,
     "metadata": {},
     "output_type": "execute_result"
    }
   ],
   "source": [
    "std::cout << vec[2] << std::endl;\n",
    "vec[2] = 5.6;\n",
    "std::cout << vec[2] << std::endl;"
   ]
  },
  {
   "cell_type": "code",
   "execution_count": 28,
   "id": "1d158071-129c-4e6f-b142-bd70bd6d8907",
   "metadata": {
    "kernel": "C++17"
   },
   "outputs": [
    {
     "name": "stdout",
     "output_type": "stream",
     "text": [
      "-0.1\n",
      "3.14\n",
      "5.6\n",
      "0.6\n",
      "6.9\n"
     ]
    },
    {
     "data": {
      "text/plain": []
     },
     "execution_count": 28,
     "metadata": {},
     "output_type": "execute_result"
    }
   ],
   "source": [
    "vec.push_back(6.9);\n",
    "for(auto& v : vec)\n",
    "{\n",
    "    std::cout << v << std::endl;\n",
    "}"
   ]
  },
  {
   "cell_type": "markdown",
   "id": "218ba627-2f2d-4261-a431-03de606de693",
   "metadata": {
    "kernel": "C++17"
   },
   "source": [
    "Note, that the vector only has __back__ operations."
   ]
  },
  {
   "cell_type": "code",
   "execution_count": 29,
   "id": "83929fbf-e46f-4c7c-8081-1d9ff9fd562e",
   "metadata": {
    "kernel": "C++17"
   },
   "outputs": [
    {
     "name": "stdout",
     "output_type": "stream",
     "text": [
      "-0.1\n",
      "3.14\n",
      "5.6\n",
      "0.6\n",
      "6.9\n",
      "-10.3\n"
     ]
    },
    {
     "data": {
      "text/plain": []
     },
     "execution_count": 29,
     "metadata": {},
     "output_type": "execute_result"
    }
   ],
   "source": [
    "vec.push_back(-10.3);\n",
    "for(auto& v : vec)\n",
    "{\n",
    "    std::cout << v << std::endl;\n",
    "}"
   ]
  },
  {
   "cell_type": "code",
   "execution_count": 30,
   "id": "25dd4aa2-2f6b-4bb3-baa6-079e1bd9d958",
   "metadata": {
    "kernel": "C++17"
   },
   "outputs": [
    {
     "name": "stdout",
     "output_type": "stream",
     "text": [
      "-0.1\n",
      "3.14\n",
      "5.6\n",
      "0.6\n",
      "6.9\n"
     ]
    },
    {
     "data": {
      "text/plain": []
     },
     "execution_count": 30,
     "metadata": {},
     "output_type": "execute_result"
    }
   ],
   "source": [
    "vec.pop_back();\n",
    "for(auto& v : vec)\n",
    "{\n",
    "    std::cout << v << std::endl;\n",
    "}"
   ]
  },
  {
   "cell_type": "markdown",
   "id": "1d3133fe-6c6a-4ea5-8d60-49f7d7c65e8e",
   "metadata": {
    "kernel": "C++17",
    "tags": []
   },
   "source": [
    "## Tuples"
   ]
  },
  {
   "cell_type": "markdown",
   "id": "afc5b2f4-ef69-4118-9f1f-1663e856d1b1",
   "metadata": {
    "kernel": "C++17"
   },
   "source": [
    "The STl provides an equivlant to the __python__ tuple."
   ]
  },
  {
   "cell_type": "markdown",
   "id": "0a14d857-e49c-46e6-a175-d3bc2b6bda10",
   "metadata": {
    "kernel": "C++17"
   },
   "source": [
    "### Example 10"
   ]
  },
  {
   "cell_type": "markdown",
   "id": "b9c317ad-a376-4b2e-b388-4111d885b9f6",
   "metadata": {
    "kernel": "SoS"
   },
   "source": [
    "<img src=\"./images/python-icon.jpeg\" width=50 height=50 align=\"left\"/>\n",
    "</br>\n",
    "</br>"
   ]
  },
  {
   "cell_type": "code",
   "execution_count": 38,
   "id": "00d1d694-72a2-4d5f-9a1b-bfc4bd8f2524",
   "metadata": {
    "kernel": "Python 3 (ipykernel)",
    "tags": []
   },
   "outputs": [
    {
     "name": "stdout",
     "output_type": "stream",
     "text": [
      "(2.1, 'hello', True)\n"
     ]
    }
   ],
   "source": [
    "t = (2.1,\"hello\",True)\n",
    "print(t)"
   ]
  },
  {
   "cell_type": "markdown",
   "id": "5b47e8f9-0105-4449-8ed8-3d14de8d519a",
   "metadata": {
    "kernel": "Python 3 (ipykernel)"
   },
   "source": [
    "<img src=\"./images/c++-icon.png\" width=50 height=50 align=\"left\"/>\n",
    "</br>\n",
    "</br>"
   ]
  },
  {
   "cell_type": "code",
   "execution_count": 31,
   "id": "29dc5d81-127b-4974-b0f5-e1a49f7de2f9",
   "metadata": {
    "kernel": "C++17"
   },
   "outputs": [
    {
     "data": {
      "text/plain": []
     },
     "execution_count": 31,
     "metadata": {},
     "output_type": "execute_result"
    }
   ],
   "source": [
    "#include <tuple>"
   ]
  },
  {
   "cell_type": "code",
   "execution_count": 32,
   "id": "617507ef-3dc1-479f-a637-45174d728af2",
   "metadata": {
    "kernel": "C++17"
   },
   "outputs": [
    {
     "data": {
      "text/plain": []
     },
     "execution_count": 32,
     "metadata": {},
     "output_type": "execute_result"
    }
   ],
   "source": [
    "std::tuple<double,std::string,bool> t {2.1,\"hello\",true};"
   ]
  },
  {
   "cell_type": "code",
   "execution_count": 33,
   "id": "592abdc9-a01a-410d-b3e7-d25bce5f0f65",
   "metadata": {
    "kernel": "C++17"
   },
   "outputs": [
    {
     "name": "stdout",
     "output_type": "stream",
     "text": [
      "2.1 : hello : 1 : \n"
     ]
    },
    {
     "data": {
      "text/plain": [
       "(std::basic_ostream<char, std::char_traits<char> >::__ostream_type &) @0x7f95b6daf480\n"
      ]
     },
     "execution_count": 33,
     "metadata": {},
     "output_type": "execute_result"
    }
   ],
   "source": [
    "std::cout << std::get<0>(t) << \" : \" << \n",
    "             std::get<1>(t) << \" : \" << \n",
    "             std::get<2>(t) << \" : \" << std::endl;"
   ]
  },
  {
   "cell_type": "markdown",
   "id": "ec795058-f486-4f15-acd9-2277fe829883",
   "metadata": {
    "kernel": "C++17"
   },
   "source": [
    "Note that, unlike its __python__ equivalent, the __STL__ tuple is mutable."
   ]
  },
  {
   "cell_type": "code",
   "execution_count": 34,
   "id": "950cd3d3-8c15-43de-ad61-9d6ec55b8b79",
   "metadata": {
    "kernel": "C++17"
   },
   "outputs": [
    {
     "name": "stdout",
     "output_type": "stream",
     "text": [
      "3.14\n"
     ]
    },
    {
     "data": {
      "text/plain": [
       "(std::basic_ostream<char, std::char_traits<char> >::__ostream_type &) @0x7f95b6daf480\n"
      ]
     },
     "execution_count": 34,
     "metadata": {},
     "output_type": "execute_result"
    }
   ],
   "source": [
    "std::get<0>(t) = 3.14;\n",
    "std::cout << std::get<0>(t) << std::endl;"
   ]
  },
  {
   "cell_type": "markdown",
   "id": "65c9f2e6-68a0-4297-a0bf-07045a5b293b",
   "metadata": {
    "kernel": "C++17"
   },
   "source": [
    "## Pair"
   ]
  },
  {
   "cell_type": "markdown",
   "id": "ffdbbd00-91fb-4140-a78c-403992ebb020",
   "metadata": {
    "kernel": "C++17"
   },
   "source": [
    "For convenience, the STL provides a special case of a __tuple__, the __pair__."
   ]
  },
  {
   "cell_type": "markdown",
   "id": "a18ad2ba-b998-492f-a070-1dee716b2820",
   "metadata": {
    "kernel": "C++17"
   },
   "source": [
    "### Example 11"
   ]
  },
  {
   "cell_type": "code",
   "execution_count": 35,
   "id": "a9224dde-c8bb-4a06-9313-eb524258229d",
   "metadata": {
    "kernel": "C++17"
   },
   "outputs": [
    {
     "data": {
      "text/plain": []
     },
     "execution_count": 35,
     "metadata": {},
     "output_type": "execute_result"
    }
   ],
   "source": [
    "std::pair<double,std::string> p {3.14,\"goedendag\"};"
   ]
  },
  {
   "cell_type": "markdown",
   "id": "23b05a5e-78c2-43a9-9a14-bdfa61651f9a",
   "metadata": {
    "kernel": "C++17"
   },
   "source": [
    "The convenience is provided through the use of __first__ and __second__."
   ]
  },
  {
   "cell_type": "code",
   "execution_count": 36,
   "id": "016c61b8-7436-451d-b9f5-2e7e2efd58a5",
   "metadata": {
    "kernel": "C++17"
   },
   "outputs": [
    {
     "name": "stdout",
     "output_type": "stream",
     "text": [
      "3.14 : goedendag\n"
     ]
    },
    {
     "data": {
      "text/plain": [
       "(std::basic_ostream<char, std::char_traits<char> >::__ostream_type &) @0x7f95b6daf480\n"
      ]
     },
     "execution_count": 36,
     "metadata": {},
     "output_type": "execute_result"
    }
   ],
   "source": [
    "std::cout << p.first << \" : \" << p.second << std::endl;"
   ]
  },
  {
   "cell_type": "markdown",
   "id": "128b94ba-de5d-4e55-ba19-cc379edc291d",
   "metadata": {
    "kernel": "C++17"
   },
   "source": [
    "STL __pairs__ are useful when working with associative containers which will be covered shortly."
   ]
  },
  {
   "cell_type": "markdown",
   "id": "003330da-b534-44dc-9dee-08800d893136",
   "metadata": {
    "kernel": "C++17"
   },
   "source": [
    "## A note on auto"
   ]
  },
  {
   "cell_type": "markdown",
   "id": "c394a71c-663d-4d5e-a3ad-968ef0ee4fa1",
   "metadata": {
    "kernel": "C++17"
   },
   "source": [
    "So far, no details regarding the __auto__ keyword have been offered. Because  __c++__ is strongly typed it is often the case that the compiler or interpreter can (automatically) deduce the type of an expression from the types the expression is composed of.   "
   ]
  },
  {
   "cell_type": "markdown",
   "id": "1a017fce-d707-4366-a7f8-6311196ec484",
   "metadata": {
    "kernel": "C++17"
   },
   "source": [
    "### Example 12"
   ]
  },
  {
   "cell_type": "code",
   "execution_count": 37,
   "id": "bb9cef6c-38db-4846-aded-ef6b7a50ce41",
   "metadata": {
    "kernel": "C++17"
   },
   "outputs": [
    {
     "name": "stdout",
     "output_type": "stream",
     "text": [
      "-0.1\n",
      "3.14\n",
      "5.6\n",
      "0.6\n",
      "6.9\n",
      "-0.1\n",
      "3.14\n",
      "5.6\n",
      "0.6\n",
      "6.9\n",
      "-0.1\n",
      "3.14\n",
      "5.6\n",
      "0.6\n",
      "6.9\n",
      "-0.1\n",
      "3.14\n",
      "5.6\n",
      "0.6\n",
      "6.9\n"
     ]
    },
    {
     "data": {
      "text/plain": []
     },
     "execution_count": 37,
     "metadata": {},
     "output_type": "execute_result"
    }
   ],
   "source": [
    "for(auto v : vec)\n",
    "{\n",
    "    std::cout << v << std::endl;\n",
    "}\n",
    "\n",
    "for(double v : vec)\n",
    "{\n",
    "    std::cout << v << std::endl;\n",
    "}\n",
    "\n",
    "\n",
    "for(auto& v : vec)\n",
    "{\n",
    "    std::cout << v << std::endl;\n",
    "}\n",
    "\n",
    "for(double& v : vec)\n",
    "{\n",
    "    std::cout << v << std::endl;\n",
    "}\n"
   ]
  },
  {
   "cell_type": "markdown",
   "id": "19e2054d-0d0e-4730-9c05-1f0aeda68aa5",
   "metadata": {
    "kernel": "C++17"
   },
   "source": [
    "The interpreter / compiler knows that v is a double (or a reference to a double) becuse V is a vector of doubles.\n",
    "\n",
    "Note, if you use __auto__ and the compiler / interpreter can not automatically deduce the type, then an error is issued.\n",
    "\n",
    "Use auto whenever you can (the compiler / interpreter always knows best !!)"
   ]
  }
 ],
 "metadata": {
  "kernelspec": {
   "display_name": "C++17",
   "language": "C++",
   "name": "cling-cpp17"
  },
  "language_info": {
   "codemirror_mode": "c++",
   "file_extension": ".c++",
   "mimetype": "text/x-c++src",
   "name": "c++"
  },
  "sos": {
   "kernels": [
    [
     "C++17",
     "cling-cpp17",
     "C++",
     "",
     "c++"
    ],
    [
     "Python 3 (ipykernel)",
     "python3",
     "python3",
     "",
     {
      "name": "ipython",
      "version": 3
     }
    ]
   ],
   "panel": {
    "displayed": true,
    "height": 0
   },
   "version": "0.22.9"
  }
 },
 "nbformat": 4,
 "nbformat_minor": 5
}
