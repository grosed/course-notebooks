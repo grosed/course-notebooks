{
 "cells": [
  {
   "cell_type": "markdown",
   "id": "b6a8fd8d-c10d-422b-afb0-84e6db89d5e9",
   "metadata": {},
   "source": [
    "# Introduction"
   ]
  },
  {
   "cell_type": "markdown",
   "id": "f0f4ddf5-53b7-4544-98b8-20e951679ffe",
   "metadata": {},
   "source": [
    "## Background"
   ]
  },
  {
   "cell_type": "markdown",
   "id": "02575926-2b1e-4ac4-a441-0dcc4d4b1c1d",
   "metadata": {},
   "source": [
    "This course is an introduction to __c++__ for programmers who already have some programming experience with __Python__. This approach has been adopted for a number of reasons, but the most significant of these is that, in its most modern form, __c++__ can be written using concepts that are very similar in style and use to their counterparts as found in __python__. Note though, that this is really only possible when using a __modern__ __c++__ standard, typically __C++__ 14 or better. In this course we will be using __c++__ 17. Furthermore, to acheive a __Python__ like coding style in __c++__, he __Standard Template Library__ is required. This standard provides all of the data structures that are typically used in __python__, such as lists and dictionaries, but are not provided as (standerd) part of __c++__.   "
   ]
  },
  {
   "cell_type": "markdown",
   "id": "d9a6cea8-088c-4b46-9140-4acc0acf23c1",
   "metadata": {},
   "source": [
    "## Why __C++__ ?"
   ]
  },
  {
   "cell_type": "markdown",
   "id": "9deef54b-fec0-4aa3-834f-7a94612b8cfa",
   "metadata": {},
   "source": [
    "A common answer to this question is speed - \"__c++__ is a compiled language and is much faster than __python__, which is an interpreted language\" - might be something you have heard before. But ...  "
   ]
  },
  {
   "cell_type": "markdown",
   "id": "1ac22471-8ad8-4305-99a2-d27f779ea00a",
   "metadata": {},
   "source": [
    "### Compiled and Interpreted - the reality"
   ]
  },
  {
   "cell_type": "markdown",
   "id": "f87d2676-fe3d-49f8-800a-191d3041476c",
   "metadata": {},
   "source": [
    "In fact, a programming language is neither compiled or interpreted any more than a human language is written or spoken. Typically, __python__ programs are executed using a interpreted __python__ system, and __c++__ programs are typically compiled by a __c++__ compiler. However, there are python compilers (e.g. __PyPy__), and __c++__ interpreters (e.g. __cling__).  "
   ]
  },
  {
   "cell_type": "markdown",
   "id": "dc5c22b9-b751-4732-97dd-1e330203adbe",
   "metadata": {},
   "source": [
    "### Compiled and Interpreted - in practice"
   ]
  },
  {
   "cell_type": "markdown",
   "id": "d23ce445-eeba-4b22-942d-ac1ba5e1caf3",
   "metadata": {},
   "source": [
    "In practice, __python__ compilers and __c++__ interpreters are not used very often, so __c++__ is frequently chosen over __python__ when runtime is important. However, because compiling (and linking) programs involves quite a lot of technical knowledge (that is nothing particularly to do with __c++__), using a __c++__ interpreter can be a good way to start learning c++. This is what we will do in the first part of the course. At the end of the course instructions for using a __c++__ compiler are provided."
   ]
  },
  {
   "cell_type": "markdown",
   "id": "56601613-61e0-45e0-9513-51b94e14349e",
   "metadata": {},
   "source": [
    "## How the course works."
   ]
  },
  {
   "cell_type": "markdown",
   "id": "49427071-c114-46bd-becf-35fe9eeee173",
   "metadata": {},
   "source": [
    "### Using examples"
   ]
  },
  {
   "cell_type": "markdown",
   "id": "d26f493e-6eac-446f-8598-a4248b66cfbe",
   "metadata": {},
   "source": [
    "The course uses __jupyter__ to introduce __c++__ through examples. Most of the time, each example is accompanied by a __python__ version of the code. You should use the __python__ code to understand how to create the equivalent in __c++__. "
   ]
  },
  {
   "cell_type": "markdown",
   "id": "72d65bc7-982a-432d-8d94-d402bc03c2d2",
   "metadata": {},
   "source": [
    "### Course notes"
   ]
  },
  {
   "cell_type": "markdown",
   "id": "c411da08-d5bf-4a2c-839f-73cafc4998fc",
   "metadata": {},
   "source": [
    "The course notes are available online. The notes have been generated using jupyter. The idea is that you will create your own course notes from the online examples in a jupyter notebook. Instructions on how to do this will be provided at the beginning of the corse. "
   ]
  },
  {
   "cell_type": "markdown",
   "id": "a0ae22dd-f57c-4759-bd36-620bc2a31697",
   "metadata": {},
   "source": [
    "To help you navigate through the course notes, several \"icons\" have been used."
   ]
  },
  {
   "cell_type": "markdown",
   "id": "21ca9111-6880-4373-aca1-73aaa82eae17",
   "metadata": {},
   "source": [
    "This one indicates a __c++__ specific part of the notes. "
   ]
  },
  {
   "cell_type": "markdown",
   "id": "391461c5-f87f-4253-9ea4-94efa7dcc2d6",
   "metadata": {},
   "source": [
    "<img src=\"./web-pages/images/c++-icon.png\" width=50 height=50 align=\"left\"/>"
   ]
  },
  {
   "cell_type": "markdown",
   "id": "239db1ab-0259-4a83-9e59-9697142c5713",
   "metadata": {},
   "source": [
    "This one indicates a __python__ specific part of the notes. "
   ]
  },
  {
   "cell_type": "markdown",
   "id": "8121bb6a-0122-4a6b-94f9-571c411c0109",
   "metadata": {},
   "source": [
    "<img src=\"./web-pages/images/python-icon.jpeg\" width=50 height=50 align=\"left\"/>"
   ]
  },
  {
   "cell_type": "markdown",
   "id": "a90817b4-f35c-42a9-9357-70085c65756d",
   "metadata": {},
   "source": [
    "This one is used to indicate some important detail that needs your attention."
   ]
  },
  {
   "cell_type": "markdown",
   "id": "c8b14533-162d-4fd6-8a5e-201a207163a1",
   "metadata": {},
   "source": [
    "<img src=\"./web-pages/images/bang.png\" width=50 height=50 align=\"left\"/>"
   ]
  },
  {
   "cell_type": "markdown",
   "id": "600659e8-fe5a-4d42-ab1c-5e8c32ebf439",
   "metadata": {},
   "source": [
    "This one indicates that an example is deliberately broken (for teaching purposes)."
   ]
  },
  {
   "cell_type": "markdown",
   "id": "8c8ba6ca-f0fd-4e18-9b30-803ae942ee40",
   "metadata": {},
   "source": [
    "<img src=\"./web-pages/images/broken.png\" width=50 height=50 align=\"left\"/>"
   ]
  },
  {
   "cell_type": "markdown",
   "id": "467364f2-8164-482f-83ec-2e48dbe008db",
   "metadata": {},
   "source": [
    "This one indicates something specific to do with th SoS system (if you are using it - which is optional)."
   ]
  },
  {
   "cell_type": "markdown",
   "id": "31bdef73-3f95-4f8d-ab17-5711cef7014c",
   "metadata": {},
   "source": [
    "<img src=\"./web-pages/images/sos.png\" width=40 height=40 align=\"left\"/>"
   ]
  },
  {
   "cell_type": "markdown",
   "id": "a309071f-8bed-4fb0-9bf2-fbff3b79f421",
   "metadata": {},
   "source": [
    "To access the online notes, use the links provided on this page."
   ]
  },
  {
   "cell_type": "markdown",
   "id": "7fbf6b30-fb36-4823-a577-59bb9659d6bd",
   "metadata": {},
   "source": [
    "## Software Installation"
   ]
  },
  {
   "cell_type": "markdown",
   "id": "27b577ab-a1cf-46cb-8938-68c6b663f9dd",
   "metadata": {},
   "source": [
    "Note - the following software installation steps only have to be done once at the beginning of the course. "
   ]
  },
  {
   "cell_type": "markdown",
   "id": "b23aedd3-637e-4ae7-b68f-f3323d2fb27a",
   "metadata": {},
   "source": [
    "To be able to run the __c++__ examples in a __jupyter__ notebook you will need to install some additional software on your Linux virtual machine. To help you do this an installation script has been provided which should simplify the process. The script can be downloaded [here](http://www.mathsbox.com/c++-for-python-programmers/install-environment)."
   ]
  },
  {
   "cell_type": "markdown",
   "id": "543dc17e-a4c7-434f-abfe-1399afa6759d",
   "metadata": {},
   "source": [
    "Before running the script, you will also have to modify a few settings and install some extra system libraries. To do this, start a terminal and run the following commands."
   ]
  },
  {
   "cell_type": "markdown",
   "id": "a0822b49-9d65-4024-8c4d-fd73eedb4d5b",
   "metadata": {},
   "source": [
    "#### Halt the __conda__ environment "
   ]
  },
  {
   "cell_type": "markdown",
   "id": "a1bbcb64-546e-4345-a5f9-aa4d5b973703",
   "metadata": {},
   "source": [
    "conda config --set auto_activate_base false"
   ]
  },
  {
   "cell_type": "markdown",
   "id": "c39abb15-0e06-4d1a-b6e4-2df63a55ed80",
   "metadata": {},
   "source": [
    "Now close the terminal and start a new one."
   ]
  },
  {
   "cell_type": "markdown",
   "id": "22dd0962-4823-4e37-9d32-a0cab4c7a5cc",
   "metadata": {},
   "source": [
    "### Install the development versions of some common libraries"
   ]
  },
  {
   "cell_type": "markdown",
   "id": "0bd4db9d-7a60-444c-bbff-71231023a02a",
   "metadata": {},
   "source": [
    "sudo apt-get install libsqlite3-dev"
   ]
  },
  {
   "cell_type": "markdown",
   "id": "b073bcd2-b089-4768-b1cf-34646fd7f8c7",
   "metadata": {},
   "source": [
    "sudo apt-get install libssl-dev"
   ]
  },
  {
   "cell_type": "markdown",
   "id": "c03f6322-9930-4a82-9107-c064133d9283",
   "metadata": {},
   "source": [
    "sudo apt-getinstall libffi-dev"
   ]
  },
  {
   "cell_type": "markdown",
   "id": "fa3eacdb-3b3c-437a-a14c-66d8195b6f24",
   "metadata": {},
   "source": [
    "### Run the installation script"
   ]
  },
  {
   "cell_type": "markdown",
   "id": "1c1d43cf-b583-4aae-8f90-0987b1e6715a",
   "metadata": {},
   "source": [
    "Running the installation script should install the following \n",
    "\n",
    "- pyenv\n",
    "- python 3.9\n",
    "- cling\n",
    "- jupyter notebook\n",
    "- jupyterlab\n",
    "\n",
    "To be able to run the script you need to -\n"
   ]
  },
  {
   "cell_type": "markdown",
   "id": "3a28f538-59c6-4137-85b4-f89df4107ac0",
   "metadata": {},
   "source": [
    "create a directory called \n",
    "\n",
    "c++_for_python_programmers \n",
    "\n",
    "in your home directory. You can do this by typing the following in the terminal\n",
    "\n",
    "cd ~\n",
    "mkdir c++_for_python_programmers"
   ]
  },
  {
   "cell_type": "markdown",
   "id": "948f7d65-0155-4a3a-be88-635c91d95e3c",
   "metadata": {},
   "source": [
    "Change directory to the c++_for_python_programmers directory\n",
    "\n",
    "cd ~/c++_for_python_programmers"
   ]
  },
  {
   "cell_type": "markdown",
   "id": "3d2d2ed5-c4bb-4a3e-83cf-489976191787",
   "metadata": {},
   "source": [
    "Download the installation script from __here__ and save it in the c++_for_python_programmers directory"
   ]
  },
  {
   "cell_type": "markdown",
   "id": "dab3eb1d-79a3-4443-a9a8-280ebce82de3",
   "metadata": {},
   "source": [
    "Change the permissions of the installation script\n",
    "\n",
    "chmod +x install-environment"
   ]
  },
  {
   "cell_type": "markdown",
   "id": "b093469c-2797-4764-b5ec-61251f4d6a81",
   "metadata": {},
   "source": [
    "Now run the installation script. This requires an active internet connection and will take several minutes to complete.\n",
    "\n",
    "source ./install-environment"
   ]
  },
  {
   "cell_type": "markdown",
   "id": "775ecb7c-a065-424f-8da6-0001424cd2d8",
   "metadata": {},
   "source": [
    "## Activating the course environment"
   ]
  },
  {
   "cell_type": "markdown",
   "id": "7f957e0b-279f-4ab7-acf9-a3deac988f22",
   "metadata": {},
   "source": [
    "This needs to be done each time you start a new shell to work with the course material."
   ]
  },
  {
   "cell_type": "markdown",
   "id": "a54aff76-eadb-419c-b04d-cb10381253b5",
   "metadata": {},
   "source": [
    "Change directory to the c++_for_python_programmers directory\n",
    "\n",
    "cd c++_for_python_programmers"
   ]
  },
  {
   "cell_type": "markdown",
   "id": "7329cf05-3cbd-499a-851d-74c9feea0a76",
   "metadata": {},
   "source": [
    "Now start the environment\n",
    "\n",
    "source ./setup-environment"
   ]
  },
  {
   "cell_type": "markdown",
   "id": "45d8f895-3b18-4150-a7a0-9ed464f9cbc9",
   "metadata": {},
   "source": [
    "## Running jupyter notebook and jupytelab"
   ]
  },
  {
   "cell_type": "markdown",
   "id": "b6d05f10-3fdb-4336-9105-697f30084da7",
   "metadata": {},
   "source": [
    "Once you have activated the course environment you can start using __jupyter__ notebook by typing\n",
    "\n",
    "jupyter notebbok\n",
    "\n",
    "\n",
    "or run jupyterlab by typing\n",
    "\n",
    "jupyter-lab"
   ]
  },
  {
   "cell_type": "markdown",
   "id": "7a958ad6-5161-42ae-b060-1d094be84745",
   "metadata": {},
   "source": [
    "## Accessing the course notes"
   ]
  },
  {
   "cell_type": "markdown",
   "id": "fa88d787-f9d6-4085-9bd6-a2489811ab6d",
   "metadata": {},
   "source": [
    "The course notes are available online via the following links."
   ]
  },
  {
   "cell_type": "markdown",
   "id": "f551ef1c-691f-4030-a460-ff2e23c06645",
   "metadata": {},
   "source": [
    "### Getting Started\n",
    "\n",
    "[course notes](http://www.mathsbox.com/c++-for-python-programmers/web-pages/course-notes/getting-started.html)"
   ]
  },
  {
   "cell_type": "markdown",
   "id": "21a92ca2-af41-43ef-8864-191692f342f1",
   "metadata": {},
   "source": [
    "### Variables and Built in Types\n",
    "\n",
    "[course notes](http://www.mathsbox.com/c++-for-python-programmers/web-pages/course-notes/variables-built-in-type-initialisation.html)"
   ]
  },
  {
   "cell_type": "markdown",
   "id": "71cb7509-8a72-4f28-9323-6c9f68eb13c4",
   "metadata": {},
   "source": [
    "### Operators\n",
    "\n",
    "[course notes](http://www.mathsbox.com/c++-for-python-programmers/web-pages/course-notes/operators.html)"
   ]
  },
  {
   "cell_type": "markdown",
   "id": "fa9d6b2d-bc1e-44cd-ae8d-c314431e33c7",
   "metadata": {},
   "source": [
    "### Strings\n",
    "\n",
    "[course notes](http://www.mathsbox.com/c++-for-python-programmers/web-pages/course-notes//strings.html)"
   ]
  },
  {
   "cell_type": "markdown",
   "id": "e21f6e87-dffa-43a5-8e13-87a402199d5d",
   "metadata": {},
   "source": [
    "### Conditional Expressions\n",
    "\n",
    "[course notes](http://www.mathsbox.com/c++-for-python-programmers/web-pages/course-notes/conditional-expressions.html)"
   ]
  },
  {
   "cell_type": "markdown",
   "id": "8c0fb771-5732-419f-9cd2-21cc12821175",
   "metadata": {},
   "source": [
    "### Functions\n",
    "\n",
    "[course notes](http://www.mathsbox.com/c++-for-python-programmers/web-pages/course-notes/functions.html)"
   ]
  },
  {
   "cell_type": "markdown",
   "id": "9cccc733-77a9-4409-8a20-e2eae412c572",
   "metadata": {},
   "source": [
    "### Iteration\n",
    "\n",
    "[course notes](http://www.mathsbox.com/c++-for-python-programmers/web-pages/course-notes/iteration.html)"
   ]
  }
 ],
 "metadata": {
  "kernelspec": {
   "display_name": "Python 3 (ipykernel)",
   "language": "python",
   "name": "python3"
  },
  "language_info": {
   "codemirror_mode": {
    "name": "ipython",
    "version": 3
   },
   "file_extension": ".py",
   "mimetype": "text/x-python",
   "name": "python",
   "nbconvert_exporter": "python",
   "pygments_lexer": "ipython3",
   "version": "3.9.9"
  }
 },
 "nbformat": 4,
 "nbformat_minor": 5
}
