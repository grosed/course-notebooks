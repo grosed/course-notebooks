{
 "cells": [
  {
   "cell_type": "markdown",
   "id": "97bb8cf4",
   "metadata": {},
   "source": [
    "# Getting Started"
   ]
  },
  {
   "cell_type": "markdown",
   "id": "3e353a93",
   "metadata": {},
   "source": [
    "### Example 1 - Hello World !!"
   ]
  },
  {
   "cell_type": "markdown",
   "id": "979f7ccc",
   "metadata": {},
   "source": [
    "Here is an example of the ubiquitous \"hello world\" programme. First up - python.  "
   ]
  },
  {
   "cell_type": "markdown",
   "id": "268509b2",
   "metadata": {},
   "source": [
    "<img src=\"./images/python-icon.jpeg\" width=50 height=50 align=\"left\"/>\n",
    "</br>\n",
    "</br>"
   ]
  },
  {
   "cell_type": "code",
   "execution_count": 1,
   "id": "0380aee7",
   "metadata": {},
   "outputs": [
    {
     "name": "stdout",
     "output_type": "stream",
     "text": [
      "hello world\n"
     ]
    }
   ],
   "source": [
    "print(\"hello world\")"
   ]
  },
  {
   "cell_type": "markdown",
   "id": "e1d89f06",
   "metadata": {},
   "source": [
    "Now for some c++."
   ]
  },
  {
   "cell_type": "markdown",
   "id": "a720418e",
   "metadata": {},
   "source": [
    "<img src=\"./images/c++-icon.png\" width=50 height=50 align=\"left\"/>\n",
    "</br>\n",
    "</br>"
   ]
  },
  {
   "cell_type": "code",
   "execution_count": 1,
   "id": "1db40100",
   "metadata": {},
   "outputs": [
    {
     "data": {
      "text/plain": []
     },
     "execution_count": 1,
     "metadata": {},
     "output_type": "execute_result"
    }
   ],
   "source": [
    "#include <iostream>\n"
   ]
  },
  {
   "cell_type": "code",
   "execution_count": 2,
   "id": "510d338e",
   "metadata": {},
   "outputs": [
    {
     "name": "stdout",
     "output_type": "stream",
     "text": [
      "hello world\n"
     ]
    },
    {
     "data": {
      "text/plain": [
       "(std::basic_ostream<char, std::char_traits<char> >::__ostream_type &) @0x7fbcf41fd540\n"
      ]
     },
     "execution_count": 2,
     "metadata": {},
     "output_type": "execute_result"
    }
   ],
   "source": [
    "std::cout << \"hello world\" << std::endl;"
   ]
  },
  {
   "cell_type": "markdown",
   "id": "513d4913",
   "metadata": {},
   "source": [
    "Clearly, the python version is much more concise than the c++ version !!\n",
    "So, what is all that extra code in the c++ version doing ? Consider the code \n",
    "```c++\n",
    "std::cout << \"hello world << std::endl;\"\n",
    "```"
   ]
  },
  {
   "cell_type": "markdown",
   "id": "8b18e941",
   "metadata": {},
   "source": [
    "The std::cout statement directs the message to the console and the std::endl\n",
    "creates a newline. The << between these statements is a stream operator. Streams are the c++ way of sequencing data to and from inputs and\n",
    "outputs. The inputs and outputs could be things like a console, a file, or a\n",
    "string. The syntax may seem a bit weird at first, but its benefits will become\n",
    "clearer the more you use it, and it also provides a uniform way of sending\n",
    "and receiving data to different things. There are some similarities between\n",
    "streams in c++ and pipes in Unix. "
   ]
  },
  {
   "cell_type": "markdown",
   "id": "35046cd8",
   "metadata": {},
   "source": [
    "To be able to use streams to output to the console you have to include the library code that makes it happen. This is done by using the #include directive which appears in the first first cell i.e.\n",
    "```c++\n",
    "#include <iostream>\n",
    "```\n",
    "The name of the library code to be included is iostream and this is placed between angle brackets. Including libraries containing \n",
    "additional code in this way is similar to using import in python."
   ]
  },
  {
   "cell_type": "markdown",
   "id": "6bdf2a14",
   "metadata": {},
   "source": [
    "Notice that in c++ most lines are terminated using a ;. This is the way that\n",
    "the c++ system determines when a line of code has ended. You do not need\n",
    "to have just the right amount of spaces and tabs as in python. This means\n",
    "you are free to the lay the code out in a way that suits you. Be careful, you\n",
    "can very easily make the whole thing look like a big plate of spaghetti. Try\n",
    "and adopt some sensible way of laying out your code and use it consistently.\n",
    "Have a look for some examples of c++ code on the internet to find some\n",
    "examples of how experienced c++ programmers choose to organise their\n",
    "code."
   ]
  },
  {
   "cell_type": "markdown",
   "id": "8e26d43e",
   "metadata": {},
   "source": [
    "<img src=\"./images/bang.png\" width=50 height=50 align=\"left\"/>\n",
    "<img src=\"./images/c++-icon.png\" width=40 height=40 align=\"left\"/>\n",
    "</br>\n",
    "</br>\n",
    "\n"
   ]
  },
  {
   "cell_type": "markdown",
   "id": "cdd39022",
   "metadata": {},
   "source": [
    "When using __c++__ within __jupyter__ the \n",
    "```c++\n",
    "#include \n",
    "```\n",
    "must be in a cell on its own."
   ]
  },
  {
   "cell_type": "markdown",
   "id": "b14a735e",
   "metadata": {},
   "source": [
    "\n",
    "### Example 2 - adding comments"
   ]
  },
  {
   "cell_type": "markdown",
   "id": "b80b213a",
   "metadata": {},
   "source": [
    "<img src=\"./images/python-icon.jpeg\" width=50 height=50 align=\"left\"/>\n",
    "</br>\n",
    "</br>"
   ]
  },
  {
   "cell_type": "code",
   "execution_count": 1,
   "id": "88ccc1e9",
   "metadata": {},
   "outputs": [
    {
     "name": "stdout",
     "output_type": "stream",
     "text": [
      "hello world\n"
     ]
    }
   ],
   "source": [
    "# this is a comment\n",
    "print(\"hello world\")"
   ]
  },
  {
   "cell_type": "markdown",
   "id": "2c1be10a",
   "metadata": {},
   "source": [
    "<img src=\"./images/c++-icon.png\" width=50 height=50 align=\"left\"/>\n",
    "</br>\n",
    "</br>"
   ]
  },
  {
   "cell_type": "code",
   "execution_count": 3,
   "id": "d02a5ca7",
   "metadata": {},
   "outputs": [
    {
     "name": "stdout",
     "output_type": "stream",
     "text": [
      "hello world << std::endl;"
     ]
    },
    {
     "data": {
      "text/plain": [
       "(std::basic_ostream<char, std::char_traits<char> > &) @0x7fbcf41fd540\n"
      ]
     },
     "execution_count": 3,
     "metadata": {},
     "output_type": "execute_result"
    }
   ],
   "source": [
    "// this is a comment\n",
    "std::cout << \"hello world << std::endl;\"\n",
    "/* \n",
    "this is a \n",
    "group of\n",
    "comments\n",
    "*/"
   ]
  }
 ],
 "metadata": {
  "kernelspec": {
   "display_name": "Python 3 (ipykernel)",
   "language": "python",
   "name": "python3"
  },
  "language_info": {
   "codemirror_mode": {
    "name": "ipython",
    "version": 3
   },
   "file_extension": ".py",
   "mimetype": "text/x-python",
   "name": "python",
   "nbconvert_exporter": "python",
   "pygments_lexer": "ipython3",
   "version": "3.9.10"
  }
 },
 "nbformat": 4,
 "nbformat_minor": 5
}
