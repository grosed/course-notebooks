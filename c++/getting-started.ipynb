{
 "cells": [
  {
   "cell_type": "markdown",
   "id": "97bb8cf4",
   "metadata": {
    "kernel": "SoS"
   },
   "source": [
    "# Getting Started"
   ]
  },
  {
   "cell_type": "markdown",
   "id": "3e353a93",
   "metadata": {
    "kernel": "SoS"
   },
   "source": [
    "### Example 1 - Hello World !!"
   ]
  },
  {
   "cell_type": "markdown",
   "id": "979f7ccc",
   "metadata": {
    "kernel": "SoS"
   },
   "source": [
    "Here is an example of the ubiquitous \"hello world\" program. First up - __python__.  "
   ]
  },
  {
   "cell_type": "markdown",
   "id": "268509b2",
   "metadata": {
    "kernel": "SoS"
   },
   "source": [
    "<img src=\"./images/python-icon.jpeg\" width=50 height=50 align=\"left\"/>\n",
    "</br>\n",
    "</br>"
   ]
  },
  {
   "cell_type": "code",
   "execution_count": 1,
   "id": "0380aee7",
   "metadata": {
    "kernel": "SoS"
   },
   "outputs": [
    {
     "name": "stdout",
     "output_type": "stream",
     "text": [
      "hello world\n"
     ]
    }
   ],
   "source": [
    "print(\"hello world\")"
   ]
  },
  {
   "cell_type": "markdown",
   "id": "e1d89f06",
   "metadata": {
    "kernel": "SoS"
   },
   "source": [
    "Now for some __c++__."
   ]
  },
  {
   "cell_type": "markdown",
   "id": "a720418e",
   "metadata": {
    "kernel": "SoS"
   },
   "source": [
    "<img src=\"./images/c++-icon.png\" width=50 height=50 align=\"left\"/>\n",
    "</br>\n",
    "</br>"
   ]
  },
  {
   "cell_type": "code",
   "execution_count": 7,
   "id": "1db40100",
   "metadata": {
    "kernel": "C++17"
   },
   "outputs": [
    {
     "data": {
      "text/plain": []
     },
     "execution_count": 7,
     "metadata": {},
     "output_type": "execute_result"
    }
   ],
   "source": [
    "#include <iostream>"
   ]
  },
  {
   "cell_type": "code",
   "execution_count": 9,
   "id": "510d338e",
   "metadata": {
    "kernel": "C++17"
   },
   "outputs": [
    {
     "name": "stdout",
     "output_type": "stream",
     "text": [
      "hello world\n"
     ]
    },
    {
     "data": {
      "text/plain": [
       "(std::basic_ostream<char, std::char_traits<char> >::__ostream_type &) @0x7f68ce7dab60\n"
      ]
     },
     "execution_count": 9,
     "metadata": {},
     "output_type": "execute_result"
    }
   ],
   "source": [
    "std::cout << \"hello world\" << std::endl;"
   ]
  },
  {
   "cell_type": "markdown",
   "id": "513d4913",
   "metadata": {
    "kernel": "SoS"
   },
   "source": [
    "Clearly, the __python__ version is much more concise than the __c++__ version !!\n",
    "So, what is all that extra code in the __c++__ version doing ? Consider the code \n",
    "```c++\n",
    "std::cout << \"hello world << std::endl;\"\n",
    "```"
   ]
  },
  {
   "cell_type": "markdown",
   "id": "8b18e941",
   "metadata": {
    "kernel": "SoS"
   },
   "source": [
    "The std::cout statement directs the message to the console and the std::endl\n",
    "creates a newline. The << between these statements is a stream operator. Streams are the __c++__ way of sequencing data to and from inputs and\n",
    "outputs. The inputs and outputs could be things like a console, a file, or a\n",
    "string. The syntax may seem a bit weird at first, but its benefits will become\n",
    "clearer the more you use it, and it also provides a uniform way of sending\n",
    "and receiving data to different things. There are some similarities between\n",
    "streams in __c++__ and pipes in Unix. "
   ]
  },
  {
   "cell_type": "markdown",
   "id": "35046cd8",
   "metadata": {
    "kernel": "SoS"
   },
   "source": [
    "To be able to use streams to output to the console you have to include the library code that makes it happen. This is done by using the #include directive which appears in the first first cell i.e.\n",
    "```c++\n",
    "#include <iostream>\n",
    "```\n",
    "The name of the library code to be included is iostream and this is placed between angle brackets. Including libraries containing \n",
    "additional code in this way is similar to using import in __python__."
   ]
  },
  {
   "cell_type": "markdown",
   "id": "6bdf2a14",
   "metadata": {
    "kernel": "SoS"
   },
   "source": [
    "Notice that in __c++__ most lines are terminated using a ;. This is the way that\n",
    "the __c++__ system determines when a line of code has ended. You do not need\n",
    "to have just the right amount of spaces and tabs as in python. This means\n",
    "you are free to the lay the code out in a way that suits you. Be careful, you\n",
    "can very easily make the whole thing look like a big plate of spaghetti. Try\n",
    "and adopt some sensible way of laying out your code and use it consistently.\n",
    "Have a look for some examples of __c++__ code on the internet to find some\n",
    "examples of how experienced __c++__ programmers choose to organise their\n",
    "code."
   ]
  },
  {
   "cell_type": "markdown",
   "id": "8e26d43e",
   "metadata": {
    "kernel": "SoS"
   },
   "source": [
    "<img src=\"./images/bang.png\" width=50 height=50 align=\"left\"/>\n",
    "<img src=\"./images/c++-icon.png\" width=40 height=40 align=\"left\"/>\n",
    "</br>\n",
    "</br>\n",
    "\n"
   ]
  },
  {
   "cell_type": "markdown",
   "id": "cdd39022",
   "metadata": {
    "kernel": "SoS"
   },
   "source": [
    "When using __c++__ within __jupyter lab__ the \n",
    "```c++\n",
    "#include \n",
    "```\n",
    "must be in a cell on its own."
   ]
  },
  {
   "cell_type": "markdown",
   "id": "b14a735e",
   "metadata": {
    "kernel": "SoS"
   },
   "source": [
    "\n",
    "### Example 2 - adding comments"
   ]
  },
  {
   "cell_type": "markdown",
   "id": "b80b213a",
   "metadata": {
    "kernel": "SoS"
   },
   "source": [
    "<img src=\"./images/python-icon.jpeg\" width=50 height=50 align=\"left\"/>\n",
    "</br>\n",
    "</br>"
   ]
  },
  {
   "cell_type": "code",
   "execution_count": 4,
   "id": "88ccc1e9",
   "metadata": {
    "kernel": "SoS"
   },
   "outputs": [
    {
     "name": "stdout",
     "output_type": "stream",
     "text": [
      "hello world\n"
     ]
    }
   ],
   "source": [
    "# this is a comment\n",
    "print(\"hello world\")"
   ]
  },
  {
   "cell_type": "markdown",
   "id": "2c1be10a",
   "metadata": {
    "kernel": "SoS"
   },
   "source": [
    "<img src=\"./images/c++-icon.png\" width=50 height=50 align=\"left\"/>\n",
    "</br>\n",
    "</br>"
   ]
  },
  {
   "cell_type": "code",
   "execution_count": 11,
   "id": "d02a5ca7",
   "metadata": {
    "kernel": "C++17"
   },
   "outputs": [
    {
     "name": "stdout",
     "output_type": "stream",
     "text": [
      "hello world << std::endl;"
     ]
    },
    {
     "data": {
      "text/plain": [
       "(std::basic_ostream<char, std::char_traits<char> > &) @0x7f68ce7dab60\n"
      ]
     },
     "execution_count": 11,
     "metadata": {},
     "output_type": "execute_result"
    }
   ],
   "source": [
    "// this is a comment\n",
    "std::cout << \"hello world << std::endl;\"\n",
    "/* \n",
    "this is a \n",
    "group of\n",
    "comments\n",
    "*/"
   ]
  }
 ],
 "metadata": {
  "kernelspec": {
   "display_name": "SoS",
   "language": "sos",
   "name": "sos"
  },
  "language_info": {
   "codemirror_mode": "sos",
   "file_extension": ".sos",
   "mimetype": "text/x-sos",
   "name": "sos",
   "nbconvert_exporter": "sos_notebook.converter.SoS_Exporter",
   "pygments_lexer": "sos"
  },
  "sos": {
   "kernels": [
    [
     "C++17",
     "cling-cpp17",
     "C++",
     "",
     "c++"
    ],
    [
     "SoS",
     "sos",
     "",
     "",
     "sos"
    ]
   ],
   "version": ""
  }
 },
 "nbformat": 4,
 "nbformat_minor": 5
}
