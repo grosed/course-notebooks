{
 "cells": [
  {
   "cell_type": "markdown",
   "id": "dc3daeed",
   "metadata": {},
   "source": [
    "# Assessment"
   ]
  },
  {
   "cell_type": "markdown",
   "id": "26fb50cb",
   "metadata": {},
   "source": [
    "To complete the assignment you will need to submit all the source code\n",
    "necessary to recreate your working program in the form of a (single) Jupyter notebook. You can add other features to your notebook e.g. markdown, LaTeX, figures/pictures, references, URLs, and so on as appropriate.\n",
    "\n",
    "The marks for each part of the assessment are indicated in each part."
   ]
  },
  {
   "cell_type": "markdown",
   "id": "ccd4ce44",
   "metadata": {},
   "source": [
    "## Part 1)"
   ]
  },
  {
   "cell_type": "markdown",
   "id": "e5d1b52c",
   "metadata": {},
   "source": [
    "Imagine that you are using someone elses c++ code that employs the following structures to represent a line segment in the plane.\n",
    "\n",
    "```c++\n",
    "struct Point\n",
    "{\n",
    "    double x;\n",
    "    double y;\n",
    "    Point(double _x = 0.0, double _y = 0.0)\n",
    "    {\n",
    "        x = _x;\n",
    "        y = _y;   \n",
    "    }\n",
    "    Point operator-(Point p)\n",
    "    {\n",
    "       return Point(x - p.x,y - p.y);\n",
    "    }\n",
    "};\n",
    "\n",
    "struct Line_Segment\n",
    "{\n",
    "    Point a;\n",
    "    Point b;\n",
    "    Line_Segment(Point _a, Point _b)\n",
    "    {\n",
    "        a = _a;\n",
    "        b = _b;\n",
    "    }\n",
    "    double anon(Line_Segment other)\n",
    "    {\n",
    "        Point c = b - a;\n",
    "        Point d = other.b - other.a;\n",
    "        return c.x * d.y - d.x*c.y;\n",
    "    }\n",
    "};\n",
    "```\n",
    "\n",
    "\n",
    "\n",
    "The member function __anom__ is frequently used throughout the rest of the code but is undocumented. Experiment with the code to see what it does, (from a geometrical perspective), and summarise your findings. You might want to use some simple diagrams to help with this. If you do, add them to your notebook to help describe what the function does.  \n",
    "\n",
    "__Marks : 10__"
   ]
  },
  {
   "cell_type": "markdown",
   "id": "b010200d",
   "metadata": {},
   "source": [
    "## Part 2)"
   ]
  },
  {
   "cell_type": "markdown",
   "id": "4be8215e",
   "metadata": {},
   "source": [
    "Design an algorithm that, given two line segments, (in the same plane), determines whether they intersect or not. Write a description of your algorithm using pseudo code.\n",
    "\n",
    "__Marks : 20__"
   ]
  },
  {
   "cell_type": "markdown",
   "id": "a75d9f95",
   "metadata": {},
   "source": [
    "## Part 3)"
   ]
  },
  {
   "cell_type": "markdown",
   "id": "a7f6ba6d",
   "metadata": {},
   "source": [
    "Impement the Jarvis March Algorithm in c++.\n",
    "\n",
    "With reference to the 5 Rs, how do you think your c++ solution compares to the Python solution you provided in the previous assessment ? \n",
    "\n",
    "__Marks : 30__"
   ]
  },
  {
   "cell_type": "markdown",
   "id": "f4cb065b",
   "metadata": {},
   "source": [
    "## Part 4)"
   ]
  },
  {
   "cell_type": "markdown",
   "id": "d7800f81",
   "metadata": {},
   "source": [
    "A \"brute force\" algorithm solves a problem through exhaustion i.e it goes through all possible choices until a solution is found.\n",
    "\n",
    "\n",
    "Design a brute force algorithm that, given a set $Q$ of points in the plane, (where $|Q| > 1$), outputs the two points that are furthest apart. Provide pseudo code for your algorithm and indicate what the worst and best case computational complexities of your algorithm are. Justify your answer.\n",
    "\n",
    "__Marks : 20__"
   ]
  },
  {
   "cell_type": "markdown",
   "id": "59378f2f",
   "metadata": {},
   "source": [
    "## Part 5)"
   ]
  },
  {
   "cell_type": "markdown",
   "id": "9844db35",
   "metadata": {},
   "source": [
    "Implement your solution to part 4 in c++.\n",
    "\n",
    "Is it possible to design an algorithm that solves the same problem as in part 4 but has better best case computational complexity than your brute force solution ? If so, write some pseudo code that describes your algorithm. If not, provide an explanation as to why it cannot be done.\n",
    "\n",
    "__Marks : 20__"
   ]
  },
  {
   "cell_type": "markdown",
   "id": "4e821d7e",
   "metadata": {},
   "source": [
    "## Further Information\n",
    "\n",
    "For information on the 5Rs see this [paper](https://www.frontiersin.org/articles/10.3389/fninf.2017.00069/full) and/or this [presentation](https://prezi.com/view/UFn6tMCwgPK4YHf3VrlH/).\n",
    "\n",
    "For information on basic computational geometry see chapter 33 of this [book](https://onesearch.lancaster-university.uk/primo-explore/fulldisplay?docid=44LAN_ALMA_DS5193137780001221&context=L&vid=LUL_VU1&lang=en_US&search_scope=LSCOP_44LAN_ALMA_DS&adaptor=Local%20Search%20Engine&isFrbr=true&tab=blended&query=any,contains,intoduction%20to%20algorithms&sortby=date&facet=frbrgroupid,include,3377962173&offset=0) "
   ]
  }
 ],
 "metadata": {
  "kernelspec": {
   "display_name": "C++17",
   "language": "C++",
   "name": "cling-cpp17"
  },
  "language_info": {
   "codemirror_mode": "c++",
   "file_extension": ".c++",
   "mimetype": "text/x-c++src",
   "name": "c++"
  }
 },
 "nbformat": 4,
 "nbformat_minor": 5
}
