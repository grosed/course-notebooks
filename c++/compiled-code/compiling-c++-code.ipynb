{
 "cells": [
  {
   "cell_type": "code",
   "execution_count": null,
   "id": "e4755044-e42d-4ab6-8507-2ec6f0cf0483",
   "metadata": {},
   "outputs": [],
   "source": []
  },
  {
   "cell_type": "code",
   "execution_count": null,
   "id": "0aea053c-dcfe-4dc3-a84c-9440b5322d37",
   "metadata": {},
   "outputs": [],
   "source": []
  },
  {
   "cell_type": "markdown",
   "id": "b2eedbf1-c2a9-4f5e-9e2a-df271368e3f2",
   "metadata": {},
   "source": [
    "# Using a c++ compiler"
   ]
  },
  {
   "cell_type": "markdown",
   "id": "9e732f73-4f5d-4524-9845-1cddae50a33c",
   "metadata": {},
   "source": [
    "Because **c++** has a strong static type system it is highly suited for processing by a compiler. In this chapter some guidance is provided for using the **GNU c++** compiler from the **gcc** compiler collection. The benefit of using a compiler is that it (in general) produces much faster code because it eliminates the need for a run time interpreter. On the other hand, it is much harder to make compiled code (though not the underlying code itself) reusable across different hardware and operating systems. "
   ]
  },
  {
   "cell_type": "markdown",
   "id": "3b86827b-64ab-4335-93b1-5cc2fedf2fde",
   "metadata": {},
   "source": [
    "## Getting started"
   ]
  },
  {
   "cell_type": "markdown",
   "id": "22adae9f-4c9e-45dd-80fc-729b5a7c4771",
   "metadata": {},
   "source": [
    "To create a compiled c++ program you will have to process some **c++** code (usually in the form of files) using a compiler. The compiler used in this course is the [**GNU** c++ compiler](https://gcc.gnu.org/) which, on a **Unix** system, is usually made available through the **g++** command. To illustrate how this is done the Point structure developed in the previous sections will be used. The code for this structure is shown below."
   ]
  },
  {
   "cell_type": "markdown",
   "id": "eea7794e-04ab-4662-9a86-bd1020fafd31",
   "metadata": {},
   "source": [
    "```c++\n",
    "struct Point\n",
    "{\n",
    "    double x;\n",
    "    double y;\n",
    "    Point(const double& _x = 0.0, const double& _y = 0.0)\n",
    "    {\n",
    "        x = _x;\n",
    "        y = _y;   \n",
    "    }\n",
    "    Point operator+(const Point& p)\n",
    "    {\n",
    "       return Point(x + p.x,y + p.y);\n",
    "    }\n",
    "};\n",
    "```"
   ]
  },
  {
   "cell_type": "markdown",
   "id": "bcb54081-5057-4457-9651-2747e3ca45bd",
   "metadata": {},
   "source": [
    "### Creating the c++ source files"
   ]
  },
  {
   "cell_type": "markdown",
   "id": "953b94f6-8d35-488e-856a-940eaf1f81b5",
   "metadata": {},
   "source": [
    "In c++ (and many other compiled languages), it is common to seperate the **declaration** of a function or structure from its **definition** and put them in seperate files. This is done so that compiled code can be redistributed and/or combined with other projects without needing to recompile the code. Conceptually this is similar to the way the definition of a mathematical function is often seperate from its definition, for example, in maths you might define a function **f** as  "
   ]
  },
  {
   "cell_type": "markdown",
   "id": "0626e314-6ddb-4009-8a83-c48a7ac2ef2d",
   "metadata": {},
   "source": [
    "$f : \\mathbb{R} \\rightarrow \\mathbb{R}$ \\\n",
    "$f : x \\mapsto x^{2}$"
   ]
  },
  {
   "cell_type": "markdown",
   "id": "480ab998-2837-4ecc-8953-77ca3bdd5f0d",
   "metadata": {},
   "source": [
    "Here, the $f : \\mathbb{R} \\rightarrow \\mathbb{R}$ part **declares** the name of the function, its domain, and codomain. The $f : x \\mapsto x^{2}$ part **defines** what the function \"does\". \n"
   ]
  },
  {
   "cell_type": "markdown",
   "id": "ca508f0d-47e4-475d-9e9a-205469540ffb",
   "metadata": {},
   "source": [
    "Now consider a **c++** implementation of the above function "
   ]
  },
  {
   "cell_type": "markdown",
   "id": "24f620a4-3950-412c-ac0b-fe7c2f49baba",
   "metadata": {},
   "source": [
    "```c++\n",
    "double f(const double& x)\n",
    "{\n",
    "    return x*x;\n",
    "}\n",
    "```"
   ]
  },
  {
   "cell_type": "markdown",
   "id": "abfa7e3a-b105-41d5-ba80-5911c2f4b40d",
   "metadata": {},
   "source": [
    "This declares AND defines the function. The declaration and definition can be seperated as follows. "
   ]
  },
  {
   "cell_type": "markdown",
   "id": "fdf5f002-570f-45a9-a455-24577a6104ce",
   "metadata": {},
   "source": [
    "#### declaration\n",
    "```c++\n",
    "double f(const double&) ;\n",
    "```"
   ]
  },
  {
   "cell_type": "markdown",
   "id": "09e7e267-74e4-40c0-88f7-070bf6232dca",
   "metadata": {},
   "source": [
    "#### definition\n",
    "```c++\n",
    "double f(const double& x)\n",
    "{\n",
    "    return x*x;\n",
    "}\n",
    "```\n"
   ]
  },
  {
   "cell_type": "markdown",
   "id": "4dd2adb6-640a-41aa-9edd-47a2c57e215c",
   "metadata": {},
   "source": [
    "Notice that the declaration does not \"do\" anything, has no variable name, and ends with a semicolon. The definition is the same as the comined declaration and definition."
   ]
  },
  {
   "cell_type": "markdown",
   "id": "3425e3c4-66f1-4f5d-8898-f6f8ef61f4ef",
   "metadata": {},
   "source": [
    "The declaration is now put into a **header file**, usually with a .h extension. The definition is put into **source** file usually with a .cpp extension. For the purposes of this example the files have been named **x-squared.h** and **x-squared.cpp**"
   ]
  },
  {
   "cell_type": "code",
   "execution_count": 14,
   "id": "43c3f8bc-dce9-43f3-8ec3-12fe78d37d82",
   "metadata": {},
   "outputs": [
    {
     "name": "stdout",
     "output_type": "stream",
     "text": [
      "\n",
      "double f(const double&) ;\n"
     ]
    }
   ],
   "source": [
    "head x-squared.h"
   ]
  },
  {
   "cell_type": "code",
   "execution_count": 15,
   "id": "b6c4d8c3-30d3-4b5d-a686-54b88b934540",
   "metadata": {},
   "outputs": [
    {
     "name": "stdout",
     "output_type": "stream",
     "text": [
      "\n",
      "double f(const double& x)\n",
      "{\n",
      "    return x*x;\n",
      "}\n"
     ]
    }
   ],
   "source": [
    "head x-squared.cpp"
   ]
  },
  {
   "cell_type": "markdown",
   "id": "523c7639-3e19-4ee9-890a-3d4b6d3e2a2e",
   "metadata": {},
   "source": [
    "### Compiling the function"
   ]
  },
  {
   "cell_type": "markdown",
   "id": "1a7f15c0-f794-437a-9498-fce90743b397",
   "metadata": {},
   "source": [
    "The **c++** compiler can now be used to compile our **c++** implementation of the x-squared function. "
   ]
  },
  {
   "cell_type": "code",
   "execution_count": 16,
   "id": "5ce7000f-77c2-4fb2-97da-13c5344a3e45",
   "metadata": {},
   "outputs": [],
   "source": [
    "g++ -c x-squared.cpp"
   ]
  },
  {
   "cell_type": "markdown",
   "id": "e217a5e7-57ef-44eb-854d-08f231736cd9",
   "metadata": {},
   "source": [
    "The **c++** compiler has _a lot_ of options. The **-c** option the the compiler to compile the **c++** code contained in the file **x-squared.cpp** and produce an **object file**.  "
   ]
  },
  {
   "cell_type": "code",
   "execution_count": 17,
   "id": "20509afb-7846-499a-a87f-cded3c9d3b1b",
   "metadata": {},
   "outputs": [
    {
     "name": "stdout",
     "output_type": "stream",
     "text": [
      "x-squared.o\n"
     ]
    }
   ],
   "source": [
    "ls *.o"
   ]
  },
  {
   "cell_type": "markdown",
   "id": "af97b079-fd62-4946-9bde-38a5dca1099a",
   "metadata": {},
   "source": [
    "This **object** file, (by default it has the same name as the source file), is a binary file that represents how your function looks (in binary) when loaded into the computers memory."
   ]
  },
  {
   "cell_type": "code",
   "execution_count": 23,
   "id": "48096031-1491-4fdb-a97e-ba6a13ca1016",
   "metadata": {},
   "outputs": [
    {
     "name": "stdout",
     "output_type": "stream",
     "text": [
      "\u0006c\f",
      "\u0000\u0000\u0000\u0000\u0000\u0000\u0000\u0000\u0000\u0000\u0000\u0000\u0000\u0000\u0000\u0000\u0000\u0000\u0000\u0000\u0000\u0000\u0000\u0000\u0000\u0000\u0000\u0001\u0000\u0000\u0000\u0004\u0000��\u0000\u0000\u0000\u0000\u0000\u0000\u0000\u0000\u0000\u0000\u0000\u0000\u0000\u0000\u0000\u0000\u0000\u0000\u0000\u0000\u0003\u0000\u0001\u0000\u0000\u0000\u0000\u0000\u0000\u0000\u0000\u0000\u0000\u0000\u0000\u0000\u0000\u0000\u0000\u0000\u000f\u0000\u0000\u0000\u0012\u0000\u0001\u0000\u0000\u0000\u0000\u0000\u0000\u0000\u0000\u0000,\u0000\u0000\u0000\u0000\u0000\u0000\u0000\u0000x-squared.cpp\u0000_Z1fRKd\u0000\u0000 \u0000\u0000\u0000\u0000\u0000\u0000\u0000\u0002\u0000\u0000\u0000\u0002\u0000\u0000\u0000\u0000\u0000\u0000\u0000\u0000\u0000\u0000\u0000\u0000.symtab\u0000.strtab\u0000.shstrtab\u0000.text\u0000.data\u0000.bss\u0000.comment\u0000.note.GNU-stack\u0000.note.gnu.property\u0000.rela.eh_frame\u0000\u0000\u0000\u0000\u0000\u0000\u0000\u0000\u0000\u0000\u0000\u0000\u0000\u0000\u0000\u0000\u0000\u0000\u0000\u0000\u0000\u0000\u0000\u0000\u0000\u0000\u0000\u0000\u0000\u0000\u0000\u0000\u0000\u0000\u0000\u0000\u0000\u0000\u0000\u0000\u0000\u0000\u0000\u0000\u0000\u0000\u0000\u0000\u0000\u0000\u0000\u0000\u0000\u0000\u0000\u0000\u0000\u0000\u0000\u0000\u0000\u0000\u0000\u0000\u0000\u0000\u001b\u0000\u0000\u0000\u0001\u0000\u0000\u0000\u0006\u0000\u0000\u0000\u0000\u0000\u0000\u0000\u0000\u0000\u0000\u0000\u0000\u0000\u0000\u0000@\u0000\u0000\u0000\u0000\u0000\u0000\u0000,\u0000\u0000\u0000\u0000\u0000\u0000\u0000\u0000\u0000\u0000\u0000\u0000\u0000\u0000\u0000\u0001\u0000\u0000\u0000\u0000\u0000\u0000\u0000\u0000\u0000\u0000\u0000\u0000\u0000\u0000\u0000!\u0000\u0000\u0000\u0001\u0000\u0000\u0000\u0003\u0000\u0000\u0000\u0000\u0000\u0000\u0000\u0000\u0000\u0000\u0000\u0000\u0000\u0000\u0000l\u0000\u0000\u0000\u0000\u0000\u0000\u0000\u0000\u0000\u0000\u0000\u0000\u0000\u0000\u0000\u0000\u0000\u0000\u0000\u0000\u0000\u0000\u0000\u0001\u0000\u0000\u0000\u0000\u0000\u0000\u0000\u0000\u0000\u0000\u0000\u0000\u0000\u0000\u0000'\u0000\u0000\u0000\u0000\u0000\u0003\u0000\u0000\u0000\u0000\u0000\u0000\u0000\u0000\u0000\u0000\u0000\u0000\u0000\u0000\u0000l\u0000\u0000\u0000\u0000\u0000\u0000\u0000\u0000\u0000\u0000\u0000\u0000\u0000\u0000\u0000\u0000\u0000\u0000\u0000\u0000\u0000\u0000\u0000\u0001\u0000\u0000\u0000\u0000\u0000\u0000\u0000\u0000\u0000\u0000\u0000\u0000\u0000\u0000\u0000,\u0000\u0000\u0000\u0001\u0000\u0000\u00000\u0000\u0000\u0000\u0000\u0000\u0000\u0000\u0000\u0000\u0000\u0000\u0000\u0000\u0000\u0000l\u0000\u0000\u0000\u0000\u0000\u0000\u0000,\u0000\u0000\u0000\u0000\u0000\u0000\u0000\u0000\u0000\u0000\u0000\u0000\u0000\u0000\u0000\u0001\u0000\u0000\u0000\u0000\u0000\u0000\u0000\u0001\u0000\u0000\u0000\u0000\u0000\u0000\u00005\u0000\u0000\u0000\u0001\u0000\u0000\u0000\u0000\u0000\u0000\u0000\u0000\u0000\u0000\u0000\u0000\u0000\u0000\u0000\u0000\u0000\u0000\u0000�\u0000\u0000\u0000\u0000\u0000\u0000\u0000\u0000\u0000\u0000\u0000\u0000\u0000\u0000\u0000\u0000\u0000\u0000\u0000\u0000\u0000\u0000\u0000\u0001\u0000\u0000\u0000\u0000\u0000\u0000\u0000\u0000\u0000\u0000\u0000\u0000\u0000\u0000\u0000E\u0000\u0000\u0000\u0007\u0000\u0000\u0000\u0002\u0000\u0000\u0000\u0000\u0000\u0000\u0000\u0000\u0000\u0000\u0000\u0000\u0000\u0000\u0000�\u0000\u0000\u0000\u0000\u0000\u0000\u0000 \u0000\u0000\u0000\u0000\u0000\u0000\u0000\u0000\u0000\u0000\u0000\u0000\u0000\u0000\u0000\u0000\u0000\u0000\u0000\u0000\u0000\u0000\u0000\u0000\u0000\u0000\u0000\u0000\u0000]\u0000\u0000\u0000\u0001\u0000\u0000\u0000\u0002\u0000\u0000\u0000\u0000\u0000\u0000\u0000\u0000\u0000\u0000\u0000\u0000\u0000\u0000\u0000�\u0000\u0000\u0000\u0000\u0000\u0000\u00008\u0000\u0000\u0000\u0000\u0000\u0000\u0000\u0000\u0000\u0000\u0000\u0000\u0000\u0000\u0000\u0000\u0000\u0000\u0000\u0000\u0000\u0000\u0000\u0000\u0000\u0000\u0000\u0000\u0000X\u0000\u0000\u0000\u0004\u0000\u0000\u0000@\u0000\u0000\u0000\u0000\u0000\u0000\u0000\u0000\u0000\u0000\u0000\u0000\u0000\u0000\u0000h\u0001\u0000\u0000\u0000\u0000\u0000\u0000\u0018\u0000\u0000\u0000\u0000\u0000\u0000\u0000\t\u0000\u0000\u0000\u0007\u0000\u0000\u0000\u0000\u0000\u0000\u0000\u0000\u0000\u0018\u0000\u0000\u0000\u0000\u0000\u0000\u0000\u0001\u0000\u0000\u0000\u0002\u0000\u0000\u0000\u0000\u0000\u0000\u0000\u0000\u0000\u0000\u0000\u0000\u0000\u0000\u0000\u0000\u0000\u0000\u0000�\u0000\u0000\u0000\u0000\u0000\u0000\u0000`\u0000\u0000\u0000\u0000\u0000\u0000\u0000\n",
      "\u0000\u0000\u0000\u0003\u0000\u0000\u0000\u0000\u0000\u0000\u0000\u0000\u0000\u0018\u0000\u0000\u0000\u0000\u0000\u0000\u0000\t\u0000\u0000\u0000\u0003\u0000\u0000\u0000\u0000\u0000\u0000\u0000\u0000\u0000\u0000\u0000\u0000\u0000\u0000\u0000\u0000\u0000\u0000\u0000P\u0001\u0000\u0000\u0000\u0000\u0000\u0000\u0017\u0000\u0000\u0000\u0000\u0000\u0000\u0000\u0000\u0000\u0000\u0000\u0000\u0000\u0000\u0000\u0001\u0000\u0000\u0000\u0000\u0000\u0000\u0000\u0000\u0000\u0000\u0000\u0000\u0000\u0000\u0000\u0011\u0000\u0000\u0000\u0003\u0000\u0000\u0000\u0000\u0000\u0000\u0000\u0000\u0000\u0000\u0000\u0000\u0000\u0000\u0000\u0000\u0000\u0000\u0000�\u0001\u0000\u0000\u0000\u0000\u0000\u0000g\u0000\u0000\u0000\u0000\u0000\u0000\u0000\u0000\u0000\u0000\u0000\u0000\u0000\u0000\u0000\u0001\u0000\u0000\u0000\u0000\u0000\u0000\u0000\u0000\u0000\u0000\u0000\u0000\u0000\u0000\u0000\n"
     ]
    }
   ],
   "source": [
    "head x-squared.o"
   ]
  },
  {
   "cell_type": "markdown",
   "id": "919cd228-68cd-45c7-aa6b-ad8cdeca7368",
   "metadata": {},
   "source": [
    "On a Unix system, you can use the **objdump** program to see the assembly code and hexadecimal represention of your program."
   ]
  },
  {
   "cell_type": "code",
   "execution_count": 24,
   "id": "85560ad4-059b-4c92-8e73-1416a2558ca9",
   "metadata": {},
   "outputs": [
    {
     "name": "stdout",
     "output_type": "stream",
     "text": [
      "\n",
      "x-squared.o:     file format elf64-x86-64\n",
      "\n",
      "\n",
      "Disassembly of section .text:\n",
      "\n",
      "0000000000000000 <_Z1fRKd>:\n",
      "   0:\tf3 0f 1e fa          \tendbr64 \n",
      "   4:\t55                   \tpush   %rbp\n",
      "   5:\t48 89 e5             \tmov    %rsp,%rbp\n",
      "   8:\t48 89 7d f8          \tmov    %rdi,-0x8(%rbp)\n",
      "   c:\t48 8b 45 f8          \tmov    -0x8(%rbp),%rax\n",
      "  10:\tf2 0f 10 08          \tmovsd  (%rax),%xmm1\n",
      "  14:\t48 8b 45 f8          \tmov    -0x8(%rbp),%rax\n",
      "  18:\tf2 0f 10 00          \tmovsd  (%rax),%xmm0\n",
      "  1c:\tf2 0f 59 c1          \tmulsd  %xmm1,%xmm0\n",
      "  20:\t66 48 0f 7e c0       \tmovq   %xmm0,%rax\n",
      "  25:\t66 48 0f 6e c0       \tmovq   %rax,%xmm0\n",
      "  2a:\t5d                   \tpop    %rbp\n",
      "  2b:\tc3                   \tret    \n"
     ]
    }
   ],
   "source": [
    "objdump -d x-squared.o"
   ]
  },
  {
   "cell_type": "markdown",
   "id": "e974bf33-4319-44e9-a089-1635e3df5520",
   "metadata": {},
   "source": [
    "The second column contains the hexadecimnal equivalent of the binary number to be put in the memory addresses shown in the first column. The fourth column shows the assembly code for the type of CPU on your computer. Note that this is not a complete program. You cannot run x-squared.o (try it). It is simply a block of binary code that gets loaded into memory when you make a complete program that uses your function."
   ]
  },
  {
   "cell_type": "markdown",
   "id": "19bd065e-a09d-4005-8de9-8dc3746c24ea",
   "metadata": {},
   "source": [
    "### The main function"
   ]
  },
  {
   "cell_type": "markdown",
   "id": "7f6d1f05-cb37-4d6b-9949-cd7f08d4716e",
   "metadata": {},
   "source": [
    "To create a program that can be loaded into memory and executed it is necessary to provide an entry point into the program. In **c++** this is provided by a function called **main**. The main function returns an **int** and can also take a number of arguments (this is covered in a later section). Below is a basic template for the **main** function."
   ]
  },
  {
   "cell_type": "markdown",
   "id": "63250561-f048-4212-8c26-fa84a20054aa",
   "metadata": {},
   "source": [
    "```c++\n",
    "int main()\n",
    "{\n",
    "\n",
    "    return 0;\n",
    "}\n",
    "```"
   ]
  },
  {
   "cell_type": "markdown",
   "id": "83def5c6-ca03-49d9-8cb9-ab4ac6e0a77d",
   "metadata": {},
   "source": [
    "This is a complete program and can be compiled and executed. To see this, create a file called **main.cpp** containing the above code and then compile it."
   ]
  },
  {
   "cell_type": "code",
   "execution_count": 25,
   "id": "ec12bbb8-145c-4874-8c0c-d9051b0175e7",
   "metadata": {},
   "outputs": [],
   "source": [
    "g++ main.cpp -o main.out"
   ]
  },
  {
   "cell_type": "markdown",
   "id": "cb595991-6ecf-41d8-b545-9f36e7455a8e",
   "metadata": {},
   "source": [
    "This command compiles the code andwrites the output to a file called **main.out**. This file is executable."
   ]
  },
  {
   "cell_type": "code",
   "execution_count": 27,
   "id": "2458e6bd-a833-4d95-93a4-17ed6de9fbb0",
   "metadata": {},
   "outputs": [],
   "source": [
    "./main.out"
   ]
  },
  {
   "cell_type": "markdown",
   "id": "d735e883-77b8-4c6d-b12c-c708d5aba9e6",
   "metadata": {},
   "source": [
    "Clearly, this does not do much !! However, you can now add code inside the **main** function. You can also use the **\\#include** directive to load extra functionality, but these should appear before the **main** function."
   ]
  },
  {
   "cell_type": "markdown",
   "id": "6f6205d1-0bde-43c7-bd11-93dbfec1ff94",
   "metadata": {},
   "source": [
    "### Exercise 1\n",
    "\n",
    "Create a file called main-v2.cpp containing the following code\n",
    "\n",
    "```c++\n",
    "#include <iostream>\n",
    "\n",
    "int main()\n",
    "{\n",
    "    std::cout << \"hello from the main function\" << std::endl;\n",
    "    return 0;\n",
    "}\n",
    "```\n",
    "\n",
    "and compile it into a filae called **main-v2.out**. Run the resulting program and see if it does what you expect."
   ]
  },
  {
   "cell_type": "markdown",
   "id": "1305eba3-d316-4472-bf73-f0f4716ac53a",
   "metadata": {},
   "source": [
    "### Adding functions from precompiled objects to the main function"
   ]
  },
  {
   "cell_type": "markdown",
   "id": "36185071-6753-4859-9142-e02ae91019ce",
   "metadata": {},
   "source": [
    "You can combine functions that have already been compiled to object files using the compiler. However, the compiler needs access to the **declaration** of the function so that it can check the types associated with its domain and codomain at compile time. This is what the header file is for. Adding the header file using the **\\#include** directive before the main function allows you to use your function inside the main function. Here is an example"
   ]
  },
  {
   "cell_type": "markdown",
   "id": "9446ee8c-3700-4857-bb16-10c9a904cee9",
   "metadata": {},
   "source": [
    "```c++\n",
    "#include <iostream>\n",
    "#include \"x-squared.h\"\n",
    "\n",
    "int main()\n",
    "{\n",
    "    double x {3.14};\n",
    "    std::cout << f(x) << std::endl;\n",
    "}\n",
    "```"
   ]
  },
  {
   "cell_type": "markdown",
   "id": "f1cb179d-b69f-446a-a6fa-3fac25ea302f",
   "metadata": {},
   "source": [
    "This has all of the information the compiler needs about your code, but it also needs to now where the **object** file is that containes the precompiled version of the **x-squared** function."
   ]
  },
  {
   "cell_type": "markdown",
   "id": "d2e344e1-084e-4b9a-a92f-87bd7aa88c4b",
   "metadata": {},
   "source": [
    "### Exercise 2\n",
    "\n",
    "Create a file called **main-v3.cpp** and add the above code. Now use the command\n",
    "\n",
    "```bash\n",
    "$ g++ main-v3.cpp x-squared.o -o main-v3.out\n",
    "```\n",
    "\n",
    "to create an executable file. Run the file and check that it does what you expect. "
   ]
  },
  {
   "cell_type": "code",
   "execution_count": 30,
   "id": "e248314a-35e4-4bd2-a2d2-7ef6af783c0c",
   "metadata": {},
   "outputs": [],
   "source": [
    "g++ main-v3.cpp x-squared.o -o main-v3.out"
   ]
  },
  {
   "cell_type": "code",
   "execution_count": 31,
   "id": "44e43754-0a9c-44f3-9ca4-be2a4dfa6fb4",
   "metadata": {},
   "outputs": [
    {
     "name": "stdout",
     "output_type": "stream",
     "text": [
      "9.8596\n"
     ]
    }
   ],
   "source": [
    "./main-v3.out"
   ]
  },
  {
   "cell_type": "code",
   "execution_count": null,
   "id": "17252d71-3ea0-4316-83c0-cf24601094ae",
   "metadata": {},
   "outputs": [],
   "source": []
  },
  {
   "cell_type": "code",
   "execution_count": 7,
   "id": "12c42c4e-1d8e-43a7-8abd-2488d4df37d0",
   "metadata": {},
   "outputs": [
    {
     "name": "stdout",
     "output_type": "stream",
     "text": [
      "\u001b[0m\u001b[01;32ma.out\u001b[0m                     scratch.cpp   \u001b[01;32mscratch.out\u001b[0m\n",
      "compiling-c++-code.ipynb  scratch.cpp~  Untitled.ipynb\n"
     ]
    }
   ],
   "source": [
    "ls"
   ]
  },
  {
   "cell_type": "code",
   "execution_count": 10,
   "id": "2940ed3a-3657-43ae-9481-6fb26edbc5f6",
   "metadata": {},
   "outputs": [],
   "source": [
    "g++ scratch.cpp -o scratch.out"
   ]
  },
  {
   "cell_type": "code",
   "execution_count": 8,
   "id": "310be4d2-df3d-4da4-aa7a-2e4d8d117db9",
   "metadata": {},
   "outputs": [
    {
     "name": "stdout",
     "output_type": "stream",
     "text": [
      "\u001b[0m\u001b[01;32ma.out\u001b[0m                     scratch.cpp   \u001b[01;32mscratch.out\u001b[0m\n",
      "compiling-c++-code.ipynb  scratch.cpp~  Untitled.ipynb\n"
     ]
    }
   ],
   "source": [
    "ls"
   ]
  },
  {
   "cell_type": "code",
   "execution_count": 11,
   "id": "c4ef2a0e-98d5-44d9-a4e4-b0ac046fcfcb",
   "metadata": {},
   "outputs": [
    {
     "name": "stdout",
     "output_type": "stream",
     "text": [
      "(-4.9,2.8)\n"
     ]
    }
   ],
   "source": [
    "./scratch.out"
   ]
  },
  {
   "cell_type": "code",
   "execution_count": null,
   "id": "6fb2ed4e-c740-4d78-9f23-d56b75632592",
   "metadata": {},
   "outputs": [],
   "source": []
  },
  {
   "cell_type": "code",
   "execution_count": null,
   "id": "f0798b6a-db08-4956-ba73-83e5e2e60870",
   "metadata": {},
   "outputs": [],
   "source": []
  },
  {
   "cell_type": "markdown",
   "id": "c4b68502-62b2-4aa7-8aba-495a83c82d40",
   "metadata": {},
   "source": [
    "## Structures"
   ]
  },
  {
   "cell_type": "markdown",
   "id": "b210f2c8-24f1-464e-9cc3-7205498b14ca",
   "metadata": {},
   "source": [
    "Structures can also be broken up into a **declaration** and a **definition**. Here is the an example **c++ struct** with combined **declaration** and **definition**. "
   ]
  },
  {
   "cell_type": "markdown",
   "id": "b3e7ab66-c3e5-4ab6-b2d6-9390040589a2",
   "metadata": {},
   "source": [
    "```c++\n",
    "struct Point\n",
    "{\n",
    "    double x;\n",
    "    double y;\n",
    "    Point(const double& _x, const double& _y)\n",
    "    {\n",
    "        x = _x;\n",
    "        y = _y;   \n",
    "    }\n",
    "    Point operator+(const Point& p)\n",
    "    {\n",
    "       return Point(x + p.x,y + p.y);\n",
    "    }\n",
    "};\n",
    "```"
   ]
  },
  {
   "cell_type": "markdown",
   "id": "b300d449-6bf7-4874-8e0d-ee5f0975ad5f",
   "metadata": {},
   "source": [
    "The **declaration** for this **struct**, which goes into a **header** file is"
   ]
  },
  {
   "cell_type": "markdown",
   "id": "2a9bf3f5-a5dd-48fd-bf24-33dd6e2400f2",
   "metadata": {},
   "source": [
    "```c++\n",
    "struct Point\n",
    "{\n",
    "    double x;\n",
    "    double y;\n",
    "    Point(const double&, const double&);\n",
    "    Point operator+(const Point&);\n",
    "};\n",
    "```"
   ]
  },
  {
   "cell_type": "markdown",
   "id": "6092f414-d8f6-4dbd-a291-ef4e3f333424",
   "metadata": {},
   "source": [
    "What the **member** functions of the **struct** do is defined in the corresponding **source** file. "
   ]
  },
  {
   "cell_type": "markdown",
   "id": "22a0144d-b428-4257-9410-7ba6bdb9b0f8",
   "metadata": {},
   "source": [
    "```c++\n",
    "#include \"point.h\" // this assumes the declaration of the Point structure is in a file called point.h \n",
    " \n",
    " Point::Point(const double& _x, const double& _y)\n",
    "    {\n",
    "        x = _x;\n",
    "        y = _y;   \n",
    "    }\n",
    "    \n",
    "    Point Point::operator+(const Point& p)\n",
    "    {\n",
    "       return Point(x + p.x,y + p.y);\n",
    "    }\n",
    "```"
   ]
  },
  {
   "cell_type": "markdown",
   "id": "d9fb7a92-05f5-4050-8867-953d5ae6f33f",
   "metadata": {},
   "source": [
    "Note that the compiler needs to know which **struct** the **member** functions are part of. This is why the file **point.h** is included in the source code. This makes the **struct** definition avaiable, but the compiler still needs to that it will using a **struct** called **Point**. This is done by prefixing the **member** function **definitions** with the **Point::** directive (the :: is known in c++ as a **scoping** operator)."
   ]
  }
 ],
 "metadata": {
  "kernelspec": {
   "display_name": "Bash",
   "language": "bash",
   "name": "bash"
  },
  "language_info": {
   "codemirror_mode": "shell",
   "file_extension": ".sh",
   "mimetype": "text/x-sh",
   "name": "bash"
  }
 },
 "nbformat": 4,
 "nbformat_minor": 5
}
