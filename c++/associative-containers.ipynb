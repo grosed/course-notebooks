{
 "cells": [
  {
   "cell_type": "markdown",
   "id": "47f6aa91-d495-4d0a-966b-82ec4ddc62bb",
   "metadata": {
    "kernel": "SoS",
    "tags": []
   },
   "source": [
    "# Associative containers"
   ]
  },
  {
   "cell_type": "markdown",
   "id": "e6bb5a07-7a8c-496d-bcd9-a09864797d96",
   "metadata": {
    "kernel": "SoS"
   },
   "source": [
    "## Dictionaries are unordered maps"
   ]
  },
  {
   "cell_type": "markdown",
   "id": "116ee5e6-33a3-4912-8381-729fb388941a",
   "metadata": {
    "kernel": "SoS"
   },
   "source": [
    "#### Example 1"
   ]
  },
  {
   "cell_type": "markdown",
   "id": "d38b5756-a715-4ebb-85ca-7aea88cbac9d",
   "metadata": {
    "kernel": "SoS"
   },
   "source": [
    "<img src=\"./../images/python-icon.jpeg\" width=50 height=50 align=\"left\"/>"
   ]
  },
  {
   "cell_type": "code",
   "execution_count": 1,
   "id": "14be529a-8c33-44e9-a97c-2894913c6e30",
   "metadata": {
    "kernel": "Python 3 (ipykernel)",
    "tags": []
   },
   "outputs": [],
   "source": [
    "D = dict()"
   ]
  },
  {
   "cell_type": "code",
   "execution_count": 2,
   "id": "776c8d90-5158-46ac-81af-1eb1fabcdddb",
   "metadata": {
    "kernel": "Python 3 (ipykernel)"
   },
   "outputs": [],
   "source": [
    "D[\"S\"] = \"...\"\n",
    "D[\"O\"] = \"---\""
   ]
  },
  {
   "cell_type": "code",
   "execution_count": 3,
   "id": "84d982cd-4253-42d7-aa50-6f7e49c1de5a",
   "metadata": {
    "kernel": "Python 3 (ipykernel)"
   },
   "outputs": [
    {
     "name": "stdout",
     "output_type": "stream",
     "text": [
      "{'S': '...', 'O': '---'}\n"
     ]
    }
   ],
   "source": [
    "print(D)"
   ]
  },
  {
   "cell_type": "code",
   "execution_count": 4,
   "id": "37e23fa7-5e7b-4590-b6ff-9bf1938ee0d5",
   "metadata": {
    "kernel": "Python 3 (ipykernel)"
   },
   "outputs": [
    {
     "name": "stdout",
     "output_type": "stream",
     "text": [
      "...\n"
     ]
    }
   ],
   "source": [
    "print(D[\"S\"])"
   ]
  },
  {
   "cell_type": "code",
   "execution_count": 5,
   "id": "4a821616-12e6-40e8-b1a0-43b2603f9c61",
   "metadata": {
    "kernel": "Python 3 (ipykernel)"
   },
   "outputs": [
    {
     "name": "stdout",
     "output_type": "stream",
     "text": [
      "S ...\n",
      "O ---\n"
     ]
    }
   ],
   "source": [
    "for key,value in D.items() :\n",
    "    print(key,value)"
   ]
  },
  {
   "cell_type": "markdown",
   "id": "b541ddfa-c0ed-4c4e-ad38-fd9c51f3033d",
   "metadata": {
    "kernel": "Python 3 (ipykernel)"
   },
   "source": [
    "<img src=\"./../images/c++-icon.png\" width=50 height=50 align=\"left\"/>"
   ]
  },
  {
   "cell_type": "code",
   "execution_count": 6,
   "id": "2072c691-be86-4c20-b8e2-98183f4efc53",
   "metadata": {
    "kernel": "C++17",
    "tags": []
   },
   "outputs": [
    {
     "data": {
      "text/plain": []
     },
     "execution_count": 6,
     "metadata": {},
     "output_type": "execute_result"
    }
   ],
   "source": [
    "#include <unordered_map>\n",
    "#include <iostream>"
   ]
  },
  {
   "cell_type": "code",
   "execution_count": 7,
   "id": "87f8219d-3a09-4c1c-b9ed-6821ebc36589",
   "metadata": {
    "kernel": "C++17",
    "tags": []
   },
   "outputs": [
    {
     "data": {
      "text/plain": []
     },
     "execution_count": 7,
     "metadata": {},
     "output_type": "execute_result"
    }
   ],
   "source": [
    "std::unordered_map<std::string,std::string> D;"
   ]
  },
  {
   "cell_type": "code",
   "execution_count": 8,
   "id": "33a18f70-baa0-448c-a06b-2484c45ab490",
   "metadata": {
    "kernel": "C++17"
   },
   "outputs": [
    {
     "data": {
      "text/plain": [
       "(std::basic_string &) \"...\"\n"
      ]
     },
     "execution_count": 8,
     "metadata": {},
     "output_type": "execute_result"
    }
   ],
   "source": [
    "D[\"O\"] = \"---\";\n",
    "D[\"S\"] = \"...\";"
   ]
  },
  {
   "cell_type": "code",
   "execution_count": 9,
   "id": "fbe9a6ac-880f-4499-a3e9-8c77a13fc3e3",
   "metadata": {
    "kernel": "C++17"
   },
   "outputs": [
    {
     "name": "stdout",
     "output_type": "stream",
     "text": [
      "S : ...\n",
      "O : ---\n"
     ]
    },
    {
     "data": {
      "text/plain": []
     },
     "execution_count": 9,
     "metadata": {},
     "output_type": "execute_result"
    }
   ],
   "source": [
    "for(auto& p : D)\n",
    "{\n",
    "    std::cout << p.first << \" : \" << p.second << std::endl;\n",
    "}"
   ]
  },
  {
   "cell_type": "markdown",
   "id": "57840acf-e609-4805-82c9-80c6003f7589",
   "metadata": {
    "kernel": "C++17"
   },
   "source": [
    "### Removing elements"
   ]
  },
  {
   "cell_type": "markdown",
   "id": "9fc823e3-8c82-444c-bb00-4a6cf5274e23",
   "metadata": {
    "kernel": "C++17"
   },
   "source": [
    "#### Example 2"
   ]
  },
  {
   "cell_type": "markdown",
   "id": "f2dd9039-e720-4de3-91cb-db543c79c33b",
   "metadata": {
    "kernel": "Python 3 (ipykernel)"
   },
   "source": [
    "<img src=\"./../images/c++-icon.png\" width=50 height=50 align=\"left\"/>"
   ]
  },
  {
   "cell_type": "code",
   "execution_count": 10,
   "id": "fd569ed3-3922-48aa-8b7c-9c70095cb9e7",
   "metadata": {
    "kernel": "C++17"
   },
   "outputs": [
    {
     "name": "stdout",
     "output_type": "stream",
     "text": [
      "O : ---\n"
     ]
    },
    {
     "data": {
      "text/plain": []
     },
     "execution_count": 10,
     "metadata": {},
     "output_type": "execute_result"
    }
   ],
   "source": [
    "D.erase(\"S\");\n",
    "for(auto& p : D)\n",
    "{\n",
    "    std::cout << p.first << \" : \" << p.second << std::endl;\n",
    "}"
   ]
  },
  {
   "cell_type": "markdown",
   "id": "7d85cf3c-d12f-4d14-a913-779d9589b5a8",
   "metadata": {
    "kernel": "C++17"
   },
   "source": [
    "## Ordered dictionaries are maps"
   ]
  },
  {
   "cell_type": "markdown",
   "id": "72019379-7d8a-4dfb-8bb6-36c4223d029e",
   "metadata": {
    "kernel": "C++17"
   },
   "source": [
    "In more recent version of some distributions of python dictionaries are \"ordered\". The equivalent in the __STL__ is the __map__."
   ]
  },
  {
   "cell_type": "markdown",
   "id": "a7be24cf-d555-4bc0-b698-7a38e69a79bc",
   "metadata": {
    "kernel": "C++17"
   },
   "source": [
    "#### Example 3"
   ]
  },
  {
   "cell_type": "markdown",
   "id": "a2211796-b1d3-4015-aa90-ab4131b471a1",
   "metadata": {
    "kernel": "Python 3 (ipykernel)"
   },
   "source": [
    "<img src=\"./../images/c++-icon.png\" width=50 height=50 align=\"left\"/>"
   ]
  },
  {
   "cell_type": "code",
   "execution_count": 11,
   "id": "bfd821d7-c163-48be-8291-7ec0df68d3e5",
   "metadata": {
    "kernel": "C++17"
   },
   "outputs": [
    {
     "data": {
      "text/plain": []
     },
     "execution_count": 11,
     "metadata": {},
     "output_type": "execute_result"
    }
   ],
   "source": [
    "#include <map>"
   ]
  },
  {
   "cell_type": "code",
   "execution_count": 13,
   "id": "8c7d595b-ade1-460e-a165-2b6596f0280a",
   "metadata": {
    "kernel": "C++17"
   },
   "outputs": [
    {
     "data": {
      "text/plain": []
     },
     "execution_count": 13,
     "metadata": {},
     "output_type": "execute_result"
    }
   ],
   "source": [
    "std::map<std::string,std::string> OD;"
   ]
  },
  {
   "cell_type": "code",
   "execution_count": 14,
   "id": "6e41ad82-56a3-47e4-809d-f14788587060",
   "metadata": {
    "kernel": "C++17"
   },
   "outputs": [
    {
     "data": {
      "text/plain": [
       "(std::basic_string &) \"...\"\n"
      ]
     },
     "execution_count": 14,
     "metadata": {},
     "output_type": "execute_result"
    }
   ],
   "source": [
    "OD[\"O\"] = \"---\";\n",
    "OD[\"S\"] = \"...\";"
   ]
  },
  {
   "cell_type": "code",
   "execution_count": 15,
   "id": "e4ce7aba-4dff-4b6a-965e-91b8acbab053",
   "metadata": {
    "kernel": "C++17"
   },
   "outputs": [
    {
     "name": "stdout",
     "output_type": "stream",
     "text": [
      "O : ---\n",
      "S : ...\n"
     ]
    },
    {
     "data": {
      "text/plain": []
     },
     "execution_count": 15,
     "metadata": {},
     "output_type": "execute_result"
    }
   ],
   "source": [
    "for(auto& p : OD)\n",
    "{\n",
    "    std::cout << p.first << \" : \" << p.second << std::endl;\n",
    "}"
   ]
  }
 ],
 "metadata": {
  "kernelspec": {
   "display_name": "SoS",
   "language": "sos",
   "name": "sos"
  },
  "language_info": {
   "codemirror_mode": "sos",
   "file_extension": ".sos",
   "mimetype": "text/x-sos",
   "name": "sos",
   "nbconvert_exporter": "sos_notebook.converter.SoS_Exporter",
   "pygments_lexer": "sos"
  },
  "sos": {
   "kernels": [
    [
     "C++17",
     "cling-cpp17",
     "C++",
     "",
     "c++"
    ],
    [
     "Python 3 (ipykernel)",
     "python3",
     "python3",
     "",
     {
      "name": "ipython",
      "version": 3
     }
    ]
   ],
   "version": "0.22.9"
  }
 },
 "nbformat": 4,
 "nbformat_minor": 5
}
