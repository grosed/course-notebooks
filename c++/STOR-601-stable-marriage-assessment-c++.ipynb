{
 "cells": [
  {
   "cell_type": "markdown",
   "id": "ee33a35c",
   "metadata": {},
   "source": [
    "# STOR-601 C++ for Python Programmers - Assessment"
   ]
  },
  {
   "cell_type": "markdown",
   "id": "0af33de4",
   "metadata": {},
   "source": [
    "## Overview"
   ]
  },
  {
   "cell_type": "markdown",
   "id": "a073c09c",
   "metadata": {},
   "source": [
    "This is the assessment for the STOR-601 C++ for Python Programmers Module.\n",
    "\n",
    "The submission date for this assessment is 04/03/2022. Your submission should be in the form of a jupyter notebook made available for download via your github account. Please send details of your github repository to [daniel grose](mailto:dan.grose@lancaster.ac.uk) by 17:00 on the submission date. Alternatively, send me an invite via github - my github name is __grosed__. \n",
    "\n",
    "The assessment is marked out of 100 and the scores assigned to each task are indicated in the task descriptions. \n",
    "\n",
    "A number of discretionary marks (20) have been reserved for rewarding the quality of your work. You can gain these marks by, for example, providing additional markup in your notebook to support your solutions to the tasks, using appropriate charts and tables to summarise your data, providing links to external references, providing simple tests for your functions, and so on. You may also choose to use additional material in support of your notebook, for example, files containing c++ source code. If this is the case, these materials must also be available from your github repository. \n",
    "\n",
    "Please feel free to you use and extend any of the examples from the course notes and use resources available online where appropriate. However, it is important that your solution to Task *** is your own work and reflects your own judgements as how to best implement the \"fundamental algorithm\" in c++.  \n",
    "\n",
    "Before your results and feedback are returned you might be asked to have a short (approximately 5 minutes) individual online \"interview\" to discuss some aspects of your work. The outcome of this interview might impact on your overall individual score.\n"
   ]
  },
  {
   "cell_type": "markdown",
   "id": "7eca0bf1",
   "metadata": {},
   "source": [
    "### <u>Task 1</u>\n",
    "\n",
    "Using a jupyter notebook with a c++ 17 kernel, write a __C++__ implementation of the Fundamental Algorthim that you have already coded in __Python__ as part of the assessent for the STOR-601 module \"Introductory Python\" (task 7 part b).\n",
    "\n",
    "\n",
    "Include examples showing how you use your code to determine a stable marriage given a pair of valid preference tables.  \n",
    "\n",
    "Marks will be awarded for :\n",
    "\n",
    "i) A correct implementation\n",
    "\n",
    "ii) An efficient implementation\n",
    "\n",
    "iii) Supporting material that describes how your code is organised and how it corresponds to key parts of the pseudo code for the algorithm as presented in Lecture 2 of [Stable Marriage and Its Relation to Other Combinatorial Problems](https://ebookcentral.proquest.com/lib/lancaster/detail.action?docID=4908424).   \n",
    "\n",
    "\n",
    "__Marks__ [?]"
   ]
  },
  {
   "cell_type": "markdown",
   "id": "b129a972",
   "metadata": {},
   "source": [
    "### <u>Task 2</u>\n",
    "\n",
    "Based on the type of data structures you have used in solution to Task 1, determine the computational complexity of your algorithm. If appropriate, use the online documentation for the STL to justify your reasoning. \n",
    "\n",
    "\n",
    "__Marks__ [5]"
   ]
  },
  {
   "cell_type": "markdown",
   "id": "7c41993b",
   "metadata": {},
   "source": [
    "### <u>Task 3</u>\n",
    "\n",
    "Transfer your code from Task 1 from the jupyter notebook into a text file. \n",
    "\n",
    "Modify the code in the text file so that includes a main function that creates some example preference tables,  uses the fundamental algorithm to determine a stable marrige, and then prints a summary of the result to the terminal. \n",
    "\n",
    "Compile the resulting code, run it, and include a scrrenshot of the output in your jupyter notebbok.\n",
    "\n",
    "The text file containing your code needs to be available on your github repository along with your notebook.\n",
    "\n",
    "__Marks__ [5]"
   ]
  },
  {
   "cell_type": "code",
   "execution_count": 1,
   "id": "8ec9300c",
   "metadata": {},
   "outputs": [
    {
     "data": {
      "text/plain": [
       "[1, 6, 8, 2, 9, 4]"
      ]
     },
     "execution_count": 1,
     "metadata": {},
     "output_type": "execute_result"
    }
   ],
   "source": [
    "import random\n",
    "\n",
    "random.sample(range(1,10),6)"
   ]
  },
  {
   "cell_type": "markdown",
   "id": "a5d8848b",
   "metadata": {},
   "source": [
    "### <u>Task 4</u>\n",
    "\n",
    "Write a python function that takes a pair of preference tables and tests if the tables are valid i.e, correspond correctly to each other in terms of dimension and content. The function should return true if they are valid and false otherwise (i.e it is a decision problem).\n",
    "\n",
    "Demonstrate that your function works correctly using example preferences from lecture 1 of [Stable Marriage and Its Relation to Other Combinatorial Problems](https://ebookcentral.proquest.com/lib/lancaster/detail.action?docID=4908424).\n",
    "\n",
    "\n",
    "__Marks__ [5]"
   ]
  },
  {
   "cell_type": "markdown",
   "id": "ff053ec2",
   "metadata": {},
   "source": [
    "### <u>Task 5</u>\n",
    "\n",
    "Write a python function that takes a pair of preference tables and a matching, and tests if the given matching is stable with respect to the preference tables. The function should return true if the matching is stable, false otherwise (i.e it is a decision problem).\n",
    "\n",
    "Demonstrate that your function works correctly using example preferences and matchings from lecture 1 of [Stable Marriage and Its Relation to Other Combinatorial Problems](https://ebookcentral.proquest.com/lib/lancaster/detail.action?docID=4908424).\n",
    "\n",
    "\n",
    "__Marks__ [5]\n"
   ]
  },
  {
   "cell_type": "markdown",
   "id": "4cb6c0c1",
   "metadata": {},
   "source": [
    "### <u>Task 6</u>\n",
    "\n",
    "Write a function that takes a pair of preference tables and a matching, and which scores the matching for both men and women. The function should return the two scores. The scores are the sum of the ranked preferences of the pairings for each group (male / female) in the matching. \n",
    "\n",
    "\n",
    "__Marks__ [5]"
   ]
  },
  {
   "cell_type": "markdown",
   "id": "d20fd147",
   "metadata": {},
   "source": [
    "### <u>Task 7</u>\n",
    "\n",
    "Read lecture 2 of [Stable Marriage and Its Relation to Other Combinatorial Problems](https://ebookcentral.proquest.com/lib/lancaster/detail.action?docID=4908424) up to and including the fourth paragraph on page 12.\n",
    "\n",
    "Part a)\n",
    "\n",
    "Explain how you could include the \"very undesirable\" imaginary  man introduced on page 9 into your representation of the preference tables.\n",
    "\n",
    "Part b)\n",
    "\n",
    "Implement the fundamental algorithm described on page 9 as a Python function. Your function should take a (compatible) pair of preference tables as input and produce a (stable) matching as an output. \n",
    "\n",
    "\n",
    "__Marks__ [25]"
   ]
  },
  {
   "cell_type": "markdown",
   "id": "0e54077b",
   "metadata": {},
   "source": [
    "### <u>Task 8</u>\n",
    "\n",
    "Use your solutions to Task 3 and Task 7 to determine how the execution time of your implementation of the fundamental algorithm varies with the size of the preference table. Is this relationship consistent with your expectations ? Justify your reasoning with reference to your implementation of the algorithm and your experimental observations.  \n",
    "\n",
    "You may find the following code example useful.\n",
    "\n",
    "__Marks__ [5]"
   ]
  },
  {
   "cell_type": "code",
   "execution_count": 2,
   "id": "d0e6e62f",
   "metadata": {},
   "outputs": [
    {
     "name": "stdout",
     "output_type": "stream",
     "text": [
      "0.03407124790828675\n"
     ]
    }
   ],
   "source": [
    "import time\n",
    "\n",
    "start = time.perf_counter()\n",
    "for i in range(1000000) :\n",
    "    x = 2\n",
    "end = time.perf_counter()   \n",
    "print(end-start)"
   ]
  },
  {
   "cell_type": "markdown",
   "id": "2ee1f216",
   "metadata": {},
   "source": [
    "### <u>Task 9</u>\n",
    "\n",
    "Use your solutions to Task 3 and Task 7 to the examine how the score for of stable matchings obtained using the fundamental algorithm are distributed for randomised preference tables. Discuss and summarise your findings.\n",
    "\n",
    "__Marks__ [5]"
   ]
  },
  {
   "cell_type": "markdown",
   "id": "2eb4ce0d",
   "metadata": {},
   "source": [
    "### <u>Task 10</u>\n",
    "\n",
    "In [Re-run, Repeat, Reproduce, Reuse, Replicate: Transforming Code into Scientific Contributions](https://www.frontiersin.org/articles/10.3389/fninf.2017.00069/full), Benureau and Rougier use a small python example to demonstrate how code can be augmented to improve its \"scientific quality\". Conduct a brief study of their example and use/extend their ideas to improve the \"scientific quality\" of the python functions have developed for this assessment. Comment on how this has improved your code with respect to the [5 Rs](https://prezi.com/view/SiZvi92iA2deKRYljZ7u/).\n",
    "\n",
    "\n",
    "__Marks__ [5]"
   ]
  },
  {
   "cell_type": "markdown",
   "id": "5226c1e3",
   "metadata": {},
   "source": [
    "### <u>Task 11</u>\n",
    "\n",
    "Discretionary marks awarded for the overall quality of your code, solutions, reporting and insights, along with any techniques, methods and materials which support the concept of the [5 Rs](https://prezi.com/view/SiZvi92iA2deKRYljZ7u/) and particularly \"pythonesque\" code.   \n",
    "\n",
    "__Marks__ [30]"
   ]
  }
 ],
 "metadata": {
  "kernelspec": {
   "display_name": "Python 3 (ipykernel)",
   "language": "python",
   "name": "python3"
  },
  "language_info": {
   "codemirror_mode": {
    "name": "ipython",
    "version": 3
   },
   "file_extension": ".py",
   "mimetype": "text/x-python",
   "name": "python",
   "nbconvert_exporter": "python",
   "pygments_lexer": "ipython3",
   "version": "3.9.9"
  }
 },
 "nbformat": 4,
 "nbformat_minor": 5
}
