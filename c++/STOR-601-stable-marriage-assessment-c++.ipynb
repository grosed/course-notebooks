{
 "cells": [
  {
   "cell_type": "markdown",
   "id": "ee33a35c",
   "metadata": {},
   "source": [
    "# STOR-601 C++ for Python Programmers - Assessment"
   ]
  },
  {
   "cell_type": "markdown",
   "id": "0af33de4",
   "metadata": {},
   "source": [
    "## Overview"
   ]
  },
  {
   "cell_type": "markdown",
   "id": "a073c09c",
   "metadata": {},
   "source": [
    "This is the assessment for the STOR-601 C++ for Python Programmers Module.\n",
    "\n",
    "The submission date for this assessment is 04/03/2022. Your submission should be in the form of jupyter notebooks along with any accompanying files (such as text files containg c++ source code) and made available for download via your github account. Please send details of your github repository to [daniel grose](mailto:dan.grose@lancaster.ac.uk) by 17:00 on the submission date. Alternatively, send me an invite via github - my github name is __grosed__. \n",
    "\n",
    "The assessment is marked out of 100 and the scores assigned to each task are indicated in the task descriptions. \n",
    "\n",
    "A number of discretionary marks (20) have been reserved for rewarding the quality of your work. You can gain these marks by, for example, providing additional markup in your notebook to support your solutions to the tasks, using appropriate charts and tables to summarise your data, providing links to external references, providing simple tests for your functions, and so on. You may also choose to use additional material in support of your notebook, for example, files containing c++ source code. If this is the case, these materials must also be available from your github repository. \n",
    "\n",
    "Please feel free to you use and extend any of the examples from the course notes and use resources available online where appropriate. However, it is important that your solution to the Task 1 is your own work and reflects your own judgements as how to best implement the \"fundamental algorithm\" in c++.  \n",
    "\n",
    "Before your results and feedback are returned you might be asked to have a short (approximately 5 minutes) individual online \"interview\" to discuss some aspects of your work. The outcome of this interview might impact on your overall individual score.\n"
   ]
  },
  {
   "cell_type": "markdown",
   "id": "7eca0bf1",
   "metadata": {},
   "source": [
    "### <u>Task 1</u>\n",
    "\n",
    "Using a jupyter notebook with a c++ 17 kernel, write a __C++__ implementation of the Fundamental Algorthim that you have already coded in __Python__ as part of the assessent for the STOR-601 module \"Introductory Python\" (task 7 part b).\n",
    "\n",
    "\n",
    "Include examples showing how you use your code to determine a stable marriage given a pair of valid preference tables.  \n",
    "\n",
    "Marks will be awarded for :\n",
    "\n",
    "i) A correct implementation\n",
    "\n",
    "ii) An efficient implementation\n",
    "\n",
    "iii) Supporting material that describes how your code is organised and how it corresponds to key parts of the pseudo code for the algorithm as presented in Lecture 2 of [Stable Marriage and Its Relation to Other Combinatorial Problems](https://ebookcentral.proquest.com/lib/lancaster/detail.action?docID=4908424).   \n",
    "\n",
    "\n",
    "__Marks__ [50]"
   ]
  },
  {
   "cell_type": "markdown",
   "id": "b129a972",
   "metadata": {},
   "source": [
    "### <u>Task 2</u>\n",
    "\n",
    "Based on the type of data structures you have used in solution to Task 1, determine the computational complexity of your algorithm. If appropriate, use the online documentation for the STL to justify your reasoning. \n",
    "\n",
    "\n",
    "__Marks__ [10]"
   ]
  },
  {
   "cell_type": "markdown",
   "id": "7c41993b",
   "metadata": {},
   "source": [
    "### <u>Task 3</u>\n",
    "\n",
    "Transfer your code from Task 1 from the jupyter notebook into a text file. \n",
    "\n",
    "Modify the code in the text file so that includes a main function that creates some example preference tables,  uses the fundamental algorithm to determine a stable marrige, and then prints a summary of the result to the terminal. \n",
    "\n",
    "Compile the resulting code, run it, and include a scrrenshot of the output in your jupyter notebbok.\n",
    "\n",
    "The text file containing your code needs to be available on your github repository along with your notebook.\n",
    "\n",
    "__Marks__ [20]"
   ]
  },
  {
   "cell_type": "markdown",
   "id": "43a4527f-4710-46df-ac06-edafa15607fa",
   "metadata": {},
   "source": [
    "### <u>Additional Discretionaty Marks</u>\n",
    "\n",
    "These marks will be allocated to reflect how well you have used supporting materials and notes / markup to improve the quality of your submission with respect to the [5Rs](https://www.frontiersin.org/articles/10.3389/fninf.2017.00069/full).\n",
    "\n",
    "\n",
    "__Marks__ [20]"
   ]
  }
 ],
 "metadata": {
  "kernelspec": {
   "display_name": "Python 3 (ipykernel)",
   "language": "python",
   "name": "python3"
  },
  "language_info": {
   "codemirror_mode": {
    "name": "ipython",
    "version": 3
   },
   "file_extension": ".py",
   "mimetype": "text/x-python",
   "name": "python",
   "nbconvert_exporter": "python",
   "pygments_lexer": "ipython3",
   "version": "3.9.9"
  }
 },
 "nbformat": 4,
 "nbformat_minor": 5
}
