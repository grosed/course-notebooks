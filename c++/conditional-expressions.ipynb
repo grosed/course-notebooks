{
 "cells": [
  {
   "cell_type": "markdown",
   "id": "710e53a9-a685-4c80-8b85-af0bec4e02f5",
   "metadata": {
    "kernel": "SoS",
    "tags": []
   },
   "source": [
    "# Conditional Expressions"
   ]
  },
  {
   "cell_type": "markdown",
   "id": "0995b603-74bb-408a-b297-f0fe18921959",
   "metadata": {
    "kernel": "SoS"
   },
   "source": [
    "## Conditional if"
   ]
  },
  {
   "cell_type": "markdown",
   "id": "f902e752-c170-44e8-9a1c-64f4ef5e7c63",
   "metadata": {
    "kernel": "SoS"
   },
   "source": [
    "### Example 1"
   ]
  },
  {
   "cell_type": "markdown",
   "id": "bcc861ff-f09b-4449-84de-c23bb8797bb1",
   "metadata": {
    "kernel": "SoS"
   },
   "source": [
    "<img src=\"./images/python-icon.jpeg\" width=50 height=50 align=\"left\"/>\n",
    "</br>\n",
    "</br>"
   ]
  },
  {
   "cell_type": "code",
   "execution_count": 1,
   "id": "f3e9a9eb-e9bc-4daa-a2d1-ab4a339d65fa",
   "metadata": {
    "kernel": "Python 3 (ipykernel)",
    "tags": []
   },
   "outputs": [
    {
     "name": "stdout",
     "output_type": "stream",
     "text": [
      "3\n"
     ]
    }
   ],
   "source": [
    "choice = 'c'\n",
    "if choice == 'a' :\n",
    "    x = 1\n",
    "elif choice == 'b' :\n",
    "    x = 2\n",
    "elif choice == 'c' :\n",
    "    x = 3\n",
    "else :\n",
    "    x = 4\n",
    "print(x)"
   ]
  },
  {
   "cell_type": "markdown",
   "id": "5ffa02a7-8b76-454e-b52e-11001f4fad49",
   "metadata": {
    "kernel": "SoS"
   },
   "source": [
    "<img src=\"./images/c++-icon.png\" width=50 height=50 align=\"left\"/>\n",
    "</br>\n",
    "</br>"
   ]
  },
  {
   "cell_type": "code",
   "execution_count": 4,
   "id": "ff90f8a3-b321-4ab9-81a0-0f3e155d86f8",
   "metadata": {
    "kernel": "C++17"
   },
   "outputs": [
    {
     "data": {
      "text/plain": []
     },
     "execution_count": 4,
     "metadata": {},
     "output_type": "execute_result"
    }
   ],
   "source": [
    "#include <iostream>"
   ]
  },
  {
   "cell_type": "code",
   "execution_count": 5,
   "id": "0be1fadf-279c-4078-b657-b15549a3de91",
   "metadata": {
    "kernel": "C++17"
   },
   "outputs": [
    {
     "name": "stdout",
     "output_type": "stream",
     "text": [
      "3\n"
     ]
    },
    {
     "data": {
      "text/plain": [
       "(std::basic_ostream<char, std::char_traits<char> >::__ostream_type &) @0x7f6ccf233480\n"
      ]
     },
     "execution_count": 5,
     "metadata": {},
     "output_type": "execute_result"
    }
   ],
   "source": [
    "char choice {'c'} ;\n",
    "int x;\n",
    "\n",
    "if(choice == 'a')\n",
    "{\n",
    "    x = 1;\n",
    "}\n",
    "else if(choice == 'b')\n",
    "{\n",
    "    x = 2;\n",
    "}\n",
    "else if(choice == 'c')\n",
    "{\n",
    "    x = 3;\n",
    "}\n",
    "else\n",
    "{\n",
    "    x = 4;\n",
    "}\n",
    "\n",
    "std::cout << x << std::endl;"
   ]
  },
  {
   "cell_type": "markdown",
   "id": "6658e39c-cbc0-4621-aee5-8d985fcc18c2",
   "metadata": {
    "kernel": "C++17"
   },
   "source": [
    "There is perhaps not a lot to say here really. But try compiling the seemingly\n",
    "equivalent c++ version shown below. "
   ]
  },
  {
   "cell_type": "markdown",
   "id": "24b179c8-8411-4894-8e65-15dd13cfc745",
   "metadata": {
    "kernel": "C++17"
   },
   "source": [
    "<img src=\"./images/bang.png\" width=50 height=50 align=\"left\"/>\n",
    "<img src=\"./images/c++-icon.png\" width=40 height=40 align=\"left\"/>\n",
    "</br>\n",
    "</br>"
   ]
  },
  {
   "cell_type": "markdown",
   "id": "b4edd223-60eb-42c7-94b2-6e406444404a",
   "metadata": {
    "kernel": "C++17"
   },
   "source": [
    "Restart the __c++__ kernel before running the next example."
   ]
  },
  {
   "cell_type": "markdown",
   "id": "3c918d8a-fa56-45ca-b6f7-c632bcb981ac",
   "metadata": {
    "kernel": "C++17"
   },
   "source": [
    "### Example 2"
   ]
  },
  {
   "cell_type": "code",
   "execution_count": 1,
   "id": "cb360da9-dc52-4a59-a8a4-b65dc59b0984",
   "metadata": {
    "kernel": "C++17"
   },
   "outputs": [
    {
     "data": {
      "text/plain": []
     },
     "execution_count": 1,
     "metadata": {},
     "output_type": "execute_result"
    }
   ],
   "source": [
    "#include <iostream>"
   ]
  },
  {
   "cell_type": "code",
   "execution_count": 2,
   "id": "69c933b6-dc84-4973-9179-a52c713fa70b",
   "metadata": {
    "kernel": "C++17"
   },
   "outputs": [
    {
     "name": "stdout",
     "output_type": "stream",
     "text": [
      "0\n"
     ]
    },
    {
     "data": {
      "text/plain": [
       "(std::basic_ostream<char, std::char_traits<char> >::__ostream_type &) @0x7fee84f55480\n"
      ]
     },
     "execution_count": 2,
     "metadata": {},
     "output_type": "execute_result"
    }
   ],
   "source": [
    "char choice {'c'} ;\n",
    "int x;\n",
    "\n",
    "if(choice == 'a')\n",
    "{\n",
    "    int x {1};\n",
    "}\n",
    "else if(choice == 'b')\n",
    "{\n",
    "    int x {2};\n",
    "}\n",
    "else if(choice == 'c')\n",
    "{\n",
    "    int x {3};\n",
    "}\n",
    "else\n",
    "{\n",
    "    int x {4};\n",
    "}\n",
    "\n",
    "std::cout << x << std::endl;"
   ]
  },
  {
   "cell_type": "markdown",
   "id": "0d806e25-9a76-43da-94ae-a56d44bd63f3",
   "metadata": {
    "kernel": "C++17"
   },
   "source": [
    "### Exercise 1"
   ]
  },
  {
   "cell_type": "markdown",
   "id": "3f725588-fe2f-45f3-a020-f95a02986073",
   "metadata": {
    "kernel": "C++17"
   },
   "source": [
    "Explain the out put of the previous program."
   ]
  },
  {
   "cell_type": "markdown",
   "id": "588f18c4-f123-4c4b-9e2c-de9fb874805e",
   "metadata": {
    "kernel": "C++17"
   },
   "source": [
    "### Exercise 2"
   ]
  },
  {
   "cell_type": "markdown",
   "id": "fc823047-6eda-4a7c-8a4c-d5bc8bf70bd1",
   "metadata": {
    "kernel": "C++17"
   },
   "source": [
    "What happens if you remove the \n",
    "\n",
    "int x\n",
    "\n",
    "at the top of the program ?"
   ]
  },
  {
   "cell_type": "markdown",
   "id": "97defb1b-82a7-442a-804c-a483d89215ee",
   "metadata": {
    "kernel": "C++17"
   },
   "source": [
    "### Exercise 3"
   ]
  },
  {
   "cell_type": "markdown",
   "id": "aacf09be-d5b0-4608-b4bd-510fb38ef5ee",
   "metadata": {
    "kernel": "C++17"
   },
   "source": [
    "<img src=\"./images/bang.png\" width=50 height=50 align=\"left\"/>\n",
    "<img src=\"./images/c++-icon.png\" width=40 height=40 align=\"left\"/>\n",
    "</br>\n",
    "</br>"
   ]
  },
  {
   "cell_type": "markdown",
   "id": "91382634-616d-4599-931f-f3d339e0c127",
   "metadata": {
    "kernel": "C++17"
   },
   "source": [
    "Restart the __c++__ kernel before running the exercise."
   ]
  },
  {
   "cell_type": "markdown",
   "id": "6a3d65a4-2b77-4766-aa4a-ec7c60268890",
   "metadata": {
    "kernel": "C++17"
   },
   "source": [
    "Predict the output of the following code."
   ]
  },
  {
   "cell_type": "code",
   "execution_count": 1,
   "id": "081dd061-d49c-4dd1-b7a7-5da44abf597d",
   "metadata": {
    "kernel": "C++17"
   },
   "outputs": [
    {
     "data": {
      "text/plain": []
     },
     "execution_count": 1,
     "metadata": {},
     "output_type": "execute_result"
    }
   ],
   "source": [
    "#include <iostream>"
   ]
  },
  {
   "cell_type": "code",
   "execution_count": null,
   "id": "d1bb8b9a-4665-40e1-87d0-c16ed9b8e71c",
   "metadata": {
    "kernel": "C++17"
   },
   "outputs": [],
   "source": [
    "int y {1};\n",
    "std::cout << y << std::endl;\n",
    "{\n",
    "    y = 2;\n",
    "    std::cout << y << std::endl;\n",
    "    {\n",
    "        int y {3};\n",
    "        std::cout << y << std::endl;\n",
    "    }\n",
    "    std::cout << y << std::endl; \n",
    "}\n",
    "std::cout << y << std::endl;\n",
    "{            \n",
    "    int y {4};\n",
    "    std::cout << y << std::endl;\n",
    "    {\n",
    "        std::cout << y << std::endl;\n",
    "        int y {5};\n",
    "        {\n",
    "            std::cout << y << std::endl;\n",
    "            y = 6;\n",
    "            std::cout << y << std::endl;           \n",
    "        }\n",
    "        std::cout << y << std::endl;            \n",
    "    }\n",
    "    std::cout << y << std::endl;\n",
    "}\n",
    "std::cout << y << std::endl;        "
   ]
  },
  {
   "cell_type": "markdown",
   "id": "7e5682eb-b95d-492e-aea1-038ba57b0bca",
   "metadata": {
    "kernel": "C++17"
   },
   "source": [
    "## switch conditional structure"
   ]
  },
  {
   "cell_type": "markdown",
   "id": "db981832-3868-4baf-8a8a-5e0129febf24",
   "metadata": {
    "kernel": "C++17"
   },
   "source": [
    "### Example 3"
   ]
  },
  {
   "cell_type": "markdown",
   "id": "d97cb136-1d96-42ff-bbf5-3ac9322d3f08",
   "metadata": {
    "kernel": "C++17"
   },
   "source": [
    "<img src=\"./images/bang.png\" width=50 height=50 align=\"left\"/>\n",
    "<img src=\"./images/python-icon.jpeg\" width=40 height=40 align=\"left\"/>\n",
    "</br>\n",
    "</br>"
   ]
  },
  {
   "cell_type": "markdown",
   "id": "3813d168-2b26-4d1a-a880-44f43bfbc16c",
   "metadata": {
    "kernel": "C++17"
   },
   "source": [
    "This example will only work with python versions from 3.10.0"
   ]
  },
  {
   "cell_type": "code",
   "execution_count": null,
   "id": "cc3b3cb3-34ef-4b41-bb76-89a5414124de",
   "metadata": {
    "kernel": "Python 3 (ipykernel)",
    "tags": []
   },
   "outputs": [],
   "source": [
    "def f(x):\n",
    "    match x:\n",
    "        case 'a' :\n",
    "            return 1\n",
    "        case 'b' :\n",
    "            return 2\n",
    "        case _ :        \n",
    "            return 0   # 0 is the default case if x is not found"
   ]
  },
  {
   "cell_type": "code",
   "execution_count": null,
   "id": "5de9a32e-0b11-4c34-be67-2cdd0ba2eaa1",
   "metadata": {
    "kernel": "Python 3 (ipykernel)"
   },
   "outputs": [],
   "source": [
    "print(f(2))"
   ]
  },
  {
   "cell_type": "markdown",
   "id": "1f9e541b-6c38-4060-bb0e-5ad339480171",
   "metadata": {
    "kernel": "C++17"
   },
   "source": [
    "<img src=\"./images/bang.png\" width=50 height=50 align=\"left\"/>\n",
    "<img src=\"./images/c++-icon.png\" width=40 height=40 align=\"left\"/>\n",
    "</br>\n",
    "</br>"
   ]
  },
  {
   "cell_type": "markdown",
   "id": "36a9a6b2-df05-475e-8a1e-df38b6899631",
   "metadata": {
    "kernel": "C++17"
   },
   "source": [
    "Restart the __c++__ kernel before running the exercise."
   ]
  },
  {
   "cell_type": "code",
   "execution_count": 1,
   "id": "652c5a91-4f44-4c0d-ae5a-c2574e30340a",
   "metadata": {
    "kernel": "C++17"
   },
   "outputs": [
    {
     "data": {
      "text/plain": []
     },
     "execution_count": 1,
     "metadata": {},
     "output_type": "execute_result"
    }
   ],
   "source": [
    "#include <iostream>"
   ]
  },
  {
   "cell_type": "code",
   "execution_count": 2,
   "id": "967ebbd3-ef78-4e4e-a5f8-b6ebed1a0ce0",
   "metadata": {
    "kernel": "C++17"
   },
   "outputs": [
    {
     "name": "stdout",
     "output_type": "stream",
     "text": [
      "2\n"
     ]
    },
    {
     "data": {
      "text/plain": [
       "(std::basic_ostream<char, std::char_traits<char> >::__ostream_type &) @0x7fb071866480\n"
      ]
     },
     "execution_count": 2,
     "metadata": {},
     "output_type": "execute_result"
    }
   ],
   "source": [
    "char choice {'b'};\n",
    "int x ;\n",
    "\n",
    "switch (choice)\n",
    "{\n",
    "    case 'a' :\n",
    "        x = 1;\n",
    "        break;\n",
    "    case 'b' :\n",
    "        x = 2;\n",
    "        break ;\n",
    "    default :\n",
    "        x = 0;\n",
    "}\n",
    "\n",
    "std::cout << x << std::endl;"
   ]
  }
 ],
 "metadata": {
  "kernelspec": {
   "display_name": "C++17",
   "language": "C++",
   "name": "cling-cpp17"
  },
  "language_info": {
   "codemirror_mode": "c++",
   "file_extension": ".c++",
   "mimetype": "text/x-c++src",
   "name": "c++"
  },
  "sos": {
   "kernels": [
    [
     "C++17",
     "cling-cpp17",
     "C++",
     "",
     "c++"
    ],
    [
     "Python 3 (ipykernel)",
     "python3",
     "python3",
     "",
     {
      "name": "ipython",
      "version": 3
     }
    ]
   ],
   "panel": {
    "displayed": true,
    "height": 0
   },
   "version": "0.23.4"
  }
 },
 "nbformat": 4,
 "nbformat_minor": 5
}
