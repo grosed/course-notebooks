{
 "cells": [
  {
   "cell_type": "markdown",
   "id": "2e3e5ca1-1fd1-40ae-ab87-0ead831072f1",
   "metadata": {
    "tags": []
   },
   "source": [
    "# Operators"
   ]
  },
  {
   "cell_type": "markdown",
   "id": "c92e8c1d-fa06-48bc-a353-af44f8ab261d",
   "metadata": {},
   "source": [
    "Variables can combined together and operated on using operators. Opera-\n",
    "tors are just functions. c++, like python, has a number of built in operators."
   ]
  },
  {
   "cell_type": "markdown",
   "id": "030bc685-24e7-4fc1-b2e8-3c918426adb7",
   "metadata": {},
   "source": [
    "## Python operators"
   ]
  },
  {
   "cell_type": "markdown",
   "id": "9a87d5b4-8495-4111-8fb3-a5e58a5e5212",
   "metadata": {},
   "source": [
    "Here are the python operators"
   ]
  },
  {
   "cell_type": "markdown",
   "id": "29902054-ebd0-4dfe-95e7-7631a2308e6d",
   "metadata": {},
   "source": [
    "<img src=\"./../images/python-icon.jpeg\" width=50 height=50 align=\"left\"/>"
   ]
  },
  {
   "cell_type": "markdown",
   "id": "8a09e76b-1d0d-43dc-bc6f-00be65a1767f",
   "metadata": {},
   "source": [
    "$+$ &nbsp; $-$ &nbsp;  $*$ &nbsp; $/$ &nbsp; $%$ &nbsp; $//$ &nbsp; $**$ &nbsp; $>$ &nbsp; $<$ &nbsp; $==$ &nbsp; $!=$ &nbsp; $>=$ &nbsp; $<=$ &nbsp; and \\\n",
    "or &nbsp; not &nbsp; $\\&$ &nbsp; $|$ &nbsp; $~$ ^  &nbsp; $>>$ &nbsp; $<<$ &nbsp; $=$ &nbsp; $+=$ &nbsp; $-=$ &nbsp; $*=$ &nbsp; $/=$ &nbsp; \\\n",
    "$%=$ &nbsp; $//=$ &nbsp; $**=$ &nbsp; $\\&=$ &nbsp; $|=$ &nbsp; $^=$ &nbsp; $>>=$ &nbsp; $<<=$ &nbsp; is &nbsp; in \\\n",
    "is &nbsp; not\n"
   ]
  },
  {
   "cell_type": "markdown",
   "id": "0721668b-9d8e-4b2f-913f-c55a340c09b0",
   "metadata": {},
   "source": [
    "## c++ operators"
   ]
  },
  {
   "cell_type": "markdown",
   "id": "d50895e9-d446-436d-8954-89e6474b7981",
   "metadata": {},
   "source": [
    "Here a the __c++__ operators."
   ]
  },
  {
   "cell_type": "markdown",
   "id": "a7834360-9e9c-4193-9e9c-7fe2f637c491",
   "metadata": {},
   "source": [
    "<img src=\"./../images/c++-icon.png\" width=50 height=50 align=\"left\"/>"
   ]
  },
  {
   "cell_type": "markdown",
   "id": "17fcbd5f-d78a-4c56-a35a-f52ee784b0b1",
   "metadata": {},
   "source": [
    "$+$ &nbsp; $-$ &nbsp; $*$ &nbsp; $/$ &nbsp; $+=$ &nbsp; $-=$ &nbsp; $*=$ &nbsp; $/=$ &nbsp; $=$ &nbsp; $==$ &nbsp; $!=$ &nbsp; $\\&=$ &nbsp;$|=$ &nbsp; $%=$ &nbsp; $^=$ &nbsp; $,$ \\\n",
    "$::$ &nbsp; $\\&$ &nbsp; $\\&\\&$ &nbsp; $|$ &nbsp; $||$ &nbsp; $~$ ^ &nbsp; $<$ &nbsp; $<=$ &nbsp; $>$ &nbsp; $>=$ &nbsp; $<<$ &nbsp; $>>$ &nbsp; $%$ &nbsp; $++$ &nbsp; $--$"
   ]
  },
  {
   "cell_type": "markdown",
   "id": "23247732-596c-4ea8-91fe-1830548a4a7a",
   "metadata": {},
   "source": [
    "Some of these operators are unary (takes a value, returns a new value), some\n",
    "are binary (takes two values, returns a new value). Which ones are which ?\n",
    "c++ also has the ternary operator ? :."
   ]
  },
  {
   "cell_type": "markdown",
   "id": "ded93a72-2d5e-436b-b414-1e6feb0547c3",
   "metadata": {},
   "source": [
    "#### Exercise 1"
   ]
  },
  {
   "cell_type": "markdown",
   "id": "9907d93a-2227-450d-80d8-414384399aeb",
   "metadata": {},
   "source": [
    "Start a new __sos__ kernel and write a __python__ program and corresponding __c++__ program to explore what\n",
    "the operators do. Use your programs to find out which operators are _binary_\n",
    "and which are _unary_. Operators can be _right or left associative_. What does\n",
    "this mean ? Find a _right associative_ __c++__ operator. Find a _left associative_\n",
    "__c++__ operator. What happens if you mix the type of the variables in __c++__\n",
    "operators ?"
   ]
  }
 ],
 "metadata": {
  "kernelspec": {
   "display_name": "Python 3 (ipykernel)",
   "language": "python",
   "name": "python3"
  },
  "language_info": {
   "codemirror_mode": {
    "name": "ipython",
    "version": 3
   },
   "file_extension": ".py",
   "mimetype": "text/x-python",
   "name": "python",
   "nbconvert_exporter": "python",
   "pygments_lexer": "ipython3",
   "version": "3.9.9"
  }
 },
 "nbformat": 4,
 "nbformat_minor": 5
}
