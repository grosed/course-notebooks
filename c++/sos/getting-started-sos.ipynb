{
 "cells": [
  {
   "cell_type": "markdown",
   "id": "43048461",
   "metadata": {
    "kernel": "SoS"
   },
   "source": [
    "# Getting Started"
   ]
  },
  {
   "cell_type": "markdown",
   "id": "8a051541",
   "metadata": {
    "kernel": "SoS"
   },
   "source": [
    "## Hello World !!"
   ]
  },
  {
   "cell_type": "markdown",
   "id": "b077c89b",
   "metadata": {
    "kernel": "SoS"
   },
   "source": [
    "Here is an example of the ubiquitous \"hello world\" programme. First up - python.  "
   ]
  },
  {
   "cell_type": "markdown",
   "id": "73ad339b",
   "metadata": {
    "kernel": "SoS"
   },
   "source": [
    "#### Example 1 - Hello World"
   ]
  },
  {
   "cell_type": "markdown",
   "id": "c849966b",
   "metadata": {
    "kernel": "SoS"
   },
   "source": [
    "<img src=\"./../images/python-icon.jpeg\" width=50 height=50 align=\"left\"/>"
   ]
  },
  {
   "cell_type": "code",
   "execution_count": 8,
   "id": "08a212bd",
   "metadata": {
    "kernel": "Python 3 (ipykernel)"
   },
   "outputs": [
    {
     "name": "stdout",
     "output_type": "stream",
     "text": [
      "hello world\n"
     ]
    }
   ],
   "source": [
    "print(\"hello world\")"
   ]
  },
  {
   "cell_type": "markdown",
   "id": "7bad1cde",
   "metadata": {
    "kernel": "Python 3 (ipykernel)"
   },
   "source": [
    "<img src=\"./../images/c++-icon.png\" width=50 height=50 align=\"left\"/>"
   ]
  },
  {
   "cell_type": "code",
   "execution_count": 2,
   "id": "f7e5a5be",
   "metadata": {
    "kernel": "C++17"
   },
   "outputs": [
    {
     "data": {
      "text/plain": []
     },
     "execution_count": 2,
     "metadata": {},
     "output_type": "execute_result"
    }
   ],
   "source": [
    "#include <iostream>"
   ]
  },
  {
   "cell_type": "code",
   "execution_count": 3,
   "id": "24e82e1f",
   "metadata": {
    "kernel": "C++17"
   },
   "outputs": [
    {
     "name": "stdout",
     "output_type": "stream",
     "text": [
      "hello world << std::endl;"
     ]
    },
    {
     "data": {
      "text/plain": [
       "(std::basic_ostream<char, std::char_traits<char> > &) @0x7f2259a0f480\n"
      ]
     },
     "execution_count": 3,
     "metadata": {},
     "output_type": "execute_result"
    }
   ],
   "source": [
    "std::cout << \"hello world << std::endl;\""
   ]
  },
  {
   "cell_type": "markdown",
   "id": "54c33b70",
   "metadata": {
    "kernel": "C++17"
   },
   "source": [
    "Clearly, the python version is much more concise than the c++ version !!\n",
    "So, what is all that extra code in the c++ version doing ? Consider the code \n",
    "\n",
    "std::cout << \"hello world << std::endl;\"\n",
    "\n",
    "first.\n",
    "\n",
    "The std::cout statement directs the message to the console and the std::endl\n",
    "creates a newline. The << between these statements is a stream opera-\n",
    "tor. Streams are the c++ way of sequencing data to and from inputs and\n",
    "outputs. The inputs and outputs could be things like a console, a file, or a\n",
    "string. The syntax may seem a bit weird at first, but its benefits will become\n",
    "clearer the more you use it, and it also provides a uniform way of sending\n",
    "and receiving data to different things. There are some similarities between\n",
    "streams in c++ and pipes in Unix. \n",
    "\n",
    "To be able to use streams to output to the console you have to include the library code that makes it happen. This is done by using the #include directive which appears in the first first cell i.e.\n",
    "\n",
    "#include <iostream>\n",
    "\n",
    "The name of the library code to be included is iostream and this is placed between angle brackets. Including libraries containing \n",
    "additional code in this way is similar to using import in python.\n",
    "\n",
    "\n",
    "Notice that in c++ most lines are terminated using a ;. This is the way that\n",
    "the c++ system determines when a line of code has ended. You do not need\n",
    "to have just the right amount of spaces and tabs as in python. This means\n",
    "you are free to the lay the code out in a way that suits you. Be careful, you\n",
    "can very easily make the whole thing look like a big plate of spaghetti. Try\n",
    "and adopt some sensible way of laying out your code and use it consistently.\n",
    "Have a look for some examples of c++ code on the internet to find some\n",
    "examples of how experienced c++ programmers choose to organise their\n",
    "code.\n"
   ]
  },
  {
   "cell_type": "markdown",
   "id": "c4cc5abb",
   "metadata": {
    "kernel": "C++17"
   },
   "source": [
    "<img src=\"./../images/bang.png\" width=50 height=50 align=\"left\"/>\n",
    "<img src=\"./../images/sos.png\" width=40 height=40 align=\"left\"/>"
   ]
  },
  {
   "cell_type": "markdown",
   "id": "7187d59c",
   "metadata": {
    "kernel": "C++17"
   },
   "source": [
    "When using __c++__ within __jupyter sos__ the \n",
    "\n",
    "#include \n",
    "\n",
    "must be in a cell on its own."
   ]
  },
  {
   "cell_type": "markdown",
   "id": "8cec9254",
   "metadata": {
    "kernel": "C++17"
   },
   "source": [
    "### Adding comments "
   ]
  },
  {
   "cell_type": "markdown",
   "id": "ec1a2d6f",
   "metadata": {
    "kernel": "C++17"
   },
   "source": [
    "#### Example 2 - adding comments"
   ]
  },
  {
   "cell_type": "markdown",
   "id": "5e06a76a",
   "metadata": {
    "kernel": "SoS"
   },
   "source": [
    "<img src=\"./../images/python-icon.jpeg\" width=50 height=50 align=\"left\"/>"
   ]
  },
  {
   "cell_type": "code",
   "execution_count": 6,
   "id": "32523cfb",
   "metadata": {
    "kernel": "Python 3 (ipykernel)"
   },
   "outputs": [
    {
     "name": "stdout",
     "output_type": "stream",
     "text": [
      "hello world\n"
     ]
    }
   ],
   "source": [
    "# this is a comment\n",
    "print(\"hello world\")"
   ]
  },
  {
   "cell_type": "markdown",
   "id": "0a8d0c76",
   "metadata": {
    "kernel": "Python 3 (ipykernel)"
   },
   "source": [
    "<img src=\"./../images/c++-icon.png\" width=50 height=50 align=\"left\"/>"
   ]
  },
  {
   "cell_type": "code",
   "execution_count": 7,
   "id": "daf36671",
   "metadata": {
    "kernel": "C++17"
   },
   "outputs": [
    {
     "name": "stdout",
     "output_type": "stream",
     "text": [
      "hello world << std::endl;"
     ]
    },
    {
     "data": {
      "text/plain": [
       "(std::basic_ostream<char, std::char_traits<char> > &) @0x7f2259a0f480\n"
      ]
     },
     "execution_count": 7,
     "metadata": {},
     "output_type": "execute_result"
    }
   ],
   "source": [
    "// this is a comment\n",
    "std::cout << \"hello world << std::endl;\"\n",
    "/* \n",
    "this is a \n",
    "group of\n",
    "comments\n",
    "*/"
   ]
  }
 ],
 "metadata": {
  "kernelspec": {
   "display_name": "SoS",
   "language": "sos",
   "name": "sos"
  },
  "language_info": {
   "codemirror_mode": "sos",
   "file_extension": ".sos",
   "mimetype": "text/x-sos",
   "name": "sos",
   "nbconvert_exporter": "sos_notebook.converter.SoS_Exporter",
   "pygments_lexer": "sos"
  },
  "sos": {
   "kernels": [
    [
     "C++17",
     "cling-cpp17",
     "C++",
     "",
     "c++"
    ],
    [
     "Python 3 (ipykernel)",
     "python3",
     "python3",
     "",
     {
      "name": "ipython",
      "version": 3
     }
    ]
   ],
   "panel": {
    "displayed": true,
    "height": 0
   },
   "version": "0.22.9"
  }
 },
 "nbformat": 4,
 "nbformat_minor": 5
}
