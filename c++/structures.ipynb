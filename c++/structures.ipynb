{
 "cells": [
  {
   "cell_type": "markdown",
   "id": "92c41849",
   "metadata": {},
   "source": [
    "# Structures"
   ]
  },
  {
   "cell_type": "markdown",
   "id": "05b8ef32",
   "metadata": {},
   "source": [
    "## Background"
   ]
  },
  {
   "cell_type": "markdown",
   "id": "f2db078c",
   "metadata": {},
   "source": [
    "Python has classes. They can be used to combine existing data structres into new ones by combining them and/or adding algorithms associated with them."
   ]
  },
  {
   "cell_type": "markdown",
   "id": "6970a49a",
   "metadata": {},
   "source": [
    "<img src=\"./images/python-icon.jpeg\" width=50 height=50 align=\"left\"/>\n",
    "</br>\n",
    "</br>"
   ]
  },
  {
   "cell_type": "markdown",
   "id": "4ecb9e3c",
   "metadata": {},
   "source": [
    "### Example 1 - Points in the plane"
   ]
  },
  {
   "cell_type": "code",
   "execution_count": 2,
   "id": "0a4ce3cc",
   "metadata": {},
   "outputs": [],
   "source": [
    "class Point :\n",
    "    x = None\n",
    "    y = None"
   ]
  },
  {
   "cell_type": "code",
   "execution_count": 5,
   "id": "eacc70fe",
   "metadata": {},
   "outputs": [
    {
     "name": "stdout",
     "output_type": "stream",
     "text": [
      "( 1.1 , 3.14 )\n"
     ]
    }
   ],
   "source": [
    "p1 = Point\n",
    "p1.x = 1.1\n",
    "p1.y = 3.14\n",
    "print(\"(\",p1.x,\",\",p1.y,\")\")"
   ]
  },
  {
   "cell_type": "markdown",
   "id": "f39662cf",
   "metadata": {},
   "source": [
    "<img src=\"./images/c++-icon.png\" width=50 height=50 align=\"left\"/>\n",
    "</br>\n",
    "</br>"
   ]
  },
  {
   "cell_type": "code",
   "execution_count": 1,
   "id": "73827150",
   "metadata": {},
   "outputs": [
    {
     "data": {
      "text/plain": []
     },
     "execution_count": 1,
     "metadata": {},
     "output_type": "execute_result"
    }
   ],
   "source": [
    "#include <iostream>"
   ]
  },
  {
   "cell_type": "code",
   "execution_count": 2,
   "id": "c2d3e1f0",
   "metadata": {},
   "outputs": [
    {
     "data": {
      "text/plain": []
     },
     "execution_count": 2,
     "metadata": {},
     "output_type": "execute_result"
    }
   ],
   "source": [
    "struct Point\n",
    "{\n",
    "    double x;\n",
    "    double y;\n",
    "};"
   ]
  },
  {
   "cell_type": "code",
   "execution_count": 3,
   "id": "b0237d20",
   "metadata": {},
   "outputs": [
    {
     "name": "stdout",
     "output_type": "stream",
     "text": [
      "(1.1,3.9)\n"
     ]
    },
    {
     "data": {
      "text/plain": [
       "(std::basic_ostream<char, std::char_traits<char> >::__ostream_type &) @0x7f005c3fd540\n"
      ]
     },
     "execution_count": 3,
     "metadata": {},
     "output_type": "execute_result"
    }
   ],
   "source": [
    "Point p1;\n",
    "p1.x = 1.1;\n",
    "p1.y = 3.9;\n",
    "std::cout << \"(\" << p1.x << \",\" << p1.y << \")\" << std::endl;"
   ]
  },
  {
   "cell_type": "markdown",
   "id": "d90007af",
   "metadata": {},
   "source": [
    "## Constructors"
   ]
  },
  {
   "cell_type": "markdown",
   "id": "ebed9283",
   "metadata": {},
   "source": [
    "### Example 2"
   ]
  },
  {
   "cell_type": "markdown",
   "id": "d9d40085",
   "metadata": {},
   "source": [
    "<img src=\"./images/python-icon.jpeg\" width=50 height=50 align=\"left\"/>\n",
    "</br>\n",
    "</br>"
   ]
  },
  {
   "cell_type": "code",
   "execution_count": 6,
   "id": "2f93f2bb",
   "metadata": {},
   "outputs": [],
   "source": [
    "class Point :\n",
    "    x = None\n",
    "    y = None\n",
    "    def __init__(self,_x,_y) :\n",
    "        self.x = _x\n",
    "        self.y = _y"
   ]
  },
  {
   "cell_type": "code",
   "execution_count": 7,
   "id": "807e2360",
   "metadata": {},
   "outputs": [
    {
     "name": "stdout",
     "output_type": "stream",
     "text": [
      "( 1.1 , 3.9 )\n"
     ]
    }
   ],
   "source": [
    "p1 = Point(1.1,3.9);\n",
    "print(\"(\",p1.x,\",\",p1.y,\")\")"
   ]
  },
  {
   "cell_type": "markdown",
   "id": "db07b8a6",
   "metadata": {},
   "source": [
    "<img src=\"./images/c++-icon.png\" width=50 height=50 align=\"left\"/>\n",
    "</br>\n",
    "</br>"
   ]
  },
  {
   "cell_type": "markdown",
   "id": "a162d8ad",
   "metadata": {},
   "source": [
    "<img src=\"./images/bang.png\" width=50 height=50 align=\"left\"/>\n",
    "</br>\n",
    "</br>\n",
    "You will probably need to restart the kernel to enable the following code will work.\n",
    "</br>"
   ]
  },
  {
   "cell_type": "code",
   "execution_count": 1,
   "id": "c5d23c61",
   "metadata": {},
   "outputs": [
    {
     "data": {
      "text/plain": []
     },
     "execution_count": 1,
     "metadata": {},
     "output_type": "execute_result"
    }
   ],
   "source": [
    "#include <iostream>"
   ]
  },
  {
   "cell_type": "code",
   "execution_count": 2,
   "id": "8d4ba922",
   "metadata": {},
   "outputs": [
    {
     "data": {
      "text/plain": []
     },
     "execution_count": 2,
     "metadata": {},
     "output_type": "execute_result"
    }
   ],
   "source": [
    "struct Point\n",
    "{\n",
    "    double x;\n",
    "    double y;\n",
    "    Point(double _x,double _y)\n",
    "    {\n",
    "        x = _x;\n",
    "        y = _y;   \n",
    "    }\n",
    "};\n",
    "\n"
   ]
  },
  {
   "cell_type": "code",
   "execution_count": 3,
   "id": "34fd3443",
   "metadata": {},
   "outputs": [
    {
     "name": "stdout",
     "output_type": "stream",
     "text": [
      "(1.1,3.9)\n"
     ]
    },
    {
     "data": {
      "text/plain": [
       "(std::basic_ostream<char, std::char_traits<char> >::__ostream_type &) @0x7fe299ffd540\n"
      ]
     },
     "execution_count": 3,
     "metadata": {},
     "output_type": "execute_result"
    }
   ],
   "source": [
    "Point p1(1.1,3.9);\n",
    "std::cout << \"(\" << p1.x << \",\" << p1.y << \")\" << std::endl;\n"
   ]
  },
  {
   "cell_type": "markdown",
   "id": "db7d06f4",
   "metadata": {},
   "source": [
    "## Functions"
   ]
  },
  {
   "cell_type": "markdown",
   "id": "b6723be1",
   "metadata": {},
   "source": [
    "### Example 3"
   ]
  },
  {
   "cell_type": "markdown",
   "id": "bca66b53",
   "metadata": {},
   "source": [
    "<img src=\"./images/python-icon.jpeg\" width=50 height=50 align=\"left\"/>\n",
    "</br>\n",
    "</br>"
   ]
  },
  {
   "cell_type": "code",
   "execution_count": 1,
   "id": "c871ba97",
   "metadata": {},
   "outputs": [],
   "source": [
    "class Point :\n",
    "    x = None\n",
    "    y = None\n",
    "    def __init__(self,_x,_y) :\n",
    "        self.x = _x\n",
    "        self.y = _y"
   ]
  },
  {
   "cell_type": "code",
   "execution_count": 2,
   "id": "73af63ec",
   "metadata": {},
   "outputs": [],
   "source": [
    "def add(a,b) :\n",
    "    return Point(a.x + b.x,a.y + b.y)"
   ]
  },
  {
   "cell_type": "code",
   "execution_count": 3,
   "id": "b83aa1a5",
   "metadata": {},
   "outputs": [
    {
     "name": "stdout",
     "output_type": "stream",
     "text": [
      "( 0.5000000000000001 , 6.6 )\n"
     ]
    }
   ],
   "source": [
    "p1 = Point(1.1,3.9);\n",
    "p2 = Point(-0.6,2.7);\n",
    "p3 = add(p1,p2)\n",
    "print(\"(\",p3.x,\",\",p3.y,\")\")"
   ]
  },
  {
   "cell_type": "markdown",
   "id": "fb8fd42e",
   "metadata": {},
   "source": [
    "<img src=\"./images/c++-icon.png\" width=50 height=50 align=\"left\"/>\n",
    "</br>\n",
    "</br>"
   ]
  },
  {
   "cell_type": "markdown",
   "id": "992abafe",
   "metadata": {},
   "source": [
    "<img src=\"./images/bang.png\" width=50 height=50 align=\"left\"/>\n",
    "</br>\n",
    "</br>\n",
    "You will probably need to restart the kernel to enable the following code will work.\n",
    "</br>"
   ]
  },
  {
   "cell_type": "code",
   "execution_count": 1,
   "id": "1696c9b2",
   "metadata": {},
   "outputs": [
    {
     "data": {
      "text/plain": []
     },
     "execution_count": 1,
     "metadata": {},
     "output_type": "execute_result"
    }
   ],
   "source": [
    "#include <iostream>"
   ]
  },
  {
   "cell_type": "code",
   "execution_count": 2,
   "id": "650d3055",
   "metadata": {},
   "outputs": [
    {
     "data": {
      "text/plain": []
     },
     "execution_count": 2,
     "metadata": {},
     "output_type": "execute_result"
    }
   ],
   "source": [
    "struct Point\n",
    "{\n",
    "    double x;\n",
    "    double y;   \n",
    "    Point(double _x = 0.0,double _y = 0.0)\n",
    "    {\n",
    "        x = _x;\n",
    "        y = _y;   \n",
    "    } \n",
    "};"
   ]
  },
  {
   "cell_type": "code",
   "execution_count": 3,
   "id": "4fe9625b",
   "metadata": {},
   "outputs": [
    {
     "data": {
      "text/plain": []
     },
     "execution_count": 3,
     "metadata": {},
     "output_type": "execute_result"
    }
   ],
   "source": [
    "Point add(Point a, Point b)\n",
    "{\n",
    "   Point c(a.x + b.x,a.y + b.y);\n",
    "   return c;\n",
    "}"
   ]
  },
  {
   "cell_type": "code",
   "execution_count": 4,
   "id": "ba241286",
   "metadata": {},
   "outputs": [
    {
     "name": "stdout",
     "output_type": "stream",
     "text": [
      "(4,6)\n"
     ]
    },
    {
     "data": {
      "text/plain": [
       "(std::basic_ostream<char, std::char_traits<char> >::__ostream_type &) @0x7fb0dcffd540\n"
      ]
     },
     "execution_count": 4,
     "metadata": {},
     "output_type": "execute_result"
    }
   ],
   "source": [
    "Point a(1,2);\n",
    "Point b(3,4);\n",
    "Point c = add(a,b);\n",
    "std::cout << \"(\" << c.x << \",\" << c.y << \")\" << std::endl;"
   ]
  },
  {
   "cell_type": "markdown",
   "id": "4d6fe3c9",
   "metadata": {},
   "source": [
    "## Member functions"
   ]
  },
  {
   "cell_type": "markdown",
   "id": "bc408f30",
   "metadata": {},
   "source": [
    "### Example 4"
   ]
  },
  {
   "cell_type": "markdown",
   "id": "eba40e9c",
   "metadata": {},
   "source": [
    "<img src=\"./images/python-icon.jpeg\" width=50 height=50 align=\"left\"/>\n",
    "</br>\n",
    "</br>"
   ]
  },
  {
   "cell_type": "code",
   "execution_count": 2,
   "id": "dab83c43",
   "metadata": {},
   "outputs": [],
   "source": [
    "class Point :\n",
    "    x = None\n",
    "    y = None\n",
    "    def __init__(self,_x,_y) :\n",
    "        self.x = _x\n",
    "        self.y = _y\n",
    "    def add(self,p) :\n",
    "        return Point(self.x + p.x,self.y + p.y)"
   ]
  },
  {
   "cell_type": "code",
   "execution_count": 3,
   "id": "d7ed4ac4",
   "metadata": {},
   "outputs": [
    {
     "name": "stdout",
     "output_type": "stream",
     "text": [
      "( 0.5000000000000001 , 6.6 )\n"
     ]
    }
   ],
   "source": [
    "p1 = Point(1.1,3.9);\n",
    "p2 = Point(-0.6,2.7);\n",
    "p3 = p1.add(p2)\n",
    "print(\"(\",p3.x,\",\",p3.y,\")\")"
   ]
  },
  {
   "cell_type": "markdown",
   "id": "5a8dc04a",
   "metadata": {},
   "source": [
    "<img src=\"./images/c++-icon.png\" width=50 height=50 align=\"left\"/>\n",
    "</br>\n",
    "</br>"
   ]
  },
  {
   "cell_type": "markdown",
   "id": "9385c3ee",
   "metadata": {},
   "source": [
    "<img src=\"./images/bang.png\" width=50 height=50 align=\"left\"/>\n",
    "</br>\n",
    "</br>\n",
    "You will probably need to restart the kernel to enable the following code will work.\n",
    "</br>"
   ]
  },
  {
   "cell_type": "code",
   "execution_count": 1,
   "id": "b1cc9ec3",
   "metadata": {},
   "outputs": [
    {
     "data": {
      "text/plain": []
     },
     "execution_count": 1,
     "metadata": {},
     "output_type": "execute_result"
    }
   ],
   "source": [
    "#include <iostream>"
   ]
  },
  {
   "cell_type": "code",
   "execution_count": 2,
   "id": "34ad2bae",
   "metadata": {},
   "outputs": [
    {
     "data": {
      "text/plain": []
     },
     "execution_count": 2,
     "metadata": {},
     "output_type": "execute_result"
    }
   ],
   "source": [
    "struct Point\n",
    "{\n",
    "    double x;\n",
    "    double y;\n",
    "    Point(double _x = 0.0,double _y = 0.0)\n",
    "    {\n",
    "        x = _x;\n",
    "        y = _y;   \n",
    "    } \n",
    "    Point add(Point p)\n",
    "    {\n",
    "        return Point(x + p.x,y + p.y);\n",
    "    }\n",
    "    \n",
    "    \n",
    "};"
   ]
  },
  {
   "cell_type": "code",
   "execution_count": 3,
   "id": "5ce2c406",
   "metadata": {},
   "outputs": [
    {
     "name": "stdout",
     "output_type": "stream",
     "text": [
      "4\n"
     ]
    },
    {
     "data": {
      "text/plain": [
       "(std::basic_ostream<char, std::char_traits<char> >::__ostream_type &) @0x7f54f75fd540\n"
      ]
     },
     "execution_count": 3,
     "metadata": {},
     "output_type": "execute_result"
    }
   ],
   "source": [
    "Point a(1,2);\n",
    "Point b(3,4);\n",
    "Point c = a.add(b);\n",
    "std::cout << c.x << std::endl;"
   ]
  },
  {
   "cell_type": "markdown",
   "id": "b1619586",
   "metadata": {},
   "source": [
    "### Example 5 - Overloaded operators"
   ]
  },
  {
   "cell_type": "markdown",
   "id": "bd142d15",
   "metadata": {},
   "source": [
    "<img src=\"./images/c++-icon.png\" width=50 height=50 align=\"left\"/>\n",
    "</br>\n",
    "</br>"
   ]
  },
  {
   "cell_type": "markdown",
   "id": "c2126a30",
   "metadata": {},
   "source": [
    "<img src=\"./images/bang.png\" width=50 height=50 align=\"left\"/>\n",
    "</br>\n",
    "</br>\n",
    "You will probably need to restart the kernel to enable the following code will work.\n",
    "</br>"
   ]
  },
  {
   "cell_type": "code",
   "execution_count": 1,
   "id": "550d01f0",
   "metadata": {},
   "outputs": [
    {
     "data": {
      "text/plain": []
     },
     "execution_count": 1,
     "metadata": {},
     "output_type": "execute_result"
    }
   ],
   "source": [
    "#include <iostream>"
   ]
  },
  {
   "cell_type": "code",
   "execution_count": 2,
   "id": "53be8b83",
   "metadata": {},
   "outputs": [
    {
     "data": {
      "text/plain": []
     },
     "execution_count": 2,
     "metadata": {},
     "output_type": "execute_result"
    }
   ],
   "source": [
    "struct Point\n",
    "{\n",
    "    double x;\n",
    "    double y;\n",
    "    Point(double _x = 0.0, double _y = 0.0)\n",
    "    {\n",
    "        x = _x;\n",
    "        y = _y;   \n",
    "    }\n",
    "    Point operator+(Point p)\n",
    "    {\n",
    "       return Point(x + p.x,y + p.y);\n",
    "    }\n",
    "};"
   ]
  },
  {
   "cell_type": "code",
   "execution_count": 3,
   "id": "77343e5c",
   "metadata": {},
   "outputs": [
    {
     "name": "stdout",
     "output_type": "stream",
     "text": [
      "4\n"
     ]
    },
    {
     "data": {
      "text/plain": [
       "(std::basic_ostream<char, std::char_traits<char> >::__ostream_type &) @0x7f10a31fd540\n"
      ]
     },
     "execution_count": 3,
     "metadata": {},
     "output_type": "execute_result"
    }
   ],
   "source": [
    "Point a(1,2);\n",
    "Point b(3,4);\n",
    "Point c = a + b;\n",
    "std::cout << c.x << std::endl;"
   ]
  },
  {
   "cell_type": "markdown",
   "id": "3b516d46",
   "metadata": {},
   "source": [
    "## Exercises"
   ]
  },
  {
   "cell_type": "markdown",
   "id": "6d01bc37",
   "metadata": {},
   "source": [
    "### Exercise 1\n",
    "\n",
    "Add a print member function to the Point structure."
   ]
  },
  {
   "cell_type": "markdown",
   "id": "c8028b3c",
   "metadata": {},
   "source": [
    "### Exercise 2\n",
    "\n",
    "Add an overloaded operator to the Point structure that finds the difference of two points. "
   ]
  },
  {
   "cell_type": "markdown",
   "id": "cbe4a850",
   "metadata": {},
   "source": [
    "### Exercise 3\n",
    "\n",
    "Add a member function to the Point structure that finds the Euclidean distance between two points. "
   ]
  },
  {
   "cell_type": "markdown",
   "id": "e02c185e",
   "metadata": {},
   "source": [
    "### Exercise 4\n",
    "\n",
    "Create a structure to represent a line segment in the plane. Add some useful member functions.\n"
   ]
  },
  {
   "cell_type": "markdown",
   "id": "8adcde0e",
   "metadata": {},
   "source": [
    "### Exercise 5\n",
    "\n",
    "Provide an outline of an algorithm that, given two line segments, determines if they cross or not."
   ]
  }
 ],
 "metadata": {
  "kernelspec": {
   "display_name": "C++17",
   "language": "C++",
   "name": "cling-cpp17"
  },
  "language_info": {
   "codemirror_mode": "c++",
   "file_extension": ".c++",
   "mimetype": "text/x-c++src",
   "name": "c++"
  }
 },
 "nbformat": 4,
 "nbformat_minor": 5
}
