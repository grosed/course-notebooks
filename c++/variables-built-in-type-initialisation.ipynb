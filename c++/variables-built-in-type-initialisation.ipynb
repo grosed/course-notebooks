{
 "cells": [
  {
   "cell_type": "markdown",
   "id": "a69fa0b0",
   "metadata": {
    "kernel": "SoS"
   },
   "source": [
    "# Variables, built in types and initialisation"
   ]
  },
  {
   "cell_type": "markdown",
   "id": "78425bcb",
   "metadata": {
    "kernel": "SoS"
   },
   "source": [
    "## Built in types"
   ]
  },
  {
   "cell_type": "markdown",
   "id": "05bcd58b",
   "metadata": {
    "kernel": "SoS"
   },
   "source": [
    "### Example 1 - assigning values to variables"
   ]
  },
  {
   "cell_type": "markdown",
   "id": "5e9cba63",
   "metadata": {
    "kernel": "SoS"
   },
   "source": [
    "<img src=\"./images/python-icon.jpeg\" width=50 height=50 align=\"left\"/>\n",
    "</br>\n",
    "</br>"
   ]
  },
  {
   "cell_type": "code",
   "execution_count": 1,
   "id": "7940c218",
   "metadata": {
    "kernel": "Python 3 (ipykernel)"
   },
   "outputs": [
    {
     "name": "stdout",
     "output_type": "stream",
     "text": [
      "3 3.14 X False\n",
      "3.14 3.14 X X\n"
     ]
    }
   ],
   "source": [
    "a = 3\n",
    "b = 3.14\n",
    "c = 'X'\n",
    "d = False\n",
    "print(a,b,c,d)\n",
    "a = b\n",
    "d = c\n",
    "print(a,b,c,d)"
   ]
  },
  {
   "cell_type": "markdown",
   "id": "4cf5f8e6",
   "metadata": {
    "kernel": "SoS"
   },
   "source": [
    "<img src=\"./images/c++-icon.png\" width=50 height=50 align=\"left\"/>\n",
    "</br>\n",
    "</br>"
   ]
  },
  {
   "cell_type": "code",
   "execution_count": 5,
   "id": "3a9b2a92",
   "metadata": {
    "kernel": "C++17"
   },
   "outputs": [
    {
     "data": {
      "text/plain": []
     },
     "execution_count": 5,
     "metadata": {},
     "output_type": "execute_result"
    }
   ],
   "source": [
    "#include <iostream>"
   ]
  },
  {
   "cell_type": "code",
   "execution_count": 7,
   "id": "a28e7676",
   "metadata": {
    "kernel": "C++17"
   },
   "outputs": [
    {
     "name": "stdout",
     "output_type": "stream",
     "text": [
      "3 3.14 X 0\n",
      "3 3.14 X 1\n"
     ]
    },
    {
     "data": {
      "text/plain": [
       "(std::basic_ostream<char, std::char_traits<char> >::__ostream_type &) @0x7f2922dfdb60\n"
      ]
     },
     "execution_count": 7,
     "metadata": {},
     "output_type": "execute_result"
    }
   ],
   "source": [
    "int a {3} ;\n",
    "double b {3.14};\n",
    "char c{'X'};\n",
    "bool d{false};\n",
    "std::cout << a << \" \" << b << \" \" << c << \" \" << d << std::endl;\n",
    "a = b;\n",
    "d = c;\n",
    "std::cout << a << \" \" << b << \" \" << c << \" \" << d << std::endl;"
   ]
  },
  {
   "cell_type": "markdown",
   "id": "fe45b611",
   "metadata": {
    "kernel": "C++17"
   },
   "source": [
    "### Exercise 1\n",
    "\n",
    "Assign c to b in both the __python__ and __c++__ code in example one and print their values. What would you expect to see ? What do you see ?"
   ]
  },
  {
   "cell_type": "markdown",
   "id": "09a9a18d",
   "metadata": {
    "kernel": "C++17"
   },
   "source": [
    "## c++ types"
   ]
  },
  {
   "cell_type": "markdown",
   "id": "67fb9d59",
   "metadata": {
    "kernel": "C++17"
   },
   "source": [
    "Both __python__ and __c++__ have a concept of type. However, in __python__, variables are just labels for a value, and the value has a type. In __c++__, the variables play a more important role, and it is the variable that carries the type information. The type of the variable instructs the __c++__ system how to interpret and manipulate the value it is associated with. Because of this, a variable has to be assigned a type and this occurs when the variable is declared. Note though, that a variable does not have to be associated with a value when it is declared."
   ]
  },
  {
   "cell_type": "markdown",
   "id": "efa6f340",
   "metadata": {
    "kernel": "C++17"
   },
   "source": [
    "### Example 2 - c++ types, declaration  and assignment"
   ]
  },
  {
   "cell_type": "code",
   "execution_count": 9,
   "id": "76421a6d",
   "metadata": {
    "kernel": "C++17"
   },
   "outputs": [
    {
     "name": "stdout",
     "output_type": "stream",
     "text": [
      "3.14\n",
      "88\n"
     ]
    },
    {
     "data": {
      "text/plain": [
       "(std::basic_ostream<char, std::char_traits<char> >::__ostream_type &) @0x7f2922dfdb60\n"
      ]
     },
     "execution_count": 9,
     "metadata": {},
     "output_type": "execute_result"
    }
   ],
   "source": [
    "double x;  // declaration\n",
    "x = 3.14;  // assignment\n",
    "std::cout << x << std::endl;\n",
    "x = c; \n",
    "std::cout << x << std::endl;"
   ]
  },
  {
   "cell_type": "markdown",
   "id": "bff5c046",
   "metadata": {
    "kernel": "C++17"
   },
   "source": [
    "<img src=\"./images/bang.png\" width=50 height=50 align=\"left\"/>\n",
    "<img src=\"./images/c++-icon.png\" width=40 height=40 align=\"left\"/>\n",
    "</br>\n",
    "</br>"
   ]
  },
  {
   "cell_type": "markdown",
   "id": "b5bd0cb7",
   "metadata": {
    "kernel": "C++17"
   },
   "source": [
    "Once a variable has been declared, it cannot be re-declared !!"
   ]
  },
  {
   "cell_type": "markdown",
   "id": "49f0ef88",
   "metadata": {
    "kernel": "C++17"
   },
   "source": [
    "### Example 3 - c++ variables cannot be re-declared"
   ]
  },
  {
   "cell_type": "markdown",
   "id": "f6a237b6",
   "metadata": {
    "kernel": "C++17"
   },
   "source": [
    "<img src=\"./images/c++-icon.png\" width=50 height=50 align=\"left\"/>\n",
    "<img src=\"./images/broken.png\" width=50 height=50 align=\"left\"/>\n",
    "</br>\n",
    "</br>"
   ]
  },
  {
   "cell_type": "code",
   "execution_count": 11,
   "id": "070399c4",
   "metadata": {
    "kernel": "C++17"
   },
   "outputs": [
    {
     "name": "stderr",
     "output_type": "stream",
     "text": [
      "input_line_8:2:6: error: redefinition of 'x' with a different type: 'int' vs 'double'\n",
      " int x;\n",
      "     ^\n",
      "input_line_7:2:9: note: previous definition is here\n",
      " double x;  // declaration\n",
      "        ^\n"
     ]
    },
    {
     "ename": "ename",
     "evalue": "evalue",
     "output_type": "error",
     "traceback": []
    }
   ],
   "source": [
    "int x;"
   ]
  },
  {
   "cell_type": "markdown",
   "id": "89461d96",
   "metadata": {
    "kernel": "C++17"
   },
   "source": [
    "<img src=\"./images/bang.png\" width=50 height=50 align=\"left\"/>\n",
    "<img src=\"./images/c++-icon.png\" width=40 height=40 align=\"left\"/>\n",
    "</br>\n",
    "</br>"
   ]
  },
  {
   "cell_type": "markdown",
   "id": "3bd045ee",
   "metadata": {
    "kernel": "C++17"
   },
   "source": [
    "If you want to use a previously declared __c++__ variable in a new cell you will need to restart the __c++__ kernel in __jupyter lab__. Note - it might take a few moments to reset !!  "
   ]
  },
  {
   "cell_type": "markdown",
   "id": "ec640553",
   "metadata": {
    "kernel": "C++17"
   },
   "source": [
    "As can be seen from example 1, __c++__ variables are initialised by providing a value enclosed in braces after the variable name. This is a modern\n",
    "way of doing initialisation, referred to as braced (or uniform) initialisation,\n",
    "and it has certain advantages over other approaches. The following example shows some alternative ways to initialise variables in __c++__. "
   ]
  },
  {
   "cell_type": "markdown",
   "id": "5147e74a",
   "metadata": {
    "kernel": "C++17"
   },
   "source": [
    "<img src=\"./images/bang.png\" width=50 height=50 align=\"left\"/>\n",
    "</br>\n",
    "</br>\n"
   ]
  },
  {
   "cell_type": "markdown",
   "id": "c5b9b88f",
   "metadata": {
    "kernel": "SoS"
   },
   "source": [
    "Make sure you reset the kernel before running the next example !!"
   ]
  },
  {
   "cell_type": "markdown",
   "id": "52d2f255",
   "metadata": {
    "kernel": "C++17"
   },
   "source": [
    "### Example 4 - different ways of initialising variables"
   ]
  },
  {
   "cell_type": "code",
   "execution_count": 4,
   "id": "17bf1da4",
   "metadata": {
    "kernel": "C++17"
   },
   "outputs": [
    {
     "data": {
      "text/plain": []
     },
     "execution_count": 4,
     "metadata": {},
     "output_type": "execute_result"
    }
   ],
   "source": [
    "int a = 3;\n",
    "double b(3.14);\n",
    "char c = {'X'};\n",
    "bool d {false};"
   ]
  },
  {
   "cell_type": "markdown",
   "id": "a7acab3d",
   "metadata": {
    "kernel": "C++17"
   },
   "source": [
    "Should you prefer the modern braces approach for initialisation ?  Compare the following two initialisations."
   ]
  },
  {
   "cell_type": "markdown",
   "id": "e40a570d",
   "metadata": {
    "kernel": "C++17"
   },
   "source": [
    "### Example 5 - warnings or errors - you choose "
   ]
  },
  {
   "cell_type": "code",
   "execution_count": 6,
   "id": "2331db49",
   "metadata": {
    "kernel": "C++17"
   },
   "outputs": [
    {
     "name": "stderr",
     "output_type": "stream",
     "text": [
      "input_line_4:2:10: warning: implicit conversion from 'double' to 'int' changes value from 3.14 to 3 [-Wliteral-conversion]\n",
      " int i = 3.14;\n",
      "     ~   ^~~~\n"
     ]
    },
    {
     "data": {
      "text/plain": []
     },
     "execution_count": 6,
     "metadata": {},
     "output_type": "execute_result"
    }
   ],
   "source": [
    "int i = 3.14;"
   ]
  },
  {
   "cell_type": "markdown",
   "id": "340c624a-c218-4b7a-be02-390c5e6a1563",
   "metadata": {
    "kernel": "C++17"
   },
   "source": [
    "<img src=\"./images/c++-icon.png\" width=50 height=50 align=\"left\"/>\n",
    "<img src=\"./images/broken.png\" width=50 height=50 align=\"left\"/>\n",
    "</br>\n",
    "</br>"
   ]
  },
  {
   "cell_type": "code",
   "execution_count": 8,
   "id": "8f86874b",
   "metadata": {
    "kernel": "C++17"
   },
   "outputs": [
    {
     "name": "stderr",
     "output_type": "stream",
     "text": [
      "input_line_5:2:9: error: type 'double' cannot be narrowed to 'int' in initializer list [-Wc++11-narrowing]\n",
      " int j {3.14};\n",
      "        ^~~~\n",
      "input_line_5:2:9: note: insert an explicit cast to silence this issue\n",
      " int j {3.14};\n",
      "        ^~~~\n",
      "        static_cast<int>( )\n",
      "input_line_5:2:9: warning: implicit conversion from 'double' to 'int' changes value from 3.14 to 3 [-Wliteral-conversion]\n",
      " int j {3.14};\n",
      "       ~^~~~\n"
     ]
    },
    {
     "ename": "ename",
     "evalue": "evalue",
     "output_type": "error",
     "traceback": []
    }
   ],
   "source": [
    "int j {3.14};"
   ]
  }
 ],
 "metadata": {
  "kernelspec": {
   "display_name": "SoS",
   "language": "sos",
   "name": "sos"
  },
  "language_info": {
   "codemirror_mode": "sos",
   "file_extension": ".sos",
   "mimetype": "text/x-sos",
   "name": "sos",
   "nbconvert_exporter": "sos_notebook.converter.SoS_Exporter",
   "pygments_lexer": "sos"
  },
  "sos": {
   "kernels": [
    [
     "C++17",
     "cling-cpp17",
     "C++",
     "",
     "c++"
    ],
    [
     "Python 3 (ipykernel)",
     "python3",
     "python3",
     "",
     {
      "name": "ipython",
      "version": 3
     }
    ]
   ],
   "panel": {
    "displayed": false,
    "height": 0
   },
   "version": "0.23.4"
  }
 },
 "nbformat": 4,
 "nbformat_minor": 5
}
