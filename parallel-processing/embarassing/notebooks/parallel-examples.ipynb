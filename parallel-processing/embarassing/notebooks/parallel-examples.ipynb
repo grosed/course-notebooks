{
 "cells": [
  {
   "cell_type": "code",
   "execution_count": 1,
   "id": "1b96370c",
   "metadata": {},
   "outputs": [],
   "source": [
    "import sys\n",
    "import time\n",
    "import datetime\n",
    "import os, psutil\n",
    "import multiprocessing as mp\n",
    "import numpy as np\n"
   ]
  },
  {
   "cell_type": "code",
   "execution_count": 3,
   "id": "4dfbcb40",
   "metadata": {},
   "outputs": [],
   "source": [
    "def sleep(t) :\n",
    "    print(sys.version)\n",
    "    \\g\n",
    "    print(\"zzzzzz\")\n",
    "    time.sleep(t)\n",
    "    print(\"hello - I slept for \",t,\" seconds\")\n",
    "    print(\"the time is now \",datetime.datetime.now())\n",
    "    \n",
    "    "
   ]
  },
  {
   "cell_type": "code",
   "execution_count": 4,
   "id": "e590f00d",
   "metadata": {},
   "outputs": [
    {
     "name": "stdout",
     "output_type": "stream",
     "text": [
      "3.9.9 (main, Nov 23 2021, 15:45:17) \n",
      "[GCC 9.3.0]\n",
      "the time is now  2023-01-31 14:54:31.631805\n",
      "zzzzzz\n",
      "hello - I slept for  10  seconds\n",
      "the time is now  2023-01-31 14:54:41.642213\n"
     ]
    }
   ],
   "source": [
    "sleep(10)"
   ]
  },
  {
   "cell_type": "code",
   "execution_count": 5,
   "id": "02de1846",
   "metadata": {},
   "outputs": [],
   "source": []
  },
  {
   "cell_type": "code",
   "execution_count": 7,
   "id": "28b495a3",
   "metadata": {},
   "outputs": [
    {
     "name": "stdout",
     "output_type": "stream",
     "text": [
      "3.9.9 (main, Nov 23 2021, 15:45:17) \n",
      "[GCC 9.3.0]3.9.9 (main, Nov 23 2021, 15:45:17) \n",
      "[GCC 9.3.0]3.9.9 (main, Nov 23 2021, 15:45:17) \n",
      "[GCC 9.3.0]3.9.9 (main, Nov 23 2021, 15:45:17) \n",
      "[GCC 9.3.0]\n",
      "\n",
      "\n",
      "\n",
      "the time is now the time is now the time is now the time is now     2023-01-31 14:57:29.4547132023-01-31 14:57:29.4545782023-01-31 14:57:29.4555312023-01-31 14:57:29.455262\n",
      "\n",
      "\n",
      "\n",
      "zzzzzzzzzzzzzzzzzzzzzzzz\n",
      "\n",
      "\n",
      "\n",
      "hello - I slept for  5  seconds\n",
      "the time is now  2023-01-31 14:57:34.473422\n",
      "hello - I slept for  10  seconds\n",
      "the time is now  2023-01-31 14:57:39.478525\n",
      "hello - I slept for  15  seconds\n",
      "the time is now  2023-01-31 14:57:44.481756\n",
      "hello - I slept for  20  seconds\n",
      "the time is now  2023-01-31 14:57:49.489029\n"
     ]
    }
   ],
   "source": [
    "pool = mp.Pool(4)\n",
    "pool.map(sleep,[5,10,15,20])\n",
    "pool.close()"
   ]
  },
  {
   "cell_type": "code",
   "execution_count": null,
   "id": "21650f4c",
   "metadata": {},
   "outputs": [],
   "source": []
  },
  {
   "cell_type": "code",
   "execution_count": 2,
   "id": "587c6296",
   "metadata": {},
   "outputs": [],
   "source": []
  },
  {
   "cell_type": "code",
   "execution_count": 2,
   "id": "aa36881b",
   "metadata": {},
   "outputs": [],
   "source": [
    "n = 5000\n",
    "X = np.random.random((n,n))"
   ]
  },
  {
   "cell_type": "code",
   "execution_count": 3,
   "id": "39d0fd07",
   "metadata": {},
   "outputs": [],
   "source": [
    "def invMat_v1(X) :    \n",
    "    return np.linalg.inv(X)\n",
    "    "
   ]
  },
  {
   "cell_type": "code",
   "execution_count": 5,
   "id": "abf4aba5",
   "metadata": {},
   "outputs": [
    {
     "data": {
      "text/plain": [
       "array([[-0.17930972,  0.22684635,  0.39296004, ...,  0.51062532,\n",
       "        -0.02377183, -0.08574888],\n",
       "       [ 0.11808611, -0.02311456,  0.00523318, ...,  0.15307069,\n",
       "         0.09891807,  0.12147033],\n",
       "       [ 0.13657946, -0.1159003 , -0.00154278, ..., -0.01447867,\n",
       "         0.02254838,  0.1307617 ],\n",
       "       ...,\n",
       "       [ 0.26074955, -0.50597868, -0.67359004, ..., -0.98525335,\n",
       "         0.08613389, -0.0804984 ],\n",
       "       [ 0.06637944, -0.00943635,  0.01971146, ...,  0.03841017,\n",
       "         0.08056409,  0.08190044],\n",
       "       [-0.07459214,  0.28768042,  0.52563817, ...,  0.7288294 ,\n",
       "        -0.02054172,  0.00251635]])"
      ]
     },
     "execution_count": 5,
     "metadata": {},
     "output_type": "execute_result"
    }
   ],
   "source": [
    "invMat_v1(X)"
   ]
  },
  {
   "cell_type": "code",
   "execution_count": 25,
   "id": "b66d8a3b",
   "metadata": {},
   "outputs": [],
   "source": [
    "def invMat_v2(X) :    \n",
    "    print(\"started at : \",datetime.datetime.now())\n",
    "    invX = np.linalg.inv(X)\n",
    "    print(\"finished at : \",datetime.datetime.now())\n",
    "    return invX"
   ]
  },
  {
   "cell_type": "code",
   "execution_count": 36,
   "id": "559afb02",
   "metadata": {},
   "outputs": [
    {
     "name": "stdout",
     "output_type": "stream",
     "text": [
      "started at :  2023-01-31 15:16:19.531359\n",
      "finished at :  2023-01-31 15:16:20.789674\n"
     ]
    }
   ],
   "source": [
    "result = invMat_v2(X)"
   ]
  },
  {
   "cell_type": "code",
   "execution_count": 44,
   "id": "607534b7",
   "metadata": {},
   "outputs": [],
   "source": [
    "def invMat_v3(X) :\n",
    "    process = psutil.Process(os.getpid())\n",
    "    print(\"process \",process.pid,\" started at : \",datetime.datetime.now())\n",
    "    invX = np.linalg.inv(X)\n",
    "    print(\"process \",process.pid,\" finished at : \",datetime.datetime.now())\n",
    "    return invX"
   ]
  },
  {
   "cell_type": "code",
   "execution_count": 41,
   "id": "6bd7bcff",
   "metadata": {},
   "outputs": [
    {
     "name": "stdout",
     "output_type": "stream",
     "text": [
      "process  309369  started at :  2023-01-31 15:21:40.936760\n",
      "process  309369  finished at :  2023-01-31 15:21:42.228922\n"
     ]
    }
   ],
   "source": [
    "result = invMat_v3(X)"
   ]
  },
  {
   "cell_type": "code",
   "execution_count": 45,
   "id": "1b244550",
   "metadata": {},
   "outputs": [],
   "source": [
    "def invMat_v4(X) :\n",
    "    process = psutil.Process(os.getpid())\n",
    "    print(\"process \",process.pid,\"using \",process.memory_info().rss,\" bytes started at : \",datetime.datetime.now())\n",
    "    invX = np.linalg.inv(X)\n",
    "    print(\"process \",process.pid,\"using \",process.memory_info().rss,\" bytes finished at : \",datetime.datetime.now())\n",
    "    return invX"
   ]
  },
  {
   "cell_type": "code",
   "execution_count": 46,
   "id": "b365ce39",
   "metadata": {},
   "outputs": [
    {
     "name": "stdout",
     "output_type": "stream",
     "text": [
      "process  309369 using  509079552  bytes started at :  2023-01-31 15:27:31.495981\n",
      "process  309369 using  709083136  bytes finished at :  2023-01-31 15:27:32.675908\n"
     ]
    }
   ],
   "source": [
    "result = invMat_v4(X)"
   ]
  },
  {
   "cell_type": "code",
   "execution_count": 56,
   "id": "ad397270",
   "metadata": {},
   "outputs": [],
   "source": [
    "def wrapper_v1(func,args) :\n",
    "    process = psutil.Process(os.getpid())\n",
    "    print(\"process \",process.pid,\"using \",process.memory_info().rss,\" bytes started at : \",datetime.datetime.now())\n",
    "    res = func(*args)\n",
    "    print(\"process \",process.pid,\"using \",process.memory_info().rss,\" bytes finished at : \",datetime.datetime.now())\n",
    "    return res"
   ]
  },
  {
   "cell_type": "code",
   "execution_count": 57,
   "id": "d2c6a82a",
   "metadata": {},
   "outputs": [
    {
     "name": "stdout",
     "output_type": "stream",
     "text": [
      "process  309369 using  909471744  bytes started at :  2023-01-31 15:35:03.520172\n",
      "process  309369 using  1109479424  bytes finished at :  2023-01-31 15:35:04.713664\n"
     ]
    },
    {
     "data": {
      "text/plain": [
       "array([[ 0.03034011,  0.00127747, -0.00692185, ...,  0.00447784,\n",
       "        -0.05822078, -0.01456379],\n",
       "       [ 0.02194925, -0.00595782,  0.07095693, ...,  0.01606425,\n",
       "        -0.03983363, -0.059967  ],\n",
       "       [-0.04728002,  0.01010381,  0.03145064, ...,  0.01932059,\n",
       "        -0.03408693, -0.0095098 ],\n",
       "       ...,\n",
       "       [ 0.01490163,  0.02248372, -0.03599665, ...,  0.03834848,\n",
       "        -0.00679303,  0.00963236],\n",
       "       [ 0.04145366,  0.06465514, -0.05760354, ...,  0.01738696,\n",
       "        -0.00150404, -0.06435834],\n",
       "       [-0.04335417, -0.09937145,  0.12155691, ..., -0.03848229,\n",
       "         0.00924537,  0.08536065]])"
      ]
     },
     "execution_count": 57,
     "metadata": {},
     "output_type": "execute_result"
    }
   ],
   "source": [
    "wrapper_v1(invMat_v1,[X])"
   ]
  },
  {
   "cell_type": "code",
   "execution_count": 4,
   "id": "4e6ec7a7",
   "metadata": {},
   "outputs": [],
   "source": [
    "def wrapper_v2(func,args) :\n",
    "    process = psutil.Process(os.getpid())\n",
    "    fname = str(process.pid) + \".log\"\n",
    "    fout = open(fname, mode=\"a+\")\n",
    "    msg = \"process \"\n",
    "    msg += str(process.pid)\n",
    "    msg += \" using \" \n",
    "    msg += str(process.memory_info().rss)\n",
    "    msg += \" bytes started at : \"\n",
    "    msg += str(datetime.datetime.now())\n",
    "    msg += \"\\n\"\n",
    "    fout.write(msg)\n",
    "    fout.close()\n",
    "    res = func(*args)\n",
    "    fout = open(fname, mode=\"a+\")\n",
    "    msg = \"process \"\n",
    "    msg += str(process.pid)\n",
    "    msg += \" using \" \n",
    "    msg += str(process.memory_info().rss)\n",
    "    msg += \" bytes finished at : \"\n",
    "    msg += str(datetime.datetime.now())\n",
    "    msg += \"\\n\"\n",
    "    fout.write(msg)\n",
    "    fout.close()\n",
    "    return res"
   ]
  },
  {
   "cell_type": "code",
   "execution_count": 5,
   "id": "782b6d1e",
   "metadata": {},
   "outputs": [],
   "source": [
    "result = wrapper_v2(invMat_v1,[X])"
   ]
  },
  {
   "cell_type": "code",
   "execution_count": 60,
   "id": "399d1800",
   "metadata": {},
   "outputs": [],
   "source": [
    "myFile.close()"
   ]
  },
  {
   "cell_type": "code",
   "execution_count": 19,
   "id": "0558551f",
   "metadata": {},
   "outputs": [
    {
     "name": "stdout",
     "output_type": "stream",
     "text": [
      "RAM memory % used: 34.8\n",
      "RAM Used (GB): 9.921536\n"
     ]
    }
   ],
   "source": [
    "# Importing the library\n",
    "import psutil\n",
    "\n",
    "# Getting % usage of virtual_memory ( 3rd field)\n",
    "print('RAM memory % used:', psutil.virtual_memory()[2])\n",
    "# Getting usage of virtual_memory in GB ( 4th field)\n",
    "print('RAM Used (GB):', psutil.virtual_memory()[3]/1000000000)\n"
   ]
  },
  {
   "cell_type": "code",
   "execution_count": 21,
   "id": "612f7e48",
   "metadata": {},
   "outputs": [
    {
     "name": "stdout",
     "output_type": "stream",
     "text": [
      "93102080\n"
     ]
    }
   ],
   "source": [
    "import os, psutil\n",
    "import os, psutil\n",
    "process = psutil.Process(os.getpid())\n",
    "print(process.memory_info().rss)  # in bytes  \n"
   ]
  },
  {
   "cell_type": "code",
   "execution_count": null,
   "id": "9caec29f",
   "metadata": {},
   "outputs": [],
   "source": []
  },
  {
   "cell_type": "code",
   "execution_count": 48,
   "id": "64ab03eb",
   "metadata": {},
   "outputs": [],
   "source": [
    "def f(x,y) :\n",
    "    return x + y\n",
    "\n",
    "def g(func,args) :\n",
    "    return func(*args)\n",
    "\n"
   ]
  },
  {
   "cell_type": "code",
   "execution_count": 51,
   "id": "3f4c4cfe",
   "metadata": {},
   "outputs": [
    {
     "data": {
      "text/plain": [
       "7"
      ]
     },
     "execution_count": 51,
     "metadata": {},
     "output_type": "execute_result"
    }
   ],
   "source": [
    "g(f,(3,4))"
   ]
  },
  {
   "cell_type": "code",
   "execution_count": null,
   "id": "f8a9bdde",
   "metadata": {},
   "outputs": [],
   "source": []
  }
 ],
 "metadata": {
  "kernelspec": {
   "display_name": "Python 3 (ipykernel)",
   "language": "python",
   "name": "python3"
  },
  "language_info": {
   "codemirror_mode": {
    "name": "ipython",
    "version": 3
   },
   "file_extension": ".py",
   "mimetype": "text/x-python",
   "name": "python",
   "nbconvert_exporter": "python",
   "pygments_lexer": "ipython3",
   "version": "3.9.9"
  }
 },
 "nbformat": 4,
 "nbformat_minor": 5
}
