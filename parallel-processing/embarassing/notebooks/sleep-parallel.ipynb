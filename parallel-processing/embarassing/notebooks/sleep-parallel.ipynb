{
 "cells": [
  {
   "cell_type": "code",
   "execution_count": 2,
   "id": "d9d0411c",
   "metadata": {},
   "outputs": [],
   "source": [
    "import sys\n",
    "import time\n",
    "import datetime\n"
   ]
  },
  {
   "cell_type": "code",
   "execution_count": 3,
   "id": "72db4083",
   "metadata": {},
   "outputs": [],
   "source": [
    "def sleep(t) :\n",
    "    print(sys.version)\n",
    "    print(\"the time is now \",datetime.datetime.now())\n",
    "    print(\"zzzzzz\")\n",
    "    time.sleep(t)\n",
    "    print(\"hello - I slept for \",t,\" seconds\")\n",
    "    print(\"the time is now \",datetime.datetime.now())\n",
    "    \n",
    "    "
   ]
  },
  {
   "cell_type": "code",
   "execution_count": 4,
   "id": "79753e21",
   "metadata": {},
   "outputs": [
    {
     "name": "stdout",
     "output_type": "stream",
     "text": [
      "3.9.9 (main, Nov 23 2021, 15:45:17) \n",
      "[GCC 9.3.0]\n",
      "the time is now  2023-01-31 14:54:31.631805\n",
      "zzzzzz\n",
      "hello - I slept for  10  seconds\n",
      "the time is now  2023-01-31 14:54:41.642213\n"
     ]
    }
   ],
   "source": [
    "sleep(10)"
   ]
  },
  {
   "cell_type": "code",
   "execution_count": 5,
   "id": "a01b2d50",
   "metadata": {},
   "outputs": [],
   "source": [
    "import multiprocessing as mp"
   ]
  },
  {
   "cell_type": "code",
   "execution_count": 7,
   "id": "3fb3a158",
   "metadata": {},
   "outputs": [
    {
     "name": "stdout",
     "output_type": "stream",
     "text": [
      "3.9.9 (main, Nov 23 2021, 15:45:17) \n",
      "[GCC 9.3.0]3.9.9 (main, Nov 23 2021, 15:45:17) \n",
      "[GCC 9.3.0]3.9.9 (main, Nov 23 2021, 15:45:17) \n",
      "[GCC 9.3.0]3.9.9 (main, Nov 23 2021, 15:45:17) \n",
      "[GCC 9.3.0]\n",
      "\n",
      "\n",
      "\n",
      "the time is now the time is now the time is now the time is now     2023-01-31 14:57:29.4547132023-01-31 14:57:29.4545782023-01-31 14:57:29.4555312023-01-31 14:57:29.455262\n",
      "\n",
      "\n",
      "\n",
      "zzzzzzzzzzzzzzzzzzzzzzzz\n",
      "\n",
      "\n",
      "\n",
      "hello - I slept for  5  seconds\n",
      "the time is now  2023-01-31 14:57:34.473422\n",
      "hello - I slept for  10  seconds\n",
      "the time is now  2023-01-31 14:57:39.478525\n",
      "hello - I slept for  15  seconds\n",
      "the time is now  2023-01-31 14:57:44.481756\n",
      "hello - I slept for  20  seconds\n",
      "the time is now  2023-01-31 14:57:49.489029\n"
     ]
    }
   ],
   "source": [
    "pool = mp.Pool(4)\n",
    "pool.map(sleep,[5,10,15,20])\n",
    "pool.close()"
   ]
  },
  {
   "cell_type": "code",
   "execution_count": null,
   "id": "5ebd9f25",
   "metadata": {},
   "outputs": [],
   "source": []
  },
  {
   "cell_type": "code",
   "execution_count": 9,
   "id": "60e3c0a9",
   "metadata": {},
   "outputs": [],
   "source": [
    "import numpy as np"
   ]
  },
  {
   "cell_type": "code",
   "execution_count": 15,
   "id": "0f2c6ec6",
   "metadata": {},
   "outputs": [],
   "source": [
    "n = 3\n",
    "X = np.random.random((3,3))\n",
    "invX = np.linalg.inv(X)"
   ]
  }
 ],
 "metadata": {
  "kernelspec": {
   "display_name": "Python 3 (ipykernel)",
   "language": "python",
   "name": "python3"
  },
  "language_info": {
   "codemirror_mode": {
    "name": "ipython",
    "version": 3
   },
   "file_extension": ".py",
   "mimetype": "text/x-python",
   "name": "python",
   "nbconvert_exporter": "python",
   "pygments_lexer": "ipython3",
   "version": "3.9.9"
  }
 },
 "nbformat": 4,
 "nbformat_minor": 5
}
