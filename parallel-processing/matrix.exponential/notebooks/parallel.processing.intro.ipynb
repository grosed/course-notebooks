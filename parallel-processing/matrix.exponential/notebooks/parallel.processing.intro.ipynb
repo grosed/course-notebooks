{
 "cells": [
  {
   "cell_type": "markdown",
   "id": "560c36f5",
   "metadata": {},
   "source": [
    "# Parallel Processing - a Brief Introduction"
   ]
  },
  {
   "cell_type": "markdown",
   "id": "74cf6107",
   "metadata": {},
   "source": [
    "## Version 1"
   ]
  },
  {
   "cell_type": "markdown",
   "id": "0606440e",
   "metadata": {},
   "source": [
    "#### python"
   ]
  },
  {
   "cell_type": "markdown",
   "id": "30273542",
   "metadata": {},
   "source": [
    "```python\n",
    "import numpy as np\n",
    "\n",
    "np.random.seed(0)\n",
    "\n",
    "n = 100\n",
    "m = 10\n",
    "\n",
    "X = np.random.rand(n,n)\n",
    "Z = np.identity(n)\n",
    "Y = Z\n",
    "\n",
    "for k in range(1,m) :\n",
    "    Z = np.matmul(Z,X)/k\n",
    "    Y = np.add(Y,Z)\n",
    "```"
   ]
  },
  {
   "cell_type": "markdown",
   "id": "edcada2f",
   "metadata": {},
   "source": [
    "#### R"
   ]
  },
  {
   "cell_type": "markdown",
   "id": "32700cc9",
   "metadata": {},
   "source": [
    "```R\n",
    "set.seed(0)\n",
    "\n",
    "n <- 10\n",
    "m <- 10\n",
    "\n",
    "X <- matrix(runif(n^2),n,n)\n",
    "Z <- diag(n)\n",
    "Y <- Z\n",
    "\n",
    "for(k in 2:m)\n",
    "{\n",
    "  Z <- Z%*%X/(k-1)\n",
    "  Y <- Y + Z\n",
    "}\n",
    "```"
   ]
  },
  {
   "cell_type": "markdown",
   "id": "20a17a6b",
   "metadata": {},
   "source": [
    "## Version 2"
   ]
  },
  {
   "cell_type": "markdown",
   "id": "eecdb7ae",
   "metadata": {},
   "source": [
    "#### python"
   ]
  },
  {
   "cell_type": "markdown",
   "id": "a8a62a3a",
   "metadata": {},
   "source": [
    "```python\n",
    "import numpy as np\n",
    "import sys\n",
    "\n",
    "n = int(sys.argv[1])\n",
    "m = int(sys.argv[2])\n",
    "s = int(sys.argv[3])\n",
    "\n",
    "np.random.seed(s)\n",
    "\n",
    "X = np.random.rand(n,n)\n",
    "Z = np.identity(n)\n",
    "Y = Z\n",
    "\n",
    "for k in range(1,m) :\n",
    "    Z = np.matmul(Z,X)/k\n",
    "    Y = np.add(Y,Z)\n",
    "```"
   ]
  },
  {
   "cell_type": "markdown",
   "id": "6787b101",
   "metadata": {},
   "source": [
    "#### R"
   ]
  },
  {
   "cell_type": "markdown",
   "id": "e6b04633",
   "metadata": {},
   "source": [
    "```R\n",
    "args <- commandArgs(trailingOnly=TRUE)\n",
    "\n",
    "n <- as.numeric(args[1])\n",
    "m <- as.numeric(args[2])\n",
    "s <- as.numeric(args[3])\n",
    "\n",
    "set.seed(s)\n",
    "\n",
    "X <- matrix(runif(n^2),n,n)\n",
    "Z <- diag(n)\n",
    "Y <- Z\n",
    "\n",
    "for(k in 2:m)\n",
    "{\n",
    "  Z <- Z%*%X/(k-1)\n",
    "  Y <- Y + Z\n",
    "}\n",
    "```"
   ]
  },
  {
   "cell_type": "markdown",
   "id": "2811047c",
   "metadata": {},
   "source": [
    "## Version 3"
   ]
  },
  {
   "cell_type": "markdown",
   "id": "f2febd77",
   "metadata": {},
   "source": [
    "#### python"
   ]
  },
  {
   "cell_type": "markdown",
   "id": "f75e15f6",
   "metadata": {},
   "source": [
    "```python\n",
    "import numpy as np\n",
    "import sys\n",
    "\n",
    "n = int(sys.argv[1])\n",
    "m = int(sys.argv[2])\n",
    "s = int(sys.argv[3])\n",
    "stem = str(sys.argv[4])\n",
    "\n",
    "np.random.seed(s)\n",
    "\n",
    "X = np.random.rand(n,n)\n",
    "Z = np.identity(n)\n",
    "Y = Z\n",
    "\n",
    "for k in range(1,m) :\n",
    "    Z = np.matmul(Z,X)/k\n",
    "    Y = np.add(Y,Z)\n",
    "\n",
    "\n",
    "fileX = stem + \".X.n=\" + str(n) + \".m=\" + str(m) + \".s=\" + str(s)\n",
    "fileY = stem + \".Y.n=\" + str(n) + \".m=\" + str(m) + \".s=\" + str(s)\n",
    "\n",
    "\n",
    "np.save(fileX,X)\n",
    "np.save(fileY,Y)\n",
    "\n",
    "```"
   ]
  },
  {
   "cell_type": "markdown",
   "id": "e464c889",
   "metadata": {},
   "source": [
    "#### R"
   ]
  },
  {
   "cell_type": "markdown",
   "id": "a3648352",
   "metadata": {},
   "source": [
    "```R\n",
    "args <- commandArgs(trailingOnly=TRUE)\n",
    "\n",
    "n <- as.numeric(args[1])\n",
    "m <- as.numeric(args[2])\n",
    "s <- as.numeric(args[3])\n",
    "stem <- args[4]\n",
    "\n",
    "set.seed(s)\n",
    "\n",
    "X <- matrix(runif(n^2),n,n)\n",
    "Z <- diag(n)\n",
    "Y <- Z\n",
    "\n",
    "for(k in 2:m)\n",
    "{\n",
    "  Z <- Z%*%X/(k-1)\n",
    "  Y <- Y + Z\n",
    "}\n",
    "\n",
    "\n",
    "fileX <- paste(stem,\".X.n=\",n,\".m=\",m,\".s=\",s,\".RData\",sep=\"\")\n",
    "fileY <- paste(stem,\".Y.n=\",n,\".m=\",m,\".s=\",s,\".RData\",sep=\"\")\n",
    "\n",
    "\n",
    "save(X,file=fileX)\n",
    "save(Y,file=fileY)\n",
    "```"
   ]
  },
  {
   "cell_type": "markdown",
   "id": "daa65657",
   "metadata": {},
   "source": [
    "## Version 4"
   ]
  },
  {
   "cell_type": "markdown",
   "id": "3e05d4c0",
   "metadata": {},
   "source": [
    "#### python"
   ]
  },
  {
   "cell_type": "markdown",
   "id": "d132efde",
   "metadata": {},
   "source": [
    "```python\n",
    "import numpy as np\n",
    "import sys\n",
    "\n",
    "\n",
    "def matexp(X,m) :\n",
    "    n,_ = np.shape(X)\n",
    "    Z = np.identity(n)\n",
    "    Y = Z\n",
    "    for k in range(1,m) :\n",
    "        Z = np.matmul(Z,X)/k\n",
    "        Y = np.add(Y,Z)\n",
    "    return Y\n",
    "    \n",
    "\n",
    "n = int(sys.argv[1])\n",
    "m = int(sys.argv[2])\n",
    "s = int(sys.argv[3])\n",
    "stem = str(sys.argv[4])\n",
    "\n",
    "np.random.seed(s)\n",
    "\n",
    "X = np.random.rand(n,n)\n",
    "Y = matexp(X,m)\n",
    "\n",
    "\n",
    "fileX = stem + \".X.n=\" + str(n) + \".m=\" + str(m) + \".s=\" + str(s)\n",
    "fileY = stem + \".Y.n=\" + str(n) + \".m=\" + str(m) + \".s=\" + str(s)\n",
    "\n",
    "\n",
    "np.save(fileX,X)\n",
    "np.save(fileY,Y)\n",
    "\n",
    "\n",
    "print(Y)\n",
    "\n",
    "import scipy\n",
    "print(scipy.linalg.expm(X))\n",
    "```"
   ]
  },
  {
   "cell_type": "markdown",
   "id": "83410480",
   "metadata": {},
   "source": [
    "#### R"
   ]
  },
  {
   "cell_type": "markdown",
   "id": "cb5f82dc",
   "metadata": {},
   "source": [
    "```R\n",
    "matexp <- function(X,m)\n",
    "{\n",
    "  n <- dim(X)[1]\n",
    "  Z <- diag(n)\n",
    "  Y <- Z\n",
    "  for(k in 2:m)\n",
    "  {\n",
    "      Z <- Z%*%X/(k-1)\n",
    "      Y <- Y + Z\n",
    "  }\n",
    "return(Y)\n",
    "}\n",
    "\n",
    "args <- commandArgs(trailingOnly=TRUE)\n",
    "\n",
    "n <- as.numeric(args[1])\n",
    "m <- as.numeric(args[2])\n",
    "s <- as.numeric(args[3])\n",
    "stem <- args[4]\n",
    "\n",
    "set.seed(s)\n",
    "\n",
    "X <- matrix(runif(n^2),n,n)\n",
    "Y <- matexp(X,m)\n",
    "\n",
    "\n",
    "fileX <- paste(stem,\".X.n=\",n,\".m=\",m,\".s=\",s,\".RData\",sep=\"\")\n",
    "fileY <- paste(stem,\".Y.n=\",n,\".m=\",m,\".s=\",s,\".RData\",sep=\"\")\n",
    "\n",
    "\n",
    "save(X,file=fileX)\n",
    "save(Y,file=fileY)\n",
    "```"
   ]
  },
  {
   "cell_type": "markdown",
   "id": "05db29e1",
   "metadata": {},
   "source": [
    "## Version 5"
   ]
  },
  {
   "cell_type": "markdown",
   "id": "116cc828",
   "metadata": {},
   "source": [
    "#### python"
   ]
  },
  {
   "cell_type": "markdown",
   "id": "4baa4630",
   "metadata": {},
   "source": [
    "```python\n",
    "from matexp import matexp\n",
    "import numpy as np\n",
    "import sys\n",
    "\n",
    "n = int(sys.argv[1])\n",
    "m = int(sys.argv[2])\n",
    "s = int(sys.argv[3])\n",
    "stem = str(sys.argv[4])\n",
    "\n",
    "np.random.seed(s)\n",
    "\n",
    "X = np.random.rand(n,n)\n",
    "Y = matexp(X,m)\n",
    "\n",
    "\n",
    "fileX = stem + \".X.n=\" + str(n) + \".m=\" + str(m) + \".s=\" + str(s)\n",
    "fileY = stem + \".Y.n=\" + str(n) + \".m=\" + str(m) + \".s=\" + str(s)\n",
    "\n",
    "\n",
    "np.save(fileX,X)\n",
    "np.save(fileY,Y)\n",
    "\n",
    "```"
   ]
  },
  {
   "cell_type": "markdown",
   "id": "19361ce4",
   "metadata": {},
   "source": [
    "#### R"
   ]
  },
  {
   "cell_type": "markdown",
   "id": "639d4fd2",
   "metadata": {},
   "source": [
    "```R\n",
    "\n",
    "```"
   ]
  },
  {
   "cell_type": "markdown",
   "id": "f2f0266e",
   "metadata": {},
   "source": [
    "```R\n",
    "source(\"matrix.exponential.R\")\n",
    "\n",
    "args <- commandArgs(trailingOnly=TRUE)\n",
    "\n",
    "n <- as.numeric(args[1])\n",
    "m <- as.numeric(args[2])\n",
    "s <- as.numeric(args[3])\n",
    "stem <- args[4]\n",
    "\n",
    "set.seed(s)\n",
    "\n",
    "X <- matrix(runif(n^2),n,n)\n",
    "Y <- matexp(X,m)\n",
    "\n",
    "\n",
    "fileX <- paste(stem,\".X.n=\",n,\".m=\",m,\".s=\",s,\".RData\",sep=\"\")\n",
    "fileY <- paste(stem,\".Y.n=\",n,\".m=\",m,\".s=\",s,\".RData\",sep=\"\")\n",
    "\n",
    "\n",
    "save(X,file=fileX)\n",
    "save(Y,file=fileY)\n",
    "```"
   ]
  },
  {
   "cell_type": "markdown",
   "id": "a2faf900",
   "metadata": {},
   "source": [
    "## Version 6"
   ]
  },
  {
   "cell_type": "markdown",
   "id": "d26d14f5",
   "metadata": {},
   "source": [
    "#### python"
   ]
  },
  {
   "cell_type": "markdown",
   "id": "a094a52b",
   "metadata": {},
   "source": [
    "```python\n",
    "from matexp import matexp\n",
    "import numpy as np\n",
    "import sys\n",
    "import os\n",
    "from datetime import datetime\n",
    "\n",
    "pid = os.getpid()\n",
    "print(\"pid is : \",pid)\n",
    "now = datetime.now()\n",
    "print(\"start time : \",now)  \n",
    "\n",
    "\n",
    "n = int(sys.argv[1])\n",
    "m = int(sys.argv[2])\n",
    "s = int(sys.argv[3])\n",
    "stem = str(sys.argv[4])\n",
    "\n",
    "np.random.seed(s)\n",
    "\n",
    "X = np.random.rand(n,n)\n",
    "Y = matexp(X,m)\n",
    "\n",
    "\n",
    "fileX = stem + \".X.n=\" + str(n) + \".m=\" + str(m) + \".s=\" + str(s)\n",
    "fileY = stem + \".Y.n=\" + str(n) + \".m=\" + str(m) + \".s=\" + str(s)\n",
    "\n",
    "\n",
    "np.save(fileX,X)\n",
    "np.save(fileY,Y)\n",
    "\n",
    "now = datetime.now()\n",
    "print(\"end time : \",now) \n",
    "\n",
    "```"
   ]
  },
  {
   "cell_type": "markdown",
   "id": "aed9c6b3",
   "metadata": {},
   "source": [
    "#### R"
   ]
  },
  {
   "cell_type": "markdown",
   "id": "c188bedf",
   "metadata": {},
   "source": [
    "```R\n",
    "source(\"matrix.exponential.R\")\n",
    "\n",
    "args <- commandArgs(trailingOnly=TRUE)\n",
    "\n",
    "n <- as.numeric(args[1])\n",
    "m <- as.numeric(args[2])\n",
    "s <- as.numeric(args[3])\n",
    "stem <- args[4]\n",
    "\n",
    "pid <- as.character(Sys.getpid())\n",
    "now <- as.character(Sys.time())\n",
    "\n",
    "cat(\"pid i : \",pid,'\\n')\n",
    "cat(\"start time : \",now,'\\n')\n",
    "\n",
    "\n",
    "set.seed(s)\n",
    "\n",
    "X <- matrix(runif(n^2),n,n)\n",
    "Y <- matexp(X,m)\n",
    "\n",
    "\n",
    "fileX <- paste(stem,\".X.n=\",n,\".m=\",m,\".s=\",s,\".RData\",sep=\"\")\n",
    "fileY <- paste(stem,\".Y.n=\",n,\".m=\",m,\".s=\",s,\".RData\",sep=\"\")\n",
    "\n",
    "\n",
    "save(X,file=fileX)\n",
    "save(Y,file=fileY)\n",
    "\n",
    "\n",
    "now <- as.character(Sys.time())\n",
    "cat(\"end time : \",now,'\\n')\n",
    "```"
   ]
  },
  {
   "cell_type": "markdown",
   "id": "4d8e74ad",
   "metadata": {},
   "source": [
    "## Version 7"
   ]
  },
  {
   "cell_type": "markdown",
   "id": "d68e6d4e",
   "metadata": {},
   "source": [
    "#### python"
   ]
  },
  {
   "cell_type": "markdown",
   "id": "15b06e06",
   "metadata": {},
   "source": [
    "```python\n",
    "from matexp import matexp\n",
    "import numpy as np\n",
    "from multiprocessing import Pool\n",
    "\n",
    "n = 2000\n",
    "m = 10\n",
    "s = 0\n",
    "\n",
    "np.random.seed(s)\n",
    "\n",
    "pool = Pool(2)\n",
    "\n",
    "X = np.random.rand(n,n)\n",
    "print(\"starting Y1\")\n",
    "H1 = pool.apply_async(matexp,(X,m))\n",
    "\n",
    "X = np.random.rand(n,n)\n",
    "print(\"starting Y2\")\n",
    "H2 = pool.apply_async(matexp,(X,m))\n",
    "\n",
    "print(\"waiting for Y1\")\n",
    "Y1 = H1.get()\n",
    "\n",
    "print(\"waiting for Y1\")\n",
    "Y2 = H2.get()\n",
    "\n",
    "```"
   ]
  },
  {
   "cell_type": "markdown",
   "id": "1527e927",
   "metadata": {},
   "source": [
    "#### R"
   ]
  },
  {
   "cell_type": "markdown",
   "id": "db17dcb5",
   "metadata": {},
   "source": [
    "```R\n",
    "\n",
    "```"
   ]
  },
  {
   "cell_type": "markdown",
   "id": "24bac77a",
   "metadata": {},
   "source": [
    "## Version 8"
   ]
  },
  {
   "cell_type": "markdown",
   "id": "9783e6e2",
   "metadata": {},
   "source": [
    "#### python"
   ]
  },
  {
   "cell_type": "markdown",
   "id": "ee58352e",
   "metadata": {},
   "source": [
    "```python\n",
    "from matexp import matexp\n",
    "import numpy as np\n",
    "from multiprocessing import Pool\n",
    "\n",
    "n = 2000\n",
    "m = 100\n",
    "s = 0\n",
    "\n",
    "np.random.seed(s)\n",
    "\n",
    "pool = Pool(2)\n",
    "\n",
    "X1 = np.random.rand(n,n)\n",
    "X2 = np.random.rand(n,n)\n",
    "\n",
    "print(\"starting Y1 and Y2\")\n",
    "result = pool.starmap(matexp,[(X1,m),(X2,m)])\n",
    "\n",
    "\n",
    "```"
   ]
  },
  {
   "cell_type": "markdown",
   "id": "54a85f17",
   "metadata": {},
   "source": [
    "#### R"
   ]
  },
  {
   "cell_type": "markdown",
   "id": "a724afa8",
   "metadata": {},
   "source": [
    "```R\n",
    "source(\"matrix.exponential.R\")\n",
    "\n",
    "library(parallel)\n",
    "\n",
    "n <- 2000\n",
    "m <- 100\n",
    "s <- 0\n",
    "\n",
    "set.seed(0)\n",
    "\n",
    "X1 <- matrix(runif(n^2),n,n)\n",
    "X2 <- matrix(runif(n^2),n,n)\n",
    "\n",
    "# detectCores()\n",
    "\n",
    "result <- mclapply(list(X1,X2),matexp,m,mc.cores=4)\n",
    "```"
   ]
  },
  {
   "cell_type": "markdown",
   "id": "5e6542a5",
   "metadata": {},
   "source": [
    "## Version 9"
   ]
  },
  {
   "cell_type": "markdown",
   "id": "9625f50c",
   "metadata": {},
   "source": [
    "#### R"
   ]
  },
  {
   "cell_type": "markdown",
   "id": "2dcde63f",
   "metadata": {},
   "source": [
    "```R\n",
    "source(\"matrix.exponential.R\")\n",
    "\n",
    "library(parallel)\n",
    "\n",
    "n <- 2000\n",
    "m <- 40\n",
    "s <- 0\n",
    "\n",
    "set.seed(0)\n",
    "\n",
    "Xs <- list()\n",
    "for(i in 1:10)\n",
    "{\n",
    "  Xs[[i]] <- matrix(runif(n^2),n,n) \n",
    "}\n",
    "\n",
    "\n",
    "# detectCores()\n",
    "\n",
    "result <- mclapply(Xs,matexp,m,mc.cores=16)\n",
    "\n",
    "```"
   ]
  }
 ],
 "metadata": {
  "kernelspec": {
   "display_name": "Python 3 (ipykernel)",
   "language": "python",
   "name": "python3"
  },
  "language_info": {
   "codemirror_mode": {
    "name": "ipython",
    "version": 3
   },
   "file_extension": ".py",
   "mimetype": "text/x-python",
   "name": "python",
   "nbconvert_exporter": "python",
   "pygments_lexer": "ipython3",
   "version": "3.10.0"
  }
 },
 "nbformat": 4,
 "nbformat_minor": 5
}
